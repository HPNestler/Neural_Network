{
 "cells": [
  {
   "cell_type": "code",
   "execution_count": 1,
   "metadata": {},
   "outputs": [
    {
     "name": "stdout",
     "output_type": "stream",
     "text": [
      "['', '/mnt/raid1/Python_projects/Neural_Network', '/home/peter/anaconda3/envs/my-rdkit-env/lib/python37.zip', '/home/peter/anaconda3/envs/my-rdkit-env/lib/python3.7', '/home/peter/anaconda3/envs/my-rdkit-env/lib/python3.7/lib-dynload', '/home/peter/anaconda3/envs/my-rdkit-env/lib/python3.7/site-packages', '/home/peter/anaconda3/envs/my-rdkit-env/lib/python3.7/site-packages/IPython/extensions', '/home/peter/.ipython']\n"
     ]
    }
   ],
   "source": [
    "import sys\n",
    "print(sys.path)\n"
   ]
  },
  {
   "cell_type": "code",
   "execution_count": 2,
   "metadata": {},
   "outputs": [
    {
     "name": "stdout",
     "output_type": "stream",
     "text": [
      "['', '/mnt/raid1/Python_projects/Neural_Network', '/home/peter/anaconda3/envs/my-rdkit-env/lib/python37.zip', '/home/peter/anaconda3/envs/my-rdkit-env/lib/python3.7', '/home/peter/anaconda3/envs/my-rdkit-env/lib/python3.7/lib-dynload', '/home/peter/anaconda3/envs/my-rdkit-env/lib/python3.7/site-packages', '/home/peter/anaconda3/envs/my-rdkit-env/lib/python3.7/site-packages/IPython/extensions', '/home/peter/.ipython', \"'/mnt/raid1/Python_projects\"]\n"
     ]
    }
   ],
   "source": [
    "sys.path.append(\"'/mnt/raid1/Python_projects\")\n",
    "print(sys.path)\n"
   ]
  },
  {
   "cell_type": "code",
   "execution_count": null,
   "metadata": {},
   "outputs": [],
   "source": []
  }
 ],
 "metadata": {
  "kernelspec": {
   "display_name": "Python 3",
   "language": "python",
   "name": "python3"
  },
  "language_info": {
   "codemirror_mode": {
    "name": "ipython",
    "version": 3
   },
   "file_extension": ".py",
   "mimetype": "text/x-python",
   "name": "python",
   "nbconvert_exporter": "python",
   "pygments_lexer": "ipython3",
   "version": "3.7.3"
  }
 },
 "nbformat": 4,
 "nbformat_minor": 4
}
