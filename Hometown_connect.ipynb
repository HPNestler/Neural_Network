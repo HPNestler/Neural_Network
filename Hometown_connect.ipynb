{
 "cells": [
  {
   "cell_type": "code",
   "execution_count": 5,
   "id": "11f17689",
   "metadata": {},
   "outputs": [
    {
     "name": "stdout",
     "output_type": "stream",
     "text": [
      "[(1.0, 1.0, 1.0, 1.0, 1, None), (5.0, 4.0, 2.0, 4.0, 1, None), (9.0, 9.0, 1.0, 1.0, 1, None), (3.0, 3.0, 2.0, 2.0, 1, None), (15.0, 4.0, 0.5, 1.0, 1, None), (18.0, 2.0, 0.75, 2.0, 1, None), (6.0, 15.0, 0.25, 0.3, 1, None), (2.0, 13.0, 3.0, 10.0, 1, None), (14.0, 7.0, 2.0, 15.0, 1, None), (7.0, 3.0, 1.5, 6.0, 1, None), (14.0, 14.0, 2.0, 12.0, 1, None), (16.0, 10.0, 3.0, 17.0, 1, None), (15.0, 11.0, 1.0, 7.0, 1, None), (6.0, 15.0, 2.0, 3.0, 1, None)]\n"
     ]
    }
   ],
   "source": [
    "import plotly.graph_objects as go\n",
    "import psycopg2\n",
    "\n",
    "# open database connection\n",
    "db_nn = psycopg2.connect(host = \"192.168.86.31\", dbname=\"Chemistry\", user=\"postgres\", password=\"postgres\")\n",
    "\n",
    "\n",
    "# generate random floating point values\n",
    "from random import seed\n",
    "from random import random\n",
    "# seed random number generator\n",
    "seed()\n",
    "\n",
    "\n",
    "    \n",
    "# print(x, y)\n",
    "\n",
    "# create a cursor\n",
    "cur = db_nn.cursor()\n",
    "cur.execute('SELECT * FROM public.\"Neurons_2D\" WHERE \"Network\" = 1')\n",
    "nn_list = cur.fetchall()\n",
    "print(nn_list)"
   ]
  },
  {
   "cell_type": "code",
   "execution_count": null,
   "id": "51e48295",
   "metadata": {},
   "outputs": [],
   "source": []
  }
 ],
 "metadata": {
  "kernelspec": {
   "display_name": "Python [conda env:rdkit] *",
   "language": "python",
   "name": "conda-env-rdkit-py"
  },
  "language_info": {
   "codemirror_mode": {
    "name": "ipython",
    "version": 3
   },
   "file_extension": ".py",
   "mimetype": "text/x-python",
   "name": "python",
   "nbconvert_exporter": "python",
   "pygments_lexer": "ipython3",
   "version": "3.7.10"
  }
 },
 "nbformat": 4,
 "nbformat_minor": 5
}
