{
 "cells": [
  {
   "cell_type": "code",
   "execution_count": 2,
   "id": "11f17689",
   "metadata": {},
   "outputs": [
    {
     "name": "stdout",
     "output_type": "stream",
     "text": [
      "[(1.0, 1.0, 1.0, 1.0, 1, 1, 1), (5.0, 4.0, 2.0, 4.0, 1, 1, 2), (9.0, 9.0, 1.0, 1.0, 1, 1, 3), (3.0, 3.0, 2.0, 2.0, 1, 1, 4), (15.0, 4.0, 0.5, 1.0, 1, 1, 5), (18.0, 2.0, 0.75, 2.0, 1, 1, 6), (6.0, 15.0, 0.25, 0.3, 1, 1, 7), (2.0, 13.0, 3.0, 10.0, 1, 1, 8), (14.0, 7.0, 2.0, 15.0, 1, 1, 9), (7.0, 3.0, 1.5, 6.0, 1, 1, 10), (14.0, 14.0, 2.0, 12.0, 1, 1, 11), (16.0, 10.0, 3.0, 17.0, 1, 1, 12), (15.0, 11.0, 1.0, 7.0, 1, 1, 13), (6.0, 15.0, 2.0, 3.0, 1, 2, 14), (1.0, 1.0, 1.0, 1.0, 1, 1, 96), (5.0, 4.0, 2.0, 4.0, 1, 1, 97), (9.0, 9.0, 1.0, 1.0, 1, 1, 98), (3.0, 3.0, 2.0, 2.0, 1, 1, 99), (15.0, 4.0, 0.5, 1.0, 1, 1, 100), (18.0, 2.0, 0.75, 2.0, 1, 1, 101), (6.0, 15.0, 0.25, 0.3, 1, 1, 102), (2.0, 13.0, 3.0, 10.0, 1, 1, 103), (14.0, 7.0, 2.0, 15.0, 1, 1, 104), (7.0, 3.0, 1.5, 6.0, 1, 1, 105), (14.0, 14.0, 2.0, 12.0, 1, 1, 106), (16.0, 10.0, 3.0, 17.0, 1, 1, 107), (15.0, 11.0, 1.0, 7.0, 1, 1, 108), (6.0, 15.0, 2.0, 3.0, 1, 2, 109)]\n"
     ]
    }
   ],
   "source": [
    "import plotly.graph_objects as go\n",
    "import psycopg2\n",
    "\n",
    "# open database connection\n",
    "db_nn = psycopg2.connect(host = \"192.168.86.31\", dbname=\"Chemistry\", user=\"postgres\", password=\"postgres\")\n",
    "\n",
    "\n",
    "# generate random floating point values\n",
    "from random import seed\n",
    "from random import random\n",
    "# seed random number generator\n",
    "seed()\n",
    "\n",
    "\n",
    "    \n",
    "# print(x, y)\n",
    "\n",
    "# create a cursor\n",
    "cur = db_nn.cursor()\n",
    "cur.execute('SELECT * FROM \"network\".\"Neurons_2D\" WHERE \"Network\" = 1')\n",
    "nn_list = cur.fetchall()\n",
    "print(nn_list)"
   ]
  },
  {
   "cell_type": "code",
   "execution_count": 3,
   "id": "51e48295",
   "metadata": {},
   "outputs": [
    {
     "name": "stdout",
     "output_type": "stream",
     "text": [
      "[(10, 'CCO', 'CCO'), (11, 'CCN', 'CCN'), (13, 'CCC', 'CCC'), (14, 'CSC', 'CSC'), (15, 'CCSCC', 'CCSCC'), (16, 'CCCC', 'CCCC'), (17, 'c1ccccc1', 'c1ccccc1'), (18, 'c1cnccc1', 'c1ccncc1'), (19, 'Cc1ccccc1', 'Cc1ccccc1'), (20, 'Cc1ccncc1', 'Cc1ccncc1'), (21, 'Cc1cccnc1', 'Cc1cccnc1'), (22, 'Cc1ccncc1Cl', 'Cc1ccncc1Cl'), (23, 'Cc1c(N)cncc1Cl', 'Cc1c(N)cncc1Cl'), (24, 'CCOCC', 'CCOCC'), (34, 'CCNCC', 'CCNCC'), (35, 'CCSC', 'CCSC'), (36, 'CCPCC', 'CCPCC'), (37, 'CCOP(=O)C', 'CCO[PH](C)=O'), (38, 'CCCNCC', 'CCCNCC'), (39, 'O=C1NC(S/C1=C\\\\C2=CC=C(C3=C([N+]([O-])=O)C=CC=C3)O2)=N', 'N=C1NC(=O)/C(=C/c2ccc(-c3ccccc3[N+](=O)[O-])o2)S1'), (40, 'OC1=CC=C(C(C)(C)C)C=C1/N=C/C2=CC=CC([N+]([O-])=O)=C2 ', 'CC(C)(C)c1ccc(O)c(/N=C/c2cccc([N+](=O)[O-])c2)c1'), (41, 'C1=CC=C(C(=C1)C2=NC(=NO2)C3=CC(=CC=C3)C(=O)O)F', 'O=C(O)c1cccc(-c2noc(-c3ccccc3F)n2)c1'), (42, 'C[C@H]1[C@H]2Cc3ccc(O)cc3[C@@]1(C)CCN2CCC#N', 'C[C@H]1[C@H]2Cc3ccc(O)cc3[C@@]1(C)CCN2CCC#N'), (43, 'C[C@H]1[C@H]2Cc3ccc(O)cc3[C@@]1(C)CCN2CCCC#N', 'C[C@H]1[C@H]2Cc3ccc(O)cc3[C@@]1(C)CCN2CCCC#N'), (44, 'C#CCCN1CC[C@]2(C)c3cc(O)ccc3C[C@@H]1[C@@H]2C', 'C#CCCN1CC[C@]2(C)c3cc(O)ccc3C[C@@H]1[C@@H]2C'), (45, 'C=CCCN1CC[C@]2(C)c3cc(O)ccc3C[C@@H]1[C@@H]2C', 'C=CCCN1CC[C@]2(C)c3cc(O)ccc3C[C@@H]1[C@@H]2C'), (46, 'C=CCN1CC[C@]2(C)c3cc(O)ccc3C[C@@H]1[C@@H]2C', 'C=CCN1CC[C@]2(C)c3cc(O)ccc3C[C@@H]1[C@@H]2C'), (47, 'CCCCCCNc1nc(NC2CCN(C)CC2)c2cc(OC)c(OC)cc2n1', 'CCCCCCNc1nc(NC2CCN(C)CC2)c2cc(OC)c(OC)cc2n1'), (48, 'COc1cc2nc(N3CCOCC3)nc(NC3CCN(C)CC3)c2cc1OC', 'COc1cc2nc(N3CCOCC3)nc(NC3CCN(C)CC3)c2cc1OC'), (49, 'C1(=C2C(=NC=N1)[N](C=N2)[C@@H]3[C@@H]([C@H](CO3)O)O)O', 'Oc1ncnc2c1ncn2[C@H]1OC[C@H](O)[C@H]1O'), (50, 'C1=NC(=C2C(=N1)N(C=N2)[C@H]3[C@@H]([C@@H]([C@H](O3)COP(=O)(O)OP(=O)(O)OP(=O)(O)O)O)O)N', 'Nc1ncnc2c1ncn2[C@@H]1O[C@H](COP(=O)(O)OP(=O)(O)OP(=O)(O)O)[C@@H](O)[C@H]1O'), (70, 'c1ccoc1', 'c1ccoc1'), (51, 'NCCOCCCC(=O)N[C@@H](CC1=CC=C(OP(O)(=O)NP(O)(=O)OP(O)(=O)OC[C@H]2O[C@H]([C@H](O)[C@@H]2O)N2C=NC3=C(N)N=CN=C23)C=C1)C(O)=O', 'NCCOCCCC(=O)N[C@@H](Cc1ccc(OP(=O)(O)NP(=O)(O)OP(=O)(O)OC[C@H]2O[C@@H](n3cnc4c(N)ncnc43)[C@H](O)[C@@H]2O)cc1)C(=O)O'), (56, 'C1=CC(=CC=C1C=CC(=O)C2=C(C=C(C=C2)O)O)O', 'O=C(C=Cc1ccc(O)cc1)c1ccc(O)cc1O'), (57, 'C1=CC(=CC=C1/C=C/C(=S)C2=C(C=C(C=C2)O)O)O', 'Oc1ccc(/C=C/C(=S)c2ccc(O)cc2O)cc1'), (58, 'CC(C(C1=NC=C(C=C1)O)O)C(C(=S)NC(C2C(C(C(O2)N3C=CC(=O)NC3=O)O)O)C(=O)O)N', 'CC(C(N)C(=S)NC(C(=O)O)C1OC(n2ccc(=O)[nH]c2=O)C(O)C1O)C(O)c1ccc(O)cn1'), (59, 'C[C@H]([C@@H](C1=NC=C(C=C1)O)O)[C@@H](C(=O)N[C@@H]([C@@H]2[C@H]([C@H]([C@@H](O2)N3C=CC(=O)NC3=O)O)O)C(=O)O)N', 'C[C@@H]([C@H](N)C(=O)N[C@H](C(=O)O)[C@H]1O[C@@H](n2ccc(=O)[nH]c2=O)[C@H](O)[C@@H]1O)[C@H](O)c1ccc(O)cn1'), (60, 'CC(C(C1=NC=C(C=C1)O)O)C(C(=O)NC(C2C(C(C(O2)N3C=CC(=S)NC3=O)O)O)C(=O)O)N', 'CC(C(N)C(=O)NC(C(=O)O)C1OC(n2ccc(=S)[nH]c2=O)C(O)C1O)C(O)c1ccc(O)cn1'), (61, 'CC(C(C1=NC=C(C=C1)O)O)C(C(=O)NC(C2C(C(C(O2)N3C=CC(=O)NC3=O)O)O)C(=O)O)N', 'CC(C(N)C(=O)NC(C(=O)O)C1OC(n2ccc(=O)[nH]c2=O)C(O)C1O)C(O)c1ccc(O)cn1'), (62, 'C[C@H](C(C1=NC=C(C=C1)O)O)C(C(=O)NC(C2C(C(C(O2)N3C=CC(=O)NC3=O)O)O)C(=O)O)N', 'C[C@@H](C(N)C(=O)NC(C(=O)O)C1OC(n2ccc(=O)[nH]c2=O)C(O)C1O)C(O)c1ccc(O)cn1'), (63, 'CC1(CC(CC(N1)(C)C)Oc2ccc(nn2)c3ccc(cc3O)c4c[nH]nc4)C', 'CC1(C)CC(Oc2ccc(-c3ccc(-c4cn[nH]c4)cc3O)nn2)CC(C)(C)N1'), (64, 'O=C1C=C(C2=NN3C(C(CC)=NC(C)=C3)=C2)N=C4N1C=C(C5CCN(C)CC5)C=C4C', 'CCc1nc(C)cn2nc(-c3cc(=O)n4cc(C5CCN(C)CC5)cc(C)c4n3)cc12'), (65, 'O1CCOCC1', 'C1COCCO1'), (66, 'C1CCNCC1', 'C1CCNCC1'), (67, 'C1CNCCN1', 'C1CNCCN1'), (68, 'C1=CC=CCO1', 'C1=CCOC=C1'), (69, 'C1=CCC=CO1', 'C1=COC=CC1'), (71, 'C1C=CC=CS1', 'C1=CCSC=C1'), (72, 'C1C=CSC=C1', 'C1=CSC=CC1'), (73, 'CC(=O)OC1=CC=CC=C1C(=O)O', 'CC(=O)Oc1ccccc1C(=O)O'), (74, 'CC(C)CC1=CC=C(C=C1)C(C)C(=O)O', 'CC(C)Cc1ccc(C(C)C(=O)O)cc1'), (75, 'CC(=O)NC1=CC=C(C=C1)O', 'CC(=O)Nc1ccc(O)cc1'), (77, '[nH]1cccc1', 'c1cc[nH]c1'), (78, 'N1C=C(C)C=C1', 'Cc1cc[nH]c1'), (79, 'CN1C=NC2=C1C(=O)N(C(=O)N2C)C', 'Cn1c(=O)c2c(ncn2C)n(C)c1=O'), (80, 'NC1=NC=NC2=C1N=CN2', 'Nc1ncnc2[nH]cnc12'), (83, 'c1[nH]c2c(n1)nc(nc2O)O', 'Oc1nc(O)c2[nH]cnc2n1'), (84, 'Cn1cnc2c1c(=O)[nH]c(=O)n2C', 'Cn1cnc2c1c(=O)[nH]c(=O)n2C'), (85, 'Cn1c2c(c(=O)n(c1=O)C)[nH]cn2', 'Cn1c(=O)c2[nH]cnc2n(C)c1=O'), (86, 'O=C2Nc1ncn(c1C(=O)N2C)C', 'Cn1c(=O)[nH]c2ncn(C)c2c1=O'), (88, 'OC1C2NCNC2NC(N)N1', 'NC1NC(O)C2NCNC2N1'), (95, 'OCCCN', 'NCCCO'), (96, 'NCCCN', 'NCCCN'), (97, 'SCCCS', 'SCCCS'), (98, 'O=C1C2NC(C)NC2NC(N)N1', 'CC1NC2NC(N)NC(=O)C2N1')]\n"
     ]
    }
   ],
   "source": [
    "cur.execute('SELECT * FROM \"public\".\"Structures\"')\n",
    "nn_list = cur.fetchall()\n",
    "print(nn_list)"
   ]
  },
  {
   "cell_type": "code",
   "execution_count": 4,
   "id": "f3f7bac7",
   "metadata": {},
   "outputs": [
    {
     "name": "stdout",
     "output_type": "stream",
     "text": [
      "[(1, 'CHEMBLID                                                                                            ', None), (2, 'Preffered Name                                                                                      ', None), (3, 'Comment                                                                                             ', None), (4, 'Description                                                                                         ', None), (5, 'Chem_Structure_ID                                                                                   ', None)]\n"
     ]
    }
   ],
   "source": [
    "cur.execute('SELECT * FROM zafrens.\"Obj_Prop_Types\"')\n",
    "nn_list = cur.fetchall()\n",
    "print(nn_list)"
   ]
  },
  {
   "cell_type": "code",
   "execution_count": null,
   "id": "91602b56",
   "metadata": {},
   "outputs": [],
   "source": [
    "db_nn.close()"
   ]
  },
  {
   "cell_type": "code",
   "execution_count": null,
   "id": "7a61089d",
   "metadata": {},
   "outputs": [],
   "source": []
  }
 ],
 "metadata": {
  "kernelspec": {
   "display_name": "Python [conda env:rdkit] *",
   "language": "python",
   "name": "conda-env-rdkit-py"
  },
  "language_info": {
   "codemirror_mode": {
    "name": "ipython",
    "version": 3
   },
   "file_extension": ".py",
   "mimetype": "text/x-python",
   "name": "python",
   "nbconvert_exporter": "python",
   "pygments_lexer": "ipython3",
   "version": "3.7.11"
  }
 },
 "nbformat": 4,
 "nbformat_minor": 5
}
