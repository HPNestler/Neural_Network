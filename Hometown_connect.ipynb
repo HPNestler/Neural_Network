{
 "cells": [
  {
   "cell_type": "code",
   "execution_count": 8,
   "id": "11f17689",
   "metadata": {},
   "outputs": [
    {
     "name": "stdout",
     "output_type": "stream",
     "text": [
      "[(1.0, 1.0, 1.0, 1.0, 1, 1, 1), (5.0, 4.0, 2.0, 4.0, 1, 1, 2), (9.0, 9.0, 1.0, 1.0, 1, 1, 3), (3.0, 3.0, 2.0, 2.0, 1, 1, 4), (15.0, 4.0, 0.5, 1.0, 1, 1, 5), (18.0, 2.0, 0.75, 2.0, 1, 1, 6), (6.0, 15.0, 0.25, 0.3, 1, 1, 7), (2.0, 13.0, 3.0, 10.0, 1, 1, 8), (14.0, 7.0, 2.0, 15.0, 1, 1, 9), (7.0, 3.0, 1.5, 6.0, 1, 1, 10), (14.0, 14.0, 2.0, 12.0, 1, 1, 11), (16.0, 10.0, 3.0, 17.0, 1, 1, 12), (15.0, 11.0, 1.0, 7.0, 1, 1, 13), (6.0, 15.0, 2.0, 3.0, 1, 2, 14), (1.0, 1.0, 1.0, 1.0, 1, 1, 96), (5.0, 4.0, 2.0, 4.0, 1, 1, 97), (9.0, 9.0, 1.0, 1.0, 1, 1, 98), (3.0, 3.0, 2.0, 2.0, 1, 1, 99), (15.0, 4.0, 0.5, 1.0, 1, 1, 100), (18.0, 2.0, 0.75, 2.0, 1, 1, 101), (6.0, 15.0, 0.25, 0.3, 1, 1, 102), (2.0, 13.0, 3.0, 10.0, 1, 1, 103), (14.0, 7.0, 2.0, 15.0, 1, 1, 104), (7.0, 3.0, 1.5, 6.0, 1, 1, 105), (14.0, 14.0, 2.0, 12.0, 1, 1, 106), (16.0, 10.0, 3.0, 17.0, 1, 1, 107), (15.0, 11.0, 1.0, 7.0, 1, 1, 108), (6.0, 15.0, 2.0, 3.0, 1, 2, 109)]\n"
     ]
    }
   ],
   "source": [
    "import plotly.graph_objects as go\n",
    "import psycopg2\n",
    "\n",
    "# open database connection\n",
    "db_nn = psycopg2.connect(host = \"192.168.86.31\", dbname=\"Chemistry\", user=\"postgres\", password=\"postgres\")\n",
    "\n",
    "\n",
    "# generate random floating point values\n",
    "from random import seed\n",
    "from random import random\n",
    "# seed random number generator\n",
    "seed()\n",
    "\n",
    "\n",
    "    \n",
    "# print(x, y)\n",
    "\n",
    "# create a cursor\n",
    "cur = db_nn.cursor()\n",
    "cur.execute('SELECT * FROM \"Network\".\"Neurons_2D\" WHERE \"Network\" = 1')\n",
    "nn_list = cur.fetchall()\n",
    "print(nn_list)"
   ]
  },
  {
   "cell_type": "code",
   "execution_count": 4,
   "id": "51e48295",
   "metadata": {},
   "outputs": [
    {
     "name": "stdout",
     "output_type": "stream",
     "text": [
      "[(10, 'CCO', 'CCO'), (11, 'CCN', 'CCN'), (13, 'CCC', 'CCC'), (14, 'CSC', 'CSC'), (15, 'CCSCC', 'CCSCC'), (16, 'CCCC', 'CCCC'), (17, 'c1ccccc1', 'c1ccccc1'), (18, 'c1cnccc1', 'c1ccncc1'), (19, 'Cc1ccccc1', 'Cc1ccccc1'), (20, 'Cc1ccncc1', 'Cc1ccncc1'), (21, 'Cc1cccnc1', 'Cc1cccnc1'), (22, 'Cc1ccncc1Cl', 'Cc1ccncc1Cl'), (23, 'Cc1c(N)cncc1Cl', 'Cc1c(N)cncc1Cl'), (24, 'CCOCC', 'CCOCC'), (34, 'CCNCC', 'CCNCC'), (35, 'CCSC', 'CCSC'), (36, 'CCPCC', 'CCPCC'), (37, 'CCOP(=O)C', 'CCO[PH](C)=O'), (38, 'CCCNCC', 'CCCNCC')]\n"
     ]
    }
   ],
   "source": [
    "cur.execute('SELECT * FROM \"public\".\"Structures\"')\n",
    "nn_list = cur.fetchall()\n",
    "print(nn_list)"
   ]
  },
  {
   "cell_type": "code",
   "execution_count": 10,
   "id": "f3f7bac7",
   "metadata": {},
   "outputs": [
    {
     "name": "stdout",
     "output_type": "stream",
     "text": [
      "[(1, 'CHEMBLID                                                                                            ', None), (2, 'Preffered Name                                                                                      ', None), (3, 'Comment                                                                                             ', None), (4, 'Description                                                                                         ', None), (5, 'Chem_Structure_ID                                                                                   ', None)]\n"
     ]
    }
   ],
   "source": [
    "cur.execute('SELECT * FROM zafrens.\"Obj_Prop_Types\"')\n",
    "nn_list = cur.fetchall()\n",
    "print(nn_list)"
   ]
  },
  {
   "cell_type": "code",
   "execution_count": 7,
   "id": "91602b56",
   "metadata": {},
   "outputs": [],
   "source": [
    "db_nn.close()"
   ]
  },
  {
   "cell_type": "code",
   "execution_count": null,
   "id": "7a61089d",
   "metadata": {},
   "outputs": [],
   "source": []
  }
 ],
 "metadata": {
  "kernelspec": {
   "display_name": "Python [conda env:rdkit] *",
   "language": "python",
   "name": "conda-env-rdkit-py"
  },
  "language_info": {
   "codemirror_mode": {
    "name": "ipython",
    "version": 3
   },
   "file_extension": ".py",
   "mimetype": "text/x-python",
   "name": "python",
   "nbconvert_exporter": "python",
   "pygments_lexer": "ipython3",
   "version": "3.7.10"
  }
 },
 "nbformat": 4,
 "nbformat_minor": 5
}
