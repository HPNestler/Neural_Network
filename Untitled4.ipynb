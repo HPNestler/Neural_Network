{
 "cells": [
  {
   "cell_type": "code",
   "execution_count": 16,
   "id": "777fbd59",
   "metadata": {},
   "outputs": [
    {
     "name": "stdout",
     "output_type": "stream",
     "text": [
      "          CHEMBLID             Name  \\\n",
      "0    CHEMBL1172192              NaN   \n",
      "1    CHEMBL1201753     PITAVASTATIN   \n",
      "2    CHEMBL1240928              NaN   \n",
      "3    CHEMBL1240971        OKICENONE   \n",
      "4    CHEMBL1242196  DEHYDROMUTACTIN   \n",
      "..             ...              ...   \n",
      "107       CHEMBL81       RALOXIFENE   \n",
      "108       CHEMBL83        TAMOXIFEN   \n",
      "109      CHEMBL896      HYDROXYZINE   \n",
      "110  CHEMBL4439279              NaN   \n",
      "111  CHEMBL4439280              NaN   \n",
      "\n",
      "                                              Synonyms            Type  \\\n",
      "0                                                  NaN  Small molecule   \n",
      "1                             ITAVASTATIN|PITAVASTATIN  Small molecule   \n",
      "2                                                  NaN  Small molecule   \n",
      "3                                            Okicenone  Small molecule   \n",
      "4                                      Dehydromutactin  Small molecule   \n",
      "..                                                 ...             ...   \n",
      "107    Evista|J22.982B|LY-139481|RALOXIFENE|Raloxifene  Small molecule   \n",
      "108  ICI-46474|ICI-47699|Nolvadex|Soltamox|TAMOXIFE...  Small molecule   \n",
      "109  Atarax|HYDROXYZINE|Hydroxyzine|NSC-169188|Orga...  Small molecule   \n",
      "110                                                NaN  Small molecule   \n",
      "111                                                NaN  Small molecule   \n",
      "\n",
      "     Max Phase  Molecular Weight  Targets  Bioactivities AlogP     PSA  ...  \\\n",
      "0          0.0            697.14     99.0          112.0  5.37  189.78  ...   \n",
      "1          4.0            421.47     16.0           50.0  4.52   90.65  ...   \n",
      "2          0.0            230.22      4.0           22.0  2.13   70.67  ...   \n",
      "3          0.0            258.27      2.0            4.0  2.57   77.76  ...   \n",
      "4          0.0            284.27      3.0           18.0  2.89    90.9  ...   \n",
      "..         ...               ...      ...            ...   ...     ...  ...   \n",
      "107        4.0            473.59    203.0         1663.0  6.08      70  ...   \n",
      "108        4.0            371.52    279.0         3738.0     6   12.47  ...   \n",
      "109        4.0            374.91     42.0         1509.0  3.06   35.94  ...   \n",
      "110        0.0            484.52      3.0            6.0  4.92   92.34  ...   \n",
      "111        0.0            434.51      5.0            9.0  4.04   92.34  ...   \n",
      "\n",
      "    Structure Type Inorganic Flag Heavy Atoms HBA Lipinski HBD Lipinski  \\\n",
      "0              MOL           -1.0          49           13            5   \n",
      "1              MOL            0.0          31            5            3   \n",
      "2              MOL           -1.0          17            4            2   \n",
      "3              MOL           -1.0          19            4            3   \n",
      "4              MOL           -1.0          21            5            3   \n",
      "..             ...            ...         ...          ...          ...   \n",
      "107            MOL            0.0          34            5            2   \n",
      "108            MOL            0.0          28            2            0   \n",
      "109            MOL            0.0          26            4            1   \n",
      "110            MOL           -1.0          32            6            2   \n",
      "111            MOL           -1.0          29            6            2   \n",
      "\n",
      "    #RO5 Violations (Lipinski) Molecular Weight (Monoisotopic)  \\\n",
      "0                            3                        696.2086   \n",
      "1                            0                        421.1689   \n",
      "2                            0                        230.0579   \n",
      "3                            0                        258.0892   \n",
      "4                            0                        284.0685   \n",
      "..                         ...                             ...   \n",
      "107                          1                        473.1661   \n",
      "108                          1                        371.2249   \n",
      "109                          0                        374.1761   \n",
      "110                          0                        484.0738   \n",
      "111                          0                        434.0770   \n",
      "\n",
      "    Molecular Species Molecular Formula  \\\n",
      "0                ACID     C35H37ClN2O11   \n",
      "1                ACID        C25H24FNO4   \n",
      "2             NEUTRAL          C13H10O4   \n",
      "3             NEUTRAL          C15H14O4   \n",
      "4                ACID          C16H12O5   \n",
      "..                ...               ...   \n",
      "107           NEUTRAL        C28H27NO4S   \n",
      "108              BASE          C26H29NO   \n",
      "109           NEUTRAL      C21H27ClN2O2   \n",
      "110           NEUTRAL    C21H19F3N2O4S2   \n",
      "111           NEUTRAL     C20H19FN2O4S2   \n",
      "\n",
      "                                                Smiles  \n",
      "0    COC1C(OC(=O)c2ccc(C)[nH]2)C(O)C(Oc2ccc3c(O)c(N...  \n",
      "1    O=C(O)C[C@H](O)C[C@H](O)/C=C/c1c(C2CC2)nc2cccc...  \n",
      "2                       Cc1occ2c1C(=O)c1c(O)ccc(O)c1C2  \n",
      "3                   Cc1cc(O)cc2cc3c(c(O)c12)C(=O)CCC3O  \n",
      "4                Cc1cc(O)c2c(O)cccc2c1-c1cc(=O)cc(O)o1  \n",
      "..                                                 ...  \n",
      "107  O=C(c1ccc(OCCN2CCCCC2)cc1)c1c(-c2ccc(O)cc2)sc2...  \n",
      "108      CC/C(=C(\\c1ccccc1)c1ccc(OCCN(C)C)cc1)c1ccccc1  \n",
      "109            OCCOCCN1CCN(C(c2ccccc2)c2ccc(Cl)cc2)CC1  \n",
      "110  Cc1ccc(S(=O)(=O)Nc2ccc(C)cc2NS(=O)(=O)c2cccc(C...  \n",
      "111  Cc1ccc(S(=O)(=O)Nc2ccc(F)cc2NS(=O)(=O)c2ccc(C)...  \n",
      "\n",
      "[112 rows x 31 columns]\n"
     ]
    }
   ],
   "source": [
    "import pandas as pd\n",
    "df = pd.read_csv(\"/mnt/raid1/Python_projects/RBP_Nodes.csv\")\n",
    "print(df)"
   ]
  },
  {
   "cell_type": "code",
   "execution_count": 9,
   "id": "759eae27",
   "metadata": {},
   "outputs": [
    {
     "data": {
      "text/plain": [
       "'/mnt/raid1/Python_projects/Neural_Network'"
      ]
     },
     "execution_count": 9,
     "metadata": {},
     "output_type": "execute_result"
    }
   ],
   "source": [
    "import os\n",
    "os.getcwd()"
   ]
  },
  {
   "cell_type": "code",
   "execution_count": 20,
   "id": "320ae594",
   "metadata": {},
   "outputs": [
    {
     "ename": "NameError",
     "evalue": "name 'Smiles' is not defined",
     "output_type": "error",
     "traceback": [
      "\u001b[0;31m---------------------------------------------------------------------------\u001b[0m",
      "\u001b[0;31mNameError\u001b[0m                                 Traceback (most recent call last)",
      "\u001b[0;32m<ipython-input-20-0bff196d3e73>\u001b[0m in \u001b[0;36m<module>\u001b[0;34m\u001b[0m\n\u001b[0;32m----> 1\u001b[0;31m \u001b[0mprint\u001b[0m\u001b[0;34m(\u001b[0m\u001b[0mdf\u001b[0m\u001b[0;34m[\u001b[0m\u001b[0mSmiles\u001b[0m\u001b[0;34m]\u001b[0m\u001b[0;34m)\u001b[0m\u001b[0;34m\u001b[0m\u001b[0;34m\u001b[0m\u001b[0m\n\u001b[0m",
      "\u001b[0;31mNameError\u001b[0m: name 'Smiles' is not defined"
     ]
    }
   ],
   "source": [
    "print(df[Smiles])"
   ]
  },
  {
   "cell_type": "code",
   "execution_count": null,
   "id": "af891e5c",
   "metadata": {},
   "outputs": [],
   "source": []
  }
 ],
 "metadata": {
  "kernelspec": {
   "display_name": "Python [conda env:rdkit] *",
   "language": "python",
   "name": "conda-env-rdkit-py"
  },
  "language_info": {
   "codemirror_mode": {
    "name": "ipython",
    "version": 3
   },
   "file_extension": ".py",
   "mimetype": "text/x-python",
   "name": "python",
   "nbconvert_exporter": "python",
   "pygments_lexer": "ipython3",
   "version": "3.7.10"
  }
 },
 "nbformat": 4,
 "nbformat_minor": 5
}
