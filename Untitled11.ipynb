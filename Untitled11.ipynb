{
 "cells": [
  {
   "cell_type": "code",
   "execution_count": 4,
   "id": "d1898529",
   "metadata": {},
   "outputs": [
    {
     "name": "stdout",
     "output_type": "stream",
     "text": [
      "Current date and time : \n",
      "2022-08-15 11:18:14\n"
     ]
    }
   ],
   "source": [
    "import datetime\n",
    "start = datetime.datetime.now()\n",
    "print (\"Current date and time : \")\n",
    "print (start.strftime(\"%Y-%m-%d %H:%M:%S\"))"
   ]
  },
  {
   "cell_type": "code",
   "execution_count": 5,
   "id": "15a260db",
   "metadata": {},
   "outputs": [],
   "source": [
    "def time_passed(start):\n",
    "    t = datetime.datetime.now()\n",
    "    print (\"Start time : \")\n",
    "    print (start.strftime(\"%Y-%m-%d %H:%M:%S\"))\n",
    "    print (\"Current date and time : \")\n",
    "    print (t.strftime(\"%Y-%m-%d %H:%M:%S\"))\n",
    "    print(t - start)\n",
    "    a = t-start\n",
    "    print(a)\n",
    "    print(type(a))\n",
    "    print(a.total_seconds(),' seconds')\n",
    "    b=a.total_seconds()/60\n",
    "    print(b, ' minutes')\n",
    "    return b\n",
    "    "
   ]
  },
  {
   "cell_type": "code",
   "execution_count": 7,
   "id": "85336a33",
   "metadata": {},
   "outputs": [
    {
     "name": "stdout",
     "output_type": "stream",
     "text": [
      "Start time : \n",
      "2022-08-15 11:18:14\n",
      "Current date and time : \n",
      "2022-08-15 11:18:29\n",
      "0:00:14.681262\n",
      "0:00:14.681262\n",
      "<class 'datetime.timedelta'>\n",
      "14.681262  seconds\n",
      "0.2446877  minutes\n",
      "active\n"
     ]
    }
   ],
   "source": [
    "#then = datetime.datetime.now()\n",
    "#print (\"Current date and time : \")\n",
    "#print (then.strftime(\"%Y-%m-%d %H:%M:%S\"))\n",
    "\n",
    "#print(then - now)\n",
    "\n",
    "#a = then-now\n",
    "#print(a)\n",
    "#print(type(a))\n",
    "\n",
    "#print(a.total_seconds(),' seconds')\n",
    "\n",
    "#b=a.total_seconds()/60\n",
    "#print(b, ' minutes')\n",
    "\n",
    "tp = time_passed(start)\n",
    "\n",
    "if tp>5:\n",
    "    print('expired')\n",
    "else:\n",
    "    print('active')\n"
   ]
  },
  {
   "cell_type": "code",
   "execution_count": null,
   "id": "25225890",
   "metadata": {},
   "outputs": [],
   "source": []
  },
  {
   "cell_type": "code",
   "execution_count": null,
   "id": "55c1caad",
   "metadata": {},
   "outputs": [],
   "source": []
  }
 ],
 "metadata": {
  "kernelspec": {
   "display_name": "Python 3 (ipykernel)",
   "language": "python",
   "name": "python3"
  },
  "language_info": {
   "codemirror_mode": {
    "name": "ipython",
    "version": 3
   },
   "file_extension": ".py",
   "mimetype": "text/x-python",
   "name": "python",
   "nbconvert_exporter": "python",
   "pygments_lexer": "ipython3",
   "version": "3.7.13"
  }
 },
 "nbformat": 4,
 "nbformat_minor": 5
}
