{
 "cells": [
  {
   "cell_type": "code",
   "execution_count": 1,
   "id": "995eeae0",
   "metadata": {},
   "outputs": [
    {
     "name": "stdout",
     "output_type": "stream",
     "text": [
      "10.10.1.41 is down\n",
      "192.168.86.31 is down\n",
      "localhost is down\n",
      "10.40.161.5 is down\n"
     ]
    }
   ],
   "source": [
    "import os\n",
    "\n",
    "hostnames = [\n",
    "    '10.10.1.41',\n",
    "    '192.168.86.31',\n",
    "    'localhost',\n",
    "    '10.40.161.5',\n",
    "]\n",
    "\n",
    "for hostname in hostnames:\n",
    "    response = os.system('ping -c 1 ' + hostname)\n",
    "    if response == 0:\n",
    "        print(hostname, 'is up')\n",
    "    else:\n",
    "        print(hostname, 'is down')"
   ]
  },
  {
   "cell_type": "code",
   "execution_count": 8,
   "id": "baefb91b",
   "metadata": {},
   "outputs": [
    {
     "name": "stdout",
     "output_type": "stream",
     "text": [
      "System: Windows\n",
      "10.10.1.41 is up\n",
      "192.168.86.31 is down\n",
      "localhost is up\n",
      "10.40.161.5 is down\n"
     ]
    }
   ],
   "source": [
    "import platform    # For getting the operating system name\n",
    "import subprocess  # For executing a shell command\n",
    "\n",
    "def ping(host):\n",
    "    \"\"\"\n",
    "    Returns True if host (str) responds to a ping request.\n",
    "    Remember that a host may not respond to a ping (ICMP) request even if the host name is valid.\n",
    "    \"\"\"\n",
    "\n",
    "    # Option for the number of packets as a function of\n",
    "    param = '-n' if platform.system().lower()=='windows' else '-c'\n",
    "\n",
    "    # Building the command. Ex: \"ping -c 1 google.com\"\n",
    "    command = ['ping', param, '1', host]\n",
    "\n",
    "    return subprocess.call(command) == 0\n",
    "\n",
    "#print(ping('10.10.1.41'))\n",
    "\n",
    "hostnames = [\n",
    "    '10.10.1.41',\n",
    "    '192.168.86.31',\n",
    "    'localhost',\n",
    "    '10.40.161.5',\n",
    "]\n",
    "\n",
    "print('System:', platform.system())\n",
    "\n",
    "for hostname in hostnames:\n",
    "    response= ping(hostname)\n",
    "    #print(response)\n",
    "    if response is True:\n",
    "        print(hostname, 'is up')\n",
    "    else:\n",
    "        print(hostname, 'is down')"
   ]
  },
  {
   "cell_type": "code",
   "execution_count": null,
   "id": "6f8ae19f",
   "metadata": {},
   "outputs": [],
   "source": []
  }
 ],
 "metadata": {
  "kernelspec": {
   "display_name": "Python 3 (ipykernel)",
   "language": "python",
   "name": "python3"
  },
  "language_info": {
   "codemirror_mode": {
    "name": "ipython",
    "version": 3
   },
   "file_extension": ".py",
   "mimetype": "text/x-python",
   "name": "python",
   "nbconvert_exporter": "python",
   "pygments_lexer": "ipython3",
   "version": "3.7.11"
  }
 },
 "nbformat": 4,
 "nbformat_minor": 5
}
