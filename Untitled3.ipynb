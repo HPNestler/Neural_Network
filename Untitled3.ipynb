{
 "cells": [
  {
   "cell_type": "code",
   "execution_count": 30,
   "id": "faced-disclaimer",
   "metadata": {},
   "outputs": [
    {
     "name": "stdout",
     "output_type": "stream",
     "text": [
      "Structures Available :  19\n",
      "9\n",
      "SELECT \"Fingerprint_ID\", \"FP_Shannon\" FROM public.\"Fingerprints\" WHERE \"FP_Type\" = 1 ORDER BY \"FP_Shannon\" DESC LIMIT 9\n",
      "\n",
      "[(27, 1.2290985307613993), (8, 1.2218120603359306), (11, 1.0601189359398382), (9, 0.9426749615639383), (42, 0.8264053222918117), (25, 0.7335417487636489), (35, 0.6605788876520756), (40, 0.6605788876520756), (33, 0.5763341277567499)]\n",
      "\n",
      "Fingerprints chosen :  27,8,11,9,42,25,35,40,33\n",
      "SELECT sf.* FROM public.\"Structure_Fingerprint\" sf WHERE sf.\"FP_ID\" in (27,8,11,9,42,25,35,40,33)\n",
      "\n",
      "[(10, 8, 1), (10, 9, 1), (10, 11, 1), (11, 8, 1), (11, 9, 1), (11, 11, 1), (13, 8, 1), (13, 9, 2), (13, 11, 2), (14, 9, 2), (15, 8, 2), (15, 9, 2), (15, 11, 2), (16, 8, 2), (16, 9, 2), (16, 11, 2), (17, 25, 6), (17, 27, 6), (18, 25, 3), (18, 33, 1), (18, 27, 5), (18, 35, 2), (19, 25, 3), (19, 40, 2), (19, 9, 1), (19, 42, 1), (19, 27, 5), (20, 40, 2), (20, 33, 1), (20, 9, 1), (20, 42, 1), (20, 27, 4), (20, 35, 2), (21, 25, 1), (21, 40, 1), (21, 33, 1), (21, 9, 1), (21, 42, 1), (21, 27, 4), (21, 35, 1), (22, 40, 1), (22, 33, 1), (22, 9, 1), (22, 42, 2), (22, 27, 3), (22, 35, 1), (23, 33, 1), (23, 9, 1), (23, 42, 3), (23, 27, 2), (24, 8, 2), (24, 9, 2), (24, 11, 2), (34, 8, 2), (34, 9, 2), (34, 11, 2), (35, 8, 1), (35, 9, 2), (35, 11, 1), (36, 8, 2), (36, 9, 2), (36, 11, 2), (37, 8, 1), (37, 9, 2), (37, 11, 1), (38, 8, 3), (38, 9, 2), (38, 11, 2)]\n"
     ]
    }
   ],
   "source": [
    "import psycopg2\n",
    "\n",
    "# open database connection\n",
    "db_nn = psycopg2.connect(host = \"localhost\", dbname=\"Chemistry\", user=\"postgres\", password=\"postgres\")\n",
    "\n",
    "sql = 'SELECT COUNT(*) FROM public.\"Structures\"'\n",
    "cur.execute(sql)\n",
    "mol_count = cur.fetchone()\n",
    "mol_count = mol_count[0]\n",
    "print('Structures Available : ',mol_count)\n",
    "\n",
    "ms = int(pow(mol_count, 1/3)+1)\n",
    "print(msize)\n",
    "\n",
    "msize = pow(ms,2)\n",
    "sql = 'SELECT \"Fingerprint_ID\", \"FP_Shannon\" FROM public.\"Fingerprints\" \\\n",
    "WHERE \"FP_Type\" = 1 ORDER BY \"FP_Shannon\" DESC LIMIT '+str(msize)\n",
    "\n",
    "print(sql)\n",
    "print()\n",
    "\n",
    "cur = db_nn.cursor()\n",
    "cur.execute(sql)\n",
    "#cur.execute('SELECT * FROM public.\"Fingerprints\" WHERE \"FP_Type\" = 1 ORDER BY \"FP_Shannon\" DESC LIMIT 9')\n",
    "fp_list = cur.fetchall()\n",
    "\n",
    "print(fp_list)\n",
    "print()\n",
    "\n",
    "cur = db_nn.cursor()\n",
    "#sql = 'SELECT sf.* FROM public.\"Structure_Fingerprint\" sf \\\n",
    "#JOIN public.\"Fingerprints\" fp ON sf.\"FP_ID\" = fp.\"Fingerprint_ID\" \\\n",
    "#WHERE fp.\"FP_Type\" = 1'\n",
    "fpa = ''\n",
    "for i in fp_list:\n",
    "    #fpa.append(i[0])\n",
    "    fpa = fpa + str(i[0]) +','\n",
    "fpa = fpa[:-1]\n",
    "    \n",
    "print('Fingerprints chosen : ',fpa)\n",
    "\n",
    "sql = 'SELECT sf.* FROM public.\"Structure_Fingerprint\" sf \\\n",
    "WHERE sf.\"FP_ID\" in ('+ fpa +')'\n",
    "print(sql)\n",
    "print()\n",
    "cur.execute(sql)\n",
    "mol_list = cur.fetchall()\n",
    "\n",
    "print(mol_list)"
   ]
  },
  {
   "cell_type": "code",
   "execution_count": null,
   "id": "cardiac-arthritis",
   "metadata": {},
   "outputs": [],
   "source": []
  }
 ],
 "metadata": {
  "kernelspec": {
   "display_name": "Python [conda env:rdkit] *",
   "language": "python",
   "name": "conda-env-rdkit-py"
  },
  "language_info": {
   "codemirror_mode": {
    "name": "ipython",
    "version": 3
   },
   "file_extension": ".py",
   "mimetype": "text/x-python",
   "name": "python",
   "nbconvert_exporter": "python",
   "pygments_lexer": "ipython3",
   "version": "3.7.10"
  }
 },
 "nbformat": 4,
 "nbformat_minor": 5
}
