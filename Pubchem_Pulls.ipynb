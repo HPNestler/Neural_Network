{
 "cells": [
  {
   "cell_type": "code",
   "execution_count": 1,
   "id": "37dba774",
   "metadata": {},
   "outputs": [],
   "source": [
    "import pubchempy as pcp\n",
    "import pandas as pd\n",
    "\n",
    "from rdkit import Chem\n",
    "from rdkit.Chem import AllChem, Draw\n",
    "from rdkit.Chem.Draw import rdDepictor, rdMolDraw2D\n",
    "import mols2grid"
   ]
  },
  {
   "cell_type": "code",
   "execution_count": 2,
   "id": "6e934085",
   "metadata": {},
   "outputs": [
    {
     "name": "stdout",
     "output_type": "stream",
     "text": [
      "[Compound(1318)]\n",
      "[]\n",
      "<class 'list'>\n",
      "Compound(1318) <class 'pubchempy.Compound'>\n",
      "1,10-phenanthroline\n"
     ]
    }
   ],
   "source": [
    "c = pcp.get_compounds('C1=CC2=C(C3=C(C=CC=N3)C=C2)N=C1', 'smiles')\n",
    "print(c)\n",
    "a = pcp.get_cids(c)\n",
    "print(a)\n",
    "print(type(c))\n",
    "print(c[0], type(c[0]))\n",
    "a = c[0].iupac_name\n",
    "print(a)"
   ]
  },
  {
   "cell_type": "code",
   "execution_count": 3,
   "id": "5343ba4e",
   "metadata": {},
   "outputs": [
    {
     "name": "stdout",
     "output_type": "stream",
     "text": [
      "['23188', '10636', '20980', '24479', '10602', '23562', '10619', '21014', '24209', '24138', '1010', '14207', '850', '15389', '15394', '4490', '10613', '23843', '11832', '22018', '10607', '881', '1198', '15657', '914', '22044', '11754', '11801', '1088', 'AKos Consulting & Solutions', '10670', '23689', '11764', '17774', 'Alinda Chemical', '23936', '24478', '23197', 'Alsachim', '813', '23210', 'Ambinter', '23692', '23506', '940', '24083', '5533', '1091', '956', '23293', '15709', '1226', '975', '24918', '5528', '1189', '10691', '23440', '15225', '11794', '4471', '23751', '24820', '24800', '924', '22118', '24231', 'Biosynth', '22134', '4398', '968', '23697', '23771', '869', '25157', '22094', '20920', '15423', '1155', '23323', '13120', '17790', '23750', '15294', '11903', 'ChemBridge', '22093', '15437', '20931', '11960', '20870', '10628', '11843', '15304', '1261', '23587', '20952', '967', '23613', '10614', '22090', '20921', '11977', '24085', '15372', '24129', '23438', '23958', '24698', '15739', '4427', '24582', '1100', '15213', '24585', '822', '15327', '15435', '24254', 'Excenen Pharmatech', 'Exchemistry', '22122', '14199', '15229', '15581', '718', '20885', '15415', '20986', '22021', '24401', '24239', '15430', '1003', '20910', '11995', '5532', '24132', '22077', 'Hangzhou APIChem Technology', '15329', '11809', '15295', '20936', '14198', '18824', '23765', '15302', '22149', '23416', '23353', '10690', '24970', '24728', '23647', '25021', '4390', '15763', '1227', '23699', '4492', '23243', '24554', '15541', '15699', '1186', '24815', '24809', '15703', '11986', '20917', '23882', '1202', '959', '23273', '12101', '23732', '23918', '11975', '21002', 'MolPort', '15736', '15694', '15670', '23470', '25153', '15591', '23322', '11777', '731', '15762', '20869', '15277', '20985', '15721', '24723', '15224', '20983', '24076', '12093', '15436', '12067', '22181', '11853', '11817', '12034', '20912', '17770', '14166', '24900', '855', '25094', '10626', '24294', '24647', '9585', 'Selleck Chemicals', '23881', '24012', '24807', '1242', '25052', '23271', 'Sigma-Aldrich', '23983', '22179', '23199', '1302', '24449', '23808', 'Specs', '24410', '22085', '10699', '25235', '23904', '15582', '18816', '22016', '23245', '11862', '1240', '11788', '21010', '10681', '24777', '11769', '23252', '15588', '23753', '22174', '12043', 'TCI (Tokyo Chemical Industry)', '11805', '24343', '18825', '11839', '10600', '4437', '4479', '5536', '24956', '24158', '23909', '12058', '15325', '23706', 'Vitas-M Laboratory', '15467', '23514', '1305', '23450', '972', '23469', '11802', '24462', '4448', '20915', '24221', '15317', '24995', '23987', 'ZINC']\n",
      "[('001Chemical', '23188'), ('3A SpeedChemical Inc', '10636'), ('3B Scientific (Wuhan) Corp', '20980'), ('3WAY PHARM INC', '24479'), ('A1 BioChem Labs', '10602'), ('A2B Chem', '23562'), ('A2Z Chemical', '10619'), ('AA BLOCKS', '21014'), ('Aaron Chemicals LLC', '24209'), ('AAT Bioquest', '24138'), ('AbaChemScene', '1010'), ('abcr GmbH', '14207'), ('AbMole Bioscience', '850'), ('AbovChem LLC', '15389'), ('Acadechem', '15394'), ('Accela ChemBio Inc.', '4490'), ('Acemol', '10613'), ('Aceschem Inc', '23843'), ('Achemo Scientific Limited', '11832'), ('Achemtek', '22018'), ('ACO Pharm Screening Compound', '10607'), ('Acorn PharmaTech Product List', '881'), ('ACT Chemical', '1198'), ('Activate Scientific', '15657'), ('Adooq BioScience', '914'), ('Advanced Technology & Industrial Co., Ltd.', '22044'), ('AEchem Scientific Corp., USA', '11754'), ('AHH Chemical co.,ltd', '11801'), ('AK Scientific, Inc. (AKSCI)', '1088'), ('AKos Consulting & Solutions', 'AKos Consulting & Solutions'), ('Alcatraz Chemicals', '10670'), ('AlchemyPharm', '23689'), ('Alfa Chemistry', '11764'), ('Alichem', '17774'), ('Alinda Chemical', 'Alinda Chemical'), ('ALKEMIX', '23936'), ('Allbio Pharm Co., Ltd', '24478'), ('Alomone Labs', '23197'), ('Alsachim', 'Alsachim'), ('Amadis Chemical', '813'), ('Ambeed', '23210'), ('Ambinter', 'Ambinter'), ('Ampyridine Co.,Ltd', '23692'), ('Angel Pharmatech Ltd.', '23506'), ('Angene Chemical', '940'), ('AOBChem USA', '24083'), ('AOBIOUS INC', '5533'), ('ApexBio Technology', '1091'), ('Apexmol', '956'), ('Apollo Scientific', '23293'), ('Ark Pharma Scientific Limited', '15709'), ('Aromalake Chemical', '1226'), ('Aromsyn catalogue', '975'), ('ASCA GmbH - Angewandte Synthesechemie Adlershof', '24918'), ('Assembly Blocks Pvt. Ltd.', '5528'), ('AstaTech, Inc.', '1189'), ('AvaChem Scientific', '10691'), ('Avantor Inc', '23440'), ('AX Molecules Inc', '15225'), ('Axon Medchem', '11794'), ('AZEPINE', '4471'), ('Bangyong Technology  Co., Ltd.', '23751'), ('Be-Medicine', '24820'), ('BenchChem', '24800'), ('BioChemPartner', '924'), ('BioCrick', '22118'), ('Biopurify Phytochemicals', '24231'), ('Biosynth Carbosynth', 'Biosynth'), ('BLD Pharm', '22134'), ('BOC Sciences', '4398'), ('Boroncore', '968'), ('Boronpharm', '23697'), ('Brenntag Connect', '23771'), ('BroadPharm', '869'), ('Bydone', '25157'), ('California Peptide Research, Inc.', '22094'), ('Cangzhou Enke Pharma Tech Co.,Ltd.', '20920'), ('Carbott PharmTech Inc.', '15423'), ('CEGChem', '1155'), ('CF Plus Chemicals', '23323'), ('Changzhou Highassay Chemical Co., Ltd', '13120'), ('Changzhou Naide Chemical', '17790'), ('Chem-Impex International, Inc.', '23750'), ('Chem-Space.com Database', '15294'), ('Chemaphor Chemical Services', '11903'), ('ChemBridge', 'ChemBridge'), ('Chemchart', '22093'), ('ChemDiv', '15437'), ('Chemenu Inc.', '20931'), ('ChemFaces', '11960'), ('ChemFish Tokyo co.,ltd', '20870'), ('Chemhere', '10628'), ('ChemieTek', '11843'), ('Chemodex Ltd.', '15304'), ('ChemShuttle', '1261'), ('CHESS fine organics', '23587'), ('China MainChem Co., Ltd', '20952'), ('Chiralblock Biosciences', '967'), ('Chiron AS', '23613'), ('Clearsynth', '10614'), ('Combi-Blocks', '22090'), ('Compass Remediation Chemicals', '20921'), ('CoreSyn', '11977'), ('Cosutin Industrial', '24085'), ('Creative Enzymes', '15372'), ('Creative Proteomics', '24129'), ('CSNpharm', '23438'), ('CYH Pharma', '23958'), ('DAOGE BIOPHARMA', '24698'), ('DC Chemicals', '15739'), ('Debye Scientific Co., Ltd', '4427'), ('DSL Chemicals', '24582'), ('EDASA Scientific', '1100'), ('Elsa Biotechnology', '15213'), ('Eminent Biosciences', '24585'), ('Enamine', '822'), ('eNovation Chemicals', '15327'), ('Erezrtech', '15435'), ('ET Co.,Ltd.', '24254'), ('Excenen Pharmatech', 'Excenen Pharmatech'), ('Exclusive Chemistry Ltd', 'Exchemistry'), ('Eximed Laboratory', '22122'), ('Expert Synthesis Solutions', '14199'), ('FChemicals', '15229'), ('Fermalogic', '15581'), ('Finetech Industry Limited', '718'), ('Fisher Chemical', '20885'), ('FivePhoton/Pacific Ion', '15415'), ('FondChemical Co., Ltd', '20986'), ('Frinton Laboratories', '22021'), ('Fumizol Ltd', '24401'), ('Funakoshi', '24239'), ('FutureChem', '15430'), ('Georganics', '1003'), ('GL Biochem', '20910'), ('Glentham Life Sciences Ltd.', '11995'), ('Glixx Labs Inc', '5532'), ('Greatcell Solar Materials', '24132'), ('Hairui Chemical', '22077'), ('Hangzhou APIChem Technology', 'Hangzhou APIChem Technology'), ('Hefei Hirisun Pharmatech Co., Ltd', '15329'), ('Hello Bio', '11809'), ('Herbest Bio-Tech', '15295'), ('Heterocyclics Research Chemicals & Building blocks', '20936'), ('Heteroz LLC', '14198'), ('Hopax Fine Chemicals', '18824'), ('Hunan Huateng Pharmaceutical Co., Ltd.', '23765'), ('ichemcluster', '15302'), ('Infinium PharmaChem Pvt Ltd', '22149'), ('Innovapharm', '23416'), ('Iodochem', '23353'), ('Irvine Chemistry Lab', '10690'), ('Isca Biochemicals', '24970'), ('J&W PharmLab', '24728'), ('Japan Material Technologies Corporation', '23647'), ('Junyuan Petroleum Group', '25021'), ('Key Organics/BIONET', '4390'), ('LabNetwork, a WuXi AppTec Company', '15763'), ('labseeker', '1227'), ('Lan Pharmatech', '23699'), ('Lancrix Chemicals', '4492'), ('Latoxan', '23243'), ('LEAPCHEM', '24554'), ('LEO BIOCHEM', '15541'), ('LGC Standards', '15699'), ('Life Chemicals', '1186'), ('LipidEv', '24815'), ('LKT Labs', '24809'), ('Lorad Chemical Corporation', '15703'), ('Luminescence Technology Corp. (Lumtec)', '11986'), ('Matreya LLC', '20917'), ('Matrix Scientific', '23882'), ('Mcule', '1202'), ('MedChemexpress MCE', '959'), ('MicroCombiChem GmbH', '23273'), ('Milestone Pharmtech USA Inc.', '12101'), ('Milliken-SiVance', '23732'), ('Mittal Dhatu Rashayan Udyog', '23918'), ('MolCore BioPharmatech', '11975'), ('MolMall', '21002'), ('MolPort', 'MolPort'), ('Motorpharma Ltd.', '15736'), ('MuseChem', '15694'), ('Nangia Group, Syracuse University', '15670'), ('NanJing LISKON Biological Technology Co.,ltd', '23470'), ('Nature Science Technologies Ltd', '25153'), ('Nextpeptide', '15591'), ('NOF', '23322'), ('Norris Pharm', '11777'), ('Oakwood Products', '731'), ('OChem', '15762'), ('OlainFarm JSC', '20869'), ('Omicron Biochemicals, Inc.', '15277'), ('Organofuel Sweden', '20985'), ('Ossila', '15721'), ('OtavaChemicals', '24723'), ('Parchem', '15224'), ('Parkway Scientific', '20983'), ('PeptART', '24076'), ('Phion Ltd', '12093'), ('Pi Chemicals', '15436'), ('Polyorganix', '12067'), ('PorphyChem', '22181'), ('ProteoChem', '11853'), ('Pure chemistry', '11817'), ('PurePEG', '12034'), ('Regis Technologies', '20912'), ('Retaj Chemicals', '17770'), ('Rieke Metals, LLC', '14166'), ('Ruthenotope', '24900'), ('Santai Labs', '855'), ('Santiago lab', '25094'), ('Sarchem Laboratories, Inc.', '10626'), ('Sarex Overseas Div of Saraf chemicals Pvt.Ltd.', '24294'), ('SB-PEPTIDE', '24647'), ('SelectLab Chemicals GmbH', '9585'), ('Selleck Chemicals', 'Selleck Chemicals'), ('SHANDONG OCTAGON CHEMICALS LIMITED', '23881'), ('Shanghai Hanhong Scientific', '24012'), ('Shanghai Tauto Biotech Co., Ltd', '24807'), ('Shangyu Catsyn Co., Ltd.', '1242'), ('Sichuan Hengkang Science and Technology Development Co.,Ltd.', '25052'), ('Sierra Bioresearch', '23271'), ('Sigma-Aldrich', 'Sigma-Aldrich'), ('Sinfoo Biotech', '23983'), ('Sinofi Ingredients', '22179'), ('SLI Technologies, Inc', '23199'), ('Smartox Biotechnology venoms and peptides', '1302'), ('Smolecule', '24449'), ('SPECIFIC POLYMERS (SP)', '23808'), ('Specs', 'Specs'), ('Speranza Chemical Co., Ltd.', '24410'), ('SpiroChem', '22085'), ('SQUARIX GmbH', '10699'), ('SRIRAMCHEM', '25235'), ('Strem Chemicals, Inc.', '23904'), ('Sunwain', '15582'), ('Suryansh Pharmachem', '18816'), ('Suzhou GeAo New Materials Co.,Ltd', '22016'), ('Suzhou Health Chemicals Co., Ltd.', '23245'), ('Synapharm Industrial Synthesis', '11862'), ('Synblock Inc', '1240'), ('Syncom', '11788'), ('SynHet - Synthetic Heterocycles', '21010'), ('SynInnova Laboratories Inc.', '10681'), ('Syntech Labs', '24777'), ('Syntharise', '11769'), ('Synthese Nord', '23252'), ('Synthesis With Catalysts Pvt. Ltd.', '15588'), ('Synthink Research Chemicals', '23753'), ('T&J Chemicals (Singapore)', '22174'), ('TargetMol (Target Molecule Corp.)', '12043'), ('TCI (Tokyo Chemical Industry)', 'TCI (Tokyo Chemical Industry)'), ('Tenova Pharmaceuticals Inc', '11805'), ('THE BioTek', '24343'), ('Thermo Fisher Scientific', '18825'), ('Tocopharm', '11839'), ('Tocris Bioscience', '10600'), ('TOKU-E Company', '4437'), ('TripleBond', '4479'), ('TubePharm', '5536'), ('Twinhang OU', '24956'), ('UNITED QUANTUM FACTORY (COC)', '24158'), ('Up-Fluorochem', '23909'), ('Valliscor', '12058'), ('VAV Life Sciences', '15325'), ('Vichem Chemie Ltd.', '23706'), ('Vitas-M Laboratory', 'Vitas-M Laboratory'), ('VladaChem', '15467'), ('VWR, Part of Avantor', '23514'), ('W&J PharmaChem products', '1305'), ('Watanabe Chemical Ind.', '23450'), ('Watec Laboratories', '972'), ('Wiley Companies (formerly Organic Technologies)', '23469'), ('Wilshire Technologies', '11802'), ('Win-Win Chemical', '24462'), ('Wuhan Atomole Chemicals Co., Ltd.', '4448'), ('Xlinebio', '20915'), ('Yick-Vic Chemicals & Pharmaceuticals (HK) Ltd.', '24221'), ('Yuhao Chemical', '15317'), ('ZeoliteMin', '24995'), ('Zhuorui Chemical Technology Co.,Ltd', '23987'), ('ZINC', 'ZINC')]\n"
     ]
    }
   ],
   "source": [
    "vendor_df = pd.read_csv('../PubChemDataSources_all.csv')\n",
    "v = vendor_df[['Source Name', 'Source Category', 'DSN']]\n",
    "#print(v)\n",
    "vendor = []\n",
    "vendor_full = []\n",
    "\n",
    "for i in range(0, len(v)):\n",
    "    if v.iloc[i]['Source Category'] == 'Chemical Vendors':\n",
    "        #print(i, v.iloc[i]['Source Category'], v.iloc[i]['DSN'])\n",
    "        vendor.append(v.iloc[i]['DSN'])\n",
    "        a = (v.iloc[i]['Source Name'], v.iloc[i]['DSN'])\n",
    "        vendor_full.append(a)\n",
    "        \n",
    "print(vendor)\n",
    "print(vendor_full)"
   ]
  },
  {
   "cell_type": "code",
   "execution_count": 4,
   "id": "51b0a641",
   "metadata": {},
   "outputs": [
    {
     "name": "stdout",
     "output_type": "stream",
     "text": [
      "                                               SMILES                 Name\n",
      "0              ClC1=CC(NC(C2=NOC(C(C)C)=C2)=O)=CC=C1F            LDN-75654\n",
      "1                FC1=CC=C(NC(C2=NOC(C(C)C)=C2)=O)C=C1  jmedchem_6b01885_4a\n",
      "2               ClC1=CC(NC(C2=NOC(C(C)C)=C2)=O)=CC=C1  jmedchem_6b01885_4b\n",
      "3                   O=C(C1=NOC(C(C)C)=C1)NC2=CC=CC=C2  jmedchem_6b01885_4c\n",
      "4                  O=C(C1=NOC(C(C)C)=C1)NC2=CC=CC=C2F  jmedchem_6b01885_4d\n",
      "..                                                ...                  ...\n",
      "59  [H][C@]1(C)CN(CCN1)C1=CC2=C(C=C1)C=C(C1=CN3C=C...     Compound 1 (SMN)\n",
      "60  CN1CCN(CC1)C1=CC2=C(C=C1)N=C(N=C2)C1=CN2C=C(C)...               SMN-CX\n",
      "61   CC1=CN2C=C(C=C(F)C2=N1)C1=CC(=O)N2C=C(F)C=CC2=N1             SMN-Core\n",
      "62  CCN(CC)C1=CC2=C(C=C1)C=C(C1=NC3=C(O1)C=CC=C3)C...        SMN-Hit-Roche\n",
      "63  [H][C@@]1(CC)CN(CCN1)C1=CC=C(C(=O)NC2=CN3C=C(C...               SMN-CY\n",
      "\n",
      "[64 rows x 2 columns]\n",
      "['ClC1=CC(NC(C2=NOC(C(C)C)=C2)=O)=CC=C1F', 'FC1=CC=C(NC(C2=NOC(C(C)C)=C2)=O)C=C1', 'ClC1=CC(NC(C2=NOC(C(C)C)=C2)=O)=CC=C1', 'O=C(C1=NOC(C(C)C)=C1)NC2=CC=CC=C2', 'O=C(C1=NOC(C(C)C)=C1)NC2=CC=CC=C2F', 'O=C(C1=NOC(C(C)C)=C1)NC2=CC=CC(F)=C2', 'O=C(C1=NOC(C(C)C)=C1)NC2=CC=CC=C2Cl', 'O=C(C1=NOC(C(C)C)=C1)NC2=CC=C(Cl)C=C2', 'O=C(C1=NOC(C(C)C)=C1)NC2=CC=CC=C2OC', 'O=C(C1=NOC(C(C)C)=C1)NC2=CC=CC(OC)=C2', 'O=C(C1=NOC(C(C)C)=C1)NC2=CC=CC=C2C', 'O=C(C1=NOC(C(C)C)=C1)NC2=CC=CC(C)=C2', 'O=C(C1=NOC(C(C)C)=C1)NC2=CC=C(C)C=C2', 'O=C(C1=NOC(C(C)C)=C1)NC2=CC=CC=N2', 'O=C(C1=NOC(C(C)C)=C1)NC2=CN=CC=C2', 'O=C(C1=NOC(C(C)C)=C1)NC2=CC=NC=C2', 'O=C(C1=NOC(C(C)C)=C1)NC2=NC=CS2', 'O=C(C1=NOC(C(C)C)=C1)NC2=NC=CO2', 'O=C(C1=NOC(C(C)C)=C1)NC2=NC(C=CC=C3)=C3N2', 'O=C(C1=NOC(C(C)C)=C1)NC2=NC(C=CC=C3)=C3N2C', 'O=C(C1=NOC(C(C)C)=C1)NC2=NC(C=CC=C3)=C3S2', 'O=C(C1=NOC(C(C)C)=C1)NC2CC(C=CC=C3)=C3C2', 'O=C(C1=NOC(C(C)C)=C1)N2CCC3=C2C=CC=C3', 'O=C(C1=NOC([H])=C1)NC2=CC(Cl)=C(F)C=C2', 'O=C(C1=NOC(C)=C1)NC2=CC(Cl)=C(F)C=C2', 'O=C(C1=NOC(CC)=C1)NC2=CC(Cl)=C(F)C=C2', 'O=C(C1=NOC(CC(C)C)=C1)NC2=CC(Cl)=C(F)C=C2', 'O=C(C1=NOC(C(C)(C)C)=C1)NC2=CC(Cl)=C(F)C=C2', 'O=C(C1=NOC(C2CCCCC2)=C1)NC3=CC(Cl)=C(F)C=C3', 'O=C(C1=NOC(C2CCCC2)=C1)NC3=CC(Cl)=C(F)C=C3', 'O=C(C1=NOC(C2=CC=CC=C2)=C1)NC3=CC(Cl)=C(F)C=C3', 'O=C(C1=NOC(CC2=CC=CC=C2)=C1)NC3=CC(Cl)=C(F)C=C3', 'O=C(C1=NOC(C(C)C)=C1)N(C)C2=CC(Cl)=C(F)C=C2', 'S=C(C1=NOC(C(C)C)=C1)NC2=CC(Cl)=C(F)C=C2', 'ClC1=C(F)C=CC(NCC2=NOC(C(C)C)=C2)=C1', 'ClC1=C(F)C=CC(OC(C2=NOC(C(C)C)=C2)=O)=C1', 'ClC1=C(F)C=CC(C(NC2=NOC(C(C)C)=C2)=O)=C1', 'CC(C)C1=CC(NC(NC2=CC(Cl)=C(F)C=C2)=O)=NO1', 'O=C(C1=NOC(C(C)C)=C1C)NC2=CC=C(F)C(Cl)=C2', 'ClC1=C(F)C=CC(C(NC2=CC(C(C)C)=NO2)=O)=C1', 'ClC1=C(F)C=CC(C(NC2=CSC(C(C)C)=N2)=O)=C1', 'ClC1=C(F)C=CC(C(NC2=NC=C(C3CCC3)S2)=O)=C1', 'O=C(NC1=NC=C(C2(O)CCC2)S1)C3=CC(Cl)=C(F)C=C3', 'C(Nc1ncnc2[nH]cnc12)c3ccco3', 'C1=CC(=C2C(=C1NCCNCCO)C(=O)C3=C(C=CC(=C3C2=O)O)O)NCCNCCO', 'C1=CC=C2C(=C1)C(=CN2)C(=O)C3=CN=C(N3)C(=O)C4=CNC5=C4C=CC(=C5)O', 'CCC1=NC(=CN2C1=CC(=N2)C3=CC(=O)N4C=C(C=C(C4=N3)C)C5CCN(CC5)C)C', 'CC1=CN2C=C(C=C(C2=N1)F)C3=CC(=O)N4C=C(C=CC4=N3)N5CCN(CC5)C', 'CCN1CCC(CC1)C2=CN3C(=O)C=C(N=C3C(=C2)C)C4=NN5C=C(N=C(C5=C4)C)C', 'Clc1nc(NCc2ccco2)c2nc[nH]c2n1', 'CC1=CC(=NN2C1=NC(=C2)C)C3=CC(=O)N4C=C(C=CC4=N3)N5CCNC6(C5)CC6', 'CC1(CC(CC(N1)(C)C)Oc2ccc(nn2)c3ccc(cc3O)c4c[nH]nc4)C', 'CC1(C)CC(CC(C)(C)N1)Oc1ccc(nn1)-c1ccc(cc1O)C1=CC(O)=NC=C1', 'COC1=CC=C2NC3=C(N=CN(CCCN(C)C4CCCCC4)C3=O)C2=C1', 'NC(=N)C1=CC=C(NC2=CC=C(C=C2)C2=CC3=C(N2)C=C(C=C3)C(N)=N)C=C1', 'NC(=N)C1=CC=C(OC2=CC=C(C=C2)C2=CC3=C(N2)C=C(C=C3)C(N)=N)C=C1', 'CCN1CCC(CC1)C1=CN2C(=O)C=C(N=C2C(C)=C1)C1=CC2=CN(C)N=C2C=C1', 'CN1CCN(CC1)C1=CC2C(=O)N=C(N=C2C=C1)C1=NN2C=C(C)N=C(C)C2=C1', '[H][C@]1(C)CN(CCN1CC)C1=CC2=C(C=C1)C=C(C1=CN3C=C(C)N=C(C)C3=N1)C(=O)O2', '[H][C@]1(C)CN(CCN1)C1=CC2=C(C=C1)C=C(C1=CN3C=C(C)N=C(C)C3=N1)C(=O)O2', 'CN1CCN(CC1)C1=CC2=C(C=C1)N=C(N=C2)C1=CN2C=C(C)N=C2C(F)=C1', 'CC1=CN2C=C(C=C(F)C2=N1)C1=CC(=O)N2C=C(F)C=CC2=N1', 'CCN(CC)C1=CC2=C(C=C1)C=C(C1=NC3=C(O1)C=CC=C3)C(=O)O2', '[H][C@@]1(CC)CN(CCN1)C1=CC=C(C(=O)NC2=CN3C=C(C)N=C3C=N2)C(F)=C1']\n"
     ]
    }
   ],
   "source": [
    "df = pd.read_csv('../Splicing_agents.csv')\n",
    "print(df)\n",
    "m = df['SMILES'].to_list()\n",
    "print(m)"
   ]
  },
  {
   "cell_type": "code",
   "execution_count": null,
   "id": "e4f16214",
   "metadata": {},
   "outputs": [
    {
     "name": "stdout",
     "output_type": "stream",
     "text": [
      "[Compound(17253286)] 17253286 N-(3-chloro-4-fluorophenyl)-5-propan-2-yl-1,2-oxazole-3-carboxamide\n",
      "99049962 MolPort MolPort-006-844-173\n",
      "106351324 AKos Consulting & Solutions AKOS001804119\n",
      "116069304 ChemBridge 9241092\n",
      "169264883 1202 MCULE-7111005971\n",
      "256514122 ZINC ZINC2465727\n",
      "328385043 15437 C226-2912\n",
      "373571216 Ambinter Amb2218904\n",
      "434297880 24343 bt-272859\n",
      "435723068 15294 CSSS00046243565\n",
      "438459473 24449 S532686\n",
      "446577714 24800 B1674676\n",
      "[Compound(110858626)] 110858626 N-(4-fluorophenyl)-5-propan-2-yl-1,2-oxazole-3-carboxamide\n"
     ]
    }
   ],
   "source": [
    "l = []\n",
    "novendor = ['Chembank', 'ChemBL', 'NCGC', '4488','ChEMBL', 'BindingDB', '23607', '11831', 'ChemSpider', 'Thomson Pharma', \n",
    "            '816', '24262', '765','15747', 'The Scripps Research Institute Molecular Screening Center', '15290', '15437', \n",
    "            '20881', 'ICCB-Longwood/NSRB Screening Facility, Harvard Medical School', 'ChemBank', 'KEGG', \n",
    "            'ChemExper Chemical Directory','ChemDB', 'NINDS Approved Drug Screening Program', \n",
    "            'Southern Research Institute', '814', 'NIST','948']\n",
    "\n",
    "compounds = []\n",
    "compounds_vendor = []\n",
    "substance_vendor = []\n",
    "\n",
    "for i in m: #[0:4]:\n",
    "    c = pcp.get_compounds(i, 'smiles')\n",
    "    b = c[0].cid\n",
    "    s = c[0].iupac_name\n",
    "    sl = c[0].sids\n",
    "    compounds.append(c)\n",
    "      \n",
    "    if type(b) == int:\n",
    "        \n",
    "        l.append(b)\n",
    "    \n",
    "        print(c, b, s)#, sl)\n",
    "    \n",
    "        for j in sl:\n",
    "            r = pcp.get_substances(j)\n",
    "            rn = r[0].source_name\n",
    "            if rn in vendor:\n",
    "                print(r[0].sid, rn, r[0].source_id)\n",
    "                substance_vendor.append(r)\n",
    "                if c not in compounds_vendor:\n",
    "                    compounds_vendor.append(c)\n",
    "\n",
    "#print(l)\n",
    "print(compounds)\n",
    "print(compounds_vendor)\n",
    "print(substance_vendor)"
   ]
  },
  {
   "cell_type": "code",
   "execution_count": null,
   "id": "ca8d891b",
   "metadata": {},
   "outputs": [],
   "source": [
    "#print(compounds_vendor[0][0].cid)\n",
    "cid_list = []\n",
    "for i in compounds_vendor:\n",
    "    a = i[0].cid\n",
    "    #print(a)\n",
    "    cid_list.append(a)\n",
    "    \n",
    "print(cid_list)\n",
    "df1 = pcp.get_compounds(cid_list, 'cid', as_dataframe=True)\n",
    "print(df1)"
   ]
  },
  {
   "cell_type": "code",
   "execution_count": null,
   "id": "2b713e4c",
   "metadata": {},
   "outputs": [],
   "source": [
    "df1['CID'] = df1.index\n",
    "mol_disp = df1.rename(columns={\"canonical_smiles\": \"SMILES\"})\n",
    "\n",
    "mols2grid.display(mol_disp,\n",
    "                 # RDKit's MolDrawOptions parameters\n",
    "                  fixedBondLength=30,\n",
    "                  # rename fields for the output document\n",
    "                  subset=['CID', 'img', 'SMILES'],\n",
    "                  tooltip=['SMILES'],\n",
    "                  #MolDrawingOptions=opts,\n",
    "                  hover_color = 'blue',\n",
    "                  n_cols = 6\n",
    "                )"
   ]
  },
  {
   "cell_type": "code",
   "execution_count": null,
   "id": "ba7f91bd",
   "metadata": {},
   "outputs": [],
   "source": []
  }
 ],
 "metadata": {
  "kernelspec": {
   "display_name": "Python 3 (ipykernel)",
   "language": "python",
   "name": "python3"
  },
  "language_info": {
   "codemirror_mode": {
    "name": "ipython",
    "version": 3
   },
   "file_extension": ".py",
   "mimetype": "text/x-python",
   "name": "python",
   "nbconvert_exporter": "python",
   "pygments_lexer": "ipython3",
   "version": "3.7.11"
  }
 },
 "nbformat": 4,
 "nbformat_minor": 5
}
