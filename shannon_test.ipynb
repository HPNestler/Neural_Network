{
 "cells": [
  {
   "cell_type": "code",
   "execution_count": 2,
   "metadata": {},
   "outputs": [
    {
     "name": "stdout",
     "output_type": "stream",
     "text": [
      "[[1], [1, 2, 2], [1, 2, 2, 3, 3, 3], [1, 2, 2, 3, 3, 3, 4, 4, 4, 4], [1, 2, 2, 3, 3, 3, 4, 4, 4, 4, 5, 5, 5, 5, 5], [1, 2, 3, 4, 5, 6]]\n",
      "([1, 0, 0, 0, 0, 0, 0, 0, 0, 0, 0, 0, 0, 0, 0], 0.24493002679463532)\n",
      "([1, 2, 2, 0, 0, 0, 0, 0, 0, 0, 0, 0, 0, 0, 0], 0.6277052571971504)\n",
      "([1, 2, 2, 3, 3, 3, 0, 0, 0, 0, 0, 0, 0, 0, 0], 1.0775733728921972)\n",
      "([1, 2, 2, 3, 3, 3, 4, 4, 4, 4, 0, 0, 0, 0, 0], 1.4897503188505912)\n",
      "([1, 2, 2, 3, 3, 3, 4, 4, 4, 4, 5, 5, 5, 5, 5], 1.4897503188505912)\n",
      "([1, 2, 3, 4, 5, 6, 0, 0, 0, 0, 0, 0, 0, 0, 0], 1.3897154547004784)\n"
     ]
    }
   ],
   "source": [
    "# This is part of netprepper\n",
    "#    import pandas as pd\n",
    "#    from scipy import stats as scistat\n",
    "\n",
    "# import sys\n",
    "# print(sys.path)\n",
    "# set PYTHONPATH to proper directory set holds private modules and packages (here pkg_mod)\n",
    "import netprepper\n",
    "\n",
    "e = [1,2,2,3,3,3,4,4,4,4,5,5,5,5,5]\n",
    "d = [1,2,2,3,3,3,4,4,4,4]\n",
    "c = [1,2,2,3,3,3]\n",
    "b = [1,2,2]\n",
    "a = [1]\n",
    "f = [1,2,3,4,5,6]\n",
    "\n",
    "fp = []\n",
    "fp.append(a)\n",
    "fp.append(b)\n",
    "fp.append(c)\n",
    "fp.append(d)\n",
    "fp.append(e)\n",
    "fp.append(f)\n",
    "\n",
    "# import pandas as pd\n",
    "# from scipy import stats as scistat\n",
    "\n",
    "# def shannon(x, n):\n",
    "#    pv = 0\n",
    "#    ps = n - len(x)\n",
    "#    xf = x  + [pv] * ps\n",
    "#    pd_series = pd.Series(xf)\n",
    "#    # print(pd_series)\n",
    "#    counts = pd_series.value_counts()\n",
    "#    # print(counts)\n",
    "#    entropy = scistat.entropy(counts)\n",
    "#    return xf, entropy\n",
    "\n",
    "print(fp)\n",
    "\n",
    "n = 0\n",
    "for i in fp:\n",
    "    n = max(n, len(i))\n",
    "    # print (i, n)\n",
    "\n",
    "for i in fp:\n",
    "    print(netprepper.shannon(i,n))\n",
    "    \n"
   ]
  },
  {
   "cell_type": "code",
   "execution_count": 29,
   "metadata": {},
   "outputs": [
    {
     "name": "stdout",
     "output_type": "stream",
     "text": [
      "[1]\n",
      "([1, 0, 0, 0, 0, 0, 0, 0, 0, 0, 0, 0, 0, 0, 0], 0.24493002679463532)\n",
      "[1, 2, 2]\n",
      "([1, 2, 2, 0, 0, 0, 0, 0, 0, 0, 0, 0, 0, 0, 0], 0.6277052571971504)\n",
      "[1, 2, 2, 3, 3, 3]\n",
      "([1, 2, 2, 3, 3, 3, 0, 0, 0, 0, 0, 0, 0, 0, 0], 1.0775733728921972)\n",
      "[1, 2, 2, 3, 3, 3, 4, 4, 4, 4]\n",
      "([1, 2, 2, 3, 3, 3, 4, 4, 4, 4, 0, 0, 0, 0, 0], 1.4897503188505912)\n",
      "[1, 2, 2, 3, 3, 3, 4, 4, 4, 4, 5, 5, 5, 5, 5]\n",
      "([1, 2, 2, 3, 3, 3, 4, 4, 4, 4, 5, 5, 5, 5, 5], 1.4897503188505912)\n",
      "[0]\n",
      "([0, 0, 0, 0, 0, 0, 0, 0, 0, 0, 0, 0, 0, 0, 0], 0.0)\n"
     ]
    }
   ],
   "source": [
    "print(a)\n",
    "print(shannon(a, n))\n",
    "ase = shannon(a, n)\n",
    "# print(ase[0])\n",
    "# print(ase[1])\n",
    "\n",
    "print(b)\n",
    "print(shannon(b, n))\n",
    "\n",
    "print(c)\n",
    "print(shannon(c, n))\n",
    "\n",
    "print(d)\n",
    "print(shannon(d, n))\n",
    "\n",
    "print(e)\n",
    "print(shannon(e, n))\n",
    "\n",
    "print(f)\n",
    "print(shannon(f, n))"
   ]
  },
  {
   "cell_type": "code",
   "execution_count": null,
   "metadata": {},
   "outputs": [],
   "source": []
  }
 ],
 "metadata": {
  "kernelspec": {
   "display_name": "Python 3",
   "language": "python",
   "name": "python3"
  },
  "language_info": {
   "codemirror_mode": {
    "name": "ipython",
    "version": 3
   },
   "file_extension": ".py",
   "mimetype": "text/x-python",
   "name": "python",
   "nbconvert_exporter": "python",
   "pygments_lexer": "ipython3",
   "version": "3.7.10"
  }
 },
 "nbformat": 4,
 "nbformat_minor": 4
}
