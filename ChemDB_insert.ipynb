{
 "cells": [
  {
   "cell_type": "code",
   "execution_count": 1,
   "id": "243538ec",
   "metadata": {},
   "outputs": [
    {
     "ename": "ModuleNotFoundError",
     "evalue": "No module named 'chemistry_psql'",
     "output_type": "error",
     "traceback": [
      "\u001b[1;31m---------------------------------------------------------------------------\u001b[0m",
      "\u001b[1;31mModuleNotFoundError\u001b[0m                       Traceback (most recent call last)",
      "\u001b[1;32m~\\AppData\\Local\\Temp\\ipykernel_20904\\2124228800.py\u001b[0m in \u001b[0;36m<module>\u001b[1;34m\u001b[0m\n\u001b[1;32m----> 1\u001b[1;33m \u001b[1;32mimport\u001b[0m \u001b[0mchemistry_psql\u001b[0m \u001b[1;32mas\u001b[0m \u001b[0mcp\u001b[0m\u001b[1;33m\u001b[0m\u001b[1;33m\u001b[0m\u001b[0m\n\u001b[0m\u001b[0;32m      2\u001b[0m \u001b[1;32mimport\u001b[0m \u001b[0mimportlib\u001b[0m\u001b[1;33m\u001b[0m\u001b[1;33m\u001b[0m\u001b[0m\n\u001b[0;32m      3\u001b[0m \u001b[0mimportlib\u001b[0m\u001b[1;33m.\u001b[0m\u001b[0mreload\u001b[0m\u001b[1;33m(\u001b[0m\u001b[0mcp\u001b[0m\u001b[1;33m)\u001b[0m\u001b[1;33m\u001b[0m\u001b[1;33m\u001b[0m\u001b[0m\n\u001b[0;32m      4\u001b[0m \u001b[1;32mimport\u001b[0m \u001b[0mpsycopg2\u001b[0m\u001b[1;33m\u001b[0m\u001b[1;33m\u001b[0m\u001b[0m\n\u001b[0;32m      5\u001b[0m \u001b[1;32mimport\u001b[0m \u001b[0mpandas\u001b[0m \u001b[1;32mas\u001b[0m \u001b[0mpd\u001b[0m\u001b[1;33m\u001b[0m\u001b[1;33m\u001b[0m\u001b[0m\n",
      "\u001b[1;31mModuleNotFoundError\u001b[0m: No module named 'chemistry_psql'"
     ]
    }
   ],
   "source": [
    "import chemistry_psql as cp\n",
    "import importlib\n",
    "importlib.reload(cp)\n",
    "import psycopg2\n",
    "import pandas as pd\n",
    "\n",
    "#dfm = pd.read_csv(\"../RBP_Manual.csv\")\n",
    "#dfm = pd.read_csv(\"../data-1633411346295.csv\")\n",
    "#print(type(dfm))\n",
    "dfm = pd.read_csv(\"../Splicng_agents.csv\")\n",
    "print(dfm)\n",
    "\n",
    "struct_dict = ['Smiles','canonical_smiles','smiles']\n",
    "#print(dfm.columns)\n",
    "#print()\n",
    "#struct_col = set(struct_dict).intersection(dfm.columns)\n",
    "struct_col = list(set(struct_dict).intersection(dfm.columns))[0]\n",
    "print('Structure Column : ',struct_col)\n",
    "\n",
    "struct = dfm[[struct_col]].drop_duplicates()\n",
    "#print(struct)\n",
    "#struct = struc.drop_duplicates()\n",
    "#print(struct)\n",
    "\n",
    "struct_list = struct.to_records(index = False)\n",
    "#print(struct_list)\n",
    "\n",
    "imp_struct = ()\n",
    "\n",
    "print()\n",
    "print('# # # Structure Insert # # #')\n",
    "print()\n",
    "for i in struct_list:\n",
    "    #print(i)\n",
    "    cp.SmilesInsert(i)\n",
    "\n",
    "\n",
    "print()\n",
    "print('# # # Structure Search # # #')\n",
    "print()\n",
    "db_chem = psycopg2.connect(host = \"192.168.86.31\", dbname=\"Chemistry\", user=\"postgres\", password=\"postgres\")\n",
    "cur = db_chem.cursor()\n",
    "for i in struct_list:\n",
    "    j= i[0]\n",
    "    print()\n",
    "    print(j)\n",
    "    sql = 'select * from public.structures where molecule =\\' '+j+' \\'::mol;'\n",
    "    #print(sql)\n",
    "    cur.execute(sql)\n",
    "    mollist = cur.fetchall()\n",
    "    print(mollist)\n",
    "\n",
    "\n",
    "\n",
    "#test = (\"C1CCCCOCCCC1\",\"C1CCCCNCCCC1\",\"C1CCCCSCCCC1\")\n",
    "\n",
    "#cp.SmilesInsert(test)"
   ]
  },
  {
   "cell_type": "code",
   "execution_count": 3,
   "id": "edd416a5",
   "metadata": {},
   "outputs": [
    {
     "name": "stdout",
     "output_type": "stream",
     "text": [
      "N(=O)(-,:O)O\n",
      "15\n",
      "[Cl,Br,I]\n",
      "[#3,#11,#19,#20,#12]\n",
      "[O,N]\n",
      "N(=O)(-,:O)O\n",
      "P(=O)(-,:O)(-,:O)O\n",
      "P(-,:F)(-,:F)(-,:F)(-,:F)(-,:F)F\n",
      "S(=O)(=O)(-,:O)O\n",
      "[C&H3]S(=O)(=O)-,:O\n",
      "c1cc(-,:[C&H3])ccc1S(=O)(=O)-,:O\n",
      "[C&H3]C(=O)O\n",
      "FC(-,:F)(-,:F)C(=O)O\n",
      "OC(=O)C=CC(=O)O\n",
      "OC(=O)C(=O)O\n",
      "OC(=O)C(-,:O)C(-,:O)C(=O)O\n",
      "C1CCCCC1[N&H1]C1CCCCC1\n"
     ]
    }
   ],
   "source": [
    "from rdkit import Chem\n",
    "from rdkit.Chem import SaltRemover as rdsr\n",
    "\n",
    "remover = rdsr.SaltRemover()\n",
    "\n",
    "# We can have a look at some of the salts\n",
    "a = Chem.MolToSmarts(remover.salts[3])\n",
    "print(a)\n",
    "print(len(remover.salts))\n",
    "\n",
    "for i in remover.salts:\n",
    "    a = Chem.MolToSmarts(i)\n",
    "    print(a)"
   ]
  },
  {
   "cell_type": "code",
   "execution_count": 5,
   "id": "0db8f45e",
   "metadata": {},
   "outputs": [],
   "source": [
    "from rdkit.Chem.MolStandardize import rdMolStandardize\n",
    "un = rdMolStandardize.Uncharger()\n",
    "\n",
    "for i in struct_list:\n",
    "    j = Chem.MolFromSmiles(i[0])\n",
    "    r = remover.StripMol(j)\n",
    "    if j.GetNumAtoms() != r.GetNumAtoms():\n",
    "        r = un.uncharge(r)\n",
    "        k = Chem.MolToSmiles(r)\n",
    "        print(i[0], ' - ',k)"
   ]
  },
  {
   "cell_type": "code",
   "execution_count": null,
   "id": "4f75ede4",
   "metadata": {},
   "outputs": [],
   "source": []
  }
 ],
 "metadata": {
  "kernelspec": {
   "display_name": "Python 3 (ipykernel)",
   "language": "python",
   "name": "python3"
  },
  "language_info": {
   "codemirror_mode": {
    "name": "ipython",
    "version": 3
   },
   "file_extension": ".py",
   "mimetype": "text/x-python",
   "name": "python",
   "nbconvert_exporter": "python",
   "pygments_lexer": "ipython3",
   "version": "3.7.11"
  }
 },
 "nbformat": 4,
 "nbformat_minor": 5
}
