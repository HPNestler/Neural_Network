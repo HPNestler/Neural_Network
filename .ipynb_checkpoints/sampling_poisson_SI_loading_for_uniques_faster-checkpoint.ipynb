{
 "cells": [
  {
   "cell_type": "code",
   "execution_count": 1,
   "id": "6ed7df9c-96ef-4d00-9ba6-3960bbd80c99",
   "metadata": {},
   "outputs": [],
   "source": [
    "%matplotlib inline\n",
    "import matplotlib.pylab as plt\n",
    "from scipy.stats import poisson\n",
    "import numpy as np\n",
    "import pandas as pd"
   ]
  },
  {
   "cell_type": "code",
   "execution_count": 3,
   "id": "2f5f9d05-2be5-47e0-a781-3aed813a54d0",
   "metadata": {},
   "outputs": [],
   "source": [
    "import multiprocess as mp\n",
    "from tqdm.notebook import tqdm\n",
    "mp.set_start_method('spawn')"
   ]
  },
  {
   "cell_type": "code",
   "execution_count": 4,
   "id": "d3f72147-fb49-4d99-887f-d569fc613a9b",
   "metadata": {},
   "outputs": [],
   "source": [
    "Poisson_mean = 5.\n",
    "n_wells = 1_000_000\n",
    "n_bead_types = 21"
   ]
  },
  {
   "cell_type": "code",
   "execution_count": 5,
   "id": "395a4498-f0c9-472e-9ae5-dd8d1630d2a9",
   "metadata": {},
   "outputs": [],
   "source": [
    "well_count_dist = poisson(Poisson_mean)\n",
    "well_counts = well_count_dist.rvs(n_wells)\n",
    "beads = np.random.choice(\n",
    "    np.arange(n_bead_types),\n",
    "    size=(np.sum(well_counts))\n",
    ")"
   ]
  },
  {
   "cell_type": "code",
   "execution_count": 6,
   "id": "e3824e8e-5e9e-47e6-9b95-55f05d996097",
   "metadata": {},
   "outputs": [],
   "source": [
    "# this bit is different. it turns out to be a lot faster to do\n",
    "# sliced assignments with numpy.ndarray objects than it is to\n",
    "# do a one-by-one list accumulation, which requires a lot of \n",
    "# malloc calls, i bet...\n",
    "recep = np.zeros((well_counts.sum()), dtype=int)\n",
    "start_indices = [0,] + np.cumsum(well_counts).tolist()[:-1]\n",
    "\n",
    "for widx, wcount in enumerate(well_counts):\n",
    "    recep[\n",
    "        start_indices[widx]:start_indices[widx]+wcount\n",
    "    ] = widx"
   ]
  },
  {
   "cell_type": "code",
   "execution_count": 7,
   "id": "f2e90f3d-a1fa-40b6-96ce-1cd96355f20e",
   "metadata": {},
   "outputs": [],
   "source": [
    "df = pd.DataFrame({'well': recep, 'bead': beads})\n",
    "df = pd.pivot_table(\n",
    "    df.reset_index(),\n",
    "    index='well',\n",
    "    columns='bead',\n",
    "    values='index',\n",
    "    aggfunc='count'\n",
    ").fillna(0).astype(int)\n",
    "\n",
    "df = df > 0"
   ]
  },
  {
   "cell_type": "code",
   "execution_count": 8,
   "id": "a6afde58-8e3f-4176-a9d4-b2850838a7b0",
   "metadata": {},
   "outputs": [],
   "source": [
    "n_with_code = df.reset_index().groupby(\n",
    "    np.arange(n_bead_types).tolist()\n",
    ").count().rename(\n",
    "    columns={'index': 'wells'}\n",
    ")"
   ]
  },
  {
   "cell_type": "code",
   "execution_count": 9,
   "id": "8d6b22f8-4d40-4a62-b562-d3666d1bbde3",
   "metadata": {},
   "outputs": [
    {
     "name": "stdout",
     "output_type": "stream",
     "text": [
      "102,107\n",
      "0.102107\n"
     ]
    }
   ],
   "source": [
    "print('{:,d}'.format((n_with_code['well'] == 1).sum()))\n",
    "print((n_with_code['well'] == 1).sum() / n_wells)"
   ]
  },
  {
   "cell_type": "code",
   "execution_count": null,
   "id": "0d119bac-fd8d-4b28-b0c2-6c546ab1146b",
   "metadata": {},
   "outputs": [],
   "source": []
  }
 ],
 "metadata": {
  "kernelspec": {
   "display_name": "Python 3 (ipykernel)",
   "language": "python",
   "name": "python3"
  },
  "language_info": {
   "codemirror_mode": {
    "name": "ipython",
    "version": 3
   },
   "file_extension": ".py",
   "mimetype": "text/x-python",
   "name": "python",
   "nbconvert_exporter": "python",
   "pygments_lexer": "ipython3",
   "version": "3.7.13"
  }
 },
 "nbformat": 4,
 "nbformat_minor": 5
}
