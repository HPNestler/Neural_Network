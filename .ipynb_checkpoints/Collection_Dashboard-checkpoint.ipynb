{
 "cells": [
  {
   "cell_type": "code",
   "execution_count": 1,
   "id": "75f7eddc",
   "metadata": {},
   "outputs": [],
   "source": [
    "import sys\n",
    "sys.path.append('../pkg_mod')\n",
    "\n",
    "import db_connector as db\n",
    "import chemistry_psql as cp\n",
    "import importlib\n",
    "importlib.reload(cp)\n",
    "import psycopg2\n",
    "import pandas as pd\n",
    "from rdkit import Chem\n",
    "from rdkit.Chem import rdchem as rdch\n",
    "from rdkit.Chem import Descriptors as rdd\n",
    "from rdkit.Chem import rdMolDescriptors as rdmd\n",
    "#from rdkit.Chem import SaltRemover as rdsr\n",
    "from rdkit.Chem import PandasTools\n",
    "import plotly.graph_objects as go"
   ]
  },
  {
   "cell_type": "code",
   "execution_count": 2,
   "id": "96686fc8",
   "metadata": {},
   "outputs": [],
   "source": [
    "##### Global Variables #####\n",
    "\n",
    "molprop = ['numatoms','mw', 'fsp3', 'HBA', 'HBD', 'stereo', 'ring', 'rotbond', 'qed', 'logd','tpsa']\n",
    "\n",
    "### Druglikeness Boundaries ###\n",
    "### Lipinski\n",
    "### Veber\n",
    "### Ghosh\n",
    "druglike_max = [55,500,0.5,10,5,1,3,10,0.6,5,140]\n",
    "druglike_min = [30,160,0,0,0,0,0,6,0.4,0,0]"
   ]
  },
  {
   "cell_type": "code",
   "execution_count": 3,
   "id": "89bd4b56",
   "metadata": {},
   "outputs": [],
   "source": [
    "##### Function Definitions #####\n",
    "\n",
    "### Calculate Descriptor Space\n",
    "\n",
    "def collection_properties(dlist):\n",
    "\n",
    "    d_temp = []\n",
    "\n",
    "\n",
    "    for i in dlist:\n",
    "        smiles = i[0]\n",
    "        m = i[1]\n",
    "        numatoms = rdch.Mol.GetNumHeavyAtoms(m)\n",
    "        mw = rdd.ExactMolWt(m)\n",
    "        fsp3 = rdmd.CalcFractionCSP3(m)\n",
    "        HBA = rdmd.CalcNumLipinskiHBA(m)\n",
    "        HBD = rdmd.CalcNumLipinskiHBD(m)\n",
    "        stereo = rdmd.CalcNumAtomStereoCenters(m)\n",
    "        ring = rdmd.CalcNumRings(m)\n",
    "        rotbond = rdmd.CalcNumRotatableBonds(m)\n",
    "        qed = Chem.QED.qed(m)\n",
    "        logd = Chem.Crippen.MolLogP(m)\n",
    "        tpsa = rdmd.CalcTPSA(m)\n",
    "        #print(smiles, numatoms,mw, fsp3, HBA, HBD, stereo, ring, rotbond, qed, logd)\n",
    "        a = [smiles, numatoms,mw, fsp3, HBA, HBD, stereo, ring, rotbond, qed, logd,tpsa]\n",
    "        d_temp.append(a)\n",
    "    \n",
    "    #df_drugs = pd.DataFrame(drug_temp, columns = ['smiles', 'numatoms','mw', 'fsp3', 'HBA', 'HBD', 'stereo', 'ring', 'rotbond', 'qed', 'logd','tpsa'])\n",
    "    d = ['smiles']\n",
    "    for i in molprop:\n",
    "        d.append(i)\n",
    "    \n",
    "    #print(d)\n",
    "    df_d = pd.DataFrame(d_temp, columns = d)\n",
    "    \n",
    "    return df_d\n",
    "\n",
    "### Preparing the Compound Lists\n",
    "\n",
    "def list_prep(dlist):\n",
    "    temp_list = []\n",
    "\n",
    "    for i in range(0, len(dlist)):\n",
    "        j = dfr[i]\n",
    "        #print(j, type(j))\n",
    "        if type(j) == str:\n",
    "            j = j.split('.')\n",
    "            for k in j:\n",
    "                try:\n",
    "                    #print(k)\n",
    "                    m = Chem.MolFromSmiles(k)\n",
    "                    numatoms = rdch.Mol.GetNumAtoms(m)\n",
    "                    if numatoms >5:\n",
    "                        #print(k, numatoms)\n",
    "                        a = (k,m)\n",
    "                        if a not in temp_list:\n",
    "                            temp_list.append(a)\n",
    "                except:\n",
    "                    #print(j,k, ' - no valid SMILES/Molecule')\n",
    "                    pass\n",
    "            \n",
    "    return temp_list\n",
    "        "
   ]
  },
  {
   "cell_type": "code",
   "execution_count": 4,
   "id": "02c0c4ca",
   "metadata": {},
   "outputs": [
    {
     "name": "stdout",
     "output_type": "stream",
     "text": [
      "Druglist Prepared\n",
      "Collection Properties\n",
      "                                                 smiles  numatoms  \\\n",
      "0     CCC(C)C(C(=O)NC(CC1=CN=CN1)C(=O)N2CCCC2C(=O)NC...        75   \n",
      "1                                  CCC(C(=O)N)N1CCCC1=O        12   \n",
      "2     CCCCCCCCCC(=O)NC(CC1=CNC2=CC=CC=C21)C(=O)NC(CC...       115   \n",
      "3       CC1=C(C=CN=C1CS(=O)C2=NC3=CC=CC=C3N2)OCC(F)(F)F        25   \n",
      "4     COC1=C(C=C(C=C1)C2=CC3=C(C=C2)C=C(C=C3)C(=O)O)...        31   \n",
      "...                                                 ...       ...   \n",
      "2153       C1=COC(C2C1C(C=C2CO)O)OC3C(C(C(C(O3)CO)O)O)O        24   \n",
      "2154  CN1CCC2=CC3=C(C4=C2C1CC5=CC=C(C=C5)OC6=C(C=CC(...        45   \n",
      "2155                         C[N+]1=CC=CC(=C1)C(=O)[O-]        10   \n",
      "2156                                       C(CC(=O)O)CN         7   \n",
      "2157  CC1N2C3=CC(=C(C=C3C(=O)C(=C2S1)C(=O)O)F)N4CCN(...        32   \n",
      "\n",
      "               mw      fsp3  HBA  HBD  stereo  ring  rotbond       qed  \\\n",
      "0     1045.534515  0.500000   25   16       9     4       29  0.021798   \n",
      "1      170.105528  0.750000    4    2       1     1        3  0.641049   \n",
      "2     1619.710366  0.527778   43   25      13     4       35  0.011297   \n",
      "3      369.075882  0.250000    5    1       1     3        5  0.747286   \n",
      "4      412.203845  0.392857    3    1       0     7        4  0.519704   \n",
      "...           ...       ...  ...  ...     ...   ...      ...       ...   \n",
      "2153   346.126382  0.733333    9    6       9     3        4  0.296767   \n",
      "2154   606.272987  0.351351    8    0       2     9        2  0.245028   \n",
      "2155   137.047678  0.142857    3    0       0     1        1  0.459811   \n",
      "2156   103.063329  0.750000    3    3       0     0        3  0.520009   \n",
      "2157   461.105685  0.380952    9    1       1     5        4  0.627030   \n",
      "\n",
      "         logd    tpsa  \n",
      "0    -1.31470  408.84  \n",
      "1    -0.12730   63.40  \n",
      "2    -5.62180  702.02  \n",
      "3     3.51522   67.87  \n",
      "4     6.68140   46.53  \n",
      "...       ...     ...  \n",
      "2153 -2.80150  149.07  \n",
      "2154  6.87390   61.86  \n",
      "2155 -1.12540   44.01  \n",
      "2156 -0.19010   63.32  \n",
      "2157  2.63982  109.13  \n",
      "\n",
      "[2158 rows x 12 columns]\n",
      "numatoms     23.211770\n",
      "mw          332.288675\n",
      "fsp3          0.414283\n",
      "HBA           5.803522\n",
      "HBD           2.430491\n",
      "stereo        1.775255\n",
      "ring          2.490269\n",
      "rotbond       4.816960\n",
      "qed           0.543775\n",
      "logd          2.001095\n",
      "tpsa         85.699018\n",
      "dtype: float64 <class 'pandas.core.series.Series'>\n",
      "numatoms     12.385146\n",
      "mw          176.088772\n",
      "fsp3          0.278539\n",
      "HBA           3.993080\n",
      "HBD           2.683858\n",
      "stereo        3.496074\n",
      "ring          1.679914\n",
      "rotbond       4.114985\n",
      "qed           0.207004\n",
      "logd          2.608327\n",
      "tpsa         64.317321\n",
      "dtype: float64\n",
      "numatoms     6.000000\n",
      "mw          82.053098\n",
      "fsp3         0.000000\n",
      "HBA          0.000000\n",
      "HBD          0.000000\n",
      "stereo       0.000000\n",
      "ring         0.000000\n",
      "rotbond      0.000000\n",
      "qed          0.011297\n",
      "logd        -8.895300\n",
      "tpsa         0.000000\n",
      "dtype: float64\n",
      "numatoms     115.000000\n",
      "mw          1663.492352\n",
      "fsp3           1.000000\n",
      "HBA           43.000000\n",
      "HBD           25.000000\n",
      "stereo        30.000000\n",
      "ring          12.000000\n",
      "rotbond       35.000000\n",
      "qed            0.943711\n",
      "logd          17.853900\n",
      "tpsa         702.020000\n",
      "dtype: float64\n"
     ]
    }
   ],
   "source": [
    "##### Read and Prepare Druglists\n",
    "\n",
    "dfm = pd.read_excel(\"../Drug_Libraries/L1021-DiscoveryProbe-FDA-approved-Drug-Library.xlsx\", sheet_name=1)\n",
    "dfr = dfm['SMILES']\n",
    "\n",
    "drug_list = list_prep(dfr)\n",
    "#print(drug_list)\n",
    "print('Druglist Prepared')\n",
    "\n",
    "df_drugs = collection_properties(drug_list)\n",
    "print('Collection Properties')\n",
    "print(df_drugs)\n",
    "\n",
    "### Calculate Statistics\n",
    "\n",
    "drugs_mean = df_drugs[molprop].mean()\n",
    "drugs_std = df_drugs[molprop].std()\n",
    "drugs_min = df_drugs[molprop].min()\n",
    "drugs_max = df_drugs[molprop].max()\n",
    "print(drugs_mean, type(drugs_mean))\n",
    "print(drugs_std)\n",
    "print(drugs_min)\n",
    "print(drugs_max)"
   ]
  },
  {
   "cell_type": "code",
   "execution_count": 5,
   "id": "c3fc163d",
   "metadata": {},
   "outputs": [
    {
     "name": "stdout",
     "output_type": "stream",
     "text": [
      "DEL2-list Prepared\n"
     ]
    },
    {
     "ename": "KeyboardInterrupt",
     "evalue": "",
     "output_type": "error",
     "traceback": [
      "\u001b[1;31m---------------------------------------------------------------------------\u001b[0m",
      "\u001b[1;31mKeyboardInterrupt\u001b[0m                         Traceback (most recent call last)",
      "\u001b[1;32m~\\AppData\\Local\\Temp\\ipykernel_19532\\3469891547.py\u001b[0m in \u001b[0;36m<module>\u001b[1;34m\u001b[0m\n\u001b[0;32m      8\u001b[0m \u001b[0mprint\u001b[0m\u001b[1;33m(\u001b[0m\u001b[1;34m'DEL2-list Prepared'\u001b[0m\u001b[1;33m)\u001b[0m\u001b[1;33m\u001b[0m\u001b[1;33m\u001b[0m\u001b[0m\n\u001b[0;32m      9\u001b[0m \u001b[1;33m\u001b[0m\u001b[0m\n\u001b[1;32m---> 10\u001b[1;33m \u001b[0mdf_del2\u001b[0m \u001b[1;33m=\u001b[0m \u001b[0mcollection_properties\u001b[0m\u001b[1;33m(\u001b[0m\u001b[0mdel2_list\u001b[0m\u001b[1;33m)\u001b[0m\u001b[1;33m\u001b[0m\u001b[1;33m\u001b[0m\u001b[0m\n\u001b[0m\u001b[0;32m     11\u001b[0m \u001b[0mprint\u001b[0m\u001b[1;33m(\u001b[0m\u001b[1;34m'Collection Properties'\u001b[0m\u001b[1;33m)\u001b[0m\u001b[1;33m\u001b[0m\u001b[1;33m\u001b[0m\u001b[0m\n\u001b[0;32m     12\u001b[0m \u001b[0mprint\u001b[0m\u001b[1;33m(\u001b[0m\u001b[0mdf_def2\u001b[0m\u001b[1;33m)\u001b[0m\u001b[1;33m\u001b[0m\u001b[1;33m\u001b[0m\u001b[0m\n",
      "\u001b[1;32m~\\AppData\\Local\\Temp\\ipykernel_19532\\4089021806.py\u001b[0m in \u001b[0;36mcollection_properties\u001b[1;34m(dlist)\u001b[0m\n\u001b[0;32m     19\u001b[0m         \u001b[0mring\u001b[0m \u001b[1;33m=\u001b[0m \u001b[0mrdmd\u001b[0m\u001b[1;33m.\u001b[0m\u001b[0mCalcNumRings\u001b[0m\u001b[1;33m(\u001b[0m\u001b[0mm\u001b[0m\u001b[1;33m)\u001b[0m\u001b[1;33m\u001b[0m\u001b[1;33m\u001b[0m\u001b[0m\n\u001b[0;32m     20\u001b[0m         \u001b[0mrotbond\u001b[0m \u001b[1;33m=\u001b[0m \u001b[0mrdmd\u001b[0m\u001b[1;33m.\u001b[0m\u001b[0mCalcNumRotatableBonds\u001b[0m\u001b[1;33m(\u001b[0m\u001b[0mm\u001b[0m\u001b[1;33m)\u001b[0m\u001b[1;33m\u001b[0m\u001b[1;33m\u001b[0m\u001b[0m\n\u001b[1;32m---> 21\u001b[1;33m         \u001b[0mqed\u001b[0m \u001b[1;33m=\u001b[0m \u001b[0mChem\u001b[0m\u001b[1;33m.\u001b[0m\u001b[0mQED\u001b[0m\u001b[1;33m.\u001b[0m\u001b[0mqed\u001b[0m\u001b[1;33m(\u001b[0m\u001b[0mm\u001b[0m\u001b[1;33m)\u001b[0m\u001b[1;33m\u001b[0m\u001b[1;33m\u001b[0m\u001b[0m\n\u001b[0m\u001b[0;32m     22\u001b[0m         \u001b[0mlogd\u001b[0m \u001b[1;33m=\u001b[0m \u001b[0mChem\u001b[0m\u001b[1;33m.\u001b[0m\u001b[0mCrippen\u001b[0m\u001b[1;33m.\u001b[0m\u001b[0mMolLogP\u001b[0m\u001b[1;33m(\u001b[0m\u001b[0mm\u001b[0m\u001b[1;33m)\u001b[0m\u001b[1;33m\u001b[0m\u001b[1;33m\u001b[0m\u001b[0m\n\u001b[0;32m     23\u001b[0m         \u001b[0mtpsa\u001b[0m \u001b[1;33m=\u001b[0m \u001b[0mrdmd\u001b[0m\u001b[1;33m.\u001b[0m\u001b[0mCalcTPSA\u001b[0m\u001b[1;33m(\u001b[0m\u001b[0mm\u001b[0m\u001b[1;33m)\u001b[0m\u001b[1;33m\u001b[0m\u001b[1;33m\u001b[0m\u001b[0m\n",
      "\u001b[1;32m~\\anaconda3\\envs\\rdkit\\lib\\site-packages\\rdkit\\Chem\\QED.py\u001b[0m in \u001b[0;36mqed\u001b[1;34m(mol, w, qedProperties)\u001b[0m\n\u001b[0;32m    284\u001b[0m   \"\"\"\n\u001b[0;32m    285\u001b[0m   \u001b[1;32mif\u001b[0m \u001b[0mqedProperties\u001b[0m \u001b[1;32mis\u001b[0m \u001b[1;32mNone\u001b[0m\u001b[1;33m:\u001b[0m\u001b[1;33m\u001b[0m\u001b[1;33m\u001b[0m\u001b[0m\n\u001b[1;32m--> 286\u001b[1;33m       \u001b[0mqedProperties\u001b[0m \u001b[1;33m=\u001b[0m \u001b[0mproperties\u001b[0m\u001b[1;33m(\u001b[0m\u001b[0mmol\u001b[0m\u001b[1;33m)\u001b[0m\u001b[1;33m\u001b[0m\u001b[1;33m\u001b[0m\u001b[0m\n\u001b[0m\u001b[0;32m    287\u001b[0m   \u001b[0md\u001b[0m \u001b[1;33m=\u001b[0m \u001b[1;33m[\u001b[0m\u001b[0mads\u001b[0m\u001b[1;33m(\u001b[0m\u001b[0mpi\u001b[0m\u001b[1;33m,\u001b[0m \u001b[0madsParameters\u001b[0m\u001b[1;33m[\u001b[0m\u001b[0mname\u001b[0m\u001b[1;33m]\u001b[0m\u001b[1;33m)\u001b[0m \u001b[1;32mfor\u001b[0m \u001b[0mname\u001b[0m\u001b[1;33m,\u001b[0m \u001b[0mpi\u001b[0m \u001b[1;32min\u001b[0m \u001b[0mqedProperties\u001b[0m\u001b[1;33m.\u001b[0m\u001b[0m_asdict\u001b[0m\u001b[1;33m(\u001b[0m\u001b[1;33m)\u001b[0m\u001b[1;33m.\u001b[0m\u001b[0mitems\u001b[0m\u001b[1;33m(\u001b[0m\u001b[1;33m)\u001b[0m\u001b[1;33m]\u001b[0m\u001b[1;33m\u001b[0m\u001b[1;33m\u001b[0m\u001b[0m\n\u001b[0;32m    288\u001b[0m   \u001b[0mt\u001b[0m \u001b[1;33m=\u001b[0m \u001b[0msum\u001b[0m\u001b[1;33m(\u001b[0m\u001b[0mwi\u001b[0m \u001b[1;33m*\u001b[0m \u001b[0mmath\u001b[0m\u001b[1;33m.\u001b[0m\u001b[0mlog\u001b[0m\u001b[1;33m(\u001b[0m\u001b[0mdi\u001b[0m\u001b[1;33m)\u001b[0m \u001b[1;32mfor\u001b[0m \u001b[0mwi\u001b[0m\u001b[1;33m,\u001b[0m \u001b[0mdi\u001b[0m \u001b[1;32min\u001b[0m \u001b[0mzip\u001b[0m\u001b[1;33m(\u001b[0m\u001b[0mw\u001b[0m\u001b[1;33m,\u001b[0m \u001b[0md\u001b[0m\u001b[1;33m)\u001b[0m\u001b[1;33m)\u001b[0m\u001b[1;33m\u001b[0m\u001b[1;33m\u001b[0m\u001b[0m\n",
      "\u001b[1;32m~\\anaconda3\\envs\\rdkit\\lib\\site-packages\\rdkit\\Chem\\QED.py\u001b[0m in \u001b[0;36mproperties\u001b[1;34m(mol)\u001b[0m\n\u001b[0;32m    251\u001b[0m     \u001b[0mMW\u001b[0m\u001b[1;33m=\u001b[0m\u001b[0mrdmd\u001b[0m\u001b[1;33m.\u001b[0m\u001b[0m_CalcMolWt\u001b[0m\u001b[1;33m(\u001b[0m\u001b[0mmol\u001b[0m\u001b[1;33m)\u001b[0m\u001b[1;33m,\u001b[0m\u001b[1;33m\u001b[0m\u001b[1;33m\u001b[0m\u001b[0m\n\u001b[0;32m    252\u001b[0m     \u001b[0mALOGP\u001b[0m\u001b[1;33m=\u001b[0m\u001b[0mCrippen\u001b[0m\u001b[1;33m.\u001b[0m\u001b[0mMolLogP\u001b[0m\u001b[1;33m(\u001b[0m\u001b[0mmol\u001b[0m\u001b[1;33m)\u001b[0m\u001b[1;33m,\u001b[0m\u001b[1;33m\u001b[0m\u001b[1;33m\u001b[0m\u001b[0m\n\u001b[1;32m--> 253\u001b[1;33m     HBA=sum(len(mol.GetSubstructMatches(pattern)) for pattern in Acceptors\n\u001b[0m\u001b[0;32m    254\u001b[0m             if mol.HasSubstructMatch(pattern)),\n\u001b[0;32m    255\u001b[0m     \u001b[0mHBD\u001b[0m\u001b[1;33m=\u001b[0m\u001b[0mrdmd\u001b[0m\u001b[1;33m.\u001b[0m\u001b[0mCalcNumHBD\u001b[0m\u001b[1;33m(\u001b[0m\u001b[0mmol\u001b[0m\u001b[1;33m)\u001b[0m\u001b[1;33m,\u001b[0m\u001b[1;33m\u001b[0m\u001b[1;33m\u001b[0m\u001b[0m\n",
      "\u001b[1;32m~\\anaconda3\\envs\\rdkit\\lib\\site-packages\\rdkit\\Chem\\QED.py\u001b[0m in \u001b[0;36m<genexpr>\u001b[1;34m(.0)\u001b[0m\n\u001b[0;32m    252\u001b[0m     \u001b[0mALOGP\u001b[0m\u001b[1;33m=\u001b[0m\u001b[0mCrippen\u001b[0m\u001b[1;33m.\u001b[0m\u001b[0mMolLogP\u001b[0m\u001b[1;33m(\u001b[0m\u001b[0mmol\u001b[0m\u001b[1;33m)\u001b[0m\u001b[1;33m,\u001b[0m\u001b[1;33m\u001b[0m\u001b[1;33m\u001b[0m\u001b[0m\n\u001b[0;32m    253\u001b[0m     HBA=sum(len(mol.GetSubstructMatches(pattern)) for pattern in Acceptors\n\u001b[1;32m--> 254\u001b[1;33m             if mol.HasSubstructMatch(pattern)),\n\u001b[0m\u001b[0;32m    255\u001b[0m     \u001b[0mHBD\u001b[0m\u001b[1;33m=\u001b[0m\u001b[0mrdmd\u001b[0m\u001b[1;33m.\u001b[0m\u001b[0mCalcNumHBD\u001b[0m\u001b[1;33m(\u001b[0m\u001b[0mmol\u001b[0m\u001b[1;33m)\u001b[0m\u001b[1;33m,\u001b[0m\u001b[1;33m\u001b[0m\u001b[1;33m\u001b[0m\u001b[0m\n\u001b[0;32m    256\u001b[0m     \u001b[0mPSA\u001b[0m\u001b[1;33m=\u001b[0m\u001b[0mMolSurf\u001b[0m\u001b[1;33m.\u001b[0m\u001b[0mTPSA\u001b[0m\u001b[1;33m(\u001b[0m\u001b[0mmol\u001b[0m\u001b[1;33m)\u001b[0m\u001b[1;33m,\u001b[0m\u001b[1;33m\u001b[0m\u001b[1;33m\u001b[0m\u001b[0m\n",
      "\u001b[1;31mKeyboardInterrupt\u001b[0m: "
     ]
    }
   ],
   "source": [
    "##### Read and Prepare DEL2 Structures\n",
    "\n",
    "dfm = pd.read_csv(\"../DEL2_enum.csv\")\n",
    "dfr=dfm['Structure']\n",
    "\n",
    "del2_list = list_prep(dfr)\n",
    "#print(drug_list)\n",
    "print('DEL2-list Prepared')\n",
    "\n",
    "df_del2 = collection_properties(del2_list)\n",
    "print('Collection Properties')\n",
    "print(df_def2)\n",
    "\n",
    "### Calculate Statistics\n",
    "\n",
    "del2_mean = df_del2[molprop].mean()\n",
    "del2_std = df_del2[molprop].std()\n",
    "del2_min = df_del2[molprop].min()\n",
    "del2_max = df_del2[molprop].max()\n",
    "print(del2_mean)\n",
    "print(del2_std)\n",
    "print(del2_min)\n",
    "print(del2_max)"
   ]
  },
  {
   "cell_type": "code",
   "execution_count": 19,
   "id": "c559e00d",
   "metadata": {},
   "outputs": [
    {
     "name": "stdout",
     "output_type": "stream",
     "text": [
      "numatoms     23.211770\n",
      "mw          332.288675\n",
      "fsp3          0.414283\n",
      "HBA           5.803522\n",
      "HBD           2.430491\n",
      "stereo        1.775255\n",
      "ring          2.490269\n",
      "rotbond       4.816960\n",
      "qed           0.543775\n",
      "logd          2.001095\n",
      "tpsa         85.699018\n",
      "dtype: float64 <class 'pandas.core.series.Series'>\n",
      "numatoms     12.385146\n",
      "mw          176.088772\n",
      "fsp3          0.278539\n",
      "HBA           3.993080\n",
      "HBD           2.683858\n",
      "stereo        3.496074\n",
      "ring          1.679914\n",
      "rotbond       4.114985\n",
      "qed           0.207004\n",
      "logd          2.608327\n",
      "tpsa         64.317321\n",
      "dtype: float64\n",
      "numatoms     6.000000\n",
      "mw          82.053098\n",
      "fsp3         0.000000\n",
      "HBA          0.000000\n",
      "HBD          0.000000\n",
      "stereo       0.000000\n",
      "ring         0.000000\n",
      "rotbond      0.000000\n",
      "qed          0.011297\n",
      "logd        -8.895300\n",
      "tpsa         0.000000\n",
      "dtype: float64\n",
      "numatoms     115.000000\n",
      "mw          1663.492352\n",
      "fsp3           1.000000\n",
      "HBA           43.000000\n",
      "HBD           25.000000\n",
      "stereo        30.000000\n",
      "ring          12.000000\n",
      "rotbond       35.000000\n",
      "qed            0.943711\n",
      "logd          17.853900\n",
      "tpsa         702.020000\n",
      "dtype: float64\n"
     ]
    }
   ],
   "source": []
  },
  {
   "cell_type": "code",
   "execution_count": null,
   "id": "7f9e80b9",
   "metadata": {},
   "outputs": [],
   "source": []
  },
  {
   "cell_type": "code",
   "execution_count": 18,
   "id": "64572ef4",
   "metadata": {},
   "outputs": [
    {
     "name": "stdout",
     "output_type": "stream",
     "text": [
      "[115.0, 1663.492351879999, 1, 43.0, 25.0, 30.0, 12.0, 35.0, 1, 26.74919999999999, 702.02]\n",
      "[0.4782608695652174, 0.30057246697583195, 0.5, 0.23255813953488372, 0.2, 0.03333333333333333, 0.25, 0.2857142857142857, 0.6, 0.5194660027215775, 0.19942451782000514]\n",
      "[0.2608695652173913, 0.09618318943226623, 0, 0.0, 0.0, 0.0, 0.0, 0.17142857142857143, 0.4, 0.33254452469606643, 0.0]\n",
      "[0.20184147963089816, 0.19975365373933, 0.41428299194174506, 0.13496562277733473, 0.09721964782205746, 0.05917516218721038, 0.20752239728143343, 0.1376274328081557, 0.5437749113563763, 0.40735406643500555, 0.12207489474501759]\n",
      "[10.769692483936716, 10.5854873473527, 27.853927003860395, 9.28623275571795, 10.735432148566328, 11.653578682089224, 13.999285765188072, 11.757099873614157, 20.70042243348997, 9.751045794057307, 9.161750469989459]\n"
     ]
    },
    {
     "data": {
      "application/vnd.plotly.v1+json": {
       "config": {
        "plotlyServerURL": "https://plot.ly"
       },
       "data": [
        {
         "line": {
          "color": "green"
         },
         "name": "Druglikeness (lower)",
         "opacity": 0.25,
         "r": [
          0.2608695652173913,
          0.09618318943226623,
          0,
          0,
          0,
          0,
          0,
          0.17142857142857143,
          0.4,
          0.33254452469606643,
          0,
          0.2608695652173913
         ],
         "theta": [
          "numatoms",
          "mw",
          "fsp3",
          "HBA",
          "HBD",
          "stereo",
          "ring",
          "rotbond",
          "qed",
          "logd",
          "tpsa",
          "numatoms"
         ],
         "type": "scatterpolar"
        },
        {
         "fill": "tonext",
         "fillcolor": "lightgreen",
         "line": {
          "color": "green"
         },
         "name": "Druglikeness (upper)",
         "opacity": 0.5,
         "r": [
          0.4782608695652174,
          0.30057246697583195,
          0.5,
          0.23255813953488372,
          0.2,
          0.03333333333333333,
          0.25,
          0.2857142857142857,
          0.6,
          0.5194660027215775,
          0.19942451782000514,
          0.4782608695652174
         ],
         "theta": [
          "numatoms",
          "mw",
          "fsp3",
          "HBA",
          "HBD",
          "stereo",
          "ring",
          "rotbond",
          "qed",
          "logd",
          "tpsa",
          "numatoms"
         ],
         "type": "scatterpolar"
        },
        {
         "line": {
          "color": "blue",
          "width": 5
         },
         "marker": {
          "color": "blue",
          "gradient": {
           "color": "lightblue",
           "type": "radial"
          },
          "size": [
           10.769692483936716,
           10.5854873473527,
           27.853927003860395,
           9.28623275571795,
           10.735432148566328,
           11.653578682089224,
           13.999285765188072,
           11.757099873614157,
           20.70042243348997,
           9.751045794057307,
           9.161750469989459
          ],
          "sizemode": "diameter",
          "sizeref": 0.5437749113563763,
          "symbol": "circle"
         },
         "name": "Drug Collection",
         "r": [
          0.20184147963089816,
          0.19975365373933,
          0.41428299194174506,
          0.13496562277733473,
          0.09721964782205746,
          0.05917516218721038,
          0.20752239728143343,
          0.1376274328081557,
          0.5437749113563763,
          0.40735406643500555,
          0.12207489474501759,
          0.20184147963089816
         ],
         "theta": [
          "numatoms",
          "mw",
          "fsp3",
          "HBA",
          "HBD",
          "stereo",
          "ring",
          "rotbond",
          "qed",
          "logd",
          "tpsa",
          "numatoms"
         ],
         "type": "scatterpolar"
        }
       ],
       "layout": {
        "polar": {
         "radialaxis": {
          "visible": true
         }
        },
        "showlegend": true,
        "template": {
         "data": {
          "bar": [
           {
            "error_x": {
             "color": "#2a3f5f"
            },
            "error_y": {
             "color": "#2a3f5f"
            },
            "marker": {
             "line": {
              "color": "#E5ECF6",
              "width": 0.5
             },
             "pattern": {
              "fillmode": "overlay",
              "size": 10,
              "solidity": 0.2
             }
            },
            "type": "bar"
           }
          ],
          "barpolar": [
           {
            "marker": {
             "line": {
              "color": "#E5ECF6",
              "width": 0.5
             },
             "pattern": {
              "fillmode": "overlay",
              "size": 10,
              "solidity": 0.2
             }
            },
            "type": "barpolar"
           }
          ],
          "carpet": [
           {
            "aaxis": {
             "endlinecolor": "#2a3f5f",
             "gridcolor": "white",
             "linecolor": "white",
             "minorgridcolor": "white",
             "startlinecolor": "#2a3f5f"
            },
            "baxis": {
             "endlinecolor": "#2a3f5f",
             "gridcolor": "white",
             "linecolor": "white",
             "minorgridcolor": "white",
             "startlinecolor": "#2a3f5f"
            },
            "type": "carpet"
           }
          ],
          "choropleth": [
           {
            "colorbar": {
             "outlinewidth": 0,
             "ticks": ""
            },
            "type": "choropleth"
           }
          ],
          "contour": [
           {
            "colorbar": {
             "outlinewidth": 0,
             "ticks": ""
            },
            "colorscale": [
             [
              0,
              "#0d0887"
             ],
             [
              0.1111111111111111,
              "#46039f"
             ],
             [
              0.2222222222222222,
              "#7201a8"
             ],
             [
              0.3333333333333333,
              "#9c179e"
             ],
             [
              0.4444444444444444,
              "#bd3786"
             ],
             [
              0.5555555555555556,
              "#d8576b"
             ],
             [
              0.6666666666666666,
              "#ed7953"
             ],
             [
              0.7777777777777778,
              "#fb9f3a"
             ],
             [
              0.8888888888888888,
              "#fdca26"
             ],
             [
              1,
              "#f0f921"
             ]
            ],
            "type": "contour"
           }
          ],
          "contourcarpet": [
           {
            "colorbar": {
             "outlinewidth": 0,
             "ticks": ""
            },
            "type": "contourcarpet"
           }
          ],
          "heatmap": [
           {
            "colorbar": {
             "outlinewidth": 0,
             "ticks": ""
            },
            "colorscale": [
             [
              0,
              "#0d0887"
             ],
             [
              0.1111111111111111,
              "#46039f"
             ],
             [
              0.2222222222222222,
              "#7201a8"
             ],
             [
              0.3333333333333333,
              "#9c179e"
             ],
             [
              0.4444444444444444,
              "#bd3786"
             ],
             [
              0.5555555555555556,
              "#d8576b"
             ],
             [
              0.6666666666666666,
              "#ed7953"
             ],
             [
              0.7777777777777778,
              "#fb9f3a"
             ],
             [
              0.8888888888888888,
              "#fdca26"
             ],
             [
              1,
              "#f0f921"
             ]
            ],
            "type": "heatmap"
           }
          ],
          "heatmapgl": [
           {
            "colorbar": {
             "outlinewidth": 0,
             "ticks": ""
            },
            "colorscale": [
             [
              0,
              "#0d0887"
             ],
             [
              0.1111111111111111,
              "#46039f"
             ],
             [
              0.2222222222222222,
              "#7201a8"
             ],
             [
              0.3333333333333333,
              "#9c179e"
             ],
             [
              0.4444444444444444,
              "#bd3786"
             ],
             [
              0.5555555555555556,
              "#d8576b"
             ],
             [
              0.6666666666666666,
              "#ed7953"
             ],
             [
              0.7777777777777778,
              "#fb9f3a"
             ],
             [
              0.8888888888888888,
              "#fdca26"
             ],
             [
              1,
              "#f0f921"
             ]
            ],
            "type": "heatmapgl"
           }
          ],
          "histogram": [
           {
            "marker": {
             "pattern": {
              "fillmode": "overlay",
              "size": 10,
              "solidity": 0.2
             }
            },
            "type": "histogram"
           }
          ],
          "histogram2d": [
           {
            "colorbar": {
             "outlinewidth": 0,
             "ticks": ""
            },
            "colorscale": [
             [
              0,
              "#0d0887"
             ],
             [
              0.1111111111111111,
              "#46039f"
             ],
             [
              0.2222222222222222,
              "#7201a8"
             ],
             [
              0.3333333333333333,
              "#9c179e"
             ],
             [
              0.4444444444444444,
              "#bd3786"
             ],
             [
              0.5555555555555556,
              "#d8576b"
             ],
             [
              0.6666666666666666,
              "#ed7953"
             ],
             [
              0.7777777777777778,
              "#fb9f3a"
             ],
             [
              0.8888888888888888,
              "#fdca26"
             ],
             [
              1,
              "#f0f921"
             ]
            ],
            "type": "histogram2d"
           }
          ],
          "histogram2dcontour": [
           {
            "colorbar": {
             "outlinewidth": 0,
             "ticks": ""
            },
            "colorscale": [
             [
              0,
              "#0d0887"
             ],
             [
              0.1111111111111111,
              "#46039f"
             ],
             [
              0.2222222222222222,
              "#7201a8"
             ],
             [
              0.3333333333333333,
              "#9c179e"
             ],
             [
              0.4444444444444444,
              "#bd3786"
             ],
             [
              0.5555555555555556,
              "#d8576b"
             ],
             [
              0.6666666666666666,
              "#ed7953"
             ],
             [
              0.7777777777777778,
              "#fb9f3a"
             ],
             [
              0.8888888888888888,
              "#fdca26"
             ],
             [
              1,
              "#f0f921"
             ]
            ],
            "type": "histogram2dcontour"
           }
          ],
          "mesh3d": [
           {
            "colorbar": {
             "outlinewidth": 0,
             "ticks": ""
            },
            "type": "mesh3d"
           }
          ],
          "parcoords": [
           {
            "line": {
             "colorbar": {
              "outlinewidth": 0,
              "ticks": ""
             }
            },
            "type": "parcoords"
           }
          ],
          "pie": [
           {
            "automargin": true,
            "type": "pie"
           }
          ],
          "scatter": [
           {
            "marker": {
             "colorbar": {
              "outlinewidth": 0,
              "ticks": ""
             }
            },
            "type": "scatter"
           }
          ],
          "scatter3d": [
           {
            "line": {
             "colorbar": {
              "outlinewidth": 0,
              "ticks": ""
             }
            },
            "marker": {
             "colorbar": {
              "outlinewidth": 0,
              "ticks": ""
             }
            },
            "type": "scatter3d"
           }
          ],
          "scattercarpet": [
           {
            "marker": {
             "colorbar": {
              "outlinewidth": 0,
              "ticks": ""
             }
            },
            "type": "scattercarpet"
           }
          ],
          "scattergeo": [
           {
            "marker": {
             "colorbar": {
              "outlinewidth": 0,
              "ticks": ""
             }
            },
            "type": "scattergeo"
           }
          ],
          "scattergl": [
           {
            "marker": {
             "colorbar": {
              "outlinewidth": 0,
              "ticks": ""
             }
            },
            "type": "scattergl"
           }
          ],
          "scattermapbox": [
           {
            "marker": {
             "colorbar": {
              "outlinewidth": 0,
              "ticks": ""
             }
            },
            "type": "scattermapbox"
           }
          ],
          "scatterpolar": [
           {
            "marker": {
             "colorbar": {
              "outlinewidth": 0,
              "ticks": ""
             }
            },
            "type": "scatterpolar"
           }
          ],
          "scatterpolargl": [
           {
            "marker": {
             "colorbar": {
              "outlinewidth": 0,
              "ticks": ""
             }
            },
            "type": "scatterpolargl"
           }
          ],
          "scatterternary": [
           {
            "marker": {
             "colorbar": {
              "outlinewidth": 0,
              "ticks": ""
             }
            },
            "type": "scatterternary"
           }
          ],
          "surface": [
           {
            "colorbar": {
             "outlinewidth": 0,
             "ticks": ""
            },
            "colorscale": [
             [
              0,
              "#0d0887"
             ],
             [
              0.1111111111111111,
              "#46039f"
             ],
             [
              0.2222222222222222,
              "#7201a8"
             ],
             [
              0.3333333333333333,
              "#9c179e"
             ],
             [
              0.4444444444444444,
              "#bd3786"
             ],
             [
              0.5555555555555556,
              "#d8576b"
             ],
             [
              0.6666666666666666,
              "#ed7953"
             ],
             [
              0.7777777777777778,
              "#fb9f3a"
             ],
             [
              0.8888888888888888,
              "#fdca26"
             ],
             [
              1,
              "#f0f921"
             ]
            ],
            "type": "surface"
           }
          ],
          "table": [
           {
            "cells": {
             "fill": {
              "color": "#EBF0F8"
             },
             "line": {
              "color": "white"
             }
            },
            "header": {
             "fill": {
              "color": "#C8D4E3"
             },
             "line": {
              "color": "white"
             }
            },
            "type": "table"
           }
          ]
         },
         "layout": {
          "annotationdefaults": {
           "arrowcolor": "#2a3f5f",
           "arrowhead": 0,
           "arrowwidth": 1
          },
          "autotypenumbers": "strict",
          "coloraxis": {
           "colorbar": {
            "outlinewidth": 0,
            "ticks": ""
           }
          },
          "colorscale": {
           "diverging": [
            [
             0,
             "#8e0152"
            ],
            [
             0.1,
             "#c51b7d"
            ],
            [
             0.2,
             "#de77ae"
            ],
            [
             0.3,
             "#f1b6da"
            ],
            [
             0.4,
             "#fde0ef"
            ],
            [
             0.5,
             "#f7f7f7"
            ],
            [
             0.6,
             "#e6f5d0"
            ],
            [
             0.7,
             "#b8e186"
            ],
            [
             0.8,
             "#7fbc41"
            ],
            [
             0.9,
             "#4d9221"
            ],
            [
             1,
             "#276419"
            ]
           ],
           "sequential": [
            [
             0,
             "#0d0887"
            ],
            [
             0.1111111111111111,
             "#46039f"
            ],
            [
             0.2222222222222222,
             "#7201a8"
            ],
            [
             0.3333333333333333,
             "#9c179e"
            ],
            [
             0.4444444444444444,
             "#bd3786"
            ],
            [
             0.5555555555555556,
             "#d8576b"
            ],
            [
             0.6666666666666666,
             "#ed7953"
            ],
            [
             0.7777777777777778,
             "#fb9f3a"
            ],
            [
             0.8888888888888888,
             "#fdca26"
            ],
            [
             1,
             "#f0f921"
            ]
           ],
           "sequentialminus": [
            [
             0,
             "#0d0887"
            ],
            [
             0.1111111111111111,
             "#46039f"
            ],
            [
             0.2222222222222222,
             "#7201a8"
            ],
            [
             0.3333333333333333,
             "#9c179e"
            ],
            [
             0.4444444444444444,
             "#bd3786"
            ],
            [
             0.5555555555555556,
             "#d8576b"
            ],
            [
             0.6666666666666666,
             "#ed7953"
            ],
            [
             0.7777777777777778,
             "#fb9f3a"
            ],
            [
             0.8888888888888888,
             "#fdca26"
            ],
            [
             1,
             "#f0f921"
            ]
           ]
          },
          "colorway": [
           "#636efa",
           "#EF553B",
           "#00cc96",
           "#ab63fa",
           "#FFA15A",
           "#19d3f3",
           "#FF6692",
           "#B6E880",
           "#FF97FF",
           "#FECB52"
          ],
          "font": {
           "color": "#2a3f5f"
          },
          "geo": {
           "bgcolor": "white",
           "lakecolor": "white",
           "landcolor": "#E5ECF6",
           "showlakes": true,
           "showland": true,
           "subunitcolor": "white"
          },
          "hoverlabel": {
           "align": "left"
          },
          "hovermode": "closest",
          "mapbox": {
           "style": "light"
          },
          "paper_bgcolor": "white",
          "plot_bgcolor": "#E5ECF6",
          "polar": {
           "angularaxis": {
            "gridcolor": "white",
            "linecolor": "white",
            "ticks": ""
           },
           "bgcolor": "#E5ECF6",
           "radialaxis": {
            "gridcolor": "white",
            "linecolor": "white",
            "ticks": ""
           }
          },
          "scene": {
           "xaxis": {
            "backgroundcolor": "#E5ECF6",
            "gridcolor": "white",
            "gridwidth": 2,
            "linecolor": "white",
            "showbackground": true,
            "ticks": "",
            "zerolinecolor": "white"
           },
           "yaxis": {
            "backgroundcolor": "#E5ECF6",
            "gridcolor": "white",
            "gridwidth": 2,
            "linecolor": "white",
            "showbackground": true,
            "ticks": "",
            "zerolinecolor": "white"
           },
           "zaxis": {
            "backgroundcolor": "#E5ECF6",
            "gridcolor": "white",
            "gridwidth": 2,
            "linecolor": "white",
            "showbackground": true,
            "ticks": "",
            "zerolinecolor": "white"
           }
          },
          "shapedefaults": {
           "line": {
            "color": "#2a3f5f"
           }
          },
          "ternary": {
           "aaxis": {
            "gridcolor": "white",
            "linecolor": "white",
            "ticks": ""
           },
           "baxis": {
            "gridcolor": "white",
            "linecolor": "white",
            "ticks": ""
           },
           "bgcolor": "#E5ECF6",
           "caxis": {
            "gridcolor": "white",
            "linecolor": "white",
            "ticks": ""
           }
          },
          "title": {
           "x": 0.05
          },
          "xaxis": {
           "automargin": true,
           "gridcolor": "white",
           "linecolor": "white",
           "ticks": "",
           "title": {
            "standoff": 15
           },
           "zerolinecolor": "white",
           "zerolinewidth": 2
          },
          "yaxis": {
           "automargin": true,
           "gridcolor": "white",
           "linecolor": "white",
           "ticks": "",
           "title": {
            "standoff": 15
           },
           "zerolinecolor": "white",
           "zerolinewidth": 2
          }
         }
        }
       }
      },
      "text/html": [
       "<div>                            <div id=\"9be66263-d491-4b56-8f46-8adeaad09303\" class=\"plotly-graph-div\" style=\"height:525px; width:100%;\"></div>            <script type=\"text/javascript\">                require([\"plotly\"], function(Plotly) {                    window.PLOTLYENV=window.PLOTLYENV || {};                                    if (document.getElementById(\"9be66263-d491-4b56-8f46-8adeaad09303\")) {                    Plotly.newPlot(                        \"9be66263-d491-4b56-8f46-8adeaad09303\",                        [{\"line\":{\"color\":\"green\"},\"name\":\"Druglikeness (lower)\",\"opacity\":0.25,\"r\":[0.2608695652173913,0.09618318943226623,0,0.0,0.0,0.0,0.0,0.17142857142857143,0.4,0.33254452469606643,0.0,0.2608695652173913],\"theta\":[\"numatoms\",\"mw\",\"fsp3\",\"HBA\",\"HBD\",\"stereo\",\"ring\",\"rotbond\",\"qed\",\"logd\",\"tpsa\",\"numatoms\"],\"type\":\"scatterpolar\"},{\"fill\":\"tonext\",\"fillcolor\":\"lightgreen\",\"line\":{\"color\":\"green\"},\"name\":\"Druglikeness (upper)\",\"opacity\":0.5,\"r\":[0.4782608695652174,0.30057246697583195,0.5,0.23255813953488372,0.2,0.03333333333333333,0.25,0.2857142857142857,0.6,0.5194660027215775,0.19942451782000514,0.4782608695652174],\"theta\":[\"numatoms\",\"mw\",\"fsp3\",\"HBA\",\"HBD\",\"stereo\",\"ring\",\"rotbond\",\"qed\",\"logd\",\"tpsa\",\"numatoms\"],\"type\":\"scatterpolar\"},{\"line\":{\"color\":\"blue\",\"width\":5},\"marker\":{\"color\":\"blue\",\"gradient\":{\"color\":\"lightblue\",\"type\":\"radial\"},\"size\":[10.769692483936716,10.5854873473527,27.853927003860395,9.28623275571795,10.735432148566328,11.653578682089224,13.999285765188072,11.757099873614157,20.70042243348997,9.751045794057307,9.161750469989459],\"sizemode\":\"diameter\",\"sizeref\":0.5437749113563763,\"symbol\":\"circle\"},\"name\":\"Drug Collection\",\"r\":[0.20184147963089816,0.19975365373933,0.41428299194174506,0.13496562277733473,0.09721964782205746,0.05917516218721038,0.20752239728143343,0.1376274328081557,0.5437749113563763,0.40735406643500555,0.12207489474501759,0.20184147963089816],\"theta\":[\"numatoms\",\"mw\",\"fsp3\",\"HBA\",\"HBD\",\"stereo\",\"ring\",\"rotbond\",\"qed\",\"logd\",\"tpsa\",\"numatoms\"],\"type\":\"scatterpolar\"}],                        {\"template\":{\"data\":{\"bar\":[{\"error_x\":{\"color\":\"#2a3f5f\"},\"error_y\":{\"color\":\"#2a3f5f\"},\"marker\":{\"line\":{\"color\":\"#E5ECF6\",\"width\":0.5},\"pattern\":{\"fillmode\":\"overlay\",\"size\":10,\"solidity\":0.2}},\"type\":\"bar\"}],\"barpolar\":[{\"marker\":{\"line\":{\"color\":\"#E5ECF6\",\"width\":0.5},\"pattern\":{\"fillmode\":\"overlay\",\"size\":10,\"solidity\":0.2}},\"type\":\"barpolar\"}],\"carpet\":[{\"aaxis\":{\"endlinecolor\":\"#2a3f5f\",\"gridcolor\":\"white\",\"linecolor\":\"white\",\"minorgridcolor\":\"white\",\"startlinecolor\":\"#2a3f5f\"},\"baxis\":{\"endlinecolor\":\"#2a3f5f\",\"gridcolor\":\"white\",\"linecolor\":\"white\",\"minorgridcolor\":\"white\",\"startlinecolor\":\"#2a3f5f\"},\"type\":\"carpet\"}],\"choropleth\":[{\"colorbar\":{\"outlinewidth\":0,\"ticks\":\"\"},\"type\":\"choropleth\"}],\"contour\":[{\"colorbar\":{\"outlinewidth\":0,\"ticks\":\"\"},\"colorscale\":[[0.0,\"#0d0887\"],[0.1111111111111111,\"#46039f\"],[0.2222222222222222,\"#7201a8\"],[0.3333333333333333,\"#9c179e\"],[0.4444444444444444,\"#bd3786\"],[0.5555555555555556,\"#d8576b\"],[0.6666666666666666,\"#ed7953\"],[0.7777777777777778,\"#fb9f3a\"],[0.8888888888888888,\"#fdca26\"],[1.0,\"#f0f921\"]],\"type\":\"contour\"}],\"contourcarpet\":[{\"colorbar\":{\"outlinewidth\":0,\"ticks\":\"\"},\"type\":\"contourcarpet\"}],\"heatmap\":[{\"colorbar\":{\"outlinewidth\":0,\"ticks\":\"\"},\"colorscale\":[[0.0,\"#0d0887\"],[0.1111111111111111,\"#46039f\"],[0.2222222222222222,\"#7201a8\"],[0.3333333333333333,\"#9c179e\"],[0.4444444444444444,\"#bd3786\"],[0.5555555555555556,\"#d8576b\"],[0.6666666666666666,\"#ed7953\"],[0.7777777777777778,\"#fb9f3a\"],[0.8888888888888888,\"#fdca26\"],[1.0,\"#f0f921\"]],\"type\":\"heatmap\"}],\"heatmapgl\":[{\"colorbar\":{\"outlinewidth\":0,\"ticks\":\"\"},\"colorscale\":[[0.0,\"#0d0887\"],[0.1111111111111111,\"#46039f\"],[0.2222222222222222,\"#7201a8\"],[0.3333333333333333,\"#9c179e\"],[0.4444444444444444,\"#bd3786\"],[0.5555555555555556,\"#d8576b\"],[0.6666666666666666,\"#ed7953\"],[0.7777777777777778,\"#fb9f3a\"],[0.8888888888888888,\"#fdca26\"],[1.0,\"#f0f921\"]],\"type\":\"heatmapgl\"}],\"histogram\":[{\"marker\":{\"pattern\":{\"fillmode\":\"overlay\",\"size\":10,\"solidity\":0.2}},\"type\":\"histogram\"}],\"histogram2d\":[{\"colorbar\":{\"outlinewidth\":0,\"ticks\":\"\"},\"colorscale\":[[0.0,\"#0d0887\"],[0.1111111111111111,\"#46039f\"],[0.2222222222222222,\"#7201a8\"],[0.3333333333333333,\"#9c179e\"],[0.4444444444444444,\"#bd3786\"],[0.5555555555555556,\"#d8576b\"],[0.6666666666666666,\"#ed7953\"],[0.7777777777777778,\"#fb9f3a\"],[0.8888888888888888,\"#fdca26\"],[1.0,\"#f0f921\"]],\"type\":\"histogram2d\"}],\"histogram2dcontour\":[{\"colorbar\":{\"outlinewidth\":0,\"ticks\":\"\"},\"colorscale\":[[0.0,\"#0d0887\"],[0.1111111111111111,\"#46039f\"],[0.2222222222222222,\"#7201a8\"],[0.3333333333333333,\"#9c179e\"],[0.4444444444444444,\"#bd3786\"],[0.5555555555555556,\"#d8576b\"],[0.6666666666666666,\"#ed7953\"],[0.7777777777777778,\"#fb9f3a\"],[0.8888888888888888,\"#fdca26\"],[1.0,\"#f0f921\"]],\"type\":\"histogram2dcontour\"}],\"mesh3d\":[{\"colorbar\":{\"outlinewidth\":0,\"ticks\":\"\"},\"type\":\"mesh3d\"}],\"parcoords\":[{\"line\":{\"colorbar\":{\"outlinewidth\":0,\"ticks\":\"\"}},\"type\":\"parcoords\"}],\"pie\":[{\"automargin\":true,\"type\":\"pie\"}],\"scatter\":[{\"marker\":{\"colorbar\":{\"outlinewidth\":0,\"ticks\":\"\"}},\"type\":\"scatter\"}],\"scatter3d\":[{\"line\":{\"colorbar\":{\"outlinewidth\":0,\"ticks\":\"\"}},\"marker\":{\"colorbar\":{\"outlinewidth\":0,\"ticks\":\"\"}},\"type\":\"scatter3d\"}],\"scattercarpet\":[{\"marker\":{\"colorbar\":{\"outlinewidth\":0,\"ticks\":\"\"}},\"type\":\"scattercarpet\"}],\"scattergeo\":[{\"marker\":{\"colorbar\":{\"outlinewidth\":0,\"ticks\":\"\"}},\"type\":\"scattergeo\"}],\"scattergl\":[{\"marker\":{\"colorbar\":{\"outlinewidth\":0,\"ticks\":\"\"}},\"type\":\"scattergl\"}],\"scattermapbox\":[{\"marker\":{\"colorbar\":{\"outlinewidth\":0,\"ticks\":\"\"}},\"type\":\"scattermapbox\"}],\"scatterpolar\":[{\"marker\":{\"colorbar\":{\"outlinewidth\":0,\"ticks\":\"\"}},\"type\":\"scatterpolar\"}],\"scatterpolargl\":[{\"marker\":{\"colorbar\":{\"outlinewidth\":0,\"ticks\":\"\"}},\"type\":\"scatterpolargl\"}],\"scatterternary\":[{\"marker\":{\"colorbar\":{\"outlinewidth\":0,\"ticks\":\"\"}},\"type\":\"scatterternary\"}],\"surface\":[{\"colorbar\":{\"outlinewidth\":0,\"ticks\":\"\"},\"colorscale\":[[0.0,\"#0d0887\"],[0.1111111111111111,\"#46039f\"],[0.2222222222222222,\"#7201a8\"],[0.3333333333333333,\"#9c179e\"],[0.4444444444444444,\"#bd3786\"],[0.5555555555555556,\"#d8576b\"],[0.6666666666666666,\"#ed7953\"],[0.7777777777777778,\"#fb9f3a\"],[0.8888888888888888,\"#fdca26\"],[1.0,\"#f0f921\"]],\"type\":\"surface\"}],\"table\":[{\"cells\":{\"fill\":{\"color\":\"#EBF0F8\"},\"line\":{\"color\":\"white\"}},\"header\":{\"fill\":{\"color\":\"#C8D4E3\"},\"line\":{\"color\":\"white\"}},\"type\":\"table\"}]},\"layout\":{\"annotationdefaults\":{\"arrowcolor\":\"#2a3f5f\",\"arrowhead\":0,\"arrowwidth\":1},\"autotypenumbers\":\"strict\",\"coloraxis\":{\"colorbar\":{\"outlinewidth\":0,\"ticks\":\"\"}},\"colorscale\":{\"diverging\":[[0,\"#8e0152\"],[0.1,\"#c51b7d\"],[0.2,\"#de77ae\"],[0.3,\"#f1b6da\"],[0.4,\"#fde0ef\"],[0.5,\"#f7f7f7\"],[0.6,\"#e6f5d0\"],[0.7,\"#b8e186\"],[0.8,\"#7fbc41\"],[0.9,\"#4d9221\"],[1,\"#276419\"]],\"sequential\":[[0.0,\"#0d0887\"],[0.1111111111111111,\"#46039f\"],[0.2222222222222222,\"#7201a8\"],[0.3333333333333333,\"#9c179e\"],[0.4444444444444444,\"#bd3786\"],[0.5555555555555556,\"#d8576b\"],[0.6666666666666666,\"#ed7953\"],[0.7777777777777778,\"#fb9f3a\"],[0.8888888888888888,\"#fdca26\"],[1.0,\"#f0f921\"]],\"sequentialminus\":[[0.0,\"#0d0887\"],[0.1111111111111111,\"#46039f\"],[0.2222222222222222,\"#7201a8\"],[0.3333333333333333,\"#9c179e\"],[0.4444444444444444,\"#bd3786\"],[0.5555555555555556,\"#d8576b\"],[0.6666666666666666,\"#ed7953\"],[0.7777777777777778,\"#fb9f3a\"],[0.8888888888888888,\"#fdca26\"],[1.0,\"#f0f921\"]]},\"colorway\":[\"#636efa\",\"#EF553B\",\"#00cc96\",\"#ab63fa\",\"#FFA15A\",\"#19d3f3\",\"#FF6692\",\"#B6E880\",\"#FF97FF\",\"#FECB52\"],\"font\":{\"color\":\"#2a3f5f\"},\"geo\":{\"bgcolor\":\"white\",\"lakecolor\":\"white\",\"landcolor\":\"#E5ECF6\",\"showlakes\":true,\"showland\":true,\"subunitcolor\":\"white\"},\"hoverlabel\":{\"align\":\"left\"},\"hovermode\":\"closest\",\"mapbox\":{\"style\":\"light\"},\"paper_bgcolor\":\"white\",\"plot_bgcolor\":\"#E5ECF6\",\"polar\":{\"angularaxis\":{\"gridcolor\":\"white\",\"linecolor\":\"white\",\"ticks\":\"\"},\"bgcolor\":\"#E5ECF6\",\"radialaxis\":{\"gridcolor\":\"white\",\"linecolor\":\"white\",\"ticks\":\"\"}},\"scene\":{\"xaxis\":{\"backgroundcolor\":\"#E5ECF6\",\"gridcolor\":\"white\",\"gridwidth\":2,\"linecolor\":\"white\",\"showbackground\":true,\"ticks\":\"\",\"zerolinecolor\":\"white\"},\"yaxis\":{\"backgroundcolor\":\"#E5ECF6\",\"gridcolor\":\"white\",\"gridwidth\":2,\"linecolor\":\"white\",\"showbackground\":true,\"ticks\":\"\",\"zerolinecolor\":\"white\"},\"zaxis\":{\"backgroundcolor\":\"#E5ECF6\",\"gridcolor\":\"white\",\"gridwidth\":2,\"linecolor\":\"white\",\"showbackground\":true,\"ticks\":\"\",\"zerolinecolor\":\"white\"}},\"shapedefaults\":{\"line\":{\"color\":\"#2a3f5f\"}},\"ternary\":{\"aaxis\":{\"gridcolor\":\"white\",\"linecolor\":\"white\",\"ticks\":\"\"},\"baxis\":{\"gridcolor\":\"white\",\"linecolor\":\"white\",\"ticks\":\"\"},\"bgcolor\":\"#E5ECF6\",\"caxis\":{\"gridcolor\":\"white\",\"linecolor\":\"white\",\"ticks\":\"\"}},\"title\":{\"x\":0.05},\"xaxis\":{\"automargin\":true,\"gridcolor\":\"white\",\"linecolor\":\"white\",\"ticks\":\"\",\"title\":{\"standoff\":15},\"zerolinecolor\":\"white\",\"zerolinewidth\":2},\"yaxis\":{\"automargin\":true,\"gridcolor\":\"white\",\"linecolor\":\"white\",\"ticks\":\"\",\"title\":{\"standoff\":15},\"zerolinecolor\":\"white\",\"zerolinewidth\":2}}},\"polar\":{\"radialaxis\":{\"visible\":true}},\"showlegend\":true},                        {\"responsive\": true}                    ).then(function(){\n",
       "                            \n",
       "var gd = document.getElementById('9be66263-d491-4b56-8f46-8adeaad09303');\n",
       "var x = new MutationObserver(function (mutations, observer) {{\n",
       "        var display = window.getComputedStyle(gd).display;\n",
       "        if (!display || display === 'none') {{\n",
       "            console.log([gd, 'removed!']);\n",
       "            Plotly.purge(gd);\n",
       "            observer.disconnect();\n",
       "        }}\n",
       "}});\n",
       "\n",
       "// Listen for the removal of the full notebook cells\n",
       "var notebookContainer = gd.closest('#notebook-container');\n",
       "if (notebookContainer) {{\n",
       "    x.observe(notebookContainer, {childList: true});\n",
       "}}\n",
       "\n",
       "// Listen for the clearing of the current output cell\n",
       "var outputEl = gd.closest('.output');\n",
       "if (outputEl) {{\n",
       "    x.observe(outputEl, {childList: true});\n",
       "}}\n",
       "\n",
       "                        })                };                });            </script>        </div>"
      ]
     },
     "metadata": {},
     "output_type": "display_data"
    }
   ],
   "source": [
    "val = []\n",
    "ax = molprop.copy()\n",
    "scale = [1,1,1,1,1,1,1,1,1,1,1]\n",
    "val_width = [5,12,15,8,16,32,64,10,20,40,10]\n",
    "maxval = 0\n",
    "\n",
    "dl_max = druglike_max\n",
    "dl_min = druglike_min\n",
    "\n",
    "for i in range(0,len(drugs_mean)):\n",
    "    #print(i)\n",
    "    j = drugs_mean[i]\n",
    "    if ax[i] in ['qed','fsp3']:\n",
    "        val.append(j)\n",
    "        val_width[i] = (100*drugs_std[i])\n",
    "        maxval = max(j, maxval)\n",
    "    else:\n",
    "        amin = drugs_min[i]\n",
    "        if amin > 0:\n",
    "            amin = 0\n",
    "        amax = drugs_max[i]\n",
    "        scale[i] = amax - amin\n",
    "        j = (j-amin)/scale[i]\n",
    "        val.append(j)\n",
    "        dl_max[i] = (druglike_max[i]-amin)/scale[i]\n",
    "        dl_min[i] = (druglike_min[i]-amin)/scale[i]\n",
    "        val_width[i] = (100*drugs_std[i])/scale[i]\n",
    "        maxval = max(j, maxval)\n",
    "\n",
    "print(scale)\n",
    "print(dl_max)\n",
    "print(dl_min)  \n",
    "print(val)\n",
    "print(val_width)\n",
    "\n",
    "\n",
    "ax.append(ax[0])\n",
    "val.append(val[0])\n",
    "dl_max.append(dl_max[0])\n",
    "dl_min.append(dl_min[0])\n",
    "\n",
    "fig = go.Figure()\n",
    "\n",
    "fig.add_trace(go.Scatterpolar(\n",
    "    name = 'Druglikeness (lower)',\n",
    "  r=dl_min,\n",
    "  theta=ax,\n",
    "    opacity =.25,\n",
    "    #fillcolor = 'white',\n",
    "    line = dict(color = 'green')\n",
    "  #fill='none'\n",
    "))\n",
    "\n",
    "fig.add_trace(go.Scatterpolar(name = 'Druglikeness (upper)',\n",
    "  r=dl_max,\n",
    "  theta=ax,\n",
    "    line = dict(color = 'green'),\n",
    "    opacity = .5,\n",
    "    fillcolor = 'lightgreen',\n",
    "  fill='tonext'\n",
    "))\n",
    "\n",
    "\n",
    "fig.add_trace(go.Scatterpolar(name = 'Drug Collection',\n",
    "  r=val,\n",
    "  theta=ax,\n",
    "    line = dict(width = 5, color = 'blue'),\n",
    "    marker = dict(size=val_width, sizeref = maxval, sizemode = 'diameter', color = 'blue', symbol = 'circle', gradient = dict(type = 'radial',color = 'lightblue'))\n",
    "    \n",
    "  #fill='toself'\n",
    "))\n",
    "\n",
    "fig.update_layout(\n",
    "  polar=dict(\n",
    "    radialaxis=dict(\n",
    "      visible=True\n",
    "    ),\n",
    "  ),\n",
    "  showlegend=True\n",
    ")\n",
    "\n",
    "fig.show()"
   ]
  },
  {
   "cell_type": "code",
   "execution_count": 10,
   "id": "1a09809f",
   "metadata": {},
   "outputs": [
    {
     "name": "stdout",
     "output_type": "stream",
     "text": [
      "[0.094144554791531, 0.09389878026580299, 0.1357437219031411, 0.042103295220155226, -0.010134673663605834, -0.05736062463368185, 0.06752953962955272, 0.02005643407201413, 0.33677068702147667, 0.3098436084944325, 0.030457390045123003, 0.094144554791531]\n",
      "[0.3095384044702653, 0.305608527212857, 0.692822261980349, 0.22782795033451425, 0.20457396930772076, 0.1757109490081026, 0.34751525493331414, 0.2551984315442973, 0.7507791356912761, 0.5048645243755786, 0.2136923994449122, 0.3095384044702653]\n"
     ]
    },
    {
     "data": {
      "application/vnd.plotly.v1+json": {
       "config": {
        "plotlyServerURL": "https://plot.ly"
       },
       "data": [
        {
         "line": {
          "color": "green"
         },
         "name": "Druglikeness (lower)",
         "opacity": 0.25,
         "r": [
          0.2608695652173913,
          0.09618318943226623,
          0,
          0,
          0,
          0,
          0,
          0.17142857142857143,
          0.4,
          0.33254452469606643,
          0,
          0.2608695652173913
         ],
         "showlegend": false,
         "theta": [
          "numatoms",
          "mw",
          "fsp3",
          "HBA",
          "HBD",
          "stereo",
          "ring",
          "rotbond",
          "qed",
          "logd",
          "tpsa",
          "numatoms"
         ],
         "type": "scatterpolar"
        },
        {
         "fill": "tonext",
         "fillcolor": "lightgreen",
         "line": {
          "color": "green"
         },
         "name": "Druglikeness (upper)",
         "opacity": 0.5,
         "r": [
          0.4782608695652174,
          0.30057246697583195,
          0.5,
          0.23255813953488372,
          0.2,
          0.03333333333333333,
          0.25,
          0.2857142857142857,
          0.6,
          0.5194660027215775,
          0.19942451782000514,
          0.4782608695652174
         ],
         "theta": [
          "numatoms",
          "mw",
          "fsp3",
          "HBA",
          "HBD",
          "stereo",
          "ring",
          "rotbond",
          "qed",
          "logd",
          "tpsa",
          "numatoms"
         ],
         "type": "scatterpolar"
        },
        {
         "line": {
          "color": "blue",
          "width": 2
         },
         "marker": {
          "size": 1
         },
         "name": "Drug Collection",
         "r": [
          0.094144554791531,
          0.09389878026580299,
          0.1357437219031411,
          0.042103295220155226,
          -0.010134673663605834,
          -0.05736062463368185,
          0.06752953962955272,
          0.02005643407201413,
          0.33677068702147667,
          0.3098436084944325,
          0.030457390045123003,
          0.094144554791531
         ],
         "showlegend": false,
         "theta": [
          "numatoms",
          "mw",
          "fsp3",
          "HBA",
          "HBD",
          "stereo",
          "ring",
          "rotbond",
          "qed",
          "logd",
          "tpsa",
          "numatoms"
         ],
         "type": "scatterpolar"
        },
        {
         "fill": "tonext",
         "line": {
          "color": "blue",
          "width": 2
         },
         "marker": {
          "size": 1
         },
         "name": "Drug Collection",
         "r": [
          0.3095384044702653,
          0.305608527212857,
          0.692822261980349,
          0.22782795033451425,
          0.20457396930772076,
          0.1757109490081026,
          0.34751525493331414,
          0.2551984315442973,
          0.7507791356912761,
          0.5048645243755786,
          0.2136923994449122,
          0.3095384044702653
         ],
         "theta": [
          "numatoms",
          "mw",
          "fsp3",
          "HBA",
          "HBD",
          "stereo",
          "ring",
          "rotbond",
          "qed",
          "logd",
          "tpsa",
          "numatoms"
         ],
         "type": "scatterpolar"
        }
       ],
       "layout": {
        "polar": {
         "radialaxis": {
          "visible": true
         }
        },
        "showlegend": true,
        "template": {
         "data": {
          "bar": [
           {
            "error_x": {
             "color": "#2a3f5f"
            },
            "error_y": {
             "color": "#2a3f5f"
            },
            "marker": {
             "line": {
              "color": "#E5ECF6",
              "width": 0.5
             },
             "pattern": {
              "fillmode": "overlay",
              "size": 10,
              "solidity": 0.2
             }
            },
            "type": "bar"
           }
          ],
          "barpolar": [
           {
            "marker": {
             "line": {
              "color": "#E5ECF6",
              "width": 0.5
             },
             "pattern": {
              "fillmode": "overlay",
              "size": 10,
              "solidity": 0.2
             }
            },
            "type": "barpolar"
           }
          ],
          "carpet": [
           {
            "aaxis": {
             "endlinecolor": "#2a3f5f",
             "gridcolor": "white",
             "linecolor": "white",
             "minorgridcolor": "white",
             "startlinecolor": "#2a3f5f"
            },
            "baxis": {
             "endlinecolor": "#2a3f5f",
             "gridcolor": "white",
             "linecolor": "white",
             "minorgridcolor": "white",
             "startlinecolor": "#2a3f5f"
            },
            "type": "carpet"
           }
          ],
          "choropleth": [
           {
            "colorbar": {
             "outlinewidth": 0,
             "ticks": ""
            },
            "type": "choropleth"
           }
          ],
          "contour": [
           {
            "colorbar": {
             "outlinewidth": 0,
             "ticks": ""
            },
            "colorscale": [
             [
              0,
              "#0d0887"
             ],
             [
              0.1111111111111111,
              "#46039f"
             ],
             [
              0.2222222222222222,
              "#7201a8"
             ],
             [
              0.3333333333333333,
              "#9c179e"
             ],
             [
              0.4444444444444444,
              "#bd3786"
             ],
             [
              0.5555555555555556,
              "#d8576b"
             ],
             [
              0.6666666666666666,
              "#ed7953"
             ],
             [
              0.7777777777777778,
              "#fb9f3a"
             ],
             [
              0.8888888888888888,
              "#fdca26"
             ],
             [
              1,
              "#f0f921"
             ]
            ],
            "type": "contour"
           }
          ],
          "contourcarpet": [
           {
            "colorbar": {
             "outlinewidth": 0,
             "ticks": ""
            },
            "type": "contourcarpet"
           }
          ],
          "heatmap": [
           {
            "colorbar": {
             "outlinewidth": 0,
             "ticks": ""
            },
            "colorscale": [
             [
              0,
              "#0d0887"
             ],
             [
              0.1111111111111111,
              "#46039f"
             ],
             [
              0.2222222222222222,
              "#7201a8"
             ],
             [
              0.3333333333333333,
              "#9c179e"
             ],
             [
              0.4444444444444444,
              "#bd3786"
             ],
             [
              0.5555555555555556,
              "#d8576b"
             ],
             [
              0.6666666666666666,
              "#ed7953"
             ],
             [
              0.7777777777777778,
              "#fb9f3a"
             ],
             [
              0.8888888888888888,
              "#fdca26"
             ],
             [
              1,
              "#f0f921"
             ]
            ],
            "type": "heatmap"
           }
          ],
          "heatmapgl": [
           {
            "colorbar": {
             "outlinewidth": 0,
             "ticks": ""
            },
            "colorscale": [
             [
              0,
              "#0d0887"
             ],
             [
              0.1111111111111111,
              "#46039f"
             ],
             [
              0.2222222222222222,
              "#7201a8"
             ],
             [
              0.3333333333333333,
              "#9c179e"
             ],
             [
              0.4444444444444444,
              "#bd3786"
             ],
             [
              0.5555555555555556,
              "#d8576b"
             ],
             [
              0.6666666666666666,
              "#ed7953"
             ],
             [
              0.7777777777777778,
              "#fb9f3a"
             ],
             [
              0.8888888888888888,
              "#fdca26"
             ],
             [
              1,
              "#f0f921"
             ]
            ],
            "type": "heatmapgl"
           }
          ],
          "histogram": [
           {
            "marker": {
             "pattern": {
              "fillmode": "overlay",
              "size": 10,
              "solidity": 0.2
             }
            },
            "type": "histogram"
           }
          ],
          "histogram2d": [
           {
            "colorbar": {
             "outlinewidth": 0,
             "ticks": ""
            },
            "colorscale": [
             [
              0,
              "#0d0887"
             ],
             [
              0.1111111111111111,
              "#46039f"
             ],
             [
              0.2222222222222222,
              "#7201a8"
             ],
             [
              0.3333333333333333,
              "#9c179e"
             ],
             [
              0.4444444444444444,
              "#bd3786"
             ],
             [
              0.5555555555555556,
              "#d8576b"
             ],
             [
              0.6666666666666666,
              "#ed7953"
             ],
             [
              0.7777777777777778,
              "#fb9f3a"
             ],
             [
              0.8888888888888888,
              "#fdca26"
             ],
             [
              1,
              "#f0f921"
             ]
            ],
            "type": "histogram2d"
           }
          ],
          "histogram2dcontour": [
           {
            "colorbar": {
             "outlinewidth": 0,
             "ticks": ""
            },
            "colorscale": [
             [
              0,
              "#0d0887"
             ],
             [
              0.1111111111111111,
              "#46039f"
             ],
             [
              0.2222222222222222,
              "#7201a8"
             ],
             [
              0.3333333333333333,
              "#9c179e"
             ],
             [
              0.4444444444444444,
              "#bd3786"
             ],
             [
              0.5555555555555556,
              "#d8576b"
             ],
             [
              0.6666666666666666,
              "#ed7953"
             ],
             [
              0.7777777777777778,
              "#fb9f3a"
             ],
             [
              0.8888888888888888,
              "#fdca26"
             ],
             [
              1,
              "#f0f921"
             ]
            ],
            "type": "histogram2dcontour"
           }
          ],
          "mesh3d": [
           {
            "colorbar": {
             "outlinewidth": 0,
             "ticks": ""
            },
            "type": "mesh3d"
           }
          ],
          "parcoords": [
           {
            "line": {
             "colorbar": {
              "outlinewidth": 0,
              "ticks": ""
             }
            },
            "type": "parcoords"
           }
          ],
          "pie": [
           {
            "automargin": true,
            "type": "pie"
           }
          ],
          "scatter": [
           {
            "marker": {
             "colorbar": {
              "outlinewidth": 0,
              "ticks": ""
             }
            },
            "type": "scatter"
           }
          ],
          "scatter3d": [
           {
            "line": {
             "colorbar": {
              "outlinewidth": 0,
              "ticks": ""
             }
            },
            "marker": {
             "colorbar": {
              "outlinewidth": 0,
              "ticks": ""
             }
            },
            "type": "scatter3d"
           }
          ],
          "scattercarpet": [
           {
            "marker": {
             "colorbar": {
              "outlinewidth": 0,
              "ticks": ""
             }
            },
            "type": "scattercarpet"
           }
          ],
          "scattergeo": [
           {
            "marker": {
             "colorbar": {
              "outlinewidth": 0,
              "ticks": ""
             }
            },
            "type": "scattergeo"
           }
          ],
          "scattergl": [
           {
            "marker": {
             "colorbar": {
              "outlinewidth": 0,
              "ticks": ""
             }
            },
            "type": "scattergl"
           }
          ],
          "scattermapbox": [
           {
            "marker": {
             "colorbar": {
              "outlinewidth": 0,
              "ticks": ""
             }
            },
            "type": "scattermapbox"
           }
          ],
          "scatterpolar": [
           {
            "marker": {
             "colorbar": {
              "outlinewidth": 0,
              "ticks": ""
             }
            },
            "type": "scatterpolar"
           }
          ],
          "scatterpolargl": [
           {
            "marker": {
             "colorbar": {
              "outlinewidth": 0,
              "ticks": ""
             }
            },
            "type": "scatterpolargl"
           }
          ],
          "scatterternary": [
           {
            "marker": {
             "colorbar": {
              "outlinewidth": 0,
              "ticks": ""
             }
            },
            "type": "scatterternary"
           }
          ],
          "surface": [
           {
            "colorbar": {
             "outlinewidth": 0,
             "ticks": ""
            },
            "colorscale": [
             [
              0,
              "#0d0887"
             ],
             [
              0.1111111111111111,
              "#46039f"
             ],
             [
              0.2222222222222222,
              "#7201a8"
             ],
             [
              0.3333333333333333,
              "#9c179e"
             ],
             [
              0.4444444444444444,
              "#bd3786"
             ],
             [
              0.5555555555555556,
              "#d8576b"
             ],
             [
              0.6666666666666666,
              "#ed7953"
             ],
             [
              0.7777777777777778,
              "#fb9f3a"
             ],
             [
              0.8888888888888888,
              "#fdca26"
             ],
             [
              1,
              "#f0f921"
             ]
            ],
            "type": "surface"
           }
          ],
          "table": [
           {
            "cells": {
             "fill": {
              "color": "#EBF0F8"
             },
             "line": {
              "color": "white"
             }
            },
            "header": {
             "fill": {
              "color": "#C8D4E3"
             },
             "line": {
              "color": "white"
             }
            },
            "type": "table"
           }
          ]
         },
         "layout": {
          "annotationdefaults": {
           "arrowcolor": "#2a3f5f",
           "arrowhead": 0,
           "arrowwidth": 1
          },
          "autotypenumbers": "strict",
          "coloraxis": {
           "colorbar": {
            "outlinewidth": 0,
            "ticks": ""
           }
          },
          "colorscale": {
           "diverging": [
            [
             0,
             "#8e0152"
            ],
            [
             0.1,
             "#c51b7d"
            ],
            [
             0.2,
             "#de77ae"
            ],
            [
             0.3,
             "#f1b6da"
            ],
            [
             0.4,
             "#fde0ef"
            ],
            [
             0.5,
             "#f7f7f7"
            ],
            [
             0.6,
             "#e6f5d0"
            ],
            [
             0.7,
             "#b8e186"
            ],
            [
             0.8,
             "#7fbc41"
            ],
            [
             0.9,
             "#4d9221"
            ],
            [
             1,
             "#276419"
            ]
           ],
           "sequential": [
            [
             0,
             "#0d0887"
            ],
            [
             0.1111111111111111,
             "#46039f"
            ],
            [
             0.2222222222222222,
             "#7201a8"
            ],
            [
             0.3333333333333333,
             "#9c179e"
            ],
            [
             0.4444444444444444,
             "#bd3786"
            ],
            [
             0.5555555555555556,
             "#d8576b"
            ],
            [
             0.6666666666666666,
             "#ed7953"
            ],
            [
             0.7777777777777778,
             "#fb9f3a"
            ],
            [
             0.8888888888888888,
             "#fdca26"
            ],
            [
             1,
             "#f0f921"
            ]
           ],
           "sequentialminus": [
            [
             0,
             "#0d0887"
            ],
            [
             0.1111111111111111,
             "#46039f"
            ],
            [
             0.2222222222222222,
             "#7201a8"
            ],
            [
             0.3333333333333333,
             "#9c179e"
            ],
            [
             0.4444444444444444,
             "#bd3786"
            ],
            [
             0.5555555555555556,
             "#d8576b"
            ],
            [
             0.6666666666666666,
             "#ed7953"
            ],
            [
             0.7777777777777778,
             "#fb9f3a"
            ],
            [
             0.8888888888888888,
             "#fdca26"
            ],
            [
             1,
             "#f0f921"
            ]
           ]
          },
          "colorway": [
           "#636efa",
           "#EF553B",
           "#00cc96",
           "#ab63fa",
           "#FFA15A",
           "#19d3f3",
           "#FF6692",
           "#B6E880",
           "#FF97FF",
           "#FECB52"
          ],
          "font": {
           "color": "#2a3f5f"
          },
          "geo": {
           "bgcolor": "white",
           "lakecolor": "white",
           "landcolor": "#E5ECF6",
           "showlakes": true,
           "showland": true,
           "subunitcolor": "white"
          },
          "hoverlabel": {
           "align": "left"
          },
          "hovermode": "closest",
          "mapbox": {
           "style": "light"
          },
          "paper_bgcolor": "white",
          "plot_bgcolor": "#E5ECF6",
          "polar": {
           "angularaxis": {
            "gridcolor": "white",
            "linecolor": "white",
            "ticks": ""
           },
           "bgcolor": "#E5ECF6",
           "radialaxis": {
            "gridcolor": "white",
            "linecolor": "white",
            "ticks": ""
           }
          },
          "scene": {
           "xaxis": {
            "backgroundcolor": "#E5ECF6",
            "gridcolor": "white",
            "gridwidth": 2,
            "linecolor": "white",
            "showbackground": true,
            "ticks": "",
            "zerolinecolor": "white"
           },
           "yaxis": {
            "backgroundcolor": "#E5ECF6",
            "gridcolor": "white",
            "gridwidth": 2,
            "linecolor": "white",
            "showbackground": true,
            "ticks": "",
            "zerolinecolor": "white"
           },
           "zaxis": {
            "backgroundcolor": "#E5ECF6",
            "gridcolor": "white",
            "gridwidth": 2,
            "linecolor": "white",
            "showbackground": true,
            "ticks": "",
            "zerolinecolor": "white"
           }
          },
          "shapedefaults": {
           "line": {
            "color": "#2a3f5f"
           }
          },
          "ternary": {
           "aaxis": {
            "gridcolor": "white",
            "linecolor": "white",
            "ticks": ""
           },
           "baxis": {
            "gridcolor": "white",
            "linecolor": "white",
            "ticks": ""
           },
           "bgcolor": "#E5ECF6",
           "caxis": {
            "gridcolor": "white",
            "linecolor": "white",
            "ticks": ""
           }
          },
          "title": {
           "x": 0.05
          },
          "xaxis": {
           "automargin": true,
           "gridcolor": "white",
           "linecolor": "white",
           "ticks": "",
           "title": {
            "standoff": 15
           },
           "zerolinecolor": "white",
           "zerolinewidth": 2
          },
          "yaxis": {
           "automargin": true,
           "gridcolor": "white",
           "linecolor": "white",
           "ticks": "",
           "title": {
            "standoff": 15
           },
           "zerolinecolor": "white",
           "zerolinewidth": 2
          }
         }
        }
       }
      },
      "text/html": [
       "<div>                            <div id=\"451fcd36-99e0-4164-9b25-2849c684589c\" class=\"plotly-graph-div\" style=\"height:525px; width:100%;\"></div>            <script type=\"text/javascript\">                require([\"plotly\"], function(Plotly) {                    window.PLOTLYENV=window.PLOTLYENV || {};                                    if (document.getElementById(\"451fcd36-99e0-4164-9b25-2849c684589c\")) {                    Plotly.newPlot(                        \"451fcd36-99e0-4164-9b25-2849c684589c\",                        [{\"line\":{\"color\":\"green\"},\"name\":\"Druglikeness (lower)\",\"opacity\":0.25,\"r\":[0.2608695652173913,0.09618318943226623,0,0.0,0.0,0.0,0.0,0.17142857142857143,0.4,0.33254452469606643,0.0,0.2608695652173913],\"showlegend\":false,\"theta\":[\"numatoms\",\"mw\",\"fsp3\",\"HBA\",\"HBD\",\"stereo\",\"ring\",\"rotbond\",\"qed\",\"logd\",\"tpsa\",\"numatoms\"],\"type\":\"scatterpolar\"},{\"fill\":\"tonext\",\"fillcolor\":\"lightgreen\",\"line\":{\"color\":\"green\"},\"name\":\"Druglikeness (upper)\",\"opacity\":0.5,\"r\":[0.4782608695652174,0.30057246697583195,0.5,0.23255813953488372,0.2,0.03333333333333333,0.25,0.2857142857142857,0.6,0.5194660027215775,0.19942451782000514,0.4782608695652174],\"theta\":[\"numatoms\",\"mw\",\"fsp3\",\"HBA\",\"HBD\",\"stereo\",\"ring\",\"rotbond\",\"qed\",\"logd\",\"tpsa\",\"numatoms\"],\"type\":\"scatterpolar\"},{\"line\":{\"color\":\"blue\",\"width\":2},\"marker\":{\"size\":1},\"name\":\"Drug Collection\",\"r\":[0.094144554791531,0.09389878026580299,0.1357437219031411,0.042103295220155226,-0.010134673663605834,-0.05736062463368185,0.06752953962955272,0.02005643407201413,0.33677068702147667,0.3098436084944325,0.030457390045123003,0.094144554791531],\"showlegend\":false,\"theta\":[\"numatoms\",\"mw\",\"fsp3\",\"HBA\",\"HBD\",\"stereo\",\"ring\",\"rotbond\",\"qed\",\"logd\",\"tpsa\",\"numatoms\"],\"type\":\"scatterpolar\"},{\"fill\":\"tonext\",\"line\":{\"color\":\"blue\",\"width\":2},\"marker\":{\"size\":1},\"name\":\"Drug Collection\",\"r\":[0.3095384044702653,0.305608527212857,0.692822261980349,0.22782795033451425,0.20457396930772076,0.1757109490081026,0.34751525493331414,0.2551984315442973,0.7507791356912761,0.5048645243755786,0.2136923994449122,0.3095384044702653],\"theta\":[\"numatoms\",\"mw\",\"fsp3\",\"HBA\",\"HBD\",\"stereo\",\"ring\",\"rotbond\",\"qed\",\"logd\",\"tpsa\",\"numatoms\"],\"type\":\"scatterpolar\"}],                        {\"template\":{\"data\":{\"bar\":[{\"error_x\":{\"color\":\"#2a3f5f\"},\"error_y\":{\"color\":\"#2a3f5f\"},\"marker\":{\"line\":{\"color\":\"#E5ECF6\",\"width\":0.5},\"pattern\":{\"fillmode\":\"overlay\",\"size\":10,\"solidity\":0.2}},\"type\":\"bar\"}],\"barpolar\":[{\"marker\":{\"line\":{\"color\":\"#E5ECF6\",\"width\":0.5},\"pattern\":{\"fillmode\":\"overlay\",\"size\":10,\"solidity\":0.2}},\"type\":\"barpolar\"}],\"carpet\":[{\"aaxis\":{\"endlinecolor\":\"#2a3f5f\",\"gridcolor\":\"white\",\"linecolor\":\"white\",\"minorgridcolor\":\"white\",\"startlinecolor\":\"#2a3f5f\"},\"baxis\":{\"endlinecolor\":\"#2a3f5f\",\"gridcolor\":\"white\",\"linecolor\":\"white\",\"minorgridcolor\":\"white\",\"startlinecolor\":\"#2a3f5f\"},\"type\":\"carpet\"}],\"choropleth\":[{\"colorbar\":{\"outlinewidth\":0,\"ticks\":\"\"},\"type\":\"choropleth\"}],\"contour\":[{\"colorbar\":{\"outlinewidth\":0,\"ticks\":\"\"},\"colorscale\":[[0.0,\"#0d0887\"],[0.1111111111111111,\"#46039f\"],[0.2222222222222222,\"#7201a8\"],[0.3333333333333333,\"#9c179e\"],[0.4444444444444444,\"#bd3786\"],[0.5555555555555556,\"#d8576b\"],[0.6666666666666666,\"#ed7953\"],[0.7777777777777778,\"#fb9f3a\"],[0.8888888888888888,\"#fdca26\"],[1.0,\"#f0f921\"]],\"type\":\"contour\"}],\"contourcarpet\":[{\"colorbar\":{\"outlinewidth\":0,\"ticks\":\"\"},\"type\":\"contourcarpet\"}],\"heatmap\":[{\"colorbar\":{\"outlinewidth\":0,\"ticks\":\"\"},\"colorscale\":[[0.0,\"#0d0887\"],[0.1111111111111111,\"#46039f\"],[0.2222222222222222,\"#7201a8\"],[0.3333333333333333,\"#9c179e\"],[0.4444444444444444,\"#bd3786\"],[0.5555555555555556,\"#d8576b\"],[0.6666666666666666,\"#ed7953\"],[0.7777777777777778,\"#fb9f3a\"],[0.8888888888888888,\"#fdca26\"],[1.0,\"#f0f921\"]],\"type\":\"heatmap\"}],\"heatmapgl\":[{\"colorbar\":{\"outlinewidth\":0,\"ticks\":\"\"},\"colorscale\":[[0.0,\"#0d0887\"],[0.1111111111111111,\"#46039f\"],[0.2222222222222222,\"#7201a8\"],[0.3333333333333333,\"#9c179e\"],[0.4444444444444444,\"#bd3786\"],[0.5555555555555556,\"#d8576b\"],[0.6666666666666666,\"#ed7953\"],[0.7777777777777778,\"#fb9f3a\"],[0.8888888888888888,\"#fdca26\"],[1.0,\"#f0f921\"]],\"type\":\"heatmapgl\"}],\"histogram\":[{\"marker\":{\"pattern\":{\"fillmode\":\"overlay\",\"size\":10,\"solidity\":0.2}},\"type\":\"histogram\"}],\"histogram2d\":[{\"colorbar\":{\"outlinewidth\":0,\"ticks\":\"\"},\"colorscale\":[[0.0,\"#0d0887\"],[0.1111111111111111,\"#46039f\"],[0.2222222222222222,\"#7201a8\"],[0.3333333333333333,\"#9c179e\"],[0.4444444444444444,\"#bd3786\"],[0.5555555555555556,\"#d8576b\"],[0.6666666666666666,\"#ed7953\"],[0.7777777777777778,\"#fb9f3a\"],[0.8888888888888888,\"#fdca26\"],[1.0,\"#f0f921\"]],\"type\":\"histogram2d\"}],\"histogram2dcontour\":[{\"colorbar\":{\"outlinewidth\":0,\"ticks\":\"\"},\"colorscale\":[[0.0,\"#0d0887\"],[0.1111111111111111,\"#46039f\"],[0.2222222222222222,\"#7201a8\"],[0.3333333333333333,\"#9c179e\"],[0.4444444444444444,\"#bd3786\"],[0.5555555555555556,\"#d8576b\"],[0.6666666666666666,\"#ed7953\"],[0.7777777777777778,\"#fb9f3a\"],[0.8888888888888888,\"#fdca26\"],[1.0,\"#f0f921\"]],\"type\":\"histogram2dcontour\"}],\"mesh3d\":[{\"colorbar\":{\"outlinewidth\":0,\"ticks\":\"\"},\"type\":\"mesh3d\"}],\"parcoords\":[{\"line\":{\"colorbar\":{\"outlinewidth\":0,\"ticks\":\"\"}},\"type\":\"parcoords\"}],\"pie\":[{\"automargin\":true,\"type\":\"pie\"}],\"scatter\":[{\"marker\":{\"colorbar\":{\"outlinewidth\":0,\"ticks\":\"\"}},\"type\":\"scatter\"}],\"scatter3d\":[{\"line\":{\"colorbar\":{\"outlinewidth\":0,\"ticks\":\"\"}},\"marker\":{\"colorbar\":{\"outlinewidth\":0,\"ticks\":\"\"}},\"type\":\"scatter3d\"}],\"scattercarpet\":[{\"marker\":{\"colorbar\":{\"outlinewidth\":0,\"ticks\":\"\"}},\"type\":\"scattercarpet\"}],\"scattergeo\":[{\"marker\":{\"colorbar\":{\"outlinewidth\":0,\"ticks\":\"\"}},\"type\":\"scattergeo\"}],\"scattergl\":[{\"marker\":{\"colorbar\":{\"outlinewidth\":0,\"ticks\":\"\"}},\"type\":\"scattergl\"}],\"scattermapbox\":[{\"marker\":{\"colorbar\":{\"outlinewidth\":0,\"ticks\":\"\"}},\"type\":\"scattermapbox\"}],\"scatterpolar\":[{\"marker\":{\"colorbar\":{\"outlinewidth\":0,\"ticks\":\"\"}},\"type\":\"scatterpolar\"}],\"scatterpolargl\":[{\"marker\":{\"colorbar\":{\"outlinewidth\":0,\"ticks\":\"\"}},\"type\":\"scatterpolargl\"}],\"scatterternary\":[{\"marker\":{\"colorbar\":{\"outlinewidth\":0,\"ticks\":\"\"}},\"type\":\"scatterternary\"}],\"surface\":[{\"colorbar\":{\"outlinewidth\":0,\"ticks\":\"\"},\"colorscale\":[[0.0,\"#0d0887\"],[0.1111111111111111,\"#46039f\"],[0.2222222222222222,\"#7201a8\"],[0.3333333333333333,\"#9c179e\"],[0.4444444444444444,\"#bd3786\"],[0.5555555555555556,\"#d8576b\"],[0.6666666666666666,\"#ed7953\"],[0.7777777777777778,\"#fb9f3a\"],[0.8888888888888888,\"#fdca26\"],[1.0,\"#f0f921\"]],\"type\":\"surface\"}],\"table\":[{\"cells\":{\"fill\":{\"color\":\"#EBF0F8\"},\"line\":{\"color\":\"white\"}},\"header\":{\"fill\":{\"color\":\"#C8D4E3\"},\"line\":{\"color\":\"white\"}},\"type\":\"table\"}]},\"layout\":{\"annotationdefaults\":{\"arrowcolor\":\"#2a3f5f\",\"arrowhead\":0,\"arrowwidth\":1},\"autotypenumbers\":\"strict\",\"coloraxis\":{\"colorbar\":{\"outlinewidth\":0,\"ticks\":\"\"}},\"colorscale\":{\"diverging\":[[0,\"#8e0152\"],[0.1,\"#c51b7d\"],[0.2,\"#de77ae\"],[0.3,\"#f1b6da\"],[0.4,\"#fde0ef\"],[0.5,\"#f7f7f7\"],[0.6,\"#e6f5d0\"],[0.7,\"#b8e186\"],[0.8,\"#7fbc41\"],[0.9,\"#4d9221\"],[1,\"#276419\"]],\"sequential\":[[0.0,\"#0d0887\"],[0.1111111111111111,\"#46039f\"],[0.2222222222222222,\"#7201a8\"],[0.3333333333333333,\"#9c179e\"],[0.4444444444444444,\"#bd3786\"],[0.5555555555555556,\"#d8576b\"],[0.6666666666666666,\"#ed7953\"],[0.7777777777777778,\"#fb9f3a\"],[0.8888888888888888,\"#fdca26\"],[1.0,\"#f0f921\"]],\"sequentialminus\":[[0.0,\"#0d0887\"],[0.1111111111111111,\"#46039f\"],[0.2222222222222222,\"#7201a8\"],[0.3333333333333333,\"#9c179e\"],[0.4444444444444444,\"#bd3786\"],[0.5555555555555556,\"#d8576b\"],[0.6666666666666666,\"#ed7953\"],[0.7777777777777778,\"#fb9f3a\"],[0.8888888888888888,\"#fdca26\"],[1.0,\"#f0f921\"]]},\"colorway\":[\"#636efa\",\"#EF553B\",\"#00cc96\",\"#ab63fa\",\"#FFA15A\",\"#19d3f3\",\"#FF6692\",\"#B6E880\",\"#FF97FF\",\"#FECB52\"],\"font\":{\"color\":\"#2a3f5f\"},\"geo\":{\"bgcolor\":\"white\",\"lakecolor\":\"white\",\"landcolor\":\"#E5ECF6\",\"showlakes\":true,\"showland\":true,\"subunitcolor\":\"white\"},\"hoverlabel\":{\"align\":\"left\"},\"hovermode\":\"closest\",\"mapbox\":{\"style\":\"light\"},\"paper_bgcolor\":\"white\",\"plot_bgcolor\":\"#E5ECF6\",\"polar\":{\"angularaxis\":{\"gridcolor\":\"white\",\"linecolor\":\"white\",\"ticks\":\"\"},\"bgcolor\":\"#E5ECF6\",\"radialaxis\":{\"gridcolor\":\"white\",\"linecolor\":\"white\",\"ticks\":\"\"}},\"scene\":{\"xaxis\":{\"backgroundcolor\":\"#E5ECF6\",\"gridcolor\":\"white\",\"gridwidth\":2,\"linecolor\":\"white\",\"showbackground\":true,\"ticks\":\"\",\"zerolinecolor\":\"white\"},\"yaxis\":{\"backgroundcolor\":\"#E5ECF6\",\"gridcolor\":\"white\",\"gridwidth\":2,\"linecolor\":\"white\",\"showbackground\":true,\"ticks\":\"\",\"zerolinecolor\":\"white\"},\"zaxis\":{\"backgroundcolor\":\"#E5ECF6\",\"gridcolor\":\"white\",\"gridwidth\":2,\"linecolor\":\"white\",\"showbackground\":true,\"ticks\":\"\",\"zerolinecolor\":\"white\"}},\"shapedefaults\":{\"line\":{\"color\":\"#2a3f5f\"}},\"ternary\":{\"aaxis\":{\"gridcolor\":\"white\",\"linecolor\":\"white\",\"ticks\":\"\"},\"baxis\":{\"gridcolor\":\"white\",\"linecolor\":\"white\",\"ticks\":\"\"},\"bgcolor\":\"#E5ECF6\",\"caxis\":{\"gridcolor\":\"white\",\"linecolor\":\"white\",\"ticks\":\"\"}},\"title\":{\"x\":0.05},\"xaxis\":{\"automargin\":true,\"gridcolor\":\"white\",\"linecolor\":\"white\",\"ticks\":\"\",\"title\":{\"standoff\":15},\"zerolinecolor\":\"white\",\"zerolinewidth\":2},\"yaxis\":{\"automargin\":true,\"gridcolor\":\"white\",\"linecolor\":\"white\",\"ticks\":\"\",\"title\":{\"standoff\":15},\"zerolinecolor\":\"white\",\"zerolinewidth\":2}}},\"polar\":{\"radialaxis\":{\"visible\":true}},\"showlegend\":true},                        {\"responsive\": true}                    ).then(function(){\n",
       "                            \n",
       "var gd = document.getElementById('451fcd36-99e0-4164-9b25-2849c684589c');\n",
       "var x = new MutationObserver(function (mutations, observer) {{\n",
       "        var display = window.getComputedStyle(gd).display;\n",
       "        if (!display || display === 'none') {{\n",
       "            console.log([gd, 'removed!']);\n",
       "            Plotly.purge(gd);\n",
       "            observer.disconnect();\n",
       "        }}\n",
       "}});\n",
       "\n",
       "// Listen for the removal of the full notebook cells\n",
       "var notebookContainer = gd.closest('#notebook-container');\n",
       "if (notebookContainer) {{\n",
       "    x.observe(notebookContainer, {childList: true});\n",
       "}}\n",
       "\n",
       "// Listen for the clearing of the current output cell\n",
       "var outputEl = gd.closest('.output');\n",
       "if (outputEl) {{\n",
       "    x.observe(outputEl, {childList: true});\n",
       "}}\n",
       "\n",
       "                        })                };                });            </script>        </div>"
      ]
     },
     "metadata": {},
     "output_type": "display_data"
    }
   ],
   "source": [
    "val_max = []\n",
    "val_min = []\n",
    "\n",
    "for i in range(0,len(val)-1):\n",
    "    j = val[i]+drugs_std[i]/scale[i]\n",
    "    val_max.append(j)\n",
    "    j = val[i]-drugs_std[i]/scale[i]\n",
    "    val_min.append(j)\n",
    "    \n",
    "val_min.append(val_min[0])\n",
    "val_max.append(val_max[0])\n",
    "    \n",
    "print(val_min)\n",
    "print(val_max)\n",
    "    \n",
    "fig2 = go.Figure()\n",
    "\n",
    "fig2.add_trace(go.Scatterpolar(\n",
    "    name = 'Druglikeness (lower)', showlegend=False,\n",
    "  r=dl_min,\n",
    "  theta=ax,\n",
    "    opacity =.25,\n",
    "    #fillcolor = 'white',\n",
    "    line = dict(color = 'green')\n",
    "  #fill='none'\n",
    "))\n",
    "\n",
    "fig2.add_trace(go.Scatterpolar(name = 'Druglikeness (upper)',\n",
    "  r=dl_max,\n",
    "  theta=ax,\n",
    "    line = dict(color = 'green'),\n",
    "    opacity = .5,\n",
    "    fillcolor = 'lightgreen',\n",
    "  fill='tonext'\n",
    "))\n",
    "\n",
    "\n",
    "fig2.add_trace(go.Scatterpolar(name = 'Drug Collection', showlegend=False,\n",
    "  r=val_min,\n",
    "  theta=ax,\n",
    "    line = dict(width = 2, color = 'blue'),\n",
    "    #marker = dict(size=val_width, color = 'blue', symbol = 'circle', gradient = dict(type = 'radial',color = 'lightblue'))\n",
    "    marker = dict(size = 1)\n",
    "    \n",
    "  #fill='toself'\n",
    "))\n",
    "\n",
    "\n",
    "fig2.add_trace(go.Scatterpolar(name = 'Drug Collection',\n",
    "  r=val_max,\n",
    "  theta=ax,\n",
    "    line = dict(width = 2, color = 'blue'),\n",
    "    #marker = dict(size=val_width, color = 'blue', symbol = 'circle', gradient = dict(type = 'radial',color = 'lightblue'))\n",
    "    marker = dict(size = 1),\n",
    "  fill='tonext'\n",
    "))\n",
    "\n",
    "fig2.update_layout(\n",
    "  polar=dict(\n",
    "    radialaxis=dict(\n",
    "      visible=True\n",
    "    ),\n",
    "  ),\n",
    "  showlegend=True\n",
    ")\n",
    "\n",
    "fig2.show()"
   ]
  },
  {
   "cell_type": "code",
   "execution_count": 11,
   "id": "10beaffd",
   "metadata": {},
   "outputs": [
    {
     "data": {
      "application/vnd.plotly.v1+json": {
       "config": {
        "plotlyServerURL": "https://plot.ly"
       },
       "data": [
        {
         "line": {
          "color": "green"
         },
         "name": "Druglikeness (lower)",
         "opacity": 0.25,
         "r": [
          0.2608695652173913,
          0.09618318943226623,
          0,
          0,
          0,
          0,
          0,
          0.17142857142857143,
          0.4,
          0.33254452469606643,
          0,
          0.2608695652173913
         ],
         "theta": [
          "numatoms",
          "mw",
          "fsp3",
          "HBA",
          "HBD",
          "stereo",
          "ring",
          "rotbond",
          "qed",
          "logd",
          "tpsa",
          "numatoms"
         ],
         "type": "scatterpolar"
        },
        {
         "fill": "tonext",
         "fillcolor": "lightgreen",
         "line": {
          "color": "green"
         },
         "name": "Druglikeness (upper)",
         "opacity": 0.5,
         "r": [
          0.4782608695652174,
          0.30057246697583195,
          0.5,
          0.23255813953488372,
          0.2,
          0.03333333333333333,
          0.25,
          0.2857142857142857,
          0.6,
          0.5194660027215775,
          0.19942451782000514,
          0.4782608695652174
         ],
         "theta": [
          "numatoms",
          "mw",
          "fsp3",
          "HBA",
          "HBD",
          "stereo",
          "ring",
          "rotbond",
          "qed",
          "logd",
          "tpsa",
          "numatoms"
         ],
         "type": "scatterpolar"
        },
        {
         "line": {
          "color": "blue",
          "width": 5
         },
         "marker": {
          "color": "blue",
          "gradient": {
           "color": "lightblue",
           "type": "radial"
          },
          "size": [
           10.769692483936716,
           10.5854873473527,
           27.853927003860395,
           9.28623275571795,
           10.735432148566328,
           11.653578682089224,
           13.999285765188072,
           11.757099873614157,
           20.70042243348997,
           9.751045794057307,
           9.161750469989459
          ],
          "sizemode": "diameter",
          "sizeref": 0.5437749113563763,
          "symbol": "circle"
         },
         "name": "Drug Collection",
         "r": [
          0.20184147963089816,
          0.19975365373933,
          0.41428299194174506,
          0.13496562277733473,
          0.09721964782205746,
          0.05917516218721038,
          0.20752239728143343,
          0.1376274328081557,
          0.5437749113563763,
          0.40735406643500555,
          0.12207489474501759,
          0.20184147963089816
         ],
         "theta": [
          "numatoms",
          "mw",
          "fsp3",
          "HBA",
          "HBD",
          "stereo",
          "ring",
          "rotbond",
          "qed",
          "logd",
          "tpsa",
          "numatoms"
         ],
         "type": "scatterpolar"
        }
       ],
       "layout": {
        "polar": {
         "radialaxis": {
          "visible": true
         }
        },
        "showlegend": true,
        "template": {
         "data": {
          "bar": [
           {
            "error_x": {
             "color": "#2a3f5f"
            },
            "error_y": {
             "color": "#2a3f5f"
            },
            "marker": {
             "line": {
              "color": "#E5ECF6",
              "width": 0.5
             },
             "pattern": {
              "fillmode": "overlay",
              "size": 10,
              "solidity": 0.2
             }
            },
            "type": "bar"
           }
          ],
          "barpolar": [
           {
            "marker": {
             "line": {
              "color": "#E5ECF6",
              "width": 0.5
             },
             "pattern": {
              "fillmode": "overlay",
              "size": 10,
              "solidity": 0.2
             }
            },
            "type": "barpolar"
           }
          ],
          "carpet": [
           {
            "aaxis": {
             "endlinecolor": "#2a3f5f",
             "gridcolor": "white",
             "linecolor": "white",
             "minorgridcolor": "white",
             "startlinecolor": "#2a3f5f"
            },
            "baxis": {
             "endlinecolor": "#2a3f5f",
             "gridcolor": "white",
             "linecolor": "white",
             "minorgridcolor": "white",
             "startlinecolor": "#2a3f5f"
            },
            "type": "carpet"
           }
          ],
          "choropleth": [
           {
            "colorbar": {
             "outlinewidth": 0,
             "ticks": ""
            },
            "type": "choropleth"
           }
          ],
          "contour": [
           {
            "colorbar": {
             "outlinewidth": 0,
             "ticks": ""
            },
            "colorscale": [
             [
              0,
              "#0d0887"
             ],
             [
              0.1111111111111111,
              "#46039f"
             ],
             [
              0.2222222222222222,
              "#7201a8"
             ],
             [
              0.3333333333333333,
              "#9c179e"
             ],
             [
              0.4444444444444444,
              "#bd3786"
             ],
             [
              0.5555555555555556,
              "#d8576b"
             ],
             [
              0.6666666666666666,
              "#ed7953"
             ],
             [
              0.7777777777777778,
              "#fb9f3a"
             ],
             [
              0.8888888888888888,
              "#fdca26"
             ],
             [
              1,
              "#f0f921"
             ]
            ],
            "type": "contour"
           }
          ],
          "contourcarpet": [
           {
            "colorbar": {
             "outlinewidth": 0,
             "ticks": ""
            },
            "type": "contourcarpet"
           }
          ],
          "heatmap": [
           {
            "colorbar": {
             "outlinewidth": 0,
             "ticks": ""
            },
            "colorscale": [
             [
              0,
              "#0d0887"
             ],
             [
              0.1111111111111111,
              "#46039f"
             ],
             [
              0.2222222222222222,
              "#7201a8"
             ],
             [
              0.3333333333333333,
              "#9c179e"
             ],
             [
              0.4444444444444444,
              "#bd3786"
             ],
             [
              0.5555555555555556,
              "#d8576b"
             ],
             [
              0.6666666666666666,
              "#ed7953"
             ],
             [
              0.7777777777777778,
              "#fb9f3a"
             ],
             [
              0.8888888888888888,
              "#fdca26"
             ],
             [
              1,
              "#f0f921"
             ]
            ],
            "type": "heatmap"
           }
          ],
          "heatmapgl": [
           {
            "colorbar": {
             "outlinewidth": 0,
             "ticks": ""
            },
            "colorscale": [
             [
              0,
              "#0d0887"
             ],
             [
              0.1111111111111111,
              "#46039f"
             ],
             [
              0.2222222222222222,
              "#7201a8"
             ],
             [
              0.3333333333333333,
              "#9c179e"
             ],
             [
              0.4444444444444444,
              "#bd3786"
             ],
             [
              0.5555555555555556,
              "#d8576b"
             ],
             [
              0.6666666666666666,
              "#ed7953"
             ],
             [
              0.7777777777777778,
              "#fb9f3a"
             ],
             [
              0.8888888888888888,
              "#fdca26"
             ],
             [
              1,
              "#f0f921"
             ]
            ],
            "type": "heatmapgl"
           }
          ],
          "histogram": [
           {
            "marker": {
             "pattern": {
              "fillmode": "overlay",
              "size": 10,
              "solidity": 0.2
             }
            },
            "type": "histogram"
           }
          ],
          "histogram2d": [
           {
            "colorbar": {
             "outlinewidth": 0,
             "ticks": ""
            },
            "colorscale": [
             [
              0,
              "#0d0887"
             ],
             [
              0.1111111111111111,
              "#46039f"
             ],
             [
              0.2222222222222222,
              "#7201a8"
             ],
             [
              0.3333333333333333,
              "#9c179e"
             ],
             [
              0.4444444444444444,
              "#bd3786"
             ],
             [
              0.5555555555555556,
              "#d8576b"
             ],
             [
              0.6666666666666666,
              "#ed7953"
             ],
             [
              0.7777777777777778,
              "#fb9f3a"
             ],
             [
              0.8888888888888888,
              "#fdca26"
             ],
             [
              1,
              "#f0f921"
             ]
            ],
            "type": "histogram2d"
           }
          ],
          "histogram2dcontour": [
           {
            "colorbar": {
             "outlinewidth": 0,
             "ticks": ""
            },
            "colorscale": [
             [
              0,
              "#0d0887"
             ],
             [
              0.1111111111111111,
              "#46039f"
             ],
             [
              0.2222222222222222,
              "#7201a8"
             ],
             [
              0.3333333333333333,
              "#9c179e"
             ],
             [
              0.4444444444444444,
              "#bd3786"
             ],
             [
              0.5555555555555556,
              "#d8576b"
             ],
             [
              0.6666666666666666,
              "#ed7953"
             ],
             [
              0.7777777777777778,
              "#fb9f3a"
             ],
             [
              0.8888888888888888,
              "#fdca26"
             ],
             [
              1,
              "#f0f921"
             ]
            ],
            "type": "histogram2dcontour"
           }
          ],
          "mesh3d": [
           {
            "colorbar": {
             "outlinewidth": 0,
             "ticks": ""
            },
            "type": "mesh3d"
           }
          ],
          "parcoords": [
           {
            "line": {
             "colorbar": {
              "outlinewidth": 0,
              "ticks": ""
             }
            },
            "type": "parcoords"
           }
          ],
          "pie": [
           {
            "automargin": true,
            "type": "pie"
           }
          ],
          "scatter": [
           {
            "marker": {
             "colorbar": {
              "outlinewidth": 0,
              "ticks": ""
             }
            },
            "type": "scatter"
           }
          ],
          "scatter3d": [
           {
            "line": {
             "colorbar": {
              "outlinewidth": 0,
              "ticks": ""
             }
            },
            "marker": {
             "colorbar": {
              "outlinewidth": 0,
              "ticks": ""
             }
            },
            "type": "scatter3d"
           }
          ],
          "scattercarpet": [
           {
            "marker": {
             "colorbar": {
              "outlinewidth": 0,
              "ticks": ""
             }
            },
            "type": "scattercarpet"
           }
          ],
          "scattergeo": [
           {
            "marker": {
             "colorbar": {
              "outlinewidth": 0,
              "ticks": ""
             }
            },
            "type": "scattergeo"
           }
          ],
          "scattergl": [
           {
            "marker": {
             "colorbar": {
              "outlinewidth": 0,
              "ticks": ""
             }
            },
            "type": "scattergl"
           }
          ],
          "scattermapbox": [
           {
            "marker": {
             "colorbar": {
              "outlinewidth": 0,
              "ticks": ""
             }
            },
            "type": "scattermapbox"
           }
          ],
          "scatterpolar": [
           {
            "marker": {
             "colorbar": {
              "outlinewidth": 0,
              "ticks": ""
             }
            },
            "type": "scatterpolar"
           }
          ],
          "scatterpolargl": [
           {
            "marker": {
             "colorbar": {
              "outlinewidth": 0,
              "ticks": ""
             }
            },
            "type": "scatterpolargl"
           }
          ],
          "scatterternary": [
           {
            "marker": {
             "colorbar": {
              "outlinewidth": 0,
              "ticks": ""
             }
            },
            "type": "scatterternary"
           }
          ],
          "surface": [
           {
            "colorbar": {
             "outlinewidth": 0,
             "ticks": ""
            },
            "colorscale": [
             [
              0,
              "#0d0887"
             ],
             [
              0.1111111111111111,
              "#46039f"
             ],
             [
              0.2222222222222222,
              "#7201a8"
             ],
             [
              0.3333333333333333,
              "#9c179e"
             ],
             [
              0.4444444444444444,
              "#bd3786"
             ],
             [
              0.5555555555555556,
              "#d8576b"
             ],
             [
              0.6666666666666666,
              "#ed7953"
             ],
             [
              0.7777777777777778,
              "#fb9f3a"
             ],
             [
              0.8888888888888888,
              "#fdca26"
             ],
             [
              1,
              "#f0f921"
             ]
            ],
            "type": "surface"
           }
          ],
          "table": [
           {
            "cells": {
             "fill": {
              "color": "#EBF0F8"
             },
             "line": {
              "color": "white"
             }
            },
            "header": {
             "fill": {
              "color": "#C8D4E3"
             },
             "line": {
              "color": "white"
             }
            },
            "type": "table"
           }
          ]
         },
         "layout": {
          "annotationdefaults": {
           "arrowcolor": "#2a3f5f",
           "arrowhead": 0,
           "arrowwidth": 1
          },
          "autotypenumbers": "strict",
          "coloraxis": {
           "colorbar": {
            "outlinewidth": 0,
            "ticks": ""
           }
          },
          "colorscale": {
           "diverging": [
            [
             0,
             "#8e0152"
            ],
            [
             0.1,
             "#c51b7d"
            ],
            [
             0.2,
             "#de77ae"
            ],
            [
             0.3,
             "#f1b6da"
            ],
            [
             0.4,
             "#fde0ef"
            ],
            [
             0.5,
             "#f7f7f7"
            ],
            [
             0.6,
             "#e6f5d0"
            ],
            [
             0.7,
             "#b8e186"
            ],
            [
             0.8,
             "#7fbc41"
            ],
            [
             0.9,
             "#4d9221"
            ],
            [
             1,
             "#276419"
            ]
           ],
           "sequential": [
            [
             0,
             "#0d0887"
            ],
            [
             0.1111111111111111,
             "#46039f"
            ],
            [
             0.2222222222222222,
             "#7201a8"
            ],
            [
             0.3333333333333333,
             "#9c179e"
            ],
            [
             0.4444444444444444,
             "#bd3786"
            ],
            [
             0.5555555555555556,
             "#d8576b"
            ],
            [
             0.6666666666666666,
             "#ed7953"
            ],
            [
             0.7777777777777778,
             "#fb9f3a"
            ],
            [
             0.8888888888888888,
             "#fdca26"
            ],
            [
             1,
             "#f0f921"
            ]
           ],
           "sequentialminus": [
            [
             0,
             "#0d0887"
            ],
            [
             0.1111111111111111,
             "#46039f"
            ],
            [
             0.2222222222222222,
             "#7201a8"
            ],
            [
             0.3333333333333333,
             "#9c179e"
            ],
            [
             0.4444444444444444,
             "#bd3786"
            ],
            [
             0.5555555555555556,
             "#d8576b"
            ],
            [
             0.6666666666666666,
             "#ed7953"
            ],
            [
             0.7777777777777778,
             "#fb9f3a"
            ],
            [
             0.8888888888888888,
             "#fdca26"
            ],
            [
             1,
             "#f0f921"
            ]
           ]
          },
          "colorway": [
           "#636efa",
           "#EF553B",
           "#00cc96",
           "#ab63fa",
           "#FFA15A",
           "#19d3f3",
           "#FF6692",
           "#B6E880",
           "#FF97FF",
           "#FECB52"
          ],
          "font": {
           "color": "#2a3f5f"
          },
          "geo": {
           "bgcolor": "white",
           "lakecolor": "white",
           "landcolor": "#E5ECF6",
           "showlakes": true,
           "showland": true,
           "subunitcolor": "white"
          },
          "hoverlabel": {
           "align": "left"
          },
          "hovermode": "closest",
          "mapbox": {
           "style": "light"
          },
          "paper_bgcolor": "white",
          "plot_bgcolor": "#E5ECF6",
          "polar": {
           "angularaxis": {
            "gridcolor": "white",
            "linecolor": "white",
            "ticks": ""
           },
           "bgcolor": "#E5ECF6",
           "radialaxis": {
            "gridcolor": "white",
            "linecolor": "white",
            "ticks": ""
           }
          },
          "scene": {
           "xaxis": {
            "backgroundcolor": "#E5ECF6",
            "gridcolor": "white",
            "gridwidth": 2,
            "linecolor": "white",
            "showbackground": true,
            "ticks": "",
            "zerolinecolor": "white"
           },
           "yaxis": {
            "backgroundcolor": "#E5ECF6",
            "gridcolor": "white",
            "gridwidth": 2,
            "linecolor": "white",
            "showbackground": true,
            "ticks": "",
            "zerolinecolor": "white"
           },
           "zaxis": {
            "backgroundcolor": "#E5ECF6",
            "gridcolor": "white",
            "gridwidth": 2,
            "linecolor": "white",
            "showbackground": true,
            "ticks": "",
            "zerolinecolor": "white"
           }
          },
          "shapedefaults": {
           "line": {
            "color": "#2a3f5f"
           }
          },
          "ternary": {
           "aaxis": {
            "gridcolor": "white",
            "linecolor": "white",
            "ticks": ""
           },
           "baxis": {
            "gridcolor": "white",
            "linecolor": "white",
            "ticks": ""
           },
           "bgcolor": "#E5ECF6",
           "caxis": {
            "gridcolor": "white",
            "linecolor": "white",
            "ticks": ""
           }
          },
          "title": {
           "x": 0.05
          },
          "xaxis": {
           "automargin": true,
           "gridcolor": "white",
           "linecolor": "white",
           "ticks": "",
           "title": {
            "standoff": 15
           },
           "zerolinecolor": "white",
           "zerolinewidth": 2
          },
          "yaxis": {
           "automargin": true,
           "gridcolor": "white",
           "linecolor": "white",
           "ticks": "",
           "title": {
            "standoff": 15
           },
           "zerolinecolor": "white",
           "zerolinewidth": 2
          }
         }
        }
       }
      },
      "text/html": [
       "<div>                            <div id=\"3788f3b5-bf9f-4235-bb28-386a6e649f60\" class=\"plotly-graph-div\" style=\"height:525px; width:100%;\"></div>            <script type=\"text/javascript\">                require([\"plotly\"], function(Plotly) {                    window.PLOTLYENV=window.PLOTLYENV || {};                                    if (document.getElementById(\"3788f3b5-bf9f-4235-bb28-386a6e649f60\")) {                    Plotly.newPlot(                        \"3788f3b5-bf9f-4235-bb28-386a6e649f60\",                        [{\"line\":{\"color\":\"green\"},\"name\":\"Druglikeness (lower)\",\"opacity\":0.25,\"r\":[0.2608695652173913,0.09618318943226623,0,0.0,0.0,0.0,0.0,0.17142857142857143,0.4,0.33254452469606643,0.0,0.2608695652173913],\"theta\":[\"numatoms\",\"mw\",\"fsp3\",\"HBA\",\"HBD\",\"stereo\",\"ring\",\"rotbond\",\"qed\",\"logd\",\"tpsa\",\"numatoms\"],\"type\":\"scatterpolar\"},{\"fill\":\"tonext\",\"fillcolor\":\"lightgreen\",\"line\":{\"color\":\"green\"},\"name\":\"Druglikeness (upper)\",\"opacity\":0.5,\"r\":[0.4782608695652174,0.30057246697583195,0.5,0.23255813953488372,0.2,0.03333333333333333,0.25,0.2857142857142857,0.6,0.5194660027215775,0.19942451782000514,0.4782608695652174],\"theta\":[\"numatoms\",\"mw\",\"fsp3\",\"HBA\",\"HBD\",\"stereo\",\"ring\",\"rotbond\",\"qed\",\"logd\",\"tpsa\",\"numatoms\"],\"type\":\"scatterpolar\"},{\"line\":{\"color\":\"blue\",\"width\":5},\"marker\":{\"color\":\"blue\",\"gradient\":{\"color\":\"lightblue\",\"type\":\"radial\"},\"size\":[10.769692483936716,10.5854873473527,27.853927003860395,9.28623275571795,10.735432148566328,11.653578682089224,13.999285765188072,11.757099873614157,20.70042243348997,9.751045794057307,9.161750469989459],\"sizemode\":\"diameter\",\"sizeref\":0.5437749113563763,\"symbol\":\"circle\"},\"name\":\"Drug Collection\",\"r\":[0.20184147963089816,0.19975365373933,0.41428299194174506,0.13496562277733473,0.09721964782205746,0.05917516218721038,0.20752239728143343,0.1376274328081557,0.5437749113563763,0.40735406643500555,0.12207489474501759,0.20184147963089816],\"theta\":[\"numatoms\",\"mw\",\"fsp3\",\"HBA\",\"HBD\",\"stereo\",\"ring\",\"rotbond\",\"qed\",\"logd\",\"tpsa\",\"numatoms\"],\"type\":\"scatterpolar\"}],                        {\"template\":{\"data\":{\"bar\":[{\"error_x\":{\"color\":\"#2a3f5f\"},\"error_y\":{\"color\":\"#2a3f5f\"},\"marker\":{\"line\":{\"color\":\"#E5ECF6\",\"width\":0.5},\"pattern\":{\"fillmode\":\"overlay\",\"size\":10,\"solidity\":0.2}},\"type\":\"bar\"}],\"barpolar\":[{\"marker\":{\"line\":{\"color\":\"#E5ECF6\",\"width\":0.5},\"pattern\":{\"fillmode\":\"overlay\",\"size\":10,\"solidity\":0.2}},\"type\":\"barpolar\"}],\"carpet\":[{\"aaxis\":{\"endlinecolor\":\"#2a3f5f\",\"gridcolor\":\"white\",\"linecolor\":\"white\",\"minorgridcolor\":\"white\",\"startlinecolor\":\"#2a3f5f\"},\"baxis\":{\"endlinecolor\":\"#2a3f5f\",\"gridcolor\":\"white\",\"linecolor\":\"white\",\"minorgridcolor\":\"white\",\"startlinecolor\":\"#2a3f5f\"},\"type\":\"carpet\"}],\"choropleth\":[{\"colorbar\":{\"outlinewidth\":0,\"ticks\":\"\"},\"type\":\"choropleth\"}],\"contour\":[{\"colorbar\":{\"outlinewidth\":0,\"ticks\":\"\"},\"colorscale\":[[0.0,\"#0d0887\"],[0.1111111111111111,\"#46039f\"],[0.2222222222222222,\"#7201a8\"],[0.3333333333333333,\"#9c179e\"],[0.4444444444444444,\"#bd3786\"],[0.5555555555555556,\"#d8576b\"],[0.6666666666666666,\"#ed7953\"],[0.7777777777777778,\"#fb9f3a\"],[0.8888888888888888,\"#fdca26\"],[1.0,\"#f0f921\"]],\"type\":\"contour\"}],\"contourcarpet\":[{\"colorbar\":{\"outlinewidth\":0,\"ticks\":\"\"},\"type\":\"contourcarpet\"}],\"heatmap\":[{\"colorbar\":{\"outlinewidth\":0,\"ticks\":\"\"},\"colorscale\":[[0.0,\"#0d0887\"],[0.1111111111111111,\"#46039f\"],[0.2222222222222222,\"#7201a8\"],[0.3333333333333333,\"#9c179e\"],[0.4444444444444444,\"#bd3786\"],[0.5555555555555556,\"#d8576b\"],[0.6666666666666666,\"#ed7953\"],[0.7777777777777778,\"#fb9f3a\"],[0.8888888888888888,\"#fdca26\"],[1.0,\"#f0f921\"]],\"type\":\"heatmap\"}],\"heatmapgl\":[{\"colorbar\":{\"outlinewidth\":0,\"ticks\":\"\"},\"colorscale\":[[0.0,\"#0d0887\"],[0.1111111111111111,\"#46039f\"],[0.2222222222222222,\"#7201a8\"],[0.3333333333333333,\"#9c179e\"],[0.4444444444444444,\"#bd3786\"],[0.5555555555555556,\"#d8576b\"],[0.6666666666666666,\"#ed7953\"],[0.7777777777777778,\"#fb9f3a\"],[0.8888888888888888,\"#fdca26\"],[1.0,\"#f0f921\"]],\"type\":\"heatmapgl\"}],\"histogram\":[{\"marker\":{\"pattern\":{\"fillmode\":\"overlay\",\"size\":10,\"solidity\":0.2}},\"type\":\"histogram\"}],\"histogram2d\":[{\"colorbar\":{\"outlinewidth\":0,\"ticks\":\"\"},\"colorscale\":[[0.0,\"#0d0887\"],[0.1111111111111111,\"#46039f\"],[0.2222222222222222,\"#7201a8\"],[0.3333333333333333,\"#9c179e\"],[0.4444444444444444,\"#bd3786\"],[0.5555555555555556,\"#d8576b\"],[0.6666666666666666,\"#ed7953\"],[0.7777777777777778,\"#fb9f3a\"],[0.8888888888888888,\"#fdca26\"],[1.0,\"#f0f921\"]],\"type\":\"histogram2d\"}],\"histogram2dcontour\":[{\"colorbar\":{\"outlinewidth\":0,\"ticks\":\"\"},\"colorscale\":[[0.0,\"#0d0887\"],[0.1111111111111111,\"#46039f\"],[0.2222222222222222,\"#7201a8\"],[0.3333333333333333,\"#9c179e\"],[0.4444444444444444,\"#bd3786\"],[0.5555555555555556,\"#d8576b\"],[0.6666666666666666,\"#ed7953\"],[0.7777777777777778,\"#fb9f3a\"],[0.8888888888888888,\"#fdca26\"],[1.0,\"#f0f921\"]],\"type\":\"histogram2dcontour\"}],\"mesh3d\":[{\"colorbar\":{\"outlinewidth\":0,\"ticks\":\"\"},\"type\":\"mesh3d\"}],\"parcoords\":[{\"line\":{\"colorbar\":{\"outlinewidth\":0,\"ticks\":\"\"}},\"type\":\"parcoords\"}],\"pie\":[{\"automargin\":true,\"type\":\"pie\"}],\"scatter\":[{\"marker\":{\"colorbar\":{\"outlinewidth\":0,\"ticks\":\"\"}},\"type\":\"scatter\"}],\"scatter3d\":[{\"line\":{\"colorbar\":{\"outlinewidth\":0,\"ticks\":\"\"}},\"marker\":{\"colorbar\":{\"outlinewidth\":0,\"ticks\":\"\"}},\"type\":\"scatter3d\"}],\"scattercarpet\":[{\"marker\":{\"colorbar\":{\"outlinewidth\":0,\"ticks\":\"\"}},\"type\":\"scattercarpet\"}],\"scattergeo\":[{\"marker\":{\"colorbar\":{\"outlinewidth\":0,\"ticks\":\"\"}},\"type\":\"scattergeo\"}],\"scattergl\":[{\"marker\":{\"colorbar\":{\"outlinewidth\":0,\"ticks\":\"\"}},\"type\":\"scattergl\"}],\"scattermapbox\":[{\"marker\":{\"colorbar\":{\"outlinewidth\":0,\"ticks\":\"\"}},\"type\":\"scattermapbox\"}],\"scatterpolar\":[{\"marker\":{\"colorbar\":{\"outlinewidth\":0,\"ticks\":\"\"}},\"type\":\"scatterpolar\"}],\"scatterpolargl\":[{\"marker\":{\"colorbar\":{\"outlinewidth\":0,\"ticks\":\"\"}},\"type\":\"scatterpolargl\"}],\"scatterternary\":[{\"marker\":{\"colorbar\":{\"outlinewidth\":0,\"ticks\":\"\"}},\"type\":\"scatterternary\"}],\"surface\":[{\"colorbar\":{\"outlinewidth\":0,\"ticks\":\"\"},\"colorscale\":[[0.0,\"#0d0887\"],[0.1111111111111111,\"#46039f\"],[0.2222222222222222,\"#7201a8\"],[0.3333333333333333,\"#9c179e\"],[0.4444444444444444,\"#bd3786\"],[0.5555555555555556,\"#d8576b\"],[0.6666666666666666,\"#ed7953\"],[0.7777777777777778,\"#fb9f3a\"],[0.8888888888888888,\"#fdca26\"],[1.0,\"#f0f921\"]],\"type\":\"surface\"}],\"table\":[{\"cells\":{\"fill\":{\"color\":\"#EBF0F8\"},\"line\":{\"color\":\"white\"}},\"header\":{\"fill\":{\"color\":\"#C8D4E3\"},\"line\":{\"color\":\"white\"}},\"type\":\"table\"}]},\"layout\":{\"annotationdefaults\":{\"arrowcolor\":\"#2a3f5f\",\"arrowhead\":0,\"arrowwidth\":1},\"autotypenumbers\":\"strict\",\"coloraxis\":{\"colorbar\":{\"outlinewidth\":0,\"ticks\":\"\"}},\"colorscale\":{\"diverging\":[[0,\"#8e0152\"],[0.1,\"#c51b7d\"],[0.2,\"#de77ae\"],[0.3,\"#f1b6da\"],[0.4,\"#fde0ef\"],[0.5,\"#f7f7f7\"],[0.6,\"#e6f5d0\"],[0.7,\"#b8e186\"],[0.8,\"#7fbc41\"],[0.9,\"#4d9221\"],[1,\"#276419\"]],\"sequential\":[[0.0,\"#0d0887\"],[0.1111111111111111,\"#46039f\"],[0.2222222222222222,\"#7201a8\"],[0.3333333333333333,\"#9c179e\"],[0.4444444444444444,\"#bd3786\"],[0.5555555555555556,\"#d8576b\"],[0.6666666666666666,\"#ed7953\"],[0.7777777777777778,\"#fb9f3a\"],[0.8888888888888888,\"#fdca26\"],[1.0,\"#f0f921\"]],\"sequentialminus\":[[0.0,\"#0d0887\"],[0.1111111111111111,\"#46039f\"],[0.2222222222222222,\"#7201a8\"],[0.3333333333333333,\"#9c179e\"],[0.4444444444444444,\"#bd3786\"],[0.5555555555555556,\"#d8576b\"],[0.6666666666666666,\"#ed7953\"],[0.7777777777777778,\"#fb9f3a\"],[0.8888888888888888,\"#fdca26\"],[1.0,\"#f0f921\"]]},\"colorway\":[\"#636efa\",\"#EF553B\",\"#00cc96\",\"#ab63fa\",\"#FFA15A\",\"#19d3f3\",\"#FF6692\",\"#B6E880\",\"#FF97FF\",\"#FECB52\"],\"font\":{\"color\":\"#2a3f5f\"},\"geo\":{\"bgcolor\":\"white\",\"lakecolor\":\"white\",\"landcolor\":\"#E5ECF6\",\"showlakes\":true,\"showland\":true,\"subunitcolor\":\"white\"},\"hoverlabel\":{\"align\":\"left\"},\"hovermode\":\"closest\",\"mapbox\":{\"style\":\"light\"},\"paper_bgcolor\":\"white\",\"plot_bgcolor\":\"#E5ECF6\",\"polar\":{\"angularaxis\":{\"gridcolor\":\"white\",\"linecolor\":\"white\",\"ticks\":\"\"},\"bgcolor\":\"#E5ECF6\",\"radialaxis\":{\"gridcolor\":\"white\",\"linecolor\":\"white\",\"ticks\":\"\"}},\"scene\":{\"xaxis\":{\"backgroundcolor\":\"#E5ECF6\",\"gridcolor\":\"white\",\"gridwidth\":2,\"linecolor\":\"white\",\"showbackground\":true,\"ticks\":\"\",\"zerolinecolor\":\"white\"},\"yaxis\":{\"backgroundcolor\":\"#E5ECF6\",\"gridcolor\":\"white\",\"gridwidth\":2,\"linecolor\":\"white\",\"showbackground\":true,\"ticks\":\"\",\"zerolinecolor\":\"white\"},\"zaxis\":{\"backgroundcolor\":\"#E5ECF6\",\"gridcolor\":\"white\",\"gridwidth\":2,\"linecolor\":\"white\",\"showbackground\":true,\"ticks\":\"\",\"zerolinecolor\":\"white\"}},\"shapedefaults\":{\"line\":{\"color\":\"#2a3f5f\"}},\"ternary\":{\"aaxis\":{\"gridcolor\":\"white\",\"linecolor\":\"white\",\"ticks\":\"\"},\"baxis\":{\"gridcolor\":\"white\",\"linecolor\":\"white\",\"ticks\":\"\"},\"bgcolor\":\"#E5ECF6\",\"caxis\":{\"gridcolor\":\"white\",\"linecolor\":\"white\",\"ticks\":\"\"}},\"title\":{\"x\":0.05},\"xaxis\":{\"automargin\":true,\"gridcolor\":\"white\",\"linecolor\":\"white\",\"ticks\":\"\",\"title\":{\"standoff\":15},\"zerolinecolor\":\"white\",\"zerolinewidth\":2},\"yaxis\":{\"automargin\":true,\"gridcolor\":\"white\",\"linecolor\":\"white\",\"ticks\":\"\",\"title\":{\"standoff\":15},\"zerolinecolor\":\"white\",\"zerolinewidth\":2}}},\"polar\":{\"radialaxis\":{\"visible\":true}},\"showlegend\":true},                        {\"responsive\": true}                    ).then(function(){\n",
       "                            \n",
       "var gd = document.getElementById('3788f3b5-bf9f-4235-bb28-386a6e649f60');\n",
       "var x = new MutationObserver(function (mutations, observer) {{\n",
       "        var display = window.getComputedStyle(gd).display;\n",
       "        if (!display || display === 'none') {{\n",
       "            console.log([gd, 'removed!']);\n",
       "            Plotly.purge(gd);\n",
       "            observer.disconnect();\n",
       "        }}\n",
       "}});\n",
       "\n",
       "// Listen for the removal of the full notebook cells\n",
       "var notebookContainer = gd.closest('#notebook-container');\n",
       "if (notebookContainer) {{\n",
       "    x.observe(notebookContainer, {childList: true});\n",
       "}}\n",
       "\n",
       "// Listen for the clearing of the current output cell\n",
       "var outputEl = gd.closest('.output');\n",
       "if (outputEl) {{\n",
       "    x.observe(outputEl, {childList: true});\n",
       "}}\n",
       "\n",
       "                        })                };                });            </script>        </div>"
      ]
     },
     "metadata": {},
     "output_type": "display_data"
    },
    {
     "data": {
      "application/vnd.plotly.v1+json": {
       "config": {
        "plotlyServerURL": "https://plot.ly"
       },
       "data": [
        {
         "line": {
          "color": "green"
         },
         "name": "Druglikeness (lower)",
         "opacity": 0.25,
         "r": [
          0.2608695652173913,
          0.09618318943226623,
          0,
          0,
          0,
          0,
          0,
          0.17142857142857143,
          0.4,
          0.33254452469606643,
          0,
          0.2608695652173913
         ],
         "showlegend": false,
         "theta": [
          "numatoms",
          "mw",
          "fsp3",
          "HBA",
          "HBD",
          "stereo",
          "ring",
          "rotbond",
          "qed",
          "logd",
          "tpsa",
          "numatoms"
         ],
         "type": "scatterpolar"
        },
        {
         "fill": "tonext",
         "fillcolor": "lightgreen",
         "line": {
          "color": "green"
         },
         "name": "Druglikeness (upper)",
         "opacity": 0.5,
         "r": [
          0.4782608695652174,
          0.30057246697583195,
          0.5,
          0.23255813953488372,
          0.2,
          0.03333333333333333,
          0.25,
          0.2857142857142857,
          0.6,
          0.5194660027215775,
          0.19942451782000514,
          0.4782608695652174
         ],
         "theta": [
          "numatoms",
          "mw",
          "fsp3",
          "HBA",
          "HBD",
          "stereo",
          "ring",
          "rotbond",
          "qed",
          "logd",
          "tpsa",
          "numatoms"
         ],
         "type": "scatterpolar"
        },
        {
         "line": {
          "color": "blue",
          "width": 2
         },
         "marker": {
          "size": 1
         },
         "name": "Drug Collection",
         "r": [
          0.094144554791531,
          0.09389878026580299,
          0.1357437219031411,
          0.042103295220155226,
          -0.010134673663605834,
          -0.05736062463368185,
          0.06752953962955272,
          0.02005643407201413,
          0.33677068702147667,
          0.3098436084944325,
          0.030457390045123003,
          0.094144554791531
         ],
         "showlegend": false,
         "theta": [
          "numatoms",
          "mw",
          "fsp3",
          "HBA",
          "HBD",
          "stereo",
          "ring",
          "rotbond",
          "qed",
          "logd",
          "tpsa",
          "numatoms"
         ],
         "type": "scatterpolar"
        },
        {
         "fill": "tonext",
         "line": {
          "color": "blue",
          "width": 2
         },
         "marker": {
          "size": 1
         },
         "name": "Drug Collection",
         "r": [
          0.3095384044702653,
          0.305608527212857,
          0.692822261980349,
          0.22782795033451425,
          0.20457396930772076,
          0.1757109490081026,
          0.34751525493331414,
          0.2551984315442973,
          0.7507791356912761,
          0.5048645243755786,
          0.2136923994449122,
          0.3095384044702653
         ],
         "theta": [
          "numatoms",
          "mw",
          "fsp3",
          "HBA",
          "HBD",
          "stereo",
          "ring",
          "rotbond",
          "qed",
          "logd",
          "tpsa",
          "numatoms"
         ],
         "type": "scatterpolar"
        }
       ],
       "layout": {
        "polar": {
         "radialaxis": {
          "visible": true
         }
        },
        "showlegend": true,
        "template": {
         "data": {
          "bar": [
           {
            "error_x": {
             "color": "#2a3f5f"
            },
            "error_y": {
             "color": "#2a3f5f"
            },
            "marker": {
             "line": {
              "color": "#E5ECF6",
              "width": 0.5
             },
             "pattern": {
              "fillmode": "overlay",
              "size": 10,
              "solidity": 0.2
             }
            },
            "type": "bar"
           }
          ],
          "barpolar": [
           {
            "marker": {
             "line": {
              "color": "#E5ECF6",
              "width": 0.5
             },
             "pattern": {
              "fillmode": "overlay",
              "size": 10,
              "solidity": 0.2
             }
            },
            "type": "barpolar"
           }
          ],
          "carpet": [
           {
            "aaxis": {
             "endlinecolor": "#2a3f5f",
             "gridcolor": "white",
             "linecolor": "white",
             "minorgridcolor": "white",
             "startlinecolor": "#2a3f5f"
            },
            "baxis": {
             "endlinecolor": "#2a3f5f",
             "gridcolor": "white",
             "linecolor": "white",
             "minorgridcolor": "white",
             "startlinecolor": "#2a3f5f"
            },
            "type": "carpet"
           }
          ],
          "choropleth": [
           {
            "colorbar": {
             "outlinewidth": 0,
             "ticks": ""
            },
            "type": "choropleth"
           }
          ],
          "contour": [
           {
            "colorbar": {
             "outlinewidth": 0,
             "ticks": ""
            },
            "colorscale": [
             [
              0,
              "#0d0887"
             ],
             [
              0.1111111111111111,
              "#46039f"
             ],
             [
              0.2222222222222222,
              "#7201a8"
             ],
             [
              0.3333333333333333,
              "#9c179e"
             ],
             [
              0.4444444444444444,
              "#bd3786"
             ],
             [
              0.5555555555555556,
              "#d8576b"
             ],
             [
              0.6666666666666666,
              "#ed7953"
             ],
             [
              0.7777777777777778,
              "#fb9f3a"
             ],
             [
              0.8888888888888888,
              "#fdca26"
             ],
             [
              1,
              "#f0f921"
             ]
            ],
            "type": "contour"
           }
          ],
          "contourcarpet": [
           {
            "colorbar": {
             "outlinewidth": 0,
             "ticks": ""
            },
            "type": "contourcarpet"
           }
          ],
          "heatmap": [
           {
            "colorbar": {
             "outlinewidth": 0,
             "ticks": ""
            },
            "colorscale": [
             [
              0,
              "#0d0887"
             ],
             [
              0.1111111111111111,
              "#46039f"
             ],
             [
              0.2222222222222222,
              "#7201a8"
             ],
             [
              0.3333333333333333,
              "#9c179e"
             ],
             [
              0.4444444444444444,
              "#bd3786"
             ],
             [
              0.5555555555555556,
              "#d8576b"
             ],
             [
              0.6666666666666666,
              "#ed7953"
             ],
             [
              0.7777777777777778,
              "#fb9f3a"
             ],
             [
              0.8888888888888888,
              "#fdca26"
             ],
             [
              1,
              "#f0f921"
             ]
            ],
            "type": "heatmap"
           }
          ],
          "heatmapgl": [
           {
            "colorbar": {
             "outlinewidth": 0,
             "ticks": ""
            },
            "colorscale": [
             [
              0,
              "#0d0887"
             ],
             [
              0.1111111111111111,
              "#46039f"
             ],
             [
              0.2222222222222222,
              "#7201a8"
             ],
             [
              0.3333333333333333,
              "#9c179e"
             ],
             [
              0.4444444444444444,
              "#bd3786"
             ],
             [
              0.5555555555555556,
              "#d8576b"
             ],
             [
              0.6666666666666666,
              "#ed7953"
             ],
             [
              0.7777777777777778,
              "#fb9f3a"
             ],
             [
              0.8888888888888888,
              "#fdca26"
             ],
             [
              1,
              "#f0f921"
             ]
            ],
            "type": "heatmapgl"
           }
          ],
          "histogram": [
           {
            "marker": {
             "pattern": {
              "fillmode": "overlay",
              "size": 10,
              "solidity": 0.2
             }
            },
            "type": "histogram"
           }
          ],
          "histogram2d": [
           {
            "colorbar": {
             "outlinewidth": 0,
             "ticks": ""
            },
            "colorscale": [
             [
              0,
              "#0d0887"
             ],
             [
              0.1111111111111111,
              "#46039f"
             ],
             [
              0.2222222222222222,
              "#7201a8"
             ],
             [
              0.3333333333333333,
              "#9c179e"
             ],
             [
              0.4444444444444444,
              "#bd3786"
             ],
             [
              0.5555555555555556,
              "#d8576b"
             ],
             [
              0.6666666666666666,
              "#ed7953"
             ],
             [
              0.7777777777777778,
              "#fb9f3a"
             ],
             [
              0.8888888888888888,
              "#fdca26"
             ],
             [
              1,
              "#f0f921"
             ]
            ],
            "type": "histogram2d"
           }
          ],
          "histogram2dcontour": [
           {
            "colorbar": {
             "outlinewidth": 0,
             "ticks": ""
            },
            "colorscale": [
             [
              0,
              "#0d0887"
             ],
             [
              0.1111111111111111,
              "#46039f"
             ],
             [
              0.2222222222222222,
              "#7201a8"
             ],
             [
              0.3333333333333333,
              "#9c179e"
             ],
             [
              0.4444444444444444,
              "#bd3786"
             ],
             [
              0.5555555555555556,
              "#d8576b"
             ],
             [
              0.6666666666666666,
              "#ed7953"
             ],
             [
              0.7777777777777778,
              "#fb9f3a"
             ],
             [
              0.8888888888888888,
              "#fdca26"
             ],
             [
              1,
              "#f0f921"
             ]
            ],
            "type": "histogram2dcontour"
           }
          ],
          "mesh3d": [
           {
            "colorbar": {
             "outlinewidth": 0,
             "ticks": ""
            },
            "type": "mesh3d"
           }
          ],
          "parcoords": [
           {
            "line": {
             "colorbar": {
              "outlinewidth": 0,
              "ticks": ""
             }
            },
            "type": "parcoords"
           }
          ],
          "pie": [
           {
            "automargin": true,
            "type": "pie"
           }
          ],
          "scatter": [
           {
            "marker": {
             "colorbar": {
              "outlinewidth": 0,
              "ticks": ""
             }
            },
            "type": "scatter"
           }
          ],
          "scatter3d": [
           {
            "line": {
             "colorbar": {
              "outlinewidth": 0,
              "ticks": ""
             }
            },
            "marker": {
             "colorbar": {
              "outlinewidth": 0,
              "ticks": ""
             }
            },
            "type": "scatter3d"
           }
          ],
          "scattercarpet": [
           {
            "marker": {
             "colorbar": {
              "outlinewidth": 0,
              "ticks": ""
             }
            },
            "type": "scattercarpet"
           }
          ],
          "scattergeo": [
           {
            "marker": {
             "colorbar": {
              "outlinewidth": 0,
              "ticks": ""
             }
            },
            "type": "scattergeo"
           }
          ],
          "scattergl": [
           {
            "marker": {
             "colorbar": {
              "outlinewidth": 0,
              "ticks": ""
             }
            },
            "type": "scattergl"
           }
          ],
          "scattermapbox": [
           {
            "marker": {
             "colorbar": {
              "outlinewidth": 0,
              "ticks": ""
             }
            },
            "type": "scattermapbox"
           }
          ],
          "scatterpolar": [
           {
            "marker": {
             "colorbar": {
              "outlinewidth": 0,
              "ticks": ""
             }
            },
            "type": "scatterpolar"
           }
          ],
          "scatterpolargl": [
           {
            "marker": {
             "colorbar": {
              "outlinewidth": 0,
              "ticks": ""
             }
            },
            "type": "scatterpolargl"
           }
          ],
          "scatterternary": [
           {
            "marker": {
             "colorbar": {
              "outlinewidth": 0,
              "ticks": ""
             }
            },
            "type": "scatterternary"
           }
          ],
          "surface": [
           {
            "colorbar": {
             "outlinewidth": 0,
             "ticks": ""
            },
            "colorscale": [
             [
              0,
              "#0d0887"
             ],
             [
              0.1111111111111111,
              "#46039f"
             ],
             [
              0.2222222222222222,
              "#7201a8"
             ],
             [
              0.3333333333333333,
              "#9c179e"
             ],
             [
              0.4444444444444444,
              "#bd3786"
             ],
             [
              0.5555555555555556,
              "#d8576b"
             ],
             [
              0.6666666666666666,
              "#ed7953"
             ],
             [
              0.7777777777777778,
              "#fb9f3a"
             ],
             [
              0.8888888888888888,
              "#fdca26"
             ],
             [
              1,
              "#f0f921"
             ]
            ],
            "type": "surface"
           }
          ],
          "table": [
           {
            "cells": {
             "fill": {
              "color": "#EBF0F8"
             },
             "line": {
              "color": "white"
             }
            },
            "header": {
             "fill": {
              "color": "#C8D4E3"
             },
             "line": {
              "color": "white"
             }
            },
            "type": "table"
           }
          ]
         },
         "layout": {
          "annotationdefaults": {
           "arrowcolor": "#2a3f5f",
           "arrowhead": 0,
           "arrowwidth": 1
          },
          "autotypenumbers": "strict",
          "coloraxis": {
           "colorbar": {
            "outlinewidth": 0,
            "ticks": ""
           }
          },
          "colorscale": {
           "diverging": [
            [
             0,
             "#8e0152"
            ],
            [
             0.1,
             "#c51b7d"
            ],
            [
             0.2,
             "#de77ae"
            ],
            [
             0.3,
             "#f1b6da"
            ],
            [
             0.4,
             "#fde0ef"
            ],
            [
             0.5,
             "#f7f7f7"
            ],
            [
             0.6,
             "#e6f5d0"
            ],
            [
             0.7,
             "#b8e186"
            ],
            [
             0.8,
             "#7fbc41"
            ],
            [
             0.9,
             "#4d9221"
            ],
            [
             1,
             "#276419"
            ]
           ],
           "sequential": [
            [
             0,
             "#0d0887"
            ],
            [
             0.1111111111111111,
             "#46039f"
            ],
            [
             0.2222222222222222,
             "#7201a8"
            ],
            [
             0.3333333333333333,
             "#9c179e"
            ],
            [
             0.4444444444444444,
             "#bd3786"
            ],
            [
             0.5555555555555556,
             "#d8576b"
            ],
            [
             0.6666666666666666,
             "#ed7953"
            ],
            [
             0.7777777777777778,
             "#fb9f3a"
            ],
            [
             0.8888888888888888,
             "#fdca26"
            ],
            [
             1,
             "#f0f921"
            ]
           ],
           "sequentialminus": [
            [
             0,
             "#0d0887"
            ],
            [
             0.1111111111111111,
             "#46039f"
            ],
            [
             0.2222222222222222,
             "#7201a8"
            ],
            [
             0.3333333333333333,
             "#9c179e"
            ],
            [
             0.4444444444444444,
             "#bd3786"
            ],
            [
             0.5555555555555556,
             "#d8576b"
            ],
            [
             0.6666666666666666,
             "#ed7953"
            ],
            [
             0.7777777777777778,
             "#fb9f3a"
            ],
            [
             0.8888888888888888,
             "#fdca26"
            ],
            [
             1,
             "#f0f921"
            ]
           ]
          },
          "colorway": [
           "#636efa",
           "#EF553B",
           "#00cc96",
           "#ab63fa",
           "#FFA15A",
           "#19d3f3",
           "#FF6692",
           "#B6E880",
           "#FF97FF",
           "#FECB52"
          ],
          "font": {
           "color": "#2a3f5f"
          },
          "geo": {
           "bgcolor": "white",
           "lakecolor": "white",
           "landcolor": "#E5ECF6",
           "showlakes": true,
           "showland": true,
           "subunitcolor": "white"
          },
          "hoverlabel": {
           "align": "left"
          },
          "hovermode": "closest",
          "mapbox": {
           "style": "light"
          },
          "paper_bgcolor": "white",
          "plot_bgcolor": "#E5ECF6",
          "polar": {
           "angularaxis": {
            "gridcolor": "white",
            "linecolor": "white",
            "ticks": ""
           },
           "bgcolor": "#E5ECF6",
           "radialaxis": {
            "gridcolor": "white",
            "linecolor": "white",
            "ticks": ""
           }
          },
          "scene": {
           "xaxis": {
            "backgroundcolor": "#E5ECF6",
            "gridcolor": "white",
            "gridwidth": 2,
            "linecolor": "white",
            "showbackground": true,
            "ticks": "",
            "zerolinecolor": "white"
           },
           "yaxis": {
            "backgroundcolor": "#E5ECF6",
            "gridcolor": "white",
            "gridwidth": 2,
            "linecolor": "white",
            "showbackground": true,
            "ticks": "",
            "zerolinecolor": "white"
           },
           "zaxis": {
            "backgroundcolor": "#E5ECF6",
            "gridcolor": "white",
            "gridwidth": 2,
            "linecolor": "white",
            "showbackground": true,
            "ticks": "",
            "zerolinecolor": "white"
           }
          },
          "shapedefaults": {
           "line": {
            "color": "#2a3f5f"
           }
          },
          "ternary": {
           "aaxis": {
            "gridcolor": "white",
            "linecolor": "white",
            "ticks": ""
           },
           "baxis": {
            "gridcolor": "white",
            "linecolor": "white",
            "ticks": ""
           },
           "bgcolor": "#E5ECF6",
           "caxis": {
            "gridcolor": "white",
            "linecolor": "white",
            "ticks": ""
           }
          },
          "title": {
           "x": 0.05
          },
          "xaxis": {
           "automargin": true,
           "gridcolor": "white",
           "linecolor": "white",
           "ticks": "",
           "title": {
            "standoff": 15
           },
           "zerolinecolor": "white",
           "zerolinewidth": 2
          },
          "yaxis": {
           "automargin": true,
           "gridcolor": "white",
           "linecolor": "white",
           "ticks": "",
           "title": {
            "standoff": 15
           },
           "zerolinecolor": "white",
           "zerolinewidth": 2
          }
         }
        }
       }
      },
      "text/html": [
       "<div>                            <div id=\"2dc23c61-40bc-4f76-bc2e-165f3e5fd178\" class=\"plotly-graph-div\" style=\"height:525px; width:100%;\"></div>            <script type=\"text/javascript\">                require([\"plotly\"], function(Plotly) {                    window.PLOTLYENV=window.PLOTLYENV || {};                                    if (document.getElementById(\"2dc23c61-40bc-4f76-bc2e-165f3e5fd178\")) {                    Plotly.newPlot(                        \"2dc23c61-40bc-4f76-bc2e-165f3e5fd178\",                        [{\"line\":{\"color\":\"green\"},\"name\":\"Druglikeness (lower)\",\"opacity\":0.25,\"r\":[0.2608695652173913,0.09618318943226623,0,0.0,0.0,0.0,0.0,0.17142857142857143,0.4,0.33254452469606643,0.0,0.2608695652173913],\"showlegend\":false,\"theta\":[\"numatoms\",\"mw\",\"fsp3\",\"HBA\",\"HBD\",\"stereo\",\"ring\",\"rotbond\",\"qed\",\"logd\",\"tpsa\",\"numatoms\"],\"type\":\"scatterpolar\"},{\"fill\":\"tonext\",\"fillcolor\":\"lightgreen\",\"line\":{\"color\":\"green\"},\"name\":\"Druglikeness (upper)\",\"opacity\":0.5,\"r\":[0.4782608695652174,0.30057246697583195,0.5,0.23255813953488372,0.2,0.03333333333333333,0.25,0.2857142857142857,0.6,0.5194660027215775,0.19942451782000514,0.4782608695652174],\"theta\":[\"numatoms\",\"mw\",\"fsp3\",\"HBA\",\"HBD\",\"stereo\",\"ring\",\"rotbond\",\"qed\",\"logd\",\"tpsa\",\"numatoms\"],\"type\":\"scatterpolar\"},{\"line\":{\"color\":\"blue\",\"width\":2},\"marker\":{\"size\":1},\"name\":\"Drug Collection\",\"r\":[0.094144554791531,0.09389878026580299,0.1357437219031411,0.042103295220155226,-0.010134673663605834,-0.05736062463368185,0.06752953962955272,0.02005643407201413,0.33677068702147667,0.3098436084944325,0.030457390045123003,0.094144554791531],\"showlegend\":false,\"theta\":[\"numatoms\",\"mw\",\"fsp3\",\"HBA\",\"HBD\",\"stereo\",\"ring\",\"rotbond\",\"qed\",\"logd\",\"tpsa\",\"numatoms\"],\"type\":\"scatterpolar\"},{\"fill\":\"tonext\",\"line\":{\"color\":\"blue\",\"width\":2},\"marker\":{\"size\":1},\"name\":\"Drug Collection\",\"r\":[0.3095384044702653,0.305608527212857,0.692822261980349,0.22782795033451425,0.20457396930772076,0.1757109490081026,0.34751525493331414,0.2551984315442973,0.7507791356912761,0.5048645243755786,0.2136923994449122,0.3095384044702653],\"theta\":[\"numatoms\",\"mw\",\"fsp3\",\"HBA\",\"HBD\",\"stereo\",\"ring\",\"rotbond\",\"qed\",\"logd\",\"tpsa\",\"numatoms\"],\"type\":\"scatterpolar\"}],                        {\"template\":{\"data\":{\"bar\":[{\"error_x\":{\"color\":\"#2a3f5f\"},\"error_y\":{\"color\":\"#2a3f5f\"},\"marker\":{\"line\":{\"color\":\"#E5ECF6\",\"width\":0.5},\"pattern\":{\"fillmode\":\"overlay\",\"size\":10,\"solidity\":0.2}},\"type\":\"bar\"}],\"barpolar\":[{\"marker\":{\"line\":{\"color\":\"#E5ECF6\",\"width\":0.5},\"pattern\":{\"fillmode\":\"overlay\",\"size\":10,\"solidity\":0.2}},\"type\":\"barpolar\"}],\"carpet\":[{\"aaxis\":{\"endlinecolor\":\"#2a3f5f\",\"gridcolor\":\"white\",\"linecolor\":\"white\",\"minorgridcolor\":\"white\",\"startlinecolor\":\"#2a3f5f\"},\"baxis\":{\"endlinecolor\":\"#2a3f5f\",\"gridcolor\":\"white\",\"linecolor\":\"white\",\"minorgridcolor\":\"white\",\"startlinecolor\":\"#2a3f5f\"},\"type\":\"carpet\"}],\"choropleth\":[{\"colorbar\":{\"outlinewidth\":0,\"ticks\":\"\"},\"type\":\"choropleth\"}],\"contour\":[{\"colorbar\":{\"outlinewidth\":0,\"ticks\":\"\"},\"colorscale\":[[0.0,\"#0d0887\"],[0.1111111111111111,\"#46039f\"],[0.2222222222222222,\"#7201a8\"],[0.3333333333333333,\"#9c179e\"],[0.4444444444444444,\"#bd3786\"],[0.5555555555555556,\"#d8576b\"],[0.6666666666666666,\"#ed7953\"],[0.7777777777777778,\"#fb9f3a\"],[0.8888888888888888,\"#fdca26\"],[1.0,\"#f0f921\"]],\"type\":\"contour\"}],\"contourcarpet\":[{\"colorbar\":{\"outlinewidth\":0,\"ticks\":\"\"},\"type\":\"contourcarpet\"}],\"heatmap\":[{\"colorbar\":{\"outlinewidth\":0,\"ticks\":\"\"},\"colorscale\":[[0.0,\"#0d0887\"],[0.1111111111111111,\"#46039f\"],[0.2222222222222222,\"#7201a8\"],[0.3333333333333333,\"#9c179e\"],[0.4444444444444444,\"#bd3786\"],[0.5555555555555556,\"#d8576b\"],[0.6666666666666666,\"#ed7953\"],[0.7777777777777778,\"#fb9f3a\"],[0.8888888888888888,\"#fdca26\"],[1.0,\"#f0f921\"]],\"type\":\"heatmap\"}],\"heatmapgl\":[{\"colorbar\":{\"outlinewidth\":0,\"ticks\":\"\"},\"colorscale\":[[0.0,\"#0d0887\"],[0.1111111111111111,\"#46039f\"],[0.2222222222222222,\"#7201a8\"],[0.3333333333333333,\"#9c179e\"],[0.4444444444444444,\"#bd3786\"],[0.5555555555555556,\"#d8576b\"],[0.6666666666666666,\"#ed7953\"],[0.7777777777777778,\"#fb9f3a\"],[0.8888888888888888,\"#fdca26\"],[1.0,\"#f0f921\"]],\"type\":\"heatmapgl\"}],\"histogram\":[{\"marker\":{\"pattern\":{\"fillmode\":\"overlay\",\"size\":10,\"solidity\":0.2}},\"type\":\"histogram\"}],\"histogram2d\":[{\"colorbar\":{\"outlinewidth\":0,\"ticks\":\"\"},\"colorscale\":[[0.0,\"#0d0887\"],[0.1111111111111111,\"#46039f\"],[0.2222222222222222,\"#7201a8\"],[0.3333333333333333,\"#9c179e\"],[0.4444444444444444,\"#bd3786\"],[0.5555555555555556,\"#d8576b\"],[0.6666666666666666,\"#ed7953\"],[0.7777777777777778,\"#fb9f3a\"],[0.8888888888888888,\"#fdca26\"],[1.0,\"#f0f921\"]],\"type\":\"histogram2d\"}],\"histogram2dcontour\":[{\"colorbar\":{\"outlinewidth\":0,\"ticks\":\"\"},\"colorscale\":[[0.0,\"#0d0887\"],[0.1111111111111111,\"#46039f\"],[0.2222222222222222,\"#7201a8\"],[0.3333333333333333,\"#9c179e\"],[0.4444444444444444,\"#bd3786\"],[0.5555555555555556,\"#d8576b\"],[0.6666666666666666,\"#ed7953\"],[0.7777777777777778,\"#fb9f3a\"],[0.8888888888888888,\"#fdca26\"],[1.0,\"#f0f921\"]],\"type\":\"histogram2dcontour\"}],\"mesh3d\":[{\"colorbar\":{\"outlinewidth\":0,\"ticks\":\"\"},\"type\":\"mesh3d\"}],\"parcoords\":[{\"line\":{\"colorbar\":{\"outlinewidth\":0,\"ticks\":\"\"}},\"type\":\"parcoords\"}],\"pie\":[{\"automargin\":true,\"type\":\"pie\"}],\"scatter\":[{\"marker\":{\"colorbar\":{\"outlinewidth\":0,\"ticks\":\"\"}},\"type\":\"scatter\"}],\"scatter3d\":[{\"line\":{\"colorbar\":{\"outlinewidth\":0,\"ticks\":\"\"}},\"marker\":{\"colorbar\":{\"outlinewidth\":0,\"ticks\":\"\"}},\"type\":\"scatter3d\"}],\"scattercarpet\":[{\"marker\":{\"colorbar\":{\"outlinewidth\":0,\"ticks\":\"\"}},\"type\":\"scattercarpet\"}],\"scattergeo\":[{\"marker\":{\"colorbar\":{\"outlinewidth\":0,\"ticks\":\"\"}},\"type\":\"scattergeo\"}],\"scattergl\":[{\"marker\":{\"colorbar\":{\"outlinewidth\":0,\"ticks\":\"\"}},\"type\":\"scattergl\"}],\"scattermapbox\":[{\"marker\":{\"colorbar\":{\"outlinewidth\":0,\"ticks\":\"\"}},\"type\":\"scattermapbox\"}],\"scatterpolar\":[{\"marker\":{\"colorbar\":{\"outlinewidth\":0,\"ticks\":\"\"}},\"type\":\"scatterpolar\"}],\"scatterpolargl\":[{\"marker\":{\"colorbar\":{\"outlinewidth\":0,\"ticks\":\"\"}},\"type\":\"scatterpolargl\"}],\"scatterternary\":[{\"marker\":{\"colorbar\":{\"outlinewidth\":0,\"ticks\":\"\"}},\"type\":\"scatterternary\"}],\"surface\":[{\"colorbar\":{\"outlinewidth\":0,\"ticks\":\"\"},\"colorscale\":[[0.0,\"#0d0887\"],[0.1111111111111111,\"#46039f\"],[0.2222222222222222,\"#7201a8\"],[0.3333333333333333,\"#9c179e\"],[0.4444444444444444,\"#bd3786\"],[0.5555555555555556,\"#d8576b\"],[0.6666666666666666,\"#ed7953\"],[0.7777777777777778,\"#fb9f3a\"],[0.8888888888888888,\"#fdca26\"],[1.0,\"#f0f921\"]],\"type\":\"surface\"}],\"table\":[{\"cells\":{\"fill\":{\"color\":\"#EBF0F8\"},\"line\":{\"color\":\"white\"}},\"header\":{\"fill\":{\"color\":\"#C8D4E3\"},\"line\":{\"color\":\"white\"}},\"type\":\"table\"}]},\"layout\":{\"annotationdefaults\":{\"arrowcolor\":\"#2a3f5f\",\"arrowhead\":0,\"arrowwidth\":1},\"autotypenumbers\":\"strict\",\"coloraxis\":{\"colorbar\":{\"outlinewidth\":0,\"ticks\":\"\"}},\"colorscale\":{\"diverging\":[[0,\"#8e0152\"],[0.1,\"#c51b7d\"],[0.2,\"#de77ae\"],[0.3,\"#f1b6da\"],[0.4,\"#fde0ef\"],[0.5,\"#f7f7f7\"],[0.6,\"#e6f5d0\"],[0.7,\"#b8e186\"],[0.8,\"#7fbc41\"],[0.9,\"#4d9221\"],[1,\"#276419\"]],\"sequential\":[[0.0,\"#0d0887\"],[0.1111111111111111,\"#46039f\"],[0.2222222222222222,\"#7201a8\"],[0.3333333333333333,\"#9c179e\"],[0.4444444444444444,\"#bd3786\"],[0.5555555555555556,\"#d8576b\"],[0.6666666666666666,\"#ed7953\"],[0.7777777777777778,\"#fb9f3a\"],[0.8888888888888888,\"#fdca26\"],[1.0,\"#f0f921\"]],\"sequentialminus\":[[0.0,\"#0d0887\"],[0.1111111111111111,\"#46039f\"],[0.2222222222222222,\"#7201a8\"],[0.3333333333333333,\"#9c179e\"],[0.4444444444444444,\"#bd3786\"],[0.5555555555555556,\"#d8576b\"],[0.6666666666666666,\"#ed7953\"],[0.7777777777777778,\"#fb9f3a\"],[0.8888888888888888,\"#fdca26\"],[1.0,\"#f0f921\"]]},\"colorway\":[\"#636efa\",\"#EF553B\",\"#00cc96\",\"#ab63fa\",\"#FFA15A\",\"#19d3f3\",\"#FF6692\",\"#B6E880\",\"#FF97FF\",\"#FECB52\"],\"font\":{\"color\":\"#2a3f5f\"},\"geo\":{\"bgcolor\":\"white\",\"lakecolor\":\"white\",\"landcolor\":\"#E5ECF6\",\"showlakes\":true,\"showland\":true,\"subunitcolor\":\"white\"},\"hoverlabel\":{\"align\":\"left\"},\"hovermode\":\"closest\",\"mapbox\":{\"style\":\"light\"},\"paper_bgcolor\":\"white\",\"plot_bgcolor\":\"#E5ECF6\",\"polar\":{\"angularaxis\":{\"gridcolor\":\"white\",\"linecolor\":\"white\",\"ticks\":\"\"},\"bgcolor\":\"#E5ECF6\",\"radialaxis\":{\"gridcolor\":\"white\",\"linecolor\":\"white\",\"ticks\":\"\"}},\"scene\":{\"xaxis\":{\"backgroundcolor\":\"#E5ECF6\",\"gridcolor\":\"white\",\"gridwidth\":2,\"linecolor\":\"white\",\"showbackground\":true,\"ticks\":\"\",\"zerolinecolor\":\"white\"},\"yaxis\":{\"backgroundcolor\":\"#E5ECF6\",\"gridcolor\":\"white\",\"gridwidth\":2,\"linecolor\":\"white\",\"showbackground\":true,\"ticks\":\"\",\"zerolinecolor\":\"white\"},\"zaxis\":{\"backgroundcolor\":\"#E5ECF6\",\"gridcolor\":\"white\",\"gridwidth\":2,\"linecolor\":\"white\",\"showbackground\":true,\"ticks\":\"\",\"zerolinecolor\":\"white\"}},\"shapedefaults\":{\"line\":{\"color\":\"#2a3f5f\"}},\"ternary\":{\"aaxis\":{\"gridcolor\":\"white\",\"linecolor\":\"white\",\"ticks\":\"\"},\"baxis\":{\"gridcolor\":\"white\",\"linecolor\":\"white\",\"ticks\":\"\"},\"bgcolor\":\"#E5ECF6\",\"caxis\":{\"gridcolor\":\"white\",\"linecolor\":\"white\",\"ticks\":\"\"}},\"title\":{\"x\":0.05},\"xaxis\":{\"automargin\":true,\"gridcolor\":\"white\",\"linecolor\":\"white\",\"ticks\":\"\",\"title\":{\"standoff\":15},\"zerolinecolor\":\"white\",\"zerolinewidth\":2},\"yaxis\":{\"automargin\":true,\"gridcolor\":\"white\",\"linecolor\":\"white\",\"ticks\":\"\",\"title\":{\"standoff\":15},\"zerolinecolor\":\"white\",\"zerolinewidth\":2}}},\"polar\":{\"radialaxis\":{\"visible\":true}},\"showlegend\":true},                        {\"responsive\": true}                    ).then(function(){\n",
       "                            \n",
       "var gd = document.getElementById('2dc23c61-40bc-4f76-bc2e-165f3e5fd178');\n",
       "var x = new MutationObserver(function (mutations, observer) {{\n",
       "        var display = window.getComputedStyle(gd).display;\n",
       "        if (!display || display === 'none') {{\n",
       "            console.log([gd, 'removed!']);\n",
       "            Plotly.purge(gd);\n",
       "            observer.disconnect();\n",
       "        }}\n",
       "}});\n",
       "\n",
       "// Listen for the removal of the full notebook cells\n",
       "var notebookContainer = gd.closest('#notebook-container');\n",
       "if (notebookContainer) {{\n",
       "    x.observe(notebookContainer, {childList: true});\n",
       "}}\n",
       "\n",
       "// Listen for the clearing of the current output cell\n",
       "var outputEl = gd.closest('.output');\n",
       "if (outputEl) {{\n",
       "    x.observe(outputEl, {childList: true});\n",
       "}}\n",
       "\n",
       "                        })                };                });            </script>        </div>"
      ]
     },
     "metadata": {},
     "output_type": "display_data"
    }
   ],
   "source": [
    "fig.show()\n",
    "fig2.show()"
   ]
  },
  {
   "cell_type": "code",
   "execution_count": null,
   "id": "fbdf6d3a",
   "metadata": {},
   "outputs": [],
   "source": [
    "print(dir(rdmd.Mol))"
   ]
  },
  {
   "cell_type": "code",
   "execution_count": 4,
   "id": "243538ec",
   "metadata": {},
   "outputs": [
    {
     "name": "stdout",
     "output_type": "stream",
     "text": [
      "0         Cc1cc(O)c(C)c(C)c1S(=O)(=O)NC(=N)NCCC[C@H](N)C...\n",
      "1         Cc1cc(O)c(C)c(C)c1S(=O)(=O)NC(=N)NCCC[C@H](N)C...\n",
      "2         Cc1cc(O)c(C)c(C)c1S(=O)(=O)NC(=N)NCCC[C@H](N)C...\n",
      "3         Cc1cc(O)c(C)c(C)c1S(=O)(=O)NC(=N)NCCC[C@H](N)C...\n",
      "4         Cc1cc(O)c(C)c(C)c1S(=O)(=O)NC(=N)NCCC[C@H](N)C...\n",
      "                                ...                        \n",
      "453374                               O=C1CN[C@@H](C(=O)O)C1\n",
      "453375                            O=C(O)[C@H]1C[C@@H](O)CN1\n",
      "453376                       O=C(O)C1CC2(CCN(C(=O)O)CC2)CN1\n",
      "453377                  O=C(O)CN1CN(c2ccccc2)C2(CCNCC2)C1=O\n",
      "453378                              CC1(C)N[C@H](C(=O)O)CS1\n",
      "Name: Structure, Length: 453379, dtype: object\n",
      "\n",
      "453378\n"
     ]
    }
   ],
   "source": [
    "dfm = pd.read_csv(\"../DEL2_enum.csv\")\n",
    "dfr=dfm['Structure']\n",
    "print(dfr)\n",
    "\n",
    "del2_list = []\n",
    "\n",
    "for i in range(0, len(dfr)):\n",
    "    j = dfr[i]\n",
    "    #print(j, type(j))\n",
    "    if type(j) == str:\n",
    "        j = j.split('.')\n",
    "        for k in j:\n",
    "            try:\n",
    "                #print(k)\n",
    "                m = Chem.MolFromSmiles(k)\n",
    "                numatoms = rdch.Mol.GetNumAtoms(m)\n",
    "                if numatoms >5:\n",
    "                    #print(k, numatoms)\n",
    "                    a = (k,m)\n",
    "                    if a not in drug_list:\n",
    "                        del2_list.append(a)\n",
    "            except:\n",
    "                #print(j,k, ' - no valid SMILES/Molecule')\n",
    "                pass\n",
    "        \n",
    "print()\n",
    "print(len(del2_list))\n",
    "#print()\n",
    "#print(del2_list)"
   ]
  },
  {
   "cell_type": "code",
   "execution_count": 6,
   "id": "edd416a5",
   "metadata": {},
   "outputs": [
    {
     "name": "stdout",
     "output_type": "stream",
     "text": [
      "                                                   smiles  numatoms  \\\n",
      "0       Cc1cc(O)c(C)c(C)c1S(=O)(=O)NC(=N)NCCC[C@H](N)C...        73   \n",
      "1       Cc1cc(O)c(C)c(C)c1S(=O)(=O)NC(=N)NCCC[C@H](N)C...        73   \n",
      "2       Cc1cc(O)c(C)c(C)c1S(=O)(=O)NC(=N)NCCC[C@H](N)C...        73   \n",
      "3       Cc1cc(O)c(C)c(C)c1S(=O)(=O)NC(=N)NCCC[C@H](N)C...        75   \n",
      "4       Cc1cc(O)c(C)c(C)c1S(=O)(=O)NC(=N)NCCC[C@H](N)C...        73   \n",
      "...                                                   ...       ...   \n",
      "453373                             O=C1CN[C@@H](C(=O)O)C1         9   \n",
      "453374                          O=C(O)[C@H]1C[C@@H](O)CN1         9   \n",
      "453375                     O=C(O)C1CC2(CCN(C(=O)O)CC2)CN1        16   \n",
      "453376                O=C(O)CN1CN(c2ccccc2)C2(CCNCC2)C1=O        21   \n",
      "453377                            CC1(C)N[C@H](C(=O)O)CS1        10   \n",
      "\n",
      "                 mw      fsp3  HBA  HBD  stereo  ring  rotbond       qed  \\\n",
      "0       1068.473237  0.577778   26   15       7     3       21  0.036555   \n",
      "1       1068.400466  0.511628   28   15       3     3       23  0.030872   \n",
      "2       1064.441937  0.577778   26   15       7     5       17  0.044299   \n",
      "3       1096.431766  0.533333   28   15       5     3       23  0.033151   \n",
      "4       1065.473571  0.577778   26   15       6     4       19  0.039622   \n",
      "...             ...       ...  ...  ...     ...   ...      ...       ...   \n",
      "453373   129.042593  0.600000    4    2       1     1        1  0.476342   \n",
      "453374   131.058243  0.800000    4    3       2     1        1  0.417545   \n",
      "453375   228.111007  0.800000    6    3       1     2        1  0.595900   \n",
      "453376   289.142641  0.466667    6    2       0     3        3  0.847525   \n",
      "453377   161.051050  0.833333    3    2       1     1        1  0.588110   \n",
      "\n",
      "           logd  \n",
      "0      -1.99154  \n",
      "1      -2.58074  \n",
      "2      -2.48354  \n",
      "3      -1.80374  \n",
      "4      -2.39894  \n",
      "...         ...  \n",
      "453373 -0.99800  \n",
      "453374 -1.20620  \n",
      "453375  0.19310  \n",
      "453376  0.49950  \n",
      "453377  0.51210  \n",
      "\n",
      "[453378 rows x 11 columns]\n"
     ]
    }
   ],
   "source": [
    "drug_temp = []\n",
    "\n",
    "\n",
    "for i in del2_list:\n",
    "    smiles = i[0]\n",
    "    m = i[1]\n",
    "    numatoms = rdch.Mol.GetNumHeavyAtoms(m)\n",
    "    mw = rdd.ExactMolWt(m)\n",
    "    fsp3 = rdmd.CalcFractionCSP3(m)\n",
    "    HBA = rdmd.CalcNumLipinskiHBA(m)\n",
    "    HBD = rdmd.CalcNumLipinskiHBD(m)\n",
    "    stereo = rdmd.CalcNumAtomStereoCenters(m)\n",
    "    ring = rdmd.CalcNumRings(m)\n",
    "    rotbond = rdmd.CalcNumRotatableBonds(m)\n",
    "    qed = Chem.QED.qed(m)\n",
    "    logd = Chem.Crippen.MolLogP(m)\n",
    "    tpsa = rdmd.CalcTPSA(m)\n",
    "    #print(smiles, numatoms,mw, fsp3, HBA, HBD, stereo, ring, rotbond, qed, logd)\n",
    "    a = [smiles, numatoms,mw, fsp3, HBA, HBD, stereo, ring, rotbond, qed, logd, tpsa]\n",
    "    drug_temp.append(a)\n",
    "    \n",
    "df_del2 = pd.DataFrame(drug_temp, columns = ['smiles', 'numatoms','mw', 'fsp3', 'HBA', 'HBD', 'stereo', 'ring', 'rotbond', 'qed', 'logd', 'tpsa'])\n",
    "\n",
    "print(df_del2)"
   ]
  },
  {
   "cell_type": "code",
   "execution_count": 24,
   "id": "0db8f45e",
   "metadata": {},
   "outputs": [
    {
     "name": "stdout",
     "output_type": "stream",
     "text": [
      "numatoms     31.980983\n",
      "mw          451.127516\n",
      "fsp3          0.478996\n",
      "HBA          10.120959\n",
      "HBD           5.809210\n",
      "stereo        3.020976\n",
      "ring          2.524668\n",
      "rotbond       9.466503\n",
      "qed           0.343021\n",
      "logd          0.233724\n",
      "dtype: float64 <class 'pandas.core.series.Series'>\n",
      "numatoms     6.413035\n",
      "mw          86.674432\n",
      "fsp3         0.162820\n",
      "HBA          2.350128\n",
      "HBD          1.548287\n",
      "stereo       1.014620\n",
      "ring         1.255691\n",
      "rotbond      2.642168\n",
      "qed          0.152613\n",
      "logd         1.666573\n",
      "dtype: float64\n",
      "numatoms     6.000000\n",
      "mw          89.047678\n",
      "fsp3         0.000000\n",
      "HBA          3.000000\n",
      "HBD          2.000000\n",
      "stereo       0.000000\n",
      "ring         0.000000\n",
      "rotbond      1.000000\n",
      "qed          0.021258\n",
      "logd        -7.239200\n",
      "dtype: float64\n",
      "numatoms      77.000000\n",
      "mw          1096.431766\n",
      "fsp3           0.888889\n",
      "HBA           28.000000\n",
      "HBD           17.000000\n",
      "stereo        11.000000\n",
      "ring          11.000000\n",
      "rotbond       27.000000\n",
      "qed            0.908471\n",
      "logd           6.951500\n",
      "dtype: float64\n",
      "2 0.4789963480476787 fsp3\n",
      "8 0.3430212822563558 qed\n",
      "\n",
      "[77.0, 1096.4317660960003, 1, 28.0, 17.0, 11.0, 11.0, 27.0, 1, 14.190700000000017]\n",
      "[0.41533743839104925, 0.41145060716106674, 0.4789963480476787, 0.3614628096517381, 0.3417182338176195, 0.2746341704032637, 0.22951528706329336, 0.35061120611809, 0.3430212822563558, 0.5266071172786029]\n",
      "Likeness\n",
      "[0.7142857142857143, 0.45602472991121046, 0.5, 0.35714285714285715, 0.29411764705882354, 0.09090909090909091, 0.2727272727272727, 0.37037037037037035, 0.6, 0.8624803568534319]\n",
      "[0.38961038961038963, 0.14592791357158735, 0, 0.0, 0.0, 0.0, 0.0, 0.2222222222222222, 0.4, 0.5101369206593053]\n",
      "Drugs\n",
      "[0.3320512650177539, 0.3323992378474778, 0.3161758970165636, 0.2775296771017806, 0.2506425003721614, 0.18239600151395868, 0.11536156427629261, 0.25275314008838506, 0.1904086495564173, 0.4091658829860074]\n",
      "[0.4986236117643446, 0.4905019764746556, 0.6418167990787937, 0.44539594220169565, 0.4327939672630776, 0.3668723392925688, 0.3436690098502941, 0.44846927214779486, 0.49563391495629433, 0.6440483515711983]\n"
     ]
    },
    {
     "data": {
      "application/vnd.plotly.v1+json": {
       "config": {
        "plotlyServerURL": "https://plot.ly"
       },
       "data": [
        {
         "line": {
          "color": "green"
         },
         "name": "Druglikeness (lower)",
         "opacity": 0.25,
         "r": [
          0.38961038961038963,
          0.14592791357158735,
          0,
          0,
          0,
          0,
          0,
          0.2222222222222222,
          0.4,
          0.5101369206593053,
          0.38961038961038963
         ],
         "theta": [
          "numatoms",
          "mw",
          "fsp3",
          "HBA",
          "HBD",
          "stereo",
          "ring",
          "rotbond",
          "qed",
          "logd",
          "numatoms",
          "numatoms",
          "numatoms",
          "numatoms",
          "numatoms",
          "numatoms",
          "numatoms",
          "numatoms"
         ],
         "type": "scatterpolar"
        },
        {
         "fill": "tonext",
         "fillcolor": "silver",
         "line": {
          "color": "green"
         },
         "name": "Druglikeness (upper)",
         "opacity": 0.5,
         "r": [
          0.7142857142857143,
          0.45602472991121046,
          0.5,
          0.35714285714285715,
          0.29411764705882354,
          0.09090909090909091,
          0.2727272727272727,
          0.37037037037037035,
          0.6,
          0.8624803568534319,
          0.7142857142857143
         ],
         "theta": [
          "numatoms",
          "mw",
          "fsp3",
          "HBA",
          "HBD",
          "stereo",
          "ring",
          "rotbond",
          "qed",
          "logd",
          "numatoms",
          "numatoms",
          "numatoms",
          "numatoms",
          "numatoms",
          "numatoms",
          "numatoms",
          "numatoms"
         ],
         "type": "scatterpolar"
        },
        {
         "line": {
          "color": "blue",
          "width": 5
         },
         "marker": {
          "color": "blue",
          "gradient": {
           "color": "lightblue",
           "type": "radial"
          },
          "size": [
           6.413035349743743,
           86.67443246880542,
           0.1628204510311151,
           2.35012771139881,
           1.5482874685727879,
           1.0146198577823553,
           1.2556909506570082,
           2.6421677828020327,
           0.15261263269993852,
           1.666573323475936
          ],
          "symbol": "circle"
         },
         "name": "Drug Collection",
         "r": [
          0.41533743839104925,
          0.41145060716106674,
          0.4789963480476787,
          0.3614628096517381,
          0.3417182338176195,
          0.2746341704032637,
          0.22951528706329336,
          0.35061120611809,
          0.3430212822563558,
          0.5266071172786029,
          0.41533743839104925
         ],
         "theta": [
          "numatoms",
          "mw",
          "fsp3",
          "HBA",
          "HBD",
          "stereo",
          "ring",
          "rotbond",
          "qed",
          "logd",
          "numatoms",
          "numatoms",
          "numatoms",
          "numatoms",
          "numatoms",
          "numatoms",
          "numatoms",
          "numatoms"
         ],
         "type": "scatterpolar"
        }
       ],
       "layout": {
        "polar": {
         "radialaxis": {
          "visible": true
         }
        },
        "showlegend": true,
        "template": {
         "data": {
          "bar": [
           {
            "error_x": {
             "color": "#2a3f5f"
            },
            "error_y": {
             "color": "#2a3f5f"
            },
            "marker": {
             "line": {
              "color": "#E5ECF6",
              "width": 0.5
             },
             "pattern": {
              "fillmode": "overlay",
              "size": 10,
              "solidity": 0.2
             }
            },
            "type": "bar"
           }
          ],
          "barpolar": [
           {
            "marker": {
             "line": {
              "color": "#E5ECF6",
              "width": 0.5
             },
             "pattern": {
              "fillmode": "overlay",
              "size": 10,
              "solidity": 0.2
             }
            },
            "type": "barpolar"
           }
          ],
          "carpet": [
           {
            "aaxis": {
             "endlinecolor": "#2a3f5f",
             "gridcolor": "white",
             "linecolor": "white",
             "minorgridcolor": "white",
             "startlinecolor": "#2a3f5f"
            },
            "baxis": {
             "endlinecolor": "#2a3f5f",
             "gridcolor": "white",
             "linecolor": "white",
             "minorgridcolor": "white",
             "startlinecolor": "#2a3f5f"
            },
            "type": "carpet"
           }
          ],
          "choropleth": [
           {
            "colorbar": {
             "outlinewidth": 0,
             "ticks": ""
            },
            "type": "choropleth"
           }
          ],
          "contour": [
           {
            "colorbar": {
             "outlinewidth": 0,
             "ticks": ""
            },
            "colorscale": [
             [
              0,
              "#0d0887"
             ],
             [
              0.1111111111111111,
              "#46039f"
             ],
             [
              0.2222222222222222,
              "#7201a8"
             ],
             [
              0.3333333333333333,
              "#9c179e"
             ],
             [
              0.4444444444444444,
              "#bd3786"
             ],
             [
              0.5555555555555556,
              "#d8576b"
             ],
             [
              0.6666666666666666,
              "#ed7953"
             ],
             [
              0.7777777777777778,
              "#fb9f3a"
             ],
             [
              0.8888888888888888,
              "#fdca26"
             ],
             [
              1,
              "#f0f921"
             ]
            ],
            "type": "contour"
           }
          ],
          "contourcarpet": [
           {
            "colorbar": {
             "outlinewidth": 0,
             "ticks": ""
            },
            "type": "contourcarpet"
           }
          ],
          "heatmap": [
           {
            "colorbar": {
             "outlinewidth": 0,
             "ticks": ""
            },
            "colorscale": [
             [
              0,
              "#0d0887"
             ],
             [
              0.1111111111111111,
              "#46039f"
             ],
             [
              0.2222222222222222,
              "#7201a8"
             ],
             [
              0.3333333333333333,
              "#9c179e"
             ],
             [
              0.4444444444444444,
              "#bd3786"
             ],
             [
              0.5555555555555556,
              "#d8576b"
             ],
             [
              0.6666666666666666,
              "#ed7953"
             ],
             [
              0.7777777777777778,
              "#fb9f3a"
             ],
             [
              0.8888888888888888,
              "#fdca26"
             ],
             [
              1,
              "#f0f921"
             ]
            ],
            "type": "heatmap"
           }
          ],
          "heatmapgl": [
           {
            "colorbar": {
             "outlinewidth": 0,
             "ticks": ""
            },
            "colorscale": [
             [
              0,
              "#0d0887"
             ],
             [
              0.1111111111111111,
              "#46039f"
             ],
             [
              0.2222222222222222,
              "#7201a8"
             ],
             [
              0.3333333333333333,
              "#9c179e"
             ],
             [
              0.4444444444444444,
              "#bd3786"
             ],
             [
              0.5555555555555556,
              "#d8576b"
             ],
             [
              0.6666666666666666,
              "#ed7953"
             ],
             [
              0.7777777777777778,
              "#fb9f3a"
             ],
             [
              0.8888888888888888,
              "#fdca26"
             ],
             [
              1,
              "#f0f921"
             ]
            ],
            "type": "heatmapgl"
           }
          ],
          "histogram": [
           {
            "marker": {
             "pattern": {
              "fillmode": "overlay",
              "size": 10,
              "solidity": 0.2
             }
            },
            "type": "histogram"
           }
          ],
          "histogram2d": [
           {
            "colorbar": {
             "outlinewidth": 0,
             "ticks": ""
            },
            "colorscale": [
             [
              0,
              "#0d0887"
             ],
             [
              0.1111111111111111,
              "#46039f"
             ],
             [
              0.2222222222222222,
              "#7201a8"
             ],
             [
              0.3333333333333333,
              "#9c179e"
             ],
             [
              0.4444444444444444,
              "#bd3786"
             ],
             [
              0.5555555555555556,
              "#d8576b"
             ],
             [
              0.6666666666666666,
              "#ed7953"
             ],
             [
              0.7777777777777778,
              "#fb9f3a"
             ],
             [
              0.8888888888888888,
              "#fdca26"
             ],
             [
              1,
              "#f0f921"
             ]
            ],
            "type": "histogram2d"
           }
          ],
          "histogram2dcontour": [
           {
            "colorbar": {
             "outlinewidth": 0,
             "ticks": ""
            },
            "colorscale": [
             [
              0,
              "#0d0887"
             ],
             [
              0.1111111111111111,
              "#46039f"
             ],
             [
              0.2222222222222222,
              "#7201a8"
             ],
             [
              0.3333333333333333,
              "#9c179e"
             ],
             [
              0.4444444444444444,
              "#bd3786"
             ],
             [
              0.5555555555555556,
              "#d8576b"
             ],
             [
              0.6666666666666666,
              "#ed7953"
             ],
             [
              0.7777777777777778,
              "#fb9f3a"
             ],
             [
              0.8888888888888888,
              "#fdca26"
             ],
             [
              1,
              "#f0f921"
             ]
            ],
            "type": "histogram2dcontour"
           }
          ],
          "mesh3d": [
           {
            "colorbar": {
             "outlinewidth": 0,
             "ticks": ""
            },
            "type": "mesh3d"
           }
          ],
          "parcoords": [
           {
            "line": {
             "colorbar": {
              "outlinewidth": 0,
              "ticks": ""
             }
            },
            "type": "parcoords"
           }
          ],
          "pie": [
           {
            "automargin": true,
            "type": "pie"
           }
          ],
          "scatter": [
           {
            "marker": {
             "colorbar": {
              "outlinewidth": 0,
              "ticks": ""
             }
            },
            "type": "scatter"
           }
          ],
          "scatter3d": [
           {
            "line": {
             "colorbar": {
              "outlinewidth": 0,
              "ticks": ""
             }
            },
            "marker": {
             "colorbar": {
              "outlinewidth": 0,
              "ticks": ""
             }
            },
            "type": "scatter3d"
           }
          ],
          "scattercarpet": [
           {
            "marker": {
             "colorbar": {
              "outlinewidth": 0,
              "ticks": ""
             }
            },
            "type": "scattercarpet"
           }
          ],
          "scattergeo": [
           {
            "marker": {
             "colorbar": {
              "outlinewidth": 0,
              "ticks": ""
             }
            },
            "type": "scattergeo"
           }
          ],
          "scattergl": [
           {
            "marker": {
             "colorbar": {
              "outlinewidth": 0,
              "ticks": ""
             }
            },
            "type": "scattergl"
           }
          ],
          "scattermapbox": [
           {
            "marker": {
             "colorbar": {
              "outlinewidth": 0,
              "ticks": ""
             }
            },
            "type": "scattermapbox"
           }
          ],
          "scatterpolar": [
           {
            "marker": {
             "colorbar": {
              "outlinewidth": 0,
              "ticks": ""
             }
            },
            "type": "scatterpolar"
           }
          ],
          "scatterpolargl": [
           {
            "marker": {
             "colorbar": {
              "outlinewidth": 0,
              "ticks": ""
             }
            },
            "type": "scatterpolargl"
           }
          ],
          "scatterternary": [
           {
            "marker": {
             "colorbar": {
              "outlinewidth": 0,
              "ticks": ""
             }
            },
            "type": "scatterternary"
           }
          ],
          "surface": [
           {
            "colorbar": {
             "outlinewidth": 0,
             "ticks": ""
            },
            "colorscale": [
             [
              0,
              "#0d0887"
             ],
             [
              0.1111111111111111,
              "#46039f"
             ],
             [
              0.2222222222222222,
              "#7201a8"
             ],
             [
              0.3333333333333333,
              "#9c179e"
             ],
             [
              0.4444444444444444,
              "#bd3786"
             ],
             [
              0.5555555555555556,
              "#d8576b"
             ],
             [
              0.6666666666666666,
              "#ed7953"
             ],
             [
              0.7777777777777778,
              "#fb9f3a"
             ],
             [
              0.8888888888888888,
              "#fdca26"
             ],
             [
              1,
              "#f0f921"
             ]
            ],
            "type": "surface"
           }
          ],
          "table": [
           {
            "cells": {
             "fill": {
              "color": "#EBF0F8"
             },
             "line": {
              "color": "white"
             }
            },
            "header": {
             "fill": {
              "color": "#C8D4E3"
             },
             "line": {
              "color": "white"
             }
            },
            "type": "table"
           }
          ]
         },
         "layout": {
          "annotationdefaults": {
           "arrowcolor": "#2a3f5f",
           "arrowhead": 0,
           "arrowwidth": 1
          },
          "autotypenumbers": "strict",
          "coloraxis": {
           "colorbar": {
            "outlinewidth": 0,
            "ticks": ""
           }
          },
          "colorscale": {
           "diverging": [
            [
             0,
             "#8e0152"
            ],
            [
             0.1,
             "#c51b7d"
            ],
            [
             0.2,
             "#de77ae"
            ],
            [
             0.3,
             "#f1b6da"
            ],
            [
             0.4,
             "#fde0ef"
            ],
            [
             0.5,
             "#f7f7f7"
            ],
            [
             0.6,
             "#e6f5d0"
            ],
            [
             0.7,
             "#b8e186"
            ],
            [
             0.8,
             "#7fbc41"
            ],
            [
             0.9,
             "#4d9221"
            ],
            [
             1,
             "#276419"
            ]
           ],
           "sequential": [
            [
             0,
             "#0d0887"
            ],
            [
             0.1111111111111111,
             "#46039f"
            ],
            [
             0.2222222222222222,
             "#7201a8"
            ],
            [
             0.3333333333333333,
             "#9c179e"
            ],
            [
             0.4444444444444444,
             "#bd3786"
            ],
            [
             0.5555555555555556,
             "#d8576b"
            ],
            [
             0.6666666666666666,
             "#ed7953"
            ],
            [
             0.7777777777777778,
             "#fb9f3a"
            ],
            [
             0.8888888888888888,
             "#fdca26"
            ],
            [
             1,
             "#f0f921"
            ]
           ],
           "sequentialminus": [
            [
             0,
             "#0d0887"
            ],
            [
             0.1111111111111111,
             "#46039f"
            ],
            [
             0.2222222222222222,
             "#7201a8"
            ],
            [
             0.3333333333333333,
             "#9c179e"
            ],
            [
             0.4444444444444444,
             "#bd3786"
            ],
            [
             0.5555555555555556,
             "#d8576b"
            ],
            [
             0.6666666666666666,
             "#ed7953"
            ],
            [
             0.7777777777777778,
             "#fb9f3a"
            ],
            [
             0.8888888888888888,
             "#fdca26"
            ],
            [
             1,
             "#f0f921"
            ]
           ]
          },
          "colorway": [
           "#636efa",
           "#EF553B",
           "#00cc96",
           "#ab63fa",
           "#FFA15A",
           "#19d3f3",
           "#FF6692",
           "#B6E880",
           "#FF97FF",
           "#FECB52"
          ],
          "font": {
           "color": "#2a3f5f"
          },
          "geo": {
           "bgcolor": "white",
           "lakecolor": "white",
           "landcolor": "#E5ECF6",
           "showlakes": true,
           "showland": true,
           "subunitcolor": "white"
          },
          "hoverlabel": {
           "align": "left"
          },
          "hovermode": "closest",
          "mapbox": {
           "style": "light"
          },
          "paper_bgcolor": "white",
          "plot_bgcolor": "#E5ECF6",
          "polar": {
           "angularaxis": {
            "gridcolor": "white",
            "linecolor": "white",
            "ticks": ""
           },
           "bgcolor": "#E5ECF6",
           "radialaxis": {
            "gridcolor": "white",
            "linecolor": "white",
            "ticks": ""
           }
          },
          "scene": {
           "xaxis": {
            "backgroundcolor": "#E5ECF6",
            "gridcolor": "white",
            "gridwidth": 2,
            "linecolor": "white",
            "showbackground": true,
            "ticks": "",
            "zerolinecolor": "white"
           },
           "yaxis": {
            "backgroundcolor": "#E5ECF6",
            "gridcolor": "white",
            "gridwidth": 2,
            "linecolor": "white",
            "showbackground": true,
            "ticks": "",
            "zerolinecolor": "white"
           },
           "zaxis": {
            "backgroundcolor": "#E5ECF6",
            "gridcolor": "white",
            "gridwidth": 2,
            "linecolor": "white",
            "showbackground": true,
            "ticks": "",
            "zerolinecolor": "white"
           }
          },
          "shapedefaults": {
           "line": {
            "color": "#2a3f5f"
           }
          },
          "ternary": {
           "aaxis": {
            "gridcolor": "white",
            "linecolor": "white",
            "ticks": ""
           },
           "baxis": {
            "gridcolor": "white",
            "linecolor": "white",
            "ticks": ""
           },
           "bgcolor": "#E5ECF6",
           "caxis": {
            "gridcolor": "white",
            "linecolor": "white",
            "ticks": ""
           }
          },
          "title": {
           "x": 0.05
          },
          "xaxis": {
           "automargin": true,
           "gridcolor": "white",
           "linecolor": "white",
           "ticks": "",
           "title": {
            "standoff": 15
           },
           "zerolinecolor": "white",
           "zerolinewidth": 2
          },
          "yaxis": {
           "automargin": true,
           "gridcolor": "white",
           "linecolor": "white",
           "ticks": "",
           "title": {
            "standoff": 15
           },
           "zerolinecolor": "white",
           "zerolinewidth": 2
          }
         }
        }
       }
      },
      "text/html": [
       "<div>                            <div id=\"023568c8-3793-4563-af90-50fe56233e57\" class=\"plotly-graph-div\" style=\"height:525px; width:100%;\"></div>            <script type=\"text/javascript\">                require([\"plotly\"], function(Plotly) {                    window.PLOTLYENV=window.PLOTLYENV || {};                                    if (document.getElementById(\"023568c8-3793-4563-af90-50fe56233e57\")) {                    Plotly.newPlot(                        \"023568c8-3793-4563-af90-50fe56233e57\",                        [{\"line\":{\"color\":\"green\"},\"name\":\"Druglikeness (lower)\",\"opacity\":0.25,\"r\":[0.38961038961038963,0.14592791357158735,0,0.0,0.0,0.0,0.0,0.2222222222222222,0.4,0.5101369206593053,0.38961038961038963],\"theta\":[\"numatoms\",\"mw\",\"fsp3\",\"HBA\",\"HBD\",\"stereo\",\"ring\",\"rotbond\",\"qed\",\"logd\",\"numatoms\",\"numatoms\",\"numatoms\",\"numatoms\",\"numatoms\",\"numatoms\",\"numatoms\",\"numatoms\"],\"type\":\"scatterpolar\"},{\"fill\":\"tonext\",\"fillcolor\":\"silver\",\"line\":{\"color\":\"green\"},\"name\":\"Druglikeness (upper)\",\"opacity\":0.5,\"r\":[0.7142857142857143,0.45602472991121046,0.5,0.35714285714285715,0.29411764705882354,0.09090909090909091,0.2727272727272727,0.37037037037037035,0.6,0.8624803568534319,0.7142857142857143],\"theta\":[\"numatoms\",\"mw\",\"fsp3\",\"HBA\",\"HBD\",\"stereo\",\"ring\",\"rotbond\",\"qed\",\"logd\",\"numatoms\",\"numatoms\",\"numatoms\",\"numatoms\",\"numatoms\",\"numatoms\",\"numatoms\",\"numatoms\"],\"type\":\"scatterpolar\"},{\"line\":{\"color\":\"blue\",\"width\":5},\"marker\":{\"color\":\"blue\",\"gradient\":{\"color\":\"lightblue\",\"type\":\"radial\"},\"size\":[6.413035349743743,86.67443246880542,0.1628204510311151,2.35012771139881,1.5482874685727879,1.0146198577823553,1.2556909506570082,2.6421677828020327,0.15261263269993852,1.666573323475936],\"symbol\":\"circle\"},\"name\":\"Drug Collection\",\"r\":[0.41533743839104925,0.41145060716106674,0.4789963480476787,0.3614628096517381,0.3417182338176195,0.2746341704032637,0.22951528706329336,0.35061120611809,0.3430212822563558,0.5266071172786029,0.41533743839104925],\"theta\":[\"numatoms\",\"mw\",\"fsp3\",\"HBA\",\"HBD\",\"stereo\",\"ring\",\"rotbond\",\"qed\",\"logd\",\"numatoms\",\"numatoms\",\"numatoms\",\"numatoms\",\"numatoms\",\"numatoms\",\"numatoms\",\"numatoms\"],\"type\":\"scatterpolar\"}],                        {\"template\":{\"data\":{\"bar\":[{\"error_x\":{\"color\":\"#2a3f5f\"},\"error_y\":{\"color\":\"#2a3f5f\"},\"marker\":{\"line\":{\"color\":\"#E5ECF6\",\"width\":0.5},\"pattern\":{\"fillmode\":\"overlay\",\"size\":10,\"solidity\":0.2}},\"type\":\"bar\"}],\"barpolar\":[{\"marker\":{\"line\":{\"color\":\"#E5ECF6\",\"width\":0.5},\"pattern\":{\"fillmode\":\"overlay\",\"size\":10,\"solidity\":0.2}},\"type\":\"barpolar\"}],\"carpet\":[{\"aaxis\":{\"endlinecolor\":\"#2a3f5f\",\"gridcolor\":\"white\",\"linecolor\":\"white\",\"minorgridcolor\":\"white\",\"startlinecolor\":\"#2a3f5f\"},\"baxis\":{\"endlinecolor\":\"#2a3f5f\",\"gridcolor\":\"white\",\"linecolor\":\"white\",\"minorgridcolor\":\"white\",\"startlinecolor\":\"#2a3f5f\"},\"type\":\"carpet\"}],\"choropleth\":[{\"colorbar\":{\"outlinewidth\":0,\"ticks\":\"\"},\"type\":\"choropleth\"}],\"contour\":[{\"colorbar\":{\"outlinewidth\":0,\"ticks\":\"\"},\"colorscale\":[[0.0,\"#0d0887\"],[0.1111111111111111,\"#46039f\"],[0.2222222222222222,\"#7201a8\"],[0.3333333333333333,\"#9c179e\"],[0.4444444444444444,\"#bd3786\"],[0.5555555555555556,\"#d8576b\"],[0.6666666666666666,\"#ed7953\"],[0.7777777777777778,\"#fb9f3a\"],[0.8888888888888888,\"#fdca26\"],[1.0,\"#f0f921\"]],\"type\":\"contour\"}],\"contourcarpet\":[{\"colorbar\":{\"outlinewidth\":0,\"ticks\":\"\"},\"type\":\"contourcarpet\"}],\"heatmap\":[{\"colorbar\":{\"outlinewidth\":0,\"ticks\":\"\"},\"colorscale\":[[0.0,\"#0d0887\"],[0.1111111111111111,\"#46039f\"],[0.2222222222222222,\"#7201a8\"],[0.3333333333333333,\"#9c179e\"],[0.4444444444444444,\"#bd3786\"],[0.5555555555555556,\"#d8576b\"],[0.6666666666666666,\"#ed7953\"],[0.7777777777777778,\"#fb9f3a\"],[0.8888888888888888,\"#fdca26\"],[1.0,\"#f0f921\"]],\"type\":\"heatmap\"}],\"heatmapgl\":[{\"colorbar\":{\"outlinewidth\":0,\"ticks\":\"\"},\"colorscale\":[[0.0,\"#0d0887\"],[0.1111111111111111,\"#46039f\"],[0.2222222222222222,\"#7201a8\"],[0.3333333333333333,\"#9c179e\"],[0.4444444444444444,\"#bd3786\"],[0.5555555555555556,\"#d8576b\"],[0.6666666666666666,\"#ed7953\"],[0.7777777777777778,\"#fb9f3a\"],[0.8888888888888888,\"#fdca26\"],[1.0,\"#f0f921\"]],\"type\":\"heatmapgl\"}],\"histogram\":[{\"marker\":{\"pattern\":{\"fillmode\":\"overlay\",\"size\":10,\"solidity\":0.2}},\"type\":\"histogram\"}],\"histogram2d\":[{\"colorbar\":{\"outlinewidth\":0,\"ticks\":\"\"},\"colorscale\":[[0.0,\"#0d0887\"],[0.1111111111111111,\"#46039f\"],[0.2222222222222222,\"#7201a8\"],[0.3333333333333333,\"#9c179e\"],[0.4444444444444444,\"#bd3786\"],[0.5555555555555556,\"#d8576b\"],[0.6666666666666666,\"#ed7953\"],[0.7777777777777778,\"#fb9f3a\"],[0.8888888888888888,\"#fdca26\"],[1.0,\"#f0f921\"]],\"type\":\"histogram2d\"}],\"histogram2dcontour\":[{\"colorbar\":{\"outlinewidth\":0,\"ticks\":\"\"},\"colorscale\":[[0.0,\"#0d0887\"],[0.1111111111111111,\"#46039f\"],[0.2222222222222222,\"#7201a8\"],[0.3333333333333333,\"#9c179e\"],[0.4444444444444444,\"#bd3786\"],[0.5555555555555556,\"#d8576b\"],[0.6666666666666666,\"#ed7953\"],[0.7777777777777778,\"#fb9f3a\"],[0.8888888888888888,\"#fdca26\"],[1.0,\"#f0f921\"]],\"type\":\"histogram2dcontour\"}],\"mesh3d\":[{\"colorbar\":{\"outlinewidth\":0,\"ticks\":\"\"},\"type\":\"mesh3d\"}],\"parcoords\":[{\"line\":{\"colorbar\":{\"outlinewidth\":0,\"ticks\":\"\"}},\"type\":\"parcoords\"}],\"pie\":[{\"automargin\":true,\"type\":\"pie\"}],\"scatter\":[{\"marker\":{\"colorbar\":{\"outlinewidth\":0,\"ticks\":\"\"}},\"type\":\"scatter\"}],\"scatter3d\":[{\"line\":{\"colorbar\":{\"outlinewidth\":0,\"ticks\":\"\"}},\"marker\":{\"colorbar\":{\"outlinewidth\":0,\"ticks\":\"\"}},\"type\":\"scatter3d\"}],\"scattercarpet\":[{\"marker\":{\"colorbar\":{\"outlinewidth\":0,\"ticks\":\"\"}},\"type\":\"scattercarpet\"}],\"scattergeo\":[{\"marker\":{\"colorbar\":{\"outlinewidth\":0,\"ticks\":\"\"}},\"type\":\"scattergeo\"}],\"scattergl\":[{\"marker\":{\"colorbar\":{\"outlinewidth\":0,\"ticks\":\"\"}},\"type\":\"scattergl\"}],\"scattermapbox\":[{\"marker\":{\"colorbar\":{\"outlinewidth\":0,\"ticks\":\"\"}},\"type\":\"scattermapbox\"}],\"scatterpolar\":[{\"marker\":{\"colorbar\":{\"outlinewidth\":0,\"ticks\":\"\"}},\"type\":\"scatterpolar\"}],\"scatterpolargl\":[{\"marker\":{\"colorbar\":{\"outlinewidth\":0,\"ticks\":\"\"}},\"type\":\"scatterpolargl\"}],\"scatterternary\":[{\"marker\":{\"colorbar\":{\"outlinewidth\":0,\"ticks\":\"\"}},\"type\":\"scatterternary\"}],\"surface\":[{\"colorbar\":{\"outlinewidth\":0,\"ticks\":\"\"},\"colorscale\":[[0.0,\"#0d0887\"],[0.1111111111111111,\"#46039f\"],[0.2222222222222222,\"#7201a8\"],[0.3333333333333333,\"#9c179e\"],[0.4444444444444444,\"#bd3786\"],[0.5555555555555556,\"#d8576b\"],[0.6666666666666666,\"#ed7953\"],[0.7777777777777778,\"#fb9f3a\"],[0.8888888888888888,\"#fdca26\"],[1.0,\"#f0f921\"]],\"type\":\"surface\"}],\"table\":[{\"cells\":{\"fill\":{\"color\":\"#EBF0F8\"},\"line\":{\"color\":\"white\"}},\"header\":{\"fill\":{\"color\":\"#C8D4E3\"},\"line\":{\"color\":\"white\"}},\"type\":\"table\"}]},\"layout\":{\"annotationdefaults\":{\"arrowcolor\":\"#2a3f5f\",\"arrowhead\":0,\"arrowwidth\":1},\"autotypenumbers\":\"strict\",\"coloraxis\":{\"colorbar\":{\"outlinewidth\":0,\"ticks\":\"\"}},\"colorscale\":{\"diverging\":[[0,\"#8e0152\"],[0.1,\"#c51b7d\"],[0.2,\"#de77ae\"],[0.3,\"#f1b6da\"],[0.4,\"#fde0ef\"],[0.5,\"#f7f7f7\"],[0.6,\"#e6f5d0\"],[0.7,\"#b8e186\"],[0.8,\"#7fbc41\"],[0.9,\"#4d9221\"],[1,\"#276419\"]],\"sequential\":[[0.0,\"#0d0887\"],[0.1111111111111111,\"#46039f\"],[0.2222222222222222,\"#7201a8\"],[0.3333333333333333,\"#9c179e\"],[0.4444444444444444,\"#bd3786\"],[0.5555555555555556,\"#d8576b\"],[0.6666666666666666,\"#ed7953\"],[0.7777777777777778,\"#fb9f3a\"],[0.8888888888888888,\"#fdca26\"],[1.0,\"#f0f921\"]],\"sequentialminus\":[[0.0,\"#0d0887\"],[0.1111111111111111,\"#46039f\"],[0.2222222222222222,\"#7201a8\"],[0.3333333333333333,\"#9c179e\"],[0.4444444444444444,\"#bd3786\"],[0.5555555555555556,\"#d8576b\"],[0.6666666666666666,\"#ed7953\"],[0.7777777777777778,\"#fb9f3a\"],[0.8888888888888888,\"#fdca26\"],[1.0,\"#f0f921\"]]},\"colorway\":[\"#636efa\",\"#EF553B\",\"#00cc96\",\"#ab63fa\",\"#FFA15A\",\"#19d3f3\",\"#FF6692\",\"#B6E880\",\"#FF97FF\",\"#FECB52\"],\"font\":{\"color\":\"#2a3f5f\"},\"geo\":{\"bgcolor\":\"white\",\"lakecolor\":\"white\",\"landcolor\":\"#E5ECF6\",\"showlakes\":true,\"showland\":true,\"subunitcolor\":\"white\"},\"hoverlabel\":{\"align\":\"left\"},\"hovermode\":\"closest\",\"mapbox\":{\"style\":\"light\"},\"paper_bgcolor\":\"white\",\"plot_bgcolor\":\"#E5ECF6\",\"polar\":{\"angularaxis\":{\"gridcolor\":\"white\",\"linecolor\":\"white\",\"ticks\":\"\"},\"bgcolor\":\"#E5ECF6\",\"radialaxis\":{\"gridcolor\":\"white\",\"linecolor\":\"white\",\"ticks\":\"\"}},\"scene\":{\"xaxis\":{\"backgroundcolor\":\"#E5ECF6\",\"gridcolor\":\"white\",\"gridwidth\":2,\"linecolor\":\"white\",\"showbackground\":true,\"ticks\":\"\",\"zerolinecolor\":\"white\"},\"yaxis\":{\"backgroundcolor\":\"#E5ECF6\",\"gridcolor\":\"white\",\"gridwidth\":2,\"linecolor\":\"white\",\"showbackground\":true,\"ticks\":\"\",\"zerolinecolor\":\"white\"},\"zaxis\":{\"backgroundcolor\":\"#E5ECF6\",\"gridcolor\":\"white\",\"gridwidth\":2,\"linecolor\":\"white\",\"showbackground\":true,\"ticks\":\"\",\"zerolinecolor\":\"white\"}},\"shapedefaults\":{\"line\":{\"color\":\"#2a3f5f\"}},\"ternary\":{\"aaxis\":{\"gridcolor\":\"white\",\"linecolor\":\"white\",\"ticks\":\"\"},\"baxis\":{\"gridcolor\":\"white\",\"linecolor\":\"white\",\"ticks\":\"\"},\"bgcolor\":\"#E5ECF6\",\"caxis\":{\"gridcolor\":\"white\",\"linecolor\":\"white\",\"ticks\":\"\"}},\"title\":{\"x\":0.05},\"xaxis\":{\"automargin\":true,\"gridcolor\":\"white\",\"linecolor\":\"white\",\"ticks\":\"\",\"title\":{\"standoff\":15},\"zerolinecolor\":\"white\",\"zerolinewidth\":2},\"yaxis\":{\"automargin\":true,\"gridcolor\":\"white\",\"linecolor\":\"white\",\"ticks\":\"\",\"title\":{\"standoff\":15},\"zerolinecolor\":\"white\",\"zerolinewidth\":2}}},\"polar\":{\"radialaxis\":{\"visible\":true}},\"showlegend\":true},                        {\"responsive\": true}                    ).then(function(){\n",
       "                            \n",
       "var gd = document.getElementById('023568c8-3793-4563-af90-50fe56233e57');\n",
       "var x = new MutationObserver(function (mutations, observer) {{\n",
       "        var display = window.getComputedStyle(gd).display;\n",
       "        if (!display || display === 'none') {{\n",
       "            console.log([gd, 'removed!']);\n",
       "            Plotly.purge(gd);\n",
       "            observer.disconnect();\n",
       "        }}\n",
       "}});\n",
       "\n",
       "// Listen for the removal of the full notebook cells\n",
       "var notebookContainer = gd.closest('#notebook-container');\n",
       "if (notebookContainer) {{\n",
       "    x.observe(notebookContainer, {childList: true});\n",
       "}}\n",
       "\n",
       "// Listen for the clearing of the current output cell\n",
       "var outputEl = gd.closest('.output');\n",
       "if (outputEl) {{\n",
       "    x.observe(outputEl, {childList: true});\n",
       "}}\n",
       "\n",
       "                        })                };                });            </script>        </div>"
      ]
     },
     "metadata": {},
     "output_type": "display_data"
    },
    {
     "data": {
      "application/vnd.plotly.v1+json": {
       "config": {
        "plotlyServerURL": "https://plot.ly"
       },
       "data": [
        {
         "line": {
          "color": "green"
         },
         "name": "Druglikeness (lower)",
         "opacity": 0.25,
         "r": [
          0.38961038961038963,
          0.14592791357158735,
          0,
          0,
          0,
          0,
          0,
          0.2222222222222222,
          0.4,
          0.5101369206593053,
          0.38961038961038963
         ],
         "showlegend": false,
         "theta": [
          "numatoms",
          "mw",
          "fsp3",
          "HBA",
          "HBD",
          "stereo",
          "ring",
          "rotbond",
          "qed",
          "logd",
          "numatoms",
          "numatoms",
          "numatoms",
          "numatoms",
          "numatoms",
          "numatoms",
          "numatoms",
          "numatoms"
         ],
         "type": "scatterpolar"
        },
        {
         "fill": "tonext",
         "fillcolor": "silver",
         "line": {
          "color": "green"
         },
         "name": "Druglikeness (upper)",
         "opacity": 0.5,
         "r": [
          0.7142857142857143,
          0.45602472991121046,
          0.5,
          0.35714285714285715,
          0.29411764705882354,
          0.09090909090909091,
          0.2727272727272727,
          0.37037037037037035,
          0.6,
          0.8624803568534319,
          0.7142857142857143
         ],
         "theta": [
          "numatoms",
          "mw",
          "fsp3",
          "HBA",
          "HBD",
          "stereo",
          "ring",
          "rotbond",
          "qed",
          "logd",
          "numatoms",
          "numatoms",
          "numatoms",
          "numatoms",
          "numatoms",
          "numatoms",
          "numatoms",
          "numatoms"
         ],
         "type": "scatterpolar"
        },
        {
         "line": {
          "color": "blue",
          "width": 2
         },
         "marker": {
          "size": 1
         },
         "name": "Drug Collection",
         "r": [
          0.3320512650177539,
          0.3323992378474778,
          0.3161758970165636,
          0.2775296771017806,
          0.2506425003721614,
          0.18239600151395868,
          0.11536156427629261,
          0.25275314008838506,
          0.1904086495564173,
          0.4091658829860074,
          0.3320512650177539
         ],
         "showlegend": false,
         "theta": [
          "numatoms",
          "mw",
          "fsp3",
          "HBA",
          "HBD",
          "stereo",
          "ring",
          "rotbond",
          "qed",
          "logd",
          "numatoms",
          "numatoms",
          "numatoms",
          "numatoms",
          "numatoms",
          "numatoms",
          "numatoms",
          "numatoms"
         ],
         "type": "scatterpolar"
        },
        {
         "fill": "tonext",
         "line": {
          "color": "blue",
          "width": 2
         },
         "marker": {
          "size": 1
         },
         "name": "Drug Collection",
         "r": [
          0.4986236117643446,
          0.4905019764746556,
          0.6418167990787937,
          0.44539594220169565,
          0.4327939672630776,
          0.3668723392925688,
          0.3436690098502941,
          0.44846927214779486,
          0.49563391495629433,
          0.6440483515711983,
          0.4986236117643446
         ],
         "theta": [
          "numatoms",
          "mw",
          "fsp3",
          "HBA",
          "HBD",
          "stereo",
          "ring",
          "rotbond",
          "qed",
          "logd",
          "numatoms",
          "numatoms",
          "numatoms",
          "numatoms",
          "numatoms",
          "numatoms",
          "numatoms",
          "numatoms"
         ],
         "type": "scatterpolar"
        }
       ],
       "layout": {
        "polar": {
         "radialaxis": {
          "visible": true
         }
        },
        "showlegend": true,
        "template": {
         "data": {
          "bar": [
           {
            "error_x": {
             "color": "#2a3f5f"
            },
            "error_y": {
             "color": "#2a3f5f"
            },
            "marker": {
             "line": {
              "color": "#E5ECF6",
              "width": 0.5
             },
             "pattern": {
              "fillmode": "overlay",
              "size": 10,
              "solidity": 0.2
             }
            },
            "type": "bar"
           }
          ],
          "barpolar": [
           {
            "marker": {
             "line": {
              "color": "#E5ECF6",
              "width": 0.5
             },
             "pattern": {
              "fillmode": "overlay",
              "size": 10,
              "solidity": 0.2
             }
            },
            "type": "barpolar"
           }
          ],
          "carpet": [
           {
            "aaxis": {
             "endlinecolor": "#2a3f5f",
             "gridcolor": "white",
             "linecolor": "white",
             "minorgridcolor": "white",
             "startlinecolor": "#2a3f5f"
            },
            "baxis": {
             "endlinecolor": "#2a3f5f",
             "gridcolor": "white",
             "linecolor": "white",
             "minorgridcolor": "white",
             "startlinecolor": "#2a3f5f"
            },
            "type": "carpet"
           }
          ],
          "choropleth": [
           {
            "colorbar": {
             "outlinewidth": 0,
             "ticks": ""
            },
            "type": "choropleth"
           }
          ],
          "contour": [
           {
            "colorbar": {
             "outlinewidth": 0,
             "ticks": ""
            },
            "colorscale": [
             [
              0,
              "#0d0887"
             ],
             [
              0.1111111111111111,
              "#46039f"
             ],
             [
              0.2222222222222222,
              "#7201a8"
             ],
             [
              0.3333333333333333,
              "#9c179e"
             ],
             [
              0.4444444444444444,
              "#bd3786"
             ],
             [
              0.5555555555555556,
              "#d8576b"
             ],
             [
              0.6666666666666666,
              "#ed7953"
             ],
             [
              0.7777777777777778,
              "#fb9f3a"
             ],
             [
              0.8888888888888888,
              "#fdca26"
             ],
             [
              1,
              "#f0f921"
             ]
            ],
            "type": "contour"
           }
          ],
          "contourcarpet": [
           {
            "colorbar": {
             "outlinewidth": 0,
             "ticks": ""
            },
            "type": "contourcarpet"
           }
          ],
          "heatmap": [
           {
            "colorbar": {
             "outlinewidth": 0,
             "ticks": ""
            },
            "colorscale": [
             [
              0,
              "#0d0887"
             ],
             [
              0.1111111111111111,
              "#46039f"
             ],
             [
              0.2222222222222222,
              "#7201a8"
             ],
             [
              0.3333333333333333,
              "#9c179e"
             ],
             [
              0.4444444444444444,
              "#bd3786"
             ],
             [
              0.5555555555555556,
              "#d8576b"
             ],
             [
              0.6666666666666666,
              "#ed7953"
             ],
             [
              0.7777777777777778,
              "#fb9f3a"
             ],
             [
              0.8888888888888888,
              "#fdca26"
             ],
             [
              1,
              "#f0f921"
             ]
            ],
            "type": "heatmap"
           }
          ],
          "heatmapgl": [
           {
            "colorbar": {
             "outlinewidth": 0,
             "ticks": ""
            },
            "colorscale": [
             [
              0,
              "#0d0887"
             ],
             [
              0.1111111111111111,
              "#46039f"
             ],
             [
              0.2222222222222222,
              "#7201a8"
             ],
             [
              0.3333333333333333,
              "#9c179e"
             ],
             [
              0.4444444444444444,
              "#bd3786"
             ],
             [
              0.5555555555555556,
              "#d8576b"
             ],
             [
              0.6666666666666666,
              "#ed7953"
             ],
             [
              0.7777777777777778,
              "#fb9f3a"
             ],
             [
              0.8888888888888888,
              "#fdca26"
             ],
             [
              1,
              "#f0f921"
             ]
            ],
            "type": "heatmapgl"
           }
          ],
          "histogram": [
           {
            "marker": {
             "pattern": {
              "fillmode": "overlay",
              "size": 10,
              "solidity": 0.2
             }
            },
            "type": "histogram"
           }
          ],
          "histogram2d": [
           {
            "colorbar": {
             "outlinewidth": 0,
             "ticks": ""
            },
            "colorscale": [
             [
              0,
              "#0d0887"
             ],
             [
              0.1111111111111111,
              "#46039f"
             ],
             [
              0.2222222222222222,
              "#7201a8"
             ],
             [
              0.3333333333333333,
              "#9c179e"
             ],
             [
              0.4444444444444444,
              "#bd3786"
             ],
             [
              0.5555555555555556,
              "#d8576b"
             ],
             [
              0.6666666666666666,
              "#ed7953"
             ],
             [
              0.7777777777777778,
              "#fb9f3a"
             ],
             [
              0.8888888888888888,
              "#fdca26"
             ],
             [
              1,
              "#f0f921"
             ]
            ],
            "type": "histogram2d"
           }
          ],
          "histogram2dcontour": [
           {
            "colorbar": {
             "outlinewidth": 0,
             "ticks": ""
            },
            "colorscale": [
             [
              0,
              "#0d0887"
             ],
             [
              0.1111111111111111,
              "#46039f"
             ],
             [
              0.2222222222222222,
              "#7201a8"
             ],
             [
              0.3333333333333333,
              "#9c179e"
             ],
             [
              0.4444444444444444,
              "#bd3786"
             ],
             [
              0.5555555555555556,
              "#d8576b"
             ],
             [
              0.6666666666666666,
              "#ed7953"
             ],
             [
              0.7777777777777778,
              "#fb9f3a"
             ],
             [
              0.8888888888888888,
              "#fdca26"
             ],
             [
              1,
              "#f0f921"
             ]
            ],
            "type": "histogram2dcontour"
           }
          ],
          "mesh3d": [
           {
            "colorbar": {
             "outlinewidth": 0,
             "ticks": ""
            },
            "type": "mesh3d"
           }
          ],
          "parcoords": [
           {
            "line": {
             "colorbar": {
              "outlinewidth": 0,
              "ticks": ""
             }
            },
            "type": "parcoords"
           }
          ],
          "pie": [
           {
            "automargin": true,
            "type": "pie"
           }
          ],
          "scatter": [
           {
            "marker": {
             "colorbar": {
              "outlinewidth": 0,
              "ticks": ""
             }
            },
            "type": "scatter"
           }
          ],
          "scatter3d": [
           {
            "line": {
             "colorbar": {
              "outlinewidth": 0,
              "ticks": ""
             }
            },
            "marker": {
             "colorbar": {
              "outlinewidth": 0,
              "ticks": ""
             }
            },
            "type": "scatter3d"
           }
          ],
          "scattercarpet": [
           {
            "marker": {
             "colorbar": {
              "outlinewidth": 0,
              "ticks": ""
             }
            },
            "type": "scattercarpet"
           }
          ],
          "scattergeo": [
           {
            "marker": {
             "colorbar": {
              "outlinewidth": 0,
              "ticks": ""
             }
            },
            "type": "scattergeo"
           }
          ],
          "scattergl": [
           {
            "marker": {
             "colorbar": {
              "outlinewidth": 0,
              "ticks": ""
             }
            },
            "type": "scattergl"
           }
          ],
          "scattermapbox": [
           {
            "marker": {
             "colorbar": {
              "outlinewidth": 0,
              "ticks": ""
             }
            },
            "type": "scattermapbox"
           }
          ],
          "scatterpolar": [
           {
            "marker": {
             "colorbar": {
              "outlinewidth": 0,
              "ticks": ""
             }
            },
            "type": "scatterpolar"
           }
          ],
          "scatterpolargl": [
           {
            "marker": {
             "colorbar": {
              "outlinewidth": 0,
              "ticks": ""
             }
            },
            "type": "scatterpolargl"
           }
          ],
          "scatterternary": [
           {
            "marker": {
             "colorbar": {
              "outlinewidth": 0,
              "ticks": ""
             }
            },
            "type": "scatterternary"
           }
          ],
          "surface": [
           {
            "colorbar": {
             "outlinewidth": 0,
             "ticks": ""
            },
            "colorscale": [
             [
              0,
              "#0d0887"
             ],
             [
              0.1111111111111111,
              "#46039f"
             ],
             [
              0.2222222222222222,
              "#7201a8"
             ],
             [
              0.3333333333333333,
              "#9c179e"
             ],
             [
              0.4444444444444444,
              "#bd3786"
             ],
             [
              0.5555555555555556,
              "#d8576b"
             ],
             [
              0.6666666666666666,
              "#ed7953"
             ],
             [
              0.7777777777777778,
              "#fb9f3a"
             ],
             [
              0.8888888888888888,
              "#fdca26"
             ],
             [
              1,
              "#f0f921"
             ]
            ],
            "type": "surface"
           }
          ],
          "table": [
           {
            "cells": {
             "fill": {
              "color": "#EBF0F8"
             },
             "line": {
              "color": "white"
             }
            },
            "header": {
             "fill": {
              "color": "#C8D4E3"
             },
             "line": {
              "color": "white"
             }
            },
            "type": "table"
           }
          ]
         },
         "layout": {
          "annotationdefaults": {
           "arrowcolor": "#2a3f5f",
           "arrowhead": 0,
           "arrowwidth": 1
          },
          "autotypenumbers": "strict",
          "coloraxis": {
           "colorbar": {
            "outlinewidth": 0,
            "ticks": ""
           }
          },
          "colorscale": {
           "diverging": [
            [
             0,
             "#8e0152"
            ],
            [
             0.1,
             "#c51b7d"
            ],
            [
             0.2,
             "#de77ae"
            ],
            [
             0.3,
             "#f1b6da"
            ],
            [
             0.4,
             "#fde0ef"
            ],
            [
             0.5,
             "#f7f7f7"
            ],
            [
             0.6,
             "#e6f5d0"
            ],
            [
             0.7,
             "#b8e186"
            ],
            [
             0.8,
             "#7fbc41"
            ],
            [
             0.9,
             "#4d9221"
            ],
            [
             1,
             "#276419"
            ]
           ],
           "sequential": [
            [
             0,
             "#0d0887"
            ],
            [
             0.1111111111111111,
             "#46039f"
            ],
            [
             0.2222222222222222,
             "#7201a8"
            ],
            [
             0.3333333333333333,
             "#9c179e"
            ],
            [
             0.4444444444444444,
             "#bd3786"
            ],
            [
             0.5555555555555556,
             "#d8576b"
            ],
            [
             0.6666666666666666,
             "#ed7953"
            ],
            [
             0.7777777777777778,
             "#fb9f3a"
            ],
            [
             0.8888888888888888,
             "#fdca26"
            ],
            [
             1,
             "#f0f921"
            ]
           ],
           "sequentialminus": [
            [
             0,
             "#0d0887"
            ],
            [
             0.1111111111111111,
             "#46039f"
            ],
            [
             0.2222222222222222,
             "#7201a8"
            ],
            [
             0.3333333333333333,
             "#9c179e"
            ],
            [
             0.4444444444444444,
             "#bd3786"
            ],
            [
             0.5555555555555556,
             "#d8576b"
            ],
            [
             0.6666666666666666,
             "#ed7953"
            ],
            [
             0.7777777777777778,
             "#fb9f3a"
            ],
            [
             0.8888888888888888,
             "#fdca26"
            ],
            [
             1,
             "#f0f921"
            ]
           ]
          },
          "colorway": [
           "#636efa",
           "#EF553B",
           "#00cc96",
           "#ab63fa",
           "#FFA15A",
           "#19d3f3",
           "#FF6692",
           "#B6E880",
           "#FF97FF",
           "#FECB52"
          ],
          "font": {
           "color": "#2a3f5f"
          },
          "geo": {
           "bgcolor": "white",
           "lakecolor": "white",
           "landcolor": "#E5ECF6",
           "showlakes": true,
           "showland": true,
           "subunitcolor": "white"
          },
          "hoverlabel": {
           "align": "left"
          },
          "hovermode": "closest",
          "mapbox": {
           "style": "light"
          },
          "paper_bgcolor": "white",
          "plot_bgcolor": "#E5ECF6",
          "polar": {
           "angularaxis": {
            "gridcolor": "white",
            "linecolor": "white",
            "ticks": ""
           },
           "bgcolor": "#E5ECF6",
           "radialaxis": {
            "gridcolor": "white",
            "linecolor": "white",
            "ticks": ""
           }
          },
          "scene": {
           "xaxis": {
            "backgroundcolor": "#E5ECF6",
            "gridcolor": "white",
            "gridwidth": 2,
            "linecolor": "white",
            "showbackground": true,
            "ticks": "",
            "zerolinecolor": "white"
           },
           "yaxis": {
            "backgroundcolor": "#E5ECF6",
            "gridcolor": "white",
            "gridwidth": 2,
            "linecolor": "white",
            "showbackground": true,
            "ticks": "",
            "zerolinecolor": "white"
           },
           "zaxis": {
            "backgroundcolor": "#E5ECF6",
            "gridcolor": "white",
            "gridwidth": 2,
            "linecolor": "white",
            "showbackground": true,
            "ticks": "",
            "zerolinecolor": "white"
           }
          },
          "shapedefaults": {
           "line": {
            "color": "#2a3f5f"
           }
          },
          "ternary": {
           "aaxis": {
            "gridcolor": "white",
            "linecolor": "white",
            "ticks": ""
           },
           "baxis": {
            "gridcolor": "white",
            "linecolor": "white",
            "ticks": ""
           },
           "bgcolor": "#E5ECF6",
           "caxis": {
            "gridcolor": "white",
            "linecolor": "white",
            "ticks": ""
           }
          },
          "title": {
           "x": 0.05
          },
          "xaxis": {
           "automargin": true,
           "gridcolor": "white",
           "linecolor": "white",
           "ticks": "",
           "title": {
            "standoff": 15
           },
           "zerolinecolor": "white",
           "zerolinewidth": 2
          },
          "yaxis": {
           "automargin": true,
           "gridcolor": "white",
           "linecolor": "white",
           "ticks": "",
           "title": {
            "standoff": 15
           },
           "zerolinecolor": "white",
           "zerolinewidth": 2
          }
         }
        }
       }
      },
      "text/html": [
       "<div>                            <div id=\"085592f8-61cd-4e5e-8e01-6b907f706933\" class=\"plotly-graph-div\" style=\"height:525px; width:100%;\"></div>            <script type=\"text/javascript\">                require([\"plotly\"], function(Plotly) {                    window.PLOTLYENV=window.PLOTLYENV || {};                                    if (document.getElementById(\"085592f8-61cd-4e5e-8e01-6b907f706933\")) {                    Plotly.newPlot(                        \"085592f8-61cd-4e5e-8e01-6b907f706933\",                        [{\"line\":{\"color\":\"green\"},\"name\":\"Druglikeness (lower)\",\"opacity\":0.25,\"r\":[0.38961038961038963,0.14592791357158735,0,0.0,0.0,0.0,0.0,0.2222222222222222,0.4,0.5101369206593053,0.38961038961038963],\"showlegend\":false,\"theta\":[\"numatoms\",\"mw\",\"fsp3\",\"HBA\",\"HBD\",\"stereo\",\"ring\",\"rotbond\",\"qed\",\"logd\",\"numatoms\",\"numatoms\",\"numatoms\",\"numatoms\",\"numatoms\",\"numatoms\",\"numatoms\",\"numatoms\"],\"type\":\"scatterpolar\"},{\"fill\":\"tonext\",\"fillcolor\":\"silver\",\"line\":{\"color\":\"green\"},\"name\":\"Druglikeness (upper)\",\"opacity\":0.5,\"r\":[0.7142857142857143,0.45602472991121046,0.5,0.35714285714285715,0.29411764705882354,0.09090909090909091,0.2727272727272727,0.37037037037037035,0.6,0.8624803568534319,0.7142857142857143],\"theta\":[\"numatoms\",\"mw\",\"fsp3\",\"HBA\",\"HBD\",\"stereo\",\"ring\",\"rotbond\",\"qed\",\"logd\",\"numatoms\",\"numatoms\",\"numatoms\",\"numatoms\",\"numatoms\",\"numatoms\",\"numatoms\",\"numatoms\"],\"type\":\"scatterpolar\"},{\"line\":{\"color\":\"blue\",\"width\":2},\"marker\":{\"size\":1},\"name\":\"Drug Collection\",\"r\":[0.3320512650177539,0.3323992378474778,0.3161758970165636,0.2775296771017806,0.2506425003721614,0.18239600151395868,0.11536156427629261,0.25275314008838506,0.1904086495564173,0.4091658829860074,0.3320512650177539],\"showlegend\":false,\"theta\":[\"numatoms\",\"mw\",\"fsp3\",\"HBA\",\"HBD\",\"stereo\",\"ring\",\"rotbond\",\"qed\",\"logd\",\"numatoms\",\"numatoms\",\"numatoms\",\"numatoms\",\"numatoms\",\"numatoms\",\"numatoms\",\"numatoms\"],\"type\":\"scatterpolar\"},{\"fill\":\"tonext\",\"line\":{\"color\":\"blue\",\"width\":2},\"marker\":{\"size\":1},\"name\":\"Drug Collection\",\"r\":[0.4986236117643446,0.4905019764746556,0.6418167990787937,0.44539594220169565,0.4327939672630776,0.3668723392925688,0.3436690098502941,0.44846927214779486,0.49563391495629433,0.6440483515711983,0.4986236117643446],\"theta\":[\"numatoms\",\"mw\",\"fsp3\",\"HBA\",\"HBD\",\"stereo\",\"ring\",\"rotbond\",\"qed\",\"logd\",\"numatoms\",\"numatoms\",\"numatoms\",\"numatoms\",\"numatoms\",\"numatoms\",\"numatoms\",\"numatoms\"],\"type\":\"scatterpolar\"}],                        {\"template\":{\"data\":{\"bar\":[{\"error_x\":{\"color\":\"#2a3f5f\"},\"error_y\":{\"color\":\"#2a3f5f\"},\"marker\":{\"line\":{\"color\":\"#E5ECF6\",\"width\":0.5},\"pattern\":{\"fillmode\":\"overlay\",\"size\":10,\"solidity\":0.2}},\"type\":\"bar\"}],\"barpolar\":[{\"marker\":{\"line\":{\"color\":\"#E5ECF6\",\"width\":0.5},\"pattern\":{\"fillmode\":\"overlay\",\"size\":10,\"solidity\":0.2}},\"type\":\"barpolar\"}],\"carpet\":[{\"aaxis\":{\"endlinecolor\":\"#2a3f5f\",\"gridcolor\":\"white\",\"linecolor\":\"white\",\"minorgridcolor\":\"white\",\"startlinecolor\":\"#2a3f5f\"},\"baxis\":{\"endlinecolor\":\"#2a3f5f\",\"gridcolor\":\"white\",\"linecolor\":\"white\",\"minorgridcolor\":\"white\",\"startlinecolor\":\"#2a3f5f\"},\"type\":\"carpet\"}],\"choropleth\":[{\"colorbar\":{\"outlinewidth\":0,\"ticks\":\"\"},\"type\":\"choropleth\"}],\"contour\":[{\"colorbar\":{\"outlinewidth\":0,\"ticks\":\"\"},\"colorscale\":[[0.0,\"#0d0887\"],[0.1111111111111111,\"#46039f\"],[0.2222222222222222,\"#7201a8\"],[0.3333333333333333,\"#9c179e\"],[0.4444444444444444,\"#bd3786\"],[0.5555555555555556,\"#d8576b\"],[0.6666666666666666,\"#ed7953\"],[0.7777777777777778,\"#fb9f3a\"],[0.8888888888888888,\"#fdca26\"],[1.0,\"#f0f921\"]],\"type\":\"contour\"}],\"contourcarpet\":[{\"colorbar\":{\"outlinewidth\":0,\"ticks\":\"\"},\"type\":\"contourcarpet\"}],\"heatmap\":[{\"colorbar\":{\"outlinewidth\":0,\"ticks\":\"\"},\"colorscale\":[[0.0,\"#0d0887\"],[0.1111111111111111,\"#46039f\"],[0.2222222222222222,\"#7201a8\"],[0.3333333333333333,\"#9c179e\"],[0.4444444444444444,\"#bd3786\"],[0.5555555555555556,\"#d8576b\"],[0.6666666666666666,\"#ed7953\"],[0.7777777777777778,\"#fb9f3a\"],[0.8888888888888888,\"#fdca26\"],[1.0,\"#f0f921\"]],\"type\":\"heatmap\"}],\"heatmapgl\":[{\"colorbar\":{\"outlinewidth\":0,\"ticks\":\"\"},\"colorscale\":[[0.0,\"#0d0887\"],[0.1111111111111111,\"#46039f\"],[0.2222222222222222,\"#7201a8\"],[0.3333333333333333,\"#9c179e\"],[0.4444444444444444,\"#bd3786\"],[0.5555555555555556,\"#d8576b\"],[0.6666666666666666,\"#ed7953\"],[0.7777777777777778,\"#fb9f3a\"],[0.8888888888888888,\"#fdca26\"],[1.0,\"#f0f921\"]],\"type\":\"heatmapgl\"}],\"histogram\":[{\"marker\":{\"pattern\":{\"fillmode\":\"overlay\",\"size\":10,\"solidity\":0.2}},\"type\":\"histogram\"}],\"histogram2d\":[{\"colorbar\":{\"outlinewidth\":0,\"ticks\":\"\"},\"colorscale\":[[0.0,\"#0d0887\"],[0.1111111111111111,\"#46039f\"],[0.2222222222222222,\"#7201a8\"],[0.3333333333333333,\"#9c179e\"],[0.4444444444444444,\"#bd3786\"],[0.5555555555555556,\"#d8576b\"],[0.6666666666666666,\"#ed7953\"],[0.7777777777777778,\"#fb9f3a\"],[0.8888888888888888,\"#fdca26\"],[1.0,\"#f0f921\"]],\"type\":\"histogram2d\"}],\"histogram2dcontour\":[{\"colorbar\":{\"outlinewidth\":0,\"ticks\":\"\"},\"colorscale\":[[0.0,\"#0d0887\"],[0.1111111111111111,\"#46039f\"],[0.2222222222222222,\"#7201a8\"],[0.3333333333333333,\"#9c179e\"],[0.4444444444444444,\"#bd3786\"],[0.5555555555555556,\"#d8576b\"],[0.6666666666666666,\"#ed7953\"],[0.7777777777777778,\"#fb9f3a\"],[0.8888888888888888,\"#fdca26\"],[1.0,\"#f0f921\"]],\"type\":\"histogram2dcontour\"}],\"mesh3d\":[{\"colorbar\":{\"outlinewidth\":0,\"ticks\":\"\"},\"type\":\"mesh3d\"}],\"parcoords\":[{\"line\":{\"colorbar\":{\"outlinewidth\":0,\"ticks\":\"\"}},\"type\":\"parcoords\"}],\"pie\":[{\"automargin\":true,\"type\":\"pie\"}],\"scatter\":[{\"marker\":{\"colorbar\":{\"outlinewidth\":0,\"ticks\":\"\"}},\"type\":\"scatter\"}],\"scatter3d\":[{\"line\":{\"colorbar\":{\"outlinewidth\":0,\"ticks\":\"\"}},\"marker\":{\"colorbar\":{\"outlinewidth\":0,\"ticks\":\"\"}},\"type\":\"scatter3d\"}],\"scattercarpet\":[{\"marker\":{\"colorbar\":{\"outlinewidth\":0,\"ticks\":\"\"}},\"type\":\"scattercarpet\"}],\"scattergeo\":[{\"marker\":{\"colorbar\":{\"outlinewidth\":0,\"ticks\":\"\"}},\"type\":\"scattergeo\"}],\"scattergl\":[{\"marker\":{\"colorbar\":{\"outlinewidth\":0,\"ticks\":\"\"}},\"type\":\"scattergl\"}],\"scattermapbox\":[{\"marker\":{\"colorbar\":{\"outlinewidth\":0,\"ticks\":\"\"}},\"type\":\"scattermapbox\"}],\"scatterpolar\":[{\"marker\":{\"colorbar\":{\"outlinewidth\":0,\"ticks\":\"\"}},\"type\":\"scatterpolar\"}],\"scatterpolargl\":[{\"marker\":{\"colorbar\":{\"outlinewidth\":0,\"ticks\":\"\"}},\"type\":\"scatterpolargl\"}],\"scatterternary\":[{\"marker\":{\"colorbar\":{\"outlinewidth\":0,\"ticks\":\"\"}},\"type\":\"scatterternary\"}],\"surface\":[{\"colorbar\":{\"outlinewidth\":0,\"ticks\":\"\"},\"colorscale\":[[0.0,\"#0d0887\"],[0.1111111111111111,\"#46039f\"],[0.2222222222222222,\"#7201a8\"],[0.3333333333333333,\"#9c179e\"],[0.4444444444444444,\"#bd3786\"],[0.5555555555555556,\"#d8576b\"],[0.6666666666666666,\"#ed7953\"],[0.7777777777777778,\"#fb9f3a\"],[0.8888888888888888,\"#fdca26\"],[1.0,\"#f0f921\"]],\"type\":\"surface\"}],\"table\":[{\"cells\":{\"fill\":{\"color\":\"#EBF0F8\"},\"line\":{\"color\":\"white\"}},\"header\":{\"fill\":{\"color\":\"#C8D4E3\"},\"line\":{\"color\":\"white\"}},\"type\":\"table\"}]},\"layout\":{\"annotationdefaults\":{\"arrowcolor\":\"#2a3f5f\",\"arrowhead\":0,\"arrowwidth\":1},\"autotypenumbers\":\"strict\",\"coloraxis\":{\"colorbar\":{\"outlinewidth\":0,\"ticks\":\"\"}},\"colorscale\":{\"diverging\":[[0,\"#8e0152\"],[0.1,\"#c51b7d\"],[0.2,\"#de77ae\"],[0.3,\"#f1b6da\"],[0.4,\"#fde0ef\"],[0.5,\"#f7f7f7\"],[0.6,\"#e6f5d0\"],[0.7,\"#b8e186\"],[0.8,\"#7fbc41\"],[0.9,\"#4d9221\"],[1,\"#276419\"]],\"sequential\":[[0.0,\"#0d0887\"],[0.1111111111111111,\"#46039f\"],[0.2222222222222222,\"#7201a8\"],[0.3333333333333333,\"#9c179e\"],[0.4444444444444444,\"#bd3786\"],[0.5555555555555556,\"#d8576b\"],[0.6666666666666666,\"#ed7953\"],[0.7777777777777778,\"#fb9f3a\"],[0.8888888888888888,\"#fdca26\"],[1.0,\"#f0f921\"]],\"sequentialminus\":[[0.0,\"#0d0887\"],[0.1111111111111111,\"#46039f\"],[0.2222222222222222,\"#7201a8\"],[0.3333333333333333,\"#9c179e\"],[0.4444444444444444,\"#bd3786\"],[0.5555555555555556,\"#d8576b\"],[0.6666666666666666,\"#ed7953\"],[0.7777777777777778,\"#fb9f3a\"],[0.8888888888888888,\"#fdca26\"],[1.0,\"#f0f921\"]]},\"colorway\":[\"#636efa\",\"#EF553B\",\"#00cc96\",\"#ab63fa\",\"#FFA15A\",\"#19d3f3\",\"#FF6692\",\"#B6E880\",\"#FF97FF\",\"#FECB52\"],\"font\":{\"color\":\"#2a3f5f\"},\"geo\":{\"bgcolor\":\"white\",\"lakecolor\":\"white\",\"landcolor\":\"#E5ECF6\",\"showlakes\":true,\"showland\":true,\"subunitcolor\":\"white\"},\"hoverlabel\":{\"align\":\"left\"},\"hovermode\":\"closest\",\"mapbox\":{\"style\":\"light\"},\"paper_bgcolor\":\"white\",\"plot_bgcolor\":\"#E5ECF6\",\"polar\":{\"angularaxis\":{\"gridcolor\":\"white\",\"linecolor\":\"white\",\"ticks\":\"\"},\"bgcolor\":\"#E5ECF6\",\"radialaxis\":{\"gridcolor\":\"white\",\"linecolor\":\"white\",\"ticks\":\"\"}},\"scene\":{\"xaxis\":{\"backgroundcolor\":\"#E5ECF6\",\"gridcolor\":\"white\",\"gridwidth\":2,\"linecolor\":\"white\",\"showbackground\":true,\"ticks\":\"\",\"zerolinecolor\":\"white\"},\"yaxis\":{\"backgroundcolor\":\"#E5ECF6\",\"gridcolor\":\"white\",\"gridwidth\":2,\"linecolor\":\"white\",\"showbackground\":true,\"ticks\":\"\",\"zerolinecolor\":\"white\"},\"zaxis\":{\"backgroundcolor\":\"#E5ECF6\",\"gridcolor\":\"white\",\"gridwidth\":2,\"linecolor\":\"white\",\"showbackground\":true,\"ticks\":\"\",\"zerolinecolor\":\"white\"}},\"shapedefaults\":{\"line\":{\"color\":\"#2a3f5f\"}},\"ternary\":{\"aaxis\":{\"gridcolor\":\"white\",\"linecolor\":\"white\",\"ticks\":\"\"},\"baxis\":{\"gridcolor\":\"white\",\"linecolor\":\"white\",\"ticks\":\"\"},\"bgcolor\":\"#E5ECF6\",\"caxis\":{\"gridcolor\":\"white\",\"linecolor\":\"white\",\"ticks\":\"\"}},\"title\":{\"x\":0.05},\"xaxis\":{\"automargin\":true,\"gridcolor\":\"white\",\"linecolor\":\"white\",\"ticks\":\"\",\"title\":{\"standoff\":15},\"zerolinecolor\":\"white\",\"zerolinewidth\":2},\"yaxis\":{\"automargin\":true,\"gridcolor\":\"white\",\"linecolor\":\"white\",\"ticks\":\"\",\"title\":{\"standoff\":15},\"zerolinecolor\":\"white\",\"zerolinewidth\":2}}},\"polar\":{\"radialaxis\":{\"visible\":true}},\"showlegend\":true},                        {\"responsive\": true}                    ).then(function(){\n",
       "                            \n",
       "var gd = document.getElementById('085592f8-61cd-4e5e-8e01-6b907f706933');\n",
       "var x = new MutationObserver(function (mutations, observer) {{\n",
       "        var display = window.getComputedStyle(gd).display;\n",
       "        if (!display || display === 'none') {{\n",
       "            console.log([gd, 'removed!']);\n",
       "            Plotly.purge(gd);\n",
       "            observer.disconnect();\n",
       "        }}\n",
       "}});\n",
       "\n",
       "// Listen for the removal of the full notebook cells\n",
       "var notebookContainer = gd.closest('#notebook-container');\n",
       "if (notebookContainer) {{\n",
       "    x.observe(notebookContainer, {childList: true});\n",
       "}}\n",
       "\n",
       "// Listen for the clearing of the current output cell\n",
       "var outputEl = gd.closest('.output');\n",
       "if (outputEl) {{\n",
       "    x.observe(outputEl, {childList: true});\n",
       "}}\n",
       "\n",
       "                        })                };                });            </script>        </div>"
      ]
     },
     "metadata": {},
     "output_type": "display_data"
    }
   ],
   "source": [
    "del2_mean = df_del2[['numatoms','mw', 'fsp3', 'HBA', 'HBD', 'stereo', 'ring', 'rotbond', 'qed', 'logd']].mean()\n",
    "del2_std = df_del2[['numatoms','mw', 'fsp3', 'HBA', 'HBD', 'stereo', 'ring', 'rotbond', 'qed', 'logd']].std()\n",
    "del2_min = df_del2[['numatoms','mw', 'fsp3', 'HBA', 'HBD', 'stereo', 'ring', 'rotbond', 'qed', 'logd']].min()\n",
    "del2_max = df_del2[['numatoms','mw', 'fsp3', 'HBA', 'HBD', 'stereo', 'ring', 'rotbond', 'qed', 'logd']].max()\n",
    "print(del2_mean)\n",
    "print(del2_std)\n",
    "print(del2_min)\n",
    "print(drugs_max)\n",
    "\n",
    "val = []\n",
    "ax = molprop.copy()\n",
    "#dl_max = [55,500,0.5,10,5,1,3,10,0.6,5]\n",
    "#dl_min = [30,160,0,0,0,0,0,6,0.4,0]\n",
    "scale = [1,1,1,1,1,1,1,1,1,1]\n",
    "val_width = [5,12,15,8,16,32,64,10,20,40]\n",
    "val_min = []\n",
    "val_max = []\n",
    "\n",
    "for i in range(0,len(del2_mean)):\n",
    "    val_width[i] = del2_std[i]\n",
    "\n",
    "for i in range(0,len(del2_mean)):\n",
    "    #print(i)\n",
    "    j = del2_mean[i]\n",
    "    if ax[i] in ['qed','fsp3']:\n",
    "        val.append(j)\n",
    "        jmin = j-val_width[i]\n",
    "        jmax = j+val_width[i]\n",
    "        val_min.append(jmin)\n",
    "        val_max.append(jmax)\n",
    "        print(i,j, ax[i])\n",
    "        val_width[i] = del2_std[i]\n",
    "    else:\n",
    "        amin = min(drugs_min[i],druglike_min[i],del2_min[i])\n",
    "        if amin > 0:\n",
    "            amin = 0\n",
    "        amax = max(drugs_max[i],druglike_max[i],del2_max[i])\n",
    "        scale[i] = amax - amin\n",
    "        jmin = (j-val_width[i]-amin)/scale[i]\n",
    "        jmax = (j+val_width[i]-amin)/scale[i]\n",
    "        val_min.append(jmin)\n",
    "        val_max.append(jmax)\n",
    "        j = (j-amin)/scale[i]\n",
    "        val.append(j)\n",
    "        dl_max[i] = (druglike_max[i]-amin)/scale[i]\n",
    "        dl_min[i] = (druglike_min[i]-amin)/scale[i]\n",
    "        val_width[i] = del2_std[i]/scale[i]\n",
    "\n",
    "print()\n",
    "print(scale)\n",
    "print(val)\n",
    "print('Likeness')\n",
    "print(dl_max)\n",
    "print(dl_min)  \n",
    "print('Drugs')\n",
    "print(val_min)\n",
    "print(val_max)\n",
    "\n",
    "ax.append(ax[0])\n",
    "val.append(val[0])\n",
    "val_min.append(val_min[0])\n",
    "val_max.append(val_max[0])\n",
    "dl_max.append(dl_max[0])\n",
    "dl_min.append(dl_min[0])\n",
    "\n",
    "fig = go.Figure()\n",
    "\n",
    "fig.add_trace(go.Scatterpolar(\n",
    "    name = 'Druglikeness (lower)',\n",
    "  r=dl_min,\n",
    "  theta=ax,\n",
    "    opacity =.25,\n",
    "    #fillcolor = 'white',\n",
    "    line = dict(color = 'green')\n",
    "  #fill='none'\n",
    "))\n",
    "\n",
    "fig.add_trace(go.Scatterpolar(name = 'Druglikeness (upper)',\n",
    "  r=dl_max,\n",
    "  theta=ax,\n",
    "    line = dict(color = 'green'),\n",
    "    opacity = .5,\n",
    "    fillcolor = 'silver',\n",
    "  fill='tonext'\n",
    "))\n",
    "\n",
    "\n",
    "fig.add_trace(go.Scatterpolar(name = 'DEL2',\n",
    "  r=val,\n",
    "  theta=ax,\n",
    "    line = dict(width = 5, color = 'blue'),\n",
    "    marker = dict(size=val_width, color = 'blue', symbol = 'circle', gradient = dict(type = 'radial',color = 'lightblue'))\n",
    "    \n",
    "  #fill='toself'\n",
    "))\n",
    "\n",
    "fig.update_layout(\n",
    "  polar=dict(\n",
    "    radialaxis=dict(\n",
    "      visible=True\n",
    "    ),\n",
    "  ),\n",
    "  showlegend=True\n",
    ")\n",
    "\n",
    "fig.show()\n",
    "\n",
    "\n",
    "##### Double Trace #####\n",
    "\n",
    "#val_max = []\n",
    "\n",
    "#for i in val:\n",
    "#    j = i+.1\n",
    "#    val_max.append(j)\n",
    "    \n",
    "fig2 = go.Figure()\n",
    "\n",
    "fig2.add_trace(go.Scatterpolar(\n",
    "    name = 'Druglikeness (lower)', showlegend=False,\n",
    "  r=dl_min,\n",
    "  theta=ax,\n",
    "    opacity =.25,\n",
    "    #fillcolor = 'white',\n",
    "    line = dict(color = 'green')\n",
    "  #fill='none'\n",
    "))\n",
    "\n",
    "fig2.add_trace(go.Scatterpolar(name = 'Druglikeness (upper)',\n",
    "  r=dl_max,\n",
    "  theta=ax,\n",
    "    line = dict(color = 'green'),\n",
    "    opacity = .5,\n",
    "    fillcolor = 'silver',\n",
    "  fill='tonext'\n",
    "))\n",
    "\n",
    "\n",
    "fig2.add_trace(go.Scatterpolar(name = 'Del2', showlegend=False,\n",
    "  r=val_min,\n",
    "  theta=ax,\n",
    "    line = dict(width = 2, color = 'blue'),\n",
    "    #marker = dict(size=val_width, color = 'blue', symbol = 'circle', gradient = dict(type = 'radial',color = 'lightblue'))\n",
    "    marker = dict(size = 1)\n",
    "    \n",
    "  #fill='toself'\n",
    "))\n",
    "\n",
    "\n",
    "fig2.add_trace(go.Scatterpolar(name = 'DEL2',\n",
    "  r=val_max,\n",
    "  theta=ax,\n",
    "    line = dict(width = 2, color = 'blue'),\n",
    "    #marker = dict(size=val_width, color = 'blue', symbol = 'circle', gradient = dict(type = 'radial',color = 'lightblue'))\n",
    "    marker = dict(size = 1),\n",
    "  fill='tonext'\n",
    "))\n",
    "\n",
    "fig2.update_layout(\n",
    "  polar=dict(\n",
    "    radialaxis=dict(\n",
    "      visible=True\n",
    "    ),\n",
    "  ),\n",
    "  showlegend=True\n",
    ")\n",
    "\n",
    "fig2.show()"
   ]
  },
  {
   "cell_type": "code",
   "execution_count": 2,
   "id": "4f75ede4",
   "metadata": {},
   "outputs": [
    {
     "data": {
      "text/plain": [
       "['/mnt/raid1/Python_projects/Neural_Network',\n",
       " '/home/peter/anaconda3/envs/rdkit/lib/python37.zip',\n",
       " '/home/peter/anaconda3/envs/rdkit/lib/python3.7',\n",
       " '/home/peter/anaconda3/envs/rdkit/lib/python3.7/lib-dynload',\n",
       " '',\n",
       " '/home/peter/anaconda3/envs/rdkit/lib/python3.7/site-packages',\n",
       " '/home/peter/anaconda3/envs/rdkit/lib/python3.7/site-packages/IPython/extensions',\n",
       " '/home/peter/.ipython']"
      ]
     },
     "execution_count": 2,
     "metadata": {},
     "output_type": "execute_result"
    }
   ],
   "source": [
    "import sys\n",
    "sys.path"
   ]
  },
  {
   "cell_type": "code",
   "execution_count": 3,
   "id": "c687db5b",
   "metadata": {},
   "outputs": [],
   "source": [
    "sys.path.append('../pkg_mod')"
   ]
  },
  {
   "cell_type": "code",
   "execution_count": 22,
   "id": "0fdc67f1",
   "metadata": {},
   "outputs": [
    {
     "name": "stdout",
     "output_type": "stream",
     "text": [
      "[('C1=CC=C(C(=C1)N)SC(=C(C#N)C(=C(N)SC2=CC=CC=C2N)C#N)N',)\n",
      " ('CC1CNCCN1S(=O)(=O)C2=CC=CC3=C2C=CN=C3',)\n",
      " ('C1=CC2=C(C=CN=C2)C(=C1)S(=O)(=O)NCCN',) ('C(CC(C(=O)O)N)CN=C(N)N',)\n",
      " ('C1CN(CCN1CC=CC2=CC=CC=C2)C(C3=CC=C(C=C3)F)C4=CC=C(C=C4)F.Cl.Cl',)\n",
      " ('CC1=C(C(C(=C(N1)C)C(=O)OC)C2=CC=CC=C2[N+](=O)[O-])C(=O)OC',)\n",
      " ('CC(C)(C)C1=CC(=CC(=C1O)C(C)(C)C)C=C(C#N)C#N',)\n",
      " ('CC1=C(C(C(=C(N1)C)C(=O)OCCN(C)CC2=CC=CC=C2)C3=CC(=CC=C3)[N+](=O)[O-])C(=O)OC.Cl',)\n",
      " ('C1CN(CCC1N2C3=CC=CC=C3NC2=O)CCCC(C4=CC=C(C=C4)F)C5=CC=C(C=C5)F',)\n",
      " ('C1COCCN1C2=CC(=O)C3=C(O2)C(=CC=C3)C4=CC=CC=C4',)\n",
      " ('CN(C)C(=O)C(CCN1CCC(CC1)(C2=CC=C(C=C2)Cl)O)(C3=CC=CC=C3)C4=CC=CC=C4.Cl',)\n",
      " ('CC(=O)OC1CC2(C(CCC2=O)C3=C1C4(C(OC(=O)C5=COC(=C54)C3=O)COC)C)C',)\n",
      " ('C1=CC(=C(C=C1CN=C(N)NC(=O)C2=C(N=C(C(=N2)Cl)N)N)Cl)Cl',)\n",
      " ('CC1=CC(=O)C2=C(C3=C(C=C(C4=C3C5=C2C1=C6C(=CC(=O)C7=C(C8=C(C=C(C4=C8C5=C67)O)O)O)C)O)O)O',)\n",
      " ('C1=CC2=C(C=CN=C2)C(=C1)S(=O)(=O)NCCNCC=CC3=CC=C(C=C3)Br',)\n",
      " ('COC1=C(C=C(C=C1)Cl)C(=O)NCCC2=CC=C(C=C2)S(=O)(=O)NC(=O)NC3CCCCC3',)\n",
      " ('CN(C(CC1=CC=C(C=C1)OS(=O)(=O)C2=CC=CC3=C2C=CN=C3)C(=O)N4CCN(CC4)C5=CC=CC=C5)S(=O)(=O)C6=CC=CC7=C6C=CN=C7',)\n",
      " ('C1CNCCN(C1)S(=O)(=O)C2=CC=CC3=C2C=CC=C3I',)\n",
      " ('C1CNCCN(C1)S(=O)(=O)C2=CC=CC3=C2C=CC=C3Cl.Cl',)\n",
      " ('C1=C(C2=C(N=CN=C2N1C3C(C(C(O3)CO)O)O)N)I',)\n",
      " ('CC1=C(C(=C(C(=C1O)C(=O)C)O)CC2=C(C(=C3C(=C2O)C=CC(O3)(C)C)C(=O)C=CC4=CC=CC=C4)O)O',)\n",
      " ('COC(=O)C=CC1=C(C=CC(=C1)O)O',) ('CC1(C2CCC(C1(C)C(=O)O)O2)C(=O)O',)\n",
      " ('CCCCCC=CCC=CCC=CCCCCCCC(=O)N',)\n",
      " ('CC(C)(C)C1=CC(=CC(=C1O)C(C)(C)C)C=C(C#N)C(=S)N',)\n",
      " ('CN(CC=CC1=CC=C(C=C1)Cl)CC2=CC=CC=C2N(CCO)S(=O)(=O)C3=CC=C(C=C3)OC',)\n",
      " ('CC1C(C(CC(O1)OC2C(OC(CC2O)OC3C(OC(CC3O)OC4CCC5(C(C4)CCC6C5CC(C7(C6(CCC7C8=CC(=O)OC8)O)C)O)C)C)C)O)O',)\n",
      " ('CC12CCC(CC1CCC3C2CCC4(C3(CCC4C5=CC(=O)OC5)O)C)O',)\n",
      " ('CC(CN1C=NC2=C1C(=O)N(C(=O)N2C)C)O',)\n",
      " ('CC1C(C(CC(O1)OC2CCC3(C(C2)CCC4C3CC(C5(C4(CCC5C6=CC(=O)OC6)O)C)O)C)O)OC7CC(C(C(O7)C)OC8CC(C(C(O8)C)OC9C(C(C(C(O9)CO)O)O)O)OC(=O)C)O',)\n",
      " ('CCOC1=C(C2=CC=CC=C2C=C1)C(=O)NC3C4N(C3=O)C(C(S4)(C)C)C(=O)[O-].O.[Na+]',)\n",
      " ('C1CCC(CC1)NC(=S)N2CCC(CC2)C3=CN=CN3.C(=CC(=O)O)C(=O)O',)\n",
      " ('C1COCCN1C(=O)NCCNCC(COC2=CC=C(C=C2)O)O.C1COCCN1C(=O)NCCNCC(COC2=CC=C(C=C2)O)O.C(=CC(=O)O)C(=O)O',)\n",
      " ('C1C(C(C(C(C1N)OC2C(C(C(C(O2)CN)O)O)N)OC3C(C(C(O3)CO)O)O)O)N',)\n",
      " ('C1=NC2=C(N1C3C(C(C(O3)CO)O)O)NC(=NC2=S)N',)\n",
      " ('C1=NC(=NC(=O)N1C2C(C(C(O2)CO)O)O)N',)\n",
      " ('CCCCCCC1C(C(OC(=O)C(C(OC1=O)C)NC(=O)C2=C(C(=CC=C2)NC=O)O)C)OC(=O)CC(C)C',)\n",
      " ('CCOC1=CC2=C(C=C1)NC(C=C2C)(C)C',)\n",
      " ('CC(C(C1=CC=C(C=C1)O)O)NCCC2=CC=C(C=C2)O.Cl',)\n",
      " ('CC1C(C(CC(O1)OC2CC(CC3=C2C(=C4C(=C3O)C(=O)C5=C(C4=O)C(=CC=C5)OC)O)(C(=O)CO)O)N)O.Cl',)\n",
      " ('COC1=CC=C(C=C1)CCN2CCC(CC2)NC3=NC4=CC=CC=C4N3CC5=CC=C(C=C5)F',)\n",
      " ('CN(C)CCN(CC1=CC=C(C=C1)Cl)C2=CC=CC=N2.Cl',)\n",
      " ('CC1=CCCC2(C(O2)C3C(CC1)C(=C)C(=O)O3)C',)\n",
      " ('C1=CC(=C2C(=C1NCCNCCO)C(=O)C3=C(C=CC(=C3C2=O)O)O)NCCNCCO.Cl.Cl',)\n",
      " ('CC1OCC2C(O1)C(C(C(O2)OC3C4COC(=O)C4C(C5=CC6=C(C=C35)OCO6)C7=CC(=C(C(=C7)OC)O)OC)O)O',)\n",
      " ('CC1=CC2=C(C(=C(C(=C2C(C)C)O)O)C=O)C(=C1C3=C(C4=C(C=C3C)C(=C(C(=C4C=O)O)O)C(C)C)O)O',)\n",
      " ('C1=CC(=CC=C1C#N)C(C2=CC=C(C=C2)C#N)N3C=NC=N3',)\n",
      " ('CC1=CC(=O)N(C(=C1)C2CCCCC2)O.C(CO)N',)\n",
      " ('CC(C)(C)CC(C)(C)C1=CC=C(C=C1)OCCOCC[N+](C)(C)CC2=CC=CC=C2.[Cl-]',)\n",
      " ('CCC1CN2CCC3=CC(=C(C=C3C2CC1CC4C5=CC(=C(C=C5CCN4)O)OC)OC)OC.O.O.O.O.O.O.O.Cl.Cl',)\n",
      " ('CCC1(C2=C(COC1=O)C(=O)N3CC4=CC5=CC=CC=C5N=C4C3=C2)O',)\n",
      " ('CN(C)C1=NC=NC2=C1N=CN2C3C(C(C(O3)CO)NC(=O)C(CC4=CC=C(C=C4)OC)N)O.Cl.Cl',)]\n",
      "\n",
      "[('C1=CC=C(C(=C1)N)SC(=C(C#N)C(=C(N)SC2=CC=CC=C2N)C#N)N',), ('CC1CNCCN1S(=O)(=O)C2=CC=CC3=C2C=CN=C3',), ('C1=CC2=C(C=CN=C2)C(=C1)S(=O)(=O)NCCN',), ('C(CC(C(=O)O)N)CN=C(N)N',), ('C1CN(CCN1CC=CC2=CC=CC=C2)C(C3=CC=C(C=C3)F)C4=CC=C(C=C4)F',), ('Cl',), ('CC1=C(C(C(=C(N1)C)C(=O)OC)C2=CC=CC=C2[N+](=O)[O-])C(=O)OC',), ('CC(C)(C)C1=CC(=CC(=C1O)C(C)(C)C)C=C(C#N)C#N',), ('CC1=C(C(C(=C(N1)C)C(=O)OCCN(C)CC2=CC=CC=C2)C3=CC(=CC=C3)[N+](=O)[O-])C(=O)OC',), ('C1CN(CCC1N2C3=CC=CC=C3NC2=O)CCCC(C4=CC=C(C=C4)F)C5=CC=C(C=C5)F',), ('C1COCCN1C2=CC(=O)C3=C(O2)C(=CC=C3)C4=CC=CC=C4',), ('CN(C)C(=O)C(CCN1CCC(CC1)(C2=CC=C(C=C2)Cl)O)(C3=CC=CC=C3)C4=CC=CC=C4',), ('CC(=O)OC1CC2(C(CCC2=O)C3=C1C4(C(OC(=O)C5=COC(=C54)C3=O)COC)C)C',), ('C1=CC(=C(C=C1CN=C(N)NC(=O)C2=C(N=C(C(=N2)Cl)N)N)Cl)Cl',), ('CC1=CC(=O)C2=C(C3=C(C=C(C4=C3C5=C2C1=C6C(=CC(=O)C7=C(C8=C(C=C(C4=C8C5=C67)O)O)O)C)O)O)O',), ('C1=CC2=C(C=CN=C2)C(=C1)S(=O)(=O)NCCNCC=CC3=CC=C(C=C3)Br',), ('COC1=C(C=C(C=C1)Cl)C(=O)NCCC2=CC=C(C=C2)S(=O)(=O)NC(=O)NC3CCCCC3',), ('CN(C(CC1=CC=C(C=C1)OS(=O)(=O)C2=CC=CC3=C2C=CN=C3)C(=O)N4CCN(CC4)C5=CC=CC=C5)S(=O)(=O)C6=CC=CC7=C6C=CN=C7',), ('C1CNCCN(C1)S(=O)(=O)C2=CC=CC3=C2C=CC=C3I',), ('C1CNCCN(C1)S(=O)(=O)C2=CC=CC3=C2C=CC=C3Cl',), ('C1=C(C2=C(N=CN=C2N1C3C(C(C(O3)CO)O)O)N)I',), ('CC1=C(C(=C(C(=C1O)C(=O)C)O)CC2=C(C(=C3C(=C2O)C=CC(O3)(C)C)C(=O)C=CC4=CC=CC=C4)O)O',), ('COC(=O)C=CC1=C(C=CC(=C1)O)O',), ('CC1(C2CCC(C1(C)C(=O)O)O2)C(=O)O',), ('CCCCCC=CCC=CCC=CCCCCCCC(=O)N',), ('CC(C)(C)C1=CC(=CC(=C1O)C(C)(C)C)C=C(C#N)C(=S)N',), ('CN(CC=CC1=CC=C(C=C1)Cl)CC2=CC=CC=C2N(CCO)S(=O)(=O)C3=CC=C(C=C3)OC',), ('CC1C(C(CC(O1)OC2C(OC(CC2O)OC3C(OC(CC3O)OC4CCC5(C(C4)CCC6C5CC(C7(C6(CCC7C8=CC(=O)OC8)O)C)O)C)C)C)O)O',), ('CC12CCC(CC1CCC3C2CCC4(C3(CCC4C5=CC(=O)OC5)O)C)O',), ('CC(CN1C=NC2=C1C(=O)N(C(=O)N2C)C)O',), ('CC1C(C(CC(O1)OC2CCC3(C(C2)CCC4C3CC(C5(C4(CCC5C6=CC(=O)OC6)O)C)O)C)O)OC7CC(C(C(O7)C)OC8CC(C(C(O8)C)OC9C(C(C(C(O9)CO)O)O)O)OC(=O)C)O',), ('CCOC1=C(C2=CC=CC=C2C=C1)C(=O)NC3C4N(C3=O)C(C(S4)(C)C)C(=O)[O-]',), ('O',), ('[Na+]',), ('C1CCC(CC1)NC(=S)N2CCC(CC2)C3=CN=CN3',), ('C(=CC(=O)O)C(=O)O',), ('C1COCCN1C(=O)NCCNCC(COC2=CC=C(C=C2)O)O',), ('C1C(C(C(C(C1N)OC2C(C(C(C(O2)CN)O)O)N)OC3C(C(C(O3)CO)O)O)O)N',), ('C1=NC2=C(N1C3C(C(C(O3)CO)O)O)NC(=NC2=S)N',), ('C1=NC(=NC(=O)N1C2C(C(C(O2)CO)O)O)N',), ('CCCCCCC1C(C(OC(=O)C(C(OC1=O)C)NC(=O)C2=C(C(=CC=C2)NC=O)O)C)OC(=O)CC(C)C',), ('CCOC1=CC2=C(C=C1)NC(C=C2C)(C)C',), ('CC(C(C1=CC=C(C=C1)O)O)NCCC2=CC=C(C=C2)O',), ('CC1C(C(CC(O1)OC2CC(CC3=C2C(=C4C(=C3O)C(=O)C5=C(C4=O)C(=CC=C5)OC)O)(C(=O)CO)O)N)O',), ('COC1=CC=C(C=C1)CCN2CCC(CC2)NC3=NC4=CC=CC=C4N3CC5=CC=C(C=C5)F',), ('CN(C)CCN(CC1=CC=C(C=C1)Cl)C2=CC=CC=N2',), ('CC1=CCCC2(C(O2)C3C(CC1)C(=C)C(=O)O3)C',), ('C1=CC(=C2C(=C1NCCNCCO)C(=O)C3=C(C=CC(=C3C2=O)O)O)NCCNCCO',), ('CC1OCC2C(O1)C(C(C(O2)OC3C4COC(=O)C4C(C5=CC6=C(C=C35)OCO6)C7=CC(=C(C(=C7)OC)O)OC)O)O',), ('CC1=CC2=C(C(=C(C(=C2C(C)C)O)O)C=O)C(=C1C3=C(C4=C(C=C3C)C(=C(C(=C4C=O)O)O)C(C)C)O)O',), ('C1=CC(=CC=C1C#N)C(C2=CC=C(C=C2)C#N)N3C=NC=N3',), ('CC1=CC(=O)N(C(=C1)C2CCCCC2)O',), ('C(CO)N',), ('CC(C)(C)CC(C)(C)C1=CC=C(C=C1)OCCOCC[N+](C)(C)CC2=CC=CC=C2',), ('[Cl-]',), ('CCC1CN2CCC3=CC(=C(C=C3C2CC1CC4C5=CC(=C(C=C5CCN4)O)OC)OC)OC',), ('CCC1(C2=C(COC1=O)C(=O)N3CC4=CC5=CC=CC=C5N=C4C3=C2)O',), ('CN(C)C1=NC=NC2=C1N=CN2C3C(C(C(O3)CO)NC(=O)C(CC4=CC=C(C=C4)OC)N)O',)]\n"
     ]
    }
   ],
   "source": [
    "struct_list = []\n",
    "print(struct_raw)\n",
    "print()\n",
    "\n",
    "for i in struct_raw:\n",
    "    #print(i)\n",
    "    a = i[0].split('.')\n",
    "    #print(a)\n",
    "    for j in a:\n",
    "        b = (j,)\n",
    "        #print(j, b)\n",
    "        if b not in struct_list:\n",
    "            struct_list.append(b)\n",
    "\n",
    "print(struct_list)\n",
    "        "
   ]
  },
  {
   "cell_type": "code",
   "execution_count": null,
   "id": "fb11d868",
   "metadata": {},
   "outputs": [],
   "source": [
    "dfm = pd.read_excel(\"../Drug_Libraries/L1021-DiscoveryProbe-FDA-approved-Drug-Library.xlsx\", sheet_name=1)\n",
    "#print(dfm)\n",
    "dfr = dfm['SMILES']\n",
    "#print(dfr)\n",
    "\n",
    "drug_list = list_prep(dfr)\n",
    "\n",
    "for i in range(0, len(dfr)):\n",
    "    j = dfr[i]\n",
    "    #print(j, type(j))\n",
    "    if type(j) == str:\n",
    "        j = j.split('.')\n",
    "        for k in j:\n",
    "            try:\n",
    "                #print(k)\n",
    "                m = Chem.MolFromSmiles(k)\n",
    "                numatoms = rdch.Mol.GetNumAtoms(m)\n",
    "                if numatoms >5:\n",
    "                    #print(k, numatoms)\n",
    "                    a = (k,m)\n",
    "                    if a not in drug_list:\n",
    "                        drug_list.append(a)\n",
    "            except:\n",
    "                #print(j,k, ' - no valid SMILES/Molecule')\n",
    "                pass\n",
    "        \n",
    "\n",
    "print(len(drug_list))\n",
    "print()\n",
    "print(drug_list)"
   ]
  },
  {
   "cell_type": "code",
   "execution_count": null,
   "id": "da891155",
   "metadata": {},
   "outputs": [],
   "source": [
    "drug_temp = []\n",
    "\n",
    "\n",
    "for i in drug_list:\n",
    "    smiles = i[0]\n",
    "    m = i[1]\n",
    "    numatoms = rdch.Mol.GetNumHeavyAtoms(m)\n",
    "    mw = rdd.ExactMolWt(m)\n",
    "    fsp3 = rdmd.CalcFractionCSP3(m)\n",
    "    HBA = rdmd.CalcNumLipinskiHBA(m)\n",
    "    HBD = rdmd.CalcNumLipinskiHBD(m)\n",
    "    stereo = rdmd.CalcNumAtomStereoCenters(m)\n",
    "    ring = rdmd.CalcNumRings(m)\n",
    "    rotbond = rdmd.CalcNumRotatableBonds(m)\n",
    "    qed = Chem.QED.qed(m)\n",
    "    logd = Chem.Crippen.MolLogP(m)\n",
    "    tpsa = rdmd.CalcTPSA(m)\n",
    "    #print(smiles, numatoms,mw, fsp3, HBA, HBD, stereo, ring, rotbond, qed, logd)\n",
    "    a = [smiles, numatoms,mw, fsp3, HBA, HBD, stereo, ring, rotbond, qed, logd,tpsa]\n",
    "    drug_temp.append(a)\n",
    "    \n",
    "#df_drugs = pd.DataFrame(drug_temp, columns = ['smiles', 'numatoms','mw', 'fsp3', 'HBA', 'HBD', 'stereo', 'ring', 'rotbond', 'qed', 'logd','tpsa'])\n",
    "d = ['smiles']\n",
    "for i in molprop:\n",
    "    d.append(i)\n",
    "    \n",
    "print(d)\n",
    "    \n",
    "df_drugs = pd.DataFrame(drug_temp, columns = d)\n",
    "print(df_drugs)"
   ]
  }
 ],
 "metadata": {
  "kernelspec": {
   "display_name": "Python 3 (ipykernel)",
   "language": "python",
   "name": "python3"
  },
  "language_info": {
   "codemirror_mode": {
    "name": "ipython",
    "version": 3
   },
   "file_extension": ".py",
   "mimetype": "text/x-python",
   "name": "python",
   "nbconvert_exporter": "python",
   "pygments_lexer": "ipython3",
   "version": "3.7.13"
  }
 },
 "nbformat": 4,
 "nbformat_minor": 5
}
