{
 "cells": [
  {
   "cell_type": "code",
   "execution_count": 1,
   "id": "75f7eddc",
   "metadata": {},
   "outputs": [],
   "source": [
    "import sys\n",
    "sys.path.append('../pkg_mod')\n",
    "\n",
    "import db_connector as db\n",
    "import chemistry_psql as cp\n",
    "import importlib\n",
    "importlib.reload(cp)\n",
    "import psycopg2\n",
    "import pandas as pd\n",
    "from rdkit import Chem\n",
    "from rdkit.Chem import rdchem as rdch\n",
    "from rdkit.Chem import Descriptors as rdd\n",
    "from rdkit.Chem import rdMolDescriptors as rdmd\n",
    "#from rdkit.Chem import SaltRemover as rdsr\n",
    "from rdkit.Chem import PandasTools\n",
    "import plotly.graph_objects as go"
   ]
  },
  {
   "cell_type": "code",
   "execution_count": 2,
   "id": "96686fc8",
   "metadata": {},
   "outputs": [],
   "source": [
    "##### Global Variables #####\n",
    "\n",
    "molprop = ['Atoms','MW', 'fSP3', 'HBA', 'HBD', 'Stereo Atoms', 'Rings', 'Rotatable Bonds', 'QED', 'logD','TPSA']\n",
    "\n",
    "### Druglikeness Boundaries ###\n",
    "### Lipinski\n",
    "### Veber\n",
    "### Ghosh\n",
    "druglike_max = [55,500,0.5,10,5,1,3,10,0.6,5,140]\n",
    "druglike_min = [30,160,0,0,0,0,0,6,0.4,0,0]"
   ]
  },
  {
   "cell_type": "code",
   "execution_count": 11,
   "id": "89bd4b56",
   "metadata": {},
   "outputs": [],
   "source": [
    "##### Function Definitions #####\n",
    "\n",
    "### Calculate Descriptor Space\n",
    "\n",
    "def collection_properties(dlist):\n",
    "\n",
    "    d_temp = []\n",
    "    line_count = 0\n",
    "    \n",
    "    if len(dlist) > 50:\n",
    "        d_lines = min(int(len(dlist)/50),1000)\n",
    "    else:\n",
    "        d_lines = 50\n",
    "\n",
    "    for i in dlist:\n",
    "        smiles = i[0]\n",
    "        m = i[1]\n",
    "        numatoms = rdch.Mol.GetNumHeavyAtoms(m)\n",
    "        mw = rdd.ExactMolWt(m)\n",
    "        fsp3 = rdmd.CalcFractionCSP3(m)\n",
    "        HBA = rdmd.CalcNumLipinskiHBA(m)\n",
    "        HBD = rdmd.CalcNumLipinskiHBD(m)\n",
    "        stereo = rdmd.CalcNumAtomStereoCenters(m)\n",
    "        ring = rdmd.CalcNumRings(m)\n",
    "        rotbond = rdmd.CalcNumRotatableBonds(m)\n",
    "        qed = Chem.QED.qed(m)\n",
    "        logd = Chem.Crippen.MolLogP(m)\n",
    "        tpsa = rdmd.CalcTPSA(m)\n",
    "        #print(smiles, numatoms,mw, fsp3, HBA, HBD, stereo, ring, rotbond, qed, logd)\n",
    "        a = [smiles, numatoms,mw, fsp3, HBA, HBD, stereo, ring, rotbond, qed, logd,tpsa]\n",
    "        d_temp.append(a)\n",
    "        line_count = line_count+1\n",
    "        if (line_count % d_lines) == 0:\n",
    "            print('Lines processed : ', line_count)\n",
    "    \n",
    "    #df_drugs = pd.DataFrame(drug_temp, columns = ['smiles', 'numatoms','mw', 'fsp3', 'HBA', 'HBD', 'stereo', 'ring', 'rotbond', 'qed', 'logd','tpsa'])\n",
    "    d = ['smiles']\n",
    "    for i in molprop:\n",
    "        d.append(i)\n",
    "    \n",
    "    #print(d)\n",
    "    df_d = pd.DataFrame(d_temp, columns = d)\n",
    "    \n",
    "    return df_d\n",
    "\n",
    "### Preparing the Compound Lists\n",
    "\n",
    "def list_prep(dlist):\n",
    "    temp_list = []\n",
    "    line_count = 0\n",
    "    \n",
    "    if len(dlist) > 50:\n",
    "        d_lines = min(int(len(dlist)/50),1000)\n",
    "    else:\n",
    "        d_lines = 50\n",
    "        \n",
    "    print(len(dlist), d_lines)\n",
    "\n",
    "    for i in range(0, len(dlist)):\n",
    "        j = dfr[i]\n",
    "        #print(j, type(j))\n",
    "        #print(line_count)\n",
    "        if (line_count % d_lines) == 0:\n",
    "            print('Lines processed : ', line_count)\n",
    "        line_count = line_count+1\n",
    "        if type(j) == str:\n",
    "            j = j.split('.')\n",
    "            for k in j:\n",
    "                try:\n",
    "                    #print(line_count, k)\n",
    "                    m = Chem.MolFromSmiles(k)\n",
    "                    numatoms = rdch.Mol.GetNumAtoms(m)\n",
    "                    if numatoms >5:\n",
    "                        #print(k, numatoms)\n",
    "                        a = (k,m)\n",
    "                        if a not in temp_list:\n",
    "                            temp_list.append(a)\n",
    "                except:\n",
    "                    #print(j,k, ' - no valid SMILES/Molecule')\n",
    "                    pass\n",
    "        \n",
    "        #line_count = line_count+1\n",
    "            \n",
    "    return temp_list\n",
    "        "
   ]
  },
  {
   "cell_type": "code",
   "execution_count": 4,
   "id": "02c0c4ca",
   "metadata": {},
   "outputs": [
    {
     "ename": "FileNotFoundError",
     "evalue": "[Errno 2] No such file or directory: '../Drug_Libraries/L1021_FDA_Drugs.csv'",
     "output_type": "error",
     "traceback": [
      "\u001b[1;31m---------------------------------------------------------------------------\u001b[0m",
      "\u001b[1;31mFileNotFoundError\u001b[0m                         Traceback (most recent call last)",
      "\u001b[1;32m~\\AppData\\Local\\Temp\\ipykernel_17144\\1851652804.py\u001b[0m in \u001b[0;36m<module>\u001b[1;34m\u001b[0m\n\u001b[0;32m      1\u001b[0m \u001b[1;31m##### Read and Prepare Druglists\u001b[0m\u001b[1;33m\u001b[0m\u001b[1;33m\u001b[0m\u001b[1;33m\u001b[0m\u001b[0m\n\u001b[0;32m      2\u001b[0m \u001b[1;33m\u001b[0m\u001b[0m\n\u001b[1;32m----> 3\u001b[1;33m \u001b[0mdfm\u001b[0m \u001b[1;33m=\u001b[0m \u001b[0mpd\u001b[0m\u001b[1;33m.\u001b[0m\u001b[0mread_csv\u001b[0m\u001b[1;33m(\u001b[0m\u001b[1;34m\"../Drug_Libraries/L1021_FDA_Drugs.csv\"\u001b[0m\u001b[1;33m,\u001b[0m \u001b[0mencoding\u001b[0m \u001b[1;33m=\u001b[0m \u001b[1;34m'UTF-8'\u001b[0m\u001b[1;33m)\u001b[0m\u001b[1;33m\u001b[0m\u001b[1;33m\u001b[0m\u001b[0m\n\u001b[0m\u001b[0;32m      4\u001b[0m \u001b[0mdfr\u001b[0m \u001b[1;33m=\u001b[0m \u001b[0mdfm\u001b[0m\u001b[1;33m[\u001b[0m\u001b[1;34m'SMILES'\u001b[0m\u001b[1;33m]\u001b[0m\u001b[1;33m\u001b[0m\u001b[1;33m\u001b[0m\u001b[0m\n\u001b[0;32m      5\u001b[0m \u001b[1;31m#print(dfr)\u001b[0m\u001b[1;33m\u001b[0m\u001b[1;33m\u001b[0m\u001b[1;33m\u001b[0m\u001b[0m\n",
      "\u001b[1;32m~\\anaconda3\\envs\\rdkit\\lib\\site-packages\\pandas\\util\\_decorators.py\u001b[0m in \u001b[0;36mwrapper\u001b[1;34m(*args, **kwargs)\u001b[0m\n\u001b[0;32m    309\u001b[0m                     \u001b[0mstacklevel\u001b[0m\u001b[1;33m=\u001b[0m\u001b[0mstacklevel\u001b[0m\u001b[1;33m,\u001b[0m\u001b[1;33m\u001b[0m\u001b[1;33m\u001b[0m\u001b[0m\n\u001b[0;32m    310\u001b[0m                 )\n\u001b[1;32m--> 311\u001b[1;33m             \u001b[1;32mreturn\u001b[0m \u001b[0mfunc\u001b[0m\u001b[1;33m(\u001b[0m\u001b[1;33m*\u001b[0m\u001b[0margs\u001b[0m\u001b[1;33m,\u001b[0m \u001b[1;33m**\u001b[0m\u001b[0mkwargs\u001b[0m\u001b[1;33m)\u001b[0m\u001b[1;33m\u001b[0m\u001b[1;33m\u001b[0m\u001b[0m\n\u001b[0m\u001b[0;32m    312\u001b[0m \u001b[1;33m\u001b[0m\u001b[0m\n\u001b[0;32m    313\u001b[0m         \u001b[1;32mreturn\u001b[0m \u001b[0mwrapper\u001b[0m\u001b[1;33m\u001b[0m\u001b[1;33m\u001b[0m\u001b[0m\n",
      "\u001b[1;32m~\\anaconda3\\envs\\rdkit\\lib\\site-packages\\pandas\\io\\parsers\\readers.py\u001b[0m in \u001b[0;36mread_csv\u001b[1;34m(filepath_or_buffer, sep, delimiter, header, names, index_col, usecols, squeeze, prefix, mangle_dupe_cols, dtype, engine, converters, true_values, false_values, skipinitialspace, skiprows, skipfooter, nrows, na_values, keep_default_na, na_filter, verbose, skip_blank_lines, parse_dates, infer_datetime_format, keep_date_col, date_parser, dayfirst, cache_dates, iterator, chunksize, compression, thousands, decimal, lineterminator, quotechar, quoting, doublequote, escapechar, comment, encoding, encoding_errors, dialect, error_bad_lines, warn_bad_lines, on_bad_lines, delim_whitespace, low_memory, memory_map, float_precision, storage_options)\u001b[0m\n\u001b[0;32m    584\u001b[0m     \u001b[0mkwds\u001b[0m\u001b[1;33m.\u001b[0m\u001b[0mupdate\u001b[0m\u001b[1;33m(\u001b[0m\u001b[0mkwds_defaults\u001b[0m\u001b[1;33m)\u001b[0m\u001b[1;33m\u001b[0m\u001b[1;33m\u001b[0m\u001b[0m\n\u001b[0;32m    585\u001b[0m \u001b[1;33m\u001b[0m\u001b[0m\n\u001b[1;32m--> 586\u001b[1;33m     \u001b[1;32mreturn\u001b[0m \u001b[0m_read\u001b[0m\u001b[1;33m(\u001b[0m\u001b[0mfilepath_or_buffer\u001b[0m\u001b[1;33m,\u001b[0m \u001b[0mkwds\u001b[0m\u001b[1;33m)\u001b[0m\u001b[1;33m\u001b[0m\u001b[1;33m\u001b[0m\u001b[0m\n\u001b[0m\u001b[0;32m    587\u001b[0m \u001b[1;33m\u001b[0m\u001b[0m\n\u001b[0;32m    588\u001b[0m \u001b[1;33m\u001b[0m\u001b[0m\n",
      "\u001b[1;32m~\\anaconda3\\envs\\rdkit\\lib\\site-packages\\pandas\\io\\parsers\\readers.py\u001b[0m in \u001b[0;36m_read\u001b[1;34m(filepath_or_buffer, kwds)\u001b[0m\n\u001b[0;32m    480\u001b[0m \u001b[1;33m\u001b[0m\u001b[0m\n\u001b[0;32m    481\u001b[0m     \u001b[1;31m# Create the parser.\u001b[0m\u001b[1;33m\u001b[0m\u001b[1;33m\u001b[0m\u001b[1;33m\u001b[0m\u001b[0m\n\u001b[1;32m--> 482\u001b[1;33m     \u001b[0mparser\u001b[0m \u001b[1;33m=\u001b[0m \u001b[0mTextFileReader\u001b[0m\u001b[1;33m(\u001b[0m\u001b[0mfilepath_or_buffer\u001b[0m\u001b[1;33m,\u001b[0m \u001b[1;33m**\u001b[0m\u001b[0mkwds\u001b[0m\u001b[1;33m)\u001b[0m\u001b[1;33m\u001b[0m\u001b[1;33m\u001b[0m\u001b[0m\n\u001b[0m\u001b[0;32m    483\u001b[0m \u001b[1;33m\u001b[0m\u001b[0m\n\u001b[0;32m    484\u001b[0m     \u001b[1;32mif\u001b[0m \u001b[0mchunksize\u001b[0m \u001b[1;32mor\u001b[0m \u001b[0miterator\u001b[0m\u001b[1;33m:\u001b[0m\u001b[1;33m\u001b[0m\u001b[1;33m\u001b[0m\u001b[0m\n",
      "\u001b[1;32m~\\anaconda3\\envs\\rdkit\\lib\\site-packages\\pandas\\io\\parsers\\readers.py\u001b[0m in \u001b[0;36m__init__\u001b[1;34m(self, f, engine, **kwds)\u001b[0m\n\u001b[0;32m    809\u001b[0m             \u001b[0mself\u001b[0m\u001b[1;33m.\u001b[0m\u001b[0moptions\u001b[0m\u001b[1;33m[\u001b[0m\u001b[1;34m\"has_index_names\"\u001b[0m\u001b[1;33m]\u001b[0m \u001b[1;33m=\u001b[0m \u001b[0mkwds\u001b[0m\u001b[1;33m[\u001b[0m\u001b[1;34m\"has_index_names\"\u001b[0m\u001b[1;33m]\u001b[0m\u001b[1;33m\u001b[0m\u001b[1;33m\u001b[0m\u001b[0m\n\u001b[0;32m    810\u001b[0m \u001b[1;33m\u001b[0m\u001b[0m\n\u001b[1;32m--> 811\u001b[1;33m         \u001b[0mself\u001b[0m\u001b[1;33m.\u001b[0m\u001b[0m_engine\u001b[0m \u001b[1;33m=\u001b[0m \u001b[0mself\u001b[0m\u001b[1;33m.\u001b[0m\u001b[0m_make_engine\u001b[0m\u001b[1;33m(\u001b[0m\u001b[0mself\u001b[0m\u001b[1;33m.\u001b[0m\u001b[0mengine\u001b[0m\u001b[1;33m)\u001b[0m\u001b[1;33m\u001b[0m\u001b[1;33m\u001b[0m\u001b[0m\n\u001b[0m\u001b[0;32m    812\u001b[0m \u001b[1;33m\u001b[0m\u001b[0m\n\u001b[0;32m    813\u001b[0m     \u001b[1;32mdef\u001b[0m \u001b[0mclose\u001b[0m\u001b[1;33m(\u001b[0m\u001b[0mself\u001b[0m\u001b[1;33m)\u001b[0m\u001b[1;33m:\u001b[0m\u001b[1;33m\u001b[0m\u001b[1;33m\u001b[0m\u001b[0m\n",
      "\u001b[1;32m~\\anaconda3\\envs\\rdkit\\lib\\site-packages\\pandas\\io\\parsers\\readers.py\u001b[0m in \u001b[0;36m_make_engine\u001b[1;34m(self, engine)\u001b[0m\n\u001b[0;32m   1038\u001b[0m             )\n\u001b[0;32m   1039\u001b[0m         \u001b[1;31m# error: Too many arguments for \"ParserBase\"\u001b[0m\u001b[1;33m\u001b[0m\u001b[1;33m\u001b[0m\u001b[1;33m\u001b[0m\u001b[0m\n\u001b[1;32m-> 1040\u001b[1;33m         \u001b[1;32mreturn\u001b[0m \u001b[0mmapping\u001b[0m\u001b[1;33m[\u001b[0m\u001b[0mengine\u001b[0m\u001b[1;33m]\u001b[0m\u001b[1;33m(\u001b[0m\u001b[0mself\u001b[0m\u001b[1;33m.\u001b[0m\u001b[0mf\u001b[0m\u001b[1;33m,\u001b[0m \u001b[1;33m**\u001b[0m\u001b[0mself\u001b[0m\u001b[1;33m.\u001b[0m\u001b[0moptions\u001b[0m\u001b[1;33m)\u001b[0m  \u001b[1;31m# type: ignore[call-arg]\u001b[0m\u001b[1;33m\u001b[0m\u001b[1;33m\u001b[0m\u001b[0m\n\u001b[0m\u001b[0;32m   1041\u001b[0m \u001b[1;33m\u001b[0m\u001b[0m\n\u001b[0;32m   1042\u001b[0m     \u001b[1;32mdef\u001b[0m \u001b[0m_failover_to_python\u001b[0m\u001b[1;33m(\u001b[0m\u001b[0mself\u001b[0m\u001b[1;33m)\u001b[0m\u001b[1;33m:\u001b[0m\u001b[1;33m\u001b[0m\u001b[1;33m\u001b[0m\u001b[0m\n",
      "\u001b[1;32m~\\anaconda3\\envs\\rdkit\\lib\\site-packages\\pandas\\io\\parsers\\c_parser_wrapper.py\u001b[0m in \u001b[0;36m__init__\u001b[1;34m(self, src, **kwds)\u001b[0m\n\u001b[0;32m     49\u001b[0m \u001b[1;33m\u001b[0m\u001b[0m\n\u001b[0;32m     50\u001b[0m         \u001b[1;31m# open handles\u001b[0m\u001b[1;33m\u001b[0m\u001b[1;33m\u001b[0m\u001b[1;33m\u001b[0m\u001b[0m\n\u001b[1;32m---> 51\u001b[1;33m         \u001b[0mself\u001b[0m\u001b[1;33m.\u001b[0m\u001b[0m_open_handles\u001b[0m\u001b[1;33m(\u001b[0m\u001b[0msrc\u001b[0m\u001b[1;33m,\u001b[0m \u001b[0mkwds\u001b[0m\u001b[1;33m)\u001b[0m\u001b[1;33m\u001b[0m\u001b[1;33m\u001b[0m\u001b[0m\n\u001b[0m\u001b[0;32m     52\u001b[0m         \u001b[1;32massert\u001b[0m \u001b[0mself\u001b[0m\u001b[1;33m.\u001b[0m\u001b[0mhandles\u001b[0m \u001b[1;32mis\u001b[0m \u001b[1;32mnot\u001b[0m \u001b[1;32mNone\u001b[0m\u001b[1;33m\u001b[0m\u001b[1;33m\u001b[0m\u001b[0m\n\u001b[0;32m     53\u001b[0m \u001b[1;33m\u001b[0m\u001b[0m\n",
      "\u001b[1;32m~\\anaconda3\\envs\\rdkit\\lib\\site-packages\\pandas\\io\\parsers\\base_parser.py\u001b[0m in \u001b[0;36m_open_handles\u001b[1;34m(self, src, kwds)\u001b[0m\n\u001b[0;32m    227\u001b[0m             \u001b[0mmemory_map\u001b[0m\u001b[1;33m=\u001b[0m\u001b[0mkwds\u001b[0m\u001b[1;33m.\u001b[0m\u001b[0mget\u001b[0m\u001b[1;33m(\u001b[0m\u001b[1;34m\"memory_map\"\u001b[0m\u001b[1;33m,\u001b[0m \u001b[1;32mFalse\u001b[0m\u001b[1;33m)\u001b[0m\u001b[1;33m,\u001b[0m\u001b[1;33m\u001b[0m\u001b[1;33m\u001b[0m\u001b[0m\n\u001b[0;32m    228\u001b[0m             \u001b[0mstorage_options\u001b[0m\u001b[1;33m=\u001b[0m\u001b[0mkwds\u001b[0m\u001b[1;33m.\u001b[0m\u001b[0mget\u001b[0m\u001b[1;33m(\u001b[0m\u001b[1;34m\"storage_options\"\u001b[0m\u001b[1;33m,\u001b[0m \u001b[1;32mNone\u001b[0m\u001b[1;33m)\u001b[0m\u001b[1;33m,\u001b[0m\u001b[1;33m\u001b[0m\u001b[1;33m\u001b[0m\u001b[0m\n\u001b[1;32m--> 229\u001b[1;33m             \u001b[0merrors\u001b[0m\u001b[1;33m=\u001b[0m\u001b[0mkwds\u001b[0m\u001b[1;33m.\u001b[0m\u001b[0mget\u001b[0m\u001b[1;33m(\u001b[0m\u001b[1;34m\"encoding_errors\"\u001b[0m\u001b[1;33m,\u001b[0m \u001b[1;34m\"strict\"\u001b[0m\u001b[1;33m)\u001b[0m\u001b[1;33m,\u001b[0m\u001b[1;33m\u001b[0m\u001b[1;33m\u001b[0m\u001b[0m\n\u001b[0m\u001b[0;32m    230\u001b[0m         )\n\u001b[0;32m    231\u001b[0m \u001b[1;33m\u001b[0m\u001b[0m\n",
      "\u001b[1;32m~\\anaconda3\\envs\\rdkit\\lib\\site-packages\\pandas\\io\\common.py\u001b[0m in \u001b[0;36mget_handle\u001b[1;34m(path_or_buf, mode, encoding, compression, memory_map, is_text, errors, storage_options)\u001b[0m\n\u001b[0;32m    705\u001b[0m                 \u001b[0mencoding\u001b[0m\u001b[1;33m=\u001b[0m\u001b[0mioargs\u001b[0m\u001b[1;33m.\u001b[0m\u001b[0mencoding\u001b[0m\u001b[1;33m,\u001b[0m\u001b[1;33m\u001b[0m\u001b[1;33m\u001b[0m\u001b[0m\n\u001b[0;32m    706\u001b[0m                 \u001b[0merrors\u001b[0m\u001b[1;33m=\u001b[0m\u001b[0merrors\u001b[0m\u001b[1;33m,\u001b[0m\u001b[1;33m\u001b[0m\u001b[1;33m\u001b[0m\u001b[0m\n\u001b[1;32m--> 707\u001b[1;33m                 \u001b[0mnewline\u001b[0m\u001b[1;33m=\u001b[0m\u001b[1;34m\"\"\u001b[0m\u001b[1;33m,\u001b[0m\u001b[1;33m\u001b[0m\u001b[1;33m\u001b[0m\u001b[0m\n\u001b[0m\u001b[0;32m    708\u001b[0m             )\n\u001b[0;32m    709\u001b[0m         \u001b[1;32melse\u001b[0m\u001b[1;33m:\u001b[0m\u001b[1;33m\u001b[0m\u001b[1;33m\u001b[0m\u001b[0m\n",
      "\u001b[1;31mFileNotFoundError\u001b[0m: [Errno 2] No such file or directory: '../Drug_Libraries/L1021_FDA_Drugs.csv'"
     ]
    }
   ],
   "source": [
    "##### Read and Prepare Druglists\n",
    "\n",
    "dfm = pd.read_csv(\"../Drug_Libraries/L1021_FDA_Drugs.csv\", encoding = 'UTF-8')\n",
    "dfr = dfm['SMILES']\n",
    "#print(dfr)\n",
    "\n",
    "drug_list = list_prep(dfr)\n",
    "#print(drug_list)\n",
    "print('Druglist Prepared')\n",
    "\n",
    "df_drugs = collection_properties(drug_list)\n",
    "print('Collection Properties')\n",
    "print(df_drugs)\n",
    "\n",
    "### Calculate Statistics\n",
    "\n",
    "drugs_mean = df_drugs[molprop].mean()\n",
    "drugs_std = df_drugs[molprop].std()\n",
    "drugs_min = df_drugs[molprop].min()\n",
    "drugs_max = df_drugs[molprop].max()\n",
    "print(drugs_mean, type(drugs_mean))\n",
    "print(drugs_std)\n",
    "print(drugs_min)\n",
    "print(drugs_max)\n",
    "\n",
    "df_drugs.to_csv('../Drug_properties.csv')"
   ]
  },
  {
   "cell_type": "code",
   "execution_count": 8,
   "id": "9e58a826",
   "metadata": {},
   "outputs": [
    {
     "name": "stdout",
     "output_type": "stream",
     "text": [
      "995885 1000\n",
      "Lines processed :  0\n",
      "Lines processed :  1000\n",
      "Lines processed :  2000\n",
      "Lines processed :  3000\n",
      "Lines processed :  4000\n",
      "Lines processed :  5000\n",
      "Lines processed :  6000\n",
      "Lines processed :  7000\n",
      "Lines processed :  8000\n",
      "Lines processed :  9000\n",
      "Lines processed :  10000\n",
      "Lines processed :  11000\n",
      "Lines processed :  12000\n",
      "Lines processed :  13000\n",
      "Lines processed :  14000\n",
      "Lines processed :  15000\n",
      "Lines processed :  16000\n",
      "Lines processed :  17000\n",
      "Lines processed :  18000\n",
      "Lines processed :  19000\n",
      "Lines processed :  20000\n",
      "Lines processed :  21000\n",
      "Lines processed :  22000\n",
      "Lines processed :  23000\n",
      "Lines processed :  24000\n",
      "Lines processed :  25000\n",
      "Lines processed :  26000\n",
      "Lines processed :  27000\n",
      "Lines processed :  28000\n",
      "Lines processed :  29000\n",
      "Lines processed :  30000\n",
      "Lines processed :  31000\n",
      "Lines processed :  32000\n",
      "Lines processed :  33000\n",
      "Lines processed :  34000\n",
      "Lines processed :  35000\n",
      "Lines processed :  36000\n",
      "Lines processed :  37000\n",
      "Lines processed :  38000\n",
      "Lines processed :  39000\n",
      "Lines processed :  40000\n",
      "Lines processed :  41000\n",
      "Lines processed :  42000\n",
      "Lines processed :  43000\n",
      "Lines processed :  44000\n",
      "Lines processed :  45000\n",
      "Lines processed :  46000\n",
      "Lines processed :  47000\n",
      "Lines processed :  48000\n",
      "Lines processed :  49000\n",
      "Lines processed :  50000\n",
      "Lines processed :  51000\n",
      "Lines processed :  52000\n",
      "Lines processed :  53000\n",
      "Lines processed :  54000\n",
      "Lines processed :  55000\n",
      "Lines processed :  56000\n",
      "Lines processed :  57000\n",
      "Lines processed :  58000\n",
      "Lines processed :  59000\n",
      "Lines processed :  60000\n",
      "Lines processed :  61000\n",
      "Lines processed :  62000\n",
      "Lines processed :  63000\n",
      "Lines processed :  64000\n",
      "Lines processed :  65000\n",
      "Lines processed :  66000\n",
      "Lines processed :  67000\n",
      "Lines processed :  68000\n",
      "Lines processed :  69000\n",
      "Lines processed :  70000\n",
      "Lines processed :  71000\n",
      "Lines processed :  72000\n",
      "Lines processed :  73000\n",
      "Lines processed :  74000\n",
      "Lines processed :  75000\n",
      "Lines processed :  76000\n",
      "Lines processed :  77000\n",
      "Lines processed :  78000\n",
      "Lines processed :  79000\n",
      "Lines processed :  80000\n",
      "Lines processed :  81000\n",
      "Lines processed :  82000\n",
      "Lines processed :  83000\n",
      "Lines processed :  84000\n",
      "Lines processed :  85000\n",
      "Lines processed :  86000\n",
      "Lines processed :  87000\n",
      "Lines processed :  88000\n",
      "Lines processed :  89000\n",
      "Lines processed :  90000\n",
      "Lines processed :  91000\n",
      "Lines processed :  92000\n",
      "Lines processed :  93000\n",
      "Lines processed :  94000\n",
      "Lines processed :  95000\n",
      "Lines processed :  96000\n",
      "Lines processed :  97000\n",
      "Lines processed :  98000\n",
      "Lines processed :  99000\n",
      "Lines processed :  100000\n",
      "Lines processed :  101000\n",
      "Lines processed :  102000\n",
      "Lines processed :  103000\n",
      "Lines processed :  104000\n",
      "Lines processed :  105000\n",
      "Lines processed :  106000\n",
      "Lines processed :  107000\n",
      "Lines processed :  108000\n",
      "Lines processed :  109000\n",
      "Lines processed :  110000\n",
      "Lines processed :  111000\n",
      "Lines processed :  112000\n",
      "Lines processed :  113000\n",
      "Lines processed :  114000\n",
      "Lines processed :  115000\n",
      "Lines processed :  116000\n",
      "Lines processed :  117000\n",
      "Lines processed :  118000\n",
      "Lines processed :  119000\n",
      "Lines processed :  120000\n",
      "Lines processed :  121000\n",
      "Lines processed :  122000\n",
      "Lines processed :  123000\n",
      "Lines processed :  124000\n",
      "Lines processed :  125000\n",
      "Lines processed :  126000\n",
      "Lines processed :  127000\n",
      "Lines processed :  128000\n",
      "Lines processed :  129000\n",
      "Lines processed :  130000\n",
      "Lines processed :  131000\n",
      "Lines processed :  132000\n",
      "Lines processed :  133000\n",
      "Lines processed :  134000\n",
      "Lines processed :  135000\n",
      "Lines processed :  136000\n",
      "Lines processed :  137000\n",
      "Lines processed :  138000\n",
      "Lines processed :  139000\n",
      "Lines processed :  140000\n",
      "Lines processed :  141000\n",
      "Lines processed :  142000\n",
      "Lines processed :  143000\n",
      "Lines processed :  144000\n",
      "Lines processed :  145000\n",
      "Lines processed :  146000\n",
      "Lines processed :  147000\n",
      "Lines processed :  148000\n",
      "Lines processed :  149000\n",
      "Lines processed :  150000\n",
      "Lines processed :  151000\n",
      "Lines processed :  152000\n",
      "Lines processed :  153000\n",
      "Lines processed :  154000\n",
      "Lines processed :  155000\n",
      "Lines processed :  156000\n",
      "Lines processed :  157000\n",
      "Lines processed :  158000\n",
      "Lines processed :  159000\n",
      "Lines processed :  160000\n",
      "Lines processed :  161000\n",
      "Lines processed :  162000\n",
      "Lines processed :  163000\n",
      "Lines processed :  164000\n",
      "Lines processed :  165000\n",
      "Lines processed :  166000\n",
      "Lines processed :  167000\n",
      "Lines processed :  168000\n",
      "Lines processed :  169000\n",
      "Lines processed :  170000\n",
      "Lines processed :  171000\n",
      "Lines processed :  172000\n",
      "Lines processed :  173000\n",
      "Lines processed :  174000\n",
      "Lines processed :  175000\n",
      "Lines processed :  176000\n",
      "Lines processed :  177000\n",
      "Lines processed :  178000\n",
      "Lines processed :  179000\n",
      "Lines processed :  180000\n",
      "Lines processed :  181000\n",
      "Lines processed :  182000\n",
      "Lines processed :  183000\n",
      "Lines processed :  184000\n",
      "Lines processed :  185000\n",
      "Lines processed :  186000\n",
      "Lines processed :  187000\n",
      "Lines processed :  188000\n",
      "Lines processed :  189000\n",
      "Lines processed :  190000\n",
      "Lines processed :  191000\n",
      "Lines processed :  192000\n",
      "Lines processed :  193000\n",
      "Lines processed :  194000\n",
      "Lines processed :  195000\n",
      "Lines processed :  196000\n",
      "Lines processed :  197000\n",
      "Lines processed :  198000\n",
      "Lines processed :  199000\n",
      "Lines processed :  200000\n",
      "Lines processed :  201000\n",
      "Lines processed :  202000\n",
      "Lines processed :  203000\n",
      "Lines processed :  204000\n",
      "Lines processed :  205000\n",
      "Lines processed :  206000\n",
      "Lines processed :  207000\n",
      "Lines processed :  208000\n",
      "Lines processed :  209000\n",
      "Lines processed :  210000\n",
      "Lines processed :  211000\n",
      "Lines processed :  212000\n",
      "Lines processed :  213000\n",
      "Lines processed :  214000\n",
      "Lines processed :  215000\n",
      "Lines processed :  216000\n",
      "Lines processed :  217000\n",
      "Lines processed :  218000\n",
      "Lines processed :  219000\n",
      "Lines processed :  220000\n",
      "Lines processed :  221000\n",
      "Lines processed :  222000\n",
      "Lines processed :  223000\n",
      "Lines processed :  224000\n",
      "Lines processed :  225000\n",
      "Lines processed :  226000\n",
      "Lines processed :  227000\n",
      "Lines processed :  228000\n",
      "Lines processed :  229000\n",
      "Lines processed :  230000\n",
      "Lines processed :  231000\n",
      "Lines processed :  232000\n",
      "Lines processed :  233000\n",
      "Lines processed :  234000\n",
      "Lines processed :  235000\n",
      "Lines processed :  236000\n",
      "Lines processed :  237000\n",
      "Lines processed :  238000\n",
      "Lines processed :  239000\n",
      "Lines processed :  240000\n",
      "Lines processed :  241000\n",
      "Lines processed :  242000\n",
      "Lines processed :  243000\n",
      "Lines processed :  244000\n",
      "Lines processed :  245000\n",
      "Lines processed :  246000\n",
      "Lines processed :  247000\n",
      "Lines processed :  248000\n",
      "Lines processed :  249000\n",
      "Lines processed :  250000\n",
      "Lines processed :  251000\n",
      "Lines processed :  252000\n",
      "Lines processed :  253000\n",
      "Lines processed :  254000\n",
      "Lines processed :  255000\n",
      "Lines processed :  256000\n",
      "Lines processed :  257000\n",
      "Lines processed :  258000\n",
      "Lines processed :  259000\n",
      "Lines processed :  260000\n",
      "Lines processed :  261000\n",
      "Lines processed :  262000\n",
      "Lines processed :  263000\n",
      "Lines processed :  264000\n",
      "Lines processed :  265000\n",
      "Lines processed :  266000\n",
      "Lines processed :  267000\n",
      "Lines processed :  268000\n",
      "Lines processed :  269000\n",
      "Lines processed :  270000\n",
      "Lines processed :  271000\n",
      "Lines processed :  272000\n",
      "Lines processed :  273000\n",
      "Lines processed :  274000\n",
      "Lines processed :  275000\n",
      "Lines processed :  276000\n",
      "Lines processed :  277000\n",
      "Lines processed :  278000\n",
      "Lines processed :  279000\n",
      "Lines processed :  280000\n",
      "Lines processed :  281000\n",
      "Lines processed :  282000\n",
      "Lines processed :  283000\n",
      "Lines processed :  284000\n",
      "Lines processed :  285000\n",
      "Lines processed :  286000\n",
      "Lines processed :  287000\n",
      "Lines processed :  288000\n",
      "Lines processed :  289000\n",
      "Lines processed :  290000\n",
      "Lines processed :  291000\n",
      "Lines processed :  292000\n",
      "Lines processed :  293000\n",
      "Lines processed :  294000\n",
      "Lines processed :  295000\n",
      "Lines processed :  296000\n",
      "Lines processed :  297000\n",
      "Lines processed :  298000\n",
      "Lines processed :  299000\n",
      "Lines processed :  300000\n",
      "Lines processed :  301000\n",
      "Lines processed :  302000\n",
      "Lines processed :  303000\n",
      "Lines processed :  304000\n",
      "Lines processed :  305000\n",
      "Lines processed :  306000\n",
      "Lines processed :  307000\n",
      "Lines processed :  308000\n",
      "Lines processed :  309000\n",
      "Lines processed :  310000\n",
      "Lines processed :  311000\n",
      "Lines processed :  312000\n",
      "Lines processed :  313000\n",
      "Lines processed :  314000\n",
      "Lines processed :  315000\n",
      "Lines processed :  316000\n",
      "Lines processed :  317000\n",
      "Lines processed :  318000\n"
     ]
    },
    {
     "name": "stdout",
     "output_type": "stream",
     "text": [
      "Lines processed :  319000\n",
      "Lines processed :  320000\n",
      "Lines processed :  321000\n",
      "Lines processed :  322000\n",
      "Lines processed :  323000\n",
      "Lines processed :  324000\n",
      "Lines processed :  325000\n",
      "Lines processed :  326000\n",
      "Lines processed :  327000\n",
      "Lines processed :  328000\n",
      "Lines processed :  329000\n",
      "Lines processed :  330000\n",
      "Lines processed :  331000\n",
      "Lines processed :  332000\n",
      "Lines processed :  333000\n",
      "Lines processed :  334000\n",
      "Lines processed :  335000\n",
      "Lines processed :  336000\n",
      "Lines processed :  337000\n",
      "Lines processed :  338000\n",
      "Lines processed :  339000\n",
      "Lines processed :  340000\n",
      "Lines processed :  341000\n",
      "Lines processed :  342000\n",
      "Lines processed :  343000\n",
      "Lines processed :  344000\n",
      "Lines processed :  345000\n",
      "Lines processed :  346000\n",
      "Lines processed :  347000\n",
      "Lines processed :  348000\n",
      "Lines processed :  349000\n",
      "Lines processed :  350000\n",
      "Lines processed :  351000\n",
      "Lines processed :  352000\n",
      "Lines processed :  353000\n",
      "Lines processed :  354000\n",
      "Lines processed :  355000\n",
      "Lines processed :  356000\n",
      "Lines processed :  357000\n",
      "Lines processed :  358000\n",
      "Lines processed :  359000\n",
      "Lines processed :  360000\n",
      "Lines processed :  361000\n",
      "Lines processed :  362000\n",
      "Lines processed :  363000\n",
      "Lines processed :  364000\n",
      "Lines processed :  365000\n",
      "Lines processed :  366000\n",
      "Lines processed :  367000\n",
      "Lines processed :  368000\n",
      "Lines processed :  369000\n",
      "Lines processed :  370000\n",
      "Lines processed :  371000\n",
      "Lines processed :  372000\n",
      "Lines processed :  373000\n",
      "Lines processed :  374000\n",
      "Lines processed :  375000\n",
      "Lines processed :  376000\n",
      "Lines processed :  377000\n",
      "Lines processed :  378000\n",
      "Lines processed :  379000\n",
      "Lines processed :  380000\n",
      "Lines processed :  381000\n",
      "Lines processed :  382000\n",
      "Lines processed :  383000\n",
      "Lines processed :  384000\n",
      "Lines processed :  385000\n",
      "Lines processed :  386000\n",
      "Lines processed :  387000\n",
      "Lines processed :  388000\n",
      "Lines processed :  389000\n",
      "Lines processed :  390000\n",
      "Lines processed :  391000\n",
      "Lines processed :  392000\n",
      "Lines processed :  393000\n",
      "Lines processed :  394000\n",
      "Lines processed :  395000\n",
      "Lines processed :  396000\n",
      "Lines processed :  397000\n",
      "Lines processed :  398000\n",
      "Lines processed :  399000\n",
      "Lines processed :  400000\n",
      "Lines processed :  401000\n",
      "Lines processed :  402000\n",
      "Lines processed :  403000\n",
      "Lines processed :  404000\n",
      "Lines processed :  405000\n",
      "Lines processed :  406000\n",
      "Lines processed :  407000\n",
      "Lines processed :  408000\n",
      "Lines processed :  409000\n",
      "Lines processed :  410000\n",
      "Lines processed :  411000\n",
      "Lines processed :  412000\n",
      "Lines processed :  413000\n",
      "Lines processed :  414000\n",
      "Lines processed :  415000\n",
      "Lines processed :  416000\n",
      "Lines processed :  417000\n",
      "Lines processed :  418000\n",
      "Lines processed :  419000\n",
      "Lines processed :  420000\n",
      "Lines processed :  421000\n",
      "Lines processed :  422000\n",
      "Lines processed :  423000\n",
      "Lines processed :  424000\n",
      "Lines processed :  425000\n",
      "Lines processed :  426000\n",
      "Lines processed :  427000\n",
      "Lines processed :  428000\n",
      "Lines processed :  429000\n",
      "Lines processed :  430000\n",
      "Lines processed :  431000\n",
      "Lines processed :  432000\n",
      "Lines processed :  433000\n",
      "Lines processed :  434000\n",
      "Lines processed :  435000\n",
      "Lines processed :  436000\n",
      "Lines processed :  437000\n",
      "Lines processed :  438000\n",
      "Lines processed :  439000\n",
      "Lines processed :  440000\n",
      "Lines processed :  441000\n",
      "Lines processed :  442000\n",
      "Lines processed :  443000\n",
      "Lines processed :  444000\n",
      "Lines processed :  445000\n",
      "Lines processed :  446000\n",
      "Lines processed :  447000\n",
      "Lines processed :  448000\n",
      "Lines processed :  449000\n",
      "Lines processed :  450000\n",
      "Lines processed :  451000\n",
      "Lines processed :  452000\n",
      "Lines processed :  453000\n",
      "Lines processed :  454000\n",
      "Lines processed :  455000\n",
      "Lines processed :  456000\n",
      "Lines processed :  457000\n",
      "Lines processed :  458000\n",
      "Lines processed :  459000\n",
      "Lines processed :  460000\n",
      "Lines processed :  461000\n",
      "Lines processed :  462000\n",
      "Lines processed :  463000\n",
      "Lines processed :  464000\n",
      "Lines processed :  465000\n",
      "Lines processed :  466000\n",
      "Lines processed :  467000\n",
      "Lines processed :  468000\n",
      "Lines processed :  469000\n",
      "Lines processed :  470000\n",
      "Lines processed :  471000\n",
      "Lines processed :  472000\n",
      "Lines processed :  473000\n",
      "Lines processed :  474000\n",
      "Lines processed :  475000\n",
      "Lines processed :  476000\n",
      "Lines processed :  477000\n",
      "Lines processed :  478000\n",
      "Lines processed :  479000\n",
      "Lines processed :  480000\n",
      "Lines processed :  481000\n",
      "Lines processed :  482000\n",
      "Lines processed :  483000\n",
      "Lines processed :  484000\n",
      "Lines processed :  485000\n",
      "Lines processed :  486000\n",
      "Lines processed :  487000\n",
      "Lines processed :  488000\n",
      "Lines processed :  489000\n",
      "Lines processed :  490000\n",
      "Lines processed :  491000\n",
      "Lines processed :  492000\n",
      "Lines processed :  493000\n",
      "Lines processed :  494000\n",
      "Lines processed :  495000\n",
      "Lines processed :  496000\n",
      "Lines processed :  497000\n",
      "Lines processed :  498000\n",
      "Lines processed :  499000\n",
      "Lines processed :  500000\n",
      "Lines processed :  501000\n",
      "Lines processed :  502000\n",
      "Lines processed :  503000\n",
      "Lines processed :  504000\n",
      "Lines processed :  505000\n",
      "Lines processed :  506000\n",
      "Lines processed :  507000\n",
      "Lines processed :  508000\n",
      "Lines processed :  509000\n",
      "Lines processed :  510000\n",
      "Lines processed :  511000\n",
      "Lines processed :  512000\n",
      "Lines processed :  513000\n",
      "Lines processed :  514000\n",
      "Lines processed :  515000\n",
      "Lines processed :  516000\n",
      "Lines processed :  517000\n",
      "Lines processed :  518000\n",
      "Lines processed :  519000\n",
      "Lines processed :  520000\n",
      "Lines processed :  521000\n",
      "Lines processed :  522000\n",
      "Lines processed :  523000\n",
      "Lines processed :  524000\n",
      "Lines processed :  525000\n",
      "Lines processed :  526000\n",
      "Lines processed :  527000\n",
      "Lines processed :  528000\n",
      "Lines processed :  529000\n",
      "Lines processed :  530000\n",
      "Lines processed :  531000\n",
      "Lines processed :  532000\n",
      "Lines processed :  533000\n",
      "Lines processed :  534000\n",
      "Lines processed :  535000\n",
      "Lines processed :  536000\n",
      "Lines processed :  537000\n",
      "Lines processed :  538000\n",
      "Lines processed :  539000\n",
      "Lines processed :  540000\n",
      "Lines processed :  541000\n",
      "Lines processed :  542000\n",
      "Lines processed :  543000\n",
      "Lines processed :  544000\n",
      "Lines processed :  545000\n",
      "Lines processed :  546000\n",
      "Lines processed :  547000\n",
      "Lines processed :  548000\n",
      "Lines processed :  549000\n",
      "Lines processed :  550000\n",
      "Lines processed :  551000\n",
      "Lines processed :  552000\n",
      "Lines processed :  553000\n",
      "Lines processed :  554000\n",
      "Lines processed :  555000\n",
      "Lines processed :  556000\n",
      "Lines processed :  557000\n",
      "Lines processed :  558000\n",
      "Lines processed :  559000\n",
      "Lines processed :  560000\n",
      "Lines processed :  561000\n",
      "Lines processed :  562000\n",
      "Lines processed :  563000\n",
      "Lines processed :  564000\n",
      "Lines processed :  565000\n",
      "Lines processed :  566000\n",
      "Lines processed :  567000\n",
      "Lines processed :  568000\n",
      "Lines processed :  569000\n",
      "Lines processed :  570000\n",
      "Lines processed :  571000\n",
      "Lines processed :  572000\n",
      "Lines processed :  573000\n",
      "Lines processed :  574000\n",
      "Lines processed :  575000\n",
      "Lines processed :  576000\n",
      "Lines processed :  577000\n",
      "Lines processed :  578000\n",
      "Lines processed :  579000\n",
      "Lines processed :  580000\n",
      "Lines processed :  581000\n",
      "Lines processed :  582000\n",
      "Lines processed :  583000\n",
      "Lines processed :  584000\n",
      "Lines processed :  585000\n",
      "Lines processed :  586000\n",
      "Lines processed :  587000\n",
      "Lines processed :  588000\n",
      "Lines processed :  589000\n",
      "Lines processed :  590000\n",
      "Lines processed :  591000\n",
      "Lines processed :  592000\n",
      "Lines processed :  593000\n",
      "Lines processed :  594000\n",
      "Lines processed :  595000\n",
      "Lines processed :  596000\n",
      "Lines processed :  597000\n",
      "Lines processed :  598000\n",
      "Lines processed :  599000\n",
      "Lines processed :  600000\n",
      "Lines processed :  601000\n",
      "Lines processed :  602000\n",
      "Lines processed :  603000\n",
      "Lines processed :  604000\n",
      "Lines processed :  605000\n",
      "Lines processed :  606000\n",
      "Lines processed :  607000\n",
      "Lines processed :  608000\n",
      "Lines processed :  609000\n",
      "Lines processed :  610000\n",
      "Lines processed :  611000\n",
      "Lines processed :  612000\n",
      "Lines processed :  613000\n",
      "Lines processed :  614000\n",
      "Lines processed :  615000\n",
      "Lines processed :  616000\n",
      "Lines processed :  617000\n",
      "Lines processed :  618000\n",
      "Lines processed :  619000\n",
      "Lines processed :  620000\n",
      "Lines processed :  621000\n",
      "Lines processed :  622000\n",
      "Lines processed :  623000\n",
      "Lines processed :  624000\n",
      "Lines processed :  625000\n",
      "Lines processed :  626000\n",
      "Lines processed :  627000\n",
      "Lines processed :  628000\n",
      "Lines processed :  629000\n",
      "Lines processed :  630000\n",
      "Lines processed :  631000\n",
      "Lines processed :  632000\n",
      "Lines processed :  633000\n",
      "Lines processed :  634000\n"
     ]
    },
    {
     "name": "stdout",
     "output_type": "stream",
     "text": [
      "Lines processed :  635000\n",
      "Lines processed :  636000\n",
      "Lines processed :  637000\n",
      "Lines processed :  638000\n",
      "Lines processed :  639000\n",
      "Lines processed :  640000\n",
      "Lines processed :  641000\n",
      "Lines processed :  642000\n",
      "Lines processed :  643000\n",
      "Lines processed :  644000\n",
      "Lines processed :  645000\n",
      "Lines processed :  646000\n",
      "Lines processed :  647000\n",
      "Lines processed :  648000\n",
      "Lines processed :  649000\n",
      "Lines processed :  650000\n",
      "Lines processed :  651000\n",
      "Lines processed :  652000\n",
      "Lines processed :  653000\n",
      "Lines processed :  654000\n",
      "Lines processed :  655000\n",
      "Lines processed :  656000\n",
      "Lines processed :  657000\n",
      "Lines processed :  658000\n",
      "Lines processed :  659000\n",
      "Lines processed :  660000\n",
      "Lines processed :  661000\n",
      "Lines processed :  662000\n",
      "Lines processed :  663000\n",
      "Lines processed :  664000\n",
      "Lines processed :  665000\n",
      "Lines processed :  666000\n",
      "Lines processed :  667000\n",
      "Lines processed :  668000\n",
      "Lines processed :  669000\n",
      "Lines processed :  670000\n",
      "Lines processed :  671000\n",
      "Lines processed :  672000\n",
      "Lines processed :  673000\n",
      "Lines processed :  674000\n",
      "Lines processed :  675000\n",
      "Lines processed :  676000\n",
      "Lines processed :  677000\n",
      "Lines processed :  678000\n",
      "Lines processed :  679000\n",
      "Lines processed :  680000\n",
      "Lines processed :  681000\n",
      "Lines processed :  682000\n",
      "Lines processed :  683000\n",
      "Lines processed :  684000\n",
      "Lines processed :  685000\n",
      "Lines processed :  686000\n",
      "Lines processed :  687000\n",
      "Lines processed :  688000\n",
      "Lines processed :  689000\n",
      "Lines processed :  690000\n",
      "Lines processed :  691000\n",
      "Lines processed :  692000\n",
      "Lines processed :  693000\n",
      "Lines processed :  694000\n",
      "Lines processed :  695000\n",
      "Lines processed :  696000\n",
      "Lines processed :  697000\n",
      "Lines processed :  698000\n",
      "Lines processed :  699000\n",
      "Lines processed :  700000\n",
      "Lines processed :  701000\n",
      "Lines processed :  702000\n",
      "Lines processed :  703000\n",
      "Lines processed :  704000\n",
      "Lines processed :  705000\n",
      "Lines processed :  706000\n",
      "Lines processed :  707000\n",
      "Lines processed :  708000\n",
      "Lines processed :  709000\n",
      "Lines processed :  710000\n",
      "Lines processed :  711000\n",
      "Lines processed :  712000\n",
      "Lines processed :  713000\n",
      "Lines processed :  714000\n",
      "Lines processed :  715000\n",
      "Lines processed :  716000\n",
      "Lines processed :  717000\n",
      "Lines processed :  718000\n",
      "Lines processed :  719000\n",
      "Lines processed :  720000\n",
      "Lines processed :  721000\n",
      "Lines processed :  722000\n",
      "Lines processed :  723000\n",
      "Lines processed :  724000\n",
      "Lines processed :  725000\n",
      "Lines processed :  726000\n",
      "Lines processed :  727000\n",
      "Lines processed :  728000\n",
      "Lines processed :  729000\n",
      "Lines processed :  730000\n",
      "Lines processed :  731000\n",
      "Lines processed :  732000\n",
      "Lines processed :  733000\n",
      "Lines processed :  734000\n",
      "Lines processed :  735000\n",
      "Lines processed :  736000\n",
      "Lines processed :  737000\n",
      "Lines processed :  738000\n",
      "Lines processed :  739000\n",
      "Lines processed :  740000\n",
      "Lines processed :  741000\n",
      "Lines processed :  742000\n",
      "Lines processed :  743000\n",
      "Lines processed :  744000\n",
      "Lines processed :  745000\n",
      "Lines processed :  746000\n",
      "Lines processed :  747000\n",
      "Lines processed :  748000\n",
      "Lines processed :  749000\n",
      "Lines processed :  750000\n",
      "Lines processed :  751000\n",
      "Lines processed :  752000\n",
      "Lines processed :  753000\n",
      "Lines processed :  754000\n",
      "Lines processed :  755000\n",
      "Lines processed :  756000\n",
      "Lines processed :  757000\n",
      "Lines processed :  758000\n",
      "Lines processed :  759000\n",
      "Lines processed :  760000\n",
      "Lines processed :  761000\n",
      "Lines processed :  762000\n",
      "Lines processed :  763000\n",
      "Lines processed :  764000\n",
      "Lines processed :  765000\n",
      "Lines processed :  766000\n",
      "Lines processed :  767000\n",
      "Lines processed :  768000\n",
      "Lines processed :  769000\n",
      "Lines processed :  770000\n",
      "Lines processed :  771000\n",
      "Lines processed :  772000\n",
      "Lines processed :  773000\n",
      "Lines processed :  774000\n",
      "Lines processed :  775000\n",
      "Lines processed :  776000\n",
      "Lines processed :  777000\n",
      "Lines processed :  778000\n",
      "Lines processed :  779000\n",
      "Lines processed :  780000\n",
      "Lines processed :  781000\n",
      "Lines processed :  782000\n",
      "Lines processed :  783000\n",
      "Lines processed :  784000\n",
      "Lines processed :  785000\n",
      "Lines processed :  786000\n",
      "Lines processed :  787000\n",
      "Lines processed :  788000\n",
      "Lines processed :  789000\n",
      "Lines processed :  790000\n",
      "Lines processed :  791000\n",
      "Lines processed :  792000\n",
      "Lines processed :  793000\n",
      "Lines processed :  794000\n",
      "Lines processed :  795000\n",
      "Lines processed :  796000\n",
      "Lines processed :  797000\n",
      "Lines processed :  798000\n",
      "Lines processed :  799000\n",
      "Lines processed :  800000\n",
      "Lines processed :  801000\n",
      "Lines processed :  802000\n",
      "Lines processed :  803000\n",
      "Lines processed :  804000\n",
      "Lines processed :  805000\n",
      "Lines processed :  806000\n",
      "Lines processed :  807000\n",
      "Lines processed :  808000\n",
      "Lines processed :  809000\n",
      "Lines processed :  810000\n",
      "Lines processed :  811000\n",
      "Lines processed :  812000\n",
      "Lines processed :  813000\n",
      "Lines processed :  814000\n",
      "Lines processed :  815000\n",
      "Lines processed :  816000\n",
      "Lines processed :  817000\n",
      "Lines processed :  818000\n",
      "Lines processed :  819000\n",
      "Lines processed :  820000\n",
      "Lines processed :  821000\n",
      "Lines processed :  822000\n",
      "Lines processed :  823000\n",
      "Lines processed :  824000\n",
      "Lines processed :  825000\n",
      "Lines processed :  826000\n",
      "Lines processed :  827000\n",
      "Lines processed :  828000\n",
      "Lines processed :  829000\n",
      "Lines processed :  830000\n",
      "Lines processed :  831000\n",
      "Lines processed :  832000\n",
      "Lines processed :  833000\n",
      "Lines processed :  834000\n",
      "Lines processed :  835000\n",
      "Lines processed :  836000\n",
      "Lines processed :  837000\n",
      "Lines processed :  838000\n",
      "Lines processed :  839000\n",
      "Lines processed :  840000\n",
      "Lines processed :  841000\n",
      "Lines processed :  842000\n",
      "Lines processed :  843000\n",
      "Lines processed :  844000\n",
      "Lines processed :  845000\n",
      "Lines processed :  846000\n",
      "Lines processed :  847000\n",
      "Lines processed :  848000\n",
      "Lines processed :  849000\n",
      "Lines processed :  850000\n",
      "Lines processed :  851000\n",
      "Lines processed :  852000\n",
      "Lines processed :  853000\n",
      "Lines processed :  854000\n",
      "Lines processed :  855000\n",
      "Lines processed :  856000\n",
      "Lines processed :  857000\n",
      "Lines processed :  858000\n",
      "Lines processed :  859000\n",
      "Lines processed :  860000\n",
      "Lines processed :  861000\n",
      "Lines processed :  862000\n",
      "Lines processed :  863000\n",
      "Lines processed :  864000\n",
      "Lines processed :  865000\n",
      "Lines processed :  866000\n",
      "Lines processed :  867000\n",
      "Lines processed :  868000\n",
      "Lines processed :  869000\n",
      "Lines processed :  870000\n",
      "Lines processed :  871000\n",
      "Lines processed :  872000\n",
      "Lines processed :  873000\n",
      "Lines processed :  874000\n",
      "Lines processed :  875000\n",
      "Lines processed :  876000\n",
      "Lines processed :  877000\n",
      "Lines processed :  878000\n",
      "Lines processed :  879000\n",
      "Lines processed :  880000\n",
      "Lines processed :  881000\n",
      "Lines processed :  882000\n",
      "Lines processed :  883000\n",
      "Lines processed :  884000\n",
      "Lines processed :  885000\n",
      "Lines processed :  886000\n",
      "Lines processed :  887000\n",
      "Lines processed :  888000\n",
      "Lines processed :  889000\n",
      "Lines processed :  890000\n",
      "Lines processed :  891000\n",
      "Lines processed :  892000\n",
      "Lines processed :  893000\n",
      "Lines processed :  894000\n",
      "Lines processed :  895000\n",
      "Lines processed :  896000\n",
      "Lines processed :  897000\n",
      "Lines processed :  898000\n",
      "Lines processed :  899000\n",
      "Lines processed :  900000\n",
      "Lines processed :  901000\n",
      "Lines processed :  902000\n",
      "Lines processed :  903000\n",
      "Lines processed :  904000\n",
      "Lines processed :  905000\n",
      "Lines processed :  906000\n",
      "Lines processed :  907000\n",
      "Lines processed :  908000\n",
      "Lines processed :  909000\n",
      "Lines processed :  910000\n",
      "Lines processed :  911000\n",
      "Lines processed :  912000\n",
      "Lines processed :  913000\n",
      "Lines processed :  914000\n",
      "Lines processed :  915000\n",
      "Lines processed :  916000\n",
      "Lines processed :  917000\n",
      "Lines processed :  918000\n",
      "Lines processed :  919000\n",
      "Lines processed :  920000\n",
      "Lines processed :  921000\n",
      "Lines processed :  922000\n",
      "Lines processed :  923000\n",
      "Lines processed :  924000\n",
      "Lines processed :  925000\n",
      "Lines processed :  926000\n",
      "Lines processed :  927000\n",
      "Lines processed :  928000\n",
      "Lines processed :  929000\n",
      "Lines processed :  930000\n",
      "Lines processed :  931000\n",
      "Lines processed :  932000\n",
      "Lines processed :  933000\n",
      "Lines processed :  934000\n",
      "Lines processed :  935000\n",
      "Lines processed :  936000\n",
      "Lines processed :  937000\n",
      "Lines processed :  938000\n",
      "Lines processed :  939000\n",
      "Lines processed :  940000\n",
      "Lines processed :  941000\n",
      "Lines processed :  942000\n",
      "Lines processed :  943000\n",
      "Lines processed :  944000\n",
      "Lines processed :  945000\n",
      "Lines processed :  946000\n",
      "Lines processed :  947000\n",
      "Lines processed :  948000\n",
      "Lines processed :  949000\n",
      "Lines processed :  950000\n"
     ]
    },
    {
     "name": "stdout",
     "output_type": "stream",
     "text": [
      "Lines processed :  951000\n",
      "Lines processed :  952000\n",
      "Lines processed :  953000\n",
      "Lines processed :  954000\n",
      "Lines processed :  955000\n",
      "Lines processed :  956000\n",
      "Lines processed :  957000\n",
      "Lines processed :  958000\n",
      "Lines processed :  959000\n",
      "Lines processed :  960000\n",
      "Lines processed :  961000\n",
      "Lines processed :  962000\n",
      "Lines processed :  963000\n",
      "Lines processed :  964000\n",
      "Lines processed :  965000\n",
      "Lines processed :  966000\n",
      "Lines processed :  967000\n",
      "Lines processed :  968000\n",
      "Lines processed :  969000\n",
      "Lines processed :  970000\n",
      "Lines processed :  971000\n",
      "Lines processed :  972000\n",
      "Lines processed :  973000\n",
      "Lines processed :  974000\n",
      "Lines processed :  975000\n",
      "Lines processed :  976000\n",
      "Lines processed :  977000\n",
      "Lines processed :  978000\n",
      "Lines processed :  979000\n",
      "Lines processed :  980000\n",
      "Lines processed :  981000\n",
      "Lines processed :  982000\n",
      "Lines processed :  983000\n",
      "Lines processed :  984000\n",
      "Lines processed :  985000\n",
      "Lines processed :  986000\n",
      "Lines processed :  987000\n",
      "Lines processed :  988000\n",
      "Lines processed :  989000\n",
      "Lines processed :  990000\n",
      "Lines processed :  991000\n",
      "Lines processed :  992000\n",
      "Lines processed :  993000\n",
      "Lines processed :  994000\n",
      "Lines processed :  995000\n",
      "DEL1-list Prepared\n",
      "Lines processed :  1000\n",
      "Lines processed :  2000\n",
      "Lines processed :  3000\n",
      "Lines processed :  4000\n",
      "Lines processed :  5000\n",
      "Lines processed :  6000\n",
      "Lines processed :  7000\n",
      "Lines processed :  8000\n",
      "Lines processed :  9000\n",
      "Lines processed :  10000\n",
      "Lines processed :  11000\n",
      "Lines processed :  12000\n",
      "Lines processed :  13000\n",
      "Lines processed :  14000\n",
      "Lines processed :  15000\n",
      "Lines processed :  16000\n",
      "Lines processed :  17000\n",
      "Lines processed :  18000\n",
      "Lines processed :  19000\n",
      "Lines processed :  20000\n",
      "Lines processed :  21000\n",
      "Lines processed :  22000\n",
      "Lines processed :  23000\n",
      "Lines processed :  24000\n",
      "Lines processed :  25000\n",
      "Lines processed :  26000\n",
      "Lines processed :  27000\n",
      "Lines processed :  28000\n",
      "Lines processed :  29000\n",
      "Lines processed :  30000\n",
      "Lines processed :  31000\n",
      "Lines processed :  32000\n",
      "Lines processed :  33000\n",
      "Lines processed :  34000\n",
      "Lines processed :  35000\n",
      "Lines processed :  36000\n",
      "Lines processed :  37000\n",
      "Lines processed :  38000\n",
      "Lines processed :  39000\n",
      "Lines processed :  40000\n",
      "Lines processed :  41000\n",
      "Lines processed :  42000\n",
      "Lines processed :  43000\n",
      "Lines processed :  44000\n",
      "Lines processed :  45000\n",
      "Lines processed :  46000\n",
      "Lines processed :  47000\n",
      "Lines processed :  48000\n",
      "Lines processed :  49000\n",
      "Lines processed :  50000\n",
      "Lines processed :  51000\n",
      "Lines processed :  52000\n",
      "Lines processed :  53000\n",
      "Lines processed :  54000\n",
      "Lines processed :  55000\n",
      "Lines processed :  56000\n",
      "Lines processed :  57000\n",
      "Lines processed :  58000\n",
      "Lines processed :  59000\n",
      "Lines processed :  60000\n",
      "Lines processed :  61000\n",
      "Lines processed :  62000\n",
      "Lines processed :  63000\n",
      "Lines processed :  64000\n",
      "Lines processed :  65000\n",
      "Lines processed :  66000\n",
      "Lines processed :  67000\n",
      "Lines processed :  68000\n",
      "Lines processed :  69000\n",
      "Lines processed :  70000\n",
      "Lines processed :  71000\n",
      "Lines processed :  72000\n",
      "Lines processed :  73000\n",
      "Lines processed :  74000\n",
      "Lines processed :  75000\n",
      "Lines processed :  76000\n",
      "Lines processed :  77000\n",
      "Lines processed :  78000\n",
      "Lines processed :  79000\n",
      "Lines processed :  80000\n",
      "Lines processed :  81000\n",
      "Lines processed :  82000\n",
      "Lines processed :  83000\n",
      "Lines processed :  84000\n",
      "Lines processed :  85000\n",
      "Lines processed :  86000\n",
      "Lines processed :  87000\n",
      "Lines processed :  88000\n",
      "Lines processed :  89000\n",
      "Lines processed :  90000\n",
      "Lines processed :  91000\n",
      "Lines processed :  92000\n",
      "Lines processed :  93000\n",
      "Lines processed :  94000\n",
      "Lines processed :  95000\n",
      "Lines processed :  96000\n",
      "Lines processed :  97000\n",
      "Lines processed :  98000\n",
      "Lines processed :  99000\n",
      "Lines processed :  100000\n",
      "Lines processed :  101000\n",
      "Lines processed :  102000\n",
      "Lines processed :  103000\n",
      "Lines processed :  104000\n",
      "Lines processed :  105000\n",
      "Lines processed :  106000\n",
      "Lines processed :  107000\n",
      "Lines processed :  108000\n",
      "Lines processed :  109000\n",
      "Lines processed :  110000\n",
      "Lines processed :  111000\n",
      "Lines processed :  112000\n",
      "Lines processed :  113000\n",
      "Lines processed :  114000\n",
      "Lines processed :  115000\n",
      "Lines processed :  116000\n",
      "Lines processed :  117000\n",
      "Lines processed :  118000\n",
      "Lines processed :  119000\n",
      "Lines processed :  120000\n",
      "Lines processed :  121000\n",
      "Lines processed :  122000\n",
      "Lines processed :  123000\n",
      "Lines processed :  124000\n",
      "Lines processed :  125000\n",
      "Lines processed :  126000\n",
      "Lines processed :  127000\n",
      "Lines processed :  128000\n",
      "Lines processed :  129000\n",
      "Lines processed :  130000\n",
      "Lines processed :  131000\n",
      "Lines processed :  132000\n",
      "Lines processed :  133000\n",
      "Lines processed :  134000\n",
      "Lines processed :  135000\n",
      "Lines processed :  136000\n",
      "Lines processed :  137000\n",
      "Lines processed :  138000\n",
      "Lines processed :  139000\n",
      "Lines processed :  140000\n",
      "Lines processed :  141000\n",
      "Lines processed :  142000\n",
      "Lines processed :  143000\n",
      "Lines processed :  144000\n",
      "Lines processed :  145000\n",
      "Lines processed :  146000\n",
      "Lines processed :  147000\n",
      "Lines processed :  148000\n",
      "Lines processed :  149000\n",
      "Lines processed :  150000\n",
      "Lines processed :  151000\n",
      "Lines processed :  152000\n",
      "Lines processed :  153000\n",
      "Lines processed :  154000\n",
      "Lines processed :  155000\n",
      "Lines processed :  156000\n",
      "Lines processed :  157000\n",
      "Lines processed :  158000\n",
      "Lines processed :  159000\n",
      "Lines processed :  160000\n",
      "Lines processed :  161000\n",
      "Lines processed :  162000\n",
      "Lines processed :  163000\n",
      "Lines processed :  164000\n",
      "Lines processed :  165000\n",
      "Lines processed :  166000\n",
      "Lines processed :  167000\n",
      "Lines processed :  168000\n",
      "Lines processed :  169000\n",
      "Lines processed :  170000\n",
      "Lines processed :  171000\n",
      "Lines processed :  172000\n",
      "Lines processed :  173000\n",
      "Lines processed :  174000\n",
      "Lines processed :  175000\n",
      "Lines processed :  176000\n",
      "Lines processed :  177000\n",
      "Lines processed :  178000\n",
      "Lines processed :  179000\n",
      "Lines processed :  180000\n",
      "Lines processed :  181000\n",
      "Lines processed :  182000\n",
      "Lines processed :  183000\n",
      "Lines processed :  184000\n",
      "Lines processed :  185000\n",
      "Lines processed :  186000\n",
      "Lines processed :  187000\n",
      "Lines processed :  188000\n",
      "Lines processed :  189000\n",
      "Lines processed :  190000\n",
      "Lines processed :  191000\n",
      "Lines processed :  192000\n",
      "Lines processed :  193000\n",
      "Lines processed :  194000\n",
      "Lines processed :  195000\n",
      "Lines processed :  196000\n",
      "Lines processed :  197000\n",
      "Lines processed :  198000\n",
      "Lines processed :  199000\n",
      "Lines processed :  200000\n",
      "Lines processed :  201000\n",
      "Lines processed :  202000\n",
      "Lines processed :  203000\n",
      "Lines processed :  204000\n",
      "Lines processed :  205000\n",
      "Lines processed :  206000\n",
      "Lines processed :  207000\n",
      "Lines processed :  208000\n",
      "Lines processed :  209000\n",
      "Lines processed :  210000\n",
      "Lines processed :  211000\n",
      "Lines processed :  212000\n",
      "Lines processed :  213000\n",
      "Lines processed :  214000\n",
      "Lines processed :  215000\n",
      "Lines processed :  216000\n",
      "Lines processed :  217000\n",
      "Lines processed :  218000\n",
      "Lines processed :  219000\n",
      "Lines processed :  220000\n",
      "Lines processed :  221000\n",
      "Lines processed :  222000\n",
      "Lines processed :  223000\n",
      "Lines processed :  224000\n",
      "Lines processed :  225000\n",
      "Lines processed :  226000\n",
      "Lines processed :  227000\n",
      "Lines processed :  228000\n",
      "Lines processed :  229000\n",
      "Lines processed :  230000\n",
      "Lines processed :  231000\n",
      "Lines processed :  232000\n",
      "Lines processed :  233000\n",
      "Lines processed :  234000\n",
      "Lines processed :  235000\n",
      "Lines processed :  236000\n",
      "Lines processed :  237000\n",
      "Lines processed :  238000\n",
      "Lines processed :  239000\n",
      "Lines processed :  240000\n",
      "Lines processed :  241000\n",
      "Lines processed :  242000\n",
      "Lines processed :  243000\n",
      "Lines processed :  244000\n",
      "Lines processed :  245000\n",
      "Lines processed :  246000\n",
      "Lines processed :  247000\n",
      "Lines processed :  248000\n",
      "Lines processed :  249000\n",
      "Lines processed :  250000\n",
      "Lines processed :  251000\n",
      "Lines processed :  252000\n",
      "Lines processed :  253000\n",
      "Lines processed :  254000\n",
      "Lines processed :  255000\n",
      "Lines processed :  256000\n",
      "Lines processed :  257000\n",
      "Lines processed :  258000\n",
      "Lines processed :  259000\n",
      "Lines processed :  260000\n",
      "Lines processed :  261000\n",
      "Lines processed :  262000\n",
      "Lines processed :  263000\n",
      "Lines processed :  264000\n",
      "Lines processed :  265000\n",
      "Lines processed :  266000\n",
      "Lines processed :  267000\n",
      "Lines processed :  268000\n",
      "Lines processed :  269000\n",
      "Lines processed :  270000\n",
      "Lines processed :  271000\n",
      "Lines processed :  272000\n",
      "Lines processed :  273000\n",
      "Lines processed :  274000\n"
     ]
    },
    {
     "name": "stdout",
     "output_type": "stream",
     "text": [
      "Lines processed :  275000\n",
      "Lines processed :  276000\n",
      "Lines processed :  277000\n",
      "Lines processed :  278000\n",
      "Lines processed :  279000\n",
      "Lines processed :  280000\n",
      "Lines processed :  281000\n",
      "Lines processed :  282000\n",
      "Lines processed :  283000\n",
      "Lines processed :  284000\n",
      "Lines processed :  285000\n",
      "Lines processed :  286000\n",
      "Lines processed :  287000\n",
      "Lines processed :  288000\n",
      "Lines processed :  289000\n",
      "Lines processed :  290000\n",
      "Lines processed :  291000\n",
      "Lines processed :  292000\n",
      "Lines processed :  293000\n",
      "Lines processed :  294000\n",
      "Lines processed :  295000\n",
      "Lines processed :  296000\n",
      "Lines processed :  297000\n",
      "Lines processed :  298000\n",
      "Lines processed :  299000\n",
      "Lines processed :  300000\n",
      "Lines processed :  301000\n",
      "Lines processed :  302000\n",
      "Lines processed :  303000\n",
      "Lines processed :  304000\n",
      "Lines processed :  305000\n",
      "Lines processed :  306000\n",
      "Lines processed :  307000\n",
      "Lines processed :  308000\n",
      "Lines processed :  309000\n",
      "Lines processed :  310000\n",
      "Lines processed :  311000\n",
      "Lines processed :  312000\n",
      "Lines processed :  313000\n",
      "Lines processed :  314000\n",
      "Lines processed :  315000\n",
      "Lines processed :  316000\n",
      "Lines processed :  317000\n",
      "Lines processed :  318000\n",
      "Lines processed :  319000\n",
      "Lines processed :  320000\n",
      "Lines processed :  321000\n",
      "Lines processed :  322000\n",
      "Lines processed :  323000\n",
      "Lines processed :  324000\n",
      "Lines processed :  325000\n",
      "Lines processed :  326000\n",
      "Lines processed :  327000\n",
      "Lines processed :  328000\n",
      "Lines processed :  329000\n",
      "Lines processed :  330000\n",
      "Lines processed :  331000\n",
      "Lines processed :  332000\n",
      "Lines processed :  333000\n",
      "Lines processed :  334000\n",
      "Lines processed :  335000\n",
      "Lines processed :  336000\n",
      "Lines processed :  337000\n",
      "Lines processed :  338000\n",
      "Lines processed :  339000\n",
      "Lines processed :  340000\n",
      "Lines processed :  341000\n",
      "Lines processed :  342000\n",
      "Lines processed :  343000\n",
      "Lines processed :  344000\n",
      "Lines processed :  345000\n",
      "Lines processed :  346000\n",
      "Lines processed :  347000\n",
      "Lines processed :  348000\n",
      "Lines processed :  349000\n",
      "Lines processed :  350000\n",
      "Lines processed :  351000\n",
      "Lines processed :  352000\n",
      "Lines processed :  353000\n",
      "Lines processed :  354000\n",
      "Lines processed :  355000\n",
      "Lines processed :  356000\n",
      "Lines processed :  357000\n",
      "Lines processed :  358000\n",
      "Lines processed :  359000\n",
      "Lines processed :  360000\n",
      "Lines processed :  361000\n",
      "Lines processed :  362000\n",
      "Lines processed :  363000\n",
      "Lines processed :  364000\n",
      "Lines processed :  365000\n",
      "Lines processed :  366000\n",
      "Lines processed :  367000\n",
      "Lines processed :  368000\n",
      "Lines processed :  369000\n",
      "Lines processed :  370000\n",
      "Lines processed :  371000\n",
      "Lines processed :  372000\n",
      "Lines processed :  373000\n",
      "Lines processed :  374000\n",
      "Lines processed :  375000\n",
      "Lines processed :  376000\n",
      "Lines processed :  377000\n",
      "Lines processed :  378000\n",
      "Lines processed :  379000\n",
      "Lines processed :  380000\n",
      "Lines processed :  381000\n",
      "Lines processed :  382000\n",
      "Lines processed :  383000\n",
      "Lines processed :  384000\n",
      "Lines processed :  385000\n",
      "Lines processed :  386000\n",
      "Lines processed :  387000\n",
      "Lines processed :  388000\n",
      "Lines processed :  389000\n",
      "Lines processed :  390000\n",
      "Lines processed :  391000\n",
      "Lines processed :  392000\n",
      "Lines processed :  393000\n",
      "Lines processed :  394000\n",
      "Lines processed :  395000\n",
      "Lines processed :  396000\n",
      "Lines processed :  397000\n",
      "Lines processed :  398000\n",
      "Lines processed :  399000\n",
      "Lines processed :  400000\n",
      "Lines processed :  401000\n",
      "Lines processed :  402000\n",
      "Lines processed :  403000\n",
      "Lines processed :  404000\n",
      "Lines processed :  405000\n",
      "Lines processed :  406000\n",
      "Lines processed :  407000\n",
      "Lines processed :  408000\n",
      "Lines processed :  409000\n",
      "Lines processed :  410000\n",
      "Lines processed :  411000\n",
      "Lines processed :  412000\n",
      "Lines processed :  413000\n",
      "Lines processed :  414000\n",
      "Lines processed :  415000\n",
      "Lines processed :  416000\n",
      "Lines processed :  417000\n",
      "Lines processed :  418000\n",
      "Lines processed :  419000\n",
      "Lines processed :  420000\n",
      "Lines processed :  421000\n",
      "Lines processed :  422000\n",
      "Lines processed :  423000\n",
      "Lines processed :  424000\n",
      "Lines processed :  425000\n",
      "Lines processed :  426000\n",
      "Lines processed :  427000\n",
      "Lines processed :  428000\n",
      "Lines processed :  429000\n",
      "Lines processed :  430000\n",
      "Lines processed :  431000\n",
      "Lines processed :  432000\n",
      "Lines processed :  433000\n",
      "Lines processed :  434000\n",
      "Lines processed :  435000\n",
      "Lines processed :  436000\n",
      "Lines processed :  437000\n",
      "Lines processed :  438000\n",
      "Lines processed :  439000\n",
      "Lines processed :  440000\n",
      "Lines processed :  441000\n",
      "Lines processed :  442000\n",
      "Lines processed :  443000\n",
      "Lines processed :  444000\n",
      "Lines processed :  445000\n",
      "Lines processed :  446000\n",
      "Lines processed :  447000\n",
      "Lines processed :  448000\n",
      "Lines processed :  449000\n",
      "Lines processed :  450000\n",
      "Lines processed :  451000\n",
      "Lines processed :  452000\n",
      "Lines processed :  453000\n",
      "Lines processed :  454000\n",
      "Lines processed :  455000\n",
      "Lines processed :  456000\n",
      "Lines processed :  457000\n",
      "Lines processed :  458000\n",
      "Lines processed :  459000\n",
      "Lines processed :  460000\n",
      "Lines processed :  461000\n",
      "Lines processed :  462000\n",
      "Lines processed :  463000\n",
      "Lines processed :  464000\n",
      "Lines processed :  465000\n",
      "Lines processed :  466000\n",
      "Lines processed :  467000\n",
      "Lines processed :  468000\n",
      "Lines processed :  469000\n",
      "Lines processed :  470000\n",
      "Lines processed :  471000\n",
      "Lines processed :  472000\n",
      "Lines processed :  473000\n",
      "Lines processed :  474000\n",
      "Lines processed :  475000\n",
      "Lines processed :  476000\n",
      "Lines processed :  477000\n",
      "Lines processed :  478000\n",
      "Lines processed :  479000\n",
      "Lines processed :  480000\n",
      "Lines processed :  481000\n",
      "Lines processed :  482000\n",
      "Lines processed :  483000\n",
      "Lines processed :  484000\n",
      "Lines processed :  485000\n",
      "Lines processed :  486000\n",
      "Lines processed :  487000\n",
      "Lines processed :  488000\n",
      "Lines processed :  489000\n",
      "Lines processed :  490000\n",
      "Lines processed :  491000\n",
      "Lines processed :  492000\n",
      "Lines processed :  493000\n",
      "Lines processed :  494000\n",
      "Lines processed :  495000\n",
      "Lines processed :  496000\n",
      "Lines processed :  497000\n",
      "Lines processed :  498000\n",
      "Lines processed :  499000\n",
      "Lines processed :  500000\n",
      "Lines processed :  501000\n",
      "Lines processed :  502000\n",
      "Lines processed :  503000\n",
      "Lines processed :  504000\n",
      "Lines processed :  505000\n",
      "Lines processed :  506000\n",
      "Lines processed :  507000\n",
      "Lines processed :  508000\n",
      "Lines processed :  509000\n",
      "Lines processed :  510000\n",
      "Lines processed :  511000\n",
      "Lines processed :  512000\n",
      "Lines processed :  513000\n",
      "Lines processed :  514000\n",
      "Lines processed :  515000\n",
      "Lines processed :  516000\n",
      "Lines processed :  517000\n",
      "Lines processed :  518000\n",
      "Lines processed :  519000\n",
      "Lines processed :  520000\n",
      "Lines processed :  521000\n",
      "Lines processed :  522000\n",
      "Lines processed :  523000\n",
      "Lines processed :  524000\n",
      "Lines processed :  525000\n",
      "Lines processed :  526000\n",
      "Lines processed :  527000\n",
      "Lines processed :  528000\n",
      "Lines processed :  529000\n",
      "Lines processed :  530000\n",
      "Lines processed :  531000\n",
      "Lines processed :  532000\n",
      "Lines processed :  533000\n",
      "Lines processed :  534000\n",
      "Lines processed :  535000\n",
      "Lines processed :  536000\n",
      "Lines processed :  537000\n",
      "Lines processed :  538000\n",
      "Lines processed :  539000\n",
      "Lines processed :  540000\n",
      "Lines processed :  541000\n",
      "Lines processed :  542000\n",
      "Lines processed :  543000\n",
      "Lines processed :  544000\n",
      "Lines processed :  545000\n",
      "Lines processed :  546000\n",
      "Lines processed :  547000\n",
      "Lines processed :  548000\n",
      "Lines processed :  549000\n",
      "Lines processed :  550000\n",
      "Lines processed :  551000\n",
      "Lines processed :  552000\n",
      "Lines processed :  553000\n",
      "Lines processed :  554000\n",
      "Lines processed :  555000\n",
      "Lines processed :  556000\n",
      "Lines processed :  557000\n",
      "Lines processed :  558000\n",
      "Lines processed :  559000\n",
      "Lines processed :  560000\n",
      "Lines processed :  561000\n",
      "Lines processed :  562000\n",
      "Lines processed :  563000\n",
      "Lines processed :  564000\n",
      "Lines processed :  565000\n",
      "Lines processed :  566000\n",
      "Lines processed :  567000\n",
      "Lines processed :  568000\n",
      "Lines processed :  569000\n",
      "Lines processed :  570000\n",
      "Lines processed :  571000\n",
      "Lines processed :  572000\n",
      "Lines processed :  573000\n",
      "Lines processed :  574000\n",
      "Lines processed :  575000\n",
      "Lines processed :  576000\n",
      "Lines processed :  577000\n",
      "Lines processed :  578000\n",
      "Lines processed :  579000\n",
      "Lines processed :  580000\n",
      "Lines processed :  581000\n",
      "Lines processed :  582000\n",
      "Lines processed :  583000\n",
      "Lines processed :  584000\n",
      "Lines processed :  585000\n",
      "Lines processed :  586000\n",
      "Lines processed :  587000\n",
      "Lines processed :  588000\n",
      "Lines processed :  589000\n",
      "Lines processed :  590000\n"
     ]
    },
    {
     "name": "stdout",
     "output_type": "stream",
     "text": [
      "Lines processed :  591000\n",
      "Lines processed :  592000\n",
      "Lines processed :  593000\n",
      "Lines processed :  594000\n",
      "Lines processed :  595000\n",
      "Lines processed :  596000\n",
      "Lines processed :  597000\n",
      "Lines processed :  598000\n",
      "Lines processed :  599000\n",
      "Lines processed :  600000\n",
      "Lines processed :  601000\n",
      "Lines processed :  602000\n",
      "Lines processed :  603000\n",
      "Lines processed :  604000\n",
      "Lines processed :  605000\n",
      "Lines processed :  606000\n",
      "Lines processed :  607000\n",
      "Lines processed :  608000\n",
      "Lines processed :  609000\n",
      "Lines processed :  610000\n",
      "Lines processed :  611000\n",
      "Lines processed :  612000\n",
      "Lines processed :  613000\n",
      "Lines processed :  614000\n",
      "Lines processed :  615000\n",
      "Lines processed :  616000\n",
      "Lines processed :  617000\n",
      "Lines processed :  618000\n",
      "Lines processed :  619000\n",
      "Lines processed :  620000\n",
      "Lines processed :  621000\n",
      "Lines processed :  622000\n",
      "Lines processed :  623000\n",
      "Lines processed :  624000\n",
      "Lines processed :  625000\n",
      "Lines processed :  626000\n",
      "Lines processed :  627000\n",
      "Lines processed :  628000\n",
      "Lines processed :  629000\n",
      "Lines processed :  630000\n",
      "Lines processed :  631000\n",
      "Lines processed :  632000\n",
      "Lines processed :  633000\n",
      "Lines processed :  634000\n",
      "Lines processed :  635000\n",
      "Lines processed :  636000\n",
      "Lines processed :  637000\n",
      "Lines processed :  638000\n",
      "Lines processed :  639000\n",
      "Lines processed :  640000\n",
      "Lines processed :  641000\n",
      "Lines processed :  642000\n",
      "Lines processed :  643000\n",
      "Lines processed :  644000\n",
      "Lines processed :  645000\n",
      "Lines processed :  646000\n",
      "Lines processed :  647000\n",
      "Lines processed :  648000\n",
      "Lines processed :  649000\n",
      "Lines processed :  650000\n",
      "Lines processed :  651000\n",
      "Lines processed :  652000\n",
      "Lines processed :  653000\n",
      "Lines processed :  654000\n",
      "Lines processed :  655000\n",
      "Lines processed :  656000\n",
      "Lines processed :  657000\n",
      "Lines processed :  658000\n",
      "Lines processed :  659000\n",
      "Lines processed :  660000\n",
      "Lines processed :  661000\n",
      "Lines processed :  662000\n",
      "Lines processed :  663000\n",
      "Lines processed :  664000\n",
      "Lines processed :  665000\n",
      "Lines processed :  666000\n",
      "Lines processed :  667000\n",
      "Lines processed :  668000\n",
      "Lines processed :  669000\n",
      "Lines processed :  670000\n",
      "Lines processed :  671000\n",
      "Lines processed :  672000\n",
      "Lines processed :  673000\n",
      "Lines processed :  674000\n",
      "Lines processed :  675000\n",
      "Lines processed :  676000\n",
      "Lines processed :  677000\n",
      "Lines processed :  678000\n",
      "Lines processed :  679000\n",
      "Lines processed :  680000\n",
      "Lines processed :  681000\n",
      "Lines processed :  682000\n",
      "Lines processed :  683000\n",
      "Lines processed :  684000\n",
      "Lines processed :  685000\n",
      "Lines processed :  686000\n",
      "Lines processed :  687000\n",
      "Lines processed :  688000\n",
      "Lines processed :  689000\n",
      "Lines processed :  690000\n",
      "Lines processed :  691000\n",
      "Lines processed :  692000\n",
      "Lines processed :  693000\n",
      "Lines processed :  694000\n",
      "Lines processed :  695000\n",
      "Lines processed :  696000\n",
      "Lines processed :  697000\n",
      "Lines processed :  698000\n",
      "Lines processed :  699000\n",
      "Lines processed :  700000\n",
      "Lines processed :  701000\n",
      "Lines processed :  702000\n",
      "Lines processed :  703000\n",
      "Lines processed :  704000\n",
      "Lines processed :  705000\n",
      "Lines processed :  706000\n",
      "Lines processed :  707000\n",
      "Lines processed :  708000\n",
      "Lines processed :  709000\n",
      "Lines processed :  710000\n",
      "Lines processed :  711000\n",
      "Lines processed :  712000\n",
      "Lines processed :  713000\n",
      "Lines processed :  714000\n",
      "Lines processed :  715000\n",
      "Lines processed :  716000\n",
      "Lines processed :  717000\n",
      "Lines processed :  718000\n",
      "Lines processed :  719000\n",
      "Lines processed :  720000\n",
      "Lines processed :  721000\n",
      "Lines processed :  722000\n",
      "Lines processed :  723000\n",
      "Lines processed :  724000\n",
      "Lines processed :  725000\n",
      "Lines processed :  726000\n",
      "Lines processed :  727000\n",
      "Lines processed :  728000\n",
      "Lines processed :  729000\n",
      "Lines processed :  730000\n",
      "Lines processed :  731000\n",
      "Lines processed :  732000\n",
      "Lines processed :  733000\n",
      "Lines processed :  734000\n",
      "Lines processed :  735000\n",
      "Lines processed :  736000\n",
      "Lines processed :  737000\n",
      "Lines processed :  738000\n",
      "Lines processed :  739000\n",
      "Lines processed :  740000\n",
      "Lines processed :  741000\n",
      "Lines processed :  742000\n",
      "Lines processed :  743000\n",
      "Lines processed :  744000\n",
      "Lines processed :  745000\n",
      "Lines processed :  746000\n",
      "Lines processed :  747000\n",
      "Lines processed :  748000\n",
      "Lines processed :  749000\n",
      "Lines processed :  750000\n",
      "Lines processed :  751000\n",
      "Lines processed :  752000\n",
      "Lines processed :  753000\n",
      "Lines processed :  754000\n",
      "Lines processed :  755000\n",
      "Lines processed :  756000\n",
      "Lines processed :  757000\n",
      "Lines processed :  758000\n",
      "Lines processed :  759000\n",
      "Lines processed :  760000\n",
      "Lines processed :  761000\n",
      "Lines processed :  762000\n",
      "Lines processed :  763000\n",
      "Lines processed :  764000\n",
      "Lines processed :  765000\n",
      "Lines processed :  766000\n",
      "Lines processed :  767000\n",
      "Lines processed :  768000\n",
      "Lines processed :  769000\n",
      "Lines processed :  770000\n",
      "Lines processed :  771000\n",
      "Lines processed :  772000\n",
      "Lines processed :  773000\n",
      "Lines processed :  774000\n",
      "Lines processed :  775000\n",
      "Lines processed :  776000\n",
      "Lines processed :  777000\n",
      "Lines processed :  778000\n",
      "Lines processed :  779000\n",
      "Lines processed :  780000\n",
      "Lines processed :  781000\n",
      "Lines processed :  782000\n",
      "Lines processed :  783000\n",
      "Lines processed :  784000\n",
      "Lines processed :  785000\n",
      "Lines processed :  786000\n",
      "Lines processed :  787000\n",
      "Lines processed :  788000\n",
      "Lines processed :  789000\n",
      "Lines processed :  790000\n",
      "Lines processed :  791000\n",
      "Lines processed :  792000\n",
      "Lines processed :  793000\n",
      "Lines processed :  794000\n",
      "Lines processed :  795000\n",
      "Lines processed :  796000\n",
      "Lines processed :  797000\n",
      "Lines processed :  798000\n",
      "Lines processed :  799000\n",
      "Lines processed :  800000\n",
      "Lines processed :  801000\n",
      "Lines processed :  802000\n",
      "Lines processed :  803000\n",
      "Lines processed :  804000\n",
      "Lines processed :  805000\n",
      "Lines processed :  806000\n",
      "Lines processed :  807000\n",
      "Lines processed :  808000\n",
      "Lines processed :  809000\n",
      "Lines processed :  810000\n",
      "Lines processed :  811000\n",
      "Lines processed :  812000\n",
      "Lines processed :  813000\n",
      "Lines processed :  814000\n",
      "Lines processed :  815000\n",
      "Lines processed :  816000\n",
      "Lines processed :  817000\n",
      "Lines processed :  818000\n",
      "Lines processed :  819000\n",
      "Lines processed :  820000\n",
      "Lines processed :  821000\n",
      "Lines processed :  822000\n",
      "Lines processed :  823000\n",
      "Lines processed :  824000\n",
      "Lines processed :  825000\n",
      "Lines processed :  826000\n",
      "Lines processed :  827000\n",
      "Lines processed :  828000\n",
      "Lines processed :  829000\n",
      "Lines processed :  830000\n",
      "Lines processed :  831000\n",
      "Lines processed :  832000\n",
      "Lines processed :  833000\n",
      "Lines processed :  834000\n",
      "Lines processed :  835000\n",
      "Lines processed :  836000\n",
      "Lines processed :  837000\n",
      "Lines processed :  838000\n",
      "Lines processed :  839000\n",
      "Lines processed :  840000\n",
      "Lines processed :  841000\n",
      "Lines processed :  842000\n",
      "Lines processed :  843000\n",
      "Lines processed :  844000\n",
      "Lines processed :  845000\n",
      "Lines processed :  846000\n",
      "Lines processed :  847000\n",
      "Lines processed :  848000\n",
      "Lines processed :  849000\n",
      "Lines processed :  850000\n",
      "Lines processed :  851000\n",
      "Lines processed :  852000\n",
      "Lines processed :  853000\n",
      "Lines processed :  854000\n",
      "Lines processed :  855000\n",
      "Lines processed :  856000\n",
      "Lines processed :  857000\n",
      "Lines processed :  858000\n",
      "Lines processed :  859000\n",
      "Lines processed :  860000\n",
      "Lines processed :  861000\n",
      "Lines processed :  862000\n",
      "Lines processed :  863000\n",
      "Lines processed :  864000\n",
      "Lines processed :  865000\n",
      "Lines processed :  866000\n",
      "Lines processed :  867000\n",
      "Lines processed :  868000\n",
      "Lines processed :  869000\n",
      "Lines processed :  870000\n",
      "Lines processed :  871000\n",
      "Lines processed :  872000\n",
      "Lines processed :  873000\n",
      "Lines processed :  874000\n",
      "Lines processed :  875000\n",
      "Lines processed :  876000\n",
      "Lines processed :  877000\n",
      "Lines processed :  878000\n",
      "Lines processed :  879000\n",
      "Lines processed :  880000\n",
      "Lines processed :  881000\n",
      "Lines processed :  882000\n",
      "Lines processed :  883000\n",
      "Lines processed :  884000\n",
      "Lines processed :  885000\n",
      "Lines processed :  886000\n",
      "Lines processed :  887000\n",
      "Lines processed :  888000\n",
      "Lines processed :  889000\n",
      "Lines processed :  890000\n",
      "Lines processed :  891000\n",
      "Lines processed :  892000\n",
      "Lines processed :  893000\n",
      "Lines processed :  894000\n",
      "Lines processed :  895000\n",
      "Lines processed :  896000\n",
      "Lines processed :  897000\n",
      "Lines processed :  898000\n",
      "Lines processed :  899000\n",
      "Lines processed :  900000\n",
      "Lines processed :  901000\n",
      "Lines processed :  902000\n",
      "Lines processed :  903000\n",
      "Lines processed :  904000\n",
      "Lines processed :  905000\n",
      "Lines processed :  906000\n"
     ]
    },
    {
     "name": "stdout",
     "output_type": "stream",
     "text": [
      "Lines processed :  907000\n",
      "Lines processed :  908000\n",
      "Lines processed :  909000\n",
      "Lines processed :  910000\n",
      "Lines processed :  911000\n",
      "Lines processed :  912000\n",
      "Lines processed :  913000\n",
      "Lines processed :  914000\n",
      "Lines processed :  915000\n",
      "Lines processed :  916000\n",
      "Lines processed :  917000\n",
      "Lines processed :  918000\n",
      "Lines processed :  919000\n",
      "Lines processed :  920000\n",
      "Lines processed :  921000\n",
      "Lines processed :  922000\n",
      "Lines processed :  923000\n",
      "Lines processed :  924000\n",
      "Lines processed :  925000\n",
      "Lines processed :  926000\n",
      "Lines processed :  927000\n",
      "Lines processed :  928000\n",
      "Lines processed :  929000\n",
      "Lines processed :  930000\n",
      "Lines processed :  931000\n",
      "Lines processed :  932000\n",
      "Lines processed :  933000\n",
      "Lines processed :  934000\n",
      "Lines processed :  935000\n",
      "Lines processed :  936000\n",
      "Lines processed :  937000\n",
      "Lines processed :  938000\n",
      "Lines processed :  939000\n",
      "Lines processed :  940000\n",
      "Lines processed :  941000\n",
      "Lines processed :  942000\n",
      "Lines processed :  943000\n",
      "Lines processed :  944000\n",
      "Lines processed :  945000\n",
      "Lines processed :  946000\n",
      "Lines processed :  947000\n",
      "Lines processed :  948000\n",
      "Lines processed :  949000\n",
      "Lines processed :  950000\n",
      "Lines processed :  951000\n",
      "Lines processed :  952000\n",
      "Lines processed :  953000\n",
      "Lines processed :  954000\n",
      "Lines processed :  955000\n",
      "Lines processed :  956000\n",
      "Lines processed :  957000\n",
      "Lines processed :  958000\n",
      "Lines processed :  959000\n",
      "Lines processed :  960000\n",
      "Lines processed :  961000\n",
      "Lines processed :  962000\n",
      "Lines processed :  963000\n",
      "Lines processed :  964000\n",
      "Lines processed :  965000\n",
      "Lines processed :  966000\n",
      "Lines processed :  967000\n",
      "Lines processed :  968000\n",
      "Lines processed :  969000\n",
      "Lines processed :  970000\n",
      "Lines processed :  971000\n",
      "Lines processed :  972000\n",
      "Lines processed :  973000\n",
      "Lines processed :  974000\n",
      "Lines processed :  975000\n",
      "Lines processed :  976000\n",
      "Lines processed :  977000\n",
      "Lines processed :  978000\n",
      "Lines processed :  979000\n",
      "Lines processed :  980000\n",
      "Lines processed :  981000\n",
      "Lines processed :  982000\n",
      "Lines processed :  983000\n",
      "Lines processed :  984000\n",
      "Lines processed :  985000\n",
      "Lines processed :  986000\n",
      "Lines processed :  987000\n",
      "Lines processed :  988000\n",
      "Lines processed :  989000\n",
      "Lines processed :  990000\n",
      "Lines processed :  991000\n",
      "Lines processed :  992000\n",
      "Lines processed :  993000\n",
      "Lines processed :  994000\n",
      "Lines processed :  995000\n",
      "Collection Properties\n",
      "Atoms               45.392443\n",
      "MW                 642.918071\n",
      "fSP3                 0.341339\n",
      "HBA                  9.964289\n",
      "HBD                  2.810945\n",
      "Stereo Atoms         0.632684\n",
      "Rings                5.634855\n",
      "Rotatable Bonds     11.132490\n",
      "QED                  0.239877\n",
      "logD                 4.788407\n",
      "TPSA               120.505614\n",
      "dtype: float64\n",
      "Atoms                9.664405\n",
      "MW                 129.456620\n",
      "fSP3                 0.094153\n",
      "HBA                  2.649719\n",
      "HBD                  0.849244\n",
      "Stereo Atoms         1.122853\n",
      "Rings                1.868470\n",
      "Rotatable Bonds      2.240576\n",
      "QED                  0.103061\n",
      "logD                 1.764743\n",
      "TPSA                31.498556\n",
      "dtype: float64\n",
      "Atoms               26.000000\n",
      "MW                 359.195740\n",
      "fSP3                 0.095238\n",
      "HBA                  5.000000\n",
      "HBD                  2.000000\n",
      "Stereo Atoms         0.000000\n",
      "Rings                2.000000\n",
      "Rotatable Bonds      7.000000\n",
      "QED                  0.024790\n",
      "logD                -1.403400\n",
      "TPSA                61.440000\n",
      "dtype: float64\n",
      "Atoms                87.000000\n",
      "MW                 1204.449504\n",
      "fSP3                  0.724138\n",
      "HBA                  21.000000\n",
      "HBD                   7.000000\n",
      "Stereo Atoms          9.000000\n",
      "Rings                13.000000\n",
      "Rotatable Bonds      24.000000\n",
      "QED                   0.702660\n",
      "logD                 13.772800\n",
      "TPSA                255.910000\n",
      "dtype: float64\n"
     ]
    }
   ],
   "source": [
    "##### Read and Prepare DEL1 Structures\n",
    "\n",
    "dfm = pd.read_csv(\"../DEL1_enum.csv\")\n",
    "dfr=dfm['Structure']\n",
    "\n",
    "del1_list = list_prep(dfr)\n",
    "#print(drug_list)\n",
    "print('DEL1-list Prepared')\n",
    "\n",
    "df_del1 = collection_properties(del1_list)\n",
    "print('Collection Properties')\n",
    "#print(df_del1)\n",
    "\n",
    "### Calculate Statistics\n",
    "\n",
    "del1_mean = df_del1[molprop].mean()\n",
    "del1_std = df_del1[molprop].std()\n",
    "del1_min = df_del1[molprop].min()\n",
    "del1_max = df_del1[molprop].max()\n",
    "print(del1_mean)\n",
    "print(del1_std)\n",
    "print(del1_min)\n",
    "print(del1_max)\n",
    "\n",
    "df_del1.to_csv('../DEL1_properties.csv')"
   ]
  },
  {
   "cell_type": "code",
   "execution_count": 9,
   "id": "c3fc163d",
   "metadata": {},
   "outputs": [
    {
     "name": "stdout",
     "output_type": "stream",
     "text": [
      "453379 1000\n",
      "Lines processed :  0\n",
      "Lines processed :  1000\n",
      "Lines processed :  2000\n",
      "Lines processed :  3000\n",
      "Lines processed :  4000\n",
      "Lines processed :  5000\n",
      "Lines processed :  6000\n",
      "Lines processed :  7000\n",
      "Lines processed :  8000\n",
      "Lines processed :  9000\n",
      "Lines processed :  10000\n",
      "Lines processed :  11000\n",
      "Lines processed :  12000\n",
      "Lines processed :  13000\n",
      "Lines processed :  14000\n",
      "Lines processed :  15000\n",
      "Lines processed :  16000\n",
      "Lines processed :  17000\n",
      "Lines processed :  18000\n",
      "Lines processed :  19000\n",
      "Lines processed :  20000\n",
      "Lines processed :  21000\n",
      "Lines processed :  22000\n",
      "Lines processed :  23000\n",
      "Lines processed :  24000\n",
      "Lines processed :  25000\n",
      "Lines processed :  26000\n",
      "Lines processed :  27000\n",
      "Lines processed :  28000\n",
      "Lines processed :  29000\n",
      "Lines processed :  30000\n",
      "Lines processed :  31000\n",
      "Lines processed :  32000\n",
      "Lines processed :  33000\n",
      "Lines processed :  34000\n",
      "Lines processed :  35000\n",
      "Lines processed :  36000\n",
      "Lines processed :  37000\n",
      "Lines processed :  38000\n",
      "Lines processed :  39000\n",
      "Lines processed :  40000\n",
      "Lines processed :  41000\n",
      "Lines processed :  42000\n",
      "Lines processed :  43000\n",
      "Lines processed :  44000\n",
      "Lines processed :  45000\n",
      "Lines processed :  46000\n",
      "Lines processed :  47000\n",
      "Lines processed :  48000\n",
      "Lines processed :  49000\n",
      "Lines processed :  50000\n",
      "Lines processed :  51000\n",
      "Lines processed :  52000\n",
      "Lines processed :  53000\n",
      "Lines processed :  54000\n",
      "Lines processed :  55000\n",
      "Lines processed :  56000\n",
      "Lines processed :  57000\n",
      "Lines processed :  58000\n",
      "Lines processed :  59000\n",
      "Lines processed :  60000\n",
      "Lines processed :  61000\n",
      "Lines processed :  62000\n",
      "Lines processed :  63000\n",
      "Lines processed :  64000\n",
      "Lines processed :  65000\n",
      "Lines processed :  66000\n",
      "Lines processed :  67000\n",
      "Lines processed :  68000\n",
      "Lines processed :  69000\n",
      "Lines processed :  70000\n",
      "Lines processed :  71000\n",
      "Lines processed :  72000\n",
      "Lines processed :  73000\n",
      "Lines processed :  74000\n",
      "Lines processed :  75000\n",
      "Lines processed :  76000\n",
      "Lines processed :  77000\n",
      "Lines processed :  78000\n",
      "Lines processed :  79000\n",
      "Lines processed :  80000\n",
      "Lines processed :  81000\n",
      "Lines processed :  82000\n",
      "Lines processed :  83000\n",
      "Lines processed :  84000\n",
      "Lines processed :  85000\n",
      "Lines processed :  86000\n",
      "Lines processed :  87000\n",
      "Lines processed :  88000\n",
      "Lines processed :  89000\n",
      "Lines processed :  90000\n",
      "Lines processed :  91000\n",
      "Lines processed :  92000\n",
      "Lines processed :  93000\n",
      "Lines processed :  94000\n",
      "Lines processed :  95000\n",
      "Lines processed :  96000\n",
      "Lines processed :  97000\n",
      "Lines processed :  98000\n",
      "Lines processed :  99000\n",
      "Lines processed :  100000\n",
      "Lines processed :  101000\n",
      "Lines processed :  102000\n",
      "Lines processed :  103000\n",
      "Lines processed :  104000\n",
      "Lines processed :  105000\n",
      "Lines processed :  106000\n",
      "Lines processed :  107000\n",
      "Lines processed :  108000\n",
      "Lines processed :  109000\n",
      "Lines processed :  110000\n",
      "Lines processed :  111000\n",
      "Lines processed :  112000\n",
      "Lines processed :  113000\n",
      "Lines processed :  114000\n",
      "Lines processed :  115000\n",
      "Lines processed :  116000\n",
      "Lines processed :  117000\n",
      "Lines processed :  118000\n",
      "Lines processed :  119000\n",
      "Lines processed :  120000\n",
      "Lines processed :  121000\n",
      "Lines processed :  122000\n",
      "Lines processed :  123000\n",
      "Lines processed :  124000\n",
      "Lines processed :  125000\n",
      "Lines processed :  126000\n",
      "Lines processed :  127000\n",
      "Lines processed :  128000\n",
      "Lines processed :  129000\n",
      "Lines processed :  130000\n",
      "Lines processed :  131000\n",
      "Lines processed :  132000\n",
      "Lines processed :  133000\n",
      "Lines processed :  134000\n",
      "Lines processed :  135000\n",
      "Lines processed :  136000\n",
      "Lines processed :  137000\n",
      "Lines processed :  138000\n",
      "Lines processed :  139000\n",
      "Lines processed :  140000\n",
      "Lines processed :  141000\n",
      "Lines processed :  142000\n",
      "Lines processed :  143000\n",
      "Lines processed :  144000\n",
      "Lines processed :  145000\n",
      "Lines processed :  146000\n",
      "Lines processed :  147000\n",
      "Lines processed :  148000\n",
      "Lines processed :  149000\n",
      "Lines processed :  150000\n",
      "Lines processed :  151000\n",
      "Lines processed :  152000\n",
      "Lines processed :  153000\n",
      "Lines processed :  154000\n",
      "Lines processed :  155000\n",
      "Lines processed :  156000\n",
      "Lines processed :  157000\n",
      "Lines processed :  158000\n",
      "Lines processed :  159000\n",
      "Lines processed :  160000\n",
      "Lines processed :  161000\n",
      "Lines processed :  162000\n",
      "Lines processed :  163000\n",
      "Lines processed :  164000\n",
      "Lines processed :  165000\n",
      "Lines processed :  166000\n",
      "Lines processed :  167000\n",
      "Lines processed :  168000\n",
      "Lines processed :  169000\n",
      "Lines processed :  170000\n",
      "Lines processed :  171000\n",
      "Lines processed :  172000\n",
      "Lines processed :  173000\n",
      "Lines processed :  174000\n",
      "Lines processed :  175000\n",
      "Lines processed :  176000\n",
      "Lines processed :  177000\n",
      "Lines processed :  178000\n",
      "Lines processed :  179000\n",
      "Lines processed :  180000\n",
      "Lines processed :  181000\n",
      "Lines processed :  182000\n",
      "Lines processed :  183000\n",
      "Lines processed :  184000\n",
      "Lines processed :  185000\n",
      "Lines processed :  186000\n",
      "Lines processed :  187000\n",
      "Lines processed :  188000\n",
      "Lines processed :  189000\n",
      "Lines processed :  190000\n",
      "Lines processed :  191000\n",
      "Lines processed :  192000\n",
      "Lines processed :  193000\n",
      "Lines processed :  194000\n",
      "Lines processed :  195000\n",
      "Lines processed :  196000\n",
      "Lines processed :  197000\n",
      "Lines processed :  198000\n",
      "Lines processed :  199000\n",
      "Lines processed :  200000\n",
      "Lines processed :  201000\n",
      "Lines processed :  202000\n",
      "Lines processed :  203000\n",
      "Lines processed :  204000\n",
      "Lines processed :  205000\n",
      "Lines processed :  206000\n",
      "Lines processed :  207000\n",
      "Lines processed :  208000\n",
      "Lines processed :  209000\n",
      "Lines processed :  210000\n",
      "Lines processed :  211000\n",
      "Lines processed :  212000\n",
      "Lines processed :  213000\n",
      "Lines processed :  214000\n",
      "Lines processed :  215000\n",
      "Lines processed :  216000\n",
      "Lines processed :  217000\n",
      "Lines processed :  218000\n",
      "Lines processed :  219000\n",
      "Lines processed :  220000\n",
      "Lines processed :  221000\n",
      "Lines processed :  222000\n",
      "Lines processed :  223000\n",
      "Lines processed :  224000\n",
      "Lines processed :  225000\n",
      "Lines processed :  226000\n",
      "Lines processed :  227000\n",
      "Lines processed :  228000\n",
      "Lines processed :  229000\n",
      "Lines processed :  230000\n",
      "Lines processed :  231000\n",
      "Lines processed :  232000\n",
      "Lines processed :  233000\n",
      "Lines processed :  234000\n",
      "Lines processed :  235000\n",
      "Lines processed :  236000\n",
      "Lines processed :  237000\n",
      "Lines processed :  238000\n",
      "Lines processed :  239000\n",
      "Lines processed :  240000\n",
      "Lines processed :  241000\n",
      "Lines processed :  242000\n",
      "Lines processed :  243000\n",
      "Lines processed :  244000\n",
      "Lines processed :  245000\n",
      "Lines processed :  246000\n",
      "Lines processed :  247000\n",
      "Lines processed :  248000\n",
      "Lines processed :  249000\n",
      "Lines processed :  250000\n",
      "Lines processed :  251000\n",
      "Lines processed :  252000\n",
      "Lines processed :  253000\n",
      "Lines processed :  254000\n",
      "Lines processed :  255000\n",
      "Lines processed :  256000\n",
      "Lines processed :  257000\n",
      "Lines processed :  258000\n",
      "Lines processed :  259000\n",
      "Lines processed :  260000\n",
      "Lines processed :  261000\n",
      "Lines processed :  262000\n",
      "Lines processed :  263000\n",
      "Lines processed :  264000\n",
      "Lines processed :  265000\n",
      "Lines processed :  266000\n",
      "Lines processed :  267000\n",
      "Lines processed :  268000\n",
      "Lines processed :  269000\n",
      "Lines processed :  270000\n",
      "Lines processed :  271000\n",
      "Lines processed :  272000\n",
      "Lines processed :  273000\n",
      "Lines processed :  274000\n",
      "Lines processed :  275000\n",
      "Lines processed :  276000\n",
      "Lines processed :  277000\n",
      "Lines processed :  278000\n",
      "Lines processed :  279000\n",
      "Lines processed :  280000\n",
      "Lines processed :  281000\n",
      "Lines processed :  282000\n",
      "Lines processed :  283000\n",
      "Lines processed :  284000\n",
      "Lines processed :  285000\n",
      "Lines processed :  286000\n",
      "Lines processed :  287000\n",
      "Lines processed :  288000\n",
      "Lines processed :  289000\n",
      "Lines processed :  290000\n",
      "Lines processed :  291000\n",
      "Lines processed :  292000\n",
      "Lines processed :  293000\n",
      "Lines processed :  294000\n",
      "Lines processed :  295000\n",
      "Lines processed :  296000\n",
      "Lines processed :  297000\n",
      "Lines processed :  298000\n",
      "Lines processed :  299000\n",
      "Lines processed :  300000\n",
      "Lines processed :  301000\n",
      "Lines processed :  302000\n",
      "Lines processed :  303000\n",
      "Lines processed :  304000\n",
      "Lines processed :  305000\n",
      "Lines processed :  306000\n",
      "Lines processed :  307000\n",
      "Lines processed :  308000\n",
      "Lines processed :  309000\n",
      "Lines processed :  310000\n",
      "Lines processed :  311000\n",
      "Lines processed :  312000\n",
      "Lines processed :  313000\n",
      "Lines processed :  314000\n",
      "Lines processed :  315000\n",
      "Lines processed :  316000\n",
      "Lines processed :  317000\n",
      "Lines processed :  318000\n"
     ]
    },
    {
     "name": "stdout",
     "output_type": "stream",
     "text": [
      "Lines processed :  319000\n",
      "Lines processed :  320000\n",
      "Lines processed :  321000\n",
      "Lines processed :  322000\n",
      "Lines processed :  323000\n",
      "Lines processed :  324000\n",
      "Lines processed :  325000\n",
      "Lines processed :  326000\n",
      "Lines processed :  327000\n",
      "Lines processed :  328000\n",
      "Lines processed :  329000\n",
      "Lines processed :  330000\n",
      "Lines processed :  331000\n",
      "Lines processed :  332000\n",
      "Lines processed :  333000\n",
      "Lines processed :  334000\n",
      "Lines processed :  335000\n",
      "Lines processed :  336000\n",
      "Lines processed :  337000\n",
      "Lines processed :  338000\n",
      "Lines processed :  339000\n",
      "Lines processed :  340000\n",
      "Lines processed :  341000\n",
      "Lines processed :  342000\n",
      "Lines processed :  343000\n",
      "Lines processed :  344000\n",
      "Lines processed :  345000\n",
      "Lines processed :  346000\n",
      "Lines processed :  347000\n",
      "Lines processed :  348000\n",
      "Lines processed :  349000\n",
      "Lines processed :  350000\n",
      "Lines processed :  351000\n",
      "Lines processed :  352000\n",
      "Lines processed :  353000\n",
      "Lines processed :  354000\n",
      "Lines processed :  355000\n",
      "Lines processed :  356000\n",
      "Lines processed :  357000\n",
      "Lines processed :  358000\n",
      "Lines processed :  359000\n",
      "Lines processed :  360000\n",
      "Lines processed :  361000\n",
      "Lines processed :  362000\n",
      "Lines processed :  363000\n",
      "Lines processed :  364000\n",
      "Lines processed :  365000\n",
      "Lines processed :  366000\n",
      "Lines processed :  367000\n",
      "Lines processed :  368000\n",
      "Lines processed :  369000\n",
      "Lines processed :  370000\n",
      "Lines processed :  371000\n",
      "Lines processed :  372000\n",
      "Lines processed :  373000\n",
      "Lines processed :  374000\n",
      "Lines processed :  375000\n",
      "Lines processed :  376000\n",
      "Lines processed :  377000\n",
      "Lines processed :  378000\n",
      "Lines processed :  379000\n",
      "Lines processed :  380000\n",
      "Lines processed :  381000\n",
      "Lines processed :  382000\n",
      "Lines processed :  383000\n",
      "Lines processed :  384000\n",
      "Lines processed :  385000\n",
      "Lines processed :  386000\n",
      "Lines processed :  387000\n",
      "Lines processed :  388000\n",
      "Lines processed :  389000\n",
      "Lines processed :  390000\n",
      "Lines processed :  391000\n",
      "Lines processed :  392000\n",
      "Lines processed :  393000\n",
      "Lines processed :  394000\n",
      "Lines processed :  395000\n",
      "Lines processed :  396000\n",
      "Lines processed :  397000\n",
      "Lines processed :  398000\n",
      "Lines processed :  399000\n",
      "Lines processed :  400000\n",
      "Lines processed :  401000\n",
      "Lines processed :  402000\n",
      "Lines processed :  403000\n",
      "Lines processed :  404000\n",
      "Lines processed :  405000\n",
      "Lines processed :  406000\n",
      "Lines processed :  407000\n",
      "Lines processed :  408000\n",
      "Lines processed :  409000\n",
      "Lines processed :  410000\n",
      "Lines processed :  411000\n",
      "Lines processed :  412000\n",
      "Lines processed :  413000\n",
      "Lines processed :  414000\n",
      "Lines processed :  415000\n",
      "Lines processed :  416000\n",
      "Lines processed :  417000\n",
      "Lines processed :  418000\n",
      "Lines processed :  419000\n",
      "Lines processed :  420000\n",
      "Lines processed :  421000\n",
      "Lines processed :  422000\n",
      "Lines processed :  423000\n",
      "Lines processed :  424000\n",
      "Lines processed :  425000\n",
      "Lines processed :  426000\n",
      "Lines processed :  427000\n",
      "Lines processed :  428000\n",
      "Lines processed :  429000\n",
      "Lines processed :  430000\n",
      "Lines processed :  431000\n",
      "Lines processed :  432000\n",
      "Lines processed :  433000\n",
      "Lines processed :  434000\n",
      "Lines processed :  435000\n",
      "Lines processed :  436000\n",
      "Lines processed :  437000\n",
      "Lines processed :  438000\n",
      "Lines processed :  439000\n",
      "Lines processed :  440000\n",
      "Lines processed :  441000\n",
      "Lines processed :  442000\n",
      "Lines processed :  443000\n",
      "Lines processed :  444000\n",
      "Lines processed :  445000\n",
      "Lines processed :  446000\n",
      "Lines processed :  447000\n",
      "Lines processed :  448000\n",
      "Lines processed :  449000\n",
      "Lines processed :  450000\n",
      "Lines processed :  451000\n",
      "Lines processed :  452000\n",
      "Lines processed :  453000\n",
      "DEL2-list Prepared\n",
      "Lines processed :  1000\n",
      "Lines processed :  2000\n",
      "Lines processed :  3000\n",
      "Lines processed :  4000\n",
      "Lines processed :  5000\n",
      "Lines processed :  6000\n",
      "Lines processed :  7000\n",
      "Lines processed :  8000\n",
      "Lines processed :  9000\n",
      "Lines processed :  10000\n",
      "Lines processed :  11000\n",
      "Lines processed :  12000\n",
      "Lines processed :  13000\n",
      "Lines processed :  14000\n",
      "Lines processed :  15000\n",
      "Lines processed :  16000\n",
      "Lines processed :  17000\n",
      "Lines processed :  18000\n",
      "Lines processed :  19000\n",
      "Lines processed :  20000\n",
      "Lines processed :  21000\n",
      "Lines processed :  22000\n",
      "Lines processed :  23000\n",
      "Lines processed :  24000\n",
      "Lines processed :  25000\n",
      "Lines processed :  26000\n",
      "Lines processed :  27000\n",
      "Lines processed :  28000\n",
      "Lines processed :  29000\n",
      "Lines processed :  30000\n",
      "Lines processed :  31000\n",
      "Lines processed :  32000\n",
      "Lines processed :  33000\n",
      "Lines processed :  34000\n",
      "Lines processed :  35000\n",
      "Lines processed :  36000\n",
      "Lines processed :  37000\n",
      "Lines processed :  38000\n",
      "Lines processed :  39000\n",
      "Lines processed :  40000\n",
      "Lines processed :  41000\n",
      "Lines processed :  42000\n",
      "Lines processed :  43000\n",
      "Lines processed :  44000\n",
      "Lines processed :  45000\n",
      "Lines processed :  46000\n",
      "Lines processed :  47000\n",
      "Lines processed :  48000\n",
      "Lines processed :  49000\n",
      "Lines processed :  50000\n",
      "Lines processed :  51000\n",
      "Lines processed :  52000\n",
      "Lines processed :  53000\n",
      "Lines processed :  54000\n",
      "Lines processed :  55000\n",
      "Lines processed :  56000\n",
      "Lines processed :  57000\n",
      "Lines processed :  58000\n",
      "Lines processed :  59000\n",
      "Lines processed :  60000\n",
      "Lines processed :  61000\n",
      "Lines processed :  62000\n",
      "Lines processed :  63000\n",
      "Lines processed :  64000\n",
      "Lines processed :  65000\n",
      "Lines processed :  66000\n",
      "Lines processed :  67000\n",
      "Lines processed :  68000\n",
      "Lines processed :  69000\n",
      "Lines processed :  70000\n",
      "Lines processed :  71000\n",
      "Lines processed :  72000\n",
      "Lines processed :  73000\n",
      "Lines processed :  74000\n",
      "Lines processed :  75000\n",
      "Lines processed :  76000\n",
      "Lines processed :  77000\n",
      "Lines processed :  78000\n",
      "Lines processed :  79000\n",
      "Lines processed :  80000\n",
      "Lines processed :  81000\n",
      "Lines processed :  82000\n",
      "Lines processed :  83000\n",
      "Lines processed :  84000\n",
      "Lines processed :  85000\n",
      "Lines processed :  86000\n",
      "Lines processed :  87000\n",
      "Lines processed :  88000\n",
      "Lines processed :  89000\n",
      "Lines processed :  90000\n",
      "Lines processed :  91000\n",
      "Lines processed :  92000\n",
      "Lines processed :  93000\n",
      "Lines processed :  94000\n",
      "Lines processed :  95000\n",
      "Lines processed :  96000\n",
      "Lines processed :  97000\n",
      "Lines processed :  98000\n",
      "Lines processed :  99000\n",
      "Lines processed :  100000\n",
      "Lines processed :  101000\n",
      "Lines processed :  102000\n",
      "Lines processed :  103000\n",
      "Lines processed :  104000\n",
      "Lines processed :  105000\n",
      "Lines processed :  106000\n",
      "Lines processed :  107000\n",
      "Lines processed :  108000\n",
      "Lines processed :  109000\n",
      "Lines processed :  110000\n",
      "Lines processed :  111000\n",
      "Lines processed :  112000\n",
      "Lines processed :  113000\n",
      "Lines processed :  114000\n",
      "Lines processed :  115000\n",
      "Lines processed :  116000\n",
      "Lines processed :  117000\n",
      "Lines processed :  118000\n",
      "Lines processed :  119000\n",
      "Lines processed :  120000\n",
      "Lines processed :  121000\n",
      "Lines processed :  122000\n",
      "Lines processed :  123000\n",
      "Lines processed :  124000\n",
      "Lines processed :  125000\n",
      "Lines processed :  126000\n",
      "Lines processed :  127000\n",
      "Lines processed :  128000\n",
      "Lines processed :  129000\n",
      "Lines processed :  130000\n",
      "Lines processed :  131000\n",
      "Lines processed :  132000\n",
      "Lines processed :  133000\n",
      "Lines processed :  134000\n",
      "Lines processed :  135000\n",
      "Lines processed :  136000\n",
      "Lines processed :  137000\n",
      "Lines processed :  138000\n",
      "Lines processed :  139000\n",
      "Lines processed :  140000\n",
      "Lines processed :  141000\n",
      "Lines processed :  142000\n",
      "Lines processed :  143000\n",
      "Lines processed :  144000\n",
      "Lines processed :  145000\n",
      "Lines processed :  146000\n",
      "Lines processed :  147000\n",
      "Lines processed :  148000\n",
      "Lines processed :  149000\n",
      "Lines processed :  150000\n",
      "Lines processed :  151000\n",
      "Lines processed :  152000\n",
      "Lines processed :  153000\n",
      "Lines processed :  154000\n",
      "Lines processed :  155000\n",
      "Lines processed :  156000\n",
      "Lines processed :  157000\n",
      "Lines processed :  158000\n",
      "Lines processed :  159000\n",
      "Lines processed :  160000\n",
      "Lines processed :  161000\n",
      "Lines processed :  162000\n",
      "Lines processed :  163000\n",
      "Lines processed :  164000\n",
      "Lines processed :  165000\n",
      "Lines processed :  166000\n",
      "Lines processed :  167000\n",
      "Lines processed :  168000\n",
      "Lines processed :  169000\n",
      "Lines processed :  170000\n",
      "Lines processed :  171000\n",
      "Lines processed :  172000\n",
      "Lines processed :  173000\n",
      "Lines processed :  174000\n",
      "Lines processed :  175000\n",
      "Lines processed :  176000\n",
      "Lines processed :  177000\n",
      "Lines processed :  178000\n",
      "Lines processed :  179000\n",
      "Lines processed :  180000\n",
      "Lines processed :  181000\n",
      "Lines processed :  182000\n",
      "Lines processed :  183000\n",
      "Lines processed :  184000\n"
     ]
    },
    {
     "name": "stdout",
     "output_type": "stream",
     "text": [
      "Lines processed :  185000\n",
      "Lines processed :  186000\n",
      "Lines processed :  187000\n",
      "Lines processed :  188000\n",
      "Lines processed :  189000\n",
      "Lines processed :  190000\n",
      "Lines processed :  191000\n",
      "Lines processed :  192000\n",
      "Lines processed :  193000\n",
      "Lines processed :  194000\n",
      "Lines processed :  195000\n",
      "Lines processed :  196000\n",
      "Lines processed :  197000\n",
      "Lines processed :  198000\n",
      "Lines processed :  199000\n",
      "Lines processed :  200000\n",
      "Lines processed :  201000\n",
      "Lines processed :  202000\n",
      "Lines processed :  203000\n",
      "Lines processed :  204000\n",
      "Lines processed :  205000\n",
      "Lines processed :  206000\n",
      "Lines processed :  207000\n",
      "Lines processed :  208000\n",
      "Lines processed :  209000\n",
      "Lines processed :  210000\n",
      "Lines processed :  211000\n",
      "Lines processed :  212000\n",
      "Lines processed :  213000\n",
      "Lines processed :  214000\n",
      "Lines processed :  215000\n",
      "Lines processed :  216000\n",
      "Lines processed :  217000\n",
      "Lines processed :  218000\n",
      "Lines processed :  219000\n",
      "Lines processed :  220000\n",
      "Lines processed :  221000\n",
      "Lines processed :  222000\n",
      "Lines processed :  223000\n",
      "Lines processed :  224000\n",
      "Lines processed :  225000\n",
      "Lines processed :  226000\n",
      "Lines processed :  227000\n",
      "Lines processed :  228000\n",
      "Lines processed :  229000\n",
      "Lines processed :  230000\n",
      "Lines processed :  231000\n",
      "Lines processed :  232000\n",
      "Lines processed :  233000\n",
      "Lines processed :  234000\n",
      "Lines processed :  235000\n",
      "Lines processed :  236000\n",
      "Lines processed :  237000\n",
      "Lines processed :  238000\n",
      "Lines processed :  239000\n",
      "Lines processed :  240000\n",
      "Lines processed :  241000\n",
      "Lines processed :  242000\n",
      "Lines processed :  243000\n",
      "Lines processed :  244000\n",
      "Lines processed :  245000\n",
      "Lines processed :  246000\n",
      "Lines processed :  247000\n",
      "Lines processed :  248000\n",
      "Lines processed :  249000\n",
      "Lines processed :  250000\n",
      "Lines processed :  251000\n",
      "Lines processed :  252000\n",
      "Lines processed :  253000\n",
      "Lines processed :  254000\n",
      "Lines processed :  255000\n",
      "Lines processed :  256000\n",
      "Lines processed :  257000\n",
      "Lines processed :  258000\n",
      "Lines processed :  259000\n",
      "Lines processed :  260000\n",
      "Lines processed :  261000\n",
      "Lines processed :  262000\n",
      "Lines processed :  263000\n",
      "Lines processed :  264000\n",
      "Lines processed :  265000\n",
      "Lines processed :  266000\n",
      "Lines processed :  267000\n",
      "Lines processed :  268000\n",
      "Lines processed :  269000\n",
      "Lines processed :  270000\n",
      "Lines processed :  271000\n",
      "Lines processed :  272000\n",
      "Lines processed :  273000\n",
      "Lines processed :  274000\n",
      "Lines processed :  275000\n",
      "Lines processed :  276000\n",
      "Lines processed :  277000\n",
      "Lines processed :  278000\n",
      "Lines processed :  279000\n",
      "Lines processed :  280000\n",
      "Lines processed :  281000\n",
      "Lines processed :  282000\n",
      "Lines processed :  283000\n",
      "Lines processed :  284000\n",
      "Lines processed :  285000\n",
      "Lines processed :  286000\n",
      "Lines processed :  287000\n",
      "Lines processed :  288000\n",
      "Lines processed :  289000\n",
      "Lines processed :  290000\n",
      "Lines processed :  291000\n",
      "Lines processed :  292000\n",
      "Lines processed :  293000\n",
      "Lines processed :  294000\n",
      "Lines processed :  295000\n",
      "Lines processed :  296000\n",
      "Lines processed :  297000\n",
      "Lines processed :  298000\n",
      "Lines processed :  299000\n",
      "Lines processed :  300000\n",
      "Lines processed :  301000\n",
      "Lines processed :  302000\n",
      "Lines processed :  303000\n",
      "Lines processed :  304000\n",
      "Lines processed :  305000\n",
      "Lines processed :  306000\n",
      "Lines processed :  307000\n",
      "Lines processed :  308000\n",
      "Lines processed :  309000\n",
      "Lines processed :  310000\n",
      "Lines processed :  311000\n",
      "Lines processed :  312000\n",
      "Lines processed :  313000\n",
      "Lines processed :  314000\n",
      "Lines processed :  315000\n",
      "Lines processed :  316000\n",
      "Lines processed :  317000\n",
      "Lines processed :  318000\n",
      "Lines processed :  319000\n",
      "Lines processed :  320000\n",
      "Lines processed :  321000\n",
      "Lines processed :  322000\n",
      "Lines processed :  323000\n",
      "Lines processed :  324000\n",
      "Lines processed :  325000\n",
      "Lines processed :  326000\n",
      "Lines processed :  327000\n",
      "Lines processed :  328000\n",
      "Lines processed :  329000\n",
      "Lines processed :  330000\n",
      "Lines processed :  331000\n",
      "Lines processed :  332000\n",
      "Lines processed :  333000\n",
      "Lines processed :  334000\n",
      "Lines processed :  335000\n",
      "Lines processed :  336000\n",
      "Lines processed :  337000\n",
      "Lines processed :  338000\n",
      "Lines processed :  339000\n",
      "Lines processed :  340000\n",
      "Lines processed :  341000\n",
      "Lines processed :  342000\n",
      "Lines processed :  343000\n",
      "Lines processed :  344000\n",
      "Lines processed :  345000\n",
      "Lines processed :  346000\n",
      "Lines processed :  347000\n",
      "Lines processed :  348000\n",
      "Lines processed :  349000\n",
      "Lines processed :  350000\n",
      "Lines processed :  351000\n",
      "Lines processed :  352000\n",
      "Lines processed :  353000\n",
      "Lines processed :  354000\n",
      "Lines processed :  355000\n",
      "Lines processed :  356000\n",
      "Lines processed :  357000\n",
      "Lines processed :  358000\n",
      "Lines processed :  359000\n",
      "Lines processed :  360000\n",
      "Lines processed :  361000\n",
      "Lines processed :  362000\n",
      "Lines processed :  363000\n",
      "Lines processed :  364000\n",
      "Lines processed :  365000\n",
      "Lines processed :  366000\n",
      "Lines processed :  367000\n",
      "Lines processed :  368000\n",
      "Lines processed :  369000\n",
      "Lines processed :  370000\n",
      "Lines processed :  371000\n",
      "Lines processed :  372000\n",
      "Lines processed :  373000\n",
      "Lines processed :  374000\n",
      "Lines processed :  375000\n",
      "Lines processed :  376000\n",
      "Lines processed :  377000\n",
      "Lines processed :  378000\n",
      "Lines processed :  379000\n",
      "Lines processed :  380000\n",
      "Lines processed :  381000\n",
      "Lines processed :  382000\n",
      "Lines processed :  383000\n",
      "Lines processed :  384000\n",
      "Lines processed :  385000\n",
      "Lines processed :  386000\n",
      "Lines processed :  387000\n",
      "Lines processed :  388000\n",
      "Lines processed :  389000\n",
      "Lines processed :  390000\n",
      "Lines processed :  391000\n",
      "Lines processed :  392000\n",
      "Lines processed :  393000\n",
      "Lines processed :  394000\n",
      "Lines processed :  395000\n",
      "Lines processed :  396000\n",
      "Lines processed :  397000\n",
      "Lines processed :  398000\n",
      "Lines processed :  399000\n",
      "Lines processed :  400000\n",
      "Lines processed :  401000\n",
      "Lines processed :  402000\n",
      "Lines processed :  403000\n",
      "Lines processed :  404000\n",
      "Lines processed :  405000\n",
      "Lines processed :  406000\n",
      "Lines processed :  407000\n",
      "Lines processed :  408000\n",
      "Lines processed :  409000\n",
      "Lines processed :  410000\n",
      "Lines processed :  411000\n",
      "Lines processed :  412000\n",
      "Lines processed :  413000\n",
      "Lines processed :  414000\n",
      "Lines processed :  415000\n",
      "Lines processed :  416000\n",
      "Lines processed :  417000\n",
      "Lines processed :  418000\n",
      "Lines processed :  419000\n",
      "Lines processed :  420000\n",
      "Lines processed :  421000\n",
      "Lines processed :  422000\n",
      "Lines processed :  423000\n",
      "Lines processed :  424000\n",
      "Lines processed :  425000\n",
      "Lines processed :  426000\n",
      "Lines processed :  427000\n",
      "Lines processed :  428000\n",
      "Lines processed :  429000\n",
      "Lines processed :  430000\n",
      "Lines processed :  431000\n",
      "Lines processed :  432000\n",
      "Lines processed :  433000\n",
      "Lines processed :  434000\n",
      "Lines processed :  435000\n",
      "Lines processed :  436000\n",
      "Lines processed :  437000\n",
      "Lines processed :  438000\n",
      "Lines processed :  439000\n",
      "Lines processed :  440000\n",
      "Lines processed :  441000\n",
      "Lines processed :  442000\n",
      "Lines processed :  443000\n",
      "Lines processed :  444000\n",
      "Lines processed :  445000\n",
      "Lines processed :  446000\n",
      "Lines processed :  447000\n",
      "Lines processed :  448000\n",
      "Lines processed :  449000\n",
      "Lines processed :  450000\n",
      "Lines processed :  451000\n",
      "Lines processed :  452000\n",
      "Lines processed :  453000\n",
      "Collection Properties\n",
      "                                                   smiles  Atoms           MW  \\\n",
      "0       Cc1cc(O)c(C)c(C)c1S(=O)(=O)NC(=N)NCCC[C@H](N)C...     73  1068.473237   \n",
      "1       Cc1cc(O)c(C)c(C)c1S(=O)(=O)NC(=N)NCCC[C@H](N)C...     73  1068.400466   \n",
      "2       Cc1cc(O)c(C)c(C)c1S(=O)(=O)NC(=N)NCCC[C@H](N)C...     73  1064.441937   \n",
      "3       Cc1cc(O)c(C)c(C)c1S(=O)(=O)NC(=N)NCCC[C@H](N)C...     75  1096.431766   \n",
      "4       Cc1cc(O)c(C)c(C)c1S(=O)(=O)NC(=N)NCCC[C@H](N)C...     73  1065.473571   \n",
      "...                                                   ...    ...          ...   \n",
      "453373                             O=C1CN[C@@H](C(=O)O)C1      9   129.042593   \n",
      "453374                          O=C(O)[C@H]1C[C@@H](O)CN1      9   131.058243   \n",
      "453375                     O=C(O)C1CC2(CCN(C(=O)O)CC2)CN1     16   228.111007   \n",
      "453376                O=C(O)CN1CN(c2ccccc2)C2(CCNCC2)C1=O     21   289.142641   \n",
      "453377                            CC1(C)N[C@H](C(=O)O)CS1     10   161.051050   \n",
      "\n",
      "            fSP3  HBA  HBD  Stereo Atoms  Rings  Rotatable Bonds       QED  \\\n",
      "0       0.577778   26   15             7      3               21  0.036555   \n",
      "1       0.511628   28   15             3      3               23  0.030872   \n",
      "2       0.577778   26   15             7      5               17  0.044299   \n",
      "3       0.533333   28   15             5      3               23  0.033151   \n",
      "4       0.577778   26   15             6      4               19  0.039622   \n",
      "...          ...  ...  ...           ...    ...              ...       ...   \n",
      "453373  0.600000    4    2             1      1                1  0.476342   \n",
      "453374  0.800000    4    3             2      1                1  0.417545   \n",
      "453375  0.800000    6    3             1      2                1  0.595900   \n",
      "453376  0.466667    6    2             0      3                3  0.847525   \n",
      "453377  0.833333    3    2             1      1                1  0.588110   \n",
      "\n",
      "           logD    TPSA  \n",
      "0      -1.99154  415.60  \n",
      "1      -2.58074  449.74  \n",
      "2      -2.48354  415.60  \n",
      "3      -1.80374  449.74  \n",
      "4      -2.39894  407.40  \n",
      "...         ...     ...  \n",
      "453373 -0.99800   66.40  \n",
      "453374 -1.20620   69.56  \n",
      "453375  0.19310   89.87  \n",
      "453376  0.49950   72.88  \n",
      "453377  0.51210   49.33  \n",
      "\n",
      "[453378 rows x 12 columns]\n",
      "Atoms               31.980983\n",
      "MW                 451.127516\n",
      "fSP3                 0.478996\n",
      "HBA                 10.120959\n",
      "HBD                  5.809210\n",
      "Stereo Atoms         3.020976\n",
      "Rings                2.524668\n",
      "Rotatable Bonds      9.466503\n",
      "QED                  0.343021\n",
      "logD                 0.233724\n",
      "TPSA               162.924196\n",
      "dtype: float64\n",
      "Atoms               6.413035\n",
      "MW                 86.674432\n",
      "fSP3                0.162820\n",
      "HBA                 2.350128\n",
      "HBD                 1.548287\n",
      "Stereo Atoms        1.014620\n",
      "Rings               1.255691\n",
      "Rotatable Bonds     2.642168\n",
      "QED                 0.152613\n",
      "logD                1.666573\n",
      "TPSA               37.695711\n",
      "dtype: float64\n",
      "Atoms               6.000000\n",
      "MW                 89.047678\n",
      "fSP3                0.000000\n",
      "HBA                 3.000000\n",
      "HBD                 2.000000\n",
      "Stereo Atoms        0.000000\n",
      "Rings               0.000000\n",
      "Rotatable Bonds     1.000000\n",
      "QED                 0.021258\n",
      "logD               -7.239200\n",
      "TPSA               41.130000\n",
      "dtype: float64\n",
      "Atoms                77.000000\n",
      "MW                 1096.431766\n",
      "fSP3                  0.888889\n",
      "HBA                  28.000000\n",
      "HBD                  17.000000\n",
      "Stereo Atoms         11.000000\n",
      "Rings                11.000000\n",
      "Rotatable Bonds      27.000000\n",
      "QED                   0.908471\n",
      "logD                  6.951500\n",
      "TPSA                449.740000\n",
      "dtype: float64\n"
     ]
    }
   ],
   "source": [
    "##### Read and Prepare DEL2 Structures\n",
    "\n",
    "dfm = pd.read_csv(\"../DEL2_enum.csv\")\n",
    "dfr=dfm['Structure']\n",
    "\n",
    "del2_list = list_prep(dfr)\n",
    "#print(drug_list)\n",
    "print('DEL2-list Prepared')\n",
    "\n",
    "df_del2 = collection_properties(del2_list)\n",
    "print('Collection Properties')\n",
    "print(df_del2)\n",
    "\n",
    "### Calculate Statistics\n",
    "\n",
    "del2_mean = df_del2[molprop].mean()\n",
    "del2_std = df_del2[molprop].std()\n",
    "del2_min = df_del2[molprop].min()\n",
    "del2_max = df_del2[molprop].max()\n",
    "print(del2_mean)\n",
    "print(del2_std)\n",
    "print(del2_min)\n",
    "print(del2_max)\n",
    "\n",
    "df_del2.to_csv('../DEL2_properties.csv')"
   ]
  },
  {
   "cell_type": "code",
   "execution_count": 14,
   "id": "c559e00d",
   "metadata": {},
   "outputs": [
    {
     "name": "stdout",
     "output_type": "stream",
     "text": [
      "47 50\n",
      "Lines processed :  0\n",
      "Zafrens Plate Prepared\n",
      "Collection Properties\n",
      "                                               smiles  Atoms          MW  \\\n",
      "0   C1=CC=C(C=C1)C2=CC(=CC3=CC=C(O3)C4=CC=C(C=C4)[...     36  478.116486   \n",
      "1   C1=CC=C(C(=C1)CC(=NNC2=NC(=CS2)C3=CC(=C(C=C3)C...     29  449.995631   \n",
      "2                 C1=CC(=C(C=C1C(=O)O)[N+](=O)[O-])CO     14  197.032422   \n",
      "3   CC1([C@@H](N2[C@H](S1)[C@@H](C2=O)NC(=O)[C@@H]...     24  349.109627   \n",
      "4                             Nc1ccc(cc1)-c2ccc(N)cc2     14  184.100048   \n",
      "5   CN(CC[C@@H](CC(=O)N[C@H]1C=C[C@@H](O[C@@H]1C(=...     30  422.202616   \n",
      "6   COC1=CC=CC(=C1)C2=CC(=NC(=N2)N)NCC3=CC4=C(C=C3...     26  350.137890   \n",
      "7   COc1cc2nccc(Oc3ccc(NC(=O)C4(C(=O)Nc5ccc(F)cc5)...     37  501.169999   \n",
      "8   O=C(N[C@H](CO)[C@H](O)c1ccc([N+](=O)[O-])cc1)C...     20  322.012327   \n",
      "9               CCCN(CCC)S(=O)(=O)C1=CC=C(C=C1)C(=O)O     19  285.103479   \n",
      "10         CC1=CN(C(=O)NC1=O)C2CC(C(O2)CO)N=[N+]=[N-]     19  267.096754   \n",
      "11  CC1=C(C=CC(=C1)[N+](=O)[O-])NS(=O)(=O)C2=C(C=C...     22  359.973833   \n",
      "12  CC1=CC=CC(=N1)C2=NN3CCCC3=C2C4=C5C=C(C=CC5=NC=...     28  369.158960   \n",
      "13   c1cn(c(=O)nc1N)[C@H]2C([C@@H]([C@H](O2)CO)O)(F)F     18  263.071762   \n",
      "14  CC1C2CC3C(=C(C(N3)CC4C(C(C(N4)CC5C(=C(C(N5)CC(...     42  578.384303   \n",
      "15                                    CCCC(CCC)C(=O)O     10  144.115030   \n",
      "16  O=C1CCN(C(NCC5=CC=CC=C5)=O)[C@]2([H])N1[C@@H](...     41  548.242356   \n",
      "17  COC1=CC=C2N(C=C(C3=NC(=CS3)C3=CNC4=C(Cl)N=CC=C...     33  480.102289   \n",
      "18  COC1=CC=C2N(C)C=C(C3=NC(=CS3)C3=CNC4=C(Cl)N=CC...     27  394.065510   \n",
      "19  COC1=CC=C2NC=C(C3=NC(=CS3)C3=CNC4=C(Cl)N=CC=C3...     26  380.049860   \n",
      "20  COC1=CC=C(C=C1)C2=CC(=O)C3=C(O2)C(=C(C=C3O)O)C...     42  566.121297   \n",
      "21  CC1=CC2=C(C=C1)N=C(S2)NC(=O)CSC3=NC4=C(C(=O)N3...     31  466.059189   \n",
      "22  C1[C@H]([C@@H]([C@H]([C@@H]([C@H]1N)O[C@@H]2[C...     33  484.238058   \n",
      "23  CC1(CC(CC(N1)(C)C)Oc2ccc(nn2)c3ccc(cc3O)c4c[nH...     29  393.216475   \n",
      "24  CC(C)(CN1C(=O)C(=C(C1=O)Cl)Cl)CN2C(=O)C(=C(C2=...     23  397.939468   \n",
      "25  CC[C@@H]([C@@H](C)[C@@H]1[C@H](O1)C[C@H](C)/C=...     38  536.334918   \n",
      "26  O=C1C=C(C2=NN3C(C(CC)=NC(C)=C3)=C2)N=C4N1C=C(C...     31  416.232460   \n",
      "27  CC1=CC(=NN2C1=NC(=C2)C)C3=CC(=O)N4C=C(C=CC4=N3...     30  401.196408   \n",
      "28  C1=CC=C(C=C1)C2=C(C(=O)NC3=C2C=C(C=C3)Cl)C(=O)...     29  404.072784   \n",
      "29  FC(C=CC(Cl)=C3)=C3C2=NC1=NC=CN=C1C(NC4=CC=NC=C...     25  352.063950   \n",
      "30             O=C(C1=NOC(C2=CC=CO2)=C1)NCCCN3C=CN=C3     21  286.106590   \n",
      "31                                     FC(F)(F)C(O)=O      7  113.992864   \n",
      "32  CC1=NC=CC(=C1)C2=CC=C(C=C2)CC(=O)NC3=CC=C(C=C3...     29  379.168462   \n",
      "33  OC(C1=CC=C(OCCCCCOC2=C(Cl)C=C(Cl)C=C2Cl)C(OCCC...     41  682.001705   \n",
      "34  OC(C1=CC=C(OCCCCCCCOC2=C(Cl)C=C(Cl)C=C2Cl)C(OC...     45  738.064305   \n",
      "35  OC(C1=CC=C(OCCCCCCCCCOC2=C(Cl)C=C(Cl)C=C2Cl)C(...     49  794.126905   \n",
      "36            O=C(Nc1ncc(C2(O)CCC2)s1)c1ccc(F)c(Cl)c1     21  326.029205   \n",
      "37      OC1(CCC1)C1=CN=C(NC(=O)N2CCC(CC2)C2=CN=CN2)S1     24  347.141596   \n",
      "38   OC1(CCC1)C1=CN=C(NC(=O)C2=NOC(=C2)C2=CC=CC=C2)S1     24  341.083412   \n",
      "39  OC1(CCC1)C1=CN=C(NS(=O)(=O)C2=CC=CC3=C2N=CC=C3)S1     24  361.055483   \n",
      "40  O=S(C1=CC=CC2=C1N=CC=C2)(N(S(C3=CC=CC4=C3N=CC=...     44  666.146060   \n",
      "41     COC1=CC=C(CC(N)C(=O)NC2=NC=C(S2)C2(O)CCC2)C=C1     24  347.130363   \n",
      "42         CC(C)C1=CC(=NO1)C(=O)NC1=NC=C(S1)C1(O)CCC1     21  307.099062   \n",
      "43       CC1=CC=C(C=C1)S(=O)(=O)NC1=NC=C(S1)C1(O)CCC1     21  324.060234   \n",
      "44              OC1(CCC1)C1=CN=C(NC(=O)C2=CC=CC=C2)S1     19  274.077599   \n",
      "45                        CC(=O)NC1=NC=C(S1)C1(O)CCC1     14  212.061949   \n",
      "46  FC1=CC=C2NC=C(C3=NN4C=C(N=C4S3)C3=CC=C(C=C3)C(...     28  402.056230   \n",
      "\n",
      "        fSP3  HBA  HBD  Stereo Atoms  Rings  Rotatable Bonds       QED  \\\n",
      "0   0.000000    8    1             0      5                6  0.205773   \n",
      "1   0.055556    8    2             0      3                7  0.292531   \n",
      "2   0.125000    6    2             0      1                3  0.550474   \n",
      "3   0.437500    7    4             4      3                4  0.674878   \n",
      "4   0.000000    2    4             0      2                1  0.668922   \n",
      "5   0.470588   13    9             4      2                8  0.150577   \n",
      "6   0.157895    7    3             0      4                5  0.730419   \n",
      "7   0.178571    8    2             0      5                8  0.307722   \n",
      "8   0.363636    7    3             2      1                6  0.409071   \n",
      "9   0.461538    5    1             0      1                7  0.833016   \n",
      "10  0.600000    9    2             3      2                3  0.445400   \n",
      "11  0.076923    6    1             0      2                4  0.658159   \n",
      "12  0.181818    6    2             0      5                3  0.598564   \n",
      "13  0.555556    7    4             3      2                2  0.612087   \n",
      "14  0.705882    8    4            12      5                8  0.319224   \n",
      "15  0.875000    2    1             0      0                5  0.642372   \n",
      "16  0.242424    8    2             2      6                6  0.376518   \n",
      "17  0.208333    7    1             0      5                3  0.288543   \n",
      "18  0.100000    5    1             0      5                3  0.410477   \n",
      "19  0.052632    5    2             0      5                3  0.406146   \n",
      "20  0.062500   10    4             0      6                5  0.202586   \n",
      "21  0.181818    6    1             0      5                5  0.344005   \n",
      "22  1.000000   15   15            15      3                6  0.166854   \n",
      "23  0.409091    7    3             0      4                4  0.621570   \n",
      "24  0.384615    6    0             0      2                4  0.678344   \n",
      "25  0.733333    8    3            10      2                9  0.174609   \n",
      "26  0.416667    7    0             0      5                3  0.512103   \n",
      "27  0.363636    8    1             0      6                2  0.553214   \n",
      "28  0.000000    4    1             0      4                4  0.371600   \n",
      "29  0.000000    6    1             0      4                3  0.599837   \n",
      "30  0.214286    7    1             0      3                6  0.699844   \n",
      "31  0.500000    2    1             0      0                0  0.501116   \n",
      "32  0.080000    4    1             0      4                5  0.511829   \n",
      "33  0.344828    6    1             0      3               17  0.142674   \n",
      "34  0.424242    6    1             0      3               21  0.109620   \n",
      "35  0.486486    6    1             0      3               25  0.086091   \n",
      "36  0.285714    4    2             0      3                3  0.906204   \n",
      "37  0.562500    7    3             0      4                3  0.795439   \n",
      "38  0.235294    6    2             0      4                4  0.758923   \n",
      "39  0.250000    6    2             0      4                4  0.745368   \n",
      "40  0.322581    9    0             0      6                8  0.159276   \n",
      "41  0.411765    6    4             1      3                6  0.742728   \n",
      "42  0.500000    6    2             0      3                4  0.906407   \n",
      "43  0.357143    5    2             0      3                4  0.905891   \n",
      "44  0.285714    4    2             0      3                3  0.904320   \n",
      "45  0.555556    4    2             0      2                2  0.780028   \n",
      "46  0.052632    4    1             0      5                2  0.381510   \n",
      "\n",
      "        logD    TPSA  \n",
      "0    6.02430  113.89  \n",
      "1    5.12030  117.72  \n",
      "2    0.78530  100.67  \n",
      "3    0.31810  112.73  \n",
      "4    2.51800   52.04  \n",
      "5   -2.21873  215.67  \n",
      "6    3.07520   91.52  \n",
      "7    5.54080   98.78  \n",
      "8    0.90900  112.70  \n",
      "9    2.19550   74.68  \n",
      "10  -0.19628  133.08  \n",
      "11   4.01082   89.31  \n",
      "12   3.51382   86.69  \n",
      "13  -1.28860  110.60  \n",
      "14   1.49180  128.38  \n",
      "15   2.28740   37.30  \n",
      "16   4.26910   93.19  \n",
      "17   6.75330   82.03  \n",
      "18   5.50710   55.73  \n",
      "19   5.49670   66.59  \n",
      "20   5.74000  159.80  \n",
      "21   4.52962   76.88  \n",
      "22  -7.29140  282.61  \n",
      "23   3.92730   95.95  \n",
      "24   2.12860   74.76  \n",
      "25   4.02110  125.82  \n",
      "26   3.39264   67.80  \n",
      "27   1.96324   79.83  \n",
      "28   5.27870   62.82  \n",
      "29   4.01790   76.48  \n",
      "30   1.95120   86.09  \n",
      "31   0.63330   37.30  \n",
      "32   5.30022   54.88  \n",
      "33  10.56140   74.22  \n",
      "34  12.12180   74.22  \n",
      "35  13.68220   74.22  \n",
      "36   3.55940   62.22  \n",
      "37   2.64920   94.14  \n",
      "38   3.42190   88.25  \n",
      "39   2.86360   92.18  \n",
      "40   7.22470  119.42  \n",
      "41   2.03170   97.47  \n",
      "42   2.87830   88.25  \n",
      "43   2.62382   79.29  \n",
      "44   2.76690   62.22  \n",
      "45   1.47300   62.22  \n",
      "46   5.76400   45.98  \n",
      "Atoms               27.276596\n",
      "MW                 396.640813\n",
      "fSP3                 0.324878\n",
      "HBA                  6.446809\n",
      "HBD                  2.297872\n",
      "Stereo Atoms         1.191489\n",
      "Rings                3.425532\n",
      "Rotatable Bonds      5.468085\n",
      "QED                  0.507295\n",
      "logD                 3.517601\n",
      "TPSA                92.949362\n",
      "dtype: float64\n",
      "Atoms                9.476979\n",
      "MW                 143.946361\n",
      "fSP3                 0.235598\n",
      "HBA                  2.412004\n",
      "HBD                  2.430914\n",
      "Stereo Atoms         3.166663\n",
      "Rings                1.570720\n",
      "Rotatable Bonds      4.629072\n",
      "QED                  0.243955\n",
      "logD                 3.410193\n",
      "TPSA                42.545014\n",
      "dtype: float64\n",
      "Atoms                7.000000\n",
      "MW                 113.992864\n",
      "fSP3                 0.000000\n",
      "HBA                  2.000000\n",
      "HBD                  0.000000\n",
      "Stereo Atoms         0.000000\n",
      "Rings                0.000000\n",
      "Rotatable Bonds      0.000000\n",
      "QED                  0.086091\n",
      "logD                -7.291400\n",
      "TPSA                37.300000\n",
      "dtype: float64\n",
      "Atoms               49.000000\n",
      "MW                 794.126905\n",
      "fSP3                 1.000000\n",
      "HBA                 15.000000\n",
      "HBD                 15.000000\n",
      "Stereo Atoms        15.000000\n",
      "Rings                6.000000\n",
      "Rotatable Bonds     25.000000\n",
      "QED                  0.906407\n",
      "logD                13.682200\n",
      "TPSA               282.610000\n",
      "dtype: float64\n"
     ]
    }
   ],
   "source": [
    "##### Read and Prepare Zafrens Plate Structures\n",
    "\n",
    "dfm = pd.read_csv(\"../ZafrensDrugs.csv\")\n",
    "dfr=dfm['smiles']\n",
    "\n",
    "plate_list = list_prep(dfr)\n",
    "#print(drug_list)\n",
    "print('Zafrens Plate Prepared')\n",
    "\n",
    "df_plate = collection_properties(plate_list)\n",
    "print('Collection Properties')\n",
    "print(df_plate)\n",
    "\n",
    "### Calculate Statistics\n",
    "\n",
    "plate_mean = df_plate[molprop].mean()\n",
    "plate_std = df_plate[molprop].std()\n",
    "plate_min = df_plate[molprop].min()\n",
    "plate_max = df_plate[molprop].max()\n",
    "print(plate_mean)\n",
    "print(plate_std)\n",
    "print(plate_min)\n",
    "print(plate_max)\n",
    "\n",
    "df_plate.to_csv('../Plate_properties.csv')"
   ]
  },
  {
   "cell_type": "code",
   "execution_count": null,
   "id": "5fe418ee",
   "metadata": {},
   "outputs": [],
   "source": [
    "### Consolidated Writer when needed\n",
    "df_drugs.to_csv('../Drug_properties.csv')\n",
    "df_del1.to_csv('../DEL1_properties.csv')\n",
    "df_del2.to_csv('../DEL2_properties.csv')\n",
    "df_plate.to_csv('../Plate_properties.csv')"
   ]
  },
  {
   "cell_type": "code",
   "execution_count": 17,
   "id": "b0020445",
   "metadata": {},
   "outputs": [
    {
     "name": "stdout",
     "output_type": "stream",
     "text": [
      "Drug Statistics\n",
      "Atoms               23.233736\n",
      "MW                 332.598974\n",
      "fSP3                 0.413248\n",
      "HBA                  5.814591\n",
      "HBD                  2.435874\n",
      "Stereo Atoms         1.779275\n",
      "Rings                2.495353\n",
      "Rotatable Bonds      4.810409\n",
      "QED                  0.543880\n",
      "logD                 1.995642\n",
      "TPSA                85.862054\n",
      "dtype: float64\n",
      "Atoms               12.390542\n",
      "MW                 176.153191\n",
      "fSP3                 0.278008\n",
      "HBA                  3.991915\n",
      "HBD                  2.685009\n",
      "Stereo Atoms         3.500027\n",
      "Rings                1.677642\n",
      "Rotatable Bonds      4.118460\n",
      "QED                  0.207273\n",
      "logD                 2.609771\n",
      "TPSA                64.321491\n",
      "dtype: float64\n",
      "Atoms               6.000000\n",
      "MW                 82.053098\n",
      "fSP3                0.000000\n",
      "HBA                 0.000000\n",
      "HBD                 0.000000\n",
      "Stereo Atoms        0.000000\n",
      "Rings               0.000000\n",
      "Rotatable Bonds     0.000000\n",
      "QED                 0.011297\n",
      "logD               -8.895300\n",
      "TPSA                0.000000\n",
      "dtype: float64\n",
      "Atoms               115.000000\n",
      "MW                 1663.492352\n",
      "fSP3                  1.000000\n",
      "HBA                  43.000000\n",
      "HBD                  25.000000\n",
      "Stereo Atoms         30.000000\n",
      "Rings                12.000000\n",
      "Rotatable Bonds      35.000000\n",
      "QED                   0.943711\n",
      "logD                 17.853900\n",
      "TPSA                702.020000\n",
      "dtype: float64\n",
      "\n",
      "DEL1 Statistics\n",
      "Atoms               45.392443\n",
      "MW                 642.918071\n",
      "fSP3                 0.341339\n",
      "HBA                  9.964289\n",
      "HBD                  2.810945\n",
      "Stereo Atoms         0.632684\n",
      "Rings                5.634855\n",
      "Rotatable Bonds     11.132490\n",
      "QED                  0.239877\n",
      "logD                 4.788407\n",
      "TPSA               120.505614\n",
      "dtype: float64\n",
      "Atoms                9.664405\n",
      "MW                 129.456620\n",
      "fSP3                 0.094153\n",
      "HBA                  2.649719\n",
      "HBD                  0.849244\n",
      "Stereo Atoms         1.122853\n",
      "Rings                1.868470\n",
      "Rotatable Bonds      2.240576\n",
      "QED                  0.103061\n",
      "logD                 1.764743\n",
      "TPSA                31.498556\n",
      "dtype: float64\n",
      "Atoms               26.000000\n",
      "MW                 359.195740\n",
      "fSP3                 0.095238\n",
      "HBA                  5.000000\n",
      "HBD                  2.000000\n",
      "Stereo Atoms         0.000000\n",
      "Rings                2.000000\n",
      "Rotatable Bonds      7.000000\n",
      "QED                  0.024790\n",
      "logD                -1.403400\n",
      "TPSA                61.440000\n",
      "dtype: float64\n",
      "Atoms                87.000000\n",
      "MW                 1204.449504\n",
      "fSP3                  0.724138\n",
      "HBA                  21.000000\n",
      "HBD                   7.000000\n",
      "Stereo Atoms          9.000000\n",
      "Rings                13.000000\n",
      "Rotatable Bonds      24.000000\n",
      "QED                   0.702660\n",
      "logD                 13.772800\n",
      "TPSA                255.910000\n",
      "dtype: float64\n",
      "\n",
      "DEL2 Statistics\n",
      "Atoms               31.980983\n",
      "MW                 451.127516\n",
      "fSP3                 0.478996\n",
      "HBA                 10.120959\n",
      "HBD                  5.809210\n",
      "Stereo Atoms         3.020976\n",
      "Rings                2.524668\n",
      "Rotatable Bonds      9.466503\n",
      "QED                  0.343021\n",
      "logD                 0.233724\n",
      "TPSA               162.924196\n",
      "dtype: float64\n",
      "Atoms               6.413035\n",
      "MW                 86.674432\n",
      "fSP3                0.162820\n",
      "HBA                 2.350128\n",
      "HBD                 1.548287\n",
      "Stereo Atoms        1.014620\n",
      "Rings               1.255691\n",
      "Rotatable Bonds     2.642168\n",
      "QED                 0.152613\n",
      "logD                1.666573\n",
      "TPSA               37.695711\n",
      "dtype: float64\n",
      "Atoms               6.000000\n",
      "MW                 89.047678\n",
      "fSP3                0.000000\n",
      "HBA                 3.000000\n",
      "HBD                 2.000000\n",
      "Stereo Atoms        0.000000\n",
      "Rings               0.000000\n",
      "Rotatable Bonds     1.000000\n",
      "QED                 0.021258\n",
      "logD               -7.239200\n",
      "TPSA               41.130000\n",
      "dtype: float64\n",
      "Atoms                77.000000\n",
      "MW                 1096.431766\n",
      "fSP3                  0.888889\n",
      "HBA                  28.000000\n",
      "HBD                  17.000000\n",
      "Stereo Atoms         11.000000\n",
      "Rings                11.000000\n",
      "Rotatable Bonds      27.000000\n",
      "QED                   0.908471\n",
      "logD                  6.951500\n",
      "TPSA                449.740000\n",
      "dtype: float64\n",
      "\n",
      "Zafrens Collection Statistics\n",
      "Atoms               27.276596\n",
      "MW                 396.640813\n",
      "fSP3                 0.324878\n",
      "HBA                  6.446809\n",
      "HBD                  2.297872\n",
      "Stereo Atoms         1.191489\n",
      "Rings                3.425532\n",
      "Rotatable Bonds      5.468085\n",
      "QED                  0.507295\n",
      "logD                 3.517601\n",
      "TPSA                92.949362\n",
      "dtype: float64\n",
      "Atoms                9.476979\n",
      "MW                 143.946361\n",
      "fSP3                 0.235598\n",
      "HBA                  2.412004\n",
      "HBD                  2.430914\n",
      "Stereo Atoms         3.166663\n",
      "Rings                1.570720\n",
      "Rotatable Bonds      4.629072\n",
      "QED                  0.243955\n",
      "logD                 3.410193\n",
      "TPSA                42.545014\n",
      "dtype: float64\n",
      "Atoms                7.000000\n",
      "MW                 113.992864\n",
      "fSP3                 0.000000\n",
      "HBA                  2.000000\n",
      "HBD                  0.000000\n",
      "Stereo Atoms         0.000000\n",
      "Rings                0.000000\n",
      "Rotatable Bonds      0.000000\n",
      "QED                  0.086091\n",
      "logD                -7.291400\n",
      "TPSA                37.300000\n",
      "dtype: float64\n",
      "Atoms               49.000000\n",
      "MW                 794.126905\n",
      "fSP3                 1.000000\n",
      "HBA                 15.000000\n",
      "HBD                 15.000000\n",
      "Stereo Atoms        15.000000\n",
      "Rings                6.000000\n",
      "Rotatable Bonds     25.000000\n",
      "QED                  0.906407\n",
      "logD                13.682200\n",
      "TPSA               282.610000\n",
      "dtype: float64\n",
      "\n"
     ]
    }
   ],
   "source": [
    "### Reader for Existing files and Statistics - bypass everything before\n",
    "df_drugs = pd.read_csv('../Drug_properties.csv')\n",
    "drugs_mean = df_drugs[molprop].mean()\n",
    "drugs_std = df_drugs[molprop].std()\n",
    "drugs_min = df_drugs[molprop].min()\n",
    "drugs_max = df_drugs[molprop].max()\n",
    "print(\"Drug Statistics\")\n",
    "print(drugs_mean)\n",
    "print(drugs_std)\n",
    "print(drugs_min)\n",
    "print(drugs_max)\n",
    "print()\n",
    "\n",
    "df_del1 = pd.read_csv('../DEL1_properties.csv')\n",
    "del1_mean = df_del1[molprop].mean()\n",
    "del1_std = df_del1[molprop].std()\n",
    "del1_min = df_del1[molprop].min()\n",
    "del1_max = df_del1[molprop].max()\n",
    "print(\"DEL1 Statistics\")\n",
    "print(del1_mean)\n",
    "print(del1_std)\n",
    "print(del1_min)\n",
    "print(del1_max)\n",
    "print()\n",
    "\n",
    "df_del2 = pd.read_csv('../DEL2_properties.csv')\n",
    "del2_mean = df_del2[molprop].mean()\n",
    "del2_std = df_del2[molprop].std()\n",
    "del2_min = df_del2[molprop].min()\n",
    "del2_max = df_del2[molprop].max()\n",
    "print(\"DEL2 Statistics\")\n",
    "print(del2_mean)\n",
    "print(del2_std)\n",
    "print(del2_min)\n",
    "print(del2_max)\n",
    "print()\n",
    "\n",
    "df_plate = pd.read_csv('../Plate_properties.csv')\n",
    "plate_mean = df_plate[molprop].mean()\n",
    "plate_std = df_plate[molprop].std()\n",
    "plate_min = df_plate[molprop].min()\n",
    "plate_max = df_plate[molprop].max()\n",
    "print(\"Zafrens Collection Statistics\")\n",
    "print(plate_mean)\n",
    "print(plate_std)\n",
    "print(plate_min)\n",
    "print(plate_max)\n",
    "print()"
   ]
  },
  {
   "cell_type": "code",
   "execution_count": 19,
   "id": "7f9e80b9",
   "metadata": {},
   "outputs": [
    {
     "name": "stdout",
     "output_type": "stream",
     "text": [
      "Scales :  [115.0, 1663.492351879999, 1.0, 43.0, 25.0, 30.0, 13.0, 35.0, 0.9437114379351168, 26.74919999999999, 702.02]\n",
      "\n",
      "Maxima :  [115.0, 1663.492351879999, 1.0, 43.0, 25.0, 30.0, 13.0, 35.0, 0.9437114379351168, 17.853899999999975, 702.02]\n",
      "\n",
      "Minima :  [0, 0, 0.0, 0.0, 0.0, 0.0, 0.0, 0.0, 0, -8.895300000000017, 0.0]\n"
     ]
    }
   ],
   "source": [
    "ax = molprop.copy()\n",
    "scale = [1,1,1,1,1,1,1,1,1,1,1]\n",
    "\n",
    "##### Calculate Axes and Scales for Plots #####\n",
    "\n",
    "axmin = []\n",
    "axmax = []\n",
    "\n",
    "for i in range(0,len(molprop)):\n",
    "    #print(i)\n",
    "    if ax[i] in ['qed','fsp3']:\n",
    "        axmin.append(0)\n",
    "        axmax.append(1)\n",
    "    else:\n",
    "        amin = min(druglike_max[i], drugs_min[i], del2_min[i], del1_min[i], plate_min[i])\n",
    "        if amin > 0:\n",
    "            amin = 0\n",
    "        amax = max(druglike_max[i], drugs_max[i], del2_max[i], del1_max[i],plate_max[i])\n",
    "        scale[i] = amax - amin\n",
    "        axmin.append(amin)\n",
    "        axmax.append(amax)\n",
    "                   \n",
    "print('Scales : ',scale)\n",
    "print()\n",
    "print('Maxima : ',axmax)\n",
    "print()\n",
    "print('Minima : ',axmin)\n"
   ]
  },
  {
   "cell_type": "code",
   "execution_count": 21,
   "id": "181579d9",
   "metadata": {},
   "outputs": [
    {
     "name": "stdout",
     "output_type": "stream",
     "text": [
      "Druglikeness\n",
      "[0.2608695652173913, 0.09618318943226623, 0.0, 0.0, 0.0, 0.0, 0.0, 0.17142857142857143, 0.4238583786535618, 0.33254452469606643, 0.0]\n",
      "[0.4782608695652174, 0.30057246697583195, 0.5, 0.23255813953488372, 0.2, 0.03333333333333333, 0.23076923076923078, 0.2857142857142857, 0.6357875679803426, 0.5194660027215775, 0.19942451782000514]\n",
      "\n",
      "Drugs\n",
      "[0, 0, 0, 0, 0, 0, 0, 0, 0.13704849898035934, 0.21202128684158728, 0]\n",
      "[0.41752017882356696, 0.41172738538861786, 0.9692648073649767, 0.3208935348809258, 0.3122356893415111, 0.2926442992395945, 0.45004903972139626, 0.3727808349471888, 1.0155910461149467, 0.6022791095653641, 0.3055540241754811]\n",
      "\n",
      "DEL2\n",
      "[0.16656445266628966, 0.16698522876846242, 0.15335544598544854, 0.1260628662197918, 0.10850540151015825, 0.03305787196237301, 0.0010220197217084986, 0.1194904857024104, 0.04005039606087427, 0.21667477802003848, 0.12468700891588404]\n",
      "[0.38962655178781114, 0.3754008126954943, 0.8046372501099088, 0.3446793975127043, 0.35623139648180424, 0.16834051966668706, 0.38738846607771105, 0.4214525180226427, 0.6869118266433494, 0.4658894571096466, 0.33947126575151826]\n",
      "\n",
      "DEL1\n",
      "[0.22664028276598666, 0.23084255856817695, 0.15303252713681548, 0.1084849109720123, 0.044498307565741246, 0, 0.14599350888685783, 0.19003823633765612, 0.035769143574164365, 0.3796084047877229, 0.08191860852814083]\n",
      "[0.5627935068434736, 0.542131324239524, 0.5296455597778855, 0.35497039365303146, 0.18037729554104318, 0.09594632330519191, 0.7209073265123483, 0.4461040606429907, 0.4726001745126241, 0.6435031244988436, 0.2613924487425168]\n",
      "\n",
      "Zafrens\n",
      "[0.07237075839223701, 0.06537336411969012, 0, 0.03773956569451749, 0, 0, 0.02185328697662867, 0, 0.020540996926076065, 0.20907222667799344, 0.01119531387622936]\n",
      "[0.4020048197761256, 0.4115038666238346, 0.7960744011186363, 0.26211199293982196, 0.2863880189704654, 0.25082715267955247, 0.5051516230070047, 0.4207494002117344, 1.0545652482364816, 0.7190229305126309, 0.2536101381112572]\n"
     ]
    }
   ],
   "source": [
    "##### Calculate trace data #####\n",
    "\n",
    "std_fact = 2\n",
    "\n",
    "### Druglikeness\n",
    "\n",
    "dl_min = []\n",
    "dl_max = []\n",
    "\n",
    "for i in range(0,len(molprop)):\n",
    "    dmax = (druglike_max[i]-axmin[i])/scale[i]\n",
    "    dmin = (druglike_min[i]-axmin[i])/scale[i]\n",
    "    dl_max.append(dmax)\n",
    "    dl_min.append(dmin)\n",
    "\n",
    "print(\"Druglikeness\")\n",
    "print(dl_min)\n",
    "print(dl_max)\n",
    "print()\n",
    "\n",
    "### Drug Collection\n",
    "\n",
    "drug_min = []\n",
    "drug_max = []\n",
    "\n",
    "for i in range(0,len(molprop)):\n",
    "    dmax = drugs_mean[i] + std_fact*drugs_std[i]\n",
    "    dmin = drugs_mean[i] - std_fact*drugs_std[i]\n",
    "    #print(molprop[i],drugs_mean[i],drugs_std[i],dmax,dmin)\n",
    "    dmax = (dmax-axmin[i])/scale[i]\n",
    "    dmin = (dmin-axmin[i])/scale[i]\n",
    "    if dmin<0:\n",
    "        dmin = 0\n",
    "    #print(molprop[i],drugs_mean[i],drugs_std[i],dmax,dmin)\n",
    "    drug_max.append(dmax)\n",
    "    drug_min.append(dmin)\n",
    "    \n",
    "print(\"Drugs\")\n",
    "print(drug_min)\n",
    "print(drug_max)\n",
    "print()\n",
    "\n",
    "### DEL2 Collection\n",
    "\n",
    "del2p_min = []\n",
    "del2p_max = []\n",
    "\n",
    "for i in range(0,len(molprop)):\n",
    "    dmax = del2_mean[i] + std_fact*del2_std[i]\n",
    "    dmin = del2_mean[i] - std_fact*del2_std[i]    \n",
    "    dmax = (dmax-axmin[i])/scale[i]\n",
    "    dmin = (dmin-axmin[i])/scale[i]\n",
    "    if dmin<0:\n",
    "        dmin = 0\n",
    "    del2p_max.append(dmax)\n",
    "    del2p_min.append(dmin)\n",
    "    \n",
    "print(\"DEL2\")\n",
    "print(del2p_min)\n",
    "print(del2p_max)\n",
    "print()\n",
    "\n",
    "### DEL1 Collection\n",
    "\n",
    "del1p_min = []\n",
    "del1p_max = []\n",
    "\n",
    "for i in range(0,len(molprop)):\n",
    "    dmax = del1_mean[i] + std_fact*del1_std[i]\n",
    "    dmin = del1_mean[i] - std_fact*del1_std[i]    \n",
    "    dmax = (dmax-axmin[i])/scale[i]\n",
    "    dmin = (dmin-axmin[i])/scale[i]\n",
    "    if dmin<0:\n",
    "        dmin = 0\n",
    "    del1p_max.append(dmax)\n",
    "    del1p_min.append(dmin)\n",
    "\n",
    "print(\"DEL1\")\n",
    "print(del1p_min)\n",
    "print(del1p_max)\n",
    "print()\n",
    "\n",
    "### Zafrens Plates\n",
    "\n",
    "platep_min = []\n",
    "platep_max = []\n",
    "\n",
    "for i in range(0,len(molprop)):\n",
    "    dmax = plate_mean[i] + std_fact*plate_std[i]\n",
    "    dmin = plate_mean[i] - std_fact*plate_std[i]    \n",
    "    dmax = (dmax-axmin[i])/scale[i]\n",
    "    dmin = (dmin-axmin[i])/scale[i]\n",
    "    if dmin<0:\n",
    "        dmin = 0\n",
    "    platep_max.append(dmax)\n",
    "    platep_min.append(dmin)\n",
    "    \n",
    "print(\"Zafrens\")\n",
    "print(platep_min)\n",
    "print(platep_max)"
   ]
  },
  {
   "cell_type": "code",
   "execution_count": 23,
   "id": "c21078d5",
   "metadata": {},
   "outputs": [
    {
     "data": {
      "application/vnd.plotly.v1+json": {
       "config": {
        "plotlyServerURL": "https://plot.ly"
       },
       "data": [
        {
         "line": {
          "color": "silver",
          "width": 0
         },
         "marker": {
          "size": 1
         },
         "name": "leveling",
         "r": [
          1,
          1,
          1,
          1,
          1,
          1,
          1,
          1,
          1,
          1,
          1,
          1
         ],
         "showlegend": false,
         "theta": [
          "Atoms",
          "MW",
          "fSP3",
          "HBA",
          "HBD",
          "Stereo Atoms",
          "Rings",
          "Rotatable Bonds",
          "QED",
          "logD",
          "TPSA",
          "Atoms",
          "Atoms"
         ],
         "type": "scatterpolar"
        },
        {
         "line": {
          "color": "blue",
          "width": 2
         },
         "marker": {
          "size": 1
         },
         "name": "Drug Collection",
         "r": [
          0,
          0,
          0,
          0,
          0,
          0,
          0,
          0,
          0.13704849898035934,
          0.21202128684158728,
          0,
          0,
          0
         ],
         "showlegend": false,
         "theta": [
          "Atoms",
          "MW",
          "fSP3",
          "HBA",
          "HBD",
          "Stereo Atoms",
          "Rings",
          "Rotatable Bonds",
          "QED",
          "logD",
          "TPSA",
          "Atoms",
          "Atoms"
         ],
         "type": "scatterpolar"
        },
        {
         "fill": "tonext",
         "line": {
          "color": "blue",
          "width": 2
         },
         "marker": {
          "size": 1
         },
         "name": "Drug Collection",
         "r": [
          0.41752017882356696,
          0.41172738538861786,
          0.9692648073649767,
          0.3208935348809258,
          0.3122356893415111,
          0.2926442992395945,
          0.45004903972139626,
          0.3727808349471888,
          1.0155910461149467,
          0.6022791095653641,
          0.3055540241754811,
          0.41752017882356696,
          0.41752017882356696
         ],
         "theta": [
          "Atoms",
          "MW",
          "fSP3",
          "HBA",
          "HBD",
          "Stereo Atoms",
          "Rings",
          "Rotatable Bonds",
          "QED",
          "logD",
          "TPSA",
          "Atoms",
          "Atoms"
         ],
         "type": "scatterpolar"
        },
        {
         "line": {
          "color": "red"
         },
         "marker": {
          "size": 1
         },
         "name": "Druglikeness (lower)",
         "opacity": 0.25,
         "r": [
          0.2608695652173913,
          0.09618318943226623,
          0,
          0,
          0,
          0,
          0,
          0.17142857142857143,
          0.4238583786535618,
          0.33254452469606643,
          0,
          0.2608695652173913,
          0.2608695652173913
         ],
         "showlegend": false,
         "theta": [
          "Atoms",
          "MW",
          "fSP3",
          "HBA",
          "HBD",
          "Stereo Atoms",
          "Rings",
          "Rotatable Bonds",
          "QED",
          "logD",
          "TPSA",
          "Atoms",
          "Atoms"
         ],
         "type": "scatterpolar"
        },
        {
         "fill": "tonext",
         "fillcolor": "red",
         "line": {
          "color": "red"
         },
         "marker": {
          "size": 1
         },
         "name": "Druglikeness",
         "opacity": 0.5,
         "r": [
          0.4782608695652174,
          0.30057246697583195,
          0.5,
          0.23255813953488372,
          0.2,
          0.03333333333333333,
          0.23076923076923078,
          0.2857142857142857,
          0.6357875679803426,
          0.5194660027215775,
          0.19942451782000514,
          0.4782608695652174,
          0.4782608695652174
         ],
         "theta": [
          "Atoms",
          "MW",
          "fSP3",
          "HBA",
          "HBD",
          "Stereo Atoms",
          "Rings",
          "Rotatable Bonds",
          "QED",
          "logD",
          "TPSA",
          "Atoms",
          "Atoms"
         ],
         "type": "scatterpolar"
        }
       ],
       "layout": {
        "polar": {
         "radialaxis": {
          "visible": true
         }
        },
        "showlegend": true,
        "template": {
         "data": {
          "bar": [
           {
            "error_x": {
             "color": "#2a3f5f"
            },
            "error_y": {
             "color": "#2a3f5f"
            },
            "marker": {
             "line": {
              "color": "#E5ECF6",
              "width": 0.5
             },
             "pattern": {
              "fillmode": "overlay",
              "size": 10,
              "solidity": 0.2
             }
            },
            "type": "bar"
           }
          ],
          "barpolar": [
           {
            "marker": {
             "line": {
              "color": "#E5ECF6",
              "width": 0.5
             },
             "pattern": {
              "fillmode": "overlay",
              "size": 10,
              "solidity": 0.2
             }
            },
            "type": "barpolar"
           }
          ],
          "carpet": [
           {
            "aaxis": {
             "endlinecolor": "#2a3f5f",
             "gridcolor": "white",
             "linecolor": "white",
             "minorgridcolor": "white",
             "startlinecolor": "#2a3f5f"
            },
            "baxis": {
             "endlinecolor": "#2a3f5f",
             "gridcolor": "white",
             "linecolor": "white",
             "minorgridcolor": "white",
             "startlinecolor": "#2a3f5f"
            },
            "type": "carpet"
           }
          ],
          "choropleth": [
           {
            "colorbar": {
             "outlinewidth": 0,
             "ticks": ""
            },
            "type": "choropleth"
           }
          ],
          "contour": [
           {
            "colorbar": {
             "outlinewidth": 0,
             "ticks": ""
            },
            "colorscale": [
             [
              0,
              "#0d0887"
             ],
             [
              0.1111111111111111,
              "#46039f"
             ],
             [
              0.2222222222222222,
              "#7201a8"
             ],
             [
              0.3333333333333333,
              "#9c179e"
             ],
             [
              0.4444444444444444,
              "#bd3786"
             ],
             [
              0.5555555555555556,
              "#d8576b"
             ],
             [
              0.6666666666666666,
              "#ed7953"
             ],
             [
              0.7777777777777778,
              "#fb9f3a"
             ],
             [
              0.8888888888888888,
              "#fdca26"
             ],
             [
              1,
              "#f0f921"
             ]
            ],
            "type": "contour"
           }
          ],
          "contourcarpet": [
           {
            "colorbar": {
             "outlinewidth": 0,
             "ticks": ""
            },
            "type": "contourcarpet"
           }
          ],
          "heatmap": [
           {
            "colorbar": {
             "outlinewidth": 0,
             "ticks": ""
            },
            "colorscale": [
             [
              0,
              "#0d0887"
             ],
             [
              0.1111111111111111,
              "#46039f"
             ],
             [
              0.2222222222222222,
              "#7201a8"
             ],
             [
              0.3333333333333333,
              "#9c179e"
             ],
             [
              0.4444444444444444,
              "#bd3786"
             ],
             [
              0.5555555555555556,
              "#d8576b"
             ],
             [
              0.6666666666666666,
              "#ed7953"
             ],
             [
              0.7777777777777778,
              "#fb9f3a"
             ],
             [
              0.8888888888888888,
              "#fdca26"
             ],
             [
              1,
              "#f0f921"
             ]
            ],
            "type": "heatmap"
           }
          ],
          "heatmapgl": [
           {
            "colorbar": {
             "outlinewidth": 0,
             "ticks": ""
            },
            "colorscale": [
             [
              0,
              "#0d0887"
             ],
             [
              0.1111111111111111,
              "#46039f"
             ],
             [
              0.2222222222222222,
              "#7201a8"
             ],
             [
              0.3333333333333333,
              "#9c179e"
             ],
             [
              0.4444444444444444,
              "#bd3786"
             ],
             [
              0.5555555555555556,
              "#d8576b"
             ],
             [
              0.6666666666666666,
              "#ed7953"
             ],
             [
              0.7777777777777778,
              "#fb9f3a"
             ],
             [
              0.8888888888888888,
              "#fdca26"
             ],
             [
              1,
              "#f0f921"
             ]
            ],
            "type": "heatmapgl"
           }
          ],
          "histogram": [
           {
            "marker": {
             "pattern": {
              "fillmode": "overlay",
              "size": 10,
              "solidity": 0.2
             }
            },
            "type": "histogram"
           }
          ],
          "histogram2d": [
           {
            "colorbar": {
             "outlinewidth": 0,
             "ticks": ""
            },
            "colorscale": [
             [
              0,
              "#0d0887"
             ],
             [
              0.1111111111111111,
              "#46039f"
             ],
             [
              0.2222222222222222,
              "#7201a8"
             ],
             [
              0.3333333333333333,
              "#9c179e"
             ],
             [
              0.4444444444444444,
              "#bd3786"
             ],
             [
              0.5555555555555556,
              "#d8576b"
             ],
             [
              0.6666666666666666,
              "#ed7953"
             ],
             [
              0.7777777777777778,
              "#fb9f3a"
             ],
             [
              0.8888888888888888,
              "#fdca26"
             ],
             [
              1,
              "#f0f921"
             ]
            ],
            "type": "histogram2d"
           }
          ],
          "histogram2dcontour": [
           {
            "colorbar": {
             "outlinewidth": 0,
             "ticks": ""
            },
            "colorscale": [
             [
              0,
              "#0d0887"
             ],
             [
              0.1111111111111111,
              "#46039f"
             ],
             [
              0.2222222222222222,
              "#7201a8"
             ],
             [
              0.3333333333333333,
              "#9c179e"
             ],
             [
              0.4444444444444444,
              "#bd3786"
             ],
             [
              0.5555555555555556,
              "#d8576b"
             ],
             [
              0.6666666666666666,
              "#ed7953"
             ],
             [
              0.7777777777777778,
              "#fb9f3a"
             ],
             [
              0.8888888888888888,
              "#fdca26"
             ],
             [
              1,
              "#f0f921"
             ]
            ],
            "type": "histogram2dcontour"
           }
          ],
          "mesh3d": [
           {
            "colorbar": {
             "outlinewidth": 0,
             "ticks": ""
            },
            "type": "mesh3d"
           }
          ],
          "parcoords": [
           {
            "line": {
             "colorbar": {
              "outlinewidth": 0,
              "ticks": ""
             }
            },
            "type": "parcoords"
           }
          ],
          "pie": [
           {
            "automargin": true,
            "type": "pie"
           }
          ],
          "scatter": [
           {
            "marker": {
             "colorbar": {
              "outlinewidth": 0,
              "ticks": ""
             }
            },
            "type": "scatter"
           }
          ],
          "scatter3d": [
           {
            "line": {
             "colorbar": {
              "outlinewidth": 0,
              "ticks": ""
             }
            },
            "marker": {
             "colorbar": {
              "outlinewidth": 0,
              "ticks": ""
             }
            },
            "type": "scatter3d"
           }
          ],
          "scattercarpet": [
           {
            "marker": {
             "colorbar": {
              "outlinewidth": 0,
              "ticks": ""
             }
            },
            "type": "scattercarpet"
           }
          ],
          "scattergeo": [
           {
            "marker": {
             "colorbar": {
              "outlinewidth": 0,
              "ticks": ""
             }
            },
            "type": "scattergeo"
           }
          ],
          "scattergl": [
           {
            "marker": {
             "colorbar": {
              "outlinewidth": 0,
              "ticks": ""
             }
            },
            "type": "scattergl"
           }
          ],
          "scattermapbox": [
           {
            "marker": {
             "colorbar": {
              "outlinewidth": 0,
              "ticks": ""
             }
            },
            "type": "scattermapbox"
           }
          ],
          "scatterpolar": [
           {
            "marker": {
             "colorbar": {
              "outlinewidth": 0,
              "ticks": ""
             }
            },
            "type": "scatterpolar"
           }
          ],
          "scatterpolargl": [
           {
            "marker": {
             "colorbar": {
              "outlinewidth": 0,
              "ticks": ""
             }
            },
            "type": "scatterpolargl"
           }
          ],
          "scatterternary": [
           {
            "marker": {
             "colorbar": {
              "outlinewidth": 0,
              "ticks": ""
             }
            },
            "type": "scatterternary"
           }
          ],
          "surface": [
           {
            "colorbar": {
             "outlinewidth": 0,
             "ticks": ""
            },
            "colorscale": [
             [
              0,
              "#0d0887"
             ],
             [
              0.1111111111111111,
              "#46039f"
             ],
             [
              0.2222222222222222,
              "#7201a8"
             ],
             [
              0.3333333333333333,
              "#9c179e"
             ],
             [
              0.4444444444444444,
              "#bd3786"
             ],
             [
              0.5555555555555556,
              "#d8576b"
             ],
             [
              0.6666666666666666,
              "#ed7953"
             ],
             [
              0.7777777777777778,
              "#fb9f3a"
             ],
             [
              0.8888888888888888,
              "#fdca26"
             ],
             [
              1,
              "#f0f921"
             ]
            ],
            "type": "surface"
           }
          ],
          "table": [
           {
            "cells": {
             "fill": {
              "color": "#EBF0F8"
             },
             "line": {
              "color": "white"
             }
            },
            "header": {
             "fill": {
              "color": "#C8D4E3"
             },
             "line": {
              "color": "white"
             }
            },
            "type": "table"
           }
          ]
         },
         "layout": {
          "annotationdefaults": {
           "arrowcolor": "#2a3f5f",
           "arrowhead": 0,
           "arrowwidth": 1
          },
          "autotypenumbers": "strict",
          "coloraxis": {
           "colorbar": {
            "outlinewidth": 0,
            "ticks": ""
           }
          },
          "colorscale": {
           "diverging": [
            [
             0,
             "#8e0152"
            ],
            [
             0.1,
             "#c51b7d"
            ],
            [
             0.2,
             "#de77ae"
            ],
            [
             0.3,
             "#f1b6da"
            ],
            [
             0.4,
             "#fde0ef"
            ],
            [
             0.5,
             "#f7f7f7"
            ],
            [
             0.6,
             "#e6f5d0"
            ],
            [
             0.7,
             "#b8e186"
            ],
            [
             0.8,
             "#7fbc41"
            ],
            [
             0.9,
             "#4d9221"
            ],
            [
             1,
             "#276419"
            ]
           ],
           "sequential": [
            [
             0,
             "#0d0887"
            ],
            [
             0.1111111111111111,
             "#46039f"
            ],
            [
             0.2222222222222222,
             "#7201a8"
            ],
            [
             0.3333333333333333,
             "#9c179e"
            ],
            [
             0.4444444444444444,
             "#bd3786"
            ],
            [
             0.5555555555555556,
             "#d8576b"
            ],
            [
             0.6666666666666666,
             "#ed7953"
            ],
            [
             0.7777777777777778,
             "#fb9f3a"
            ],
            [
             0.8888888888888888,
             "#fdca26"
            ],
            [
             1,
             "#f0f921"
            ]
           ],
           "sequentialminus": [
            [
             0,
             "#0d0887"
            ],
            [
             0.1111111111111111,
             "#46039f"
            ],
            [
             0.2222222222222222,
             "#7201a8"
            ],
            [
             0.3333333333333333,
             "#9c179e"
            ],
            [
             0.4444444444444444,
             "#bd3786"
            ],
            [
             0.5555555555555556,
             "#d8576b"
            ],
            [
             0.6666666666666666,
             "#ed7953"
            ],
            [
             0.7777777777777778,
             "#fb9f3a"
            ],
            [
             0.8888888888888888,
             "#fdca26"
            ],
            [
             1,
             "#f0f921"
            ]
           ]
          },
          "colorway": [
           "#636efa",
           "#EF553B",
           "#00cc96",
           "#ab63fa",
           "#FFA15A",
           "#19d3f3",
           "#FF6692",
           "#B6E880",
           "#FF97FF",
           "#FECB52"
          ],
          "font": {
           "color": "#2a3f5f"
          },
          "geo": {
           "bgcolor": "white",
           "lakecolor": "white",
           "landcolor": "#E5ECF6",
           "showlakes": true,
           "showland": true,
           "subunitcolor": "white"
          },
          "hoverlabel": {
           "align": "left"
          },
          "hovermode": "closest",
          "mapbox": {
           "style": "light"
          },
          "paper_bgcolor": "white",
          "plot_bgcolor": "#E5ECF6",
          "polar": {
           "angularaxis": {
            "gridcolor": "white",
            "linecolor": "white",
            "ticks": ""
           },
           "bgcolor": "#E5ECF6",
           "radialaxis": {
            "gridcolor": "white",
            "linecolor": "white",
            "ticks": ""
           }
          },
          "scene": {
           "xaxis": {
            "backgroundcolor": "#E5ECF6",
            "gridcolor": "white",
            "gridwidth": 2,
            "linecolor": "white",
            "showbackground": true,
            "ticks": "",
            "zerolinecolor": "white"
           },
           "yaxis": {
            "backgroundcolor": "#E5ECF6",
            "gridcolor": "white",
            "gridwidth": 2,
            "linecolor": "white",
            "showbackground": true,
            "ticks": "",
            "zerolinecolor": "white"
           },
           "zaxis": {
            "backgroundcolor": "#E5ECF6",
            "gridcolor": "white",
            "gridwidth": 2,
            "linecolor": "white",
            "showbackground": true,
            "ticks": "",
            "zerolinecolor": "white"
           }
          },
          "shapedefaults": {
           "line": {
            "color": "#2a3f5f"
           }
          },
          "ternary": {
           "aaxis": {
            "gridcolor": "white",
            "linecolor": "white",
            "ticks": ""
           },
           "baxis": {
            "gridcolor": "white",
            "linecolor": "white",
            "ticks": ""
           },
           "bgcolor": "#E5ECF6",
           "caxis": {
            "gridcolor": "white",
            "linecolor": "white",
            "ticks": ""
           }
          },
          "title": {
           "x": 0.05
          },
          "xaxis": {
           "automargin": true,
           "gridcolor": "white",
           "linecolor": "white",
           "ticks": "",
           "title": {
            "standoff": 15
           },
           "zerolinecolor": "white",
           "zerolinewidth": 2
          },
          "yaxis": {
           "automargin": true,
           "gridcolor": "white",
           "linecolor": "white",
           "ticks": "",
           "title": {
            "standoff": 15
           },
           "zerolinecolor": "white",
           "zerolinewidth": 2
          }
         }
        }
       }
      },
      "text/html": [
       "<div>                            <div id=\"1b84d04f-2f6b-47f8-a2bc-2c998b8f9db7\" class=\"plotly-graph-div\" style=\"height:525px; width:100%;\"></div>            <script type=\"text/javascript\">                require([\"plotly\"], function(Plotly) {                    window.PLOTLYENV=window.PLOTLYENV || {};                                    if (document.getElementById(\"1b84d04f-2f6b-47f8-a2bc-2c998b8f9db7\")) {                    Plotly.newPlot(                        \"1b84d04f-2f6b-47f8-a2bc-2c998b8f9db7\",                        [{\"line\":{\"color\":\"silver\",\"width\":0},\"marker\":{\"size\":1},\"name\":\"leveling\",\"r\":[1,1,1,1,1,1,1,1,1,1,1,1],\"showlegend\":false,\"theta\":[\"Atoms\",\"MW\",\"fSP3\",\"HBA\",\"HBD\",\"Stereo Atoms\",\"Rings\",\"Rotatable Bonds\",\"QED\",\"logD\",\"TPSA\",\"Atoms\",\"Atoms\"],\"type\":\"scatterpolar\"},{\"line\":{\"color\":\"blue\",\"width\":2},\"marker\":{\"size\":1},\"name\":\"Drug Collection\",\"r\":[0,0,0,0,0,0,0,0,0.13704849898035934,0.21202128684158728,0,0,0],\"showlegend\":false,\"theta\":[\"Atoms\",\"MW\",\"fSP3\",\"HBA\",\"HBD\",\"Stereo Atoms\",\"Rings\",\"Rotatable Bonds\",\"QED\",\"logD\",\"TPSA\",\"Atoms\",\"Atoms\"],\"type\":\"scatterpolar\"},{\"fill\":\"tonext\",\"line\":{\"color\":\"blue\",\"width\":2},\"marker\":{\"size\":1},\"name\":\"Drug Collection\",\"r\":[0.41752017882356696,0.41172738538861786,0.9692648073649767,0.3208935348809258,0.3122356893415111,0.2926442992395945,0.45004903972139626,0.3727808349471888,1.0155910461149467,0.6022791095653641,0.3055540241754811,0.41752017882356696,0.41752017882356696],\"theta\":[\"Atoms\",\"MW\",\"fSP3\",\"HBA\",\"HBD\",\"Stereo Atoms\",\"Rings\",\"Rotatable Bonds\",\"QED\",\"logD\",\"TPSA\",\"Atoms\",\"Atoms\"],\"type\":\"scatterpolar\"},{\"line\":{\"color\":\"red\"},\"marker\":{\"size\":1},\"name\":\"Druglikeness (lower)\",\"opacity\":0.25,\"r\":[0.2608695652173913,0.09618318943226623,0.0,0.0,0.0,0.0,0.0,0.17142857142857143,0.4238583786535618,0.33254452469606643,0.0,0.2608695652173913,0.2608695652173913],\"showlegend\":false,\"theta\":[\"Atoms\",\"MW\",\"fSP3\",\"HBA\",\"HBD\",\"Stereo Atoms\",\"Rings\",\"Rotatable Bonds\",\"QED\",\"logD\",\"TPSA\",\"Atoms\",\"Atoms\"],\"type\":\"scatterpolar\"},{\"fill\":\"tonext\",\"fillcolor\":\"red\",\"line\":{\"color\":\"red\"},\"marker\":{\"size\":1},\"name\":\"Druglikeness\",\"opacity\":0.5,\"r\":[0.4782608695652174,0.30057246697583195,0.5,0.23255813953488372,0.2,0.03333333333333333,0.23076923076923078,0.2857142857142857,0.6357875679803426,0.5194660027215775,0.19942451782000514,0.4782608695652174,0.4782608695652174],\"theta\":[\"Atoms\",\"MW\",\"fSP3\",\"HBA\",\"HBD\",\"Stereo Atoms\",\"Rings\",\"Rotatable Bonds\",\"QED\",\"logD\",\"TPSA\",\"Atoms\",\"Atoms\"],\"type\":\"scatterpolar\"}],                        {\"template\":{\"data\":{\"bar\":[{\"error_x\":{\"color\":\"#2a3f5f\"},\"error_y\":{\"color\":\"#2a3f5f\"},\"marker\":{\"line\":{\"color\":\"#E5ECF6\",\"width\":0.5},\"pattern\":{\"fillmode\":\"overlay\",\"size\":10,\"solidity\":0.2}},\"type\":\"bar\"}],\"barpolar\":[{\"marker\":{\"line\":{\"color\":\"#E5ECF6\",\"width\":0.5},\"pattern\":{\"fillmode\":\"overlay\",\"size\":10,\"solidity\":0.2}},\"type\":\"barpolar\"}],\"carpet\":[{\"aaxis\":{\"endlinecolor\":\"#2a3f5f\",\"gridcolor\":\"white\",\"linecolor\":\"white\",\"minorgridcolor\":\"white\",\"startlinecolor\":\"#2a3f5f\"},\"baxis\":{\"endlinecolor\":\"#2a3f5f\",\"gridcolor\":\"white\",\"linecolor\":\"white\",\"minorgridcolor\":\"white\",\"startlinecolor\":\"#2a3f5f\"},\"type\":\"carpet\"}],\"choropleth\":[{\"colorbar\":{\"outlinewidth\":0,\"ticks\":\"\"},\"type\":\"choropleth\"}],\"contour\":[{\"colorbar\":{\"outlinewidth\":0,\"ticks\":\"\"},\"colorscale\":[[0.0,\"#0d0887\"],[0.1111111111111111,\"#46039f\"],[0.2222222222222222,\"#7201a8\"],[0.3333333333333333,\"#9c179e\"],[0.4444444444444444,\"#bd3786\"],[0.5555555555555556,\"#d8576b\"],[0.6666666666666666,\"#ed7953\"],[0.7777777777777778,\"#fb9f3a\"],[0.8888888888888888,\"#fdca26\"],[1.0,\"#f0f921\"]],\"type\":\"contour\"}],\"contourcarpet\":[{\"colorbar\":{\"outlinewidth\":0,\"ticks\":\"\"},\"type\":\"contourcarpet\"}],\"heatmap\":[{\"colorbar\":{\"outlinewidth\":0,\"ticks\":\"\"},\"colorscale\":[[0.0,\"#0d0887\"],[0.1111111111111111,\"#46039f\"],[0.2222222222222222,\"#7201a8\"],[0.3333333333333333,\"#9c179e\"],[0.4444444444444444,\"#bd3786\"],[0.5555555555555556,\"#d8576b\"],[0.6666666666666666,\"#ed7953\"],[0.7777777777777778,\"#fb9f3a\"],[0.8888888888888888,\"#fdca26\"],[1.0,\"#f0f921\"]],\"type\":\"heatmap\"}],\"heatmapgl\":[{\"colorbar\":{\"outlinewidth\":0,\"ticks\":\"\"},\"colorscale\":[[0.0,\"#0d0887\"],[0.1111111111111111,\"#46039f\"],[0.2222222222222222,\"#7201a8\"],[0.3333333333333333,\"#9c179e\"],[0.4444444444444444,\"#bd3786\"],[0.5555555555555556,\"#d8576b\"],[0.6666666666666666,\"#ed7953\"],[0.7777777777777778,\"#fb9f3a\"],[0.8888888888888888,\"#fdca26\"],[1.0,\"#f0f921\"]],\"type\":\"heatmapgl\"}],\"histogram\":[{\"marker\":{\"pattern\":{\"fillmode\":\"overlay\",\"size\":10,\"solidity\":0.2}},\"type\":\"histogram\"}],\"histogram2d\":[{\"colorbar\":{\"outlinewidth\":0,\"ticks\":\"\"},\"colorscale\":[[0.0,\"#0d0887\"],[0.1111111111111111,\"#46039f\"],[0.2222222222222222,\"#7201a8\"],[0.3333333333333333,\"#9c179e\"],[0.4444444444444444,\"#bd3786\"],[0.5555555555555556,\"#d8576b\"],[0.6666666666666666,\"#ed7953\"],[0.7777777777777778,\"#fb9f3a\"],[0.8888888888888888,\"#fdca26\"],[1.0,\"#f0f921\"]],\"type\":\"histogram2d\"}],\"histogram2dcontour\":[{\"colorbar\":{\"outlinewidth\":0,\"ticks\":\"\"},\"colorscale\":[[0.0,\"#0d0887\"],[0.1111111111111111,\"#46039f\"],[0.2222222222222222,\"#7201a8\"],[0.3333333333333333,\"#9c179e\"],[0.4444444444444444,\"#bd3786\"],[0.5555555555555556,\"#d8576b\"],[0.6666666666666666,\"#ed7953\"],[0.7777777777777778,\"#fb9f3a\"],[0.8888888888888888,\"#fdca26\"],[1.0,\"#f0f921\"]],\"type\":\"histogram2dcontour\"}],\"mesh3d\":[{\"colorbar\":{\"outlinewidth\":0,\"ticks\":\"\"},\"type\":\"mesh3d\"}],\"parcoords\":[{\"line\":{\"colorbar\":{\"outlinewidth\":0,\"ticks\":\"\"}},\"type\":\"parcoords\"}],\"pie\":[{\"automargin\":true,\"type\":\"pie\"}],\"scatter\":[{\"marker\":{\"colorbar\":{\"outlinewidth\":0,\"ticks\":\"\"}},\"type\":\"scatter\"}],\"scatter3d\":[{\"line\":{\"colorbar\":{\"outlinewidth\":0,\"ticks\":\"\"}},\"marker\":{\"colorbar\":{\"outlinewidth\":0,\"ticks\":\"\"}},\"type\":\"scatter3d\"}],\"scattercarpet\":[{\"marker\":{\"colorbar\":{\"outlinewidth\":0,\"ticks\":\"\"}},\"type\":\"scattercarpet\"}],\"scattergeo\":[{\"marker\":{\"colorbar\":{\"outlinewidth\":0,\"ticks\":\"\"}},\"type\":\"scattergeo\"}],\"scattergl\":[{\"marker\":{\"colorbar\":{\"outlinewidth\":0,\"ticks\":\"\"}},\"type\":\"scattergl\"}],\"scattermapbox\":[{\"marker\":{\"colorbar\":{\"outlinewidth\":0,\"ticks\":\"\"}},\"type\":\"scattermapbox\"}],\"scatterpolar\":[{\"marker\":{\"colorbar\":{\"outlinewidth\":0,\"ticks\":\"\"}},\"type\":\"scatterpolar\"}],\"scatterpolargl\":[{\"marker\":{\"colorbar\":{\"outlinewidth\":0,\"ticks\":\"\"}},\"type\":\"scatterpolargl\"}],\"scatterternary\":[{\"marker\":{\"colorbar\":{\"outlinewidth\":0,\"ticks\":\"\"}},\"type\":\"scatterternary\"}],\"surface\":[{\"colorbar\":{\"outlinewidth\":0,\"ticks\":\"\"},\"colorscale\":[[0.0,\"#0d0887\"],[0.1111111111111111,\"#46039f\"],[0.2222222222222222,\"#7201a8\"],[0.3333333333333333,\"#9c179e\"],[0.4444444444444444,\"#bd3786\"],[0.5555555555555556,\"#d8576b\"],[0.6666666666666666,\"#ed7953\"],[0.7777777777777778,\"#fb9f3a\"],[0.8888888888888888,\"#fdca26\"],[1.0,\"#f0f921\"]],\"type\":\"surface\"}],\"table\":[{\"cells\":{\"fill\":{\"color\":\"#EBF0F8\"},\"line\":{\"color\":\"white\"}},\"header\":{\"fill\":{\"color\":\"#C8D4E3\"},\"line\":{\"color\":\"white\"}},\"type\":\"table\"}]},\"layout\":{\"annotationdefaults\":{\"arrowcolor\":\"#2a3f5f\",\"arrowhead\":0,\"arrowwidth\":1},\"autotypenumbers\":\"strict\",\"coloraxis\":{\"colorbar\":{\"outlinewidth\":0,\"ticks\":\"\"}},\"colorscale\":{\"diverging\":[[0,\"#8e0152\"],[0.1,\"#c51b7d\"],[0.2,\"#de77ae\"],[0.3,\"#f1b6da\"],[0.4,\"#fde0ef\"],[0.5,\"#f7f7f7\"],[0.6,\"#e6f5d0\"],[0.7,\"#b8e186\"],[0.8,\"#7fbc41\"],[0.9,\"#4d9221\"],[1,\"#276419\"]],\"sequential\":[[0.0,\"#0d0887\"],[0.1111111111111111,\"#46039f\"],[0.2222222222222222,\"#7201a8\"],[0.3333333333333333,\"#9c179e\"],[0.4444444444444444,\"#bd3786\"],[0.5555555555555556,\"#d8576b\"],[0.6666666666666666,\"#ed7953\"],[0.7777777777777778,\"#fb9f3a\"],[0.8888888888888888,\"#fdca26\"],[1.0,\"#f0f921\"]],\"sequentialminus\":[[0.0,\"#0d0887\"],[0.1111111111111111,\"#46039f\"],[0.2222222222222222,\"#7201a8\"],[0.3333333333333333,\"#9c179e\"],[0.4444444444444444,\"#bd3786\"],[0.5555555555555556,\"#d8576b\"],[0.6666666666666666,\"#ed7953\"],[0.7777777777777778,\"#fb9f3a\"],[0.8888888888888888,\"#fdca26\"],[1.0,\"#f0f921\"]]},\"colorway\":[\"#636efa\",\"#EF553B\",\"#00cc96\",\"#ab63fa\",\"#FFA15A\",\"#19d3f3\",\"#FF6692\",\"#B6E880\",\"#FF97FF\",\"#FECB52\"],\"font\":{\"color\":\"#2a3f5f\"},\"geo\":{\"bgcolor\":\"white\",\"lakecolor\":\"white\",\"landcolor\":\"#E5ECF6\",\"showlakes\":true,\"showland\":true,\"subunitcolor\":\"white\"},\"hoverlabel\":{\"align\":\"left\"},\"hovermode\":\"closest\",\"mapbox\":{\"style\":\"light\"},\"paper_bgcolor\":\"white\",\"plot_bgcolor\":\"#E5ECF6\",\"polar\":{\"angularaxis\":{\"gridcolor\":\"white\",\"linecolor\":\"white\",\"ticks\":\"\"},\"bgcolor\":\"#E5ECF6\",\"radialaxis\":{\"gridcolor\":\"white\",\"linecolor\":\"white\",\"ticks\":\"\"}},\"scene\":{\"xaxis\":{\"backgroundcolor\":\"#E5ECF6\",\"gridcolor\":\"white\",\"gridwidth\":2,\"linecolor\":\"white\",\"showbackground\":true,\"ticks\":\"\",\"zerolinecolor\":\"white\"},\"yaxis\":{\"backgroundcolor\":\"#E5ECF6\",\"gridcolor\":\"white\",\"gridwidth\":2,\"linecolor\":\"white\",\"showbackground\":true,\"ticks\":\"\",\"zerolinecolor\":\"white\"},\"zaxis\":{\"backgroundcolor\":\"#E5ECF6\",\"gridcolor\":\"white\",\"gridwidth\":2,\"linecolor\":\"white\",\"showbackground\":true,\"ticks\":\"\",\"zerolinecolor\":\"white\"}},\"shapedefaults\":{\"line\":{\"color\":\"#2a3f5f\"}},\"ternary\":{\"aaxis\":{\"gridcolor\":\"white\",\"linecolor\":\"white\",\"ticks\":\"\"},\"baxis\":{\"gridcolor\":\"white\",\"linecolor\":\"white\",\"ticks\":\"\"},\"bgcolor\":\"#E5ECF6\",\"caxis\":{\"gridcolor\":\"white\",\"linecolor\":\"white\",\"ticks\":\"\"}},\"title\":{\"x\":0.05},\"xaxis\":{\"automargin\":true,\"gridcolor\":\"white\",\"linecolor\":\"white\",\"ticks\":\"\",\"title\":{\"standoff\":15},\"zerolinecolor\":\"white\",\"zerolinewidth\":2},\"yaxis\":{\"automargin\":true,\"gridcolor\":\"white\",\"linecolor\":\"white\",\"ticks\":\"\",\"title\":{\"standoff\":15},\"zerolinecolor\":\"white\",\"zerolinewidth\":2}}},\"polar\":{\"radialaxis\":{\"visible\":true}},\"showlegend\":true},                        {\"responsive\": true}                    ).then(function(){\n",
       "                            \n",
       "var gd = document.getElementById('1b84d04f-2f6b-47f8-a2bc-2c998b8f9db7');\n",
       "var x = new MutationObserver(function (mutations, observer) {{\n",
       "        var display = window.getComputedStyle(gd).display;\n",
       "        if (!display || display === 'none') {{\n",
       "            console.log([gd, 'removed!']);\n",
       "            Plotly.purge(gd);\n",
       "            observer.disconnect();\n",
       "        }}\n",
       "}});\n",
       "\n",
       "// Listen for the removal of the full notebook cells\n",
       "var notebookContainer = gd.closest('#notebook-container');\n",
       "if (notebookContainer) {{\n",
       "    x.observe(notebookContainer, {childList: true});\n",
       "}}\n",
       "\n",
       "// Listen for the clearing of the current output cell\n",
       "var outputEl = gd.closest('.output');\n",
       "if (outputEl) {{\n",
       "    x.observe(outputEl, {childList: true});\n",
       "}}\n",
       "\n",
       "                        })                };                });            </script>        </div>"
      ]
     },
     "metadata": {},
     "output_type": "display_data"
    },
    {
     "data": {
      "application/vnd.plotly.v1+json": {
       "config": {
        "plotlyServerURL": "https://plot.ly"
       },
       "data": [
        {
         "line": {
          "color": "silver",
          "width": 0
         },
         "marker": {
          "size": 1
         },
         "name": "leveling",
         "r": [
          1,
          1,
          1,
          1,
          1,
          1,
          1,
          1,
          1,
          1,
          1,
          1
         ],
         "showlegend": false,
         "theta": [
          "Atoms",
          "MW",
          "fSP3",
          "HBA",
          "HBD",
          "Stereo Atoms",
          "Rings",
          "Rotatable Bonds",
          "QED",
          "logD",
          "TPSA",
          "Atoms",
          "Atoms"
         ],
         "type": "scatterpolar"
        },
        {
         "line": {
          "color": "green",
          "width": 2
         },
         "marker": {
          "size": 1
         },
         "name": "DEL2 Library",
         "r": [
          0.16656445266628966,
          0.16698522876846242,
          0.15335544598544854,
          0.1260628662197918,
          0.10850540151015825,
          0.03305787196237301,
          0.0010220197217084986,
          0.1194904857024104,
          0.04005039606087427,
          0.21667477802003848,
          0.12468700891588404,
          0.16656445266628966,
          0.16656445266628966
         ],
         "showlegend": false,
         "theta": [
          "Atoms",
          "MW",
          "fSP3",
          "HBA",
          "HBD",
          "Stereo Atoms",
          "Rings",
          "Rotatable Bonds",
          "QED",
          "logD",
          "TPSA",
          "Atoms",
          "Atoms"
         ],
         "type": "scatterpolar"
        },
        {
         "fill": "tonext",
         "line": {
          "color": "green",
          "width": 2
         },
         "marker": {
          "size": 1
         },
         "name": "Zafrens Library 2",
         "r": [
          0.38962655178781114,
          0.3754008126954943,
          0.8046372501099088,
          0.3446793975127043,
          0.35623139648180424,
          0.16834051966668706,
          0.38738846607771105,
          0.4214525180226427,
          0.6869118266433494,
          0.4658894571096466,
          0.33947126575151826,
          0.38962655178781114,
          0.38962655178781114
         ],
         "theta": [
          "Atoms",
          "MW",
          "fSP3",
          "HBA",
          "HBD",
          "Stereo Atoms",
          "Rings",
          "Rotatable Bonds",
          "QED",
          "logD",
          "TPSA",
          "Atoms",
          "Atoms"
         ],
         "type": "scatterpolar"
        },
        {
         "line": {
          "color": "red"
         },
         "marker": {
          "size": 1
         },
         "name": "Druglikeness (lower)",
         "opacity": 0.25,
         "r": [
          0.2608695652173913,
          0.09618318943226623,
          0,
          0,
          0,
          0,
          0,
          0.17142857142857143,
          0.4238583786535618,
          0.33254452469606643,
          0,
          0.2608695652173913,
          0.2608695652173913
         ],
         "showlegend": false,
         "theta": [
          "Atoms",
          "MW",
          "fSP3",
          "HBA",
          "HBD",
          "Stereo Atoms",
          "Rings",
          "Rotatable Bonds",
          "QED",
          "logD",
          "TPSA",
          "Atoms",
          "Atoms"
         ],
         "type": "scatterpolar"
        },
        {
         "fill": "tonext",
         "fillcolor": "red",
         "line": {
          "color": "red"
         },
         "marker": {
          "size": 1
         },
         "name": "Druglikeness",
         "opacity": 0.5,
         "r": [
          0.4782608695652174,
          0.30057246697583195,
          0.5,
          0.23255813953488372,
          0.2,
          0.03333333333333333,
          0.23076923076923078,
          0.2857142857142857,
          0.6357875679803426,
          0.5194660027215775,
          0.19942451782000514,
          0.4782608695652174,
          0.4782608695652174
         ],
         "theta": [
          "Atoms",
          "MW",
          "fSP3",
          "HBA",
          "HBD",
          "Stereo Atoms",
          "Rings",
          "Rotatable Bonds",
          "QED",
          "logD",
          "TPSA",
          "Atoms",
          "Atoms"
         ],
         "type": "scatterpolar"
        }
       ],
       "layout": {
        "polar": {
         "radialaxis": {
          "visible": true
         }
        },
        "showlegend": true,
        "template": {
         "data": {
          "bar": [
           {
            "error_x": {
             "color": "#2a3f5f"
            },
            "error_y": {
             "color": "#2a3f5f"
            },
            "marker": {
             "line": {
              "color": "#E5ECF6",
              "width": 0.5
             },
             "pattern": {
              "fillmode": "overlay",
              "size": 10,
              "solidity": 0.2
             }
            },
            "type": "bar"
           }
          ],
          "barpolar": [
           {
            "marker": {
             "line": {
              "color": "#E5ECF6",
              "width": 0.5
             },
             "pattern": {
              "fillmode": "overlay",
              "size": 10,
              "solidity": 0.2
             }
            },
            "type": "barpolar"
           }
          ],
          "carpet": [
           {
            "aaxis": {
             "endlinecolor": "#2a3f5f",
             "gridcolor": "white",
             "linecolor": "white",
             "minorgridcolor": "white",
             "startlinecolor": "#2a3f5f"
            },
            "baxis": {
             "endlinecolor": "#2a3f5f",
             "gridcolor": "white",
             "linecolor": "white",
             "minorgridcolor": "white",
             "startlinecolor": "#2a3f5f"
            },
            "type": "carpet"
           }
          ],
          "choropleth": [
           {
            "colorbar": {
             "outlinewidth": 0,
             "ticks": ""
            },
            "type": "choropleth"
           }
          ],
          "contour": [
           {
            "colorbar": {
             "outlinewidth": 0,
             "ticks": ""
            },
            "colorscale": [
             [
              0,
              "#0d0887"
             ],
             [
              0.1111111111111111,
              "#46039f"
             ],
             [
              0.2222222222222222,
              "#7201a8"
             ],
             [
              0.3333333333333333,
              "#9c179e"
             ],
             [
              0.4444444444444444,
              "#bd3786"
             ],
             [
              0.5555555555555556,
              "#d8576b"
             ],
             [
              0.6666666666666666,
              "#ed7953"
             ],
             [
              0.7777777777777778,
              "#fb9f3a"
             ],
             [
              0.8888888888888888,
              "#fdca26"
             ],
             [
              1,
              "#f0f921"
             ]
            ],
            "type": "contour"
           }
          ],
          "contourcarpet": [
           {
            "colorbar": {
             "outlinewidth": 0,
             "ticks": ""
            },
            "type": "contourcarpet"
           }
          ],
          "heatmap": [
           {
            "colorbar": {
             "outlinewidth": 0,
             "ticks": ""
            },
            "colorscale": [
             [
              0,
              "#0d0887"
             ],
             [
              0.1111111111111111,
              "#46039f"
             ],
             [
              0.2222222222222222,
              "#7201a8"
             ],
             [
              0.3333333333333333,
              "#9c179e"
             ],
             [
              0.4444444444444444,
              "#bd3786"
             ],
             [
              0.5555555555555556,
              "#d8576b"
             ],
             [
              0.6666666666666666,
              "#ed7953"
             ],
             [
              0.7777777777777778,
              "#fb9f3a"
             ],
             [
              0.8888888888888888,
              "#fdca26"
             ],
             [
              1,
              "#f0f921"
             ]
            ],
            "type": "heatmap"
           }
          ],
          "heatmapgl": [
           {
            "colorbar": {
             "outlinewidth": 0,
             "ticks": ""
            },
            "colorscale": [
             [
              0,
              "#0d0887"
             ],
             [
              0.1111111111111111,
              "#46039f"
             ],
             [
              0.2222222222222222,
              "#7201a8"
             ],
             [
              0.3333333333333333,
              "#9c179e"
             ],
             [
              0.4444444444444444,
              "#bd3786"
             ],
             [
              0.5555555555555556,
              "#d8576b"
             ],
             [
              0.6666666666666666,
              "#ed7953"
             ],
             [
              0.7777777777777778,
              "#fb9f3a"
             ],
             [
              0.8888888888888888,
              "#fdca26"
             ],
             [
              1,
              "#f0f921"
             ]
            ],
            "type": "heatmapgl"
           }
          ],
          "histogram": [
           {
            "marker": {
             "pattern": {
              "fillmode": "overlay",
              "size": 10,
              "solidity": 0.2
             }
            },
            "type": "histogram"
           }
          ],
          "histogram2d": [
           {
            "colorbar": {
             "outlinewidth": 0,
             "ticks": ""
            },
            "colorscale": [
             [
              0,
              "#0d0887"
             ],
             [
              0.1111111111111111,
              "#46039f"
             ],
             [
              0.2222222222222222,
              "#7201a8"
             ],
             [
              0.3333333333333333,
              "#9c179e"
             ],
             [
              0.4444444444444444,
              "#bd3786"
             ],
             [
              0.5555555555555556,
              "#d8576b"
             ],
             [
              0.6666666666666666,
              "#ed7953"
             ],
             [
              0.7777777777777778,
              "#fb9f3a"
             ],
             [
              0.8888888888888888,
              "#fdca26"
             ],
             [
              1,
              "#f0f921"
             ]
            ],
            "type": "histogram2d"
           }
          ],
          "histogram2dcontour": [
           {
            "colorbar": {
             "outlinewidth": 0,
             "ticks": ""
            },
            "colorscale": [
             [
              0,
              "#0d0887"
             ],
             [
              0.1111111111111111,
              "#46039f"
             ],
             [
              0.2222222222222222,
              "#7201a8"
             ],
             [
              0.3333333333333333,
              "#9c179e"
             ],
             [
              0.4444444444444444,
              "#bd3786"
             ],
             [
              0.5555555555555556,
              "#d8576b"
             ],
             [
              0.6666666666666666,
              "#ed7953"
             ],
             [
              0.7777777777777778,
              "#fb9f3a"
             ],
             [
              0.8888888888888888,
              "#fdca26"
             ],
             [
              1,
              "#f0f921"
             ]
            ],
            "type": "histogram2dcontour"
           }
          ],
          "mesh3d": [
           {
            "colorbar": {
             "outlinewidth": 0,
             "ticks": ""
            },
            "type": "mesh3d"
           }
          ],
          "parcoords": [
           {
            "line": {
             "colorbar": {
              "outlinewidth": 0,
              "ticks": ""
             }
            },
            "type": "parcoords"
           }
          ],
          "pie": [
           {
            "automargin": true,
            "type": "pie"
           }
          ],
          "scatter": [
           {
            "marker": {
             "colorbar": {
              "outlinewidth": 0,
              "ticks": ""
             }
            },
            "type": "scatter"
           }
          ],
          "scatter3d": [
           {
            "line": {
             "colorbar": {
              "outlinewidth": 0,
              "ticks": ""
             }
            },
            "marker": {
             "colorbar": {
              "outlinewidth": 0,
              "ticks": ""
             }
            },
            "type": "scatter3d"
           }
          ],
          "scattercarpet": [
           {
            "marker": {
             "colorbar": {
              "outlinewidth": 0,
              "ticks": ""
             }
            },
            "type": "scattercarpet"
           }
          ],
          "scattergeo": [
           {
            "marker": {
             "colorbar": {
              "outlinewidth": 0,
              "ticks": ""
             }
            },
            "type": "scattergeo"
           }
          ],
          "scattergl": [
           {
            "marker": {
             "colorbar": {
              "outlinewidth": 0,
              "ticks": ""
             }
            },
            "type": "scattergl"
           }
          ],
          "scattermapbox": [
           {
            "marker": {
             "colorbar": {
              "outlinewidth": 0,
              "ticks": ""
             }
            },
            "type": "scattermapbox"
           }
          ],
          "scatterpolar": [
           {
            "marker": {
             "colorbar": {
              "outlinewidth": 0,
              "ticks": ""
             }
            },
            "type": "scatterpolar"
           }
          ],
          "scatterpolargl": [
           {
            "marker": {
             "colorbar": {
              "outlinewidth": 0,
              "ticks": ""
             }
            },
            "type": "scatterpolargl"
           }
          ],
          "scatterternary": [
           {
            "marker": {
             "colorbar": {
              "outlinewidth": 0,
              "ticks": ""
             }
            },
            "type": "scatterternary"
           }
          ],
          "surface": [
           {
            "colorbar": {
             "outlinewidth": 0,
             "ticks": ""
            },
            "colorscale": [
             [
              0,
              "#0d0887"
             ],
             [
              0.1111111111111111,
              "#46039f"
             ],
             [
              0.2222222222222222,
              "#7201a8"
             ],
             [
              0.3333333333333333,
              "#9c179e"
             ],
             [
              0.4444444444444444,
              "#bd3786"
             ],
             [
              0.5555555555555556,
              "#d8576b"
             ],
             [
              0.6666666666666666,
              "#ed7953"
             ],
             [
              0.7777777777777778,
              "#fb9f3a"
             ],
             [
              0.8888888888888888,
              "#fdca26"
             ],
             [
              1,
              "#f0f921"
             ]
            ],
            "type": "surface"
           }
          ],
          "table": [
           {
            "cells": {
             "fill": {
              "color": "#EBF0F8"
             },
             "line": {
              "color": "white"
             }
            },
            "header": {
             "fill": {
              "color": "#C8D4E3"
             },
             "line": {
              "color": "white"
             }
            },
            "type": "table"
           }
          ]
         },
         "layout": {
          "annotationdefaults": {
           "arrowcolor": "#2a3f5f",
           "arrowhead": 0,
           "arrowwidth": 1
          },
          "autotypenumbers": "strict",
          "coloraxis": {
           "colorbar": {
            "outlinewidth": 0,
            "ticks": ""
           }
          },
          "colorscale": {
           "diverging": [
            [
             0,
             "#8e0152"
            ],
            [
             0.1,
             "#c51b7d"
            ],
            [
             0.2,
             "#de77ae"
            ],
            [
             0.3,
             "#f1b6da"
            ],
            [
             0.4,
             "#fde0ef"
            ],
            [
             0.5,
             "#f7f7f7"
            ],
            [
             0.6,
             "#e6f5d0"
            ],
            [
             0.7,
             "#b8e186"
            ],
            [
             0.8,
             "#7fbc41"
            ],
            [
             0.9,
             "#4d9221"
            ],
            [
             1,
             "#276419"
            ]
           ],
           "sequential": [
            [
             0,
             "#0d0887"
            ],
            [
             0.1111111111111111,
             "#46039f"
            ],
            [
             0.2222222222222222,
             "#7201a8"
            ],
            [
             0.3333333333333333,
             "#9c179e"
            ],
            [
             0.4444444444444444,
             "#bd3786"
            ],
            [
             0.5555555555555556,
             "#d8576b"
            ],
            [
             0.6666666666666666,
             "#ed7953"
            ],
            [
             0.7777777777777778,
             "#fb9f3a"
            ],
            [
             0.8888888888888888,
             "#fdca26"
            ],
            [
             1,
             "#f0f921"
            ]
           ],
           "sequentialminus": [
            [
             0,
             "#0d0887"
            ],
            [
             0.1111111111111111,
             "#46039f"
            ],
            [
             0.2222222222222222,
             "#7201a8"
            ],
            [
             0.3333333333333333,
             "#9c179e"
            ],
            [
             0.4444444444444444,
             "#bd3786"
            ],
            [
             0.5555555555555556,
             "#d8576b"
            ],
            [
             0.6666666666666666,
             "#ed7953"
            ],
            [
             0.7777777777777778,
             "#fb9f3a"
            ],
            [
             0.8888888888888888,
             "#fdca26"
            ],
            [
             1,
             "#f0f921"
            ]
           ]
          },
          "colorway": [
           "#636efa",
           "#EF553B",
           "#00cc96",
           "#ab63fa",
           "#FFA15A",
           "#19d3f3",
           "#FF6692",
           "#B6E880",
           "#FF97FF",
           "#FECB52"
          ],
          "font": {
           "color": "#2a3f5f"
          },
          "geo": {
           "bgcolor": "white",
           "lakecolor": "white",
           "landcolor": "#E5ECF6",
           "showlakes": true,
           "showland": true,
           "subunitcolor": "white"
          },
          "hoverlabel": {
           "align": "left"
          },
          "hovermode": "closest",
          "mapbox": {
           "style": "light"
          },
          "paper_bgcolor": "white",
          "plot_bgcolor": "#E5ECF6",
          "polar": {
           "angularaxis": {
            "gridcolor": "white",
            "linecolor": "white",
            "ticks": ""
           },
           "bgcolor": "#E5ECF6",
           "radialaxis": {
            "gridcolor": "white",
            "linecolor": "white",
            "ticks": ""
           }
          },
          "scene": {
           "xaxis": {
            "backgroundcolor": "#E5ECF6",
            "gridcolor": "white",
            "gridwidth": 2,
            "linecolor": "white",
            "showbackground": true,
            "ticks": "",
            "zerolinecolor": "white"
           },
           "yaxis": {
            "backgroundcolor": "#E5ECF6",
            "gridcolor": "white",
            "gridwidth": 2,
            "linecolor": "white",
            "showbackground": true,
            "ticks": "",
            "zerolinecolor": "white"
           },
           "zaxis": {
            "backgroundcolor": "#E5ECF6",
            "gridcolor": "white",
            "gridwidth": 2,
            "linecolor": "white",
            "showbackground": true,
            "ticks": "",
            "zerolinecolor": "white"
           }
          },
          "shapedefaults": {
           "line": {
            "color": "#2a3f5f"
           }
          },
          "ternary": {
           "aaxis": {
            "gridcolor": "white",
            "linecolor": "white",
            "ticks": ""
           },
           "baxis": {
            "gridcolor": "white",
            "linecolor": "white",
            "ticks": ""
           },
           "bgcolor": "#E5ECF6",
           "caxis": {
            "gridcolor": "white",
            "linecolor": "white",
            "ticks": ""
           }
          },
          "title": {
           "x": 0.05
          },
          "xaxis": {
           "automargin": true,
           "gridcolor": "white",
           "linecolor": "white",
           "ticks": "",
           "title": {
            "standoff": 15
           },
           "zerolinecolor": "white",
           "zerolinewidth": 2
          },
          "yaxis": {
           "automargin": true,
           "gridcolor": "white",
           "linecolor": "white",
           "ticks": "",
           "title": {
            "standoff": 15
           },
           "zerolinecolor": "white",
           "zerolinewidth": 2
          }
         }
        }
       }
      },
      "text/html": [
       "<div>                            <div id=\"e3e09af1-b481-4de5-ad69-157c45dea9c4\" class=\"plotly-graph-div\" style=\"height:525px; width:100%;\"></div>            <script type=\"text/javascript\">                require([\"plotly\"], function(Plotly) {                    window.PLOTLYENV=window.PLOTLYENV || {};                                    if (document.getElementById(\"e3e09af1-b481-4de5-ad69-157c45dea9c4\")) {                    Plotly.newPlot(                        \"e3e09af1-b481-4de5-ad69-157c45dea9c4\",                        [{\"line\":{\"color\":\"silver\",\"width\":0},\"marker\":{\"size\":1},\"name\":\"leveling\",\"r\":[1,1,1,1,1,1,1,1,1,1,1,1],\"showlegend\":false,\"theta\":[\"Atoms\",\"MW\",\"fSP3\",\"HBA\",\"HBD\",\"Stereo Atoms\",\"Rings\",\"Rotatable Bonds\",\"QED\",\"logD\",\"TPSA\",\"Atoms\",\"Atoms\"],\"type\":\"scatterpolar\"},{\"line\":{\"color\":\"green\",\"width\":2},\"marker\":{\"size\":1},\"name\":\"DEL2 Library\",\"r\":[0.16656445266628966,0.16698522876846242,0.15335544598544854,0.1260628662197918,0.10850540151015825,0.03305787196237301,0.0010220197217084986,0.1194904857024104,0.04005039606087427,0.21667477802003848,0.12468700891588404,0.16656445266628966,0.16656445266628966],\"showlegend\":false,\"theta\":[\"Atoms\",\"MW\",\"fSP3\",\"HBA\",\"HBD\",\"Stereo Atoms\",\"Rings\",\"Rotatable Bonds\",\"QED\",\"logD\",\"TPSA\",\"Atoms\",\"Atoms\"],\"type\":\"scatterpolar\"},{\"fill\":\"tonext\",\"line\":{\"color\":\"green\",\"width\":2},\"marker\":{\"size\":1},\"name\":\"Zafrens Library 2\",\"r\":[0.38962655178781114,0.3754008126954943,0.8046372501099088,0.3446793975127043,0.35623139648180424,0.16834051966668706,0.38738846607771105,0.4214525180226427,0.6869118266433494,0.4658894571096466,0.33947126575151826,0.38962655178781114,0.38962655178781114],\"theta\":[\"Atoms\",\"MW\",\"fSP3\",\"HBA\",\"HBD\",\"Stereo Atoms\",\"Rings\",\"Rotatable Bonds\",\"QED\",\"logD\",\"TPSA\",\"Atoms\",\"Atoms\"],\"type\":\"scatterpolar\"},{\"line\":{\"color\":\"red\"},\"marker\":{\"size\":1},\"name\":\"Druglikeness (lower)\",\"opacity\":0.25,\"r\":[0.2608695652173913,0.09618318943226623,0.0,0.0,0.0,0.0,0.0,0.17142857142857143,0.4238583786535618,0.33254452469606643,0.0,0.2608695652173913,0.2608695652173913],\"showlegend\":false,\"theta\":[\"Atoms\",\"MW\",\"fSP3\",\"HBA\",\"HBD\",\"Stereo Atoms\",\"Rings\",\"Rotatable Bonds\",\"QED\",\"logD\",\"TPSA\",\"Atoms\",\"Atoms\"],\"type\":\"scatterpolar\"},{\"fill\":\"tonext\",\"fillcolor\":\"red\",\"line\":{\"color\":\"red\"},\"marker\":{\"size\":1},\"name\":\"Druglikeness\",\"opacity\":0.5,\"r\":[0.4782608695652174,0.30057246697583195,0.5,0.23255813953488372,0.2,0.03333333333333333,0.23076923076923078,0.2857142857142857,0.6357875679803426,0.5194660027215775,0.19942451782000514,0.4782608695652174,0.4782608695652174],\"theta\":[\"Atoms\",\"MW\",\"fSP3\",\"HBA\",\"HBD\",\"Stereo Atoms\",\"Rings\",\"Rotatable Bonds\",\"QED\",\"logD\",\"TPSA\",\"Atoms\",\"Atoms\"],\"type\":\"scatterpolar\"}],                        {\"template\":{\"data\":{\"bar\":[{\"error_x\":{\"color\":\"#2a3f5f\"},\"error_y\":{\"color\":\"#2a3f5f\"},\"marker\":{\"line\":{\"color\":\"#E5ECF6\",\"width\":0.5},\"pattern\":{\"fillmode\":\"overlay\",\"size\":10,\"solidity\":0.2}},\"type\":\"bar\"}],\"barpolar\":[{\"marker\":{\"line\":{\"color\":\"#E5ECF6\",\"width\":0.5},\"pattern\":{\"fillmode\":\"overlay\",\"size\":10,\"solidity\":0.2}},\"type\":\"barpolar\"}],\"carpet\":[{\"aaxis\":{\"endlinecolor\":\"#2a3f5f\",\"gridcolor\":\"white\",\"linecolor\":\"white\",\"minorgridcolor\":\"white\",\"startlinecolor\":\"#2a3f5f\"},\"baxis\":{\"endlinecolor\":\"#2a3f5f\",\"gridcolor\":\"white\",\"linecolor\":\"white\",\"minorgridcolor\":\"white\",\"startlinecolor\":\"#2a3f5f\"},\"type\":\"carpet\"}],\"choropleth\":[{\"colorbar\":{\"outlinewidth\":0,\"ticks\":\"\"},\"type\":\"choropleth\"}],\"contour\":[{\"colorbar\":{\"outlinewidth\":0,\"ticks\":\"\"},\"colorscale\":[[0.0,\"#0d0887\"],[0.1111111111111111,\"#46039f\"],[0.2222222222222222,\"#7201a8\"],[0.3333333333333333,\"#9c179e\"],[0.4444444444444444,\"#bd3786\"],[0.5555555555555556,\"#d8576b\"],[0.6666666666666666,\"#ed7953\"],[0.7777777777777778,\"#fb9f3a\"],[0.8888888888888888,\"#fdca26\"],[1.0,\"#f0f921\"]],\"type\":\"contour\"}],\"contourcarpet\":[{\"colorbar\":{\"outlinewidth\":0,\"ticks\":\"\"},\"type\":\"contourcarpet\"}],\"heatmap\":[{\"colorbar\":{\"outlinewidth\":0,\"ticks\":\"\"},\"colorscale\":[[0.0,\"#0d0887\"],[0.1111111111111111,\"#46039f\"],[0.2222222222222222,\"#7201a8\"],[0.3333333333333333,\"#9c179e\"],[0.4444444444444444,\"#bd3786\"],[0.5555555555555556,\"#d8576b\"],[0.6666666666666666,\"#ed7953\"],[0.7777777777777778,\"#fb9f3a\"],[0.8888888888888888,\"#fdca26\"],[1.0,\"#f0f921\"]],\"type\":\"heatmap\"}],\"heatmapgl\":[{\"colorbar\":{\"outlinewidth\":0,\"ticks\":\"\"},\"colorscale\":[[0.0,\"#0d0887\"],[0.1111111111111111,\"#46039f\"],[0.2222222222222222,\"#7201a8\"],[0.3333333333333333,\"#9c179e\"],[0.4444444444444444,\"#bd3786\"],[0.5555555555555556,\"#d8576b\"],[0.6666666666666666,\"#ed7953\"],[0.7777777777777778,\"#fb9f3a\"],[0.8888888888888888,\"#fdca26\"],[1.0,\"#f0f921\"]],\"type\":\"heatmapgl\"}],\"histogram\":[{\"marker\":{\"pattern\":{\"fillmode\":\"overlay\",\"size\":10,\"solidity\":0.2}},\"type\":\"histogram\"}],\"histogram2d\":[{\"colorbar\":{\"outlinewidth\":0,\"ticks\":\"\"},\"colorscale\":[[0.0,\"#0d0887\"],[0.1111111111111111,\"#46039f\"],[0.2222222222222222,\"#7201a8\"],[0.3333333333333333,\"#9c179e\"],[0.4444444444444444,\"#bd3786\"],[0.5555555555555556,\"#d8576b\"],[0.6666666666666666,\"#ed7953\"],[0.7777777777777778,\"#fb9f3a\"],[0.8888888888888888,\"#fdca26\"],[1.0,\"#f0f921\"]],\"type\":\"histogram2d\"}],\"histogram2dcontour\":[{\"colorbar\":{\"outlinewidth\":0,\"ticks\":\"\"},\"colorscale\":[[0.0,\"#0d0887\"],[0.1111111111111111,\"#46039f\"],[0.2222222222222222,\"#7201a8\"],[0.3333333333333333,\"#9c179e\"],[0.4444444444444444,\"#bd3786\"],[0.5555555555555556,\"#d8576b\"],[0.6666666666666666,\"#ed7953\"],[0.7777777777777778,\"#fb9f3a\"],[0.8888888888888888,\"#fdca26\"],[1.0,\"#f0f921\"]],\"type\":\"histogram2dcontour\"}],\"mesh3d\":[{\"colorbar\":{\"outlinewidth\":0,\"ticks\":\"\"},\"type\":\"mesh3d\"}],\"parcoords\":[{\"line\":{\"colorbar\":{\"outlinewidth\":0,\"ticks\":\"\"}},\"type\":\"parcoords\"}],\"pie\":[{\"automargin\":true,\"type\":\"pie\"}],\"scatter\":[{\"marker\":{\"colorbar\":{\"outlinewidth\":0,\"ticks\":\"\"}},\"type\":\"scatter\"}],\"scatter3d\":[{\"line\":{\"colorbar\":{\"outlinewidth\":0,\"ticks\":\"\"}},\"marker\":{\"colorbar\":{\"outlinewidth\":0,\"ticks\":\"\"}},\"type\":\"scatter3d\"}],\"scattercarpet\":[{\"marker\":{\"colorbar\":{\"outlinewidth\":0,\"ticks\":\"\"}},\"type\":\"scattercarpet\"}],\"scattergeo\":[{\"marker\":{\"colorbar\":{\"outlinewidth\":0,\"ticks\":\"\"}},\"type\":\"scattergeo\"}],\"scattergl\":[{\"marker\":{\"colorbar\":{\"outlinewidth\":0,\"ticks\":\"\"}},\"type\":\"scattergl\"}],\"scattermapbox\":[{\"marker\":{\"colorbar\":{\"outlinewidth\":0,\"ticks\":\"\"}},\"type\":\"scattermapbox\"}],\"scatterpolar\":[{\"marker\":{\"colorbar\":{\"outlinewidth\":0,\"ticks\":\"\"}},\"type\":\"scatterpolar\"}],\"scatterpolargl\":[{\"marker\":{\"colorbar\":{\"outlinewidth\":0,\"ticks\":\"\"}},\"type\":\"scatterpolargl\"}],\"scatterternary\":[{\"marker\":{\"colorbar\":{\"outlinewidth\":0,\"ticks\":\"\"}},\"type\":\"scatterternary\"}],\"surface\":[{\"colorbar\":{\"outlinewidth\":0,\"ticks\":\"\"},\"colorscale\":[[0.0,\"#0d0887\"],[0.1111111111111111,\"#46039f\"],[0.2222222222222222,\"#7201a8\"],[0.3333333333333333,\"#9c179e\"],[0.4444444444444444,\"#bd3786\"],[0.5555555555555556,\"#d8576b\"],[0.6666666666666666,\"#ed7953\"],[0.7777777777777778,\"#fb9f3a\"],[0.8888888888888888,\"#fdca26\"],[1.0,\"#f0f921\"]],\"type\":\"surface\"}],\"table\":[{\"cells\":{\"fill\":{\"color\":\"#EBF0F8\"},\"line\":{\"color\":\"white\"}},\"header\":{\"fill\":{\"color\":\"#C8D4E3\"},\"line\":{\"color\":\"white\"}},\"type\":\"table\"}]},\"layout\":{\"annotationdefaults\":{\"arrowcolor\":\"#2a3f5f\",\"arrowhead\":0,\"arrowwidth\":1},\"autotypenumbers\":\"strict\",\"coloraxis\":{\"colorbar\":{\"outlinewidth\":0,\"ticks\":\"\"}},\"colorscale\":{\"diverging\":[[0,\"#8e0152\"],[0.1,\"#c51b7d\"],[0.2,\"#de77ae\"],[0.3,\"#f1b6da\"],[0.4,\"#fde0ef\"],[0.5,\"#f7f7f7\"],[0.6,\"#e6f5d0\"],[0.7,\"#b8e186\"],[0.8,\"#7fbc41\"],[0.9,\"#4d9221\"],[1,\"#276419\"]],\"sequential\":[[0.0,\"#0d0887\"],[0.1111111111111111,\"#46039f\"],[0.2222222222222222,\"#7201a8\"],[0.3333333333333333,\"#9c179e\"],[0.4444444444444444,\"#bd3786\"],[0.5555555555555556,\"#d8576b\"],[0.6666666666666666,\"#ed7953\"],[0.7777777777777778,\"#fb9f3a\"],[0.8888888888888888,\"#fdca26\"],[1.0,\"#f0f921\"]],\"sequentialminus\":[[0.0,\"#0d0887\"],[0.1111111111111111,\"#46039f\"],[0.2222222222222222,\"#7201a8\"],[0.3333333333333333,\"#9c179e\"],[0.4444444444444444,\"#bd3786\"],[0.5555555555555556,\"#d8576b\"],[0.6666666666666666,\"#ed7953\"],[0.7777777777777778,\"#fb9f3a\"],[0.8888888888888888,\"#fdca26\"],[1.0,\"#f0f921\"]]},\"colorway\":[\"#636efa\",\"#EF553B\",\"#00cc96\",\"#ab63fa\",\"#FFA15A\",\"#19d3f3\",\"#FF6692\",\"#B6E880\",\"#FF97FF\",\"#FECB52\"],\"font\":{\"color\":\"#2a3f5f\"},\"geo\":{\"bgcolor\":\"white\",\"lakecolor\":\"white\",\"landcolor\":\"#E5ECF6\",\"showlakes\":true,\"showland\":true,\"subunitcolor\":\"white\"},\"hoverlabel\":{\"align\":\"left\"},\"hovermode\":\"closest\",\"mapbox\":{\"style\":\"light\"},\"paper_bgcolor\":\"white\",\"plot_bgcolor\":\"#E5ECF6\",\"polar\":{\"angularaxis\":{\"gridcolor\":\"white\",\"linecolor\":\"white\",\"ticks\":\"\"},\"bgcolor\":\"#E5ECF6\",\"radialaxis\":{\"gridcolor\":\"white\",\"linecolor\":\"white\",\"ticks\":\"\"}},\"scene\":{\"xaxis\":{\"backgroundcolor\":\"#E5ECF6\",\"gridcolor\":\"white\",\"gridwidth\":2,\"linecolor\":\"white\",\"showbackground\":true,\"ticks\":\"\",\"zerolinecolor\":\"white\"},\"yaxis\":{\"backgroundcolor\":\"#E5ECF6\",\"gridcolor\":\"white\",\"gridwidth\":2,\"linecolor\":\"white\",\"showbackground\":true,\"ticks\":\"\",\"zerolinecolor\":\"white\"},\"zaxis\":{\"backgroundcolor\":\"#E5ECF6\",\"gridcolor\":\"white\",\"gridwidth\":2,\"linecolor\":\"white\",\"showbackground\":true,\"ticks\":\"\",\"zerolinecolor\":\"white\"}},\"shapedefaults\":{\"line\":{\"color\":\"#2a3f5f\"}},\"ternary\":{\"aaxis\":{\"gridcolor\":\"white\",\"linecolor\":\"white\",\"ticks\":\"\"},\"baxis\":{\"gridcolor\":\"white\",\"linecolor\":\"white\",\"ticks\":\"\"},\"bgcolor\":\"#E5ECF6\",\"caxis\":{\"gridcolor\":\"white\",\"linecolor\":\"white\",\"ticks\":\"\"}},\"title\":{\"x\":0.05},\"xaxis\":{\"automargin\":true,\"gridcolor\":\"white\",\"linecolor\":\"white\",\"ticks\":\"\",\"title\":{\"standoff\":15},\"zerolinecolor\":\"white\",\"zerolinewidth\":2},\"yaxis\":{\"automargin\":true,\"gridcolor\":\"white\",\"linecolor\":\"white\",\"ticks\":\"\",\"title\":{\"standoff\":15},\"zerolinecolor\":\"white\",\"zerolinewidth\":2}}},\"polar\":{\"radialaxis\":{\"visible\":true}},\"showlegend\":true},                        {\"responsive\": true}                    ).then(function(){\n",
       "                            \n",
       "var gd = document.getElementById('e3e09af1-b481-4de5-ad69-157c45dea9c4');\n",
       "var x = new MutationObserver(function (mutations, observer) {{\n",
       "        var display = window.getComputedStyle(gd).display;\n",
       "        if (!display || display === 'none') {{\n",
       "            console.log([gd, 'removed!']);\n",
       "            Plotly.purge(gd);\n",
       "            observer.disconnect();\n",
       "        }}\n",
       "}});\n",
       "\n",
       "// Listen for the removal of the full notebook cells\n",
       "var notebookContainer = gd.closest('#notebook-container');\n",
       "if (notebookContainer) {{\n",
       "    x.observe(notebookContainer, {childList: true});\n",
       "}}\n",
       "\n",
       "// Listen for the clearing of the current output cell\n",
       "var outputEl = gd.closest('.output');\n",
       "if (outputEl) {{\n",
       "    x.observe(outputEl, {childList: true});\n",
       "}}\n",
       "\n",
       "                        })                };                });            </script>        </div>"
      ]
     },
     "metadata": {},
     "output_type": "display_data"
    },
    {
     "data": {
      "application/vnd.plotly.v1+json": {
       "config": {
        "plotlyServerURL": "https://plot.ly"
       },
       "data": [
        {
         "line": {
          "color": "silver",
          "width": 0
         },
         "marker": {
          "size": 1
         },
         "name": "leveling",
         "r": [
          1,
          1,
          1,
          1,
          1,
          1,
          1,
          1,
          1,
          1,
          1,
          1
         ],
         "showlegend": false,
         "theta": [
          "Atoms",
          "MW",
          "fSP3",
          "HBA",
          "HBD",
          "Stereo Atoms",
          "Rings",
          "Rotatable Bonds",
          "QED",
          "logD",
          "TPSA",
          "Atoms",
          "Atoms"
         ],
         "type": "scatterpolar"
        },
        {
         "line": {
          "color": "blue",
          "width": 2
         },
         "marker": {
          "size": 1
         },
         "name": "Drug Collection",
         "r": [
          0,
          0,
          0,
          0,
          0,
          0,
          0,
          0,
          0.13704849898035934,
          0.21202128684158728,
          0,
          0,
          0
         ],
         "showlegend": false,
         "theta": [
          "Atoms",
          "MW",
          "fSP3",
          "HBA",
          "HBD",
          "Stereo Atoms",
          "Rings",
          "Rotatable Bonds",
          "QED",
          "logD",
          "TPSA",
          "Atoms",
          "Atoms"
         ],
         "type": "scatterpolar"
        },
        {
         "fill": "tonext",
         "line": {
          "color": "blue",
          "width": 2
         },
         "marker": {
          "size": 1
         },
         "name": "Drug Collection",
         "r": [
          0.41752017882356696,
          0.41172738538861786,
          0.9692648073649767,
          0.3208935348809258,
          0.3122356893415111,
          0.2926442992395945,
          0.45004903972139626,
          0.3727808349471888,
          1.0155910461149467,
          0.6022791095653641,
          0.3055540241754811,
          0.41752017882356696,
          0.41752017882356696
         ],
         "theta": [
          "Atoms",
          "MW",
          "fSP3",
          "HBA",
          "HBD",
          "Stereo Atoms",
          "Rings",
          "Rotatable Bonds",
          "QED",
          "logD",
          "TPSA",
          "Atoms",
          "Atoms"
         ],
         "type": "scatterpolar"
        },
        {
         "line": {
          "color": "green",
          "width": 2
         },
         "marker": {
          "size": 1
         },
         "name": "DEL2 Library",
         "r": [
          0.16656445266628966,
          0.16698522876846242,
          0.15335544598544854,
          0.1260628662197918,
          0.10850540151015825,
          0.03305787196237301,
          0.0010220197217084986,
          0.1194904857024104,
          0.04005039606087427,
          0.21667477802003848,
          0.12468700891588404,
          0.16656445266628966,
          0.16656445266628966
         ],
         "showlegend": false,
         "theta": [
          "Atoms",
          "MW",
          "fSP3",
          "HBA",
          "HBD",
          "Stereo Atoms",
          "Rings",
          "Rotatable Bonds",
          "QED",
          "logD",
          "TPSA",
          "Atoms",
          "Atoms"
         ],
         "type": "scatterpolar"
        },
        {
         "fill": "tonext",
         "line": {
          "color": "green",
          "width": 2
         },
         "marker": {
          "size": 1
         },
         "name": "Zafrens Library 2",
         "r": [
          0.38962655178781114,
          0.3754008126954943,
          0.8046372501099088,
          0.3446793975127043,
          0.35623139648180424,
          0.16834051966668706,
          0.38738846607771105,
          0.4214525180226427,
          0.6869118266433494,
          0.4658894571096466,
          0.33947126575151826,
          0.38962655178781114,
          0.38962655178781114
         ],
         "theta": [
          "Atoms",
          "MW",
          "fSP3",
          "HBA",
          "HBD",
          "Stereo Atoms",
          "Rings",
          "Rotatable Bonds",
          "QED",
          "logD",
          "TPSA",
          "Atoms",
          "Atoms"
         ],
         "type": "scatterpolar"
        }
       ],
       "layout": {
        "polar": {
         "radialaxis": {
          "visible": true
         }
        },
        "showlegend": true,
        "template": {
         "data": {
          "bar": [
           {
            "error_x": {
             "color": "#2a3f5f"
            },
            "error_y": {
             "color": "#2a3f5f"
            },
            "marker": {
             "line": {
              "color": "#E5ECF6",
              "width": 0.5
             },
             "pattern": {
              "fillmode": "overlay",
              "size": 10,
              "solidity": 0.2
             }
            },
            "type": "bar"
           }
          ],
          "barpolar": [
           {
            "marker": {
             "line": {
              "color": "#E5ECF6",
              "width": 0.5
             },
             "pattern": {
              "fillmode": "overlay",
              "size": 10,
              "solidity": 0.2
             }
            },
            "type": "barpolar"
           }
          ],
          "carpet": [
           {
            "aaxis": {
             "endlinecolor": "#2a3f5f",
             "gridcolor": "white",
             "linecolor": "white",
             "minorgridcolor": "white",
             "startlinecolor": "#2a3f5f"
            },
            "baxis": {
             "endlinecolor": "#2a3f5f",
             "gridcolor": "white",
             "linecolor": "white",
             "minorgridcolor": "white",
             "startlinecolor": "#2a3f5f"
            },
            "type": "carpet"
           }
          ],
          "choropleth": [
           {
            "colorbar": {
             "outlinewidth": 0,
             "ticks": ""
            },
            "type": "choropleth"
           }
          ],
          "contour": [
           {
            "colorbar": {
             "outlinewidth": 0,
             "ticks": ""
            },
            "colorscale": [
             [
              0,
              "#0d0887"
             ],
             [
              0.1111111111111111,
              "#46039f"
             ],
             [
              0.2222222222222222,
              "#7201a8"
             ],
             [
              0.3333333333333333,
              "#9c179e"
             ],
             [
              0.4444444444444444,
              "#bd3786"
             ],
             [
              0.5555555555555556,
              "#d8576b"
             ],
             [
              0.6666666666666666,
              "#ed7953"
             ],
             [
              0.7777777777777778,
              "#fb9f3a"
             ],
             [
              0.8888888888888888,
              "#fdca26"
             ],
             [
              1,
              "#f0f921"
             ]
            ],
            "type": "contour"
           }
          ],
          "contourcarpet": [
           {
            "colorbar": {
             "outlinewidth": 0,
             "ticks": ""
            },
            "type": "contourcarpet"
           }
          ],
          "heatmap": [
           {
            "colorbar": {
             "outlinewidth": 0,
             "ticks": ""
            },
            "colorscale": [
             [
              0,
              "#0d0887"
             ],
             [
              0.1111111111111111,
              "#46039f"
             ],
             [
              0.2222222222222222,
              "#7201a8"
             ],
             [
              0.3333333333333333,
              "#9c179e"
             ],
             [
              0.4444444444444444,
              "#bd3786"
             ],
             [
              0.5555555555555556,
              "#d8576b"
             ],
             [
              0.6666666666666666,
              "#ed7953"
             ],
             [
              0.7777777777777778,
              "#fb9f3a"
             ],
             [
              0.8888888888888888,
              "#fdca26"
             ],
             [
              1,
              "#f0f921"
             ]
            ],
            "type": "heatmap"
           }
          ],
          "heatmapgl": [
           {
            "colorbar": {
             "outlinewidth": 0,
             "ticks": ""
            },
            "colorscale": [
             [
              0,
              "#0d0887"
             ],
             [
              0.1111111111111111,
              "#46039f"
             ],
             [
              0.2222222222222222,
              "#7201a8"
             ],
             [
              0.3333333333333333,
              "#9c179e"
             ],
             [
              0.4444444444444444,
              "#bd3786"
             ],
             [
              0.5555555555555556,
              "#d8576b"
             ],
             [
              0.6666666666666666,
              "#ed7953"
             ],
             [
              0.7777777777777778,
              "#fb9f3a"
             ],
             [
              0.8888888888888888,
              "#fdca26"
             ],
             [
              1,
              "#f0f921"
             ]
            ],
            "type": "heatmapgl"
           }
          ],
          "histogram": [
           {
            "marker": {
             "pattern": {
              "fillmode": "overlay",
              "size": 10,
              "solidity": 0.2
             }
            },
            "type": "histogram"
           }
          ],
          "histogram2d": [
           {
            "colorbar": {
             "outlinewidth": 0,
             "ticks": ""
            },
            "colorscale": [
             [
              0,
              "#0d0887"
             ],
             [
              0.1111111111111111,
              "#46039f"
             ],
             [
              0.2222222222222222,
              "#7201a8"
             ],
             [
              0.3333333333333333,
              "#9c179e"
             ],
             [
              0.4444444444444444,
              "#bd3786"
             ],
             [
              0.5555555555555556,
              "#d8576b"
             ],
             [
              0.6666666666666666,
              "#ed7953"
             ],
             [
              0.7777777777777778,
              "#fb9f3a"
             ],
             [
              0.8888888888888888,
              "#fdca26"
             ],
             [
              1,
              "#f0f921"
             ]
            ],
            "type": "histogram2d"
           }
          ],
          "histogram2dcontour": [
           {
            "colorbar": {
             "outlinewidth": 0,
             "ticks": ""
            },
            "colorscale": [
             [
              0,
              "#0d0887"
             ],
             [
              0.1111111111111111,
              "#46039f"
             ],
             [
              0.2222222222222222,
              "#7201a8"
             ],
             [
              0.3333333333333333,
              "#9c179e"
             ],
             [
              0.4444444444444444,
              "#bd3786"
             ],
             [
              0.5555555555555556,
              "#d8576b"
             ],
             [
              0.6666666666666666,
              "#ed7953"
             ],
             [
              0.7777777777777778,
              "#fb9f3a"
             ],
             [
              0.8888888888888888,
              "#fdca26"
             ],
             [
              1,
              "#f0f921"
             ]
            ],
            "type": "histogram2dcontour"
           }
          ],
          "mesh3d": [
           {
            "colorbar": {
             "outlinewidth": 0,
             "ticks": ""
            },
            "type": "mesh3d"
           }
          ],
          "parcoords": [
           {
            "line": {
             "colorbar": {
              "outlinewidth": 0,
              "ticks": ""
             }
            },
            "type": "parcoords"
           }
          ],
          "pie": [
           {
            "automargin": true,
            "type": "pie"
           }
          ],
          "scatter": [
           {
            "marker": {
             "colorbar": {
              "outlinewidth": 0,
              "ticks": ""
             }
            },
            "type": "scatter"
           }
          ],
          "scatter3d": [
           {
            "line": {
             "colorbar": {
              "outlinewidth": 0,
              "ticks": ""
             }
            },
            "marker": {
             "colorbar": {
              "outlinewidth": 0,
              "ticks": ""
             }
            },
            "type": "scatter3d"
           }
          ],
          "scattercarpet": [
           {
            "marker": {
             "colorbar": {
              "outlinewidth": 0,
              "ticks": ""
             }
            },
            "type": "scattercarpet"
           }
          ],
          "scattergeo": [
           {
            "marker": {
             "colorbar": {
              "outlinewidth": 0,
              "ticks": ""
             }
            },
            "type": "scattergeo"
           }
          ],
          "scattergl": [
           {
            "marker": {
             "colorbar": {
              "outlinewidth": 0,
              "ticks": ""
             }
            },
            "type": "scattergl"
           }
          ],
          "scattermapbox": [
           {
            "marker": {
             "colorbar": {
              "outlinewidth": 0,
              "ticks": ""
             }
            },
            "type": "scattermapbox"
           }
          ],
          "scatterpolar": [
           {
            "marker": {
             "colorbar": {
              "outlinewidth": 0,
              "ticks": ""
             }
            },
            "type": "scatterpolar"
           }
          ],
          "scatterpolargl": [
           {
            "marker": {
             "colorbar": {
              "outlinewidth": 0,
              "ticks": ""
             }
            },
            "type": "scatterpolargl"
           }
          ],
          "scatterternary": [
           {
            "marker": {
             "colorbar": {
              "outlinewidth": 0,
              "ticks": ""
             }
            },
            "type": "scatterternary"
           }
          ],
          "surface": [
           {
            "colorbar": {
             "outlinewidth": 0,
             "ticks": ""
            },
            "colorscale": [
             [
              0,
              "#0d0887"
             ],
             [
              0.1111111111111111,
              "#46039f"
             ],
             [
              0.2222222222222222,
              "#7201a8"
             ],
             [
              0.3333333333333333,
              "#9c179e"
             ],
             [
              0.4444444444444444,
              "#bd3786"
             ],
             [
              0.5555555555555556,
              "#d8576b"
             ],
             [
              0.6666666666666666,
              "#ed7953"
             ],
             [
              0.7777777777777778,
              "#fb9f3a"
             ],
             [
              0.8888888888888888,
              "#fdca26"
             ],
             [
              1,
              "#f0f921"
             ]
            ],
            "type": "surface"
           }
          ],
          "table": [
           {
            "cells": {
             "fill": {
              "color": "#EBF0F8"
             },
             "line": {
              "color": "white"
             }
            },
            "header": {
             "fill": {
              "color": "#C8D4E3"
             },
             "line": {
              "color": "white"
             }
            },
            "type": "table"
           }
          ]
         },
         "layout": {
          "annotationdefaults": {
           "arrowcolor": "#2a3f5f",
           "arrowhead": 0,
           "arrowwidth": 1
          },
          "autotypenumbers": "strict",
          "coloraxis": {
           "colorbar": {
            "outlinewidth": 0,
            "ticks": ""
           }
          },
          "colorscale": {
           "diverging": [
            [
             0,
             "#8e0152"
            ],
            [
             0.1,
             "#c51b7d"
            ],
            [
             0.2,
             "#de77ae"
            ],
            [
             0.3,
             "#f1b6da"
            ],
            [
             0.4,
             "#fde0ef"
            ],
            [
             0.5,
             "#f7f7f7"
            ],
            [
             0.6,
             "#e6f5d0"
            ],
            [
             0.7,
             "#b8e186"
            ],
            [
             0.8,
             "#7fbc41"
            ],
            [
             0.9,
             "#4d9221"
            ],
            [
             1,
             "#276419"
            ]
           ],
           "sequential": [
            [
             0,
             "#0d0887"
            ],
            [
             0.1111111111111111,
             "#46039f"
            ],
            [
             0.2222222222222222,
             "#7201a8"
            ],
            [
             0.3333333333333333,
             "#9c179e"
            ],
            [
             0.4444444444444444,
             "#bd3786"
            ],
            [
             0.5555555555555556,
             "#d8576b"
            ],
            [
             0.6666666666666666,
             "#ed7953"
            ],
            [
             0.7777777777777778,
             "#fb9f3a"
            ],
            [
             0.8888888888888888,
             "#fdca26"
            ],
            [
             1,
             "#f0f921"
            ]
           ],
           "sequentialminus": [
            [
             0,
             "#0d0887"
            ],
            [
             0.1111111111111111,
             "#46039f"
            ],
            [
             0.2222222222222222,
             "#7201a8"
            ],
            [
             0.3333333333333333,
             "#9c179e"
            ],
            [
             0.4444444444444444,
             "#bd3786"
            ],
            [
             0.5555555555555556,
             "#d8576b"
            ],
            [
             0.6666666666666666,
             "#ed7953"
            ],
            [
             0.7777777777777778,
             "#fb9f3a"
            ],
            [
             0.8888888888888888,
             "#fdca26"
            ],
            [
             1,
             "#f0f921"
            ]
           ]
          },
          "colorway": [
           "#636efa",
           "#EF553B",
           "#00cc96",
           "#ab63fa",
           "#FFA15A",
           "#19d3f3",
           "#FF6692",
           "#B6E880",
           "#FF97FF",
           "#FECB52"
          ],
          "font": {
           "color": "#2a3f5f"
          },
          "geo": {
           "bgcolor": "white",
           "lakecolor": "white",
           "landcolor": "#E5ECF6",
           "showlakes": true,
           "showland": true,
           "subunitcolor": "white"
          },
          "hoverlabel": {
           "align": "left"
          },
          "hovermode": "closest",
          "mapbox": {
           "style": "light"
          },
          "paper_bgcolor": "white",
          "plot_bgcolor": "#E5ECF6",
          "polar": {
           "angularaxis": {
            "gridcolor": "white",
            "linecolor": "white",
            "ticks": ""
           },
           "bgcolor": "#E5ECF6",
           "radialaxis": {
            "gridcolor": "white",
            "linecolor": "white",
            "ticks": ""
           }
          },
          "scene": {
           "xaxis": {
            "backgroundcolor": "#E5ECF6",
            "gridcolor": "white",
            "gridwidth": 2,
            "linecolor": "white",
            "showbackground": true,
            "ticks": "",
            "zerolinecolor": "white"
           },
           "yaxis": {
            "backgroundcolor": "#E5ECF6",
            "gridcolor": "white",
            "gridwidth": 2,
            "linecolor": "white",
            "showbackground": true,
            "ticks": "",
            "zerolinecolor": "white"
           },
           "zaxis": {
            "backgroundcolor": "#E5ECF6",
            "gridcolor": "white",
            "gridwidth": 2,
            "linecolor": "white",
            "showbackground": true,
            "ticks": "",
            "zerolinecolor": "white"
           }
          },
          "shapedefaults": {
           "line": {
            "color": "#2a3f5f"
           }
          },
          "ternary": {
           "aaxis": {
            "gridcolor": "white",
            "linecolor": "white",
            "ticks": ""
           },
           "baxis": {
            "gridcolor": "white",
            "linecolor": "white",
            "ticks": ""
           },
           "bgcolor": "#E5ECF6",
           "caxis": {
            "gridcolor": "white",
            "linecolor": "white",
            "ticks": ""
           }
          },
          "title": {
           "x": 0.05
          },
          "xaxis": {
           "automargin": true,
           "gridcolor": "white",
           "linecolor": "white",
           "ticks": "",
           "title": {
            "standoff": 15
           },
           "zerolinecolor": "white",
           "zerolinewidth": 2
          },
          "yaxis": {
           "automargin": true,
           "gridcolor": "white",
           "linecolor": "white",
           "ticks": "",
           "title": {
            "standoff": 15
           },
           "zerolinecolor": "white",
           "zerolinewidth": 2
          }
         }
        }
       }
      },
      "text/html": [
       "<div>                            <div id=\"3f2d801e-40d6-4a25-8825-7a0aff51a9bb\" class=\"plotly-graph-div\" style=\"height:525px; width:100%;\"></div>            <script type=\"text/javascript\">                require([\"plotly\"], function(Plotly) {                    window.PLOTLYENV=window.PLOTLYENV || {};                                    if (document.getElementById(\"3f2d801e-40d6-4a25-8825-7a0aff51a9bb\")) {                    Plotly.newPlot(                        \"3f2d801e-40d6-4a25-8825-7a0aff51a9bb\",                        [{\"line\":{\"color\":\"silver\",\"width\":0},\"marker\":{\"size\":1},\"name\":\"leveling\",\"r\":[1,1,1,1,1,1,1,1,1,1,1,1],\"showlegend\":false,\"theta\":[\"Atoms\",\"MW\",\"fSP3\",\"HBA\",\"HBD\",\"Stereo Atoms\",\"Rings\",\"Rotatable Bonds\",\"QED\",\"logD\",\"TPSA\",\"Atoms\",\"Atoms\"],\"type\":\"scatterpolar\"},{\"line\":{\"color\":\"blue\",\"width\":2},\"marker\":{\"size\":1},\"name\":\"Drug Collection\",\"r\":[0,0,0,0,0,0,0,0,0.13704849898035934,0.21202128684158728,0,0,0],\"showlegend\":false,\"theta\":[\"Atoms\",\"MW\",\"fSP3\",\"HBA\",\"HBD\",\"Stereo Atoms\",\"Rings\",\"Rotatable Bonds\",\"QED\",\"logD\",\"TPSA\",\"Atoms\",\"Atoms\"],\"type\":\"scatterpolar\"},{\"fill\":\"tonext\",\"line\":{\"color\":\"blue\",\"width\":2},\"marker\":{\"size\":1},\"name\":\"Drug Collection\",\"r\":[0.41752017882356696,0.41172738538861786,0.9692648073649767,0.3208935348809258,0.3122356893415111,0.2926442992395945,0.45004903972139626,0.3727808349471888,1.0155910461149467,0.6022791095653641,0.3055540241754811,0.41752017882356696,0.41752017882356696],\"theta\":[\"Atoms\",\"MW\",\"fSP3\",\"HBA\",\"HBD\",\"Stereo Atoms\",\"Rings\",\"Rotatable Bonds\",\"QED\",\"logD\",\"TPSA\",\"Atoms\",\"Atoms\"],\"type\":\"scatterpolar\"},{\"line\":{\"color\":\"green\",\"width\":2},\"marker\":{\"size\":1},\"name\":\"DEL2 Library\",\"r\":[0.16656445266628966,0.16698522876846242,0.15335544598544854,0.1260628662197918,0.10850540151015825,0.03305787196237301,0.0010220197217084986,0.1194904857024104,0.04005039606087427,0.21667477802003848,0.12468700891588404,0.16656445266628966,0.16656445266628966],\"showlegend\":false,\"theta\":[\"Atoms\",\"MW\",\"fSP3\",\"HBA\",\"HBD\",\"Stereo Atoms\",\"Rings\",\"Rotatable Bonds\",\"QED\",\"logD\",\"TPSA\",\"Atoms\",\"Atoms\"],\"type\":\"scatterpolar\"},{\"fill\":\"tonext\",\"line\":{\"color\":\"green\",\"width\":2},\"marker\":{\"size\":1},\"name\":\"Zafrens Library 2\",\"r\":[0.38962655178781114,0.3754008126954943,0.8046372501099088,0.3446793975127043,0.35623139648180424,0.16834051966668706,0.38738846607771105,0.4214525180226427,0.6869118266433494,0.4658894571096466,0.33947126575151826,0.38962655178781114,0.38962655178781114],\"theta\":[\"Atoms\",\"MW\",\"fSP3\",\"HBA\",\"HBD\",\"Stereo Atoms\",\"Rings\",\"Rotatable Bonds\",\"QED\",\"logD\",\"TPSA\",\"Atoms\",\"Atoms\"],\"type\":\"scatterpolar\"}],                        {\"template\":{\"data\":{\"bar\":[{\"error_x\":{\"color\":\"#2a3f5f\"},\"error_y\":{\"color\":\"#2a3f5f\"},\"marker\":{\"line\":{\"color\":\"#E5ECF6\",\"width\":0.5},\"pattern\":{\"fillmode\":\"overlay\",\"size\":10,\"solidity\":0.2}},\"type\":\"bar\"}],\"barpolar\":[{\"marker\":{\"line\":{\"color\":\"#E5ECF6\",\"width\":0.5},\"pattern\":{\"fillmode\":\"overlay\",\"size\":10,\"solidity\":0.2}},\"type\":\"barpolar\"}],\"carpet\":[{\"aaxis\":{\"endlinecolor\":\"#2a3f5f\",\"gridcolor\":\"white\",\"linecolor\":\"white\",\"minorgridcolor\":\"white\",\"startlinecolor\":\"#2a3f5f\"},\"baxis\":{\"endlinecolor\":\"#2a3f5f\",\"gridcolor\":\"white\",\"linecolor\":\"white\",\"minorgridcolor\":\"white\",\"startlinecolor\":\"#2a3f5f\"},\"type\":\"carpet\"}],\"choropleth\":[{\"colorbar\":{\"outlinewidth\":0,\"ticks\":\"\"},\"type\":\"choropleth\"}],\"contour\":[{\"colorbar\":{\"outlinewidth\":0,\"ticks\":\"\"},\"colorscale\":[[0.0,\"#0d0887\"],[0.1111111111111111,\"#46039f\"],[0.2222222222222222,\"#7201a8\"],[0.3333333333333333,\"#9c179e\"],[0.4444444444444444,\"#bd3786\"],[0.5555555555555556,\"#d8576b\"],[0.6666666666666666,\"#ed7953\"],[0.7777777777777778,\"#fb9f3a\"],[0.8888888888888888,\"#fdca26\"],[1.0,\"#f0f921\"]],\"type\":\"contour\"}],\"contourcarpet\":[{\"colorbar\":{\"outlinewidth\":0,\"ticks\":\"\"},\"type\":\"contourcarpet\"}],\"heatmap\":[{\"colorbar\":{\"outlinewidth\":0,\"ticks\":\"\"},\"colorscale\":[[0.0,\"#0d0887\"],[0.1111111111111111,\"#46039f\"],[0.2222222222222222,\"#7201a8\"],[0.3333333333333333,\"#9c179e\"],[0.4444444444444444,\"#bd3786\"],[0.5555555555555556,\"#d8576b\"],[0.6666666666666666,\"#ed7953\"],[0.7777777777777778,\"#fb9f3a\"],[0.8888888888888888,\"#fdca26\"],[1.0,\"#f0f921\"]],\"type\":\"heatmap\"}],\"heatmapgl\":[{\"colorbar\":{\"outlinewidth\":0,\"ticks\":\"\"},\"colorscale\":[[0.0,\"#0d0887\"],[0.1111111111111111,\"#46039f\"],[0.2222222222222222,\"#7201a8\"],[0.3333333333333333,\"#9c179e\"],[0.4444444444444444,\"#bd3786\"],[0.5555555555555556,\"#d8576b\"],[0.6666666666666666,\"#ed7953\"],[0.7777777777777778,\"#fb9f3a\"],[0.8888888888888888,\"#fdca26\"],[1.0,\"#f0f921\"]],\"type\":\"heatmapgl\"}],\"histogram\":[{\"marker\":{\"pattern\":{\"fillmode\":\"overlay\",\"size\":10,\"solidity\":0.2}},\"type\":\"histogram\"}],\"histogram2d\":[{\"colorbar\":{\"outlinewidth\":0,\"ticks\":\"\"},\"colorscale\":[[0.0,\"#0d0887\"],[0.1111111111111111,\"#46039f\"],[0.2222222222222222,\"#7201a8\"],[0.3333333333333333,\"#9c179e\"],[0.4444444444444444,\"#bd3786\"],[0.5555555555555556,\"#d8576b\"],[0.6666666666666666,\"#ed7953\"],[0.7777777777777778,\"#fb9f3a\"],[0.8888888888888888,\"#fdca26\"],[1.0,\"#f0f921\"]],\"type\":\"histogram2d\"}],\"histogram2dcontour\":[{\"colorbar\":{\"outlinewidth\":0,\"ticks\":\"\"},\"colorscale\":[[0.0,\"#0d0887\"],[0.1111111111111111,\"#46039f\"],[0.2222222222222222,\"#7201a8\"],[0.3333333333333333,\"#9c179e\"],[0.4444444444444444,\"#bd3786\"],[0.5555555555555556,\"#d8576b\"],[0.6666666666666666,\"#ed7953\"],[0.7777777777777778,\"#fb9f3a\"],[0.8888888888888888,\"#fdca26\"],[1.0,\"#f0f921\"]],\"type\":\"histogram2dcontour\"}],\"mesh3d\":[{\"colorbar\":{\"outlinewidth\":0,\"ticks\":\"\"},\"type\":\"mesh3d\"}],\"parcoords\":[{\"line\":{\"colorbar\":{\"outlinewidth\":0,\"ticks\":\"\"}},\"type\":\"parcoords\"}],\"pie\":[{\"automargin\":true,\"type\":\"pie\"}],\"scatter\":[{\"marker\":{\"colorbar\":{\"outlinewidth\":0,\"ticks\":\"\"}},\"type\":\"scatter\"}],\"scatter3d\":[{\"line\":{\"colorbar\":{\"outlinewidth\":0,\"ticks\":\"\"}},\"marker\":{\"colorbar\":{\"outlinewidth\":0,\"ticks\":\"\"}},\"type\":\"scatter3d\"}],\"scattercarpet\":[{\"marker\":{\"colorbar\":{\"outlinewidth\":0,\"ticks\":\"\"}},\"type\":\"scattercarpet\"}],\"scattergeo\":[{\"marker\":{\"colorbar\":{\"outlinewidth\":0,\"ticks\":\"\"}},\"type\":\"scattergeo\"}],\"scattergl\":[{\"marker\":{\"colorbar\":{\"outlinewidth\":0,\"ticks\":\"\"}},\"type\":\"scattergl\"}],\"scattermapbox\":[{\"marker\":{\"colorbar\":{\"outlinewidth\":0,\"ticks\":\"\"}},\"type\":\"scattermapbox\"}],\"scatterpolar\":[{\"marker\":{\"colorbar\":{\"outlinewidth\":0,\"ticks\":\"\"}},\"type\":\"scatterpolar\"}],\"scatterpolargl\":[{\"marker\":{\"colorbar\":{\"outlinewidth\":0,\"ticks\":\"\"}},\"type\":\"scatterpolargl\"}],\"scatterternary\":[{\"marker\":{\"colorbar\":{\"outlinewidth\":0,\"ticks\":\"\"}},\"type\":\"scatterternary\"}],\"surface\":[{\"colorbar\":{\"outlinewidth\":0,\"ticks\":\"\"},\"colorscale\":[[0.0,\"#0d0887\"],[0.1111111111111111,\"#46039f\"],[0.2222222222222222,\"#7201a8\"],[0.3333333333333333,\"#9c179e\"],[0.4444444444444444,\"#bd3786\"],[0.5555555555555556,\"#d8576b\"],[0.6666666666666666,\"#ed7953\"],[0.7777777777777778,\"#fb9f3a\"],[0.8888888888888888,\"#fdca26\"],[1.0,\"#f0f921\"]],\"type\":\"surface\"}],\"table\":[{\"cells\":{\"fill\":{\"color\":\"#EBF0F8\"},\"line\":{\"color\":\"white\"}},\"header\":{\"fill\":{\"color\":\"#C8D4E3\"},\"line\":{\"color\":\"white\"}},\"type\":\"table\"}]},\"layout\":{\"annotationdefaults\":{\"arrowcolor\":\"#2a3f5f\",\"arrowhead\":0,\"arrowwidth\":1},\"autotypenumbers\":\"strict\",\"coloraxis\":{\"colorbar\":{\"outlinewidth\":0,\"ticks\":\"\"}},\"colorscale\":{\"diverging\":[[0,\"#8e0152\"],[0.1,\"#c51b7d\"],[0.2,\"#de77ae\"],[0.3,\"#f1b6da\"],[0.4,\"#fde0ef\"],[0.5,\"#f7f7f7\"],[0.6,\"#e6f5d0\"],[0.7,\"#b8e186\"],[0.8,\"#7fbc41\"],[0.9,\"#4d9221\"],[1,\"#276419\"]],\"sequential\":[[0.0,\"#0d0887\"],[0.1111111111111111,\"#46039f\"],[0.2222222222222222,\"#7201a8\"],[0.3333333333333333,\"#9c179e\"],[0.4444444444444444,\"#bd3786\"],[0.5555555555555556,\"#d8576b\"],[0.6666666666666666,\"#ed7953\"],[0.7777777777777778,\"#fb9f3a\"],[0.8888888888888888,\"#fdca26\"],[1.0,\"#f0f921\"]],\"sequentialminus\":[[0.0,\"#0d0887\"],[0.1111111111111111,\"#46039f\"],[0.2222222222222222,\"#7201a8\"],[0.3333333333333333,\"#9c179e\"],[0.4444444444444444,\"#bd3786\"],[0.5555555555555556,\"#d8576b\"],[0.6666666666666666,\"#ed7953\"],[0.7777777777777778,\"#fb9f3a\"],[0.8888888888888888,\"#fdca26\"],[1.0,\"#f0f921\"]]},\"colorway\":[\"#636efa\",\"#EF553B\",\"#00cc96\",\"#ab63fa\",\"#FFA15A\",\"#19d3f3\",\"#FF6692\",\"#B6E880\",\"#FF97FF\",\"#FECB52\"],\"font\":{\"color\":\"#2a3f5f\"},\"geo\":{\"bgcolor\":\"white\",\"lakecolor\":\"white\",\"landcolor\":\"#E5ECF6\",\"showlakes\":true,\"showland\":true,\"subunitcolor\":\"white\"},\"hoverlabel\":{\"align\":\"left\"},\"hovermode\":\"closest\",\"mapbox\":{\"style\":\"light\"},\"paper_bgcolor\":\"white\",\"plot_bgcolor\":\"#E5ECF6\",\"polar\":{\"angularaxis\":{\"gridcolor\":\"white\",\"linecolor\":\"white\",\"ticks\":\"\"},\"bgcolor\":\"#E5ECF6\",\"radialaxis\":{\"gridcolor\":\"white\",\"linecolor\":\"white\",\"ticks\":\"\"}},\"scene\":{\"xaxis\":{\"backgroundcolor\":\"#E5ECF6\",\"gridcolor\":\"white\",\"gridwidth\":2,\"linecolor\":\"white\",\"showbackground\":true,\"ticks\":\"\",\"zerolinecolor\":\"white\"},\"yaxis\":{\"backgroundcolor\":\"#E5ECF6\",\"gridcolor\":\"white\",\"gridwidth\":2,\"linecolor\":\"white\",\"showbackground\":true,\"ticks\":\"\",\"zerolinecolor\":\"white\"},\"zaxis\":{\"backgroundcolor\":\"#E5ECF6\",\"gridcolor\":\"white\",\"gridwidth\":2,\"linecolor\":\"white\",\"showbackground\":true,\"ticks\":\"\",\"zerolinecolor\":\"white\"}},\"shapedefaults\":{\"line\":{\"color\":\"#2a3f5f\"}},\"ternary\":{\"aaxis\":{\"gridcolor\":\"white\",\"linecolor\":\"white\",\"ticks\":\"\"},\"baxis\":{\"gridcolor\":\"white\",\"linecolor\":\"white\",\"ticks\":\"\"},\"bgcolor\":\"#E5ECF6\",\"caxis\":{\"gridcolor\":\"white\",\"linecolor\":\"white\",\"ticks\":\"\"}},\"title\":{\"x\":0.05},\"xaxis\":{\"automargin\":true,\"gridcolor\":\"white\",\"linecolor\":\"white\",\"ticks\":\"\",\"title\":{\"standoff\":15},\"zerolinecolor\":\"white\",\"zerolinewidth\":2},\"yaxis\":{\"automargin\":true,\"gridcolor\":\"white\",\"linecolor\":\"white\",\"ticks\":\"\",\"title\":{\"standoff\":15},\"zerolinecolor\":\"white\",\"zerolinewidth\":2}}},\"polar\":{\"radialaxis\":{\"visible\":true}},\"showlegend\":true},                        {\"responsive\": true}                    ).then(function(){\n",
       "                            \n",
       "var gd = document.getElementById('3f2d801e-40d6-4a25-8825-7a0aff51a9bb');\n",
       "var x = new MutationObserver(function (mutations, observer) {{\n",
       "        var display = window.getComputedStyle(gd).display;\n",
       "        if (!display || display === 'none') {{\n",
       "            console.log([gd, 'removed!']);\n",
       "            Plotly.purge(gd);\n",
       "            observer.disconnect();\n",
       "        }}\n",
       "}});\n",
       "\n",
       "// Listen for the removal of the full notebook cells\n",
       "var notebookContainer = gd.closest('#notebook-container');\n",
       "if (notebookContainer) {{\n",
       "    x.observe(notebookContainer, {childList: true});\n",
       "}}\n",
       "\n",
       "// Listen for the clearing of the current output cell\n",
       "var outputEl = gd.closest('.output');\n",
       "if (outputEl) {{\n",
       "    x.observe(outputEl, {childList: true});\n",
       "}}\n",
       "\n",
       "                        })                };                });            </script>        </div>"
      ]
     },
     "metadata": {},
     "output_type": "display_data"
    },
    {
     "data": {
      "application/vnd.plotly.v1+json": {
       "config": {
        "plotlyServerURL": "https://plot.ly"
       },
       "data": [
        {
         "line": {
          "color": "blue",
          "width": 2
         },
         "marker": {
          "size": 1
         },
         "name": "Drug Collection",
         "r": [
          0,
          0,
          0,
          0,
          0,
          0,
          0,
          0,
          0.13704849898035934,
          0.21202128684158728,
          0,
          0,
          0
         ],
         "showlegend": false,
         "theta": [
          "Atoms",
          "MW",
          "fSP3",
          "HBA",
          "HBD",
          "Stereo Atoms",
          "Rings",
          "Rotatable Bonds",
          "QED",
          "logD",
          "TPSA",
          "Atoms",
          "Atoms"
         ],
         "type": "scatterpolar"
        },
        {
         "fill": "tonext",
         "line": {
          "color": "blue",
          "width": 2
         },
         "marker": {
          "size": 1
         },
         "name": "Drug Collection",
         "r": [
          0.41752017882356696,
          0.41172738538861786,
          0.9692648073649767,
          0.3208935348809258,
          0.3122356893415111,
          0.2926442992395945,
          0.45004903972139626,
          0.3727808349471888,
          1.0155910461149467,
          0.6022791095653641,
          0.3055540241754811,
          0.41752017882356696,
          0.41752017882356696
         ],
         "theta": [
          "Atoms",
          "MW",
          "fSP3",
          "HBA",
          "HBD",
          "Stereo Atoms",
          "Rings",
          "Rotatable Bonds",
          "QED",
          "logD",
          "TPSA",
          "Atoms",
          "Atoms"
         ],
         "type": "scatterpolar"
        },
        {
         "line": {
          "color": "green",
          "width": 2
         },
         "marker": {
          "size": 1
         },
         "name": "DEL2 Library",
         "r": [
          0.16656445266628966,
          0.16698522876846242,
          0.15335544598544854,
          0.1260628662197918,
          0.10850540151015825,
          0.03305787196237301,
          0.0010220197217084986,
          0.1194904857024104,
          0.04005039606087427,
          0.21667477802003848,
          0.12468700891588404,
          0.16656445266628966,
          0.16656445266628966
         ],
         "showlegend": false,
         "theta": [
          "Atoms",
          "MW",
          "fSP3",
          "HBA",
          "HBD",
          "Stereo Atoms",
          "Rings",
          "Rotatable Bonds",
          "QED",
          "logD",
          "TPSA",
          "Atoms",
          "Atoms"
         ],
         "type": "scatterpolar"
        },
        {
         "fill": "tonext",
         "line": {
          "color": "green",
          "width": 2
         },
         "marker": {
          "size": 1
         },
         "name": "Zafrens Library 2",
         "r": [
          0.38962655178781114,
          0.3754008126954943,
          0.8046372501099088,
          0.3446793975127043,
          0.35623139648180424,
          0.16834051966668706,
          0.38738846607771105,
          0.4214525180226427,
          0.6869118266433494,
          0.4658894571096466,
          0.33947126575151826,
          0.38962655178781114,
          0.38962655178781114
         ],
         "theta": [
          "Atoms",
          "MW",
          "fSP3",
          "HBA",
          "HBD",
          "Stereo Atoms",
          "Rings",
          "Rotatable Bonds",
          "QED",
          "logD",
          "TPSA",
          "Atoms",
          "Atoms"
         ],
         "type": "scatterpolar"
        },
        {
         "line": {
          "color": "red"
         },
         "marker": {
          "size": 1
         },
         "name": "Druglikeness (lower)",
         "opacity": 0.25,
         "r": [
          0.2608695652173913,
          0.09618318943226623,
          0,
          0,
          0,
          0,
          0,
          0.17142857142857143,
          0.4238583786535618,
          0.33254452469606643,
          0,
          0.2608695652173913,
          0.2608695652173913
         ],
         "showlegend": false,
         "theta": [
          "Atoms",
          "MW",
          "fSP3",
          "HBA",
          "HBD",
          "Stereo Atoms",
          "Rings",
          "Rotatable Bonds",
          "QED",
          "logD",
          "TPSA",
          "Atoms",
          "Atoms"
         ],
         "type": "scatterpolar"
        },
        {
         "fill": "tonext",
         "fillcolor": "red",
         "line": {
          "color": "red"
         },
         "marker": {
          "size": 1
         },
         "name": "Druglikeness",
         "opacity": 0.5,
         "r": [
          0.4782608695652174,
          0.30057246697583195,
          0.5,
          0.23255813953488372,
          0.2,
          0.03333333333333333,
          0.23076923076923078,
          0.2857142857142857,
          0.6357875679803426,
          0.5194660027215775,
          0.19942451782000514,
          0.4782608695652174,
          0.4782608695652174
         ],
         "theta": [
          "Atoms",
          "MW",
          "fSP3",
          "HBA",
          "HBD",
          "Stereo Atoms",
          "Rings",
          "Rotatable Bonds",
          "QED",
          "logD",
          "TPSA",
          "Atoms",
          "Atoms"
         ],
         "type": "scatterpolar"
        }
       ],
       "layout": {
        "polar": {
         "radialaxis": {
          "visible": true
         }
        },
        "showlegend": true,
        "template": {
         "data": {
          "bar": [
           {
            "error_x": {
             "color": "#2a3f5f"
            },
            "error_y": {
             "color": "#2a3f5f"
            },
            "marker": {
             "line": {
              "color": "#E5ECF6",
              "width": 0.5
             },
             "pattern": {
              "fillmode": "overlay",
              "size": 10,
              "solidity": 0.2
             }
            },
            "type": "bar"
           }
          ],
          "barpolar": [
           {
            "marker": {
             "line": {
              "color": "#E5ECF6",
              "width": 0.5
             },
             "pattern": {
              "fillmode": "overlay",
              "size": 10,
              "solidity": 0.2
             }
            },
            "type": "barpolar"
           }
          ],
          "carpet": [
           {
            "aaxis": {
             "endlinecolor": "#2a3f5f",
             "gridcolor": "white",
             "linecolor": "white",
             "minorgridcolor": "white",
             "startlinecolor": "#2a3f5f"
            },
            "baxis": {
             "endlinecolor": "#2a3f5f",
             "gridcolor": "white",
             "linecolor": "white",
             "minorgridcolor": "white",
             "startlinecolor": "#2a3f5f"
            },
            "type": "carpet"
           }
          ],
          "choropleth": [
           {
            "colorbar": {
             "outlinewidth": 0,
             "ticks": ""
            },
            "type": "choropleth"
           }
          ],
          "contour": [
           {
            "colorbar": {
             "outlinewidth": 0,
             "ticks": ""
            },
            "colorscale": [
             [
              0,
              "#0d0887"
             ],
             [
              0.1111111111111111,
              "#46039f"
             ],
             [
              0.2222222222222222,
              "#7201a8"
             ],
             [
              0.3333333333333333,
              "#9c179e"
             ],
             [
              0.4444444444444444,
              "#bd3786"
             ],
             [
              0.5555555555555556,
              "#d8576b"
             ],
             [
              0.6666666666666666,
              "#ed7953"
             ],
             [
              0.7777777777777778,
              "#fb9f3a"
             ],
             [
              0.8888888888888888,
              "#fdca26"
             ],
             [
              1,
              "#f0f921"
             ]
            ],
            "type": "contour"
           }
          ],
          "contourcarpet": [
           {
            "colorbar": {
             "outlinewidth": 0,
             "ticks": ""
            },
            "type": "contourcarpet"
           }
          ],
          "heatmap": [
           {
            "colorbar": {
             "outlinewidth": 0,
             "ticks": ""
            },
            "colorscale": [
             [
              0,
              "#0d0887"
             ],
             [
              0.1111111111111111,
              "#46039f"
             ],
             [
              0.2222222222222222,
              "#7201a8"
             ],
             [
              0.3333333333333333,
              "#9c179e"
             ],
             [
              0.4444444444444444,
              "#bd3786"
             ],
             [
              0.5555555555555556,
              "#d8576b"
             ],
             [
              0.6666666666666666,
              "#ed7953"
             ],
             [
              0.7777777777777778,
              "#fb9f3a"
             ],
             [
              0.8888888888888888,
              "#fdca26"
             ],
             [
              1,
              "#f0f921"
             ]
            ],
            "type": "heatmap"
           }
          ],
          "heatmapgl": [
           {
            "colorbar": {
             "outlinewidth": 0,
             "ticks": ""
            },
            "colorscale": [
             [
              0,
              "#0d0887"
             ],
             [
              0.1111111111111111,
              "#46039f"
             ],
             [
              0.2222222222222222,
              "#7201a8"
             ],
             [
              0.3333333333333333,
              "#9c179e"
             ],
             [
              0.4444444444444444,
              "#bd3786"
             ],
             [
              0.5555555555555556,
              "#d8576b"
             ],
             [
              0.6666666666666666,
              "#ed7953"
             ],
             [
              0.7777777777777778,
              "#fb9f3a"
             ],
             [
              0.8888888888888888,
              "#fdca26"
             ],
             [
              1,
              "#f0f921"
             ]
            ],
            "type": "heatmapgl"
           }
          ],
          "histogram": [
           {
            "marker": {
             "pattern": {
              "fillmode": "overlay",
              "size": 10,
              "solidity": 0.2
             }
            },
            "type": "histogram"
           }
          ],
          "histogram2d": [
           {
            "colorbar": {
             "outlinewidth": 0,
             "ticks": ""
            },
            "colorscale": [
             [
              0,
              "#0d0887"
             ],
             [
              0.1111111111111111,
              "#46039f"
             ],
             [
              0.2222222222222222,
              "#7201a8"
             ],
             [
              0.3333333333333333,
              "#9c179e"
             ],
             [
              0.4444444444444444,
              "#bd3786"
             ],
             [
              0.5555555555555556,
              "#d8576b"
             ],
             [
              0.6666666666666666,
              "#ed7953"
             ],
             [
              0.7777777777777778,
              "#fb9f3a"
             ],
             [
              0.8888888888888888,
              "#fdca26"
             ],
             [
              1,
              "#f0f921"
             ]
            ],
            "type": "histogram2d"
           }
          ],
          "histogram2dcontour": [
           {
            "colorbar": {
             "outlinewidth": 0,
             "ticks": ""
            },
            "colorscale": [
             [
              0,
              "#0d0887"
             ],
             [
              0.1111111111111111,
              "#46039f"
             ],
             [
              0.2222222222222222,
              "#7201a8"
             ],
             [
              0.3333333333333333,
              "#9c179e"
             ],
             [
              0.4444444444444444,
              "#bd3786"
             ],
             [
              0.5555555555555556,
              "#d8576b"
             ],
             [
              0.6666666666666666,
              "#ed7953"
             ],
             [
              0.7777777777777778,
              "#fb9f3a"
             ],
             [
              0.8888888888888888,
              "#fdca26"
             ],
             [
              1,
              "#f0f921"
             ]
            ],
            "type": "histogram2dcontour"
           }
          ],
          "mesh3d": [
           {
            "colorbar": {
             "outlinewidth": 0,
             "ticks": ""
            },
            "type": "mesh3d"
           }
          ],
          "parcoords": [
           {
            "line": {
             "colorbar": {
              "outlinewidth": 0,
              "ticks": ""
             }
            },
            "type": "parcoords"
           }
          ],
          "pie": [
           {
            "automargin": true,
            "type": "pie"
           }
          ],
          "scatter": [
           {
            "marker": {
             "colorbar": {
              "outlinewidth": 0,
              "ticks": ""
             }
            },
            "type": "scatter"
           }
          ],
          "scatter3d": [
           {
            "line": {
             "colorbar": {
              "outlinewidth": 0,
              "ticks": ""
             }
            },
            "marker": {
             "colorbar": {
              "outlinewidth": 0,
              "ticks": ""
             }
            },
            "type": "scatter3d"
           }
          ],
          "scattercarpet": [
           {
            "marker": {
             "colorbar": {
              "outlinewidth": 0,
              "ticks": ""
             }
            },
            "type": "scattercarpet"
           }
          ],
          "scattergeo": [
           {
            "marker": {
             "colorbar": {
              "outlinewidth": 0,
              "ticks": ""
             }
            },
            "type": "scattergeo"
           }
          ],
          "scattergl": [
           {
            "marker": {
             "colorbar": {
              "outlinewidth": 0,
              "ticks": ""
             }
            },
            "type": "scattergl"
           }
          ],
          "scattermapbox": [
           {
            "marker": {
             "colorbar": {
              "outlinewidth": 0,
              "ticks": ""
             }
            },
            "type": "scattermapbox"
           }
          ],
          "scatterpolar": [
           {
            "marker": {
             "colorbar": {
              "outlinewidth": 0,
              "ticks": ""
             }
            },
            "type": "scatterpolar"
           }
          ],
          "scatterpolargl": [
           {
            "marker": {
             "colorbar": {
              "outlinewidth": 0,
              "ticks": ""
             }
            },
            "type": "scatterpolargl"
           }
          ],
          "scatterternary": [
           {
            "marker": {
             "colorbar": {
              "outlinewidth": 0,
              "ticks": ""
             }
            },
            "type": "scatterternary"
           }
          ],
          "surface": [
           {
            "colorbar": {
             "outlinewidth": 0,
             "ticks": ""
            },
            "colorscale": [
             [
              0,
              "#0d0887"
             ],
             [
              0.1111111111111111,
              "#46039f"
             ],
             [
              0.2222222222222222,
              "#7201a8"
             ],
             [
              0.3333333333333333,
              "#9c179e"
             ],
             [
              0.4444444444444444,
              "#bd3786"
             ],
             [
              0.5555555555555556,
              "#d8576b"
             ],
             [
              0.6666666666666666,
              "#ed7953"
             ],
             [
              0.7777777777777778,
              "#fb9f3a"
             ],
             [
              0.8888888888888888,
              "#fdca26"
             ],
             [
              1,
              "#f0f921"
             ]
            ],
            "type": "surface"
           }
          ],
          "table": [
           {
            "cells": {
             "fill": {
              "color": "#EBF0F8"
             },
             "line": {
              "color": "white"
             }
            },
            "header": {
             "fill": {
              "color": "#C8D4E3"
             },
             "line": {
              "color": "white"
             }
            },
            "type": "table"
           }
          ]
         },
         "layout": {
          "annotationdefaults": {
           "arrowcolor": "#2a3f5f",
           "arrowhead": 0,
           "arrowwidth": 1
          },
          "autotypenumbers": "strict",
          "coloraxis": {
           "colorbar": {
            "outlinewidth": 0,
            "ticks": ""
           }
          },
          "colorscale": {
           "diverging": [
            [
             0,
             "#8e0152"
            ],
            [
             0.1,
             "#c51b7d"
            ],
            [
             0.2,
             "#de77ae"
            ],
            [
             0.3,
             "#f1b6da"
            ],
            [
             0.4,
             "#fde0ef"
            ],
            [
             0.5,
             "#f7f7f7"
            ],
            [
             0.6,
             "#e6f5d0"
            ],
            [
             0.7,
             "#b8e186"
            ],
            [
             0.8,
             "#7fbc41"
            ],
            [
             0.9,
             "#4d9221"
            ],
            [
             1,
             "#276419"
            ]
           ],
           "sequential": [
            [
             0,
             "#0d0887"
            ],
            [
             0.1111111111111111,
             "#46039f"
            ],
            [
             0.2222222222222222,
             "#7201a8"
            ],
            [
             0.3333333333333333,
             "#9c179e"
            ],
            [
             0.4444444444444444,
             "#bd3786"
            ],
            [
             0.5555555555555556,
             "#d8576b"
            ],
            [
             0.6666666666666666,
             "#ed7953"
            ],
            [
             0.7777777777777778,
             "#fb9f3a"
            ],
            [
             0.8888888888888888,
             "#fdca26"
            ],
            [
             1,
             "#f0f921"
            ]
           ],
           "sequentialminus": [
            [
             0,
             "#0d0887"
            ],
            [
             0.1111111111111111,
             "#46039f"
            ],
            [
             0.2222222222222222,
             "#7201a8"
            ],
            [
             0.3333333333333333,
             "#9c179e"
            ],
            [
             0.4444444444444444,
             "#bd3786"
            ],
            [
             0.5555555555555556,
             "#d8576b"
            ],
            [
             0.6666666666666666,
             "#ed7953"
            ],
            [
             0.7777777777777778,
             "#fb9f3a"
            ],
            [
             0.8888888888888888,
             "#fdca26"
            ],
            [
             1,
             "#f0f921"
            ]
           ]
          },
          "colorway": [
           "#636efa",
           "#EF553B",
           "#00cc96",
           "#ab63fa",
           "#FFA15A",
           "#19d3f3",
           "#FF6692",
           "#B6E880",
           "#FF97FF",
           "#FECB52"
          ],
          "font": {
           "color": "#2a3f5f"
          },
          "geo": {
           "bgcolor": "white",
           "lakecolor": "white",
           "landcolor": "#E5ECF6",
           "showlakes": true,
           "showland": true,
           "subunitcolor": "white"
          },
          "hoverlabel": {
           "align": "left"
          },
          "hovermode": "closest",
          "mapbox": {
           "style": "light"
          },
          "paper_bgcolor": "white",
          "plot_bgcolor": "#E5ECF6",
          "polar": {
           "angularaxis": {
            "gridcolor": "white",
            "linecolor": "white",
            "ticks": ""
           },
           "bgcolor": "#E5ECF6",
           "radialaxis": {
            "gridcolor": "white",
            "linecolor": "white",
            "ticks": ""
           }
          },
          "scene": {
           "xaxis": {
            "backgroundcolor": "#E5ECF6",
            "gridcolor": "white",
            "gridwidth": 2,
            "linecolor": "white",
            "showbackground": true,
            "ticks": "",
            "zerolinecolor": "white"
           },
           "yaxis": {
            "backgroundcolor": "#E5ECF6",
            "gridcolor": "white",
            "gridwidth": 2,
            "linecolor": "white",
            "showbackground": true,
            "ticks": "",
            "zerolinecolor": "white"
           },
           "zaxis": {
            "backgroundcolor": "#E5ECF6",
            "gridcolor": "white",
            "gridwidth": 2,
            "linecolor": "white",
            "showbackground": true,
            "ticks": "",
            "zerolinecolor": "white"
           }
          },
          "shapedefaults": {
           "line": {
            "color": "#2a3f5f"
           }
          },
          "ternary": {
           "aaxis": {
            "gridcolor": "white",
            "linecolor": "white",
            "ticks": ""
           },
           "baxis": {
            "gridcolor": "white",
            "linecolor": "white",
            "ticks": ""
           },
           "bgcolor": "#E5ECF6",
           "caxis": {
            "gridcolor": "white",
            "linecolor": "white",
            "ticks": ""
           }
          },
          "title": {
           "x": 0.05
          },
          "xaxis": {
           "automargin": true,
           "gridcolor": "white",
           "linecolor": "white",
           "ticks": "",
           "title": {
            "standoff": 15
           },
           "zerolinecolor": "white",
           "zerolinewidth": 2
          },
          "yaxis": {
           "automargin": true,
           "gridcolor": "white",
           "linecolor": "white",
           "ticks": "",
           "title": {
            "standoff": 15
           },
           "zerolinecolor": "white",
           "zerolinewidth": 2
          }
         }
        }
       }
      },
      "text/html": [
       "<div>                            <div id=\"da7fc279-0e93-4957-a29d-06db9b24db76\" class=\"plotly-graph-div\" style=\"height:525px; width:100%;\"></div>            <script type=\"text/javascript\">                require([\"plotly\"], function(Plotly) {                    window.PLOTLYENV=window.PLOTLYENV || {};                                    if (document.getElementById(\"da7fc279-0e93-4957-a29d-06db9b24db76\")) {                    Plotly.newPlot(                        \"da7fc279-0e93-4957-a29d-06db9b24db76\",                        [{\"line\":{\"color\":\"blue\",\"width\":2},\"marker\":{\"size\":1},\"name\":\"Drug Collection\",\"r\":[0,0,0,0,0,0,0,0,0.13704849898035934,0.21202128684158728,0,0,0],\"showlegend\":false,\"theta\":[\"Atoms\",\"MW\",\"fSP3\",\"HBA\",\"HBD\",\"Stereo Atoms\",\"Rings\",\"Rotatable Bonds\",\"QED\",\"logD\",\"TPSA\",\"Atoms\",\"Atoms\"],\"type\":\"scatterpolar\"},{\"fill\":\"tonext\",\"line\":{\"color\":\"blue\",\"width\":2},\"marker\":{\"size\":1},\"name\":\"Drug Collection\",\"r\":[0.41752017882356696,0.41172738538861786,0.9692648073649767,0.3208935348809258,0.3122356893415111,0.2926442992395945,0.45004903972139626,0.3727808349471888,1.0155910461149467,0.6022791095653641,0.3055540241754811,0.41752017882356696,0.41752017882356696],\"theta\":[\"Atoms\",\"MW\",\"fSP3\",\"HBA\",\"HBD\",\"Stereo Atoms\",\"Rings\",\"Rotatable Bonds\",\"QED\",\"logD\",\"TPSA\",\"Atoms\",\"Atoms\"],\"type\":\"scatterpolar\"},{\"line\":{\"color\":\"green\",\"width\":2},\"marker\":{\"size\":1},\"name\":\"DEL2 Library\",\"r\":[0.16656445266628966,0.16698522876846242,0.15335544598544854,0.1260628662197918,0.10850540151015825,0.03305787196237301,0.0010220197217084986,0.1194904857024104,0.04005039606087427,0.21667477802003848,0.12468700891588404,0.16656445266628966,0.16656445266628966],\"showlegend\":false,\"theta\":[\"Atoms\",\"MW\",\"fSP3\",\"HBA\",\"HBD\",\"Stereo Atoms\",\"Rings\",\"Rotatable Bonds\",\"QED\",\"logD\",\"TPSA\",\"Atoms\",\"Atoms\"],\"type\":\"scatterpolar\"},{\"fill\":\"tonext\",\"line\":{\"color\":\"green\",\"width\":2},\"marker\":{\"size\":1},\"name\":\"Zafrens Library 2\",\"r\":[0.38962655178781114,0.3754008126954943,0.8046372501099088,0.3446793975127043,0.35623139648180424,0.16834051966668706,0.38738846607771105,0.4214525180226427,0.6869118266433494,0.4658894571096466,0.33947126575151826,0.38962655178781114,0.38962655178781114],\"theta\":[\"Atoms\",\"MW\",\"fSP3\",\"HBA\",\"HBD\",\"Stereo Atoms\",\"Rings\",\"Rotatable Bonds\",\"QED\",\"logD\",\"TPSA\",\"Atoms\",\"Atoms\"],\"type\":\"scatterpolar\"},{\"line\":{\"color\":\"red\"},\"marker\":{\"size\":1},\"name\":\"Druglikeness (lower)\",\"opacity\":0.25,\"r\":[0.2608695652173913,0.09618318943226623,0.0,0.0,0.0,0.0,0.0,0.17142857142857143,0.4238583786535618,0.33254452469606643,0.0,0.2608695652173913,0.2608695652173913],\"showlegend\":false,\"theta\":[\"Atoms\",\"MW\",\"fSP3\",\"HBA\",\"HBD\",\"Stereo Atoms\",\"Rings\",\"Rotatable Bonds\",\"QED\",\"logD\",\"TPSA\",\"Atoms\",\"Atoms\"],\"type\":\"scatterpolar\"},{\"fill\":\"tonext\",\"fillcolor\":\"red\",\"line\":{\"color\":\"red\"},\"marker\":{\"size\":1},\"name\":\"Druglikeness\",\"opacity\":0.5,\"r\":[0.4782608695652174,0.30057246697583195,0.5,0.23255813953488372,0.2,0.03333333333333333,0.23076923076923078,0.2857142857142857,0.6357875679803426,0.5194660027215775,0.19942451782000514,0.4782608695652174,0.4782608695652174],\"theta\":[\"Atoms\",\"MW\",\"fSP3\",\"HBA\",\"HBD\",\"Stereo Atoms\",\"Rings\",\"Rotatable Bonds\",\"QED\",\"logD\",\"TPSA\",\"Atoms\",\"Atoms\"],\"type\":\"scatterpolar\"}],                        {\"template\":{\"data\":{\"bar\":[{\"error_x\":{\"color\":\"#2a3f5f\"},\"error_y\":{\"color\":\"#2a3f5f\"},\"marker\":{\"line\":{\"color\":\"#E5ECF6\",\"width\":0.5},\"pattern\":{\"fillmode\":\"overlay\",\"size\":10,\"solidity\":0.2}},\"type\":\"bar\"}],\"barpolar\":[{\"marker\":{\"line\":{\"color\":\"#E5ECF6\",\"width\":0.5},\"pattern\":{\"fillmode\":\"overlay\",\"size\":10,\"solidity\":0.2}},\"type\":\"barpolar\"}],\"carpet\":[{\"aaxis\":{\"endlinecolor\":\"#2a3f5f\",\"gridcolor\":\"white\",\"linecolor\":\"white\",\"minorgridcolor\":\"white\",\"startlinecolor\":\"#2a3f5f\"},\"baxis\":{\"endlinecolor\":\"#2a3f5f\",\"gridcolor\":\"white\",\"linecolor\":\"white\",\"minorgridcolor\":\"white\",\"startlinecolor\":\"#2a3f5f\"},\"type\":\"carpet\"}],\"choropleth\":[{\"colorbar\":{\"outlinewidth\":0,\"ticks\":\"\"},\"type\":\"choropleth\"}],\"contour\":[{\"colorbar\":{\"outlinewidth\":0,\"ticks\":\"\"},\"colorscale\":[[0.0,\"#0d0887\"],[0.1111111111111111,\"#46039f\"],[0.2222222222222222,\"#7201a8\"],[0.3333333333333333,\"#9c179e\"],[0.4444444444444444,\"#bd3786\"],[0.5555555555555556,\"#d8576b\"],[0.6666666666666666,\"#ed7953\"],[0.7777777777777778,\"#fb9f3a\"],[0.8888888888888888,\"#fdca26\"],[1.0,\"#f0f921\"]],\"type\":\"contour\"}],\"contourcarpet\":[{\"colorbar\":{\"outlinewidth\":0,\"ticks\":\"\"},\"type\":\"contourcarpet\"}],\"heatmap\":[{\"colorbar\":{\"outlinewidth\":0,\"ticks\":\"\"},\"colorscale\":[[0.0,\"#0d0887\"],[0.1111111111111111,\"#46039f\"],[0.2222222222222222,\"#7201a8\"],[0.3333333333333333,\"#9c179e\"],[0.4444444444444444,\"#bd3786\"],[0.5555555555555556,\"#d8576b\"],[0.6666666666666666,\"#ed7953\"],[0.7777777777777778,\"#fb9f3a\"],[0.8888888888888888,\"#fdca26\"],[1.0,\"#f0f921\"]],\"type\":\"heatmap\"}],\"heatmapgl\":[{\"colorbar\":{\"outlinewidth\":0,\"ticks\":\"\"},\"colorscale\":[[0.0,\"#0d0887\"],[0.1111111111111111,\"#46039f\"],[0.2222222222222222,\"#7201a8\"],[0.3333333333333333,\"#9c179e\"],[0.4444444444444444,\"#bd3786\"],[0.5555555555555556,\"#d8576b\"],[0.6666666666666666,\"#ed7953\"],[0.7777777777777778,\"#fb9f3a\"],[0.8888888888888888,\"#fdca26\"],[1.0,\"#f0f921\"]],\"type\":\"heatmapgl\"}],\"histogram\":[{\"marker\":{\"pattern\":{\"fillmode\":\"overlay\",\"size\":10,\"solidity\":0.2}},\"type\":\"histogram\"}],\"histogram2d\":[{\"colorbar\":{\"outlinewidth\":0,\"ticks\":\"\"},\"colorscale\":[[0.0,\"#0d0887\"],[0.1111111111111111,\"#46039f\"],[0.2222222222222222,\"#7201a8\"],[0.3333333333333333,\"#9c179e\"],[0.4444444444444444,\"#bd3786\"],[0.5555555555555556,\"#d8576b\"],[0.6666666666666666,\"#ed7953\"],[0.7777777777777778,\"#fb9f3a\"],[0.8888888888888888,\"#fdca26\"],[1.0,\"#f0f921\"]],\"type\":\"histogram2d\"}],\"histogram2dcontour\":[{\"colorbar\":{\"outlinewidth\":0,\"ticks\":\"\"},\"colorscale\":[[0.0,\"#0d0887\"],[0.1111111111111111,\"#46039f\"],[0.2222222222222222,\"#7201a8\"],[0.3333333333333333,\"#9c179e\"],[0.4444444444444444,\"#bd3786\"],[0.5555555555555556,\"#d8576b\"],[0.6666666666666666,\"#ed7953\"],[0.7777777777777778,\"#fb9f3a\"],[0.8888888888888888,\"#fdca26\"],[1.0,\"#f0f921\"]],\"type\":\"histogram2dcontour\"}],\"mesh3d\":[{\"colorbar\":{\"outlinewidth\":0,\"ticks\":\"\"},\"type\":\"mesh3d\"}],\"parcoords\":[{\"line\":{\"colorbar\":{\"outlinewidth\":0,\"ticks\":\"\"}},\"type\":\"parcoords\"}],\"pie\":[{\"automargin\":true,\"type\":\"pie\"}],\"scatter\":[{\"marker\":{\"colorbar\":{\"outlinewidth\":0,\"ticks\":\"\"}},\"type\":\"scatter\"}],\"scatter3d\":[{\"line\":{\"colorbar\":{\"outlinewidth\":0,\"ticks\":\"\"}},\"marker\":{\"colorbar\":{\"outlinewidth\":0,\"ticks\":\"\"}},\"type\":\"scatter3d\"}],\"scattercarpet\":[{\"marker\":{\"colorbar\":{\"outlinewidth\":0,\"ticks\":\"\"}},\"type\":\"scattercarpet\"}],\"scattergeo\":[{\"marker\":{\"colorbar\":{\"outlinewidth\":0,\"ticks\":\"\"}},\"type\":\"scattergeo\"}],\"scattergl\":[{\"marker\":{\"colorbar\":{\"outlinewidth\":0,\"ticks\":\"\"}},\"type\":\"scattergl\"}],\"scattermapbox\":[{\"marker\":{\"colorbar\":{\"outlinewidth\":0,\"ticks\":\"\"}},\"type\":\"scattermapbox\"}],\"scatterpolar\":[{\"marker\":{\"colorbar\":{\"outlinewidth\":0,\"ticks\":\"\"}},\"type\":\"scatterpolar\"}],\"scatterpolargl\":[{\"marker\":{\"colorbar\":{\"outlinewidth\":0,\"ticks\":\"\"}},\"type\":\"scatterpolargl\"}],\"scatterternary\":[{\"marker\":{\"colorbar\":{\"outlinewidth\":0,\"ticks\":\"\"}},\"type\":\"scatterternary\"}],\"surface\":[{\"colorbar\":{\"outlinewidth\":0,\"ticks\":\"\"},\"colorscale\":[[0.0,\"#0d0887\"],[0.1111111111111111,\"#46039f\"],[0.2222222222222222,\"#7201a8\"],[0.3333333333333333,\"#9c179e\"],[0.4444444444444444,\"#bd3786\"],[0.5555555555555556,\"#d8576b\"],[0.6666666666666666,\"#ed7953\"],[0.7777777777777778,\"#fb9f3a\"],[0.8888888888888888,\"#fdca26\"],[1.0,\"#f0f921\"]],\"type\":\"surface\"}],\"table\":[{\"cells\":{\"fill\":{\"color\":\"#EBF0F8\"},\"line\":{\"color\":\"white\"}},\"header\":{\"fill\":{\"color\":\"#C8D4E3\"},\"line\":{\"color\":\"white\"}},\"type\":\"table\"}]},\"layout\":{\"annotationdefaults\":{\"arrowcolor\":\"#2a3f5f\",\"arrowhead\":0,\"arrowwidth\":1},\"autotypenumbers\":\"strict\",\"coloraxis\":{\"colorbar\":{\"outlinewidth\":0,\"ticks\":\"\"}},\"colorscale\":{\"diverging\":[[0,\"#8e0152\"],[0.1,\"#c51b7d\"],[0.2,\"#de77ae\"],[0.3,\"#f1b6da\"],[0.4,\"#fde0ef\"],[0.5,\"#f7f7f7\"],[0.6,\"#e6f5d0\"],[0.7,\"#b8e186\"],[0.8,\"#7fbc41\"],[0.9,\"#4d9221\"],[1,\"#276419\"]],\"sequential\":[[0.0,\"#0d0887\"],[0.1111111111111111,\"#46039f\"],[0.2222222222222222,\"#7201a8\"],[0.3333333333333333,\"#9c179e\"],[0.4444444444444444,\"#bd3786\"],[0.5555555555555556,\"#d8576b\"],[0.6666666666666666,\"#ed7953\"],[0.7777777777777778,\"#fb9f3a\"],[0.8888888888888888,\"#fdca26\"],[1.0,\"#f0f921\"]],\"sequentialminus\":[[0.0,\"#0d0887\"],[0.1111111111111111,\"#46039f\"],[0.2222222222222222,\"#7201a8\"],[0.3333333333333333,\"#9c179e\"],[0.4444444444444444,\"#bd3786\"],[0.5555555555555556,\"#d8576b\"],[0.6666666666666666,\"#ed7953\"],[0.7777777777777778,\"#fb9f3a\"],[0.8888888888888888,\"#fdca26\"],[1.0,\"#f0f921\"]]},\"colorway\":[\"#636efa\",\"#EF553B\",\"#00cc96\",\"#ab63fa\",\"#FFA15A\",\"#19d3f3\",\"#FF6692\",\"#B6E880\",\"#FF97FF\",\"#FECB52\"],\"font\":{\"color\":\"#2a3f5f\"},\"geo\":{\"bgcolor\":\"white\",\"lakecolor\":\"white\",\"landcolor\":\"#E5ECF6\",\"showlakes\":true,\"showland\":true,\"subunitcolor\":\"white\"},\"hoverlabel\":{\"align\":\"left\"},\"hovermode\":\"closest\",\"mapbox\":{\"style\":\"light\"},\"paper_bgcolor\":\"white\",\"plot_bgcolor\":\"#E5ECF6\",\"polar\":{\"angularaxis\":{\"gridcolor\":\"white\",\"linecolor\":\"white\",\"ticks\":\"\"},\"bgcolor\":\"#E5ECF6\",\"radialaxis\":{\"gridcolor\":\"white\",\"linecolor\":\"white\",\"ticks\":\"\"}},\"scene\":{\"xaxis\":{\"backgroundcolor\":\"#E5ECF6\",\"gridcolor\":\"white\",\"gridwidth\":2,\"linecolor\":\"white\",\"showbackground\":true,\"ticks\":\"\",\"zerolinecolor\":\"white\"},\"yaxis\":{\"backgroundcolor\":\"#E5ECF6\",\"gridcolor\":\"white\",\"gridwidth\":2,\"linecolor\":\"white\",\"showbackground\":true,\"ticks\":\"\",\"zerolinecolor\":\"white\"},\"zaxis\":{\"backgroundcolor\":\"#E5ECF6\",\"gridcolor\":\"white\",\"gridwidth\":2,\"linecolor\":\"white\",\"showbackground\":true,\"ticks\":\"\",\"zerolinecolor\":\"white\"}},\"shapedefaults\":{\"line\":{\"color\":\"#2a3f5f\"}},\"ternary\":{\"aaxis\":{\"gridcolor\":\"white\",\"linecolor\":\"white\",\"ticks\":\"\"},\"baxis\":{\"gridcolor\":\"white\",\"linecolor\":\"white\",\"ticks\":\"\"},\"bgcolor\":\"#E5ECF6\",\"caxis\":{\"gridcolor\":\"white\",\"linecolor\":\"white\",\"ticks\":\"\"}},\"title\":{\"x\":0.05},\"xaxis\":{\"automargin\":true,\"gridcolor\":\"white\",\"linecolor\":\"white\",\"ticks\":\"\",\"title\":{\"standoff\":15},\"zerolinecolor\":\"white\",\"zerolinewidth\":2},\"yaxis\":{\"automargin\":true,\"gridcolor\":\"white\",\"linecolor\":\"white\",\"ticks\":\"\",\"title\":{\"standoff\":15},\"zerolinecolor\":\"white\",\"zerolinewidth\":2}}},\"polar\":{\"radialaxis\":{\"visible\":true}},\"showlegend\":true},                        {\"responsive\": true}                    ).then(function(){\n",
       "                            \n",
       "var gd = document.getElementById('da7fc279-0e93-4957-a29d-06db9b24db76');\n",
       "var x = new MutationObserver(function (mutations, observer) {{\n",
       "        var display = window.getComputedStyle(gd).display;\n",
       "        if (!display || display === 'none') {{\n",
       "            console.log([gd, 'removed!']);\n",
       "            Plotly.purge(gd);\n",
       "            observer.disconnect();\n",
       "        }}\n",
       "}});\n",
       "\n",
       "// Listen for the removal of the full notebook cells\n",
       "var notebookContainer = gd.closest('#notebook-container');\n",
       "if (notebookContainer) {{\n",
       "    x.observe(notebookContainer, {childList: true});\n",
       "}}\n",
       "\n",
       "// Listen for the clearing of the current output cell\n",
       "var outputEl = gd.closest('.output');\n",
       "if (outputEl) {{\n",
       "    x.observe(outputEl, {childList: true});\n",
       "}}\n",
       "\n",
       "                        })                };                });            </script>        </div>"
      ]
     },
     "metadata": {},
     "output_type": "display_data"
    },
    {
     "data": {
      "application/vnd.plotly.v1+json": {
       "config": {
        "plotlyServerURL": "https://plot.ly"
       },
       "data": [
        {
         "line": {
          "color": "silver",
          "width": 0
         },
         "marker": {
          "size": 1
         },
         "name": "leveling",
         "r": [
          1,
          1,
          1,
          1,
          1,
          1,
          1,
          1,
          1,
          1,
          1,
          1
         ],
         "showlegend": false,
         "theta": [
          "Atoms",
          "MW",
          "fSP3",
          "HBA",
          "HBD",
          "Stereo Atoms",
          "Rings",
          "Rotatable Bonds",
          "QED",
          "logD",
          "TPSA",
          "Atoms",
          "Atoms"
         ],
         "type": "scatterpolar"
        },
        {
         "line": {
          "color": "yellow",
          "width": 2
         },
         "marker": {
          "size": 1
         },
         "name": "DEL2 Library",
         "r": [
          0.22664028276598666,
          0.23084255856817695,
          0.15303252713681548,
          0.1084849109720123,
          0.044498307565741246,
          0,
          0.14599350888685783,
          0.19003823633765612,
          0.035769143574164365,
          0.3796084047877229,
          0.08191860852814083,
          0.22664028276598666,
          0.22664028276598666
         ],
         "showlegend": false,
         "theta": [
          "Atoms",
          "MW",
          "fSP3",
          "HBA",
          "HBD",
          "Stereo Atoms",
          "Rings",
          "Rotatable Bonds",
          "QED",
          "logD",
          "TPSA",
          "Atoms",
          "Atoms"
         ],
         "type": "scatterpolar"
        },
        {
         "fill": "tonext",
         "line": {
          "color": "yellow",
          "width": 2
         },
         "marker": {
          "size": 1
         },
         "name": "Zafrens Library 1",
         "r": [
          0.5627935068434736,
          0.542131324239524,
          0.5296455597778855,
          0.35497039365303146,
          0.18037729554104318,
          0.09594632330519191,
          0.7209073265123483,
          0.4461040606429907,
          0.4726001745126241,
          0.6435031244988436,
          0.2613924487425168,
          0.5627935068434736,
          0.5627935068434736
         ],
         "theta": [
          "Atoms",
          "MW",
          "fSP3",
          "HBA",
          "HBD",
          "Stereo Atoms",
          "Rings",
          "Rotatable Bonds",
          "QED",
          "logD",
          "TPSA",
          "Atoms",
          "Atoms"
         ],
         "type": "scatterpolar"
        },
        {
         "line": {
          "color": "red"
         },
         "marker": {
          "size": 1
         },
         "name": "Druglikeness (lower)",
         "opacity": 0.25,
         "r": [
          0.2608695652173913,
          0.09618318943226623,
          0,
          0,
          0,
          0,
          0,
          0.17142857142857143,
          0.4238583786535618,
          0.33254452469606643,
          0,
          0.2608695652173913,
          0.2608695652173913
         ],
         "showlegend": false,
         "theta": [
          "Atoms",
          "MW",
          "fSP3",
          "HBA",
          "HBD",
          "Stereo Atoms",
          "Rings",
          "Rotatable Bonds",
          "QED",
          "logD",
          "TPSA",
          "Atoms",
          "Atoms"
         ],
         "type": "scatterpolar"
        },
        {
         "fill": "tonext",
         "fillcolor": "red",
         "line": {
          "color": "red"
         },
         "marker": {
          "size": 1
         },
         "name": "Druglikeness",
         "opacity": 0.5,
         "r": [
          0.4782608695652174,
          0.30057246697583195,
          0.5,
          0.23255813953488372,
          0.2,
          0.03333333333333333,
          0.23076923076923078,
          0.2857142857142857,
          0.6357875679803426,
          0.5194660027215775,
          0.19942451782000514,
          0.4782608695652174,
          0.4782608695652174
         ],
         "theta": [
          "Atoms",
          "MW",
          "fSP3",
          "HBA",
          "HBD",
          "Stereo Atoms",
          "Rings",
          "Rotatable Bonds",
          "QED",
          "logD",
          "TPSA",
          "Atoms",
          "Atoms"
         ],
         "type": "scatterpolar"
        }
       ],
       "layout": {
        "polar": {
         "radialaxis": {
          "visible": true
         }
        },
        "showlegend": true,
        "template": {
         "data": {
          "bar": [
           {
            "error_x": {
             "color": "#2a3f5f"
            },
            "error_y": {
             "color": "#2a3f5f"
            },
            "marker": {
             "line": {
              "color": "#E5ECF6",
              "width": 0.5
             },
             "pattern": {
              "fillmode": "overlay",
              "size": 10,
              "solidity": 0.2
             }
            },
            "type": "bar"
           }
          ],
          "barpolar": [
           {
            "marker": {
             "line": {
              "color": "#E5ECF6",
              "width": 0.5
             },
             "pattern": {
              "fillmode": "overlay",
              "size": 10,
              "solidity": 0.2
             }
            },
            "type": "barpolar"
           }
          ],
          "carpet": [
           {
            "aaxis": {
             "endlinecolor": "#2a3f5f",
             "gridcolor": "white",
             "linecolor": "white",
             "minorgridcolor": "white",
             "startlinecolor": "#2a3f5f"
            },
            "baxis": {
             "endlinecolor": "#2a3f5f",
             "gridcolor": "white",
             "linecolor": "white",
             "minorgridcolor": "white",
             "startlinecolor": "#2a3f5f"
            },
            "type": "carpet"
           }
          ],
          "choropleth": [
           {
            "colorbar": {
             "outlinewidth": 0,
             "ticks": ""
            },
            "type": "choropleth"
           }
          ],
          "contour": [
           {
            "colorbar": {
             "outlinewidth": 0,
             "ticks": ""
            },
            "colorscale": [
             [
              0,
              "#0d0887"
             ],
             [
              0.1111111111111111,
              "#46039f"
             ],
             [
              0.2222222222222222,
              "#7201a8"
             ],
             [
              0.3333333333333333,
              "#9c179e"
             ],
             [
              0.4444444444444444,
              "#bd3786"
             ],
             [
              0.5555555555555556,
              "#d8576b"
             ],
             [
              0.6666666666666666,
              "#ed7953"
             ],
             [
              0.7777777777777778,
              "#fb9f3a"
             ],
             [
              0.8888888888888888,
              "#fdca26"
             ],
             [
              1,
              "#f0f921"
             ]
            ],
            "type": "contour"
           }
          ],
          "contourcarpet": [
           {
            "colorbar": {
             "outlinewidth": 0,
             "ticks": ""
            },
            "type": "contourcarpet"
           }
          ],
          "heatmap": [
           {
            "colorbar": {
             "outlinewidth": 0,
             "ticks": ""
            },
            "colorscale": [
             [
              0,
              "#0d0887"
             ],
             [
              0.1111111111111111,
              "#46039f"
             ],
             [
              0.2222222222222222,
              "#7201a8"
             ],
             [
              0.3333333333333333,
              "#9c179e"
             ],
             [
              0.4444444444444444,
              "#bd3786"
             ],
             [
              0.5555555555555556,
              "#d8576b"
             ],
             [
              0.6666666666666666,
              "#ed7953"
             ],
             [
              0.7777777777777778,
              "#fb9f3a"
             ],
             [
              0.8888888888888888,
              "#fdca26"
             ],
             [
              1,
              "#f0f921"
             ]
            ],
            "type": "heatmap"
           }
          ],
          "heatmapgl": [
           {
            "colorbar": {
             "outlinewidth": 0,
             "ticks": ""
            },
            "colorscale": [
             [
              0,
              "#0d0887"
             ],
             [
              0.1111111111111111,
              "#46039f"
             ],
             [
              0.2222222222222222,
              "#7201a8"
             ],
             [
              0.3333333333333333,
              "#9c179e"
             ],
             [
              0.4444444444444444,
              "#bd3786"
             ],
             [
              0.5555555555555556,
              "#d8576b"
             ],
             [
              0.6666666666666666,
              "#ed7953"
             ],
             [
              0.7777777777777778,
              "#fb9f3a"
             ],
             [
              0.8888888888888888,
              "#fdca26"
             ],
             [
              1,
              "#f0f921"
             ]
            ],
            "type": "heatmapgl"
           }
          ],
          "histogram": [
           {
            "marker": {
             "pattern": {
              "fillmode": "overlay",
              "size": 10,
              "solidity": 0.2
             }
            },
            "type": "histogram"
           }
          ],
          "histogram2d": [
           {
            "colorbar": {
             "outlinewidth": 0,
             "ticks": ""
            },
            "colorscale": [
             [
              0,
              "#0d0887"
             ],
             [
              0.1111111111111111,
              "#46039f"
             ],
             [
              0.2222222222222222,
              "#7201a8"
             ],
             [
              0.3333333333333333,
              "#9c179e"
             ],
             [
              0.4444444444444444,
              "#bd3786"
             ],
             [
              0.5555555555555556,
              "#d8576b"
             ],
             [
              0.6666666666666666,
              "#ed7953"
             ],
             [
              0.7777777777777778,
              "#fb9f3a"
             ],
             [
              0.8888888888888888,
              "#fdca26"
             ],
             [
              1,
              "#f0f921"
             ]
            ],
            "type": "histogram2d"
           }
          ],
          "histogram2dcontour": [
           {
            "colorbar": {
             "outlinewidth": 0,
             "ticks": ""
            },
            "colorscale": [
             [
              0,
              "#0d0887"
             ],
             [
              0.1111111111111111,
              "#46039f"
             ],
             [
              0.2222222222222222,
              "#7201a8"
             ],
             [
              0.3333333333333333,
              "#9c179e"
             ],
             [
              0.4444444444444444,
              "#bd3786"
             ],
             [
              0.5555555555555556,
              "#d8576b"
             ],
             [
              0.6666666666666666,
              "#ed7953"
             ],
             [
              0.7777777777777778,
              "#fb9f3a"
             ],
             [
              0.8888888888888888,
              "#fdca26"
             ],
             [
              1,
              "#f0f921"
             ]
            ],
            "type": "histogram2dcontour"
           }
          ],
          "mesh3d": [
           {
            "colorbar": {
             "outlinewidth": 0,
             "ticks": ""
            },
            "type": "mesh3d"
           }
          ],
          "parcoords": [
           {
            "line": {
             "colorbar": {
              "outlinewidth": 0,
              "ticks": ""
             }
            },
            "type": "parcoords"
           }
          ],
          "pie": [
           {
            "automargin": true,
            "type": "pie"
           }
          ],
          "scatter": [
           {
            "marker": {
             "colorbar": {
              "outlinewidth": 0,
              "ticks": ""
             }
            },
            "type": "scatter"
           }
          ],
          "scatter3d": [
           {
            "line": {
             "colorbar": {
              "outlinewidth": 0,
              "ticks": ""
             }
            },
            "marker": {
             "colorbar": {
              "outlinewidth": 0,
              "ticks": ""
             }
            },
            "type": "scatter3d"
           }
          ],
          "scattercarpet": [
           {
            "marker": {
             "colorbar": {
              "outlinewidth": 0,
              "ticks": ""
             }
            },
            "type": "scattercarpet"
           }
          ],
          "scattergeo": [
           {
            "marker": {
             "colorbar": {
              "outlinewidth": 0,
              "ticks": ""
             }
            },
            "type": "scattergeo"
           }
          ],
          "scattergl": [
           {
            "marker": {
             "colorbar": {
              "outlinewidth": 0,
              "ticks": ""
             }
            },
            "type": "scattergl"
           }
          ],
          "scattermapbox": [
           {
            "marker": {
             "colorbar": {
              "outlinewidth": 0,
              "ticks": ""
             }
            },
            "type": "scattermapbox"
           }
          ],
          "scatterpolar": [
           {
            "marker": {
             "colorbar": {
              "outlinewidth": 0,
              "ticks": ""
             }
            },
            "type": "scatterpolar"
           }
          ],
          "scatterpolargl": [
           {
            "marker": {
             "colorbar": {
              "outlinewidth": 0,
              "ticks": ""
             }
            },
            "type": "scatterpolargl"
           }
          ],
          "scatterternary": [
           {
            "marker": {
             "colorbar": {
              "outlinewidth": 0,
              "ticks": ""
             }
            },
            "type": "scatterternary"
           }
          ],
          "surface": [
           {
            "colorbar": {
             "outlinewidth": 0,
             "ticks": ""
            },
            "colorscale": [
             [
              0,
              "#0d0887"
             ],
             [
              0.1111111111111111,
              "#46039f"
             ],
             [
              0.2222222222222222,
              "#7201a8"
             ],
             [
              0.3333333333333333,
              "#9c179e"
             ],
             [
              0.4444444444444444,
              "#bd3786"
             ],
             [
              0.5555555555555556,
              "#d8576b"
             ],
             [
              0.6666666666666666,
              "#ed7953"
             ],
             [
              0.7777777777777778,
              "#fb9f3a"
             ],
             [
              0.8888888888888888,
              "#fdca26"
             ],
             [
              1,
              "#f0f921"
             ]
            ],
            "type": "surface"
           }
          ],
          "table": [
           {
            "cells": {
             "fill": {
              "color": "#EBF0F8"
             },
             "line": {
              "color": "white"
             }
            },
            "header": {
             "fill": {
              "color": "#C8D4E3"
             },
             "line": {
              "color": "white"
             }
            },
            "type": "table"
           }
          ]
         },
         "layout": {
          "annotationdefaults": {
           "arrowcolor": "#2a3f5f",
           "arrowhead": 0,
           "arrowwidth": 1
          },
          "autotypenumbers": "strict",
          "coloraxis": {
           "colorbar": {
            "outlinewidth": 0,
            "ticks": ""
           }
          },
          "colorscale": {
           "diverging": [
            [
             0,
             "#8e0152"
            ],
            [
             0.1,
             "#c51b7d"
            ],
            [
             0.2,
             "#de77ae"
            ],
            [
             0.3,
             "#f1b6da"
            ],
            [
             0.4,
             "#fde0ef"
            ],
            [
             0.5,
             "#f7f7f7"
            ],
            [
             0.6,
             "#e6f5d0"
            ],
            [
             0.7,
             "#b8e186"
            ],
            [
             0.8,
             "#7fbc41"
            ],
            [
             0.9,
             "#4d9221"
            ],
            [
             1,
             "#276419"
            ]
           ],
           "sequential": [
            [
             0,
             "#0d0887"
            ],
            [
             0.1111111111111111,
             "#46039f"
            ],
            [
             0.2222222222222222,
             "#7201a8"
            ],
            [
             0.3333333333333333,
             "#9c179e"
            ],
            [
             0.4444444444444444,
             "#bd3786"
            ],
            [
             0.5555555555555556,
             "#d8576b"
            ],
            [
             0.6666666666666666,
             "#ed7953"
            ],
            [
             0.7777777777777778,
             "#fb9f3a"
            ],
            [
             0.8888888888888888,
             "#fdca26"
            ],
            [
             1,
             "#f0f921"
            ]
           ],
           "sequentialminus": [
            [
             0,
             "#0d0887"
            ],
            [
             0.1111111111111111,
             "#46039f"
            ],
            [
             0.2222222222222222,
             "#7201a8"
            ],
            [
             0.3333333333333333,
             "#9c179e"
            ],
            [
             0.4444444444444444,
             "#bd3786"
            ],
            [
             0.5555555555555556,
             "#d8576b"
            ],
            [
             0.6666666666666666,
             "#ed7953"
            ],
            [
             0.7777777777777778,
             "#fb9f3a"
            ],
            [
             0.8888888888888888,
             "#fdca26"
            ],
            [
             1,
             "#f0f921"
            ]
           ]
          },
          "colorway": [
           "#636efa",
           "#EF553B",
           "#00cc96",
           "#ab63fa",
           "#FFA15A",
           "#19d3f3",
           "#FF6692",
           "#B6E880",
           "#FF97FF",
           "#FECB52"
          ],
          "font": {
           "color": "#2a3f5f"
          },
          "geo": {
           "bgcolor": "white",
           "lakecolor": "white",
           "landcolor": "#E5ECF6",
           "showlakes": true,
           "showland": true,
           "subunitcolor": "white"
          },
          "hoverlabel": {
           "align": "left"
          },
          "hovermode": "closest",
          "mapbox": {
           "style": "light"
          },
          "paper_bgcolor": "white",
          "plot_bgcolor": "#E5ECF6",
          "polar": {
           "angularaxis": {
            "gridcolor": "white",
            "linecolor": "white",
            "ticks": ""
           },
           "bgcolor": "#E5ECF6",
           "radialaxis": {
            "gridcolor": "white",
            "linecolor": "white",
            "ticks": ""
           }
          },
          "scene": {
           "xaxis": {
            "backgroundcolor": "#E5ECF6",
            "gridcolor": "white",
            "gridwidth": 2,
            "linecolor": "white",
            "showbackground": true,
            "ticks": "",
            "zerolinecolor": "white"
           },
           "yaxis": {
            "backgroundcolor": "#E5ECF6",
            "gridcolor": "white",
            "gridwidth": 2,
            "linecolor": "white",
            "showbackground": true,
            "ticks": "",
            "zerolinecolor": "white"
           },
           "zaxis": {
            "backgroundcolor": "#E5ECF6",
            "gridcolor": "white",
            "gridwidth": 2,
            "linecolor": "white",
            "showbackground": true,
            "ticks": "",
            "zerolinecolor": "white"
           }
          },
          "shapedefaults": {
           "line": {
            "color": "#2a3f5f"
           }
          },
          "ternary": {
           "aaxis": {
            "gridcolor": "white",
            "linecolor": "white",
            "ticks": ""
           },
           "baxis": {
            "gridcolor": "white",
            "linecolor": "white",
            "ticks": ""
           },
           "bgcolor": "#E5ECF6",
           "caxis": {
            "gridcolor": "white",
            "linecolor": "white",
            "ticks": ""
           }
          },
          "title": {
           "x": 0.05
          },
          "xaxis": {
           "automargin": true,
           "gridcolor": "white",
           "linecolor": "white",
           "ticks": "",
           "title": {
            "standoff": 15
           },
           "zerolinecolor": "white",
           "zerolinewidth": 2
          },
          "yaxis": {
           "automargin": true,
           "gridcolor": "white",
           "linecolor": "white",
           "ticks": "",
           "title": {
            "standoff": 15
           },
           "zerolinecolor": "white",
           "zerolinewidth": 2
          }
         }
        }
       }
      },
      "text/html": [
       "<div>                            <div id=\"c184e4e9-fabb-4d90-abc3-87d23b4c42fc\" class=\"plotly-graph-div\" style=\"height:525px; width:100%;\"></div>            <script type=\"text/javascript\">                require([\"plotly\"], function(Plotly) {                    window.PLOTLYENV=window.PLOTLYENV || {};                                    if (document.getElementById(\"c184e4e9-fabb-4d90-abc3-87d23b4c42fc\")) {                    Plotly.newPlot(                        \"c184e4e9-fabb-4d90-abc3-87d23b4c42fc\",                        [{\"line\":{\"color\":\"silver\",\"width\":0},\"marker\":{\"size\":1},\"name\":\"leveling\",\"r\":[1,1,1,1,1,1,1,1,1,1,1,1],\"showlegend\":false,\"theta\":[\"Atoms\",\"MW\",\"fSP3\",\"HBA\",\"HBD\",\"Stereo Atoms\",\"Rings\",\"Rotatable Bonds\",\"QED\",\"logD\",\"TPSA\",\"Atoms\",\"Atoms\"],\"type\":\"scatterpolar\"},{\"line\":{\"color\":\"yellow\",\"width\":2},\"marker\":{\"size\":1},\"name\":\"DEL2 Library\",\"r\":[0.22664028276598666,0.23084255856817695,0.15303252713681548,0.1084849109720123,0.044498307565741246,0,0.14599350888685783,0.19003823633765612,0.035769143574164365,0.3796084047877229,0.08191860852814083,0.22664028276598666,0.22664028276598666],\"showlegend\":false,\"theta\":[\"Atoms\",\"MW\",\"fSP3\",\"HBA\",\"HBD\",\"Stereo Atoms\",\"Rings\",\"Rotatable Bonds\",\"QED\",\"logD\",\"TPSA\",\"Atoms\",\"Atoms\"],\"type\":\"scatterpolar\"},{\"fill\":\"tonext\",\"line\":{\"color\":\"yellow\",\"width\":2},\"marker\":{\"size\":1},\"name\":\"Zafrens Library 1\",\"r\":[0.5627935068434736,0.542131324239524,0.5296455597778855,0.35497039365303146,0.18037729554104318,0.09594632330519191,0.7209073265123483,0.4461040606429907,0.4726001745126241,0.6435031244988436,0.2613924487425168,0.5627935068434736,0.5627935068434736],\"theta\":[\"Atoms\",\"MW\",\"fSP3\",\"HBA\",\"HBD\",\"Stereo Atoms\",\"Rings\",\"Rotatable Bonds\",\"QED\",\"logD\",\"TPSA\",\"Atoms\",\"Atoms\"],\"type\":\"scatterpolar\"},{\"line\":{\"color\":\"red\"},\"marker\":{\"size\":1},\"name\":\"Druglikeness (lower)\",\"opacity\":0.25,\"r\":[0.2608695652173913,0.09618318943226623,0.0,0.0,0.0,0.0,0.0,0.17142857142857143,0.4238583786535618,0.33254452469606643,0.0,0.2608695652173913,0.2608695652173913],\"showlegend\":false,\"theta\":[\"Atoms\",\"MW\",\"fSP3\",\"HBA\",\"HBD\",\"Stereo Atoms\",\"Rings\",\"Rotatable Bonds\",\"QED\",\"logD\",\"TPSA\",\"Atoms\",\"Atoms\"],\"type\":\"scatterpolar\"},{\"fill\":\"tonext\",\"fillcolor\":\"red\",\"line\":{\"color\":\"red\"},\"marker\":{\"size\":1},\"name\":\"Druglikeness\",\"opacity\":0.5,\"r\":[0.4782608695652174,0.30057246697583195,0.5,0.23255813953488372,0.2,0.03333333333333333,0.23076923076923078,0.2857142857142857,0.6357875679803426,0.5194660027215775,0.19942451782000514,0.4782608695652174,0.4782608695652174],\"theta\":[\"Atoms\",\"MW\",\"fSP3\",\"HBA\",\"HBD\",\"Stereo Atoms\",\"Rings\",\"Rotatable Bonds\",\"QED\",\"logD\",\"TPSA\",\"Atoms\",\"Atoms\"],\"type\":\"scatterpolar\"}],                        {\"template\":{\"data\":{\"bar\":[{\"error_x\":{\"color\":\"#2a3f5f\"},\"error_y\":{\"color\":\"#2a3f5f\"},\"marker\":{\"line\":{\"color\":\"#E5ECF6\",\"width\":0.5},\"pattern\":{\"fillmode\":\"overlay\",\"size\":10,\"solidity\":0.2}},\"type\":\"bar\"}],\"barpolar\":[{\"marker\":{\"line\":{\"color\":\"#E5ECF6\",\"width\":0.5},\"pattern\":{\"fillmode\":\"overlay\",\"size\":10,\"solidity\":0.2}},\"type\":\"barpolar\"}],\"carpet\":[{\"aaxis\":{\"endlinecolor\":\"#2a3f5f\",\"gridcolor\":\"white\",\"linecolor\":\"white\",\"minorgridcolor\":\"white\",\"startlinecolor\":\"#2a3f5f\"},\"baxis\":{\"endlinecolor\":\"#2a3f5f\",\"gridcolor\":\"white\",\"linecolor\":\"white\",\"minorgridcolor\":\"white\",\"startlinecolor\":\"#2a3f5f\"},\"type\":\"carpet\"}],\"choropleth\":[{\"colorbar\":{\"outlinewidth\":0,\"ticks\":\"\"},\"type\":\"choropleth\"}],\"contour\":[{\"colorbar\":{\"outlinewidth\":0,\"ticks\":\"\"},\"colorscale\":[[0.0,\"#0d0887\"],[0.1111111111111111,\"#46039f\"],[0.2222222222222222,\"#7201a8\"],[0.3333333333333333,\"#9c179e\"],[0.4444444444444444,\"#bd3786\"],[0.5555555555555556,\"#d8576b\"],[0.6666666666666666,\"#ed7953\"],[0.7777777777777778,\"#fb9f3a\"],[0.8888888888888888,\"#fdca26\"],[1.0,\"#f0f921\"]],\"type\":\"contour\"}],\"contourcarpet\":[{\"colorbar\":{\"outlinewidth\":0,\"ticks\":\"\"},\"type\":\"contourcarpet\"}],\"heatmap\":[{\"colorbar\":{\"outlinewidth\":0,\"ticks\":\"\"},\"colorscale\":[[0.0,\"#0d0887\"],[0.1111111111111111,\"#46039f\"],[0.2222222222222222,\"#7201a8\"],[0.3333333333333333,\"#9c179e\"],[0.4444444444444444,\"#bd3786\"],[0.5555555555555556,\"#d8576b\"],[0.6666666666666666,\"#ed7953\"],[0.7777777777777778,\"#fb9f3a\"],[0.8888888888888888,\"#fdca26\"],[1.0,\"#f0f921\"]],\"type\":\"heatmap\"}],\"heatmapgl\":[{\"colorbar\":{\"outlinewidth\":0,\"ticks\":\"\"},\"colorscale\":[[0.0,\"#0d0887\"],[0.1111111111111111,\"#46039f\"],[0.2222222222222222,\"#7201a8\"],[0.3333333333333333,\"#9c179e\"],[0.4444444444444444,\"#bd3786\"],[0.5555555555555556,\"#d8576b\"],[0.6666666666666666,\"#ed7953\"],[0.7777777777777778,\"#fb9f3a\"],[0.8888888888888888,\"#fdca26\"],[1.0,\"#f0f921\"]],\"type\":\"heatmapgl\"}],\"histogram\":[{\"marker\":{\"pattern\":{\"fillmode\":\"overlay\",\"size\":10,\"solidity\":0.2}},\"type\":\"histogram\"}],\"histogram2d\":[{\"colorbar\":{\"outlinewidth\":0,\"ticks\":\"\"},\"colorscale\":[[0.0,\"#0d0887\"],[0.1111111111111111,\"#46039f\"],[0.2222222222222222,\"#7201a8\"],[0.3333333333333333,\"#9c179e\"],[0.4444444444444444,\"#bd3786\"],[0.5555555555555556,\"#d8576b\"],[0.6666666666666666,\"#ed7953\"],[0.7777777777777778,\"#fb9f3a\"],[0.8888888888888888,\"#fdca26\"],[1.0,\"#f0f921\"]],\"type\":\"histogram2d\"}],\"histogram2dcontour\":[{\"colorbar\":{\"outlinewidth\":0,\"ticks\":\"\"},\"colorscale\":[[0.0,\"#0d0887\"],[0.1111111111111111,\"#46039f\"],[0.2222222222222222,\"#7201a8\"],[0.3333333333333333,\"#9c179e\"],[0.4444444444444444,\"#bd3786\"],[0.5555555555555556,\"#d8576b\"],[0.6666666666666666,\"#ed7953\"],[0.7777777777777778,\"#fb9f3a\"],[0.8888888888888888,\"#fdca26\"],[1.0,\"#f0f921\"]],\"type\":\"histogram2dcontour\"}],\"mesh3d\":[{\"colorbar\":{\"outlinewidth\":0,\"ticks\":\"\"},\"type\":\"mesh3d\"}],\"parcoords\":[{\"line\":{\"colorbar\":{\"outlinewidth\":0,\"ticks\":\"\"}},\"type\":\"parcoords\"}],\"pie\":[{\"automargin\":true,\"type\":\"pie\"}],\"scatter\":[{\"marker\":{\"colorbar\":{\"outlinewidth\":0,\"ticks\":\"\"}},\"type\":\"scatter\"}],\"scatter3d\":[{\"line\":{\"colorbar\":{\"outlinewidth\":0,\"ticks\":\"\"}},\"marker\":{\"colorbar\":{\"outlinewidth\":0,\"ticks\":\"\"}},\"type\":\"scatter3d\"}],\"scattercarpet\":[{\"marker\":{\"colorbar\":{\"outlinewidth\":0,\"ticks\":\"\"}},\"type\":\"scattercarpet\"}],\"scattergeo\":[{\"marker\":{\"colorbar\":{\"outlinewidth\":0,\"ticks\":\"\"}},\"type\":\"scattergeo\"}],\"scattergl\":[{\"marker\":{\"colorbar\":{\"outlinewidth\":0,\"ticks\":\"\"}},\"type\":\"scattergl\"}],\"scattermapbox\":[{\"marker\":{\"colorbar\":{\"outlinewidth\":0,\"ticks\":\"\"}},\"type\":\"scattermapbox\"}],\"scatterpolar\":[{\"marker\":{\"colorbar\":{\"outlinewidth\":0,\"ticks\":\"\"}},\"type\":\"scatterpolar\"}],\"scatterpolargl\":[{\"marker\":{\"colorbar\":{\"outlinewidth\":0,\"ticks\":\"\"}},\"type\":\"scatterpolargl\"}],\"scatterternary\":[{\"marker\":{\"colorbar\":{\"outlinewidth\":0,\"ticks\":\"\"}},\"type\":\"scatterternary\"}],\"surface\":[{\"colorbar\":{\"outlinewidth\":0,\"ticks\":\"\"},\"colorscale\":[[0.0,\"#0d0887\"],[0.1111111111111111,\"#46039f\"],[0.2222222222222222,\"#7201a8\"],[0.3333333333333333,\"#9c179e\"],[0.4444444444444444,\"#bd3786\"],[0.5555555555555556,\"#d8576b\"],[0.6666666666666666,\"#ed7953\"],[0.7777777777777778,\"#fb9f3a\"],[0.8888888888888888,\"#fdca26\"],[1.0,\"#f0f921\"]],\"type\":\"surface\"}],\"table\":[{\"cells\":{\"fill\":{\"color\":\"#EBF0F8\"},\"line\":{\"color\":\"white\"}},\"header\":{\"fill\":{\"color\":\"#C8D4E3\"},\"line\":{\"color\":\"white\"}},\"type\":\"table\"}]},\"layout\":{\"annotationdefaults\":{\"arrowcolor\":\"#2a3f5f\",\"arrowhead\":0,\"arrowwidth\":1},\"autotypenumbers\":\"strict\",\"coloraxis\":{\"colorbar\":{\"outlinewidth\":0,\"ticks\":\"\"}},\"colorscale\":{\"diverging\":[[0,\"#8e0152\"],[0.1,\"#c51b7d\"],[0.2,\"#de77ae\"],[0.3,\"#f1b6da\"],[0.4,\"#fde0ef\"],[0.5,\"#f7f7f7\"],[0.6,\"#e6f5d0\"],[0.7,\"#b8e186\"],[0.8,\"#7fbc41\"],[0.9,\"#4d9221\"],[1,\"#276419\"]],\"sequential\":[[0.0,\"#0d0887\"],[0.1111111111111111,\"#46039f\"],[0.2222222222222222,\"#7201a8\"],[0.3333333333333333,\"#9c179e\"],[0.4444444444444444,\"#bd3786\"],[0.5555555555555556,\"#d8576b\"],[0.6666666666666666,\"#ed7953\"],[0.7777777777777778,\"#fb9f3a\"],[0.8888888888888888,\"#fdca26\"],[1.0,\"#f0f921\"]],\"sequentialminus\":[[0.0,\"#0d0887\"],[0.1111111111111111,\"#46039f\"],[0.2222222222222222,\"#7201a8\"],[0.3333333333333333,\"#9c179e\"],[0.4444444444444444,\"#bd3786\"],[0.5555555555555556,\"#d8576b\"],[0.6666666666666666,\"#ed7953\"],[0.7777777777777778,\"#fb9f3a\"],[0.8888888888888888,\"#fdca26\"],[1.0,\"#f0f921\"]]},\"colorway\":[\"#636efa\",\"#EF553B\",\"#00cc96\",\"#ab63fa\",\"#FFA15A\",\"#19d3f3\",\"#FF6692\",\"#B6E880\",\"#FF97FF\",\"#FECB52\"],\"font\":{\"color\":\"#2a3f5f\"},\"geo\":{\"bgcolor\":\"white\",\"lakecolor\":\"white\",\"landcolor\":\"#E5ECF6\",\"showlakes\":true,\"showland\":true,\"subunitcolor\":\"white\"},\"hoverlabel\":{\"align\":\"left\"},\"hovermode\":\"closest\",\"mapbox\":{\"style\":\"light\"},\"paper_bgcolor\":\"white\",\"plot_bgcolor\":\"#E5ECF6\",\"polar\":{\"angularaxis\":{\"gridcolor\":\"white\",\"linecolor\":\"white\",\"ticks\":\"\"},\"bgcolor\":\"#E5ECF6\",\"radialaxis\":{\"gridcolor\":\"white\",\"linecolor\":\"white\",\"ticks\":\"\"}},\"scene\":{\"xaxis\":{\"backgroundcolor\":\"#E5ECF6\",\"gridcolor\":\"white\",\"gridwidth\":2,\"linecolor\":\"white\",\"showbackground\":true,\"ticks\":\"\",\"zerolinecolor\":\"white\"},\"yaxis\":{\"backgroundcolor\":\"#E5ECF6\",\"gridcolor\":\"white\",\"gridwidth\":2,\"linecolor\":\"white\",\"showbackground\":true,\"ticks\":\"\",\"zerolinecolor\":\"white\"},\"zaxis\":{\"backgroundcolor\":\"#E5ECF6\",\"gridcolor\":\"white\",\"gridwidth\":2,\"linecolor\":\"white\",\"showbackground\":true,\"ticks\":\"\",\"zerolinecolor\":\"white\"}},\"shapedefaults\":{\"line\":{\"color\":\"#2a3f5f\"}},\"ternary\":{\"aaxis\":{\"gridcolor\":\"white\",\"linecolor\":\"white\",\"ticks\":\"\"},\"baxis\":{\"gridcolor\":\"white\",\"linecolor\":\"white\",\"ticks\":\"\"},\"bgcolor\":\"#E5ECF6\",\"caxis\":{\"gridcolor\":\"white\",\"linecolor\":\"white\",\"ticks\":\"\"}},\"title\":{\"x\":0.05},\"xaxis\":{\"automargin\":true,\"gridcolor\":\"white\",\"linecolor\":\"white\",\"ticks\":\"\",\"title\":{\"standoff\":15},\"zerolinecolor\":\"white\",\"zerolinewidth\":2},\"yaxis\":{\"automargin\":true,\"gridcolor\":\"white\",\"linecolor\":\"white\",\"ticks\":\"\",\"title\":{\"standoff\":15},\"zerolinecolor\":\"white\",\"zerolinewidth\":2}}},\"polar\":{\"radialaxis\":{\"visible\":true}},\"showlegend\":true},                        {\"responsive\": true}                    ).then(function(){\n",
       "                            \n",
       "var gd = document.getElementById('c184e4e9-fabb-4d90-abc3-87d23b4c42fc');\n",
       "var x = new MutationObserver(function (mutations, observer) {{\n",
       "        var display = window.getComputedStyle(gd).display;\n",
       "        if (!display || display === 'none') {{\n",
       "            console.log([gd, 'removed!']);\n",
       "            Plotly.purge(gd);\n",
       "            observer.disconnect();\n",
       "        }}\n",
       "}});\n",
       "\n",
       "// Listen for the removal of the full notebook cells\n",
       "var notebookContainer = gd.closest('#notebook-container');\n",
       "if (notebookContainer) {{\n",
       "    x.observe(notebookContainer, {childList: true});\n",
       "}}\n",
       "\n",
       "// Listen for the clearing of the current output cell\n",
       "var outputEl = gd.closest('.output');\n",
       "if (outputEl) {{\n",
       "    x.observe(outputEl, {childList: true});\n",
       "}}\n",
       "\n",
       "                        })                };                });            </script>        </div>"
      ]
     },
     "metadata": {},
     "output_type": "display_data"
    },
    {
     "data": {
      "application/vnd.plotly.v1+json": {
       "config": {
        "plotlyServerURL": "https://plot.ly"
       },
       "data": [
        {
         "line": {
          "color": "silver",
          "width": 0
         },
         "marker": {
          "size": 1
         },
         "name": "leveling",
         "r": [
          1,
          1,
          1,
          1,
          1,
          1,
          1,
          1,
          1,
          1,
          1,
          1
         ],
         "showlegend": false,
         "theta": [
          "Atoms",
          "MW",
          "fSP3",
          "HBA",
          "HBD",
          "Stereo Atoms",
          "Rings",
          "Rotatable Bonds",
          "QED",
          "logD",
          "TPSA",
          "Atoms",
          "Atoms"
         ],
         "type": "scatterpolar"
        },
        {
         "line": {
          "color": "blue",
          "width": 2
         },
         "marker": {
          "size": 1
         },
         "name": "Drug Collection",
         "r": [
          0,
          0,
          0,
          0,
          0,
          0,
          0,
          0,
          0.13704849898035934,
          0.21202128684158728,
          0,
          0,
          0
         ],
         "showlegend": false,
         "theta": [
          "Atoms",
          "MW",
          "fSP3",
          "HBA",
          "HBD",
          "Stereo Atoms",
          "Rings",
          "Rotatable Bonds",
          "QED",
          "logD",
          "TPSA",
          "Atoms",
          "Atoms"
         ],
         "type": "scatterpolar"
        },
        {
         "fill": "tonext",
         "line": {
          "color": "blue",
          "width": 2
         },
         "marker": {
          "size": 1
         },
         "name": "Drug Collection",
         "r": [
          0.41752017882356696,
          0.41172738538861786,
          0.9692648073649767,
          0.3208935348809258,
          0.3122356893415111,
          0.2926442992395945,
          0.45004903972139626,
          0.3727808349471888,
          1.0155910461149467,
          0.6022791095653641,
          0.3055540241754811,
          0.41752017882356696,
          0.41752017882356696
         ],
         "theta": [
          "Atoms",
          "MW",
          "fSP3",
          "HBA",
          "HBD",
          "Stereo Atoms",
          "Rings",
          "Rotatable Bonds",
          "QED",
          "logD",
          "TPSA",
          "Atoms",
          "Atoms"
         ],
         "type": "scatterpolar"
        },
        {
         "line": {
          "color": "yellow",
          "width": 2
         },
         "marker": {
          "size": 1
         },
         "name": "DEL1 Library",
         "r": [
          0.22664028276598666,
          0.23084255856817695,
          0.15303252713681548,
          0.1084849109720123,
          0.044498307565741246,
          0,
          0.14599350888685783,
          0.19003823633765612,
          0.035769143574164365,
          0.3796084047877229,
          0.08191860852814083,
          0.22664028276598666,
          0.22664028276598666
         ],
         "showlegend": false,
         "theta": [
          "Atoms",
          "MW",
          "fSP3",
          "HBA",
          "HBD",
          "Stereo Atoms",
          "Rings",
          "Rotatable Bonds",
          "QED",
          "logD",
          "TPSA",
          "Atoms",
          "Atoms"
         ],
         "type": "scatterpolar"
        },
        {
         "fill": "tonext",
         "line": {
          "color": "yellow",
          "width": 2
         },
         "marker": {
          "size": 1
         },
         "name": "Zafrens Library 1",
         "r": [
          0.5627935068434736,
          0.542131324239524,
          0.5296455597778855,
          0.35497039365303146,
          0.18037729554104318,
          0.09594632330519191,
          0.7209073265123483,
          0.4461040606429907,
          0.4726001745126241,
          0.6435031244988436,
          0.2613924487425168,
          0.5627935068434736,
          0.5627935068434736
         ],
         "theta": [
          "Atoms",
          "MW",
          "fSP3",
          "HBA",
          "HBD",
          "Stereo Atoms",
          "Rings",
          "Rotatable Bonds",
          "QED",
          "logD",
          "TPSA",
          "Atoms",
          "Atoms"
         ],
         "type": "scatterpolar"
        }
       ],
       "layout": {
        "polar": {
         "radialaxis": {
          "visible": true
         }
        },
        "showlegend": true,
        "template": {
         "data": {
          "bar": [
           {
            "error_x": {
             "color": "#2a3f5f"
            },
            "error_y": {
             "color": "#2a3f5f"
            },
            "marker": {
             "line": {
              "color": "#E5ECF6",
              "width": 0.5
             },
             "pattern": {
              "fillmode": "overlay",
              "size": 10,
              "solidity": 0.2
             }
            },
            "type": "bar"
           }
          ],
          "barpolar": [
           {
            "marker": {
             "line": {
              "color": "#E5ECF6",
              "width": 0.5
             },
             "pattern": {
              "fillmode": "overlay",
              "size": 10,
              "solidity": 0.2
             }
            },
            "type": "barpolar"
           }
          ],
          "carpet": [
           {
            "aaxis": {
             "endlinecolor": "#2a3f5f",
             "gridcolor": "white",
             "linecolor": "white",
             "minorgridcolor": "white",
             "startlinecolor": "#2a3f5f"
            },
            "baxis": {
             "endlinecolor": "#2a3f5f",
             "gridcolor": "white",
             "linecolor": "white",
             "minorgridcolor": "white",
             "startlinecolor": "#2a3f5f"
            },
            "type": "carpet"
           }
          ],
          "choropleth": [
           {
            "colorbar": {
             "outlinewidth": 0,
             "ticks": ""
            },
            "type": "choropleth"
           }
          ],
          "contour": [
           {
            "colorbar": {
             "outlinewidth": 0,
             "ticks": ""
            },
            "colorscale": [
             [
              0,
              "#0d0887"
             ],
             [
              0.1111111111111111,
              "#46039f"
             ],
             [
              0.2222222222222222,
              "#7201a8"
             ],
             [
              0.3333333333333333,
              "#9c179e"
             ],
             [
              0.4444444444444444,
              "#bd3786"
             ],
             [
              0.5555555555555556,
              "#d8576b"
             ],
             [
              0.6666666666666666,
              "#ed7953"
             ],
             [
              0.7777777777777778,
              "#fb9f3a"
             ],
             [
              0.8888888888888888,
              "#fdca26"
             ],
             [
              1,
              "#f0f921"
             ]
            ],
            "type": "contour"
           }
          ],
          "contourcarpet": [
           {
            "colorbar": {
             "outlinewidth": 0,
             "ticks": ""
            },
            "type": "contourcarpet"
           }
          ],
          "heatmap": [
           {
            "colorbar": {
             "outlinewidth": 0,
             "ticks": ""
            },
            "colorscale": [
             [
              0,
              "#0d0887"
             ],
             [
              0.1111111111111111,
              "#46039f"
             ],
             [
              0.2222222222222222,
              "#7201a8"
             ],
             [
              0.3333333333333333,
              "#9c179e"
             ],
             [
              0.4444444444444444,
              "#bd3786"
             ],
             [
              0.5555555555555556,
              "#d8576b"
             ],
             [
              0.6666666666666666,
              "#ed7953"
             ],
             [
              0.7777777777777778,
              "#fb9f3a"
             ],
             [
              0.8888888888888888,
              "#fdca26"
             ],
             [
              1,
              "#f0f921"
             ]
            ],
            "type": "heatmap"
           }
          ],
          "heatmapgl": [
           {
            "colorbar": {
             "outlinewidth": 0,
             "ticks": ""
            },
            "colorscale": [
             [
              0,
              "#0d0887"
             ],
             [
              0.1111111111111111,
              "#46039f"
             ],
             [
              0.2222222222222222,
              "#7201a8"
             ],
             [
              0.3333333333333333,
              "#9c179e"
             ],
             [
              0.4444444444444444,
              "#bd3786"
             ],
             [
              0.5555555555555556,
              "#d8576b"
             ],
             [
              0.6666666666666666,
              "#ed7953"
             ],
             [
              0.7777777777777778,
              "#fb9f3a"
             ],
             [
              0.8888888888888888,
              "#fdca26"
             ],
             [
              1,
              "#f0f921"
             ]
            ],
            "type": "heatmapgl"
           }
          ],
          "histogram": [
           {
            "marker": {
             "pattern": {
              "fillmode": "overlay",
              "size": 10,
              "solidity": 0.2
             }
            },
            "type": "histogram"
           }
          ],
          "histogram2d": [
           {
            "colorbar": {
             "outlinewidth": 0,
             "ticks": ""
            },
            "colorscale": [
             [
              0,
              "#0d0887"
             ],
             [
              0.1111111111111111,
              "#46039f"
             ],
             [
              0.2222222222222222,
              "#7201a8"
             ],
             [
              0.3333333333333333,
              "#9c179e"
             ],
             [
              0.4444444444444444,
              "#bd3786"
             ],
             [
              0.5555555555555556,
              "#d8576b"
             ],
             [
              0.6666666666666666,
              "#ed7953"
             ],
             [
              0.7777777777777778,
              "#fb9f3a"
             ],
             [
              0.8888888888888888,
              "#fdca26"
             ],
             [
              1,
              "#f0f921"
             ]
            ],
            "type": "histogram2d"
           }
          ],
          "histogram2dcontour": [
           {
            "colorbar": {
             "outlinewidth": 0,
             "ticks": ""
            },
            "colorscale": [
             [
              0,
              "#0d0887"
             ],
             [
              0.1111111111111111,
              "#46039f"
             ],
             [
              0.2222222222222222,
              "#7201a8"
             ],
             [
              0.3333333333333333,
              "#9c179e"
             ],
             [
              0.4444444444444444,
              "#bd3786"
             ],
             [
              0.5555555555555556,
              "#d8576b"
             ],
             [
              0.6666666666666666,
              "#ed7953"
             ],
             [
              0.7777777777777778,
              "#fb9f3a"
             ],
             [
              0.8888888888888888,
              "#fdca26"
             ],
             [
              1,
              "#f0f921"
             ]
            ],
            "type": "histogram2dcontour"
           }
          ],
          "mesh3d": [
           {
            "colorbar": {
             "outlinewidth": 0,
             "ticks": ""
            },
            "type": "mesh3d"
           }
          ],
          "parcoords": [
           {
            "line": {
             "colorbar": {
              "outlinewidth": 0,
              "ticks": ""
             }
            },
            "type": "parcoords"
           }
          ],
          "pie": [
           {
            "automargin": true,
            "type": "pie"
           }
          ],
          "scatter": [
           {
            "marker": {
             "colorbar": {
              "outlinewidth": 0,
              "ticks": ""
             }
            },
            "type": "scatter"
           }
          ],
          "scatter3d": [
           {
            "line": {
             "colorbar": {
              "outlinewidth": 0,
              "ticks": ""
             }
            },
            "marker": {
             "colorbar": {
              "outlinewidth": 0,
              "ticks": ""
             }
            },
            "type": "scatter3d"
           }
          ],
          "scattercarpet": [
           {
            "marker": {
             "colorbar": {
              "outlinewidth": 0,
              "ticks": ""
             }
            },
            "type": "scattercarpet"
           }
          ],
          "scattergeo": [
           {
            "marker": {
             "colorbar": {
              "outlinewidth": 0,
              "ticks": ""
             }
            },
            "type": "scattergeo"
           }
          ],
          "scattergl": [
           {
            "marker": {
             "colorbar": {
              "outlinewidth": 0,
              "ticks": ""
             }
            },
            "type": "scattergl"
           }
          ],
          "scattermapbox": [
           {
            "marker": {
             "colorbar": {
              "outlinewidth": 0,
              "ticks": ""
             }
            },
            "type": "scattermapbox"
           }
          ],
          "scatterpolar": [
           {
            "marker": {
             "colorbar": {
              "outlinewidth": 0,
              "ticks": ""
             }
            },
            "type": "scatterpolar"
           }
          ],
          "scatterpolargl": [
           {
            "marker": {
             "colorbar": {
              "outlinewidth": 0,
              "ticks": ""
             }
            },
            "type": "scatterpolargl"
           }
          ],
          "scatterternary": [
           {
            "marker": {
             "colorbar": {
              "outlinewidth": 0,
              "ticks": ""
             }
            },
            "type": "scatterternary"
           }
          ],
          "surface": [
           {
            "colorbar": {
             "outlinewidth": 0,
             "ticks": ""
            },
            "colorscale": [
             [
              0,
              "#0d0887"
             ],
             [
              0.1111111111111111,
              "#46039f"
             ],
             [
              0.2222222222222222,
              "#7201a8"
             ],
             [
              0.3333333333333333,
              "#9c179e"
             ],
             [
              0.4444444444444444,
              "#bd3786"
             ],
             [
              0.5555555555555556,
              "#d8576b"
             ],
             [
              0.6666666666666666,
              "#ed7953"
             ],
             [
              0.7777777777777778,
              "#fb9f3a"
             ],
             [
              0.8888888888888888,
              "#fdca26"
             ],
             [
              1,
              "#f0f921"
             ]
            ],
            "type": "surface"
           }
          ],
          "table": [
           {
            "cells": {
             "fill": {
              "color": "#EBF0F8"
             },
             "line": {
              "color": "white"
             }
            },
            "header": {
             "fill": {
              "color": "#C8D4E3"
             },
             "line": {
              "color": "white"
             }
            },
            "type": "table"
           }
          ]
         },
         "layout": {
          "annotationdefaults": {
           "arrowcolor": "#2a3f5f",
           "arrowhead": 0,
           "arrowwidth": 1
          },
          "autotypenumbers": "strict",
          "coloraxis": {
           "colorbar": {
            "outlinewidth": 0,
            "ticks": ""
           }
          },
          "colorscale": {
           "diverging": [
            [
             0,
             "#8e0152"
            ],
            [
             0.1,
             "#c51b7d"
            ],
            [
             0.2,
             "#de77ae"
            ],
            [
             0.3,
             "#f1b6da"
            ],
            [
             0.4,
             "#fde0ef"
            ],
            [
             0.5,
             "#f7f7f7"
            ],
            [
             0.6,
             "#e6f5d0"
            ],
            [
             0.7,
             "#b8e186"
            ],
            [
             0.8,
             "#7fbc41"
            ],
            [
             0.9,
             "#4d9221"
            ],
            [
             1,
             "#276419"
            ]
           ],
           "sequential": [
            [
             0,
             "#0d0887"
            ],
            [
             0.1111111111111111,
             "#46039f"
            ],
            [
             0.2222222222222222,
             "#7201a8"
            ],
            [
             0.3333333333333333,
             "#9c179e"
            ],
            [
             0.4444444444444444,
             "#bd3786"
            ],
            [
             0.5555555555555556,
             "#d8576b"
            ],
            [
             0.6666666666666666,
             "#ed7953"
            ],
            [
             0.7777777777777778,
             "#fb9f3a"
            ],
            [
             0.8888888888888888,
             "#fdca26"
            ],
            [
             1,
             "#f0f921"
            ]
           ],
           "sequentialminus": [
            [
             0,
             "#0d0887"
            ],
            [
             0.1111111111111111,
             "#46039f"
            ],
            [
             0.2222222222222222,
             "#7201a8"
            ],
            [
             0.3333333333333333,
             "#9c179e"
            ],
            [
             0.4444444444444444,
             "#bd3786"
            ],
            [
             0.5555555555555556,
             "#d8576b"
            ],
            [
             0.6666666666666666,
             "#ed7953"
            ],
            [
             0.7777777777777778,
             "#fb9f3a"
            ],
            [
             0.8888888888888888,
             "#fdca26"
            ],
            [
             1,
             "#f0f921"
            ]
           ]
          },
          "colorway": [
           "#636efa",
           "#EF553B",
           "#00cc96",
           "#ab63fa",
           "#FFA15A",
           "#19d3f3",
           "#FF6692",
           "#B6E880",
           "#FF97FF",
           "#FECB52"
          ],
          "font": {
           "color": "#2a3f5f"
          },
          "geo": {
           "bgcolor": "white",
           "lakecolor": "white",
           "landcolor": "#E5ECF6",
           "showlakes": true,
           "showland": true,
           "subunitcolor": "white"
          },
          "hoverlabel": {
           "align": "left"
          },
          "hovermode": "closest",
          "mapbox": {
           "style": "light"
          },
          "paper_bgcolor": "white",
          "plot_bgcolor": "#E5ECF6",
          "polar": {
           "angularaxis": {
            "gridcolor": "white",
            "linecolor": "white",
            "ticks": ""
           },
           "bgcolor": "#E5ECF6",
           "radialaxis": {
            "gridcolor": "white",
            "linecolor": "white",
            "ticks": ""
           }
          },
          "scene": {
           "xaxis": {
            "backgroundcolor": "#E5ECF6",
            "gridcolor": "white",
            "gridwidth": 2,
            "linecolor": "white",
            "showbackground": true,
            "ticks": "",
            "zerolinecolor": "white"
           },
           "yaxis": {
            "backgroundcolor": "#E5ECF6",
            "gridcolor": "white",
            "gridwidth": 2,
            "linecolor": "white",
            "showbackground": true,
            "ticks": "",
            "zerolinecolor": "white"
           },
           "zaxis": {
            "backgroundcolor": "#E5ECF6",
            "gridcolor": "white",
            "gridwidth": 2,
            "linecolor": "white",
            "showbackground": true,
            "ticks": "",
            "zerolinecolor": "white"
           }
          },
          "shapedefaults": {
           "line": {
            "color": "#2a3f5f"
           }
          },
          "ternary": {
           "aaxis": {
            "gridcolor": "white",
            "linecolor": "white",
            "ticks": ""
           },
           "baxis": {
            "gridcolor": "white",
            "linecolor": "white",
            "ticks": ""
           },
           "bgcolor": "#E5ECF6",
           "caxis": {
            "gridcolor": "white",
            "linecolor": "white",
            "ticks": ""
           }
          },
          "title": {
           "x": 0.05
          },
          "xaxis": {
           "automargin": true,
           "gridcolor": "white",
           "linecolor": "white",
           "ticks": "",
           "title": {
            "standoff": 15
           },
           "zerolinecolor": "white",
           "zerolinewidth": 2
          },
          "yaxis": {
           "automargin": true,
           "gridcolor": "white",
           "linecolor": "white",
           "ticks": "",
           "title": {
            "standoff": 15
           },
           "zerolinecolor": "white",
           "zerolinewidth": 2
          }
         }
        }
       }
      },
      "text/html": [
       "<div>                            <div id=\"14b016dc-5b10-4f5c-93f1-138ea3bf3308\" class=\"plotly-graph-div\" style=\"height:525px; width:100%;\"></div>            <script type=\"text/javascript\">                require([\"plotly\"], function(Plotly) {                    window.PLOTLYENV=window.PLOTLYENV || {};                                    if (document.getElementById(\"14b016dc-5b10-4f5c-93f1-138ea3bf3308\")) {                    Plotly.newPlot(                        \"14b016dc-5b10-4f5c-93f1-138ea3bf3308\",                        [{\"line\":{\"color\":\"silver\",\"width\":0},\"marker\":{\"size\":1},\"name\":\"leveling\",\"r\":[1,1,1,1,1,1,1,1,1,1,1,1],\"showlegend\":false,\"theta\":[\"Atoms\",\"MW\",\"fSP3\",\"HBA\",\"HBD\",\"Stereo Atoms\",\"Rings\",\"Rotatable Bonds\",\"QED\",\"logD\",\"TPSA\",\"Atoms\",\"Atoms\"],\"type\":\"scatterpolar\"},{\"line\":{\"color\":\"blue\",\"width\":2},\"marker\":{\"size\":1},\"name\":\"Drug Collection\",\"r\":[0,0,0,0,0,0,0,0,0.13704849898035934,0.21202128684158728,0,0,0],\"showlegend\":false,\"theta\":[\"Atoms\",\"MW\",\"fSP3\",\"HBA\",\"HBD\",\"Stereo Atoms\",\"Rings\",\"Rotatable Bonds\",\"QED\",\"logD\",\"TPSA\",\"Atoms\",\"Atoms\"],\"type\":\"scatterpolar\"},{\"fill\":\"tonext\",\"line\":{\"color\":\"blue\",\"width\":2},\"marker\":{\"size\":1},\"name\":\"Drug Collection\",\"r\":[0.41752017882356696,0.41172738538861786,0.9692648073649767,0.3208935348809258,0.3122356893415111,0.2926442992395945,0.45004903972139626,0.3727808349471888,1.0155910461149467,0.6022791095653641,0.3055540241754811,0.41752017882356696,0.41752017882356696],\"theta\":[\"Atoms\",\"MW\",\"fSP3\",\"HBA\",\"HBD\",\"Stereo Atoms\",\"Rings\",\"Rotatable Bonds\",\"QED\",\"logD\",\"TPSA\",\"Atoms\",\"Atoms\"],\"type\":\"scatterpolar\"},{\"line\":{\"color\":\"yellow\",\"width\":2},\"marker\":{\"size\":1},\"name\":\"DEL1 Library\",\"r\":[0.22664028276598666,0.23084255856817695,0.15303252713681548,0.1084849109720123,0.044498307565741246,0,0.14599350888685783,0.19003823633765612,0.035769143574164365,0.3796084047877229,0.08191860852814083,0.22664028276598666,0.22664028276598666],\"showlegend\":false,\"theta\":[\"Atoms\",\"MW\",\"fSP3\",\"HBA\",\"HBD\",\"Stereo Atoms\",\"Rings\",\"Rotatable Bonds\",\"QED\",\"logD\",\"TPSA\",\"Atoms\",\"Atoms\"],\"type\":\"scatterpolar\"},{\"fill\":\"tonext\",\"line\":{\"color\":\"yellow\",\"width\":2},\"marker\":{\"size\":1},\"name\":\"Zafrens Library 1\",\"r\":[0.5627935068434736,0.542131324239524,0.5296455597778855,0.35497039365303146,0.18037729554104318,0.09594632330519191,0.7209073265123483,0.4461040606429907,0.4726001745126241,0.6435031244988436,0.2613924487425168,0.5627935068434736,0.5627935068434736],\"theta\":[\"Atoms\",\"MW\",\"fSP3\",\"HBA\",\"HBD\",\"Stereo Atoms\",\"Rings\",\"Rotatable Bonds\",\"QED\",\"logD\",\"TPSA\",\"Atoms\",\"Atoms\"],\"type\":\"scatterpolar\"}],                        {\"template\":{\"data\":{\"bar\":[{\"error_x\":{\"color\":\"#2a3f5f\"},\"error_y\":{\"color\":\"#2a3f5f\"},\"marker\":{\"line\":{\"color\":\"#E5ECF6\",\"width\":0.5},\"pattern\":{\"fillmode\":\"overlay\",\"size\":10,\"solidity\":0.2}},\"type\":\"bar\"}],\"barpolar\":[{\"marker\":{\"line\":{\"color\":\"#E5ECF6\",\"width\":0.5},\"pattern\":{\"fillmode\":\"overlay\",\"size\":10,\"solidity\":0.2}},\"type\":\"barpolar\"}],\"carpet\":[{\"aaxis\":{\"endlinecolor\":\"#2a3f5f\",\"gridcolor\":\"white\",\"linecolor\":\"white\",\"minorgridcolor\":\"white\",\"startlinecolor\":\"#2a3f5f\"},\"baxis\":{\"endlinecolor\":\"#2a3f5f\",\"gridcolor\":\"white\",\"linecolor\":\"white\",\"minorgridcolor\":\"white\",\"startlinecolor\":\"#2a3f5f\"},\"type\":\"carpet\"}],\"choropleth\":[{\"colorbar\":{\"outlinewidth\":0,\"ticks\":\"\"},\"type\":\"choropleth\"}],\"contour\":[{\"colorbar\":{\"outlinewidth\":0,\"ticks\":\"\"},\"colorscale\":[[0.0,\"#0d0887\"],[0.1111111111111111,\"#46039f\"],[0.2222222222222222,\"#7201a8\"],[0.3333333333333333,\"#9c179e\"],[0.4444444444444444,\"#bd3786\"],[0.5555555555555556,\"#d8576b\"],[0.6666666666666666,\"#ed7953\"],[0.7777777777777778,\"#fb9f3a\"],[0.8888888888888888,\"#fdca26\"],[1.0,\"#f0f921\"]],\"type\":\"contour\"}],\"contourcarpet\":[{\"colorbar\":{\"outlinewidth\":0,\"ticks\":\"\"},\"type\":\"contourcarpet\"}],\"heatmap\":[{\"colorbar\":{\"outlinewidth\":0,\"ticks\":\"\"},\"colorscale\":[[0.0,\"#0d0887\"],[0.1111111111111111,\"#46039f\"],[0.2222222222222222,\"#7201a8\"],[0.3333333333333333,\"#9c179e\"],[0.4444444444444444,\"#bd3786\"],[0.5555555555555556,\"#d8576b\"],[0.6666666666666666,\"#ed7953\"],[0.7777777777777778,\"#fb9f3a\"],[0.8888888888888888,\"#fdca26\"],[1.0,\"#f0f921\"]],\"type\":\"heatmap\"}],\"heatmapgl\":[{\"colorbar\":{\"outlinewidth\":0,\"ticks\":\"\"},\"colorscale\":[[0.0,\"#0d0887\"],[0.1111111111111111,\"#46039f\"],[0.2222222222222222,\"#7201a8\"],[0.3333333333333333,\"#9c179e\"],[0.4444444444444444,\"#bd3786\"],[0.5555555555555556,\"#d8576b\"],[0.6666666666666666,\"#ed7953\"],[0.7777777777777778,\"#fb9f3a\"],[0.8888888888888888,\"#fdca26\"],[1.0,\"#f0f921\"]],\"type\":\"heatmapgl\"}],\"histogram\":[{\"marker\":{\"pattern\":{\"fillmode\":\"overlay\",\"size\":10,\"solidity\":0.2}},\"type\":\"histogram\"}],\"histogram2d\":[{\"colorbar\":{\"outlinewidth\":0,\"ticks\":\"\"},\"colorscale\":[[0.0,\"#0d0887\"],[0.1111111111111111,\"#46039f\"],[0.2222222222222222,\"#7201a8\"],[0.3333333333333333,\"#9c179e\"],[0.4444444444444444,\"#bd3786\"],[0.5555555555555556,\"#d8576b\"],[0.6666666666666666,\"#ed7953\"],[0.7777777777777778,\"#fb9f3a\"],[0.8888888888888888,\"#fdca26\"],[1.0,\"#f0f921\"]],\"type\":\"histogram2d\"}],\"histogram2dcontour\":[{\"colorbar\":{\"outlinewidth\":0,\"ticks\":\"\"},\"colorscale\":[[0.0,\"#0d0887\"],[0.1111111111111111,\"#46039f\"],[0.2222222222222222,\"#7201a8\"],[0.3333333333333333,\"#9c179e\"],[0.4444444444444444,\"#bd3786\"],[0.5555555555555556,\"#d8576b\"],[0.6666666666666666,\"#ed7953\"],[0.7777777777777778,\"#fb9f3a\"],[0.8888888888888888,\"#fdca26\"],[1.0,\"#f0f921\"]],\"type\":\"histogram2dcontour\"}],\"mesh3d\":[{\"colorbar\":{\"outlinewidth\":0,\"ticks\":\"\"},\"type\":\"mesh3d\"}],\"parcoords\":[{\"line\":{\"colorbar\":{\"outlinewidth\":0,\"ticks\":\"\"}},\"type\":\"parcoords\"}],\"pie\":[{\"automargin\":true,\"type\":\"pie\"}],\"scatter\":[{\"marker\":{\"colorbar\":{\"outlinewidth\":0,\"ticks\":\"\"}},\"type\":\"scatter\"}],\"scatter3d\":[{\"line\":{\"colorbar\":{\"outlinewidth\":0,\"ticks\":\"\"}},\"marker\":{\"colorbar\":{\"outlinewidth\":0,\"ticks\":\"\"}},\"type\":\"scatter3d\"}],\"scattercarpet\":[{\"marker\":{\"colorbar\":{\"outlinewidth\":0,\"ticks\":\"\"}},\"type\":\"scattercarpet\"}],\"scattergeo\":[{\"marker\":{\"colorbar\":{\"outlinewidth\":0,\"ticks\":\"\"}},\"type\":\"scattergeo\"}],\"scattergl\":[{\"marker\":{\"colorbar\":{\"outlinewidth\":0,\"ticks\":\"\"}},\"type\":\"scattergl\"}],\"scattermapbox\":[{\"marker\":{\"colorbar\":{\"outlinewidth\":0,\"ticks\":\"\"}},\"type\":\"scattermapbox\"}],\"scatterpolar\":[{\"marker\":{\"colorbar\":{\"outlinewidth\":0,\"ticks\":\"\"}},\"type\":\"scatterpolar\"}],\"scatterpolargl\":[{\"marker\":{\"colorbar\":{\"outlinewidth\":0,\"ticks\":\"\"}},\"type\":\"scatterpolargl\"}],\"scatterternary\":[{\"marker\":{\"colorbar\":{\"outlinewidth\":0,\"ticks\":\"\"}},\"type\":\"scatterternary\"}],\"surface\":[{\"colorbar\":{\"outlinewidth\":0,\"ticks\":\"\"},\"colorscale\":[[0.0,\"#0d0887\"],[0.1111111111111111,\"#46039f\"],[0.2222222222222222,\"#7201a8\"],[0.3333333333333333,\"#9c179e\"],[0.4444444444444444,\"#bd3786\"],[0.5555555555555556,\"#d8576b\"],[0.6666666666666666,\"#ed7953\"],[0.7777777777777778,\"#fb9f3a\"],[0.8888888888888888,\"#fdca26\"],[1.0,\"#f0f921\"]],\"type\":\"surface\"}],\"table\":[{\"cells\":{\"fill\":{\"color\":\"#EBF0F8\"},\"line\":{\"color\":\"white\"}},\"header\":{\"fill\":{\"color\":\"#C8D4E3\"},\"line\":{\"color\":\"white\"}},\"type\":\"table\"}]},\"layout\":{\"annotationdefaults\":{\"arrowcolor\":\"#2a3f5f\",\"arrowhead\":0,\"arrowwidth\":1},\"autotypenumbers\":\"strict\",\"coloraxis\":{\"colorbar\":{\"outlinewidth\":0,\"ticks\":\"\"}},\"colorscale\":{\"diverging\":[[0,\"#8e0152\"],[0.1,\"#c51b7d\"],[0.2,\"#de77ae\"],[0.3,\"#f1b6da\"],[0.4,\"#fde0ef\"],[0.5,\"#f7f7f7\"],[0.6,\"#e6f5d0\"],[0.7,\"#b8e186\"],[0.8,\"#7fbc41\"],[0.9,\"#4d9221\"],[1,\"#276419\"]],\"sequential\":[[0.0,\"#0d0887\"],[0.1111111111111111,\"#46039f\"],[0.2222222222222222,\"#7201a8\"],[0.3333333333333333,\"#9c179e\"],[0.4444444444444444,\"#bd3786\"],[0.5555555555555556,\"#d8576b\"],[0.6666666666666666,\"#ed7953\"],[0.7777777777777778,\"#fb9f3a\"],[0.8888888888888888,\"#fdca26\"],[1.0,\"#f0f921\"]],\"sequentialminus\":[[0.0,\"#0d0887\"],[0.1111111111111111,\"#46039f\"],[0.2222222222222222,\"#7201a8\"],[0.3333333333333333,\"#9c179e\"],[0.4444444444444444,\"#bd3786\"],[0.5555555555555556,\"#d8576b\"],[0.6666666666666666,\"#ed7953\"],[0.7777777777777778,\"#fb9f3a\"],[0.8888888888888888,\"#fdca26\"],[1.0,\"#f0f921\"]]},\"colorway\":[\"#636efa\",\"#EF553B\",\"#00cc96\",\"#ab63fa\",\"#FFA15A\",\"#19d3f3\",\"#FF6692\",\"#B6E880\",\"#FF97FF\",\"#FECB52\"],\"font\":{\"color\":\"#2a3f5f\"},\"geo\":{\"bgcolor\":\"white\",\"lakecolor\":\"white\",\"landcolor\":\"#E5ECF6\",\"showlakes\":true,\"showland\":true,\"subunitcolor\":\"white\"},\"hoverlabel\":{\"align\":\"left\"},\"hovermode\":\"closest\",\"mapbox\":{\"style\":\"light\"},\"paper_bgcolor\":\"white\",\"plot_bgcolor\":\"#E5ECF6\",\"polar\":{\"angularaxis\":{\"gridcolor\":\"white\",\"linecolor\":\"white\",\"ticks\":\"\"},\"bgcolor\":\"#E5ECF6\",\"radialaxis\":{\"gridcolor\":\"white\",\"linecolor\":\"white\",\"ticks\":\"\"}},\"scene\":{\"xaxis\":{\"backgroundcolor\":\"#E5ECF6\",\"gridcolor\":\"white\",\"gridwidth\":2,\"linecolor\":\"white\",\"showbackground\":true,\"ticks\":\"\",\"zerolinecolor\":\"white\"},\"yaxis\":{\"backgroundcolor\":\"#E5ECF6\",\"gridcolor\":\"white\",\"gridwidth\":2,\"linecolor\":\"white\",\"showbackground\":true,\"ticks\":\"\",\"zerolinecolor\":\"white\"},\"zaxis\":{\"backgroundcolor\":\"#E5ECF6\",\"gridcolor\":\"white\",\"gridwidth\":2,\"linecolor\":\"white\",\"showbackground\":true,\"ticks\":\"\",\"zerolinecolor\":\"white\"}},\"shapedefaults\":{\"line\":{\"color\":\"#2a3f5f\"}},\"ternary\":{\"aaxis\":{\"gridcolor\":\"white\",\"linecolor\":\"white\",\"ticks\":\"\"},\"baxis\":{\"gridcolor\":\"white\",\"linecolor\":\"white\",\"ticks\":\"\"},\"bgcolor\":\"#E5ECF6\",\"caxis\":{\"gridcolor\":\"white\",\"linecolor\":\"white\",\"ticks\":\"\"}},\"title\":{\"x\":0.05},\"xaxis\":{\"automargin\":true,\"gridcolor\":\"white\",\"linecolor\":\"white\",\"ticks\":\"\",\"title\":{\"standoff\":15},\"zerolinecolor\":\"white\",\"zerolinewidth\":2},\"yaxis\":{\"automargin\":true,\"gridcolor\":\"white\",\"linecolor\":\"white\",\"ticks\":\"\",\"title\":{\"standoff\":15},\"zerolinecolor\":\"white\",\"zerolinewidth\":2}}},\"polar\":{\"radialaxis\":{\"visible\":true}},\"showlegend\":true},                        {\"responsive\": true}                    ).then(function(){\n",
       "                            \n",
       "var gd = document.getElementById('14b016dc-5b10-4f5c-93f1-138ea3bf3308');\n",
       "var x = new MutationObserver(function (mutations, observer) {{\n",
       "        var display = window.getComputedStyle(gd).display;\n",
       "        if (!display || display === 'none') {{\n",
       "            console.log([gd, 'removed!']);\n",
       "            Plotly.purge(gd);\n",
       "            observer.disconnect();\n",
       "        }}\n",
       "}});\n",
       "\n",
       "// Listen for the removal of the full notebook cells\n",
       "var notebookContainer = gd.closest('#notebook-container');\n",
       "if (notebookContainer) {{\n",
       "    x.observe(notebookContainer, {childList: true});\n",
       "}}\n",
       "\n",
       "// Listen for the clearing of the current output cell\n",
       "var outputEl = gd.closest('.output');\n",
       "if (outputEl) {{\n",
       "    x.observe(outputEl, {childList: true});\n",
       "}}\n",
       "\n",
       "                        })                };                });            </script>        </div>"
      ]
     },
     "metadata": {},
     "output_type": "display_data"
    },
    {
     "data": {
      "application/vnd.plotly.v1+json": {
       "config": {
        "plotlyServerURL": "https://plot.ly"
       },
       "data": [
        {
         "line": {
          "color": "silver",
          "width": 0
         },
         "marker": {
          "size": 1
         },
         "name": "leveling",
         "r": [
          1,
          1,
          1,
          1,
          1,
          1,
          1,
          1,
          1,
          1,
          1,
          1
         ],
         "showlegend": false,
         "theta": [
          "Atoms",
          "MW",
          "fSP3",
          "HBA",
          "HBD",
          "Stereo Atoms",
          "Rings",
          "Rotatable Bonds",
          "QED",
          "logD",
          "TPSA",
          "Atoms",
          "Atoms"
         ],
         "type": "scatterpolar"
        },
        {
         "line": {
          "color": "green",
          "width": 2
         },
         "marker": {
          "size": 1
         },
         "name": "DEL2 Library",
         "r": [
          0.16656445266628966,
          0.16698522876846242,
          0.15335544598544854,
          0.1260628662197918,
          0.10850540151015825,
          0.03305787196237301,
          0.0010220197217084986,
          0.1194904857024104,
          0.04005039606087427,
          0.21667477802003848,
          0.12468700891588404,
          0.16656445266628966,
          0.16656445266628966
         ],
         "showlegend": false,
         "theta": [
          "Atoms",
          "MW",
          "fSP3",
          "HBA",
          "HBD",
          "Stereo Atoms",
          "Rings",
          "Rotatable Bonds",
          "QED",
          "logD",
          "TPSA",
          "Atoms",
          "Atoms"
         ],
         "type": "scatterpolar"
        },
        {
         "fill": "tonext",
         "line": {
          "color": "green",
          "width": 2
         },
         "marker": {
          "size": 1
         },
         "name": "Zafrens Library 2",
         "r": [
          0.38962655178781114,
          0.3754008126954943,
          0.8046372501099088,
          0.3446793975127043,
          0.35623139648180424,
          0.16834051966668706,
          0.38738846607771105,
          0.4214525180226427,
          0.6869118266433494,
          0.4658894571096466,
          0.33947126575151826,
          0.38962655178781114,
          0.38962655178781114
         ],
         "theta": [
          "Atoms",
          "MW",
          "fSP3",
          "HBA",
          "HBD",
          "Stereo Atoms",
          "Rings",
          "Rotatable Bonds",
          "QED",
          "logD",
          "TPSA",
          "Atoms",
          "Atoms"
         ],
         "type": "scatterpolar"
        },
        {
         "line": {
          "color": "yellow",
          "width": 2
         },
         "marker": {
          "size": 1
         },
         "name": "DEL1 Library",
         "r": [
          0.22664028276598666,
          0.23084255856817695,
          0.15303252713681548,
          0.1084849109720123,
          0.044498307565741246,
          0,
          0.14599350888685783,
          0.19003823633765612,
          0.035769143574164365,
          0.3796084047877229,
          0.08191860852814083,
          0.22664028276598666,
          0.22664028276598666
         ],
         "showlegend": false,
         "theta": [
          "Atoms",
          "MW",
          "fSP3",
          "HBA",
          "HBD",
          "Stereo Atoms",
          "Rings",
          "Rotatable Bonds",
          "QED",
          "logD",
          "TPSA",
          "Atoms",
          "Atoms"
         ],
         "type": "scatterpolar"
        },
        {
         "fill": "tonext",
         "line": {
          "color": "yellow",
          "width": 2
         },
         "marker": {
          "size": 1
         },
         "name": "Zafrens Library 1",
         "r": [
          0.5627935068434736,
          0.542131324239524,
          0.5296455597778855,
          0.35497039365303146,
          0.18037729554104318,
          0.09594632330519191,
          0.7209073265123483,
          0.4461040606429907,
          0.4726001745126241,
          0.6435031244988436,
          0.2613924487425168,
          0.5627935068434736,
          0.5627935068434736
         ],
         "theta": [
          "Atoms",
          "MW",
          "fSP3",
          "HBA",
          "HBD",
          "Stereo Atoms",
          "Rings",
          "Rotatable Bonds",
          "QED",
          "logD",
          "TPSA",
          "Atoms",
          "Atoms"
         ],
         "type": "scatterpolar"
        }
       ],
       "layout": {
        "polar": {
         "radialaxis": {
          "visible": true
         }
        },
        "showlegend": true,
        "template": {
         "data": {
          "bar": [
           {
            "error_x": {
             "color": "#2a3f5f"
            },
            "error_y": {
             "color": "#2a3f5f"
            },
            "marker": {
             "line": {
              "color": "#E5ECF6",
              "width": 0.5
             },
             "pattern": {
              "fillmode": "overlay",
              "size": 10,
              "solidity": 0.2
             }
            },
            "type": "bar"
           }
          ],
          "barpolar": [
           {
            "marker": {
             "line": {
              "color": "#E5ECF6",
              "width": 0.5
             },
             "pattern": {
              "fillmode": "overlay",
              "size": 10,
              "solidity": 0.2
             }
            },
            "type": "barpolar"
           }
          ],
          "carpet": [
           {
            "aaxis": {
             "endlinecolor": "#2a3f5f",
             "gridcolor": "white",
             "linecolor": "white",
             "minorgridcolor": "white",
             "startlinecolor": "#2a3f5f"
            },
            "baxis": {
             "endlinecolor": "#2a3f5f",
             "gridcolor": "white",
             "linecolor": "white",
             "minorgridcolor": "white",
             "startlinecolor": "#2a3f5f"
            },
            "type": "carpet"
           }
          ],
          "choropleth": [
           {
            "colorbar": {
             "outlinewidth": 0,
             "ticks": ""
            },
            "type": "choropleth"
           }
          ],
          "contour": [
           {
            "colorbar": {
             "outlinewidth": 0,
             "ticks": ""
            },
            "colorscale": [
             [
              0,
              "#0d0887"
             ],
             [
              0.1111111111111111,
              "#46039f"
             ],
             [
              0.2222222222222222,
              "#7201a8"
             ],
             [
              0.3333333333333333,
              "#9c179e"
             ],
             [
              0.4444444444444444,
              "#bd3786"
             ],
             [
              0.5555555555555556,
              "#d8576b"
             ],
             [
              0.6666666666666666,
              "#ed7953"
             ],
             [
              0.7777777777777778,
              "#fb9f3a"
             ],
             [
              0.8888888888888888,
              "#fdca26"
             ],
             [
              1,
              "#f0f921"
             ]
            ],
            "type": "contour"
           }
          ],
          "contourcarpet": [
           {
            "colorbar": {
             "outlinewidth": 0,
             "ticks": ""
            },
            "type": "contourcarpet"
           }
          ],
          "heatmap": [
           {
            "colorbar": {
             "outlinewidth": 0,
             "ticks": ""
            },
            "colorscale": [
             [
              0,
              "#0d0887"
             ],
             [
              0.1111111111111111,
              "#46039f"
             ],
             [
              0.2222222222222222,
              "#7201a8"
             ],
             [
              0.3333333333333333,
              "#9c179e"
             ],
             [
              0.4444444444444444,
              "#bd3786"
             ],
             [
              0.5555555555555556,
              "#d8576b"
             ],
             [
              0.6666666666666666,
              "#ed7953"
             ],
             [
              0.7777777777777778,
              "#fb9f3a"
             ],
             [
              0.8888888888888888,
              "#fdca26"
             ],
             [
              1,
              "#f0f921"
             ]
            ],
            "type": "heatmap"
           }
          ],
          "heatmapgl": [
           {
            "colorbar": {
             "outlinewidth": 0,
             "ticks": ""
            },
            "colorscale": [
             [
              0,
              "#0d0887"
             ],
             [
              0.1111111111111111,
              "#46039f"
             ],
             [
              0.2222222222222222,
              "#7201a8"
             ],
             [
              0.3333333333333333,
              "#9c179e"
             ],
             [
              0.4444444444444444,
              "#bd3786"
             ],
             [
              0.5555555555555556,
              "#d8576b"
             ],
             [
              0.6666666666666666,
              "#ed7953"
             ],
             [
              0.7777777777777778,
              "#fb9f3a"
             ],
             [
              0.8888888888888888,
              "#fdca26"
             ],
             [
              1,
              "#f0f921"
             ]
            ],
            "type": "heatmapgl"
           }
          ],
          "histogram": [
           {
            "marker": {
             "pattern": {
              "fillmode": "overlay",
              "size": 10,
              "solidity": 0.2
             }
            },
            "type": "histogram"
           }
          ],
          "histogram2d": [
           {
            "colorbar": {
             "outlinewidth": 0,
             "ticks": ""
            },
            "colorscale": [
             [
              0,
              "#0d0887"
             ],
             [
              0.1111111111111111,
              "#46039f"
             ],
             [
              0.2222222222222222,
              "#7201a8"
             ],
             [
              0.3333333333333333,
              "#9c179e"
             ],
             [
              0.4444444444444444,
              "#bd3786"
             ],
             [
              0.5555555555555556,
              "#d8576b"
             ],
             [
              0.6666666666666666,
              "#ed7953"
             ],
             [
              0.7777777777777778,
              "#fb9f3a"
             ],
             [
              0.8888888888888888,
              "#fdca26"
             ],
             [
              1,
              "#f0f921"
             ]
            ],
            "type": "histogram2d"
           }
          ],
          "histogram2dcontour": [
           {
            "colorbar": {
             "outlinewidth": 0,
             "ticks": ""
            },
            "colorscale": [
             [
              0,
              "#0d0887"
             ],
             [
              0.1111111111111111,
              "#46039f"
             ],
             [
              0.2222222222222222,
              "#7201a8"
             ],
             [
              0.3333333333333333,
              "#9c179e"
             ],
             [
              0.4444444444444444,
              "#bd3786"
             ],
             [
              0.5555555555555556,
              "#d8576b"
             ],
             [
              0.6666666666666666,
              "#ed7953"
             ],
             [
              0.7777777777777778,
              "#fb9f3a"
             ],
             [
              0.8888888888888888,
              "#fdca26"
             ],
             [
              1,
              "#f0f921"
             ]
            ],
            "type": "histogram2dcontour"
           }
          ],
          "mesh3d": [
           {
            "colorbar": {
             "outlinewidth": 0,
             "ticks": ""
            },
            "type": "mesh3d"
           }
          ],
          "parcoords": [
           {
            "line": {
             "colorbar": {
              "outlinewidth": 0,
              "ticks": ""
             }
            },
            "type": "parcoords"
           }
          ],
          "pie": [
           {
            "automargin": true,
            "type": "pie"
           }
          ],
          "scatter": [
           {
            "marker": {
             "colorbar": {
              "outlinewidth": 0,
              "ticks": ""
             }
            },
            "type": "scatter"
           }
          ],
          "scatter3d": [
           {
            "line": {
             "colorbar": {
              "outlinewidth": 0,
              "ticks": ""
             }
            },
            "marker": {
             "colorbar": {
              "outlinewidth": 0,
              "ticks": ""
             }
            },
            "type": "scatter3d"
           }
          ],
          "scattercarpet": [
           {
            "marker": {
             "colorbar": {
              "outlinewidth": 0,
              "ticks": ""
             }
            },
            "type": "scattercarpet"
           }
          ],
          "scattergeo": [
           {
            "marker": {
             "colorbar": {
              "outlinewidth": 0,
              "ticks": ""
             }
            },
            "type": "scattergeo"
           }
          ],
          "scattergl": [
           {
            "marker": {
             "colorbar": {
              "outlinewidth": 0,
              "ticks": ""
             }
            },
            "type": "scattergl"
           }
          ],
          "scattermapbox": [
           {
            "marker": {
             "colorbar": {
              "outlinewidth": 0,
              "ticks": ""
             }
            },
            "type": "scattermapbox"
           }
          ],
          "scatterpolar": [
           {
            "marker": {
             "colorbar": {
              "outlinewidth": 0,
              "ticks": ""
             }
            },
            "type": "scatterpolar"
           }
          ],
          "scatterpolargl": [
           {
            "marker": {
             "colorbar": {
              "outlinewidth": 0,
              "ticks": ""
             }
            },
            "type": "scatterpolargl"
           }
          ],
          "scatterternary": [
           {
            "marker": {
             "colorbar": {
              "outlinewidth": 0,
              "ticks": ""
             }
            },
            "type": "scatterternary"
           }
          ],
          "surface": [
           {
            "colorbar": {
             "outlinewidth": 0,
             "ticks": ""
            },
            "colorscale": [
             [
              0,
              "#0d0887"
             ],
             [
              0.1111111111111111,
              "#46039f"
             ],
             [
              0.2222222222222222,
              "#7201a8"
             ],
             [
              0.3333333333333333,
              "#9c179e"
             ],
             [
              0.4444444444444444,
              "#bd3786"
             ],
             [
              0.5555555555555556,
              "#d8576b"
             ],
             [
              0.6666666666666666,
              "#ed7953"
             ],
             [
              0.7777777777777778,
              "#fb9f3a"
             ],
             [
              0.8888888888888888,
              "#fdca26"
             ],
             [
              1,
              "#f0f921"
             ]
            ],
            "type": "surface"
           }
          ],
          "table": [
           {
            "cells": {
             "fill": {
              "color": "#EBF0F8"
             },
             "line": {
              "color": "white"
             }
            },
            "header": {
             "fill": {
              "color": "#C8D4E3"
             },
             "line": {
              "color": "white"
             }
            },
            "type": "table"
           }
          ]
         },
         "layout": {
          "annotationdefaults": {
           "arrowcolor": "#2a3f5f",
           "arrowhead": 0,
           "arrowwidth": 1
          },
          "autotypenumbers": "strict",
          "coloraxis": {
           "colorbar": {
            "outlinewidth": 0,
            "ticks": ""
           }
          },
          "colorscale": {
           "diverging": [
            [
             0,
             "#8e0152"
            ],
            [
             0.1,
             "#c51b7d"
            ],
            [
             0.2,
             "#de77ae"
            ],
            [
             0.3,
             "#f1b6da"
            ],
            [
             0.4,
             "#fde0ef"
            ],
            [
             0.5,
             "#f7f7f7"
            ],
            [
             0.6,
             "#e6f5d0"
            ],
            [
             0.7,
             "#b8e186"
            ],
            [
             0.8,
             "#7fbc41"
            ],
            [
             0.9,
             "#4d9221"
            ],
            [
             1,
             "#276419"
            ]
           ],
           "sequential": [
            [
             0,
             "#0d0887"
            ],
            [
             0.1111111111111111,
             "#46039f"
            ],
            [
             0.2222222222222222,
             "#7201a8"
            ],
            [
             0.3333333333333333,
             "#9c179e"
            ],
            [
             0.4444444444444444,
             "#bd3786"
            ],
            [
             0.5555555555555556,
             "#d8576b"
            ],
            [
             0.6666666666666666,
             "#ed7953"
            ],
            [
             0.7777777777777778,
             "#fb9f3a"
            ],
            [
             0.8888888888888888,
             "#fdca26"
            ],
            [
             1,
             "#f0f921"
            ]
           ],
           "sequentialminus": [
            [
             0,
             "#0d0887"
            ],
            [
             0.1111111111111111,
             "#46039f"
            ],
            [
             0.2222222222222222,
             "#7201a8"
            ],
            [
             0.3333333333333333,
             "#9c179e"
            ],
            [
             0.4444444444444444,
             "#bd3786"
            ],
            [
             0.5555555555555556,
             "#d8576b"
            ],
            [
             0.6666666666666666,
             "#ed7953"
            ],
            [
             0.7777777777777778,
             "#fb9f3a"
            ],
            [
             0.8888888888888888,
             "#fdca26"
            ],
            [
             1,
             "#f0f921"
            ]
           ]
          },
          "colorway": [
           "#636efa",
           "#EF553B",
           "#00cc96",
           "#ab63fa",
           "#FFA15A",
           "#19d3f3",
           "#FF6692",
           "#B6E880",
           "#FF97FF",
           "#FECB52"
          ],
          "font": {
           "color": "#2a3f5f"
          },
          "geo": {
           "bgcolor": "white",
           "lakecolor": "white",
           "landcolor": "#E5ECF6",
           "showlakes": true,
           "showland": true,
           "subunitcolor": "white"
          },
          "hoverlabel": {
           "align": "left"
          },
          "hovermode": "closest",
          "mapbox": {
           "style": "light"
          },
          "paper_bgcolor": "white",
          "plot_bgcolor": "#E5ECF6",
          "polar": {
           "angularaxis": {
            "gridcolor": "white",
            "linecolor": "white",
            "ticks": ""
           },
           "bgcolor": "#E5ECF6",
           "radialaxis": {
            "gridcolor": "white",
            "linecolor": "white",
            "ticks": ""
           }
          },
          "scene": {
           "xaxis": {
            "backgroundcolor": "#E5ECF6",
            "gridcolor": "white",
            "gridwidth": 2,
            "linecolor": "white",
            "showbackground": true,
            "ticks": "",
            "zerolinecolor": "white"
           },
           "yaxis": {
            "backgroundcolor": "#E5ECF6",
            "gridcolor": "white",
            "gridwidth": 2,
            "linecolor": "white",
            "showbackground": true,
            "ticks": "",
            "zerolinecolor": "white"
           },
           "zaxis": {
            "backgroundcolor": "#E5ECF6",
            "gridcolor": "white",
            "gridwidth": 2,
            "linecolor": "white",
            "showbackground": true,
            "ticks": "",
            "zerolinecolor": "white"
           }
          },
          "shapedefaults": {
           "line": {
            "color": "#2a3f5f"
           }
          },
          "ternary": {
           "aaxis": {
            "gridcolor": "white",
            "linecolor": "white",
            "ticks": ""
           },
           "baxis": {
            "gridcolor": "white",
            "linecolor": "white",
            "ticks": ""
           },
           "bgcolor": "#E5ECF6",
           "caxis": {
            "gridcolor": "white",
            "linecolor": "white",
            "ticks": ""
           }
          },
          "title": {
           "x": 0.05
          },
          "xaxis": {
           "automargin": true,
           "gridcolor": "white",
           "linecolor": "white",
           "ticks": "",
           "title": {
            "standoff": 15
           },
           "zerolinecolor": "white",
           "zerolinewidth": 2
          },
          "yaxis": {
           "automargin": true,
           "gridcolor": "white",
           "linecolor": "white",
           "ticks": "",
           "title": {
            "standoff": 15
           },
           "zerolinecolor": "white",
           "zerolinewidth": 2
          }
         }
        }
       }
      },
      "text/html": [
       "<div>                            <div id=\"35cd1eb6-4bbe-4952-970a-a873f704ebbd\" class=\"plotly-graph-div\" style=\"height:525px; width:100%;\"></div>            <script type=\"text/javascript\">                require([\"plotly\"], function(Plotly) {                    window.PLOTLYENV=window.PLOTLYENV || {};                                    if (document.getElementById(\"35cd1eb6-4bbe-4952-970a-a873f704ebbd\")) {                    Plotly.newPlot(                        \"35cd1eb6-4bbe-4952-970a-a873f704ebbd\",                        [{\"line\":{\"color\":\"silver\",\"width\":0},\"marker\":{\"size\":1},\"name\":\"leveling\",\"r\":[1,1,1,1,1,1,1,1,1,1,1,1],\"showlegend\":false,\"theta\":[\"Atoms\",\"MW\",\"fSP3\",\"HBA\",\"HBD\",\"Stereo Atoms\",\"Rings\",\"Rotatable Bonds\",\"QED\",\"logD\",\"TPSA\",\"Atoms\",\"Atoms\"],\"type\":\"scatterpolar\"},{\"line\":{\"color\":\"green\",\"width\":2},\"marker\":{\"size\":1},\"name\":\"DEL2 Library\",\"r\":[0.16656445266628966,0.16698522876846242,0.15335544598544854,0.1260628662197918,0.10850540151015825,0.03305787196237301,0.0010220197217084986,0.1194904857024104,0.04005039606087427,0.21667477802003848,0.12468700891588404,0.16656445266628966,0.16656445266628966],\"showlegend\":false,\"theta\":[\"Atoms\",\"MW\",\"fSP3\",\"HBA\",\"HBD\",\"Stereo Atoms\",\"Rings\",\"Rotatable Bonds\",\"QED\",\"logD\",\"TPSA\",\"Atoms\",\"Atoms\"],\"type\":\"scatterpolar\"},{\"fill\":\"tonext\",\"line\":{\"color\":\"green\",\"width\":2},\"marker\":{\"size\":1},\"name\":\"Zafrens Library 2\",\"r\":[0.38962655178781114,0.3754008126954943,0.8046372501099088,0.3446793975127043,0.35623139648180424,0.16834051966668706,0.38738846607771105,0.4214525180226427,0.6869118266433494,0.4658894571096466,0.33947126575151826,0.38962655178781114,0.38962655178781114],\"theta\":[\"Atoms\",\"MW\",\"fSP3\",\"HBA\",\"HBD\",\"Stereo Atoms\",\"Rings\",\"Rotatable Bonds\",\"QED\",\"logD\",\"TPSA\",\"Atoms\",\"Atoms\"],\"type\":\"scatterpolar\"},{\"line\":{\"color\":\"yellow\",\"width\":2},\"marker\":{\"size\":1},\"name\":\"DEL1 Library\",\"r\":[0.22664028276598666,0.23084255856817695,0.15303252713681548,0.1084849109720123,0.044498307565741246,0,0.14599350888685783,0.19003823633765612,0.035769143574164365,0.3796084047877229,0.08191860852814083,0.22664028276598666,0.22664028276598666],\"showlegend\":false,\"theta\":[\"Atoms\",\"MW\",\"fSP3\",\"HBA\",\"HBD\",\"Stereo Atoms\",\"Rings\",\"Rotatable Bonds\",\"QED\",\"logD\",\"TPSA\",\"Atoms\",\"Atoms\"],\"type\":\"scatterpolar\"},{\"fill\":\"tonext\",\"line\":{\"color\":\"yellow\",\"width\":2},\"marker\":{\"size\":1},\"name\":\"Zafrens Library 1\",\"r\":[0.5627935068434736,0.542131324239524,0.5296455597778855,0.35497039365303146,0.18037729554104318,0.09594632330519191,0.7209073265123483,0.4461040606429907,0.4726001745126241,0.6435031244988436,0.2613924487425168,0.5627935068434736,0.5627935068434736],\"theta\":[\"Atoms\",\"MW\",\"fSP3\",\"HBA\",\"HBD\",\"Stereo Atoms\",\"Rings\",\"Rotatable Bonds\",\"QED\",\"logD\",\"TPSA\",\"Atoms\",\"Atoms\"],\"type\":\"scatterpolar\"}],                        {\"template\":{\"data\":{\"bar\":[{\"error_x\":{\"color\":\"#2a3f5f\"},\"error_y\":{\"color\":\"#2a3f5f\"},\"marker\":{\"line\":{\"color\":\"#E5ECF6\",\"width\":0.5},\"pattern\":{\"fillmode\":\"overlay\",\"size\":10,\"solidity\":0.2}},\"type\":\"bar\"}],\"barpolar\":[{\"marker\":{\"line\":{\"color\":\"#E5ECF6\",\"width\":0.5},\"pattern\":{\"fillmode\":\"overlay\",\"size\":10,\"solidity\":0.2}},\"type\":\"barpolar\"}],\"carpet\":[{\"aaxis\":{\"endlinecolor\":\"#2a3f5f\",\"gridcolor\":\"white\",\"linecolor\":\"white\",\"minorgridcolor\":\"white\",\"startlinecolor\":\"#2a3f5f\"},\"baxis\":{\"endlinecolor\":\"#2a3f5f\",\"gridcolor\":\"white\",\"linecolor\":\"white\",\"minorgridcolor\":\"white\",\"startlinecolor\":\"#2a3f5f\"},\"type\":\"carpet\"}],\"choropleth\":[{\"colorbar\":{\"outlinewidth\":0,\"ticks\":\"\"},\"type\":\"choropleth\"}],\"contour\":[{\"colorbar\":{\"outlinewidth\":0,\"ticks\":\"\"},\"colorscale\":[[0.0,\"#0d0887\"],[0.1111111111111111,\"#46039f\"],[0.2222222222222222,\"#7201a8\"],[0.3333333333333333,\"#9c179e\"],[0.4444444444444444,\"#bd3786\"],[0.5555555555555556,\"#d8576b\"],[0.6666666666666666,\"#ed7953\"],[0.7777777777777778,\"#fb9f3a\"],[0.8888888888888888,\"#fdca26\"],[1.0,\"#f0f921\"]],\"type\":\"contour\"}],\"contourcarpet\":[{\"colorbar\":{\"outlinewidth\":0,\"ticks\":\"\"},\"type\":\"contourcarpet\"}],\"heatmap\":[{\"colorbar\":{\"outlinewidth\":0,\"ticks\":\"\"},\"colorscale\":[[0.0,\"#0d0887\"],[0.1111111111111111,\"#46039f\"],[0.2222222222222222,\"#7201a8\"],[0.3333333333333333,\"#9c179e\"],[0.4444444444444444,\"#bd3786\"],[0.5555555555555556,\"#d8576b\"],[0.6666666666666666,\"#ed7953\"],[0.7777777777777778,\"#fb9f3a\"],[0.8888888888888888,\"#fdca26\"],[1.0,\"#f0f921\"]],\"type\":\"heatmap\"}],\"heatmapgl\":[{\"colorbar\":{\"outlinewidth\":0,\"ticks\":\"\"},\"colorscale\":[[0.0,\"#0d0887\"],[0.1111111111111111,\"#46039f\"],[0.2222222222222222,\"#7201a8\"],[0.3333333333333333,\"#9c179e\"],[0.4444444444444444,\"#bd3786\"],[0.5555555555555556,\"#d8576b\"],[0.6666666666666666,\"#ed7953\"],[0.7777777777777778,\"#fb9f3a\"],[0.8888888888888888,\"#fdca26\"],[1.0,\"#f0f921\"]],\"type\":\"heatmapgl\"}],\"histogram\":[{\"marker\":{\"pattern\":{\"fillmode\":\"overlay\",\"size\":10,\"solidity\":0.2}},\"type\":\"histogram\"}],\"histogram2d\":[{\"colorbar\":{\"outlinewidth\":0,\"ticks\":\"\"},\"colorscale\":[[0.0,\"#0d0887\"],[0.1111111111111111,\"#46039f\"],[0.2222222222222222,\"#7201a8\"],[0.3333333333333333,\"#9c179e\"],[0.4444444444444444,\"#bd3786\"],[0.5555555555555556,\"#d8576b\"],[0.6666666666666666,\"#ed7953\"],[0.7777777777777778,\"#fb9f3a\"],[0.8888888888888888,\"#fdca26\"],[1.0,\"#f0f921\"]],\"type\":\"histogram2d\"}],\"histogram2dcontour\":[{\"colorbar\":{\"outlinewidth\":0,\"ticks\":\"\"},\"colorscale\":[[0.0,\"#0d0887\"],[0.1111111111111111,\"#46039f\"],[0.2222222222222222,\"#7201a8\"],[0.3333333333333333,\"#9c179e\"],[0.4444444444444444,\"#bd3786\"],[0.5555555555555556,\"#d8576b\"],[0.6666666666666666,\"#ed7953\"],[0.7777777777777778,\"#fb9f3a\"],[0.8888888888888888,\"#fdca26\"],[1.0,\"#f0f921\"]],\"type\":\"histogram2dcontour\"}],\"mesh3d\":[{\"colorbar\":{\"outlinewidth\":0,\"ticks\":\"\"},\"type\":\"mesh3d\"}],\"parcoords\":[{\"line\":{\"colorbar\":{\"outlinewidth\":0,\"ticks\":\"\"}},\"type\":\"parcoords\"}],\"pie\":[{\"automargin\":true,\"type\":\"pie\"}],\"scatter\":[{\"marker\":{\"colorbar\":{\"outlinewidth\":0,\"ticks\":\"\"}},\"type\":\"scatter\"}],\"scatter3d\":[{\"line\":{\"colorbar\":{\"outlinewidth\":0,\"ticks\":\"\"}},\"marker\":{\"colorbar\":{\"outlinewidth\":0,\"ticks\":\"\"}},\"type\":\"scatter3d\"}],\"scattercarpet\":[{\"marker\":{\"colorbar\":{\"outlinewidth\":0,\"ticks\":\"\"}},\"type\":\"scattercarpet\"}],\"scattergeo\":[{\"marker\":{\"colorbar\":{\"outlinewidth\":0,\"ticks\":\"\"}},\"type\":\"scattergeo\"}],\"scattergl\":[{\"marker\":{\"colorbar\":{\"outlinewidth\":0,\"ticks\":\"\"}},\"type\":\"scattergl\"}],\"scattermapbox\":[{\"marker\":{\"colorbar\":{\"outlinewidth\":0,\"ticks\":\"\"}},\"type\":\"scattermapbox\"}],\"scatterpolar\":[{\"marker\":{\"colorbar\":{\"outlinewidth\":0,\"ticks\":\"\"}},\"type\":\"scatterpolar\"}],\"scatterpolargl\":[{\"marker\":{\"colorbar\":{\"outlinewidth\":0,\"ticks\":\"\"}},\"type\":\"scatterpolargl\"}],\"scatterternary\":[{\"marker\":{\"colorbar\":{\"outlinewidth\":0,\"ticks\":\"\"}},\"type\":\"scatterternary\"}],\"surface\":[{\"colorbar\":{\"outlinewidth\":0,\"ticks\":\"\"},\"colorscale\":[[0.0,\"#0d0887\"],[0.1111111111111111,\"#46039f\"],[0.2222222222222222,\"#7201a8\"],[0.3333333333333333,\"#9c179e\"],[0.4444444444444444,\"#bd3786\"],[0.5555555555555556,\"#d8576b\"],[0.6666666666666666,\"#ed7953\"],[0.7777777777777778,\"#fb9f3a\"],[0.8888888888888888,\"#fdca26\"],[1.0,\"#f0f921\"]],\"type\":\"surface\"}],\"table\":[{\"cells\":{\"fill\":{\"color\":\"#EBF0F8\"},\"line\":{\"color\":\"white\"}},\"header\":{\"fill\":{\"color\":\"#C8D4E3\"},\"line\":{\"color\":\"white\"}},\"type\":\"table\"}]},\"layout\":{\"annotationdefaults\":{\"arrowcolor\":\"#2a3f5f\",\"arrowhead\":0,\"arrowwidth\":1},\"autotypenumbers\":\"strict\",\"coloraxis\":{\"colorbar\":{\"outlinewidth\":0,\"ticks\":\"\"}},\"colorscale\":{\"diverging\":[[0,\"#8e0152\"],[0.1,\"#c51b7d\"],[0.2,\"#de77ae\"],[0.3,\"#f1b6da\"],[0.4,\"#fde0ef\"],[0.5,\"#f7f7f7\"],[0.6,\"#e6f5d0\"],[0.7,\"#b8e186\"],[0.8,\"#7fbc41\"],[0.9,\"#4d9221\"],[1,\"#276419\"]],\"sequential\":[[0.0,\"#0d0887\"],[0.1111111111111111,\"#46039f\"],[0.2222222222222222,\"#7201a8\"],[0.3333333333333333,\"#9c179e\"],[0.4444444444444444,\"#bd3786\"],[0.5555555555555556,\"#d8576b\"],[0.6666666666666666,\"#ed7953\"],[0.7777777777777778,\"#fb9f3a\"],[0.8888888888888888,\"#fdca26\"],[1.0,\"#f0f921\"]],\"sequentialminus\":[[0.0,\"#0d0887\"],[0.1111111111111111,\"#46039f\"],[0.2222222222222222,\"#7201a8\"],[0.3333333333333333,\"#9c179e\"],[0.4444444444444444,\"#bd3786\"],[0.5555555555555556,\"#d8576b\"],[0.6666666666666666,\"#ed7953\"],[0.7777777777777778,\"#fb9f3a\"],[0.8888888888888888,\"#fdca26\"],[1.0,\"#f0f921\"]]},\"colorway\":[\"#636efa\",\"#EF553B\",\"#00cc96\",\"#ab63fa\",\"#FFA15A\",\"#19d3f3\",\"#FF6692\",\"#B6E880\",\"#FF97FF\",\"#FECB52\"],\"font\":{\"color\":\"#2a3f5f\"},\"geo\":{\"bgcolor\":\"white\",\"lakecolor\":\"white\",\"landcolor\":\"#E5ECF6\",\"showlakes\":true,\"showland\":true,\"subunitcolor\":\"white\"},\"hoverlabel\":{\"align\":\"left\"},\"hovermode\":\"closest\",\"mapbox\":{\"style\":\"light\"},\"paper_bgcolor\":\"white\",\"plot_bgcolor\":\"#E5ECF6\",\"polar\":{\"angularaxis\":{\"gridcolor\":\"white\",\"linecolor\":\"white\",\"ticks\":\"\"},\"bgcolor\":\"#E5ECF6\",\"radialaxis\":{\"gridcolor\":\"white\",\"linecolor\":\"white\",\"ticks\":\"\"}},\"scene\":{\"xaxis\":{\"backgroundcolor\":\"#E5ECF6\",\"gridcolor\":\"white\",\"gridwidth\":2,\"linecolor\":\"white\",\"showbackground\":true,\"ticks\":\"\",\"zerolinecolor\":\"white\"},\"yaxis\":{\"backgroundcolor\":\"#E5ECF6\",\"gridcolor\":\"white\",\"gridwidth\":2,\"linecolor\":\"white\",\"showbackground\":true,\"ticks\":\"\",\"zerolinecolor\":\"white\"},\"zaxis\":{\"backgroundcolor\":\"#E5ECF6\",\"gridcolor\":\"white\",\"gridwidth\":2,\"linecolor\":\"white\",\"showbackground\":true,\"ticks\":\"\",\"zerolinecolor\":\"white\"}},\"shapedefaults\":{\"line\":{\"color\":\"#2a3f5f\"}},\"ternary\":{\"aaxis\":{\"gridcolor\":\"white\",\"linecolor\":\"white\",\"ticks\":\"\"},\"baxis\":{\"gridcolor\":\"white\",\"linecolor\":\"white\",\"ticks\":\"\"},\"bgcolor\":\"#E5ECF6\",\"caxis\":{\"gridcolor\":\"white\",\"linecolor\":\"white\",\"ticks\":\"\"}},\"title\":{\"x\":0.05},\"xaxis\":{\"automargin\":true,\"gridcolor\":\"white\",\"linecolor\":\"white\",\"ticks\":\"\",\"title\":{\"standoff\":15},\"zerolinecolor\":\"white\",\"zerolinewidth\":2},\"yaxis\":{\"automargin\":true,\"gridcolor\":\"white\",\"linecolor\":\"white\",\"ticks\":\"\",\"title\":{\"standoff\":15},\"zerolinecolor\":\"white\",\"zerolinewidth\":2}}},\"polar\":{\"radialaxis\":{\"visible\":true}},\"showlegend\":true},                        {\"responsive\": true}                    ).then(function(){\n",
       "                            \n",
       "var gd = document.getElementById('35cd1eb6-4bbe-4952-970a-a873f704ebbd');\n",
       "var x = new MutationObserver(function (mutations, observer) {{\n",
       "        var display = window.getComputedStyle(gd).display;\n",
       "        if (!display || display === 'none') {{\n",
       "            console.log([gd, 'removed!']);\n",
       "            Plotly.purge(gd);\n",
       "            observer.disconnect();\n",
       "        }}\n",
       "}});\n",
       "\n",
       "// Listen for the removal of the full notebook cells\n",
       "var notebookContainer = gd.closest('#notebook-container');\n",
       "if (notebookContainer) {{\n",
       "    x.observe(notebookContainer, {childList: true});\n",
       "}}\n",
       "\n",
       "// Listen for the clearing of the current output cell\n",
       "var outputEl = gd.closest('.output');\n",
       "if (outputEl) {{\n",
       "    x.observe(outputEl, {childList: true});\n",
       "}}\n",
       "\n",
       "                        })                };                });            </script>        </div>"
      ]
     },
     "metadata": {},
     "output_type": "display_data"
    },
    {
     "data": {
      "application/vnd.plotly.v1+json": {
       "config": {
        "plotlyServerURL": "https://plot.ly"
       },
       "data": [
        {
         "line": {
          "color": "silver",
          "width": 0
         },
         "marker": {
          "size": 1
         },
         "name": "leveling",
         "r": [
          1,
          1,
          1,
          1,
          1,
          1,
          1,
          1,
          1,
          1,
          1,
          1
         ],
         "showlegend": false,
         "theta": [
          "Atoms",
          "MW",
          "fSP3",
          "HBA",
          "HBD",
          "Stereo Atoms",
          "Rings",
          "Rotatable Bonds",
          "QED",
          "logD",
          "TPSA",
          "Atoms",
          "Atoms"
         ],
         "type": "scatterpolar"
        },
        {
         "line": {
          "color": "blue",
          "width": 2
         },
         "marker": {
          "size": 1
         },
         "name": "Zafrens Collection",
         "r": [
          0.07237075839223701,
          0.06537336411969012,
          0,
          0.03773956569451749,
          0,
          0,
          0.02185328697662867,
          0,
          0.020540996926076065,
          0.20907222667799344,
          0.01119531387622936,
          0.07237075839223701,
          0.07237075839223701
         ],
         "showlegend": false,
         "theta": [
          "Atoms",
          "MW",
          "fSP3",
          "HBA",
          "HBD",
          "Stereo Atoms",
          "Rings",
          "Rotatable Bonds",
          "QED",
          "logD",
          "TPSA",
          "Atoms",
          "Atoms"
         ],
         "type": "scatterpolar"
        },
        {
         "fill": "tonext",
         "line": {
          "color": "blue",
          "width": 2
         },
         "marker": {
          "size": 1
         },
         "name": "Zafrens Collection",
         "r": [
          0.4020048197761256,
          0.4115038666238346,
          0.7960744011186363,
          0.26211199293982196,
          0.2863880189704654,
          0.25082715267955247,
          0.5051516230070047,
          0.4207494002117344,
          1.0545652482364816,
          0.7190229305126309,
          0.2536101381112572,
          0.4020048197761256,
          0.4020048197761256
         ],
         "theta": [
          "Atoms",
          "MW",
          "fSP3",
          "HBA",
          "HBD",
          "Stereo Atoms",
          "Rings",
          "Rotatable Bonds",
          "QED",
          "logD",
          "TPSA",
          "Atoms",
          "Atoms"
         ],
         "type": "scatterpolar"
        },
        {
         "line": {
          "color": "red"
         },
         "marker": {
          "size": 1
         },
         "name": "Druglikeness (lower)",
         "opacity": 0.25,
         "r": [
          0.2608695652173913,
          0.09618318943226623,
          0,
          0,
          0,
          0,
          0,
          0.17142857142857143,
          0.4238583786535618,
          0.33254452469606643,
          0,
          0.2608695652173913,
          0.2608695652173913
         ],
         "showlegend": false,
         "theta": [
          "Atoms",
          "MW",
          "fSP3",
          "HBA",
          "HBD",
          "Stereo Atoms",
          "Rings",
          "Rotatable Bonds",
          "QED",
          "logD",
          "TPSA",
          "Atoms",
          "Atoms"
         ],
         "type": "scatterpolar"
        },
        {
         "fill": "tonext",
         "fillcolor": "red",
         "line": {
          "color": "red"
         },
         "marker": {
          "size": 1
         },
         "name": "Druglikeness",
         "opacity": 0.5,
         "r": [
          0.4782608695652174,
          0.30057246697583195,
          0.5,
          0.23255813953488372,
          0.2,
          0.03333333333333333,
          0.23076923076923078,
          0.2857142857142857,
          0.6357875679803426,
          0.5194660027215775,
          0.19942451782000514,
          0.4782608695652174,
          0.4782608695652174
         ],
         "theta": [
          "Atoms",
          "MW",
          "fSP3",
          "HBA",
          "HBD",
          "Stereo Atoms",
          "Rings",
          "Rotatable Bonds",
          "QED",
          "logD",
          "TPSA",
          "Atoms",
          "Atoms"
         ],
         "type": "scatterpolar"
        }
       ],
       "layout": {
        "polar": {
         "radialaxis": {
          "visible": true
         }
        },
        "showlegend": true,
        "template": {
         "data": {
          "bar": [
           {
            "error_x": {
             "color": "#2a3f5f"
            },
            "error_y": {
             "color": "#2a3f5f"
            },
            "marker": {
             "line": {
              "color": "#E5ECF6",
              "width": 0.5
             },
             "pattern": {
              "fillmode": "overlay",
              "size": 10,
              "solidity": 0.2
             }
            },
            "type": "bar"
           }
          ],
          "barpolar": [
           {
            "marker": {
             "line": {
              "color": "#E5ECF6",
              "width": 0.5
             },
             "pattern": {
              "fillmode": "overlay",
              "size": 10,
              "solidity": 0.2
             }
            },
            "type": "barpolar"
           }
          ],
          "carpet": [
           {
            "aaxis": {
             "endlinecolor": "#2a3f5f",
             "gridcolor": "white",
             "linecolor": "white",
             "minorgridcolor": "white",
             "startlinecolor": "#2a3f5f"
            },
            "baxis": {
             "endlinecolor": "#2a3f5f",
             "gridcolor": "white",
             "linecolor": "white",
             "minorgridcolor": "white",
             "startlinecolor": "#2a3f5f"
            },
            "type": "carpet"
           }
          ],
          "choropleth": [
           {
            "colorbar": {
             "outlinewidth": 0,
             "ticks": ""
            },
            "type": "choropleth"
           }
          ],
          "contour": [
           {
            "colorbar": {
             "outlinewidth": 0,
             "ticks": ""
            },
            "colorscale": [
             [
              0,
              "#0d0887"
             ],
             [
              0.1111111111111111,
              "#46039f"
             ],
             [
              0.2222222222222222,
              "#7201a8"
             ],
             [
              0.3333333333333333,
              "#9c179e"
             ],
             [
              0.4444444444444444,
              "#bd3786"
             ],
             [
              0.5555555555555556,
              "#d8576b"
             ],
             [
              0.6666666666666666,
              "#ed7953"
             ],
             [
              0.7777777777777778,
              "#fb9f3a"
             ],
             [
              0.8888888888888888,
              "#fdca26"
             ],
             [
              1,
              "#f0f921"
             ]
            ],
            "type": "contour"
           }
          ],
          "contourcarpet": [
           {
            "colorbar": {
             "outlinewidth": 0,
             "ticks": ""
            },
            "type": "contourcarpet"
           }
          ],
          "heatmap": [
           {
            "colorbar": {
             "outlinewidth": 0,
             "ticks": ""
            },
            "colorscale": [
             [
              0,
              "#0d0887"
             ],
             [
              0.1111111111111111,
              "#46039f"
             ],
             [
              0.2222222222222222,
              "#7201a8"
             ],
             [
              0.3333333333333333,
              "#9c179e"
             ],
             [
              0.4444444444444444,
              "#bd3786"
             ],
             [
              0.5555555555555556,
              "#d8576b"
             ],
             [
              0.6666666666666666,
              "#ed7953"
             ],
             [
              0.7777777777777778,
              "#fb9f3a"
             ],
             [
              0.8888888888888888,
              "#fdca26"
             ],
             [
              1,
              "#f0f921"
             ]
            ],
            "type": "heatmap"
           }
          ],
          "heatmapgl": [
           {
            "colorbar": {
             "outlinewidth": 0,
             "ticks": ""
            },
            "colorscale": [
             [
              0,
              "#0d0887"
             ],
             [
              0.1111111111111111,
              "#46039f"
             ],
             [
              0.2222222222222222,
              "#7201a8"
             ],
             [
              0.3333333333333333,
              "#9c179e"
             ],
             [
              0.4444444444444444,
              "#bd3786"
             ],
             [
              0.5555555555555556,
              "#d8576b"
             ],
             [
              0.6666666666666666,
              "#ed7953"
             ],
             [
              0.7777777777777778,
              "#fb9f3a"
             ],
             [
              0.8888888888888888,
              "#fdca26"
             ],
             [
              1,
              "#f0f921"
             ]
            ],
            "type": "heatmapgl"
           }
          ],
          "histogram": [
           {
            "marker": {
             "pattern": {
              "fillmode": "overlay",
              "size": 10,
              "solidity": 0.2
             }
            },
            "type": "histogram"
           }
          ],
          "histogram2d": [
           {
            "colorbar": {
             "outlinewidth": 0,
             "ticks": ""
            },
            "colorscale": [
             [
              0,
              "#0d0887"
             ],
             [
              0.1111111111111111,
              "#46039f"
             ],
             [
              0.2222222222222222,
              "#7201a8"
             ],
             [
              0.3333333333333333,
              "#9c179e"
             ],
             [
              0.4444444444444444,
              "#bd3786"
             ],
             [
              0.5555555555555556,
              "#d8576b"
             ],
             [
              0.6666666666666666,
              "#ed7953"
             ],
             [
              0.7777777777777778,
              "#fb9f3a"
             ],
             [
              0.8888888888888888,
              "#fdca26"
             ],
             [
              1,
              "#f0f921"
             ]
            ],
            "type": "histogram2d"
           }
          ],
          "histogram2dcontour": [
           {
            "colorbar": {
             "outlinewidth": 0,
             "ticks": ""
            },
            "colorscale": [
             [
              0,
              "#0d0887"
             ],
             [
              0.1111111111111111,
              "#46039f"
             ],
             [
              0.2222222222222222,
              "#7201a8"
             ],
             [
              0.3333333333333333,
              "#9c179e"
             ],
             [
              0.4444444444444444,
              "#bd3786"
             ],
             [
              0.5555555555555556,
              "#d8576b"
             ],
             [
              0.6666666666666666,
              "#ed7953"
             ],
             [
              0.7777777777777778,
              "#fb9f3a"
             ],
             [
              0.8888888888888888,
              "#fdca26"
             ],
             [
              1,
              "#f0f921"
             ]
            ],
            "type": "histogram2dcontour"
           }
          ],
          "mesh3d": [
           {
            "colorbar": {
             "outlinewidth": 0,
             "ticks": ""
            },
            "type": "mesh3d"
           }
          ],
          "parcoords": [
           {
            "line": {
             "colorbar": {
              "outlinewidth": 0,
              "ticks": ""
             }
            },
            "type": "parcoords"
           }
          ],
          "pie": [
           {
            "automargin": true,
            "type": "pie"
           }
          ],
          "scatter": [
           {
            "marker": {
             "colorbar": {
              "outlinewidth": 0,
              "ticks": ""
             }
            },
            "type": "scatter"
           }
          ],
          "scatter3d": [
           {
            "line": {
             "colorbar": {
              "outlinewidth": 0,
              "ticks": ""
             }
            },
            "marker": {
             "colorbar": {
              "outlinewidth": 0,
              "ticks": ""
             }
            },
            "type": "scatter3d"
           }
          ],
          "scattercarpet": [
           {
            "marker": {
             "colorbar": {
              "outlinewidth": 0,
              "ticks": ""
             }
            },
            "type": "scattercarpet"
           }
          ],
          "scattergeo": [
           {
            "marker": {
             "colorbar": {
              "outlinewidth": 0,
              "ticks": ""
             }
            },
            "type": "scattergeo"
           }
          ],
          "scattergl": [
           {
            "marker": {
             "colorbar": {
              "outlinewidth": 0,
              "ticks": ""
             }
            },
            "type": "scattergl"
           }
          ],
          "scattermapbox": [
           {
            "marker": {
             "colorbar": {
              "outlinewidth": 0,
              "ticks": ""
             }
            },
            "type": "scattermapbox"
           }
          ],
          "scatterpolar": [
           {
            "marker": {
             "colorbar": {
              "outlinewidth": 0,
              "ticks": ""
             }
            },
            "type": "scatterpolar"
           }
          ],
          "scatterpolargl": [
           {
            "marker": {
             "colorbar": {
              "outlinewidth": 0,
              "ticks": ""
             }
            },
            "type": "scatterpolargl"
           }
          ],
          "scatterternary": [
           {
            "marker": {
             "colorbar": {
              "outlinewidth": 0,
              "ticks": ""
             }
            },
            "type": "scatterternary"
           }
          ],
          "surface": [
           {
            "colorbar": {
             "outlinewidth": 0,
             "ticks": ""
            },
            "colorscale": [
             [
              0,
              "#0d0887"
             ],
             [
              0.1111111111111111,
              "#46039f"
             ],
             [
              0.2222222222222222,
              "#7201a8"
             ],
             [
              0.3333333333333333,
              "#9c179e"
             ],
             [
              0.4444444444444444,
              "#bd3786"
             ],
             [
              0.5555555555555556,
              "#d8576b"
             ],
             [
              0.6666666666666666,
              "#ed7953"
             ],
             [
              0.7777777777777778,
              "#fb9f3a"
             ],
             [
              0.8888888888888888,
              "#fdca26"
             ],
             [
              1,
              "#f0f921"
             ]
            ],
            "type": "surface"
           }
          ],
          "table": [
           {
            "cells": {
             "fill": {
              "color": "#EBF0F8"
             },
             "line": {
              "color": "white"
             }
            },
            "header": {
             "fill": {
              "color": "#C8D4E3"
             },
             "line": {
              "color": "white"
             }
            },
            "type": "table"
           }
          ]
         },
         "layout": {
          "annotationdefaults": {
           "arrowcolor": "#2a3f5f",
           "arrowhead": 0,
           "arrowwidth": 1
          },
          "autotypenumbers": "strict",
          "coloraxis": {
           "colorbar": {
            "outlinewidth": 0,
            "ticks": ""
           }
          },
          "colorscale": {
           "diverging": [
            [
             0,
             "#8e0152"
            ],
            [
             0.1,
             "#c51b7d"
            ],
            [
             0.2,
             "#de77ae"
            ],
            [
             0.3,
             "#f1b6da"
            ],
            [
             0.4,
             "#fde0ef"
            ],
            [
             0.5,
             "#f7f7f7"
            ],
            [
             0.6,
             "#e6f5d0"
            ],
            [
             0.7,
             "#b8e186"
            ],
            [
             0.8,
             "#7fbc41"
            ],
            [
             0.9,
             "#4d9221"
            ],
            [
             1,
             "#276419"
            ]
           ],
           "sequential": [
            [
             0,
             "#0d0887"
            ],
            [
             0.1111111111111111,
             "#46039f"
            ],
            [
             0.2222222222222222,
             "#7201a8"
            ],
            [
             0.3333333333333333,
             "#9c179e"
            ],
            [
             0.4444444444444444,
             "#bd3786"
            ],
            [
             0.5555555555555556,
             "#d8576b"
            ],
            [
             0.6666666666666666,
             "#ed7953"
            ],
            [
             0.7777777777777778,
             "#fb9f3a"
            ],
            [
             0.8888888888888888,
             "#fdca26"
            ],
            [
             1,
             "#f0f921"
            ]
           ],
           "sequentialminus": [
            [
             0,
             "#0d0887"
            ],
            [
             0.1111111111111111,
             "#46039f"
            ],
            [
             0.2222222222222222,
             "#7201a8"
            ],
            [
             0.3333333333333333,
             "#9c179e"
            ],
            [
             0.4444444444444444,
             "#bd3786"
            ],
            [
             0.5555555555555556,
             "#d8576b"
            ],
            [
             0.6666666666666666,
             "#ed7953"
            ],
            [
             0.7777777777777778,
             "#fb9f3a"
            ],
            [
             0.8888888888888888,
             "#fdca26"
            ],
            [
             1,
             "#f0f921"
            ]
           ]
          },
          "colorway": [
           "#636efa",
           "#EF553B",
           "#00cc96",
           "#ab63fa",
           "#FFA15A",
           "#19d3f3",
           "#FF6692",
           "#B6E880",
           "#FF97FF",
           "#FECB52"
          ],
          "font": {
           "color": "#2a3f5f"
          },
          "geo": {
           "bgcolor": "white",
           "lakecolor": "white",
           "landcolor": "#E5ECF6",
           "showlakes": true,
           "showland": true,
           "subunitcolor": "white"
          },
          "hoverlabel": {
           "align": "left"
          },
          "hovermode": "closest",
          "mapbox": {
           "style": "light"
          },
          "paper_bgcolor": "white",
          "plot_bgcolor": "#E5ECF6",
          "polar": {
           "angularaxis": {
            "gridcolor": "white",
            "linecolor": "white",
            "ticks": ""
           },
           "bgcolor": "#E5ECF6",
           "radialaxis": {
            "gridcolor": "white",
            "linecolor": "white",
            "ticks": ""
           }
          },
          "scene": {
           "xaxis": {
            "backgroundcolor": "#E5ECF6",
            "gridcolor": "white",
            "gridwidth": 2,
            "linecolor": "white",
            "showbackground": true,
            "ticks": "",
            "zerolinecolor": "white"
           },
           "yaxis": {
            "backgroundcolor": "#E5ECF6",
            "gridcolor": "white",
            "gridwidth": 2,
            "linecolor": "white",
            "showbackground": true,
            "ticks": "",
            "zerolinecolor": "white"
           },
           "zaxis": {
            "backgroundcolor": "#E5ECF6",
            "gridcolor": "white",
            "gridwidth": 2,
            "linecolor": "white",
            "showbackground": true,
            "ticks": "",
            "zerolinecolor": "white"
           }
          },
          "shapedefaults": {
           "line": {
            "color": "#2a3f5f"
           }
          },
          "ternary": {
           "aaxis": {
            "gridcolor": "white",
            "linecolor": "white",
            "ticks": ""
           },
           "baxis": {
            "gridcolor": "white",
            "linecolor": "white",
            "ticks": ""
           },
           "bgcolor": "#E5ECF6",
           "caxis": {
            "gridcolor": "white",
            "linecolor": "white",
            "ticks": ""
           }
          },
          "title": {
           "x": 0.05
          },
          "xaxis": {
           "automargin": true,
           "gridcolor": "white",
           "linecolor": "white",
           "ticks": "",
           "title": {
            "standoff": 15
           },
           "zerolinecolor": "white",
           "zerolinewidth": 2
          },
          "yaxis": {
           "automargin": true,
           "gridcolor": "white",
           "linecolor": "white",
           "ticks": "",
           "title": {
            "standoff": 15
           },
           "zerolinecolor": "white",
           "zerolinewidth": 2
          }
         }
        }
       }
      },
      "text/html": [
       "<div>                            <div id=\"1b51af13-8e90-4928-952a-d4114ea1b6fd\" class=\"plotly-graph-div\" style=\"height:525px; width:100%;\"></div>            <script type=\"text/javascript\">                require([\"plotly\"], function(Plotly) {                    window.PLOTLYENV=window.PLOTLYENV || {};                                    if (document.getElementById(\"1b51af13-8e90-4928-952a-d4114ea1b6fd\")) {                    Plotly.newPlot(                        \"1b51af13-8e90-4928-952a-d4114ea1b6fd\",                        [{\"line\":{\"color\":\"silver\",\"width\":0},\"marker\":{\"size\":1},\"name\":\"leveling\",\"r\":[1,1,1,1,1,1,1,1,1,1,1,1],\"showlegend\":false,\"theta\":[\"Atoms\",\"MW\",\"fSP3\",\"HBA\",\"HBD\",\"Stereo Atoms\",\"Rings\",\"Rotatable Bonds\",\"QED\",\"logD\",\"TPSA\",\"Atoms\",\"Atoms\"],\"type\":\"scatterpolar\"},{\"line\":{\"color\":\"blue\",\"width\":2},\"marker\":{\"size\":1},\"name\":\"Zafrens Collection\",\"r\":[0.07237075839223701,0.06537336411969012,0,0.03773956569451749,0,0,0.02185328697662867,0,0.020540996926076065,0.20907222667799344,0.01119531387622936,0.07237075839223701,0.07237075839223701],\"showlegend\":false,\"theta\":[\"Atoms\",\"MW\",\"fSP3\",\"HBA\",\"HBD\",\"Stereo Atoms\",\"Rings\",\"Rotatable Bonds\",\"QED\",\"logD\",\"TPSA\",\"Atoms\",\"Atoms\"],\"type\":\"scatterpolar\"},{\"fill\":\"tonext\",\"line\":{\"color\":\"blue\",\"width\":2},\"marker\":{\"size\":1},\"name\":\"Zafrens Collection\",\"r\":[0.4020048197761256,0.4115038666238346,0.7960744011186363,0.26211199293982196,0.2863880189704654,0.25082715267955247,0.5051516230070047,0.4207494002117344,1.0545652482364816,0.7190229305126309,0.2536101381112572,0.4020048197761256,0.4020048197761256],\"theta\":[\"Atoms\",\"MW\",\"fSP3\",\"HBA\",\"HBD\",\"Stereo Atoms\",\"Rings\",\"Rotatable Bonds\",\"QED\",\"logD\",\"TPSA\",\"Atoms\",\"Atoms\"],\"type\":\"scatterpolar\"},{\"line\":{\"color\":\"red\"},\"marker\":{\"size\":1},\"name\":\"Druglikeness (lower)\",\"opacity\":0.25,\"r\":[0.2608695652173913,0.09618318943226623,0.0,0.0,0.0,0.0,0.0,0.17142857142857143,0.4238583786535618,0.33254452469606643,0.0,0.2608695652173913,0.2608695652173913],\"showlegend\":false,\"theta\":[\"Atoms\",\"MW\",\"fSP3\",\"HBA\",\"HBD\",\"Stereo Atoms\",\"Rings\",\"Rotatable Bonds\",\"QED\",\"logD\",\"TPSA\",\"Atoms\",\"Atoms\"],\"type\":\"scatterpolar\"},{\"fill\":\"tonext\",\"fillcolor\":\"red\",\"line\":{\"color\":\"red\"},\"marker\":{\"size\":1},\"name\":\"Druglikeness\",\"opacity\":0.5,\"r\":[0.4782608695652174,0.30057246697583195,0.5,0.23255813953488372,0.2,0.03333333333333333,0.23076923076923078,0.2857142857142857,0.6357875679803426,0.5194660027215775,0.19942451782000514,0.4782608695652174,0.4782608695652174],\"theta\":[\"Atoms\",\"MW\",\"fSP3\",\"HBA\",\"HBD\",\"Stereo Atoms\",\"Rings\",\"Rotatable Bonds\",\"QED\",\"logD\",\"TPSA\",\"Atoms\",\"Atoms\"],\"type\":\"scatterpolar\"}],                        {\"template\":{\"data\":{\"bar\":[{\"error_x\":{\"color\":\"#2a3f5f\"},\"error_y\":{\"color\":\"#2a3f5f\"},\"marker\":{\"line\":{\"color\":\"#E5ECF6\",\"width\":0.5},\"pattern\":{\"fillmode\":\"overlay\",\"size\":10,\"solidity\":0.2}},\"type\":\"bar\"}],\"barpolar\":[{\"marker\":{\"line\":{\"color\":\"#E5ECF6\",\"width\":0.5},\"pattern\":{\"fillmode\":\"overlay\",\"size\":10,\"solidity\":0.2}},\"type\":\"barpolar\"}],\"carpet\":[{\"aaxis\":{\"endlinecolor\":\"#2a3f5f\",\"gridcolor\":\"white\",\"linecolor\":\"white\",\"minorgridcolor\":\"white\",\"startlinecolor\":\"#2a3f5f\"},\"baxis\":{\"endlinecolor\":\"#2a3f5f\",\"gridcolor\":\"white\",\"linecolor\":\"white\",\"minorgridcolor\":\"white\",\"startlinecolor\":\"#2a3f5f\"},\"type\":\"carpet\"}],\"choropleth\":[{\"colorbar\":{\"outlinewidth\":0,\"ticks\":\"\"},\"type\":\"choropleth\"}],\"contour\":[{\"colorbar\":{\"outlinewidth\":0,\"ticks\":\"\"},\"colorscale\":[[0.0,\"#0d0887\"],[0.1111111111111111,\"#46039f\"],[0.2222222222222222,\"#7201a8\"],[0.3333333333333333,\"#9c179e\"],[0.4444444444444444,\"#bd3786\"],[0.5555555555555556,\"#d8576b\"],[0.6666666666666666,\"#ed7953\"],[0.7777777777777778,\"#fb9f3a\"],[0.8888888888888888,\"#fdca26\"],[1.0,\"#f0f921\"]],\"type\":\"contour\"}],\"contourcarpet\":[{\"colorbar\":{\"outlinewidth\":0,\"ticks\":\"\"},\"type\":\"contourcarpet\"}],\"heatmap\":[{\"colorbar\":{\"outlinewidth\":0,\"ticks\":\"\"},\"colorscale\":[[0.0,\"#0d0887\"],[0.1111111111111111,\"#46039f\"],[0.2222222222222222,\"#7201a8\"],[0.3333333333333333,\"#9c179e\"],[0.4444444444444444,\"#bd3786\"],[0.5555555555555556,\"#d8576b\"],[0.6666666666666666,\"#ed7953\"],[0.7777777777777778,\"#fb9f3a\"],[0.8888888888888888,\"#fdca26\"],[1.0,\"#f0f921\"]],\"type\":\"heatmap\"}],\"heatmapgl\":[{\"colorbar\":{\"outlinewidth\":0,\"ticks\":\"\"},\"colorscale\":[[0.0,\"#0d0887\"],[0.1111111111111111,\"#46039f\"],[0.2222222222222222,\"#7201a8\"],[0.3333333333333333,\"#9c179e\"],[0.4444444444444444,\"#bd3786\"],[0.5555555555555556,\"#d8576b\"],[0.6666666666666666,\"#ed7953\"],[0.7777777777777778,\"#fb9f3a\"],[0.8888888888888888,\"#fdca26\"],[1.0,\"#f0f921\"]],\"type\":\"heatmapgl\"}],\"histogram\":[{\"marker\":{\"pattern\":{\"fillmode\":\"overlay\",\"size\":10,\"solidity\":0.2}},\"type\":\"histogram\"}],\"histogram2d\":[{\"colorbar\":{\"outlinewidth\":0,\"ticks\":\"\"},\"colorscale\":[[0.0,\"#0d0887\"],[0.1111111111111111,\"#46039f\"],[0.2222222222222222,\"#7201a8\"],[0.3333333333333333,\"#9c179e\"],[0.4444444444444444,\"#bd3786\"],[0.5555555555555556,\"#d8576b\"],[0.6666666666666666,\"#ed7953\"],[0.7777777777777778,\"#fb9f3a\"],[0.8888888888888888,\"#fdca26\"],[1.0,\"#f0f921\"]],\"type\":\"histogram2d\"}],\"histogram2dcontour\":[{\"colorbar\":{\"outlinewidth\":0,\"ticks\":\"\"},\"colorscale\":[[0.0,\"#0d0887\"],[0.1111111111111111,\"#46039f\"],[0.2222222222222222,\"#7201a8\"],[0.3333333333333333,\"#9c179e\"],[0.4444444444444444,\"#bd3786\"],[0.5555555555555556,\"#d8576b\"],[0.6666666666666666,\"#ed7953\"],[0.7777777777777778,\"#fb9f3a\"],[0.8888888888888888,\"#fdca26\"],[1.0,\"#f0f921\"]],\"type\":\"histogram2dcontour\"}],\"mesh3d\":[{\"colorbar\":{\"outlinewidth\":0,\"ticks\":\"\"},\"type\":\"mesh3d\"}],\"parcoords\":[{\"line\":{\"colorbar\":{\"outlinewidth\":0,\"ticks\":\"\"}},\"type\":\"parcoords\"}],\"pie\":[{\"automargin\":true,\"type\":\"pie\"}],\"scatter\":[{\"marker\":{\"colorbar\":{\"outlinewidth\":0,\"ticks\":\"\"}},\"type\":\"scatter\"}],\"scatter3d\":[{\"line\":{\"colorbar\":{\"outlinewidth\":0,\"ticks\":\"\"}},\"marker\":{\"colorbar\":{\"outlinewidth\":0,\"ticks\":\"\"}},\"type\":\"scatter3d\"}],\"scattercarpet\":[{\"marker\":{\"colorbar\":{\"outlinewidth\":0,\"ticks\":\"\"}},\"type\":\"scattercarpet\"}],\"scattergeo\":[{\"marker\":{\"colorbar\":{\"outlinewidth\":0,\"ticks\":\"\"}},\"type\":\"scattergeo\"}],\"scattergl\":[{\"marker\":{\"colorbar\":{\"outlinewidth\":0,\"ticks\":\"\"}},\"type\":\"scattergl\"}],\"scattermapbox\":[{\"marker\":{\"colorbar\":{\"outlinewidth\":0,\"ticks\":\"\"}},\"type\":\"scattermapbox\"}],\"scatterpolar\":[{\"marker\":{\"colorbar\":{\"outlinewidth\":0,\"ticks\":\"\"}},\"type\":\"scatterpolar\"}],\"scatterpolargl\":[{\"marker\":{\"colorbar\":{\"outlinewidth\":0,\"ticks\":\"\"}},\"type\":\"scatterpolargl\"}],\"scatterternary\":[{\"marker\":{\"colorbar\":{\"outlinewidth\":0,\"ticks\":\"\"}},\"type\":\"scatterternary\"}],\"surface\":[{\"colorbar\":{\"outlinewidth\":0,\"ticks\":\"\"},\"colorscale\":[[0.0,\"#0d0887\"],[0.1111111111111111,\"#46039f\"],[0.2222222222222222,\"#7201a8\"],[0.3333333333333333,\"#9c179e\"],[0.4444444444444444,\"#bd3786\"],[0.5555555555555556,\"#d8576b\"],[0.6666666666666666,\"#ed7953\"],[0.7777777777777778,\"#fb9f3a\"],[0.8888888888888888,\"#fdca26\"],[1.0,\"#f0f921\"]],\"type\":\"surface\"}],\"table\":[{\"cells\":{\"fill\":{\"color\":\"#EBF0F8\"},\"line\":{\"color\":\"white\"}},\"header\":{\"fill\":{\"color\":\"#C8D4E3\"},\"line\":{\"color\":\"white\"}},\"type\":\"table\"}]},\"layout\":{\"annotationdefaults\":{\"arrowcolor\":\"#2a3f5f\",\"arrowhead\":0,\"arrowwidth\":1},\"autotypenumbers\":\"strict\",\"coloraxis\":{\"colorbar\":{\"outlinewidth\":0,\"ticks\":\"\"}},\"colorscale\":{\"diverging\":[[0,\"#8e0152\"],[0.1,\"#c51b7d\"],[0.2,\"#de77ae\"],[0.3,\"#f1b6da\"],[0.4,\"#fde0ef\"],[0.5,\"#f7f7f7\"],[0.6,\"#e6f5d0\"],[0.7,\"#b8e186\"],[0.8,\"#7fbc41\"],[0.9,\"#4d9221\"],[1,\"#276419\"]],\"sequential\":[[0.0,\"#0d0887\"],[0.1111111111111111,\"#46039f\"],[0.2222222222222222,\"#7201a8\"],[0.3333333333333333,\"#9c179e\"],[0.4444444444444444,\"#bd3786\"],[0.5555555555555556,\"#d8576b\"],[0.6666666666666666,\"#ed7953\"],[0.7777777777777778,\"#fb9f3a\"],[0.8888888888888888,\"#fdca26\"],[1.0,\"#f0f921\"]],\"sequentialminus\":[[0.0,\"#0d0887\"],[0.1111111111111111,\"#46039f\"],[0.2222222222222222,\"#7201a8\"],[0.3333333333333333,\"#9c179e\"],[0.4444444444444444,\"#bd3786\"],[0.5555555555555556,\"#d8576b\"],[0.6666666666666666,\"#ed7953\"],[0.7777777777777778,\"#fb9f3a\"],[0.8888888888888888,\"#fdca26\"],[1.0,\"#f0f921\"]]},\"colorway\":[\"#636efa\",\"#EF553B\",\"#00cc96\",\"#ab63fa\",\"#FFA15A\",\"#19d3f3\",\"#FF6692\",\"#B6E880\",\"#FF97FF\",\"#FECB52\"],\"font\":{\"color\":\"#2a3f5f\"},\"geo\":{\"bgcolor\":\"white\",\"lakecolor\":\"white\",\"landcolor\":\"#E5ECF6\",\"showlakes\":true,\"showland\":true,\"subunitcolor\":\"white\"},\"hoverlabel\":{\"align\":\"left\"},\"hovermode\":\"closest\",\"mapbox\":{\"style\":\"light\"},\"paper_bgcolor\":\"white\",\"plot_bgcolor\":\"#E5ECF6\",\"polar\":{\"angularaxis\":{\"gridcolor\":\"white\",\"linecolor\":\"white\",\"ticks\":\"\"},\"bgcolor\":\"#E5ECF6\",\"radialaxis\":{\"gridcolor\":\"white\",\"linecolor\":\"white\",\"ticks\":\"\"}},\"scene\":{\"xaxis\":{\"backgroundcolor\":\"#E5ECF6\",\"gridcolor\":\"white\",\"gridwidth\":2,\"linecolor\":\"white\",\"showbackground\":true,\"ticks\":\"\",\"zerolinecolor\":\"white\"},\"yaxis\":{\"backgroundcolor\":\"#E5ECF6\",\"gridcolor\":\"white\",\"gridwidth\":2,\"linecolor\":\"white\",\"showbackground\":true,\"ticks\":\"\",\"zerolinecolor\":\"white\"},\"zaxis\":{\"backgroundcolor\":\"#E5ECF6\",\"gridcolor\":\"white\",\"gridwidth\":2,\"linecolor\":\"white\",\"showbackground\":true,\"ticks\":\"\",\"zerolinecolor\":\"white\"}},\"shapedefaults\":{\"line\":{\"color\":\"#2a3f5f\"}},\"ternary\":{\"aaxis\":{\"gridcolor\":\"white\",\"linecolor\":\"white\",\"ticks\":\"\"},\"baxis\":{\"gridcolor\":\"white\",\"linecolor\":\"white\",\"ticks\":\"\"},\"bgcolor\":\"#E5ECF6\",\"caxis\":{\"gridcolor\":\"white\",\"linecolor\":\"white\",\"ticks\":\"\"}},\"title\":{\"x\":0.05},\"xaxis\":{\"automargin\":true,\"gridcolor\":\"white\",\"linecolor\":\"white\",\"ticks\":\"\",\"title\":{\"standoff\":15},\"zerolinecolor\":\"white\",\"zerolinewidth\":2},\"yaxis\":{\"automargin\":true,\"gridcolor\":\"white\",\"linecolor\":\"white\",\"ticks\":\"\",\"title\":{\"standoff\":15},\"zerolinecolor\":\"white\",\"zerolinewidth\":2}}},\"polar\":{\"radialaxis\":{\"visible\":true}},\"showlegend\":true},                        {\"responsive\": true}                    ).then(function(){\n",
       "                            \n",
       "var gd = document.getElementById('1b51af13-8e90-4928-952a-d4114ea1b6fd');\n",
       "var x = new MutationObserver(function (mutations, observer) {{\n",
       "        var display = window.getComputedStyle(gd).display;\n",
       "        if (!display || display === 'none') {{\n",
       "            console.log([gd, 'removed!']);\n",
       "            Plotly.purge(gd);\n",
       "            observer.disconnect();\n",
       "        }}\n",
       "}});\n",
       "\n",
       "// Listen for the removal of the full notebook cells\n",
       "var notebookContainer = gd.closest('#notebook-container');\n",
       "if (notebookContainer) {{\n",
       "    x.observe(notebookContainer, {childList: true});\n",
       "}}\n",
       "\n",
       "// Listen for the clearing of the current output cell\n",
       "var outputEl = gd.closest('.output');\n",
       "if (outputEl) {{\n",
       "    x.observe(outputEl, {childList: true});\n",
       "}}\n",
       "\n",
       "                        })                };                });            </script>        </div>"
      ]
     },
     "metadata": {},
     "output_type": "display_data"
    }
   ],
   "source": [
    "##### Plot Radar Plots #####\n",
    "ax_max = [1,1,1,1,1,1,1,1,1,1,1,1]\n",
    "### Close Traces\n",
    "ax.append(ax[0])\n",
    "dl_max.append(dl_max[0])\n",
    "dl_min.append(dl_min[0])\n",
    "drug_max.append(drug_max[0])\n",
    "drug_min.append(drug_min[0])\n",
    "del2p_max.append(del2p_max[0])\n",
    "del2p_min.append(del2p_min[0])\n",
    "del1p_max.append(del1p_max[0])\n",
    "del1p_min.append(del1p_min[0])\n",
    "platep_max.append(platep_max[0])\n",
    "platep_min.append(platep_min[0])\n",
    "\n",
    "#print(drug_max)\n",
    "#print(drug_min)\n",
    "\n",
    "### Drugs & Druglikeness ###\n",
    "\n",
    "fig_drug_like = go.Figure()\n",
    "\n",
    "fig_drug_like.add_trace(go.Scatterpolar(name = 'leveling', showlegend=False, #visible = False,\n",
    "  r=ax_max,\n",
    "  theta=ax,\n",
    "    line = dict(width = 0, color = 'silver'),\n",
    "    #marker = dict(size=val_width, color = 'blue', symbol = 'circle', gradient = dict(type = 'radial',color = 'lightblue'))\n",
    "    marker = dict(size = 1)\n",
    "    \n",
    "  #fill='toself'\n",
    "))\n",
    "\n",
    "\n",
    "fig_drug_like.add_trace(go.Scatterpolar(name = 'Drug Collection', showlegend=False,\n",
    "  r=drug_min,\n",
    "  theta=ax,\n",
    "    line = dict(width = 2, color = 'blue'),\n",
    "    #marker = dict(size=val_width, color = 'blue', symbol = 'circle', gradient = dict(type = 'radial',color = 'lightblue'))\n",
    "    marker = dict(size = 1)\n",
    "    \n",
    "  #fill='toself'\n",
    "))\n",
    "\n",
    "\n",
    "fig_drug_like.add_trace(go.Scatterpolar(name = 'Drug Collection',\n",
    "  r=drug_max,\n",
    "  theta=ax,\n",
    "    line = dict(width = 2, color = 'blue'),\n",
    "    #marker = dict(size=val_width, color = 'blue', symbol = 'circle', gradient = dict(type = 'radial',color = 'lightblue'))\n",
    "    marker = dict(size = 1),\n",
    "    #opacity = .25,\n",
    "  fill='tonext'#, fillcolor ='lightblue'\n",
    "))\n",
    "\n",
    "fig_drug_like.add_trace(go.Scatterpolar(\n",
    "    name = 'Druglikeness (lower)', showlegend=False,\n",
    "  r=dl_min,\n",
    "  theta=ax,\n",
    "    opacity =.25,\n",
    "    #fillcolor = 'white',\n",
    "    marker = dict(size = 1),\n",
    "    line = dict(color = 'red')\n",
    "  #fill='none'\n",
    "))\n",
    "\n",
    "fig_drug_like.add_trace(go.Scatterpolar(name = 'Druglikeness',\n",
    "  r=dl_max,\n",
    "  theta=ax,\n",
    "    line = dict(color = 'red'),\n",
    "    opacity = .5,\n",
    "    marker = dict(size = 1),\n",
    "    fillcolor = 'red',\n",
    "  fill='tonext'\n",
    "))\n",
    "\n",
    "\n",
    "\n",
    "\n",
    "fig_drug_like.update_layout(\n",
    "  polar=dict(\n",
    "    radialaxis=dict(\n",
    "      visible=True\n",
    "    ),\n",
    "  ),\n",
    "  showlegend=True\n",
    ")\n",
    "\n",
    "fig_drug_like.show()\n",
    "\n",
    "### DEL2 & Druglikeness ###\n",
    "\n",
    "fig_del2_like = go.Figure()\n",
    "\n",
    "fig_del2_like.add_trace(go.Scatterpolar(name = 'leveling', showlegend=False, #visible = False,\n",
    "  r=ax_max,\n",
    "  theta=ax,\n",
    "    line = dict(width = 0, color = 'silver'),\n",
    "    #marker = dict(size=val_width, color = 'blue', symbol = 'circle', gradient = dict(type = 'radial',color = 'lightblue'))\n",
    "    marker = dict(size = 1)\n",
    "    \n",
    "  #fill='toself'\n",
    "))\n",
    "\n",
    "fig_del2_like.add_trace(go.Scatterpolar(name = 'DEL2 Library', showlegend=False,\n",
    "  r=del2p_min,\n",
    "  theta=ax,\n",
    "    line = dict(width = 2, color = 'green'),\n",
    "    #marker = dict(size=val_width, color = 'blue', symbol = 'circle', gradient = dict(type = 'radial',color = 'lightblue'))\n",
    "    marker = dict(size = 1)\n",
    "    \n",
    "  #fill='toself'\n",
    "))\n",
    "\n",
    "\n",
    "fig_del2_like.add_trace(go.Scatterpolar(name = 'Zafrens Library 2',\n",
    "  r=del2p_max,\n",
    "  theta=ax,\n",
    "    line = dict(width = 2, color = 'green'),\n",
    "    #marker = dict(size=val_width, color = 'blue', symbol = 'circle', gradient = dict(type = 'radial',color = 'lightblue'))\n",
    "    marker = dict(size = 1),\n",
    "    #opacity = .25,\n",
    "  fill='tonext'#, fillcolor ='lightblue'\n",
    "))\n",
    "\n",
    "fig_del2_like.add_trace(go.Scatterpolar(\n",
    "    name = 'Druglikeness (lower)', showlegend=False,\n",
    "  r=dl_min,\n",
    "  theta=ax,\n",
    "    opacity =.25,\n",
    "    #fillcolor = 'white',\n",
    "    marker = dict(size = 1),\n",
    "    line = dict(color = 'red')\n",
    "  #fill='none'\n",
    "))\n",
    "\n",
    "fig_del2_like.add_trace(go.Scatterpolar(name = 'Druglikeness',\n",
    "  r=dl_max,\n",
    "  theta=ax,\n",
    "    line = dict(color = 'red'),\n",
    "    opacity = .5,\n",
    "    marker = dict(size = 1),\n",
    "    fillcolor = 'red',\n",
    "  fill='tonext'\n",
    "))\n",
    "\n",
    "\n",
    "\n",
    "\n",
    "fig_del2_like.update_layout(\n",
    "  polar=dict(\n",
    "    radialaxis=dict(\n",
    "      visible=True\n",
    "    ),\n",
    "  ),\n",
    "  showlegend=True\n",
    ")\n",
    "\n",
    "fig_del2_like.show()\n",
    "\n",
    "### DEL2 & Drug ###\n",
    "\n",
    "fig_del2_drug = go.Figure()\n",
    "\n",
    "fig_del2_drug.add_trace(go.Scatterpolar(name = 'leveling', showlegend=False, #visible = False,\n",
    "  r=ax_max,\n",
    "  theta=ax,\n",
    "    line = dict(width = 0, color = 'silver'),\n",
    "    #marker = dict(size=val_width, color = 'blue', symbol = 'circle', gradient = dict(type = 'radial',color = 'lightblue'))\n",
    "    marker = dict(size = 1)\n",
    "    \n",
    "  #fill='toself'\n",
    "))\n",
    "\n",
    "fig_del2_drug.add_trace(go.Scatterpolar(name = 'Drug Collection', showlegend=False,\n",
    "  r=drug_min,\n",
    "  theta=ax,\n",
    "    line = dict(width = 2, color = 'blue'),\n",
    "    #marker = dict(size=val_width, color = 'blue', symbol = 'circle', gradient = dict(type = 'radial',color = 'lightblue'))\n",
    "    marker = dict(size = 1)\n",
    "    \n",
    "  #fill='toself'\n",
    "))\n",
    "\n",
    "\n",
    "fig_del2_drug.add_trace(go.Scatterpolar(name = 'Drug Collection',\n",
    "  r=drug_max,\n",
    "  theta=ax,\n",
    "    line = dict(width = 2, color = 'blue'),\n",
    "    #marker = dict(size=val_width, color = 'blue', symbol = 'circle', gradient = dict(type = 'radial',color = 'lightblue'))\n",
    "    marker = dict(size = 1),\n",
    "    #opacity = .25,\n",
    "  fill='tonext'#, fillcolor ='lightblue'\n",
    "))\n",
    "\n",
    "fig_del2_drug.add_trace(go.Scatterpolar(name = 'DEL2 Library', showlegend=False,\n",
    "  r=del2p_min,\n",
    "  theta=ax,\n",
    "    line = dict(width = 2, color = 'green'),\n",
    "    #marker = dict(size=val_width, color = 'blue', symbol = 'circle', gradient = dict(type = 'radial',color = 'lightblue'))\n",
    "    marker = dict(size = 1)\n",
    "    \n",
    "  #fill='toself'\n",
    "))\n",
    "\n",
    "\n",
    "fig_del2_drug.add_trace(go.Scatterpolar(name = 'Zafrens Library 2',\n",
    "  r=del2p_max,\n",
    "  theta=ax,\n",
    "    line = dict(width = 2, color = 'green'),\n",
    "    #marker = dict(size=val_width, color = 'blue', symbol = 'circle', gradient = dict(type = 'radial',color = 'lightblue'))\n",
    "    marker = dict(size = 1),\n",
    "    #opacity = .25,\n",
    "  fill='tonext'#, fillcolor ='lightblue'\n",
    "))\n",
    "\n",
    "\n",
    "fig_del2_drug.update_layout(\n",
    "  polar=dict(\n",
    "    radialaxis=dict(\n",
    "      visible=True\n",
    "    ),\n",
    "  ),\n",
    "  showlegend=True\n",
    ")\n",
    "\n",
    "fig_del2_drug.show()\n",
    "\n",
    "\n",
    "### DEL2 & Drug & Druglikeness ###\n",
    "\n",
    "fig_del2_drug_like = go.Figure()\n",
    "\n",
    "fig_del2_drug.add_trace(go.Scatterpolar(name = 'leveling', showlegend=False, #visible = False,\n",
    "  r=ax_max,\n",
    "  theta=ax,\n",
    "    line = dict(width = 0, color = 'silver'),\n",
    "    #marker = dict(size=val_width, color = 'blue', symbol = 'circle', gradient = dict(type = 'radial',color = 'lightblue'))\n",
    "    marker = dict(size = 1)\n",
    "    \n",
    "  #fill='toself'\n",
    "))\n",
    "\n",
    "fig_del2_drug_like.add_trace(go.Scatterpolar(name = 'Drug Collection', showlegend=False,\n",
    "  r=drug_min,\n",
    "  theta=ax,\n",
    "    line = dict(width = 2, color = 'blue'),\n",
    "    #marker = dict(size=val_width, color = 'blue', symbol = 'circle', gradient = dict(type = 'radial',color = 'lightblue'))\n",
    "    marker = dict(size = 1)\n",
    "    \n",
    "  #fill='toself'\n",
    "))\n",
    "\n",
    "\n",
    "fig_del2_drug_like.add_trace(go.Scatterpolar(name = 'Drug Collection',\n",
    "  r=drug_max,\n",
    "  theta=ax,\n",
    "    line = dict(width = 2, color = 'blue'),\n",
    "    #marker = dict(size=val_width, color = 'blue', symbol = 'circle', gradient = dict(type = 'radial',color = 'lightblue'))\n",
    "    marker = dict(size = 1),\n",
    "    #opacity = .25,\n",
    "  fill='tonext'#, fillcolor ='lightblue'\n",
    "))\n",
    "\n",
    "fig_del2_drug_like.add_trace(go.Scatterpolar(name = 'DEL2 Library', showlegend=False,\n",
    "  r=del2p_min,\n",
    "  theta=ax,\n",
    "    line = dict(width = 2, color = 'green'),\n",
    "    #marker = dict(size=val_width, color = 'blue', symbol = 'circle', gradient = dict(type = 'radial',color = 'lightblue'))\n",
    "    marker = dict(size = 1)\n",
    "    \n",
    "  #fill='toself'\n",
    "))\n",
    "\n",
    "\n",
    "fig_del2_drug_like.add_trace(go.Scatterpolar(name = 'Zafrens Library 2',\n",
    "  r=del2p_max,\n",
    "  theta=ax,\n",
    "    line = dict(width = 2, color = 'green'),\n",
    "    #marker = dict(size=val_width, color = 'blue', symbol = 'circle', gradient = dict(type = 'radial',color = 'lightblue'))\n",
    "    marker = dict(size = 1),\n",
    "    #opacity = .25,\n",
    "  fill='tonext'#, fillcolor ='lightblue'\n",
    "))\n",
    "\n",
    "fig_del2_drug_like.add_trace(go.Scatterpolar(\n",
    "    name = 'Druglikeness (lower)', showlegend=False,\n",
    "  r=dl_min,\n",
    "  theta=ax,\n",
    "    opacity =.25,\n",
    "    #fillcolor = 'white',\n",
    "    marker = dict(size = 1),\n",
    "    line = dict(color = 'red')\n",
    "  #fill='none'\n",
    "))\n",
    "\n",
    "fig_del2_drug_like.add_trace(go.Scatterpolar(name = 'Druglikeness',\n",
    "  r=dl_max,\n",
    "  theta=ax,\n",
    "    line = dict(color = 'red'),\n",
    "    opacity = .5,\n",
    "    marker = dict(size = 1),\n",
    "    fillcolor = 'red',\n",
    "  fill='tonext'\n",
    "))\n",
    "\n",
    "\n",
    "fig_del2_drug_like.update_layout(\n",
    "  polar=dict(\n",
    "    radialaxis=dict(\n",
    "      visible=True\n",
    "    ),\n",
    "  ),\n",
    "  showlegend=True\n",
    ")\n",
    "\n",
    "fig_del2_drug_like.show()\n",
    "\n",
    "\n",
    "### DEL1 & Druglikeness ###\n",
    "\n",
    "fig_del1_like = go.Figure()\n",
    "\n",
    "fig_del1_like.add_trace(go.Scatterpolar(name = 'leveling', showlegend=False, #visible = False,\n",
    "  r=ax_max,\n",
    "  theta=ax,\n",
    "    line = dict(width = 0, color = 'silver'),\n",
    "    #marker = dict(size=val_width, color = 'blue', symbol = 'circle', gradient = dict(type = 'radial',color = 'lightblue'))\n",
    "    marker = dict(size = 1)\n",
    "    \n",
    "  #fill='toself'\n",
    "))\n",
    "\n",
    "fig_del1_like.add_trace(go.Scatterpolar(name = 'DEL2 Library', showlegend=False,\n",
    "  r=del1p_min,\n",
    "  theta=ax,\n",
    "    line = dict(width = 2, color = 'yellow'),\n",
    "    #marker = dict(size=val_width, color = 'blue', symbol = 'circle', gradient = dict(type = 'radial',color = 'lightblue'))\n",
    "    marker = dict(size = 1)\n",
    "    \n",
    "  #fill='toself'\n",
    "))\n",
    "\n",
    "\n",
    "fig_del1_like.add_trace(go.Scatterpolar(name = 'Zafrens Library 1',\n",
    "  r=del1p_max,\n",
    "  theta=ax,\n",
    "    line = dict(width = 2, color = 'yellow'),\n",
    "    #marker = dict(size=val_width, color = 'blue', symbol = 'circle', gradient = dict(type = 'radial',color = 'lightblue'))\n",
    "    marker = dict(size = 1),\n",
    "    #opacity = .25,\n",
    "  fill='tonext'#, fillcolor ='lightblue'\n",
    "))\n",
    "\n",
    "fig_del1_like.add_trace(go.Scatterpolar(\n",
    "    name = 'Druglikeness (lower)', showlegend=False,\n",
    "  r=dl_min,\n",
    "  theta=ax,\n",
    "    opacity =.25,\n",
    "    #fillcolor = 'white',\n",
    "    marker = dict(size = 1),\n",
    "    line = dict(color = 'red')\n",
    "  #fill='none'\n",
    "))\n",
    "\n",
    "fig_del1_like.add_trace(go.Scatterpolar(name = 'Druglikeness',\n",
    "  r=dl_max,\n",
    "  theta=ax,\n",
    "    line = dict(color = 'red'),\n",
    "    opacity = .5,\n",
    "    marker = dict(size = 1),\n",
    "    fillcolor = 'red',\n",
    "  fill='tonext'\n",
    "))\n",
    "\n",
    "\n",
    "fig_del1_like.update_layout(\n",
    "  polar=dict(\n",
    "    radialaxis=dict(\n",
    "      visible=True\n",
    "    ),\n",
    "  ),\n",
    "  showlegend=True\n",
    ")\n",
    "\n",
    "fig_del1_like.show()\n",
    "\n",
    "### DEL1 & Drug ###\n",
    "\n",
    "fig_del1_drug = go.Figure()\n",
    "\n",
    "fig_del1_drug.add_trace(go.Scatterpolar(name = 'leveling', showlegend=False, #visible = False,\n",
    "  r=ax_max,\n",
    "  theta=ax,\n",
    "    line = dict(width = 0, color = 'silver'),\n",
    "    #marker = dict(size=val_width, color = 'blue', symbol = 'circle', gradient = dict(type = 'radial',color = 'lightblue'))\n",
    "    marker = dict(size = 1)\n",
    "    \n",
    "  #fill='toself'\n",
    "))\n",
    "\n",
    "fig_del1_drug.add_trace(go.Scatterpolar(name = 'Drug Collection', showlegend=False,\n",
    "  r=drug_min,\n",
    "  theta=ax,\n",
    "    line = dict(width = 2, color = 'blue'),\n",
    "    #marker = dict(size=val_width, color = 'blue', symbol = 'circle', gradient = dict(type = 'radial',color = 'lightblue'))\n",
    "    marker = dict(size = 1)\n",
    "    \n",
    "  #fill='toself'\n",
    "))\n",
    "\n",
    "\n",
    "fig_del1_drug.add_trace(go.Scatterpolar(name = 'Drug Collection',\n",
    "  r=drug_max,\n",
    "  theta=ax,\n",
    "    line = dict(width = 2, color = 'blue'),\n",
    "    #marker = dict(size=val_width, color = 'blue', symbol = 'circle', gradient = dict(type = 'radial',color = 'lightblue'))\n",
    "    marker = dict(size = 1),\n",
    "    #opacity = .25,\n",
    "  fill='tonext'#, fillcolor ='lightblue'\n",
    "))\n",
    "\n",
    "fig_del1_drug.add_trace(go.Scatterpolar(name = 'DEL1 Library', showlegend=False,\n",
    "  r=del1p_min,\n",
    "  theta=ax,\n",
    "    line = dict(width = 2, color = 'yellow'),\n",
    "    #marker = dict(size=val_width, color = 'blue', symbol = 'circle', gradient = dict(type = 'radial',color = 'lightblue'))\n",
    "    marker = dict(size = 1)\n",
    "    \n",
    "  #fill='toself'\n",
    "))\n",
    "\n",
    "\n",
    "fig_del1_drug.add_trace(go.Scatterpolar(name = 'Zafrens Library 1',\n",
    "  r=del1p_max,\n",
    "  theta=ax,\n",
    "    line = dict(width = 2, color = 'yellow'),\n",
    "    #marker = dict(size=val_width, color = 'blue', symbol = 'circle', gradient = dict(type = 'radial',color = 'lightblue'))\n",
    "    marker = dict(size = 1),\n",
    "    #opacity = .25,\n",
    "  fill='tonext'#, fillcolor ='lightblue'\n",
    "))\n",
    "\n",
    "\n",
    "fig_del1_drug.update_layout(\n",
    "  polar=dict(\n",
    "    radialaxis=dict(\n",
    "      visible=True\n",
    "    ),\n",
    "  ),\n",
    "  showlegend=True\n",
    ")\n",
    "\n",
    "fig_del1_drug.show()\n",
    "\n",
    "### DEL1 & DEL2 ###\n",
    "\n",
    "fig_del1_del2 = go.Figure()\n",
    "\n",
    "fig_del1_del2.add_trace(go.Scatterpolar(name = 'leveling', showlegend=False, #visible = False,\n",
    "  r=ax_max,\n",
    "  theta=ax,\n",
    "    line = dict(width = 0, color = 'silver'),\n",
    "    #marker = dict(size=val_width, color = 'blue', symbol = 'circle', gradient = dict(type = 'radial',color = 'lightblue'))\n",
    "    marker = dict(size = 1)\n",
    "    \n",
    "  #fill='toself'\n",
    "))\n",
    "\n",
    "fig_del1_del2.add_trace(go.Scatterpolar(name = 'DEL2 Library', showlegend=False,\n",
    "  r=del2p_min,\n",
    "  theta=ax,\n",
    "    line = dict(width = 2, color = 'green'),\n",
    "    #marker = dict(size=val_width, color = 'blue', symbol = 'circle', gradient = dict(type = 'radial',color = 'lightblue'))\n",
    "    marker = dict(size = 1)\n",
    "    \n",
    "  #fill='toself'\n",
    "))\n",
    "\n",
    "\n",
    "fig_del1_del2.add_trace(go.Scatterpolar(name = 'Zafrens Library 2',\n",
    "  r=del2p_max,\n",
    "  theta=ax,\n",
    "    line = dict(width = 2, color = 'green'),\n",
    "    #marker = dict(size=val_width, color = 'blue', symbol = 'circle', gradient = dict(type = 'radial',color = 'lightblue'))\n",
    "    marker = dict(size = 1),\n",
    "    #opacity = .25,\n",
    "  fill='tonext'#, fillcolor ='lightblue'\n",
    "))\n",
    "\n",
    "\n",
    "\n",
    "fig_del1_del2.add_trace(go.Scatterpolar(name = 'DEL1 Library', showlegend=False,\n",
    "  r=del1p_min,\n",
    "  theta=ax,\n",
    "    line = dict(width = 2, color = 'yellow'),\n",
    "    #marker = dict(size=val_width, color = 'blue', symbol = 'circle', gradient = dict(type = 'radial',color = 'lightblue'))\n",
    "    marker = dict(size = 1)\n",
    "    \n",
    "  #fill='toself'\n",
    "))\n",
    "\n",
    "\n",
    "fig_del1_del2.add_trace(go.Scatterpolar(name = 'Zafrens Library 1',\n",
    "  r=del1p_max,\n",
    "  theta=ax,\n",
    "    line = dict(width = 2, color = 'yellow'),\n",
    "    #marker = dict(size=val_width, color = 'blue', symbol = 'circle', gradient = dict(type = 'radial',color = 'lightblue'))\n",
    "    marker = dict(size = 1),\n",
    "    #opacity = .25,\n",
    "  fill='tonext'#, fillcolor ='lightblue'\n",
    "))\n",
    "\n",
    "\n",
    "fig_del1_del2.update_layout(\n",
    "  polar=dict(\n",
    "    radialaxis=dict(\n",
    "      visible=True\n",
    "    ),\n",
    "  ),\n",
    "  showlegend=True\n",
    ")\n",
    "\n",
    "fig_del1_del2.show()\n",
    "\n",
    "\n",
    "\n",
    "### Zafrems Coll & Druglikeness ###\n",
    "\n",
    "fig_plate_like = go.Figure()\n",
    "\n",
    "fig_plate_like.add_trace(go.Scatterpolar(name = 'leveling', showlegend=False, #visible = False,\n",
    "  r=ax_max,\n",
    "  theta=ax,\n",
    "    line = dict(width = 0, color = 'silver'),\n",
    "    #marker = dict(size=val_width, color = 'blue', symbol = 'circle', gradient = dict(type = 'radial',color = 'lightblue'))\n",
    "    marker = dict(size = 1)\n",
    "    \n",
    "  #fill='toself'\n",
    "))\n",
    "\n",
    "\n",
    "fig_plate_like.add_trace(go.Scatterpolar(name = 'Zafrens Collection', showlegend=False,\n",
    "  r=platep_min,\n",
    "  theta=ax,\n",
    "    line = dict(width = 2, color = 'blue'),\n",
    "    #marker = dict(size=val_width, color = 'blue', symbol = 'circle', gradient = dict(type = 'radial',color = 'lightblue'))\n",
    "    marker = dict(size = 1)\n",
    "    \n",
    "  #fill='toself'\n",
    "))\n",
    "\n",
    "\n",
    "fig_plate_like.add_trace(go.Scatterpolar(name = 'Zafrens Collection',\n",
    "  r=platep_max,\n",
    "  theta=ax,\n",
    "    line = dict(width = 2, color = 'blue'),\n",
    "    #marker = dict(size=val_width, color = 'blue', symbol = 'circle', gradient = dict(type = 'radial',color = 'lightblue'))\n",
    "    marker = dict(size = 1),\n",
    "    #opacity = .25,\n",
    "  fill='tonext'#, fillcolor ='lightblue'\n",
    "))\n",
    "\n",
    "fig_plate_like.add_trace(go.Scatterpolar(\n",
    "    name = 'Druglikeness (lower)', showlegend=False,\n",
    "  r=dl_min,\n",
    "  theta=ax,\n",
    "    opacity =.25,\n",
    "    #fillcolor = 'white',\n",
    "    marker = dict(size = 1),\n",
    "    line = dict(color = 'red')\n",
    "  #fill='none'\n",
    "))\n",
    "\n",
    "fig_plate_like.add_trace(go.Scatterpolar(name = 'Druglikeness',\n",
    "  r=dl_max,\n",
    "  theta=ax,\n",
    "    line = dict(color = 'red'),\n",
    "    opacity = .5,\n",
    "    marker = dict(size = 1),\n",
    "    fillcolor = 'red',\n",
    "  fill='tonext'\n",
    "))\n",
    "\n",
    "fig_plate_like.update_layout(\n",
    "  polar=dict(\n",
    "    radialaxis=dict(\n",
    "      visible=True\n",
    "    ),\n",
    "  ),\n",
    "  showlegend=True\n",
    ")\n",
    "\n",
    "fig_plate_like.show()\n"
   ]
  },
  {
   "cell_type": "code",
   "execution_count": null,
   "id": "64572ef4",
   "metadata": {},
   "outputs": [],
   "source": [
    "val = []\n",
    "ax = molprop.copy()\n",
    "scale = [1,1,1,1,1,1,1,1,1,1,1]\n",
    "val_width = [5,12,15,8,16,32,64,10,20,40,10]\n",
    "maxval = 0\n",
    "\n",
    "dl_max = druglike_max\n",
    "dl_min = druglike_min\n",
    "\n",
    "for i in range(0,len(drugs_mean)):\n",
    "        amin = drugs_min[i]\n",
    "        if amin > 0:\n",
    "            amin = 0\n",
    "        amax = drugs_max[i]\n",
    "        scale[i] = amax - amin\n",
    "        j = (j-amin)/scale[i]\n",
    "        val.append(j)\n",
    "        dl_max[i] = (druglike_max[i]-amin)/scale[i]\n",
    "        dl_min[i] = (druglike_min[i]-amin)/scale[i]\n",
    "        val_width[i] = (100*drugs_std[i])/scale[i]\n",
    "        maxval = max(j, maxval)\n",
    "\n",
    "print(scale)\n",
    "print(dl_max)\n",
    "print(dl_min)  \n",
    "print(val)\n",
    "print(val_width)\n",
    "\n",
    "\n",
    "ax.append(ax[0])\n",
    "val.append(val[0])\n",
    "dl_max.append(dl_max[0])\n",
    "dl_min.append(dl_min[0])\n",
    "\n",
    "fig = go.Figure()\n",
    "\n",
    "fig.add_trace(go.Scatterpolar(\n",
    "    name = 'Druglikeness (lower)',\n",
    "  r=dl_min,\n",
    "  theta=ax,\n",
    "    opacity =.25,\n",
    "    #fillcolor = 'white',\n",
    "    line = dict(color = 'green')\n",
    "  #fill='none'\n",
    "))\n",
    "\n",
    "fig.add_trace(go.Scatterpolar(name = 'Druglikeness (upper)',\n",
    "  r=dl_max,\n",
    "  theta=ax,\n",
    "    line = dict(color = 'green'),\n",
    "    opacity = .5,\n",
    "    fillcolor = 'lightgreen',\n",
    "  fill='tonext'\n",
    "))\n",
    "\n",
    "\n",
    "fig.add_trace(go.Scatterpolar(name = 'Drug Collection',\n",
    "  r=val,\n",
    "  theta=ax,\n",
    "    line = dict(width = 5, color = 'blue'),\n",
    "    marker = dict(size=val_width, sizeref = maxval, sizemode = 'diameter', color = 'blue', symbol = 'circle', gradient = dict(type = 'radial',color = 'lightblue'))\n",
    "    \n",
    "  #fill='toself'\n",
    "))\n",
    "\n",
    "fig.update_layout(\n",
    "  polar=dict(\n",
    "    radialaxis=dict(\n",
    "      visible=True\n",
    "    ),\n",
    "  ),\n",
    "  showlegend=True\n",
    ")\n",
    "\n",
    "fig.show()"
   ]
  },
  {
   "cell_type": "code",
   "execution_count": null,
   "id": "1a09809f",
   "metadata": {},
   "outputs": [],
   "source": [
    "val_max = []\n",
    "val_min = []\n",
    "\n",
    "for i in range(0,len(val)-1):\n",
    "    j = val[i]+drugs_std[i]/scale[i]\n",
    "    val_max.append(j)\n",
    "    j = val[i]-drugs_std[i]/scale[i]\n",
    "    val_min.append(j)\n",
    "    \n",
    "val_min.append(val_min[0])\n",
    "val_max.append(val_max[0])\n",
    "    \n",
    "print(val_min)\n",
    "print(val_max)\n",
    "    \n",
    "fig2 = go.Figure()\n",
    "\n",
    "fig2.add_trace(go.Scatterpolar(\n",
    "    name = 'Druglikeness (lower)', showlegend=False,\n",
    "  r=dl_min,\n",
    "  theta=ax,\n",
    "    opacity =.25,\n",
    "    #fillcolor = 'white',\n",
    "    line = dict(color = 'green')\n",
    "  #fill='none'\n",
    "))\n",
    "\n",
    "fig2.add_trace(go.Scatterpolar(name = 'Druglikeness (upper)',\n",
    "  r=dl_max,\n",
    "  theta=ax,\n",
    "    line = dict(color = 'green'),\n",
    "    opacity = .5,\n",
    "    fillcolor = 'lightgreen',\n",
    "  fill='tonext'\n",
    "))\n",
    "\n",
    "\n",
    "fig2.add_trace(go.Scatterpolar(name = 'Drug Collection', showlegend=False,\n",
    "  r=val_min,\n",
    "  theta=ax,\n",
    "    line = dict(width = 2, color = 'blue'),\n",
    "    #marker = dict(size=val_width, color = 'blue', symbol = 'circle', gradient = dict(type = 'radial',color = 'lightblue'))\n",
    "    marker = dict(size = 1)\n",
    "    \n",
    "  #fill='toself'\n",
    "))\n",
    "\n",
    "\n",
    "fig2.add_trace(go.Scatterpolar(name = 'Drug Collection',\n",
    "  r=val_max,\n",
    "  theta=ax,\n",
    "    line = dict(width = 2, color = 'blue'),\n",
    "    #marker = dict(size=val_width, color = 'blue', symbol = 'circle', gradient = dict(type = 'radial',color = 'lightblue'))\n",
    "    marker = dict(size = 1),\n",
    "  fill='tonext'\n",
    "))\n",
    "\n",
    "fig2.update_layout(\n",
    "  polar=dict(\n",
    "    radialaxis=dict(\n",
    "      visible=True\n",
    "    ),\n",
    "  ),\n",
    "  showlegend=True\n",
    ")\n",
    "\n",
    "fig2.show()"
   ]
  },
  {
   "cell_type": "code",
   "execution_count": null,
   "id": "10beaffd",
   "metadata": {},
   "outputs": [],
   "source": [
    "fig.show()\n",
    "fig2.show()"
   ]
  },
  {
   "cell_type": "code",
   "execution_count": null,
   "id": "fbdf6d3a",
   "metadata": {},
   "outputs": [],
   "source": [
    "print(dir(rdmd.Mol))"
   ]
  },
  {
   "cell_type": "code",
   "execution_count": null,
   "id": "243538ec",
   "metadata": {},
   "outputs": [],
   "source": [
    "dfm = pd.read_csv(\"../DEL2_enum.csv\")\n",
    "dfr=dfm['Structure']\n",
    "print(dfr)\n",
    "\n",
    "del2_list = []\n",
    "\n",
    "for i in range(0, len(dfr)):\n",
    "    j = dfr[i]\n",
    "    #print(j, type(j))\n",
    "    if type(j) == str:\n",
    "        j = j.split('.')\n",
    "        for k in j:\n",
    "            try:\n",
    "                #print(k)\n",
    "                m = Chem.MolFromSmiles(k)\n",
    "                numatoms = rdch.Mol.GetNumAtoms(m)\n",
    "                if numatoms >5:\n",
    "                    #print(k, numatoms)\n",
    "                    a = (k,m)\n",
    "                    if a not in drug_list:\n",
    "                        del2_list.append(a)\n",
    "            except:\n",
    "                #print(j,k, ' - no valid SMILES/Molecule')\n",
    "                pass\n",
    "        \n",
    "print()\n",
    "print(len(del2_list))\n",
    "#print()\n",
    "#print(del2_list)"
   ]
  },
  {
   "cell_type": "code",
   "execution_count": null,
   "id": "edd416a5",
   "metadata": {},
   "outputs": [],
   "source": [
    "drug_temp = []\n",
    "\n",
    "\n",
    "for i in del2_list:\n",
    "    smiles = i[0]\n",
    "    m = i[1]\n",
    "    numatoms = rdch.Mol.GetNumHeavyAtoms(m)\n",
    "    mw = rdd.ExactMolWt(m)\n",
    "    fsp3 = rdmd.CalcFractionCSP3(m)\n",
    "    HBA = rdmd.CalcNumLipinskiHBA(m)\n",
    "    HBD = rdmd.CalcNumLipinskiHBD(m)\n",
    "    stereo = rdmd.CalcNumAtomStereoCenters(m)\n",
    "    ring = rdmd.CalcNumRings(m)\n",
    "    rotbond = rdmd.CalcNumRotatableBonds(m)\n",
    "    qed = Chem.QED.qed(m)\n",
    "    logd = Chem.Crippen.MolLogP(m)\n",
    "    tpsa = rdmd.CalcTPSA(m)\n",
    "    #print(smiles, numatoms,mw, fsp3, HBA, HBD, stereo, ring, rotbond, qed, logd)\n",
    "    a = [smiles, numatoms,mw, fsp3, HBA, HBD, stereo, ring, rotbond, qed, logd, tpsa]\n",
    "    drug_temp.append(a)\n",
    "    \n",
    "df_del2 = pd.DataFrame(drug_temp, columns = ['smiles', 'numatoms','mw', 'fsp3', 'HBA', 'HBD', 'stereo', 'ring', 'rotbond', 'qed', 'logd', 'tpsa'])\n",
    "\n",
    "print(df_del2)"
   ]
  },
  {
   "cell_type": "code",
   "execution_count": null,
   "id": "0db8f45e",
   "metadata": {},
   "outputs": [],
   "source": [
    "del2_mean = df_del2[['numatoms','mw', 'fsp3', 'HBA', 'HBD', 'stereo', 'ring', 'rotbond', 'qed', 'logd']].mean()\n",
    "del2_std = df_del2[['numatoms','mw', 'fsp3', 'HBA', 'HBD', 'stereo', 'ring', 'rotbond', 'qed', 'logd']].std()\n",
    "del2_min = df_del2[['numatoms','mw', 'fsp3', 'HBA', 'HBD', 'stereo', 'ring', 'rotbond', 'qed', 'logd']].min()\n",
    "del2_max = df_del2[['numatoms','mw', 'fsp3', 'HBA', 'HBD', 'stereo', 'ring', 'rotbond', 'qed', 'logd']].max()\n",
    "print(del2_mean)\n",
    "print(del2_std)\n",
    "print(del2_min)\n",
    "print(drugs_max)\n",
    "\n",
    "val = []\n",
    "ax = molprop.copy()\n",
    "#dl_max = [55,500,0.5,10,5,1,3,10,0.6,5]\n",
    "#dl_min = [30,160,0,0,0,0,0,6,0.4,0]\n",
    "scale = [1,1,1,1,1,1,1,1,1,1]\n",
    "val_width = [5,12,15,8,16,32,64,10,20,40]\n",
    "val_min = []\n",
    "val_max = []\n",
    "\n",
    "for i in range(0,len(del2_mean)):\n",
    "    val_width[i] = del2_std[i]\n",
    "\n",
    "for i in range(0,len(del2_mean)):\n",
    "    #print(i)\n",
    "    j = del2_mean[i]\n",
    "    if ax[i] in ['qed','fsp3']:\n",
    "        val.append(j)\n",
    "        jmin = j-val_width[i]\n",
    "        jmax = j+val_width[i]\n",
    "        val_min.append(jmin)\n",
    "        val_max.append(jmax)\n",
    "        print(i,j, ax[i])\n",
    "        val_width[i] = del2_std[i]\n",
    "    else:\n",
    "        amin = min(drugs_min[i],druglike_min[i],del2_min[i])\n",
    "        if amin > 0:\n",
    "            amin = 0\n",
    "        amax = max(drugs_max[i],druglike_max[i],del2_max[i])\n",
    "        scale[i] = amax - amin\n",
    "        jmin = (j-val_width[i]-amin)/scale[i]\n",
    "        jmax = (j+val_width[i]-amin)/scale[i]\n",
    "        val_min.append(jmin)\n",
    "        val_max.append(jmax)\n",
    "        j = (j-amin)/scale[i]\n",
    "        val.append(j)\n",
    "        dl_max[i] = (druglike_max[i]-amin)/scale[i]\n",
    "        dl_min[i] = (druglike_min[i]-amin)/scale[i]\n",
    "        val_width[i] = del2_std[i]/scale[i]\n",
    "\n",
    "print()\n",
    "print(scale)\n",
    "print(val)\n",
    "print('Likeness')\n",
    "print(dl_max)\n",
    "print(dl_min)  \n",
    "print('Drugs')\n",
    "print(val_min)\n",
    "print(val_max)\n",
    "\n",
    "ax.append(ax[0])\n",
    "val.append(val[0])\n",
    "val_min.append(val_min[0])\n",
    "val_max.append(val_max[0])\n",
    "dl_max.append(dl_max[0])\n",
    "dl_min.append(dl_min[0])\n",
    "\n",
    "fig = go.Figure()\n",
    "\n",
    "fig.add_trace(go.Scatterpolar(\n",
    "    name = 'Druglikeness (lower)',\n",
    "  r=dl_min,\n",
    "  theta=ax,\n",
    "    opacity =.25,\n",
    "    #fillcolor = 'white',\n",
    "    line = dict(color = 'green')\n",
    "  #fill='none'\n",
    "))\n",
    "\n",
    "fig.add_trace(go.Scatterpolar(name = 'Druglikeness (upper)',\n",
    "  r=dl_max,\n",
    "  theta=ax,\n",
    "    line = dict(color = 'green'),\n",
    "    opacity = .5,\n",
    "    fillcolor = 'silver',\n",
    "  fill='tonext'\n",
    "))\n",
    "\n",
    "\n",
    "fig.add_trace(go.Scatterpolar(name = 'DEL2',\n",
    "  r=val,\n",
    "  theta=ax,\n",
    "    line = dict(width = 5, color = 'blue'),\n",
    "    marker = dict(size=val_width, color = 'blue', symbol = 'circle', gradient = dict(type = 'radial',color = 'lightblue'))\n",
    "    \n",
    "  #fill='toself'\n",
    "))\n",
    "\n",
    "fig.update_layout(\n",
    "  polar=dict(\n",
    "    radialaxis=dict(\n",
    "      visible=True\n",
    "    ),\n",
    "  ),\n",
    "  showlegend=True\n",
    ")\n",
    "\n",
    "fig.show()\n",
    "\n",
    "\n",
    "##### Double Trace #####\n",
    "\n",
    "#val_max = []\n",
    "\n",
    "#for i in val:\n",
    "#    j = i+.1\n",
    "#    val_max.append(j)\n",
    "    \n",
    "fig2 = go.Figure()\n",
    "\n",
    "fig2.add_trace(go.Scatterpolar(\n",
    "    name = 'Druglikeness (lower)', showlegend=False,\n",
    "  r=dl_min,\n",
    "  theta=ax,\n",
    "    opacity =.25,\n",
    "    #fillcolor = 'white',\n",
    "    line = dict(color = 'green')\n",
    "  #fill='none'\n",
    "))\n",
    "\n",
    "fig2.add_trace(go.Scatterpolar(name = 'Druglikeness (upper)',\n",
    "  r=dl_max,\n",
    "  theta=ax,\n",
    "    line = dict(color = 'green'),\n",
    "    opacity = .5,\n",
    "    fillcolor = 'silver',\n",
    "  fill='tonext'\n",
    "))\n",
    "\n",
    "\n",
    "fig2.add_trace(go.Scatterpolar(name = 'Del2', showlegend=False,\n",
    "  r=val_min,\n",
    "  theta=ax,\n",
    "    line = dict(width = 2, color = 'blue'),\n",
    "    #marker = dict(size=val_width, color = 'blue', symbol = 'circle', gradient = dict(type = 'radial',color = 'lightblue'))\n",
    "    marker = dict(size = 1)\n",
    "    \n",
    "  #fill='toself'\n",
    "))\n",
    "\n",
    "\n",
    "fig2.add_trace(go.Scatterpolar(name = 'DEL2',\n",
    "  r=val_max,\n",
    "  theta=ax,\n",
    "    line = dict(width = 2, color = 'blue'),\n",
    "    #marker = dict(size=val_width, color = 'blue', symbol = 'circle', gradient = dict(type = 'radial',color = 'lightblue'))\n",
    "    marker = dict(size = 1),\n",
    "  fill='tonext'\n",
    "))\n",
    "\n",
    "fig2.update_layout(\n",
    "  polar=dict(\n",
    "    radialaxis=dict(\n",
    "      visible=True\n",
    "    ),\n",
    "  ),\n",
    "  showlegend=True\n",
    ")\n",
    "\n",
    "fig2.show()"
   ]
  },
  {
   "cell_type": "code",
   "execution_count": null,
   "id": "4f75ede4",
   "metadata": {},
   "outputs": [],
   "source": [
    "import sys\n",
    "sys.path"
   ]
  },
  {
   "cell_type": "code",
   "execution_count": null,
   "id": "c687db5b",
   "metadata": {},
   "outputs": [],
   "source": [
    "sys.path.append('../pkg_mod')"
   ]
  },
  {
   "cell_type": "code",
   "execution_count": null,
   "id": "0fdc67f1",
   "metadata": {},
   "outputs": [],
   "source": [
    "struct_list = []\n",
    "print(struct_raw)\n",
    "print()\n",
    "\n",
    "for i in struct_raw:\n",
    "    #print(i)\n",
    "    a = i[0].split('.')\n",
    "    #print(a)\n",
    "    for j in a:\n",
    "        b = (j,)\n",
    "        #print(j, b)\n",
    "        if b not in struct_list:\n",
    "            struct_list.append(b)\n",
    "\n",
    "print(struct_list)\n",
    "        "
   ]
  },
  {
   "cell_type": "code",
   "execution_count": null,
   "id": "fb11d868",
   "metadata": {},
   "outputs": [],
   "source": [
    "dfm = pd.read_excel(\"../Drug_Libraries/L1021-DiscoveryProbe-FDA-approved-Drug-Library.xlsx\", sheet_name=1)\n",
    "#print(dfm)\n",
    "dfr = dfm['SMILES']\n",
    "#print(dfr)\n",
    "\n",
    "drug_list = list_prep(dfr)\n",
    "\n",
    "for i in range(0, len(dfr)):\n",
    "    j = dfr[i]\n",
    "    #print(j, type(j))\n",
    "    if type(j) == str:\n",
    "        j = j.split('.')\n",
    "        for k in j:\n",
    "            try:\n",
    "                #print(k)\n",
    "                m = Chem.MolFromSmiles(k)\n",
    "                numatoms = rdch.Mol.GetNumAtoms(m)\n",
    "                if numatoms >5:\n",
    "                    #print(k, numatoms)\n",
    "                    a = (k,m)\n",
    "                    if a not in drug_list:\n",
    "                        drug_list.append(a)\n",
    "            except:\n",
    "                #print(j,k, ' - no valid SMILES/Molecule')\n",
    "                pass\n",
    "        \n",
    "\n",
    "print(len(drug_list))\n",
    "print()\n",
    "print(drug_list)"
   ]
  },
  {
   "cell_type": "code",
   "execution_count": null,
   "id": "da891155",
   "metadata": {},
   "outputs": [],
   "source": [
    "drug_temp = []\n",
    "\n",
    "\n",
    "for i in drug_list:\n",
    "    smiles = i[0]\n",
    "    m = i[1]\n",
    "    numatoms = rdch.Mol.GetNumHeavyAtoms(m)\n",
    "    mw = rdd.ExactMolWt(m)\n",
    "    fsp3 = rdmd.CalcFractionCSP3(m)\n",
    "    HBA = rdmd.CalcNumLipinskiHBA(m)\n",
    "    HBD = rdmd.CalcNumLipinskiHBD(m)\n",
    "    stereo = rdmd.CalcNumAtomStereoCenters(m)\n",
    "    ring = rdmd.CalcNumRings(m)\n",
    "    rotbond = rdmd.CalcNumRotatableBonds(m)\n",
    "    qed = Chem.QED.qed(m)\n",
    "    logd = Chem.Crippen.MolLogP(m)\n",
    "    tpsa = rdmd.CalcTPSA(m)\n",
    "    #print(smiles, numatoms,mw, fsp3, HBA, HBD, stereo, ring, rotbond, qed, logd)\n",
    "    a = [smiles, numatoms,mw, fsp3, HBA, HBD, stereo, ring, rotbond, qed, logd,tpsa]\n",
    "    drug_temp.append(a)\n",
    "    \n",
    "#df_drugs = pd.DataFrame(drug_temp, columns = ['smiles', 'numatoms','mw', 'fsp3', 'HBA', 'HBD', 'stereo', 'ring', 'rotbond', 'qed', 'logd','tpsa'])\n",
    "d = ['smiles']\n",
    "for i in molprop:\n",
    "    d.append(i)\n",
    "    \n",
    "print(d)\n",
    "    \n",
    "df_drugs = pd.DataFrame(drug_temp, columns = d)\n",
    "print(df_drugs)"
   ]
  }
 ],
 "metadata": {
  "kernelspec": {
   "display_name": "Python 3 (ipykernel)",
   "language": "python",
   "name": "python3"
  },
  "language_info": {
   "codemirror_mode": {
    "name": "ipython",
    "version": 3
   },
   "file_extension": ".py",
   "mimetype": "text/x-python",
   "name": "python",
   "nbconvert_exporter": "python",
   "pygments_lexer": "ipython3",
   "version": "3.7.13"
  }
 },
 "nbformat": 4,
 "nbformat_minor": 5
}
