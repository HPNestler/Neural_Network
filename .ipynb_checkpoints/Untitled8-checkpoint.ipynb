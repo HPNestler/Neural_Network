{
 "cells": [
  {
   "cell_type": "code",
   "execution_count": 1,
   "id": "c66c6811",
   "metadata": {},
   "outputs": [],
   "source": [
    "from rdkit import Chem, rdBase\n",
    "from rdkit.Chem import Draw,rdDepictor\n",
    "from rdkit.Chem import AllChem, Descriptors, DataStructs\n",
    "from rdkit.Chem.Draw import IPythonConsole, rdMolDraw2D\n",
    "from rdkit.Chem.Scaffolds import rdScaffoldNetwork\n",
    "from datetime import datetime\n",
    "# import math\n",
    "# import matplotlib as mpl\n",
    "# from matplotlib import pyplot as plt\n",
    "# import os\n",
    "# import pyvis\n",
    "# from pyvis.network import Network\n",
    "# import inspect\n",
    "import psycopg2\n",
    "from collections import defaultdict\n",
    "import collections\n",
    "import sys\n",
    "sys.path.append('/mnt/raid1/Python_projects')\n",
    "sys.path.append('/mnt/raid1/Python_projects/pkg_mod')\n",
    "\n",
    "##### Custom Modules #####\n",
    "import chemistry_psql as cp\n",
    "import fingerprinter as fpt"
   ]
  },
  {
   "cell_type": "code",
   "execution_count": 17,
   "id": "570694f9",
   "metadata": {},
   "outputs": [
    {
     "name": "stdout",
     "output_type": "stream",
     "text": [
      "\n",
      "##### Missing Structure Objects #####\n",
      "[(10,), (11,), (13,), (14,), (15,), (16,), (17,), (18,), (19,), (20,), (21,), (22,), (23,), (24,), (34,), (35,), (36,), (37,), (38,), (39,), (40,), (41,), (42,), (43,), (44,), (45,), (46,), (47,), (48,), (49,), (50,), (51,), (56,), (57,), (58,), (59,), (60,), (61,), (62,), (63,), (64,), (65,), (66,), (67,), (68,), (69,), (70,), (71,), (72,), (73,), (74,), (75,), (77,), (78,), (79,), (80,), (83,), (84,), (85,), (86,), (88,), (95,), (96,), (97,), (98,), (99,), (101,), (102,), (103,), (108,), (109,), (110,), (112,), (113,), (114,), (115,), (116,), (117,), (118,), (119,), (120,), (121,), (122,), (123,), (124,), (125,), (126,), (127,), (128,), (129,), (130,), (131,), (132,), (133,), (134,), (135,), (136,), (137,), (138,), (139,)]\n",
      "\n",
      "10\n",
      "INSERT INTO zafrens.objects(obj_ref, obj_class) VALUES(10, 's');\n"
     ]
    },
    {
     "ename": "UndefinedColumn",
     "evalue": "record \"new\" has no field \"Obj_ID\"\nCONTEXT:  PL/pgSQL function zafrens.insert_object() line 4 at assignment\n",
     "output_type": "error",
     "traceback": [
      "\u001b[0;31m---------------------------------------------------------------------------\u001b[0m",
      "\u001b[0;31mUndefinedColumn\u001b[0m                           Traceback (most recent call last)",
      "\u001b[0;32m/tmp/ipykernel_9531/3223678716.py\u001b[0m in \u001b[0;36m<module>\u001b[0;34m\u001b[0m\n\u001b[1;32m     23\u001b[0m     \u001b[0msql\u001b[0m \u001b[0;34m=\u001b[0m \u001b[0;34m\"INSERT INTO zafrens.objects(obj_ref, obj_class) VALUES(\"\u001b[0m\u001b[0;34m+\u001b[0m\u001b[0mj\u001b[0m\u001b[0;34m+\u001b[0m\u001b[0;34m\", 's');\"\u001b[0m\u001b[0;34m\u001b[0m\u001b[0;34m\u001b[0m\u001b[0m\n\u001b[1;32m     24\u001b[0m     \u001b[0mprint\u001b[0m\u001b[0;34m(\u001b[0m\u001b[0msql\u001b[0m\u001b[0;34m)\u001b[0m\u001b[0;34m\u001b[0m\u001b[0;34m\u001b[0m\u001b[0m\n\u001b[0;32m---> 25\u001b[0;31m     \u001b[0mcur\u001b[0m\u001b[0;34m.\u001b[0m\u001b[0mexecute\u001b[0m\u001b[0;34m(\u001b[0m\u001b[0msql\u001b[0m\u001b[0;34m,\u001b[0m \u001b[0mj\u001b[0m\u001b[0;34m)\u001b[0m\u001b[0;34m\u001b[0m\u001b[0;34m\u001b[0m\u001b[0m\n\u001b[0m\u001b[1;32m     26\u001b[0m     \u001b[0;31m#print(mw, log, hacc, hdon)\u001b[0m\u001b[0;34m\u001b[0m\u001b[0;34m\u001b[0m\u001b[0;34m\u001b[0m\u001b[0m\n\u001b[1;32m     27\u001b[0m     \u001b[0;31m#print(a, j)\u001b[0m\u001b[0;34m\u001b[0m\u001b[0;34m\u001b[0m\u001b[0;34m\u001b[0m\u001b[0m\n",
      "\u001b[0;31mUndefinedColumn\u001b[0m: record \"new\" has no field \"Obj_ID\"\nCONTEXT:  PL/pgSQL function zafrens.insert_object() line 4 at assignment\n"
     ]
    }
   ],
   "source": [
    "limit = '100'\n",
    "\n",
    "db_chem = psycopg2.connect(host = \"192.168.86.31\", dbname=\"Chemistry\", user=\"postgres\", password=\"postgres\")\n",
    "cur = db_chem.cursor() \n",
    "sql = 'select s.structure_id \\\n",
    "from public.structures s \\\n",
    "where s.structure_id IN (SELECT f.structure_id FROM public.structures f \\\n",
    "WHERE NOT EXISTS (SELECT 1 FROM zafrens.objects fp WHERE f.structure_id = fp.obj_ref \\\n",
    "AND fp.obj_class = \\'s\\')) LIMIT ' + limit \n",
    "cur.execute(sql) \n",
    "\n",
    "mollist = cur.fetchall()\n",
    "\n",
    "print()\n",
    "print('##### Missing Structure Objects #####')\n",
    "print(mollist)\n",
    "print()\n",
    "\n",
    "sql = \"INSERT INTO zafrens.objects(obj_ref, obj_class) VALUES(\"+j+\", 's');\"\n",
    "for i in mollist:\n",
    "    j= str(i[0])\n",
    "    print(j)\n",
    "    sql = \"INSERT INTO zafrens.objects(obj_ref, obj_class) VALUES(\"+j+\", 's');\"\n",
    "    print(sql)\n",
    "    cur.execute(sql, j)\n",
    "    #print(mw, log, hacc, hdon)\n",
    "    #print(a, j)\n",
    "    #cp.StructCalcPropInsert(a)\n",
    "        \n",
    "db_chem.commit()\n"
   ]
  },
  {
   "cell_type": "code",
   "execution_count": null,
   "id": "9d17d9f2",
   "metadata": {},
   "outputs": [],
   "source": []
  }
 ],
 "metadata": {
  "kernelspec": {
   "display_name": "Python [conda env:rdkit] *",
   "language": "python",
   "name": "conda-env-rdkit-py"
  },
  "language_info": {
   "codemirror_mode": {
    "name": "ipython",
    "version": 3
   },
   "file_extension": ".py",
   "mimetype": "text/x-python",
   "name": "python",
   "nbconvert_exporter": "python",
   "pygments_lexer": "ipython3",
   "version": "3.7.11"
  }
 },
 "nbformat": 4,
 "nbformat_minor": 5
}
