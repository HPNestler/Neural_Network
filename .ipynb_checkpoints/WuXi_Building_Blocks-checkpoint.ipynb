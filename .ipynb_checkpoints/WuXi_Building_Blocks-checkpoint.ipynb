{
 "cells": [
  {
   "cell_type": "code",
   "execution_count": 4,
   "id": "5e3d5c12",
   "metadata": {},
   "outputs": [],
   "source": [
    "import pandas as pd"
   ]
  },
  {
   "cell_type": "code",
   "execution_count": 9,
   "id": "7e126b2b",
   "metadata": {},
   "outputs": [
    {
     "name": "stdout",
     "output_type": "stream",
     "text": [
      "             MW             group          MFCD                    CAS  \\\n",
      "0      200.0753         ArBr, NH2  MFCD00008189             73918-56-6   \n",
      "1      113.1209               NH2  MFCD28118594            107269-68-1   \n",
      "2      144.2141               NH2  MFCD00006184               123-00-2   \n",
      "3      125.1712               NH2  MFCD00009819              5036-48-6   \n",
      "4      113.2001               NH2  MFCD00001495  33483-65-7, 6321-23-9   \n",
      "...         ...               ...           ...                    ...   \n",
      "21758  268.2752         NH2, BocN  MFCD11848049           1260901-24-3   \n",
      "21759  348.4784       ArNH2, BocN  MFCD26407295           1032903-63-1   \n",
      "21760  389.3189  ArCl, ArCl, BocN  MFCD24371919           1420967-86-7   \n",
      "21761  375.2924  ArCl, ArCl, BocN  MFCD24371912           1420880-08-5   \n",
      "21762  242.3138         NH2, BocN  MFCD18793344           1273565-93-7   \n",
      "\n",
      "                                               SMILES  solid_stock(mg)  \n",
      "0                                  NCCC1=CC=C(Br)C=C1         99965.61  \n",
      "1                                      NCC1=NN(C)N=N1         99873.77  \n",
      "2                                        NCCCN1CCOCC1         49969.31  \n",
      "3                                       NCCCN1C=NC=C1         39435.96  \n",
      "4                                        CC1CCC(N)CC1         32298.82  \n",
      "...                                               ...              ...  \n",
      "21758             CC(C)(C)OC(=O)N1CC(CC1)(CN)C(F)(F)F            50.71  \n",
      "21759    CC(C)Oc1cc(c(C)cc1N)C2CCN(CC2)C(=O)OC(C)(C)C            50.57  \n",
      "21760  Clc1nc(Cl)c(cn1)CN(C)CC2N(CCCC2)C(=O)OC(C)(C)C            50.00  \n",
      "21761     Clc1nc(Cl)c(cn1)CNCC2N(CCCC2)C(=O)OC(C)(C)C            50.00  \n",
      "21762   CC(C)(C)OC(=O)N1C[C@@H]2[C@@H](OC[C@@H]2CN)C1            50.00  \n",
      "\n",
      "[21763 rows x 6 columns]\n"
     ]
    }
   ],
   "source": [
    "df_wuxi_raw = pd.concat(pd.read_excel('../Available building blocks.xlsx', sheet_name = None), ignore_index = True)\n",
    "\n",
    "print(df_wuxi_raw)"
   ]
  },
  {
   "cell_type": "code",
   "execution_count": 28,
   "id": "5aa0ced9",
   "metadata": {},
   "outputs": [
    {
     "name": "stdout",
     "output_type": "stream",
     "text": [
      "             MW            group          MFCD                    CAS  \\\n",
      "0      200.0753        ArBr, NH2  MFCD00008189             73918-56-6   \n",
      "1      113.1209              NH2  MFCD28118594            107269-68-1   \n",
      "2      144.2141              NH2  MFCD00006184               123-00-2   \n",
      "3      125.1712              NH2  MFCD00009819              5036-48-6   \n",
      "4      113.2001              NH2  MFCD00001495  33483-65-7, 6321-23-9   \n",
      "...         ...              ...           ...                    ...   \n",
      "21754  246.2596       COOH, BocN  MFCD00065571             13726-85-7   \n",
      "21755  346.4197       COOH, BocN  MFCD24369442           1823807-74-4   \n",
      "21756  265.3042       COOH, BocN  MFCD02090695             14676-01-8   \n",
      "21757  270.3239  COOH, BocN, C=C  MFCD07369763            870703-78-9   \n",
      "21759  348.4784      ArNH2, BocN  MFCD26407295           1032903-63-1   \n",
      "\n",
      "                                                  SMILES  solid_stock(mg)  \n",
      "0                                     NCCC1=CC=C(Br)C=C1         99965.61  \n",
      "1                                         NCC1=NN(C)N=N1         99873.77  \n",
      "2                                           NCCCN1CCOCC1         49969.31  \n",
      "3                                          NCCCN1C=NC=C1         39435.96  \n",
      "4                                           CC1CCC(N)CC1         32298.82  \n",
      "...                                                  ...              ...  \n",
      "21754              NC(=O)CC[C@@H](C(O)=O)NC(=O)OC(C)(C)C            51.76  \n",
      "21755  c1ccc(cc1)CN2CC3(CN(C(=O)OC(C)(C)C)C3)C(C(O)=O)C2            51.64  \n",
      "21756                  OC(=O)CC(NC(=O)OC(C)(C)C)c1ccccc1            51.06  \n",
      "21757               C=CC(C(O)=O)N1CCN(CC1)C(=O)OC(C)(C)C            50.92  \n",
      "21759       CC(C)Oc1cc(c(C)cc1N)C2CCN(CC2)C(=O)OC(C)(C)C            50.57  \n",
      "\n",
      "[19035 rows x 6 columns]\n"
     ]
    }
   ],
   "source": [
    "df_wuxi = df_wuxi_raw.drop_duplicates()\n",
    "\n",
    "print(df_wuxi)"
   ]
  },
  {
   "cell_type": "code",
   "execution_count": 29,
   "id": "c094406e",
   "metadata": {},
   "outputs": [
    {
     "name": "stdout",
     "output_type": "stream",
     "text": [
      "['ArBr', 'NH2', 'BocN', 'COOMe', 'OH', 'COOH', 'FmocN', 'C≡C', 'ArCl', 'C=C', 'X', 'CbzN', 'COOEt', 'COOtBu', 'B(OH)2', 'ArNO2', 'NH', 'RCOR', 'CHO', 'ArI', 'ArF', 'NO2', 'ArNH', 'ArOH', 'CN', 'Bpin', 'COOiPr', 'N3', 'B(OCR)2', 'NH2COOH', 'BF3K', 'ArNH2', 'AllocN', 'SO2Cl', 'SO2F', 'CONH', 'SO2Na', 'CF3CH2O', 'NCO', 'BrCH2CO']\n",
      "             MW            group          MFCD                    CAS  \\\n",
      "0      200.0753        ArBr, NH2  MFCD00008189             73918-56-6   \n",
      "1      113.1209              NH2  MFCD28118594            107269-68-1   \n",
      "2      144.2141              NH2  MFCD00006184               123-00-2   \n",
      "3      125.1712              NH2  MFCD00009819              5036-48-6   \n",
      "4      113.2001              NH2  MFCD00001495  33483-65-7, 6321-23-9   \n",
      "...         ...              ...           ...                    ...   \n",
      "21754  246.2596       COOH, BocN  MFCD00065571             13726-85-7   \n",
      "21755  346.4197       COOH, BocN  MFCD24369442           1823807-74-4   \n",
      "21756  265.3042       COOH, BocN  MFCD02090695             14676-01-8   \n",
      "21757  270.3239  COOH, BocN, C=C  MFCD07369763            870703-78-9   \n",
      "21759  348.4784      ArNH2, BocN  MFCD26407295           1032903-63-1   \n",
      "\n",
      "                                                  SMILES  solid_stock(mg)  \\\n",
      "0                                     NCCC1=CC=C(Br)C=C1         99965.61   \n",
      "1                                         NCC1=NN(C)N=N1         99873.77   \n",
      "2                                           NCCCN1CCOCC1         49969.31   \n",
      "3                                          NCCCN1C=NC=C1         39435.96   \n",
      "4                                           CC1CCC(N)CC1         32298.82   \n",
      "...                                                  ...              ...   \n",
      "21754              NC(=O)CC[C@@H](C(O)=O)NC(=O)OC(C)(C)C            51.76   \n",
      "21755  c1ccc(cc1)CN2CC3(CN(C(=O)OC(C)(C)C)C3)C(C(O)=O)C2            51.64   \n",
      "21756                  OC(=O)CC(NC(=O)OC(C)(C)C)c1ccccc1            51.06   \n",
      "21757               C=CC(C(O)=O)N1CCN(CC1)C(=O)OC(C)(C)C            50.92   \n",
      "21759       CC(C)Oc1cc(c(C)cc1N)C2CCN(CC2)C(=O)OC(C)(C)C            50.57   \n",
      "\n",
      "       ArBr  NH2  BocN  COOMe  ...  BF3K  ArNH2  AllocN  SO2Cl  SO2F  CONH  \\\n",
      "0         0    0     0      0  ...     0      0       0      0     0     0   \n",
      "1         0    0     0      0  ...     0      0       0      0     0     0   \n",
      "2         0    0     0      0  ...     0      0       0      0     0     0   \n",
      "3         0    0     0      0  ...     0      0       0      0     0     0   \n",
      "4         0    0     0      0  ...     0      0       0      0     0     0   \n",
      "...     ...  ...   ...    ...  ...   ...    ...     ...    ...   ...   ...   \n",
      "21754     0    0     0      0  ...     0      0       0      0     0     0   \n",
      "21755     0    0     0      0  ...     0      0       0      0     0     0   \n",
      "21756     0    0     0      0  ...     0      0       0      0     0     0   \n",
      "21757     0    0     0      0  ...     0      0       0      0     0     0   \n",
      "21759     0    0     0      0  ...     0      0       0      0     0     0   \n",
      "\n",
      "       SO2Na  CF3CH2O  NCO  BrCH2CO  \n",
      "0          0        0    0        0  \n",
      "1          0        0    0        0  \n",
      "2          0        0    0        0  \n",
      "3          0        0    0        0  \n",
      "4          0        0    0        0  \n",
      "...      ...      ...  ...      ...  \n",
      "21754      0        0    0        0  \n",
      "21755      0        0    0        0  \n",
      "21756      0        0    0        0  \n",
      "21757      0        0    0        0  \n",
      "21759      0        0    0        0  \n",
      "\n",
      "[19035 rows x 46 columns]\n"
     ]
    },
    {
     "name": "stderr",
     "output_type": "stream",
     "text": [
      "/home/peter/anaconda3/envs/rdkit/lib/python3.7/site-packages/ipykernel_launcher.py:15: SettingWithCopyWarning: \n",
      "A value is trying to be set on a copy of a slice from a DataFrame.\n",
      "Try using .loc[row_indexer,col_indexer] = value instead\n",
      "\n",
      "See the caveats in the documentation: https://pandas.pydata.org/pandas-docs/stable/user_guide/indexing.html#returning-a-view-versus-a-copy\n",
      "  from ipykernel import kernelapp as app\n"
     ]
    }
   ],
   "source": [
    "col = []\n",
    "for i in range(0, len(df_wuxi)):\n",
    "    a = df_wuxi.iloc[i]['group']\n",
    "    b = a.replace(\" \", \"\")\n",
    "    c = b.split(',')\n",
    "    #print(a, b, c)\n",
    "    for j in c:\n",
    "        if j not in col:\n",
    "            col.append(j)\n",
    "        #print(col)\n",
    "\n",
    "print(col)\n",
    "\n",
    "for i in col:\n",
    "    df_wuxi[i] = 0\n",
    "\n",
    "print(df_wuxi)"
   ]
  },
  {
   "cell_type": "code",
   "execution_count": 41,
   "id": "d84a1da6",
   "metadata": {},
   "outputs": [
    {
     "name": "stdout",
     "output_type": "stream",
     "text": [
      "             MW            group          MFCD                    CAS  \\\n",
      "0      200.0753        ArBr, NH2  MFCD00008189             73918-56-6   \n",
      "1      113.1209              NH2  MFCD28118594            107269-68-1   \n",
      "2      144.2141              NH2  MFCD00006184               123-00-2   \n",
      "3      125.1712              NH2  MFCD00009819              5036-48-6   \n",
      "4      113.2001              NH2  MFCD00001495  33483-65-7, 6321-23-9   \n",
      "...         ...              ...           ...                    ...   \n",
      "21754  246.2596       COOH, BocN  MFCD00065571             13726-85-7   \n",
      "21755  346.4197       COOH, BocN  MFCD24369442           1823807-74-4   \n",
      "21756  265.3042       COOH, BocN  MFCD02090695             14676-01-8   \n",
      "21757  270.3239  COOH, BocN, C=C  MFCD07369763            870703-78-9   \n",
      "21759  348.4784      ArNH2, BocN  MFCD26407295           1032903-63-1   \n",
      "\n",
      "                                                  SMILES  solid_stock(mg)  \\\n",
      "0                                     NCCC1=CC=C(Br)C=C1         99965.61   \n",
      "1                                         NCC1=NN(C)N=N1         99873.77   \n",
      "2                                           NCCCN1CCOCC1         49969.31   \n",
      "3                                          NCCCN1C=NC=C1         39435.96   \n",
      "4                                           CC1CCC(N)CC1         32298.82   \n",
      "...                                                  ...              ...   \n",
      "21754              NC(=O)CC[C@@H](C(O)=O)NC(=O)OC(C)(C)C            51.76   \n",
      "21755  c1ccc(cc1)CN2CC3(CN(C(=O)OC(C)(C)C)C3)C(C(O)=O)C2            51.64   \n",
      "21756                  OC(=O)CC(NC(=O)OC(C)(C)C)c1ccccc1            51.06   \n",
      "21757               C=CC(C(O)=O)N1CCN(CC1)C(=O)OC(C)(C)C            50.92   \n",
      "21759       CC(C)Oc1cc(c(C)cc1N)C2CCN(CC2)C(=O)OC(C)(C)C            50.57   \n",
      "\n",
      "       ArBr  NH2  BocN  COOMe  ...  BF3K  ArNH2  AllocN  SO2Cl  SO2F  CONH  \\\n",
      "0         1    1     0      0  ...     0      0       0      0     0     0   \n",
      "1         0    1     0      0  ...     0      0       0      0     0     0   \n",
      "2         0    1     0      0  ...     0      0       0      0     0     0   \n",
      "3         0    1     0      0  ...     0      0       0      0     0     0   \n",
      "4         0    1     0      0  ...     0      0       0      0     0     0   \n",
      "...     ...  ...   ...    ...  ...   ...    ...     ...    ...   ...   ...   \n",
      "21754     0    0     1      0  ...     0      0       0      0     0     0   \n",
      "21755     0    0     1      0  ...     0      0       0      0     0     0   \n",
      "21756     0    0     1      0  ...     0      0       0      0     0     0   \n",
      "21757     0    0     1      0  ...     0      0       0      0     0     0   \n",
      "21759     0    0     1      0  ...     0      1       0      0     0     0   \n",
      "\n",
      "       SO2Na  CF3CH2O  NCO  BrCH2CO  \n",
      "0          0        0    0        0  \n",
      "1          0        0    0        0  \n",
      "2          0        0    0        0  \n",
      "3          0        0    0        0  \n",
      "4          0        0    0        0  \n",
      "...      ...      ...  ...      ...  \n",
      "21754      0        0    0        0  \n",
      "21755      0        0    0        0  \n",
      "21756      0        0    0        0  \n",
      "21757      0        0    0        0  \n",
      "21759      0        0    0        0  \n",
      "\n",
      "[19035 rows x 46 columns]\n"
     ]
    }
   ],
   "source": [
    "for i in range(0, len(df_wuxi)):\n",
    "    a = df_wuxi.iloc[i]['group']\n",
    "    b = a.replace(\" \", \"\")\n",
    "    c = b.split(',')\n",
    "    d = df_wuxi.index[i]\n",
    "    #print(d, c)\n",
    "    for j in c:\n",
    "        #print(d, j)\n",
    "        df_wuxi.loc[d,j] = 1\n",
    "    #print(df_wuxi.iloc[i])\n",
    "\n",
    "print(df_wuxi)"
   ]
  },
  {
   "cell_type": "code",
   "execution_count": null,
   "id": "ba84d0bc",
   "metadata": {},
   "outputs": [],
   "source": []
  }
 ],
 "metadata": {
  "kernelspec": {
   "display_name": "Python [conda env:rdkit] *",
   "language": "python",
   "name": "conda-env-rdkit-py"
  },
  "language_info": {
   "codemirror_mode": {
    "name": "ipython",
    "version": 3
   },
   "file_extension": ".py",
   "mimetype": "text/x-python",
   "name": "python",
   "nbconvert_exporter": "python",
   "pygments_lexer": "ipython3",
   "version": "3.7.11"
  }
 },
 "nbformat": 4,
 "nbformat_minor": 5
}
